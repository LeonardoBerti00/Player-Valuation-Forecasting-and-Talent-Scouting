{
 "cells": [
  {
   "cell_type": "code",
   "execution_count": 43,
   "metadata": {
    "collapsed": true
   },
   "outputs": [],
   "source": [
    "# load packages\n",
    "import numpy as np\n",
    "import matplotlib.pyplot as plt\n",
    "from datetime import datetime\n",
    "from tqdm import tqdm, trange\n",
    "from sklearn.metrics import accuracy_score, classification_report, confusion_matrix, ConfusionMatrixDisplay\n",
    "import torch\n",
    "from torch.utils import data\n",
    "import torch.nn as nn\n",
    "import torch.optim as optim\n",
    "\n",
    "# Log in to your W&B account\n",
    "\n",
    "device = torch.device(\"cuda:0\" if torch.cuda.is_available() else \"cpu\")"
   ]
  },
  {
   "cell_type": "code",
   "execution_count": 44,
   "outputs": [
    {
     "data": {
      "text/plain": "device(type='cpu')"
     },
     "execution_count": 44,
     "metadata": {},
     "output_type": "execute_result"
    }
   ],
   "source": [
    "device"
   ],
   "metadata": {
    "collapsed": false
   }
  },
  {
   "cell_type": "code",
   "execution_count": null,
   "outputs": [],
   "source": [
    "df[\"competitions_id_binary\"] = pd.to"
   ],
   "metadata": {
    "collapsed": false
   }
  },
  {
   "cell_type": "code",
   "execution_count": 57,
   "outputs": [
    {
     "name": "stdout",
     "output_type": "stream",
     "text": [
      "<class 'pandas.core.frame.DataFrame'>\n",
      "RangeIndex: 135878 entries, 0 to 135877\n",
      "Data columns (total 23 columns):\n",
      " #   Column                      Non-Null Count   Dtype         \n",
      "---  ------                      --------------   -----         \n",
      " 0   player_id                   135878 non-null  float64       \n",
      " 1   date_v                      135878 non-null  datetime64[ns]\n",
      " 2   market_value                135878 non-null  int64         \n",
      " 3   age                         135878 non-null  int64         \n",
      " 4   height                      135878 non-null  int64         \n",
      " 5   assists                     135878 non-null  int64         \n",
      " 6   goals                       135878 non-null  int64         \n",
      " 7   minutes_played              135878 non-null  int64         \n",
      " 8   red_cards                   135878 non-null  int64         \n",
      " 9   yellow_cards                135878 non-null  int64         \n",
      " 10  last_valuation              135878 non-null  int64         \n",
      " 11  appearances                 135878 non-null  int64         \n",
      " 12  games_won_pl                135878 non-null  int64         \n",
      " 13  games_draw_pl               135878 non-null  int64         \n",
      " 14  games_lost_pl               135878 non-null  int64         \n",
      " 15  winning_rate_pl             135878 non-null  float64       \n",
      " 16  winning_rate_club           135878 non-null  float64       \n",
      " 17  current_club_id_binary      135878 non-null  int64         \n",
      " 18  citizenship_encoded_binary  135878 non-null  int64         \n",
      " 19  position_binary             135878 non-null  int64         \n",
      " 20  sub_position_binary         135878 non-null  int64         \n",
      " 21  competitions_id_binary      135878 non-null  object        \n",
      " 22  clubs_id_binary             135878 non-null  object        \n",
      "dtypes: datetime64[ns](1), float64(3), int64(17), object(2)\n",
      "memory usage: 23.8+ MB\n",
      "None\n"
     ]
    }
   ],
   "source": [
    "print(df.info())"
   ],
   "metadata": {
    "collapsed": false
   }
  },
  {
   "cell_type": "markdown",
   "source": [
    "The train/val/test sets split will be 70/10/20"
   ],
   "metadata": {
    "collapsed": false
   }
  },
  {
   "cell_type": "code",
   "execution_count": 51,
   "outputs": [],
   "source": [
    "df = pd.read_csv(\"dataset.csv\")\n",
    "\n",
    "total_rows = df.shape[0]\n",
    "train_end = int(total_rows*0.7)\n",
    "val_end = int(total_rows*0.8)\n",
    "labels = df['market_value'].values\n",
    "\n",
    "train_set = df.drop(\"market_value\", axis=1).iloc[:train_end].values\n",
    "val_set = df.drop(\"market_value\", axis=1).iloc[train_end:val_end].values\n",
    "test_set = df.drop(\"market_value\", axis=1).iloc[val_end:].values\n",
    "\n",
    "y_train = labels[:train_end]\n",
    "y_val = labels[train_end:val_end]\n",
    "y_test = labels[val_end:]\n",
    "\n",
    "train_set_len = train_set.shape[0]\n",
    "val_set_len = val_set.shape[0]\n",
    "test_set_len = test_set.shape[0]"
   ],
   "metadata": {
    "collapsed": false
   }
  },
  {
   "cell_type": "code",
   "execution_count": 36,
   "outputs": [
    {
     "name": "stdout",
     "output_type": "stream",
     "text": [
      "the len of train set is: 95114\n",
      "the len of validation set is: 13588\n",
      "the len of test set is: 27176\n"
     ]
    }
   ],
   "source": [
    "print(\"the len of train set is: {}\".format(train_set_len))\n",
    "print(\"the len of validation set is: {}\".format(val_set_len))\n",
    "print(\"the len of test set is: {}\".format(test_set_len))"
   ],
   "metadata": {
    "collapsed": false
   }
  },
  {
   "cell_type": "code",
   "execution_count": 53,
   "outputs": [],
   "source": [
    "class Dataset(data.Dataset):\n",
    "    \"\"\"Characterizes a dataset for PyTorch\"\"\"\n",
    "    def __init__(self, x, y, length):\n",
    "        \"\"\"Initialization\"\"\"\n",
    "\n",
    "        self.length = length\n",
    "        self.y = torch.tensor(y, device=device)\n",
    "        self.x = torch.tensor(x, device=device)\n",
    "\n",
    "    def __len__(self):\n",
    "        \"\"\"Denotes the total number of samples\"\"\"\n",
    "        return self.length\n",
    "\n",
    "    def __getitem__(self, i):\n",
    "\n",
    "        return self.x[i], self.y[i]"
   ],
   "metadata": {
    "collapsed": false
   }
  },
  {
   "cell_type": "code",
   "execution_count": 54,
   "outputs": [
    {
     "ename": "TypeError",
     "evalue": "can't convert np.ndarray of type numpy.object_. The only supported types are: float64, float32, float16, complex64, complex128, int64, int32, int16, int8, uint8, and bool.",
     "output_type": "error",
     "traceback": [
      "\u001B[1;31m---------------------------------------------------------------------------\u001B[0m",
      "\u001B[1;31mTypeError\u001B[0m                                 Traceback (most recent call last)",
      "Cell \u001B[1;32mIn[54], line 1\u001B[0m\n\u001B[1;32m----> 1\u001B[0m dataset_val \u001B[38;5;241m=\u001B[39m \u001B[43mDataset\u001B[49m\u001B[43m(\u001B[49m\u001B[43mval_set\u001B[49m\u001B[43m,\u001B[49m\u001B[43m \u001B[49m\u001B[43my_val\u001B[49m\u001B[43m,\u001B[49m\u001B[43m \u001B[49m\u001B[43mval_set_len\u001B[49m\u001B[43m)\u001B[49m\n\u001B[0;32m      2\u001B[0m dataset_test \u001B[38;5;241m=\u001B[39m Dataset(test_set, y_test, test_set_len)\n\u001B[0;32m      3\u001B[0m dataset_train \u001B[38;5;241m=\u001B[39m Dataset(train_set, y_train, train_set_len)\n",
      "Cell \u001B[1;32mIn[53], line 8\u001B[0m, in \u001B[0;36mDataset.__init__\u001B[1;34m(self, x, y, length)\u001B[0m\n\u001B[0;32m      6\u001B[0m \u001B[38;5;28mself\u001B[39m\u001B[38;5;241m.\u001B[39mlength \u001B[38;5;241m=\u001B[39m length\n\u001B[0;32m      7\u001B[0m \u001B[38;5;28mself\u001B[39m\u001B[38;5;241m.\u001B[39my \u001B[38;5;241m=\u001B[39m torch\u001B[38;5;241m.\u001B[39mtensor(y, device\u001B[38;5;241m=\u001B[39mdevice)\n\u001B[1;32m----> 8\u001B[0m \u001B[38;5;28mself\u001B[39m\u001B[38;5;241m.\u001B[39mx \u001B[38;5;241m=\u001B[39m \u001B[43mtorch\u001B[49m\u001B[38;5;241;43m.\u001B[39;49m\u001B[43mtensor\u001B[49m\u001B[43m(\u001B[49m\u001B[43mx\u001B[49m\u001B[43m,\u001B[49m\u001B[43m \u001B[49m\u001B[43mdevice\u001B[49m\u001B[38;5;241;43m=\u001B[39;49m\u001B[43mdevice\u001B[49m\u001B[43m)\u001B[49m\n",
      "\u001B[1;31mTypeError\u001B[0m: can't convert np.ndarray of type numpy.object_. The only supported types are: float64, float32, float16, complex64, complex128, int64, int32, int16, int8, uint8, and bool."
     ]
    }
   ],
   "source": [
    "dataset_val = Dataset(val_set, y_val, val_set_len)\n",
    "dataset_test = Dataset(test_set, y_test, test_set_len)\n",
    "dataset_train = Dataset(train_set, y_train, train_set_len)"
   ],
   "metadata": {
    "collapsed": false
   }
  },
  {
   "cell_type": "code",
   "execution_count": null,
   "outputs": [],
   "source": [],
   "metadata": {
    "collapsed": false
   }
  }
 ],
 "metadata": {
  "kernelspec": {
   "display_name": "Python 3",
   "language": "python",
   "name": "python3"
  },
  "language_info": {
   "codemirror_mode": {
    "name": "ipython",
    "version": 2
   },
   "file_extension": ".py",
   "mimetype": "text/x-python",
   "name": "python",
   "nbconvert_exporter": "python",
   "pygments_lexer": "ipython2",
   "version": "2.7.6"
  }
 },
 "nbformat": 4,
 "nbformat_minor": 0
}
