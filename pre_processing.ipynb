{
 "cells": [
  {
   "attachments": {},
   "cell_type": "markdown",
   "metadata": {},
   "source": [
    "# Pre Processing\n",
    "**In this file, we will analyze the initial dataset consisting of CSV files in order to create the final dataset. The final dataset, composed of the relevant columns, will be used to train the predictive models**"
   ]
  },
  {
   "attachments": {},
   "cell_type": "markdown",
   "metadata": {},
   "source": [
    "Imported libraries"
   ]
  },
  {
   "cell_type": "code",
   "execution_count": 1,
   "metadata": {
    "ExecuteTime": {
     "end_time": "2023-05-12T14:03:58.232458400Z",
     "start_time": "2023-05-12T14:03:58.126458300Z"
    }
   },
   "outputs": [],
   "source": [
    "import pyspark\n",
    "from pyspark.sql import *\n",
    "from pyspark.sql.types import *\n",
    "from pyspark.sql.functions import *\n",
    "from pyspark import SparkContext, SparkConf\n",
    "import numpy as np\n",
    "from pyspark.sql.functions import udf\n",
    "from pyspark.sql.types import BinaryType\n",
    "from pyspark.sql import SparkSession\n",
    "from pyspark.conf import SparkConf"
   ]
  },
  {
   "attachments": {},
   "cell_type": "markdown",
   "metadata": {},
   "source": [
    "Creating the pyspark session"
   ]
  },
  {
   "cell_type": "code",
   "execution_count": 2,
   "metadata": {
    "ExecuteTime": {
     "end_time": "2023-05-12T14:04:00.917383400Z",
     "start_time": "2023-05-12T14:03:58.232991400Z"
    }
   },
   "outputs": [
    {
     "data": {
      "text/plain": [
       "[('spark.driver.extraJavaOptions',\n",
       "  '-XX:+IgnoreUnrecognizedVMOptions --add-opens=java.base/java.lang=ALL-UNNAMED --add-opens=java.base/java.lang.invoke=ALL-UNNAMED --add-opens=java.base/java.lang.reflect=ALL-UNNAMED --add-opens=java.base/java.io=ALL-UNNAMED --add-opens=java.base/java.net=ALL-UNNAMED --add-opens=java.base/java.nio=ALL-UNNAMED --add-opens=java.base/java.util=ALL-UNNAMED --add-opens=java.base/java.util.concurrent=ALL-UNNAMED --add-opens=java.base/java.util.concurrent.atomic=ALL-UNNAMED --add-opens=java.base/sun.nio.ch=ALL-UNNAMED --add-opens=java.base/sun.nio.cs=ALL-UNNAMED --add-opens=java.base/sun.security.action=ALL-UNNAMED --add-opens=java.base/sun.util.calendar=ALL-UNNAMED --add-opens=java.security.jgss/sun.security.krb5=ALL-UNNAMED'),\n",
       " ('spark.executor.memory', '15G'),\n",
       " ('spark.driver.host', 'MarcoPC.homenet.telecomitalia.it'),\n",
       " ('spark.driver.port', '56399'),\n",
       " ('spark.executor.id', 'driver'),\n",
       " ('spark.driver.memory', '50G'),\n",
       " ('spark.app.submitTime', '1683992711715'),\n",
       " ('spark.executor.cores', '10'),\n",
       " ('spark.app.name', 'PySparkProject'),\n",
       " ('spark.ui.port', '4050'),\n",
       " ('spark.driver.maxResultSize', '40G'),\n",
       " ('spark.rdd.compress', 'True'),\n",
       " ('spark.executor.extraJavaOptions',\n",
       "  '-XX:+IgnoreUnrecognizedVMOptions --add-opens=java.base/java.lang=ALL-UNNAMED --add-opens=java.base/java.lang.invoke=ALL-UNNAMED --add-opens=java.base/java.lang.reflect=ALL-UNNAMED --add-opens=java.base/java.io=ALL-UNNAMED --add-opens=java.base/java.net=ALL-UNNAMED --add-opens=java.base/java.nio=ALL-UNNAMED --add-opens=java.base/java.util=ALL-UNNAMED --add-opens=java.base/java.util.concurrent=ALL-UNNAMED --add-opens=java.base/java.util.concurrent.atomic=ALL-UNNAMED --add-opens=java.base/sun.nio.ch=ALL-UNNAMED --add-opens=java.base/sun.nio.cs=ALL-UNNAMED --add-opens=java.base/sun.security.action=ALL-UNNAMED --add-opens=java.base/sun.util.calendar=ALL-UNNAMED --add-opens=java.security.jgss/sun.security.krb5=ALL-UNNAMED'),\n",
       " ('spark.app.id', 'local-1683992712944'),\n",
       " ('spark.app.startTime', '1683992711837'),\n",
       " ('spark.serializer.objectStreamReset', '100'),\n",
       " ('spark.master', 'local[*]'),\n",
       " ('spark.submit.pyFiles', ''),\n",
       " ('spark.submit.deployMode', 'client'),\n",
       " ('spark.ui.showConsoleProgress', 'true')]"
      ]
     },
     "execution_count": 2,
     "metadata": {},
     "output_type": "execute_result"
    }
   ],
   "source": [
    "# Create the session\n",
    "conf = SparkConf(). \\\n",
    "    set('spark.ui.port', \"4050\"). \\\n",
    "    set('spark.executor.memory', '15G'). \\\n",
    "    set('spark.driver.memory', '50G'). \\\n",
    "    set('spark.driver.maxResultSize', '40G'). \\\n",
    "    setAppName(\"PySparkProject\"). \\\n",
    "    set('spark.executor.cores', \"10\"). \\\n",
    "    setMaster(\"local[*]\")\n",
    "\n",
    "sc = pyspark.SparkContext.getOrCreate(conf=conf)\n",
    "spark = SparkSession.builder.getOrCreate()\n",
    "\n",
    "sc._conf.getAll()"
   ]
  },
  {
   "attachments": {},
   "cell_type": "markdown",
   "metadata": {},
   "source": [
    "**Work on dataset begins**"
   ]
  },
  {
   "attachments": {},
   "cell_type": "markdown",
   "metadata": {},
   "source": [
    "Loading dataframes"
   ]
  },
  {
   "cell_type": "code",
   "execution_count": 3,
   "metadata": {
    "ExecuteTime": {
     "end_time": "2023-05-12T14:04:05.433821200Z",
     "start_time": "2023-05-12T14:04:00.913382200Z"
    }
   },
   "outputs": [],
   "source": [
    "# load the cvs files into dataframes\n",
    "path = \"C:/Users/marco/Desktop\"\n",
    "\n",
    "try:\n",
    "    df_appearances = spark.read.csv(\"archive/appearances.csv\", header=True, inferSchema=True)\n",
    "    df_club_games = spark.read.csv(\"archive/club_games.csv\", header=True, inferSchema=True)\n",
    "    df_clubs = spark.read.csv(\"archive/clubs.csv\", header=True, inferSchema=True)\n",
    "    df_competitions = spark.read.csv(\"archive/competitions.csv\", header=True, inferSchema=True)\n",
    "    df_game_events = spark.read.csv(\"archive/game_events.csv\", header=True, inferSchema=True)\n",
    "    df_games = spark.read.csv(\"archive/games.csv\", header=True, inferSchema=True)\n",
    "    df_player_valuations = spark.read.csv(\"archive/player_valuations.csv\", header=True, inferSchema=True)\n",
    "    df_players = spark.read.csv(\"archive/players.csv\", header=True, inferSchema=True)\n",
    "except Exception:\n",
    "    df_appearances = spark.read.csv(path+\"/archive/appearances.csv\", header=True, inferSchema=True)\n",
    "    df_club_games = spark.read.csv(path+\"/archive/club_games.csv\", header=True, inferSchema=True)\n",
    "    df_clubs = spark.read.csv(path+\"/archive/clubs.csv\", header=True, inferSchema=True)\n",
    "    df_competitions = spark.read.csv(path+\"/archive/competitions.csv\", header=True, inferSchema=True)\n",
    "    df_game_events = spark.read.csv(path+\"/archive/game_events.csv\", header=True, inferSchema=True)\n",
    "    df_games = spark.read.csv(path+\"/archive/games.csv\", header=True, inferSchema=True)\n",
    "    df_player_valuations = spark.read.csv(path+\"/archive/player_valuations.csv\", header=True, inferSchema=True)\n",
    "    df_players = spark.read.csv(path+\"/archive/players.csv\", header=True, inferSchema=True)"
   ]
  },
  {
   "cell_type": "code",
   "execution_count": 4,
   "metadata": {
    "ExecuteTime": {
     "end_time": "2023-05-12T14:04:05.449330400Z",
     "start_time": "2023-05-12T14:04:05.434817400Z"
    }
   },
   "outputs": [],
   "source": [
    "# drop duplicates df_club_games\n",
    "df_club_games = df_club_games.dropDuplicates(['club_id', 'own_goals', 'own_position', 'own_manager_name', 'opponent_id', 'opponent_goals', 'opponent_position', 'opponent_manager_name', 'hosting', 'is_win'])"
   ]
  },
  {
   "cell_type": "code",
   "execution_count": 5,
   "metadata": {
    "ExecuteTime": {
     "end_time": "2023-05-12T14:04:05.476041400Z",
     "start_time": "2023-05-12T14:04:05.450832800Z"
    }
   },
   "outputs": [],
   "source": [
    "# drop duplicates df_games\n",
    "df_games = df_games.dropDuplicates(['home_club_id', 'away_club_id', 'date'])"
   ]
  },
  {
   "cell_type": "code",
   "execution_count": 6,
   "metadata": {
    "ExecuteTime": {
     "end_time": "2023-05-12T14:04:05.523640600Z",
     "start_time": "2023-05-12T14:04:05.465162400Z"
    }
   },
   "outputs": [],
   "source": [
    "# delete from df_appareances the instances where player_club_id is not in the df_clubs dataframe (club ids)\n",
    "# beacuse in df_appereances there are some player_club_id that do not exist\n",
    "df_appearances = df_appearances.join(df_clubs, df_appearances.player_club_id == df_clubs.club_id, 'inner').select(df_appearances.columns)"
   ]
  },
  {
   "cell_type": "code",
   "execution_count": 7,
   "metadata": {
    "ExecuteTime": {
     "end_time": "2023-05-12T14:04:05.542402600Z",
     "start_time": "2023-05-12T14:04:05.511209500Z"
    }
   },
   "outputs": [],
   "source": [
    "# join players and appearances\n",
    "df_players_appearances = df_players.join(df_appearances, [\"player_id\"], how='inner')"
   ]
  },
  {
   "cell_type": "code",
   "execution_count": 8,
   "metadata": {
    "ExecuteTime": {
     "end_time": "2023-05-12T14:04:05.574437200Z",
     "start_time": "2023-05-12T14:04:05.544395800Z"
    }
   },
   "outputs": [],
   "source": [
    " # join players_appearances and club_games to extract information about the games played by the player\n",
    "#rinomina player_club_id in club_id\n",
    "df_players_appearances = df_players_appearances.withColumnRenamed(\"player_club_id\", \"club_id\")\n",
    "df_players_appearances = df_players_appearances.join(df_club_games, [\"game_id\", \"club_id\"], how='inner')"
   ]
  },
  {
   "cell_type": "code",
   "execution_count": 9,
   "metadata": {
    "ExecuteTime": {
     "end_time": "2023-05-12T14:04:05.588824500Z",
     "start_time": "2023-05-12T14:04:05.574973Z"
    }
   },
   "outputs": [],
   "source": [
    "# drop useless and duplicated features from df_players_appearances\n",
    "df_players_appearances = df_players_appearances.drop(\"current_club_id\", \"appearance_id\",\n",
    "                                                        \"highest_market_value_in_eur\", \"current_club_name\",\n",
    "                                                        \"city_of_birth\", \"market_value_in_eur\",\n",
    "                                                        \"contract_expiration_date\", \"agent_name\",\n",
    "                                                        \"current_club_domestic_competition_id\", \"image_url\",\n",
    "                                                        \"last_season\", \"url\", \"player_current_club_id\",\n",
    "                                                        \"first_name\", \"last_name\", \"player_name\", \"player_code\")"
   ]
  },
  {
   "cell_type": "code",
   "execution_count": 10,
   "metadata": {
    "ExecuteTime": {
     "end_time": "2023-05-12T14:04:05.608908600Z",
     "start_time": "2023-05-12T14:04:05.589335100Z"
    }
   },
   "outputs": [],
   "source": [
    "# drop useless and duplicated features from df_players_valuations\n",
    "df_player_valuations = df_player_valuations.drop(\"datetime\", \"dateweek\")"
   ]
  },
  {
   "cell_type": "code",
   "execution_count": 11,
   "metadata": {
    "ExecuteTime": {
     "end_time": "2023-05-12T14:04:05.620456100Z",
     "start_time": "2023-05-12T14:04:05.606410600Z"
    }
   },
   "outputs": [],
   "source": [
    "# rename the column date of df_players_valuations in date_v to avoid confusion with the date of df_players_appearances\n",
    "df_player_valuations = df_player_valuations.withColumnRenamed(\"date\", \"date_v\")"
   ]
  },
  {
   "cell_type": "code",
   "execution_count": 12,
   "metadata": {
    "ExecuteTime": {
     "end_time": "2023-05-12T14:04:05.646008200Z",
     "start_time": "2023-05-12T14:04:05.621452800Z"
    }
   },
   "outputs": [],
   "source": [
    "# Join the two dataframes on player_id\n",
    "df = df_player_valuations.join(df_players_appearances, \"player_id\")"
   ]
  },
  {
   "cell_type": "code",
   "execution_count": 13,
   "metadata": {
    "ExecuteTime": {
     "end_time": "2023-05-12T14:04:05.651494600Z",
     "start_time": "2023-05-12T14:04:05.636992Z"
    }
   },
   "outputs": [],
   "source": [
    "# TODO decide if we want to keep the players with no appearances, in case we have to do a union with valuations\n",
    "# adding before the zeroed column of df_players_appearances"
   ]
  },
  {
   "cell_type": "code",
   "execution_count": 14,
   "metadata": {
    "ExecuteTime": {
     "end_time": "2023-05-12T14:04:05.698044100Z",
     "start_time": "2023-05-12T14:04:05.654691500Z"
    }
   },
   "outputs": [],
   "source": [
    "# we want to keep only the rows where the appearence date is within 1 year from the valuation date\n",
    "df = df.filter(\n",
    "    (year(df.date_v) == year(df.date) + 1) & (month(df.date_v) < month(df.date)) |\n",
    "    (year(df.date_v) == year(df.date)) & (month(df.date_v) > month(df.date)) |\n",
    "    (year(df.date_v) == year(df.date)) & (month(df.date_v) == month(df.date)) & (dayofmonth(df.date_v) > dayofmonth(df.date)) |\n",
    "    (year(df.date_v) == year(df.date) + 1) & (month(df.date_v) == month(df.date)) & (dayofmonth(df.date_v) < dayofmonth(df.date))\n",
    ").dropDuplicates([\"player_id\", \"date\", \"date_v\"])"
   ]
  },
  {
   "attachments": {},
   "cell_type": "markdown",
   "metadata": {},
   "source": [
    "We add the statistics of the teams in which the player played during the year and in which the player took the field (appearance)"
   ]
  },
  {
   "cell_type": "code",
   "execution_count": 15,
   "metadata": {
    "ExecuteTime": {
     "end_time": "2023-05-12T14:04:05.808954100Z",
     "start_time": "2023-05-12T14:04:05.699126700Z"
    }
   },
   "outputs": [],
   "source": [
    "# add the is_draw to count the draws\n",
    "df = df.withColumn(\"is_draw\", when(df.own_goals == df.opponent_goals, 1).otherwise(0))\n",
    "\n",
    "# add column games_played that counts the instances with key (player_id, date_v)\n",
    "df = df.withColumn(\"appearances\", count(df.date_v).over(Window.partitionBy(\"date_v\", \"player_id\")))\n",
    "\n",
    "# add column games_won that counts the instances with key (player_id, date_v) and is_win = 1\n",
    "df = df.withColumn(\"games_won_pl\",\n",
    "                                count(when(df.own_goals > df.opponent_goals, 1)).over(Window.partitionBy(\"date_v\", \"player_id\")))\n",
    "\n",
    "# add column games_draw_pl that counts the instances with key (player_id, date_v) and is_draw = 1\n",
    "df = df.withColumn(\"games_draw_pl\",\n",
    "                                count(when(df.is_draw == 1, 1)).over(Window.partitionBy(\"date_v\", \"player_id\")))\n",
    "\n",
    "df = df.withColumn(\"games_lost_pl\", count(when(df.own_goals < df.opponent_goals, 1)).over(Window.partitionBy(\"date_v\", \"player_id\")))"
   ]
  },
  {
   "cell_type": "code",
   "execution_count": 16,
   "metadata": {
    "ExecuteTime": {
     "end_time": "2023-05-12T14:04:05.856685800Z",
     "start_time": "2023-05-12T14:04:05.806427300Z"
    }
   },
   "outputs": [],
   "source": [
    "# delete some columns\n",
    "df = df.drop(\"game_id\", \"own_goals\", \"own_position\", \"own_manager_name\", \"opponent_id\",\n",
    "                        \"opponent_goals\", \"opponent_position\", \"opponent_manager_name\", \"hosting\", \"is_win\",\n",
    "                        \"is_draw\")\n",
    "\n",
    "# for each (player_id, date_v) add a column with the result of (games_won_pl*3 + games_draw_pl)/games_played\n",
    "df = df.withColumn(\"winning_rate_pl\",\n",
    "                                    (df.games_won_pl * 3 + df.games_draw_pl) / df.appearances)"
   ]
  },
  {
   "cell_type": "code",
   "execution_count": 17,
   "metadata": {
    "ExecuteTime": {
     "end_time": "2023-05-12T14:04:05.900844100Z",
     "start_time": "2023-05-12T14:04:05.838368900Z"
    }
   },
   "outputs": [],
   "source": [
    "# Group by the player_id and the valuation date and extract all the important features\n",
    "df = df.groupBy(\n",
    "    \"player_id\", \"name\", col(\"market_value_in_eur\").alias(\"market_value\"), \"date_v\",\n",
    "    col(\"current_club_id\").alias(\"current_club_id\"), col(\"height_in_cm\").alias(\"height\"),\n",
    "    col(\"country_of_citizenship\").alias(\"citizenship\"), col(\"date_of_birth\").alias(\"date_birth\"), \"position\",\n",
    "    \"sub_position\", \"appearances\", \"games_won_pl\", \"games_draw_pl\", \"games_lost_pl\", \"winning_rate_pl\") \\\n",
    "    .agg(collect_set(\"competition_id\").alias(\"competition_id\"),\n",
    "            collect_set(\"club_id\").alias(\"club_id\"),\n",
    "            sum(\"assists\").alias(\"assists\"),\n",
    "            count(\"date_v\").alias(\"appearances2\"),\n",
    "            sum(\"goals\").alias(\"goals\"),\n",
    "            sum(\"minutes_played\").alias(\"minutes_played\"),\n",
    "            sum(\"red_cards\").alias(\"red_cards\"),\n",
    "            sum(\"yellow_cards\").alias(\"yellow_cards\"))\n",
    "\n",
    "#df.filter(df.player_id == 148455).show()"
   ]
  },
  {
   "cell_type": "code",
   "execution_count": 18,
   "metadata": {
    "ExecuteTime": {
     "end_time": "2023-05-12T14:04:05.933808200Z",
     "start_time": "2023-05-12T14:04:05.900844100Z"
    }
   },
   "outputs": [],
   "source": [
    "#add last valuation in temporal terms\n",
    "df = df.withColumn(\"last_valuation\", lag(df.market_value).over(Window.partitionBy(\"player_id\").orderBy(\"date_v\")))"
   ]
  },
  {
   "attachments": {},
   "cell_type": "markdown",
   "metadata": {},
   "source": [
    "We add the statistics of the teams in which the player played during the year"
   ]
  },
  {
   "cell_type": "code",
   "execution_count": 19,
   "metadata": {
    "ExecuteTime": {
     "end_time": "2023-05-12T14:04:05.949306Z",
     "start_time": "2023-05-12T14:04:05.931812900Z"
    }
   },
   "outputs": [],
   "source": [
    "# join club_games and games to extract the date from games\n",
    "df_club_games_join = df_club_games.join(df_games.select(\"game_id\", \"date\"), \"game_id\", how='inner')"
   ]
  },
  {
   "cell_type": "code",
   "execution_count": 20,
   "metadata": {
    "ExecuteTime": {
     "end_time": "2023-05-12T14:04:05.977953500Z",
     "start_time": "2023-05-12T14:04:05.948299500Z"
    }
   },
   "outputs": [],
   "source": [
    "# Expands the player_club_id list into separate columns\n",
    "df_result_expanded = df.withColumn(\"club_id\", explode(col(\"club_id\")))"
   ]
  },
  {
   "cell_type": "code",
   "execution_count": 21,
   "metadata": {
    "ExecuteTime": {
     "end_time": "2023-05-12T14:04:06.040310600Z",
     "start_time": "2023-05-12T14:04:05.978985600Z"
    }
   },
   "outputs": [],
   "source": [
    "# Peform join based on club_id and apply condition on date\n",
    "df = df_result_expanded.join(df_club_games_join, [\"club_id\"]) \\\n",
    "    .where(expr(\"date <= date_v AND date >= date_v - INTERVAL 1 YEAR\"))"
   ]
  },
  {
   "cell_type": "code",
   "execution_count": 22,
   "metadata": {
    "ExecuteTime": {
     "end_time": "2023-05-12T14:04:06.087020900Z",
     "start_time": "2023-05-12T14:04:06.041306900Z"
    }
   },
   "outputs": [],
   "source": [
    "# Select columns\n",
    "df = df.select(df.columns + df_club_games_join.columns)"
   ]
  },
  {
   "cell_type": "code",
   "execution_count": 23,
   "metadata": {
    "ExecuteTime": {
     "end_time": "2023-05-12T14:04:06.164927200Z",
     "start_time": "2023-05-12T14:04:06.088017500Z"
    }
   },
   "outputs": [],
   "source": [
    "# add column draw that is equal to 1 if own_goals = opponent_goals\n",
    "df = df.withColumn(\"is_draw\", when(df.own_goals == df.opponent_goals, 1).otherwise(0))\n",
    "\n",
    "#add column games_played_club that counts the instances with key (player_id, date_v)\n",
    "df = df.withColumn(\"games_played_club\", count(df.date_v).over(Window.partitionBy(\"date_v\", \"player_id\")))\n",
    "\n",
    "# add column games_won_club that counts the instances with key (player_id, date_v) and is_win = 1\n",
    "df = df.withColumn(\"games_won_club\", count(when(df.own_goals > df.opponent_goals, 1)).over(Window.partitionBy(\"date_v\", \"player_id\")))\n",
    "\n",
    "# add column games_draw_club that counts the instances with key (player_id, date_v) and is_draw = 1\n",
    "df = df.withColumn(\"games_draw_club\", count(when(df.is_draw == 1, 1)).over(Window.partitionBy(\"date_v\", \"player_id\")))\n",
    "\n",
    "# add column games_lost_club that counts the instances with key (player_id, date_v) and is_win = 0 and is_draw = 0\n",
    "df = df.withColumn(\"games_lost_club\", count(when(df.own_goals < df.opponent_goals, 1)).over(Window.partitionBy(\"date_v\", \"player_id\")))"
   ]
  },
  {
   "cell_type": "code",
   "execution_count": 24,
   "metadata": {
    "ExecuteTime": {
     "end_time": "2023-05-12T14:04:06.195364700Z",
     "start_time": "2023-05-12T14:04:06.166919600Z"
    }
   },
   "outputs": [],
   "source": [
    "#delete some columns\n",
    "df = df.drop(\"game_id\", \"own_goals\",  \"own_position\", \"own_manager_name\", \"opponent_id\", \"opponent_goals\", \"opponent_position\", \"opponent_manager_name\", \"hosting\", \"is_win\", \"date\", \"is_draw\")"
   ]
  },
  {
   "cell_type": "code",
   "execution_count": 25,
   "metadata": {
    "ExecuteTime": {
     "end_time": "2023-05-12T14:04:06.202397900Z",
     "start_time": "2023-05-12T14:04:06.180343700Z"
    }
   },
   "outputs": [],
   "source": [
    "#df = df.dropDuplicates([\"player_id\", \"date_v\"])\n",
    "df = df.dropDuplicates()"
   ]
  },
  {
   "cell_type": "code",
   "execution_count": 26,
   "metadata": {
    "ExecuteTime": {
     "end_time": "2023-05-12T14:04:06.212549800Z",
     "start_time": "2023-05-12T14:04:06.197358700Z"
    }
   },
   "outputs": [],
   "source": [
    "# for each (player_id, date_v) add a column with the result of (games_won_club*3 + games_draw_club)/games_played_club\n",
    "df = df.withColumn(\"winning_rate_club\", (df.games_won_club*3 + df.games_draw_club)/df.games_played_club)"
   ]
  },
  {
   "cell_type": "code",
   "execution_count": 27,
   "metadata": {
    "ExecuteTime": {
     "end_time": "2023-05-12T14:04:06.242283700Z",
     "start_time": "2023-05-12T14:04:06.212549800Z"
    }
   },
   "outputs": [],
   "source": [
    "#arrange columns, delete and rename some columns, aggregate club_id\n",
    "df = df.groupBy(\n",
    "    \"player_id\", \"date_v\", \"market_value\", \"name\", \"date_birth\", \"current_club_id\", \"height\", \"citizenship\", \"position\", \"sub_position\", col(\"competition_id\").alias(\"competitions_id\"),\n",
    "    \"assists\", \"goals\", \"minutes_played\", \"red_cards\", \"yellow_cards\", \"last_valuation\", \"appearances\", \"games_won_pl\", \"games_draw_pl\", \"games_lost_pl\", \"winning_rate_pl\",\n",
    "    \"games_played_club\", \"games_won_club\", \"games_draw_club\", \"games_lost_club\", \"winning_rate_club\") \\\n",
    "    .agg(collect_set(\"club_id\").alias(\"clubs_id\"))"
   ]
  },
  {
   "cell_type": "code",
   "execution_count": 28,
   "metadata": {
    "ExecuteTime": {
     "end_time": "2023-05-12T14:04:06.277043900Z",
     "start_time": "2023-05-12T14:04:06.244276400Z"
    }
   },
   "outputs": [],
   "source": [
    "# add column age that is equal to date_v - date_birth cifra intera\n",
    "df = df.withColumn(\"age\", floor(datediff(df.date_v, df.date_birth)/365))"
   ]
  },
  {
   "cell_type": "code",
   "execution_count": 29,
   "metadata": {
    "ExecuteTime": {
     "end_time": "2023-05-12T14:04:06.309240700Z",
     "start_time": "2023-05-12T14:04:06.273533200Z"
    }
   },
   "outputs": [],
   "source": [
    "# take only the first digit after the comma of winning_rate_pl and winning_rate_club\n",
    "df = df.withColumn(\"winning_rate_pl\", round(df.winning_rate_pl, 1))\n",
    "df = df.withColumn(\"winning_rate_club\", round(df.winning_rate_club, 1))"
   ]
  },
  {
   "cell_type": "code",
   "execution_count": 30,
   "metadata": {
    "ExecuteTime": {
     "end_time": "2023-05-12T14:04:06.340220900Z",
     "start_time": "2023-05-12T14:04:06.306730100Z"
    }
   },
   "outputs": [],
   "source": [
    "df = df.select(\"player_id\", \"date_v\", \"market_value\", \"name\", \"date_birth\", \"age\", \"current_club_id\", \"height\", \"citizenship\", \"position\", \"sub_position\", \"competitions_id\", \"clubs_id\",\n",
    "    \"assists\", \"goals\", \"minutes_played\", \"red_cards\", \"yellow_cards\", \"last_valuation\", \"appearances\", \"games_won_pl\", \"games_draw_pl\", \"games_lost_pl\", \"winning_rate_pl\",\n",
    "    \"games_played_club\", \"games_won_club\", \"games_draw_club\", \"games_lost_club\", \"winning_rate_club\")"
   ]
  },
  {
   "cell_type": "code",
   "execution_count": 31,
   "metadata": {
    "ExecuteTime": {
     "end_time": "2023-05-12T14:04:09.541384100Z",
     "start_time": "2023-05-12T14:04:06.337212Z"
    }
   },
   "outputs": [
    {
     "name": "stdout",
     "output_type": "stream",
     "text": [
      "+---------+-------------------+------------+-------------+-------------------+---+---------------+------+-----------+--------+------------+--------------------+--------------+-------+-----+--------------+---------+------------+--------------+-----------+------------+-------------+-------------+---------------+-----------------+--------------+---------------+---------------+-----------------+\n",
      "|player_id|             date_v|market_value|         name|         date_birth|age|current_club_id|height|citizenship|position|sub_position|     competitions_id|      clubs_id|assists|goals|minutes_played|red_cards|yellow_cards|last_valuation|appearances|games_won_pl|games_draw_pl|games_lost_pl|winning_rate_pl|games_played_club|games_won_club|games_draw_club|games_lost_club|winning_rate_club|\n",
      "+---------+-------------------+------------+-------------+-------------------+---+---------------+------+-----------+--------+------------+--------------------+--------------+-------+-----+--------------+---------+------------+--------------+-----------+------------+-------------+-------------+---------------+-----------------+--------------+---------------+---------------+-----------------+\n",
      "|   148455|2015-02-12 00:00:00|    10000000|Mohamed Salah|1992-06-15 00:00:00| 22|             31|   175|      Egypt|  Attack|Right Winger| [CL, FAC, IT1, GB1]|    [430, 631]|      1|    0|           202|        0|           0|          null|          7|           5|            0|            2|            2.1|              102|            55|             24|             23|              1.9|\n",
      "|   148455|2015-03-20 00:00:00|    12000000|Mohamed Salah|1992-06-15 00:00:00| 22|             31|   175|      Egypt|  Attack|Right Winger|[CL, FAC, CIT, EL...|    [430, 631]|      3|    6|           879|        0|           1|      10000000|         16|          10|            3|            3|            2.1|              102|            56|             27|             19|              1.9|\n",
      "|   148455|2015-07-01 00:00:00|    18000000|Mohamed Salah|1992-06-15 00:00:00| 23|             31|   175|      Egypt|  Attack|Right Winger|[CL, FAC, CIT, EL...|    [430, 631]|      5|    9|          1970|        0|           1|      12000000|         32|          17|            5|           10|            1.8|              104|            59|             27|             18|              2.0|\n",
      "|   148455|2015-11-05 00:00:00|    20000000|Mohamed Salah|1992-06-15 00:00:00| 23|             31|   175|      Egypt|  Attack|Right Winger|[CL, FAC, CIT, EL...|[12, 430, 631]|      5|   15|          3055|        0|           3|      18000000|         43|          21|            9|           13|            1.7|              161|            80|             42|             39|              1.8|\n",
      "|   148455|2016-01-04 00:00:00|    20000000|Mohamed Salah|1992-06-15 00:00:00| 23|             31|   175|      Egypt|  Attack|Right Winger|[CL, FAC, CIT, EL...|[12, 430, 631]|      5|   15|          3333|        0|           3|      20000000|         46|          22|           11|           13|            1.7|              159|            75|             43|             41|              1.7|\n",
      "|   148455|2016-04-01 00:00:00|    23000000|Mohamed Salah|1992-06-15 00:00:00| 23|             31|   175|      Egypt|  Attack|Right Winger|  [CL, CIT, EL, IT1]|     [12, 430]|      6|   15|          3799|        0|           3|      20000000|         49|          24|           11|           14|            1.7|              103|            49|             24|             30|              1.7|\n",
      "|   148455|2016-07-15 00:00:00|    27000000|Mohamed Salah|1992-06-15 00:00:00| 24|             31|   175|      Egypt|  Attack|Right Winger|      [CL, CIT, IT1]|          [12]|      6|   15|          3402|        0|           3|      23000000|         42|          23|           12|            7|            1.9|               47|            24|             14|              9|              1.8|\n",
      "|   148455|2017-01-02 00:00:00|    30000000|Mohamed Salah|1992-06-15 00:00:00| 24|             31|   175|      Egypt|  Attack|Right Winger|  [CL, EL, IT1, CLQ]|          [12]|     10|   18|          3549|        0|           3|      27000000|         44|          26|           10|            8|            2.0|               49|            29|             12|              8|              2.0|\n",
      "|   148455|2017-06-08 00:00:00|    35000000|Mohamed Salah|1992-06-15 00:00:00| 24|             31|   175|      Egypt|  Attack|Right Winger| [CIT, EL, IT1, CLQ]|          [12]|     12|   19|          3186|        0|           2|      30000000|         41|          27|            5|            9|            2.1|               54|            36|              7|             11|              2.1|\n",
      "|   148455|2017-10-23 00:00:00|    40000000|Mohamed Salah|1992-06-15 00:00:00| 25|             31|   175|      Egypt|  Attack|Right Winger|[CL, CIT, EL, IT1...|      [12, 31]|     11|   22|          3290|        0|           1|      35000000|         42|          26|            8|            8|            2.0|               98|            60|             20|             18|              2.0|\n",
      "|   148455|2018-01-02 00:00:00|    80000000|Mohamed Salah|1992-06-15 00:00:00| 25|             31|   175|      Egypt|  Attack|Right Winger|[CL, CIT, EL, IT1...|      [12, 31]|     14|   33|          3831|        0|           0|      40000000|         49|          31|           12|            6|            2.1|              105|            63|             24|             18|              2.0|\n",
      "|   148455|2018-05-28 00:00:00|   150000000|Mohamed Salah|1992-06-15 00:00:00| 25|             31|   175|      Egypt|  Attack|Right Winger| [CL, FAC, CLQ, GB1]|          [31]|     14|   44|          4119|        0|           1|      80000000|         52|          29|           15|            8|            2.0|               55|            31|             16|              8|              2.0|\n",
      "|   148455|2018-12-19 00:00:00|   150000000|Mohamed Salah|1992-06-15 00:00:00| 26|             31|   175|      Egypt|  Attack|Right Winger|      [CL, FAC, GB1]|          [31]|     15|   37|          4015|        0|           2|     150000000|         49|          32|            8|            9|            2.1|               52|            34|              9|              9|              2.1|\n",
      "|   148455|2019-06-13 00:00:00|   150000000|Mohamed Salah|1992-06-15 00:00:00| 27|             31|   175|      Egypt|  Attack|Right Winger|      [CL, FAC, GB1]|          [31]|     12|   27|          4339|        0|           2|     150000000|         51|          37|            8|            6|            2.3|               52|            38|              8|              6|              2.3|\n",
      "|   148455|2019-12-10 00:00:00|   150000000|Mohamed Salah|1992-06-15 00:00:00| 27|             31|   175|      Egypt|  Attack|Right Winger|[CL, GBCS, FAC, G...|          [31]|     13|   27|          4367|        0|           2|     150000000|         50|          39|            6|            5|            2.5|               55|            43|              7|              5|              2.5|\n",
      "|   148455|2020-04-08 00:00:00|   120000000|Mohamed Salah|1992-06-15 00:00:00| 27|             31|   175|      Egypt|  Attack|Right Winger|[CL, GBCS, FAC, G...|          [31]|     12|   28|          4216|        0|           2|     150000000|         49|          40|            2|            7|            2.5|               55|            45|              3|              7|              2.5|\n",
      "|   148455|2020-10-13 00:00:00|   120000000|Mohamed Salah|1992-06-15 00:00:00| 28|             31|   175|      Egypt|  Attack|Right Winger|[CL, GBCS, FAC, G...|          [31]|     10|   22|          3412|        0|           2|     120000000|         41|          30|            3|            8|            2.3|               47|            34|              5|              8|              2.3|\n",
      "|   148455|2021-03-18 00:00:00|   110000000|Mohamed Salah|1992-06-15 00:00:00| 28|             31|   175|      Egypt|  Attack|Right Winger|[CL, GBCS, FAC, GB1]|          [31]|      8|   28|          3839|        0|           0|     120000000|         47|          24|            9|           14|            1.7|               49|            25|             10|             14|              1.7|\n",
      "|   148455|2021-06-08 00:00:00|   100000000|Mohamed Salah|1992-06-15 00:00:00| 29|             31|   175|      Egypt|  Attack|Right Winger|[CL, GBCS, FAC, GB1]|          [31]|     10|   33|          4665|        0|           0|     110000000|         57|          31|           12|           14|            1.8|               59|            32|             13|             14|              1.8|\n",
      "|   148455|2021-12-23 00:00:00|   100000000|Mohamed Salah|1992-06-15 00:00:00| 29|             31|   175|      Egypt|  Attack|Right Winger|      [CL, FAC, GB1]|          [31]|     12|   35|          4433|        0|           1|     100000000|         52|          31|           11|           10|            2.0|               52|            31|             11|             10|              2.0|\n",
      "|   148455|2022-06-15 00:00:00|    90000000|Mohamed Salah|1992-06-15 00:00:00| 30|             31|   175|      Egypt|  Attack|Right Winger|      [CL, FAC, GB1]|          [31]|     16|   30|          3823|        0|           1|     100000000|         49|          36|            9|            4|            2.4|               56|            43|              9|              4|              2.5|\n",
      "|   148455|2022-11-03 00:00:00|    80000000|Mohamed Salah|1992-06-15 00:00:00| 30|             31|   175|      Egypt|  Attack|Right Winger|[CL, GBCS, FAC, GB1]|          [31]|     14|   27|          4187|        0|           0|      90000000|         54|          36|            9|            9|            2.2|               62|            44|              9|              9|              2.3|\n",
      "|   148455|2023-03-16 00:00:00|    70000000|Mohamed Salah|1992-06-15 00:00:00| 30|             31|   175|      Egypt|  Attack|Right Winger|[CL, CGB, GBCS, F...|          [31]|     16|   25|          4310|        0|           1|      80000000|         54|          30|           10|           14|            1.9|               58|            34|             10|             14|              1.9|\n",
      "+---------+-------------------+------------+-------------+-------------------+---+---------------+------+-----------+--------+------------+--------------------+--------------+-------+-----+--------------+---------+------------+--------------+-----------+------------+-------------+-------------+---------------+-----------------+--------------+---------------+---------------+-----------------+\n",
      "\n"
     ]
    }
   ],
   "source": [
    "df.filter(df.player_id == 148455).show(50)"
   ]
  },
  {
   "cell_type": "code",
   "execution_count": null,
   "metadata": {},
   "outputs": [],
   "source": [
    "df = df.withColumn(\"competitions_id_str\", concat_ws(\",\", col(\"competitions_id\")))\n",
    "df = df.withColumn(\"competitions_id_str\", concat(lit(\"[\"), col(\"competitions_id_str\"), lit(\"]\")))"
   ]
  },
  {
   "cell_type": "code",
   "execution_count": null,
   "metadata": {},
   "outputs": [],
   "source": [
    "df = df.withColumn(\"clubs_id_str\", concat_ws(\",\", col(\"clubs_id\")))\n",
    "df = df.withColumn(\"clubs_id_str\", concat(lit(\"[\"), col(\"clubs_id_str\"), lit(\"]\")))"
   ]
  },
  {
   "cell_type": "code",
   "execution_count": 33,
   "metadata": {},
   "outputs": [
    {
     "name": "stdout",
     "output_type": "stream",
     "text": [
      "+---------+-------------------+------------+------------------+-------------------+---+---------------+------+---------------+----------+------------------+--------------------+-----------+-------+-----+--------------+---------+------------+--------------+-----------+------------+-------------+-------------+---------------+-----------------+--------------+---------------+---------------+-----------------+-------------------+------------+\n",
      "|player_id|             date_v|market_value|              name|         date_birth|age|current_club_id|height|    citizenship|  position|      sub_position|     competitions_id|   clubs_id|assists|goals|minutes_played|red_cards|yellow_cards|last_valuation|appearances|games_won_pl|games_draw_pl|games_lost_pl|winning_rate_pl|games_played_club|games_won_club|games_draw_club|games_lost_club|winning_rate_club|competitions_id_str|clubs_id_str|\n",
      "+---------+-------------------+------------+------------------+-------------------+---+---------------+------+---------------+----------+------------------+--------------------+-----------+-------+-----+--------------+---------+------------+--------------+-----------+------------+-------------+-------------+---------------+-----------------+--------------+---------------+---------------+-----------------+-------------------+------------+\n",
      "|       26|2015-02-04 00:00:00|     3000000|Roman Weidenfeller|1980-08-06 00:00:00| 34|             16|   190|        Germany|Goalkeeper|              null|            [CL, L1]|       [16]|      0|    0|          1620|        0|           0|          null|         18|           7|            3|            8|            1.3|               50|            26|              7|             17|              1.7|              CL,L1|          16|\n",
      "|       26|2015-07-01 00:00:00|     2000000|Roman Weidenfeller|1980-08-06 00:00:00| 34|             16|   190|        Germany|Goalkeeper|              null|            [CL, L1]|       [16]|      0|    0|          2880|        0|           0|       3000000|         32|          14|            5|           13|            1.5|               49|            23|              8|             18|              1.6|              CL,L1|          16|\n",
      "|       26|2015-10-16 00:00:00|     1000000|Roman Weidenfeller|1980-08-06 00:00:00| 35|             16|   190|        Germany|Goalkeeper|              null|   [CL, ELQ, L1, EL]|       [16]|      0|    0|          2610|        0|           0|       2000000|         29|          14|            5|           10|            1.6|               54|            29|             10|             15|              1.8|       CL,ELQ,L1,EL|          16|\n",
      "|       26|2016-02-15 00:00:00|     1000000|Roman Weidenfeller|1980-08-06 00:00:00| 35|             16|   190|        Germany|Goalkeeper|              null|   [CL, ELQ, L1, EL]|       [16]|      0|    0|          1800|        0|           0|       1000000|         20|          11|            3|            6|            1.8|               54|            36|              7|             11|              2.1|       CL,ELQ,L1,EL|          16|\n",
      "|       26|2016-07-22 00:00:00|     1000000|Roman Weidenfeller|1980-08-06 00:00:00| 35|             16|   190|        Germany|Goalkeeper|              null|       [ELQ, L1, EL]|       [16]|      0|    0|          1260|        0|           1|       1000000|         14|           9|            2|            3|            2.1|               56|            40|              8|              8|              2.3|          ELQ,L1,EL|          16|\n",
      "|       26|2017-02-07 00:00:00|     1000000|Roman Weidenfeller|1980-08-06 00:00:00| 36|             16|   190|        Germany|Goalkeeper|              null|   [CL, DFB, L1, EL]|       [16]|      0|    0|          1470|        0|           1|       1000000|         16|           8|            6|            2|            1.9|               51|            31|             13|              7|              2.1|       CL,DFB,L1,EL|          16|\n",
      "|       26|2017-06-19 00:00:00|     1000000|Roman Weidenfeller|1980-08-06 00:00:00| 36|             16|   190|        Germany|Goalkeeper|              null|       [CL, DFB, L1]|       [16]|      0|    0|          1020|        0|           0|       1000000|         11|           5|            5|            1|            1.8|               51|            29|             12|             10|              1.9|          CL,DFB,L1|          16|\n",
      "|       26|2017-12-28 00:00:00|      750000|Roman Weidenfeller|1980-08-06 00:00:00| 37|             16|   190|        Germany|Goalkeeper|              null|            [CL, L1]|       [16]|      0|    0|           181|        0|           0|       1000000|          3|           1|            1|            1|            1.3|               53|            26|             10|             17|              1.7|              CL,L1|          16|\n",
      "|       65|2015-01-14 00:00:00|     2500000|  Dimitar Berbatov|1981-01-30 00:00:00| 33|           1091|     0|       Bulgaria|    Attack|    Centre-Forward|           [CL, FR1]|      [162]|      2|    5|          1336|        0|           4|          null|         18|           8|            5|            5|            1.6|               44|            23|             13|              8|              1.9|             CL,FR1|         162|\n",
      "|       65|2015-06-06 00:00:00|     1000000|  Dimitar Berbatov|1981-01-30 00:00:00| 34|           1091|     0|       Bulgaria|    Attack|    Centre-Forward|           [CL, FR1]|      [162]|      2|    8|          2274|        0|           4|       2500000|         35|          15|           11|            9|            1.6|               48|            24|             14|             10|              1.8|             CL,FR1|         162|\n",
      "|       65|2015-09-27 00:00:00|     1000000|  Dimitar Berbatov|1981-01-30 00:00:00| 34|           1091|     0|       Bulgaria|    Attack|    Centre-Forward|  [CL, FR1, EL, GR1]|[1091, 162]|      0|    6|          1627|        0|           1|       1000000|         29|          13|           11|            5|            1.7|              102|            50|             28|             24|              1.7|      CL,FR1,EL,GR1|    1091,162|\n",
      "|       65|2016-06-21 00:00:00|     1000000|  Dimitar Berbatov|1981-01-30 00:00:00| 35|           1091|     0|       Bulgaria|    Attack|    Centre-Forward|      [GRP, EL, GR1]|     [1091]|      0|    5|          1150|        1|           2|       1000000|         22|           9|            8|            5|            1.6|               51|            20|             18|             13|              1.5|         GRP,EL,GR1|        1091|\n",
      "|      597|2015-01-26 00:00:00|      900000|    Aleksandr Hleb|1981-05-01 00:00:00| 33|           2696|   185|        Belarus|    Attack|Attacking Midfield|               [TR1]|     [2293]|      2|    0|          1157|        0|           1|          null|         14|           4|            4|            6|            1.1|               34|             9|             12|             13|              1.1|                TR1|        2293|\n",
      "|      597|2015-06-25 00:00:00|      750000|    Aleksandr Hleb|1981-05-01 00:00:00| 34|           2696|   185|        Belarus|    Attack|Attacking Midfield|               [TR1]|[2293, 820]|      4|    2|          2021|        0|           1|        900000|         29|           9|            7|           13|            1.2|               68|            22|             20|             26|              1.3|                TR1|    2293,820|\n",
      "|      597|2015-09-15 00:00:00|      750000|    Aleksandr Hleb|1981-05-01 00:00:00| 34|           2696|   185|        Belarus|    Attack|Attacking Midfield|               [TR1]|[2293, 820]|      4|    2|          1841|        0|           1|        750000|         27|           8|            7|           12|            1.1|               72|            23|             21|             28|              1.3|                TR1|    2293,820|\n",
      "|      597|2015-11-20 00:00:00|      500000|    Aleksandr Hleb|1981-05-01 00:00:00| 34|           2696|   185|        Belarus|    Attack|Attacking Midfield|               [TR1]|[2293, 820]|      4|    2|          1286|        0|           0|        750000|         20|           7|            4|            9|            1.3|               72|            24|             21|             27|              1.3|                TR1|    2293,820|\n",
      "|      597|2016-04-07 00:00:00|      500000|    Aleksandr Hleb|1981-05-01 00:00:00| 34|           2696|   185|        Belarus|    Attack|Attacking Midfield|               [TR1]|      [820]|      0|    1|          1075|        0|           0|        500000|         16|           7|            2|            7|            1.4|               35|            10|              7|             18|              1.1|                TR1|         820|\n",
      "|      597|2016-07-15 00:00:00|      400000|    Aleksandr Hleb|1981-05-01 00:00:00| 35|           2696|   185|        Belarus|    Attack|Attacking Midfield|               [TR1]|      [820]|      0|    0|           668|        0|           0|        500000|         12|           8|            1|            3|            2.1|               34|            13|              6|             15|              1.3|                TR1|         820|\n",
      "|      597|2016-11-30 00:00:00|      300000|    Aleksandr Hleb|1981-05-01 00:00:00| 35|           2696|   185|        Belarus|    Attack|Attacking Midfield|               [TR1]|      [820]|      0|    0|           668|        0|           0|        400000|         12|           8|            1|            3|            2.1|               33|            13|              8|             12|              1.4|                TR1|         820|\n",
      "|      597|2017-06-01 00:00:00|      200000|    Aleksandr Hleb|1981-05-01 00:00:00| 36|           2696|   185|        Belarus|    Attack|Attacking Midfield|               [RU1]|     [2696]|      0|    0|           347|        0|           0|        300000|          7|           1|            2|            4|            0.7|               32|             7|             10|             15|              1.0|                RU1|        2696|\n",
      "|     1139|2015-02-04 00:00:00|      500000|   Nikolce Noveski|1979-04-28 00:00:00| 35|             39|     0|North Macedonia|  Defender|       Centre-Back|           [ELQ, L1]|       [39]|      0|    0|           416|        0|           2|          null|          6|           1|            3|            2|            1.0|               37|            12|             12|             13|              1.3|             ELQ,L1|          39|\n",
      "|     1331|2015-02-23 00:00:00|     3000000|     Kevin Kuranyi|1982-03-02 00:00:00| 33|            533|     0|        Germany|    Attack|    Centre-Forward| [ELQ, RU1, EL, RUP]|      [121]|      5|   10|          1585|        0|           1|          null|         25|          16|            4|            5|            2.1|               39|            23|              7|              9|              1.9|     ELQ,RU1,EL,RUP|         121|\n",
      "|     1331|2015-06-18 00:00:00|     2500000|     Kevin Kuranyi|1982-03-02 00:00:00| 33|            533|     0|        Germany|    Attack|    Centre-Forward| [ELQ, RU1, EL, RUP]|      [121]|      6|   15|          2444|        0|           3|       3000000|         39|          21|           10|            8|            1.9|               45|            23|             12|             10|              1.8|     ELQ,RU1,EL,RUP|         121|\n",
      "|     1331|2016-02-15 00:00:00|     1250000|     Kevin Kuranyi|1982-03-02 00:00:00| 33|            533|     0|        Germany|    Attack|    Centre-Forward|  [DFB, RU1, L1, EL]| [121, 533]|      1|    5|          1387|        0|           2|       2500000|         28|           5|           13|           10|            1.0|               75|            18|             28|             29|              1.1|      DFB,RU1,L1,EL|     121,533|\n",
      "|     1896|2015-01-26 00:00:00|      450000|        Ahmet Cebe|1983-05-02 00:00:00| 31|          19771|   181|         Turkey|  Defender|        Right-Back|               [TR1]|    [19771]|      0|    0|          1084|        1|           2|          null|         14|           4|            6|            4|            1.3|               34|             9|             10|             15|              1.1|                TR1|       19771|\n",
      "|     1896|2015-06-25 00:00:00|      250000|        Ahmet Cebe|1983-05-02 00:00:00| 32|          19771|   181|         Turkey|  Defender|        Right-Back|               [TR1]|    [19771]|      0|    0|          1345|        1|           3|        450000|         20|           5|            8|            7|            1.2|               34|             9|             11|             14|              1.1|                TR1|       19771|\n",
      "|     1896|2016-01-18 00:00:00|      350000|        Ahmet Cebe|1983-05-02 00:00:00| 32|          19771|   181|         Turkey|  Defender|        Right-Back|               [TR1]|    [19771]|      1|    0|          1783|        0|           9|        250000|         23|           8|            7|            8|            1.3|               36|            13|             11|             12|              1.4|                TR1|       19771|\n",
      "|     1896|2016-07-14 00:00:00|      200000|        Ahmet Cebe|1983-05-02 00:00:00| 33|          19771|   181|         Turkey|  Defender|        Right-Back|               [TR1]|    [19771]|      1|    0|          2053|        0|          10|        350000|         23|           9|            7|            7|            1.5|               34|            11|             13|             10|              1.4|                TR1|       19771|\n",
      "|     1896|2017-01-09 00:00:00|      100000|        Ahmet Cebe|1983-05-02 00:00:00| 33|          19771|   181|         Turkey|  Defender|        Right-Back|               [TR1]|    [19771]|      0|    0|           711|        0|           3|        200000|          8|           2|            3|            3|            1.1|               33|             8|             13|             12|              1.1|                TR1|       19771|\n",
      "|     2583|2016-12-30 00:00:00|      150000|Thorsten Stuckmann|1981-03-17 00:00:00| 35|           2760|     0|        Germany|Goalkeeper|              null|               [SC1]|     [2760]|      0|    0|           362|        0|           0|          null|          5|           2|            0|            3|            1.2|               42|            12|             11|             19|              1.1|                SC1|        2760|\n",
      "|     2857|2015-02-12 00:00:00|      500000|   Eldin Jakupovic|1984-10-02 00:00:00| 30|           1003|   191|    Switzerland|Goalkeeper|              null|               [GB1]|     [3008]|      0|    0|           227|        0|           0|          null|          3|           0|            2|            1|            0.7|               47|            13|             11|             23|              1.1|                GB1|        3008|\n",
      "|     2857|2015-09-24 00:00:00|      350000|   Eldin Jakupovic|1984-10-02 00:00:00| 30|           1003|   191|    Switzerland|Goalkeeper|              null|               [GB1]|     [3008]|      0|    0|           227|        0|           0|        500000|          3|           0|            2|            1|            0.7|               33|             7|              8|             18|              0.9|                GB1|        3008|\n",
      "|     2857|2017-02-20 00:00:00|      750000|   Eldin Jakupovic|1984-10-02 00:00:00| 32|           1003|   191|    Switzerland|Goalkeeper|              null|          [FAC, GB1]|     [3008]|      0|    0|          1080|        0|           0|        350000|         12|           5|            2|            5|            1.4|               29|             6|              6|             17|              0.8|            FAC,GB1|        3008|\n",
      "|     2857|2017-06-28 00:00:00|     1000000|   Eldin Jakupovic|1984-10-02 00:00:00| 32|           1003|   191|    Switzerland|Goalkeeper|              null|          [FAC, GB1]|     [3008]|      0|    0|          2160|        0|           0|        750000|         24|           9|            4|           11|            1.3|               40|            10|              7|             23|              0.9|            FAC,GB1|        3008|\n",
      "|     2857|2018-01-02 00:00:00|     1000000|   Eldin Jakupovic|1984-10-02 00:00:00| 33|           1003|   191|    Switzerland|Goalkeeper|              null|          [FAC, GB1]|     [3008]|      0|    0|          1710|        0|           0|       1000000|         19|           7|            3|            9|            1.3|               21|             7|              3|             11|              1.1|            FAC,GB1|        3008|\n",
      "|     2857|2018-05-28 00:00:00|     1000000|   Eldin Jakupovic|1984-10-02 00:00:00| 33|           1003|   191|    Switzerland|Goalkeeper|              null|          [FAC, GB1]|     [1003]|      0|    0|           360|        0|           0|       1000000|          4|           2|            1|            1|            1.8|               43|            15|             12|             16|              1.3|            FAC,GB1|        1003|\n",
      "|     2857|2018-12-19 00:00:00|     1000000|   Eldin Jakupovic|1984-10-02 00:00:00| 34|           1003|   191|    Switzerland|Goalkeeper|              null|          [FAC, GB1]|     [1003]|      0|    0|           360|        0|           0|       1000000|          4|           2|            1|            1|            1.8|               42|            14|             11|             17|              1.3|            FAC,GB1|        1003|\n",
      "|     2874|2014-11-11 00:00:00|     1250000|     Mladen Petric|1981-01-01 00:00:00| 33|            265|     0|        Croatia|    Attack|    Centre-Forward| [GRP, EL, CLQ, GR1]|      [265]|      2|    2|           914|        0|           2|          null|         17|           8|            2|            7|            1.5|               49|            29|              7|             13|              1.9|     GRP,EL,CLQ,GR1|         265|\n",
      "|     2874|2015-05-10 00:00:00|     1250000|     Mladen Petric|1981-01-01 00:00:00| 34|            265|     0|        Croatia|    Attack|    Centre-Forward| [GRP, EL, CLQ, GR1]|      [265]|      6|    8|          2696|        0|           8|       1250000|         41|          22|            6|           13|            1.8|               49|            25|             11|             13|              1.8|     GRP,EL,CLQ,GR1|         265|\n",
      "|     2874|2015-09-27 00:00:00|     1000000|     Mladen Petric|1981-01-01 00:00:00| 34|            265|     0|        Croatia|    Attack|    Centre-Forward|[GRP, ELQ, EL, CL...|      [265]|      6|    8|          2479|        0|           8|       1250000|         39|          20|            7|           12|            1.7|               48|            25|             11|             12|              1.8| GRP,ELQ,EL,CLQ,GR1|         265|\n",
      "|     2874|2016-02-21 00:00:00|      800000|     Mladen Petric|1981-01-01 00:00:00| 35|            265|     0|        Croatia|    Attack|    Centre-Forward|[GRP, ELQ, CLQ, GR1]|      [265]|      3|    6|          1782|        0|           1|       1000000|         30|          16|            5|            9|            1.8|               44|            23|              9|             12|              1.8|    GRP,ELQ,CLQ,GR1|         265|\n",
      "|     2874|2016-06-21 00:00:00|      600000|     Mladen Petric|1981-01-01 00:00:00| 35|            265|     0|        Croatia|    Attack|    Centre-Forward|[GRP, ELQ, CLQ, GR1]|      [265]|      3|    5|          1277|        0|           0|        800000|         25|          13|            5|            7|            1.8|               41|            22|              8|             11|              1.8|    GRP,ELQ,CLQ,GR1|         265|\n",
      "|     2923|2015-01-23 00:00:00|     3000000|Andreas Ivanschitz|1983-10-15 00:00:00| 31|           3368|   183|        Austria|    Attack|Attacking Midfield|               [ES1]|     [3368]|      1|    1|          1040|        0|           3|          null|         15|           3|            5|            7|            0.9|               42|            10|             15|             17|              1.1|                ES1|        3368|\n",
      "|     2923|2015-07-01 00:00:00|     2500000|Andreas Ivanschitz|1983-10-15 00:00:00| 31|           3368|   183|        Austria|    Attack|Attacking Midfield|               [ES1]|     [3368]|      3|    1|          1333|        0|           3|       3000000|         20|           4|            6|           10|            0.9|               42|            10|             12|             20|              1.0|                ES1|        3368|\n",
      "|     2923|2016-03-01 00:00:00|     2000000|Andreas Ivanschitz|1983-10-15 00:00:00| 32|           3368|   183|        Austria|    Attack|Attacking Midfield|               [ES1]|     [3368]|      2|    0|           165|        0|           0|       2500000|          3|           1|            1|            1|            1.3|               41|             9|              9|             23|              0.9|                ES1|        3368|\n",
      "|     3179|2015-02-12 00:00:00|     1500000|      Carlton Cole|1983-10-12 00:00:00| 31|            371|   191|        England|    Attack|    Centre-Forward|          [FAC, GB1]|      [379]|      0|    3|           560|        0|           2|          null|         15|           5|            5|            5|            1.3|               40|            16|              9|             15|              1.4|            FAC,GB1|         379|\n",
      "|     3179|2015-11-30 00:00:00|     1250000|      Carlton Cole|1983-10-12 00:00:00| 32|            371|   191|        England|    Attack|    Centre-Forward|     [FAC, SC1, GB1]| [371, 379]|      0|    1|           584|        0|           3|       1500000|         18|           5|            6|            7|            1.2|              109|            57|             25|             27|              1.8|        FAC,SC1,GB1|     371,379|\n",
      "|     3235|2015-02-12 00:00:00|     1000000|     Rio Ferdinand|1978-11-07 00:00:00| 36|           1039|   189|        England|  Defender|       Centre-Back|          [FAC, GB1]|     [1039]|      0|    0|           900|        0|           2|          null|         10|           2|            1|            7|            0.7|               26|             6|              4|             16|              0.8|            FAC,GB1|        1039|\n",
      "|     3296|2015-02-12 00:00:00|      500000|    Paul Konchesky|1981-05-15 00:00:00| 33|           1003|   178|        England|  Defender|         Left-Back|          [FAC, GB1]|     [1003]|      1|    1|          2013|        1|           3|          null|         23|           5|            4|           14|            0.8|               27|             6|              5|             16|              0.9|            FAC,GB1|        1003|\n",
      "|     3296|2015-07-01 00:00:00|      500000|    Paul Konchesky|1981-05-15 00:00:00| 34|           1003|   178|        England|  Defender|         Left-Back|          [FAC, GB1]|     [1003]|      1|    1|          2430|        1|           6|        500000|         28|           6|            5|           17|            0.8|               41|            13|              8|             20|              1.1|            FAC,GB1|        1003|\n",
      "+---------+-------------------+------------+------------------+-------------------+---+---------------+------+---------------+----------+------------------+--------------------+-----------+-------+-----+--------------+---------+------------+--------------+-----------+------------+-------------+-------------+---------------+-----------------+--------------+---------------+---------------+-----------------+-------------------+------------+\n",
      "only showing top 50 rows\n",
      "\n"
     ]
    }
   ],
   "source": [
    "df.show(50)"
   ]
  },
  {
   "cell_type": "code",
   "execution_count": null,
   "metadata": {},
   "outputs": [],
   "source": [
    "df = df.drop(\"competitions_id\", \"clubs_id\")\n",
    "df = df.withColumnRenamed(\"competitions_id_str\", \"competitions_id\")\n",
    "df = df.withColumnRenamed(\"clubs_id_str\", \"clubs_id\")\n",
    "output_path = \"data_preprocessing.csv\"\n",
    "df.write.csv(output_path, header=True)"
   ]
  },
  {
   "cell_type": "code",
   "execution_count": null,
   "metadata": {
    "ExecuteTime": {
     "end_time": "2023-05-12T14:05:36.027554Z",
     "start_time": "2023-05-12T14:05:21.296746700Z"
    }
   },
   "outputs": [
    {
     "name": "stderr",
     "output_type": "stream",
     "text": [
      "c:\\Users\\marco\\AppData\\Local\\Programs\\Python\\Python310\\lib\\site-packages\\pyspark\\sql\\pandas\\conversion.py:248: FutureWarning: Passing unit-less datetime64 dtype to .astype is deprecated and will raise in a future version. Pass 'datetime64[ns]' instead\n",
      "  series = series.astype(t, copy=False)\n",
      "c:\\Users\\marco\\AppData\\Local\\Programs\\Python\\Python310\\lib\\site-packages\\pyspark\\sql\\pandas\\conversion.py:248: FutureWarning: Passing unit-less datetime64 dtype to .astype is deprecated and will raise in a future version. Pass 'datetime64[ns]' instead\n",
      "  series = series.astype(t, copy=False)\n"
     ]
    }
   ],
   "source": [
    "#import pandas as pd\n",
    "#df_pandas = df.toPandas()\n",
    "#df_pandas.to_csv('dataset_preprocessing.csv', sep=',', encoding='utf-8', index=False)"
   ]
  }
 ],
 "metadata": {
  "kernelspec": {
   "display_name": "Python 3",
   "language": "python",
   "name": "python3"
  },
  "language_info": {
   "codemirror_mode": {
    "name": "ipython",
    "version": 3
   },
   "file_extension": ".py",
   "mimetype": "text/x-python",
   "name": "python",
   "nbconvert_exporter": "python",
   "pygments_lexer": "ipython3",
   "version": "3.10.9"
  },
  "orig_nbformat": 4
 },
 "nbformat": 4,
 "nbformat_minor": 2
}
