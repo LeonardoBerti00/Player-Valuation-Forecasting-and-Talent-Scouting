{
 "cells": [
  {
   "attachments": {},
   "cell_type": "markdown",
   "metadata": {},
   "source": [
    "# **Task 2**\n",
    "**Clustering**: In task 2 a new dataset will be introduced. The new dataset will be partially merged with the one obtained in feature engineering and preprocessing. The goal will be to create clusters made up of players with similar characteristics. The final partition will be used to scout young talents."
   ]
  },
  {
   "attachments": {},
   "cell_type": "markdown",
   "metadata": {},
   "source": [
    "Imported libraries"
   ]
  },
  {
   "cell_type": "code",
   "execution_count": 1,
   "metadata": {
    "ExecuteTime": {
     "end_time": "2023-05-23T16:07:53.696112200Z",
     "start_time": "2023-05-23T16:07:53.101157900Z"
    }
   },
   "outputs": [],
   "source": [
    "import pyspark\n",
    "from pyspark.sql.types import *\n",
    "from pyspark.sql.functions import *\n",
    "import numpy as np\n",
    "from pyspark.sql import SparkSession\n",
    "from pyspark.conf import SparkConf\n",
    "from pyspark.ml.feature import *\n",
    "from pyspark.ml.clustering import KMeans\n",
    "from pyspark.ml.evaluation import ClusteringEvaluator\n",
    "import matplotlib.pyplot as plt\n",
    "import os\n",
    "import numpy as np\n",
    "from sklearn.metrics.pairwise import cosine_similarity\n",
    "from sklearn.preprocessing import OneHotEncoder\n",
    "import copy"
   ]
  },
  {
   "attachments": {},
   "cell_type": "markdown",
   "metadata": {},
   "source": [
    "Creating the pyspark session"
   ]
  },
  {
   "cell_type": "code",
   "execution_count": 2,
   "metadata": {},
   "outputs": [],
   "source": [
    "import os\n",
    "os.environ[\"PYSPARK_PYTHON\"] = \"python\""
   ]
  },
  {
   "cell_type": "code",
   "execution_count": 3,
   "metadata": {
    "ExecuteTime": {
     "end_time": "2023-05-23T16:07:55.701337500Z",
     "start_time": "2023-05-23T16:07:53.698133200Z"
    }
   },
   "outputs": [
    {
     "data": {
      "text/plain": [
       "[('spark.executor.memory', '15G'),\n",
       " ('spark.driver.host', 'laptop-jllvbepm.tailaca27.ts.net.'),\n",
       " ('spark.app.submitTime', '1686643549277'),\n",
       " ('spark.executor.id', 'driver'),\n",
       " ('spark.driver.memory', '50G'),\n",
       " ('spark.executor.cores', '10'),\n",
       " ('spark.app.name', 'PySparkProject'),\n",
       " ('spark.driver.extraJavaOptions',\n",
       "  '-Djava.net.preferIPv6Addresses=false -XX:+IgnoreUnrecognizedVMOptions --add-opens=java.base/java.lang=ALL-UNNAMED --add-opens=java.base/java.lang.invoke=ALL-UNNAMED --add-opens=java.base/java.lang.reflect=ALL-UNNAMED --add-opens=java.base/java.io=ALL-UNNAMED --add-opens=java.base/java.net=ALL-UNNAMED --add-opens=java.base/java.nio=ALL-UNNAMED --add-opens=java.base/java.util=ALL-UNNAMED --add-opens=java.base/java.util.concurrent=ALL-UNNAMED --add-opens=java.base/java.util.concurrent.atomic=ALL-UNNAMED --add-opens=java.base/sun.nio.ch=ALL-UNNAMED --add-opens=java.base/sun.nio.cs=ALL-UNNAMED --add-opens=java.base/sun.security.action=ALL-UNNAMED --add-opens=java.base/sun.util.calendar=ALL-UNNAMED --add-opens=java.security.jgss/sun.security.krb5=ALL-UNNAMED -Djdk.reflect.useDirectMethodHandle=false'),\n",
       " ('spark.ui.port', '4050'),\n",
       " ('spark.driver.maxResultSize', '40G'),\n",
       " ('spark.rdd.compress', 'True'),\n",
       " ('spark.driver.port', '49316'),\n",
       " ('spark.serializer.objectStreamReset', '100'),\n",
       " ('spark.master', 'local[*]'),\n",
       " ('spark.submit.pyFiles', ''),\n",
       " ('spark.app.startTime', '1686643549441'),\n",
       " ('spark.submit.deployMode', 'client'),\n",
       " ('spark.app.id', 'local-1686643550991'),\n",
       " ('spark.ui.showConsoleProgress', 'true'),\n",
       " ('spark.executor.extraJavaOptions',\n",
       "  '-Djava.net.preferIPv6Addresses=false -XX:+IgnoreUnrecognizedVMOptions --add-opens=java.base/java.lang=ALL-UNNAMED --add-opens=java.base/java.lang.invoke=ALL-UNNAMED --add-opens=java.base/java.lang.reflect=ALL-UNNAMED --add-opens=java.base/java.io=ALL-UNNAMED --add-opens=java.base/java.net=ALL-UNNAMED --add-opens=java.base/java.nio=ALL-UNNAMED --add-opens=java.base/java.util=ALL-UNNAMED --add-opens=java.base/java.util.concurrent=ALL-UNNAMED --add-opens=java.base/java.util.concurrent.atomic=ALL-UNNAMED --add-opens=java.base/sun.nio.ch=ALL-UNNAMED --add-opens=java.base/sun.nio.cs=ALL-UNNAMED --add-opens=java.base/sun.security.action=ALL-UNNAMED --add-opens=java.base/sun.util.calendar=ALL-UNNAMED --add-opens=java.security.jgss/sun.security.krb5=ALL-UNNAMED -Djdk.reflect.useDirectMethodHandle=false')]"
      ]
     },
     "execution_count": 3,
     "metadata": {},
     "output_type": "execute_result"
    }
   ],
   "source": [
    "# Create the session\n",
    "conf = SparkConf(). \\\n",
    "    set('spark.ui.port', \"4050\"). \\\n",
    "    set('spark.executor.memory', '15G'). \\\n",
    "    set('spark.driver.memory', '50G'). \\\n",
    "    set('spark.driver.maxResultSize', '40G'). \\\n",
    "    setAppName(\"PySparkProject\"). \\\n",
    "    set('spark.executor.cores', \"10\"). \\\n",
    "    setMaster(\"local[*]\")\n",
    "\n",
    "sc = pyspark.SparkContext.getOrCreate(conf=conf)\n",
    "spark = SparkSession.builder.getOrCreate()\n",
    "\n",
    "sc._conf.getAll()"
   ]
  },
  {
   "attachments": {},
   "cell_type": "markdown",
   "metadata": {},
   "source": [
    "## **Dataset handling**"
   ]
  },
  {
   "attachments": {},
   "cell_type": "markdown",
   "metadata": {},
   "source": [
    "Loading the new dataset and the dataset obtained from feature_engineering.ipynb"
   ]
  },
  {
   "cell_type": "code",
   "execution_count": 7,
   "metadata": {},
   "outputs": [],
   "source": [
    "# Load cvs fifa23 dataset files pyspark\n",
    "df = spark.read.csv(\"fifa23players.csv\", header=True, inferSchema=True)"
   ]
  },
  {
   "cell_type": "code",
   "execution_count": 8,
   "metadata": {
    "ExecuteTime": {
     "end_time": "2023-05-23T16:07:58.431786400Z",
     "start_time": "2023-05-23T16:07:55.701337500Z"
    }
   },
   "outputs": [],
   "source": [
    "# Load csv dataset, obtained from the feature engineering process\n",
    "df_ = spark.read.csv(\"../dataset.csv\", header=True, inferSchema=True)"
   ]
  },
  {
   "attachments": {},
   "cell_type": "markdown",
   "metadata": {},
   "source": [
    "### **Feature Engineering and Pre Processing Phase**"
   ]
  },
  {
   "cell_type": "code",
   "execution_count": 9,
   "metadata": {
    "ExecuteTime": {
     "end_time": "2023-05-23T16:07:59.545372Z",
     "start_time": "2023-05-23T16:07:59.513502900Z"
    }
   },
   "outputs": [],
   "source": [
    "# Drop some df_ columns that are not useful for the task\n",
    "df_ = df_.drop(\"clubs_id\", \"name\", \"competitions_id\", \"sub_position\", \"position\", \"citizenship\", \"current_club_id\", \"winning_rate_club\", \"winning_rate_pl\", \"games_lost_pl\",\n",
    "         \"games_draw_pl\", \"games_won_pl\", \"appearances\", \"yellow_cards\", \"red_cards\", \"minutes_played\", \"goals\", \"assists\", \"height\", \"age\", \"market_value\")"
   ]
  },
  {
   "attachments": {},
   "cell_type": "markdown",
   "metadata": {},
   "source": [
    "Filtering the dataset df_ : It must be composed by the instances whose date_v is in 2022. "
   ]
  },
  {
   "cell_type": "code",
   "execution_count": 10,
   "metadata": {},
   "outputs": [],
   "source": [
    "# delete the instances from df_ in which date_v is not in the year 2022\n",
    "df_ = df_.filter(year(df_.date_v) == \"2022\")"
   ]
  },
  {
   "attachments": {},
   "cell_type": "markdown",
   "metadata": {},
   "source": [
    "Filtering the dataset df_ : for each player must be remain only the instance with date_v closest to 2022-06-15"
   ]
  },
  {
   "cell_type": "code",
   "execution_count": 11,
   "metadata": {},
   "outputs": [],
   "source": [
    "# Define the reference date as \"2022-06-15\" using lit\n",
    "target_date = lit(\"2022-06-15\").cast(\"date\")"
   ]
  },
  {
   "cell_type": "code",
   "execution_count": 12,
   "metadata": {},
   "outputs": [],
   "source": [
    "# Compute the difference in days between date_v and the reference date\n",
    "df_with_diff = df_.withColumn(\"date_diff\", when(col(\"date_v\") > target_date, col(\"date_v\") - target_date)\n",
    "                                 .otherwise(target_date - col(\"date_v\")))\n",
    "\n",
    "# Find the closest date to \"2022-06-15\" for each player_id\n",
    "closest_date = df_with_diff.groupBy(\"player_id\").agg(min(\"date_diff\").alias(\"min_date_diff\"))\n",
    "\n",
    "# Join the original DataFrame with the DataFrame of the closest dates\n",
    "df_ = df_with_diff.join(closest_date, on=[\"player_id\"]).where(col(\"date_diff\") == col(\"min_date_diff\"))\n",
    "\n",
    "# Remove the date_diff column if it is not necessary\n",
    "df_ = df_.drop(\"date_diff\", \"min_date_diff\")"
   ]
  },
  {
   "cell_type": "code",
   "execution_count": 13,
   "metadata": {},
   "outputs": [],
   "source": [
    "# Remove (player_id, date_v) duplicates\n",
    "df_ = df_.dropDuplicates([\"player_id\", \"date_v\"])"
   ]
  },
  {
   "attachments": {},
   "cell_type": "markdown",
   "metadata": {},
   "source": [
    "Removing the player_id with last_valuation equal to 0 (if their last_valuation is 0, they are probably not present in the fifa23players dataset)\n"
   ]
  },
  {
   "cell_type": "code",
   "execution_count": 14,
   "metadata": {},
   "outputs": [],
   "source": [
    "# remove the player_id with last_valuation equal to 0\n",
    "df_ = df_.filter(df_.last_valuation != 0)"
   ]
  },
  {
   "attachments": {},
   "cell_type": "markdown",
   "metadata": {},
   "source": [
    "Through the player_id key we get information about the players contained in player_id"
   ]
  },
  {
   "cell_type": "code",
   "execution_count": 15,
   "metadata": {},
   "outputs": [],
   "source": [
    "# Load the cvs players to obtain some crucial information for the merge\n",
    "df_players = spark.read.csv(\"../archive/players.csv\", header=True, inferSchema=True)"
   ]
  },
  {
   "cell_type": "code",
   "execution_count": 16,
   "metadata": {},
   "outputs": [],
   "source": [
    "# join the two datasets on player_id\n",
    "df_ = df_.join(df_players, on=[\"player_id\"])"
   ]
  },
  {
   "cell_type": "code",
   "execution_count": 17,
   "metadata": {},
   "outputs": [],
   "source": [
    "# drop some columns that are not useful for the task\n",
    "df_ = df_.drop(\"current_club_id\", \"current_club_name\", \"country_of_birth\", \"city_of_birth\", \"foot\", \"height_in_cm\", \"market_value_in_eur\", \"highest_market_value_in_eur\", \"agent_name\", \"contract_expiration_date\", \"current_club_domestic_competition_id\", \"player_code\", \"image_url\", \"last_season\", \"url\")"
   ]
  },
  {
   "cell_type": "code",
   "execution_count": 18,
   "metadata": {},
   "outputs": [],
   "source": [
    "# drop duplicates on player_id\n",
    "df = df.dropDuplicates([\"player_id\"])"
   ]
  },
  {
   "attachments": {},
   "cell_type": "markdown",
   "metadata": {},
   "source": [
    "We have to drop some not very useful features:\n",
    "\n",
    " .   ls\n",
    " ,  st\n",
    " ,  rs\n",
    " ,  lw\n",
    " ,  lf\n",
    " ,  cf\n",
    " ,  rf\n",
    " ,  rw\n",
    " ,  lam\n",
    " ,  cam\n",
    " ,  ram\n",
    " ,  lm\n",
    " ,  lcm\n",
    " ,  cm\n",
    " ,  rcm\n",
    " ,  rm\n",
    " ,  lwb\n",
    " ,  ldm\n",
    " ,  cdm\n",
    " ,  rdm\n",
    " ,  rwb\n",
    " ,  lb\n",
    " ,  lcb\n",
    " ,  cb\n",
    " ,  rcb\n",
    " , rb\n",
    " ,  gk\n",
    " ,  player_face_url\n",
    " ,  body_type\n",
    " ,  real_face\n",
    " ,  release_clause_eur\n",
    " ,  player_tags\n",
    " ,  player_traits\n",
    " ,  international_reputation\n",
    " ,  club_jersey_number\n",
    " ,  club_loaned_from\n",
    " ,  club_joined_date\n",
    " ,  club_contract_valid_until_year\n",
    " ,  nationality_id\n",
    " ,  nationality_name\n",
    " ,  nation_team_id\n",
    " ,  nation_position\n",
    " ,  nation_jersey_number\n",
    " ,  league_id\n",
    " ,  league_name\n",
    " ,  league_level\n",
    " ,  club_team_id\n",
    " ,  club_name\n",
    " ,  club_position\n",
    " ,  potential\n",
    " ,  value_eur\n",
    " ,  wage_eur\n",
    " ,  age\n",
    " ,  player_positions\n",
    " ,  player_id\n",
    " ,  player_url\n",
    " ,  fifa_version\n",
    " ,  fifa_update\n",
    " ,  fifa_update_date"
   ]
  },
  {
   "attachments": {},
   "cell_type": "markdown",
   "metadata": {},
   "source": [
    "We copy and paste, from the print schema method, the useless columns and we use regex to extract the name of each column"
   ]
  },
  {
   "cell_type": "code",
   "execution_count": 19,
   "metadata": {},
   "outputs": [],
   "source": [
    "import re\n",
    "str = \"|-- ls: string (nullable = true)|-- st: string (nullable = true)|-- rs: string (nullable = true)|-- lw: string (nullable = true)|-- lf: string (nullable = true)|-- cf: string (nullable = true)|-- rf: string (nullable = true)|-- rw: string (nullable = true)|-- lam: string (nullable = true)|-- cam: string (nullable = true)|-- ram: string (nullable = true)|-- lm: string (nullable = true)|-- lcm: string (nullable = true)|-- cm: string (nullable = true)|-- rcm: string (nullable = true)|-- rm: string (nullable = true)|-- lwb: string (nullable = true)|-- ldm: string (nullable = true)|-- cdm: string (nullable = true)|-- rdm: string (nullable = true)|-- rwb: string (nullable = true)|-- lb: string (nullable = true)|-- lcb: string (nullable = true)|-- cb: string (nullable = true)|-- rcb: string (nullable = true)|-- rb: string (nullable = true)|-- gk: string (nullable = true)|-- player_face_url: string (nullable = true)|-- body_type: string (nullable = true)|-- real_face: string (nullable = true)|-- release_clause_eur: integer (nullable = true)|-- player_tags: string (nullable = true)|-- player_traits: string (nullable = true)|-- international_reputation: integer (nullable = true)|-- club_jersey_number: integer (nullable = true)|-- club_loaned_from: string (nullable = true)|-- club_joined_date: date (nullable = true)|-- club_contract_valid_until_year: integer (nullable = true)|-- nationality_id: integer (nullable = true)|-- nation_team_id: integer (nullable = true)|-- nation_position: string (nullable = true)|-- nation_jersey_number: integer (nullable = true)|-- league_id: integer (nullable = true)|-- league_name: string (nullable = true)|-- league_level: integer (nullable = true)|-- club_team_id: integer (nullable = true)|-- club_name: string (nullable = true)|-- club_position: string (nullable = true)|-- potential: integer (nullable = true)|-- value_eur: integer (nullable = true)|-- wage_eur: integer (nullable = true)|-- age: integer (nullable = true)|-- player_positions: string (nullable = true)|-- player_id: integer (nullable = true)|-- player_url: string (nullable = true)|-- fifa_version: integer (nullable = true)|-- fifa_update: integer (nullable = true)|-- fifa_update_date: date (nullable = true)\"\n",
    "pattern = pattern = r\"(?<=- ).*?(?=: )\"\n",
    "elements_to_drop = re.findall(pattern, str)"
   ]
  },
  {
   "cell_type": "code",
   "execution_count": 20,
   "metadata": {},
   "outputs": [],
   "source": [
    "for element in elements_to_drop:\n",
    "    df = df.drop(element)"
   ]
  },
  {
   "attachments": {},
   "cell_type": "markdown",
   "metadata": {},
   "source": [
    "Merging the fifa dataset and the dataset obtained in feature_engineering.ipynb:\n",
    "in this case the difficulty is finding the parameters on which to join. We have opted in the union on the couple (date of birth, nationality)"
   ]
  },
  {
   "cell_type": "code",
   "execution_count": 21,
   "metadata": {},
   "outputs": [],
   "source": [
    "# join df and df_ in which df.dob == df_.date_of_birth and df_.country_of_citizenship == df.nationality_name\n",
    "joined_df = df.join(df_, (df.dob == df_.date_of_birth) & (df_.country_of_citizenship == df.nationality_name))"
   ]
  },
  {
   "cell_type": "code",
   "execution_count": 22,
   "metadata": {},
   "outputs": [],
   "source": [
    "# count the number of distinct player_id\n",
    "#print(joined_df.select(\"player_id\").distinct().count())\n",
    "# count the number of rows\n",
    "#print(joined_df.count())"
   ]
  },
  {
   "attachments": {},
   "cell_type": "markdown",
   "metadata": {},
   "source": [
    "Removing from df the player_id that occurre more than once"
   ]
  },
  {
   "cell_type": "code",
   "execution_count": 23,
   "metadata": {},
   "outputs": [],
   "source": [
    "count_df = joined_df.groupBy(\"player_id\").agg(count(\"*\").alias(\"count\"))\n",
    "df = joined_df.join(count_df, \"player_id\").filter(count_df[\"count\"] == 1).drop(\"count\") # we will add to df the instances obtained from the filtered df \n",
    "#print(df.select(\"player_id\").distinct().count())"
   ]
  },
  {
   "attachments": {},
   "cell_type": "markdown",
   "metadata": {},
   "source": [
    "filtered_df is composed of instances of player_id that appear in df more than once: in particular filtered_df is composed of the players for whom the union (date of birth, nationality) does not work because there is more than one instance for which the key tuple (date of birth, nationality) is valid"
   ]
  },
  {
   "cell_type": "code",
   "execution_count": 24,
   "metadata": {},
   "outputs": [],
   "source": [
    "# dataset composed by the instances with player_id not unique (i.e. that appears more than once)\n",
    "count_df = joined_df.groupBy(\"player_id\").agg(count(\"*\").alias(\"count\"))\n",
    "filtered_df = joined_df.join(count_df, \"player_id\").filter(count_df[\"count\"] > 1).drop(\"count\")"
   ]
  },
  {
   "attachments": {},
   "cell_type": "markdown",
   "metadata": {},
   "source": [
    "Since, for these instances, (date of birth, nationality) does not work, we decide to perform the filter through long_name (fifa dataset) and name (the other dataset)"
   ]
  },
  {
   "cell_type": "code",
   "execution_count": 25,
   "metadata": {},
   "outputs": [],
   "source": [
    "# mantain only the instance in which long name is equal to name\n",
    "filtered_df = filtered_df.filter(filtered_df.long_name == filtered_df.name)"
   ]
  },
  {
   "attachments": {},
   "cell_type": "markdown",
   "metadata": {},
   "source": [
    "Adding to df the unique instances of filtered_df that we managed to extract"
   ]
  },
  {
   "cell_type": "code",
   "execution_count": 26,
   "metadata": {},
   "outputs": [],
   "source": [
    "# add to df the instances of filtered_df\n",
    "df = df.union(filtered_df)"
   ]
  },
  {
   "cell_type": "code",
   "execution_count": 27,
   "metadata": {},
   "outputs": [],
   "source": [
    "# INSERT CURRENT DATE #\n",
    "import datetime\n",
    "current_date = datetime.datetime.now().strftime(\"%Y-%m-%d\")"
   ]
  },
  {
   "attachments": {},
   "cell_type": "markdown",
   "metadata": {},
   "source": [
    "Adding to the dataset the feature age"
   ]
  },
  {
   "cell_type": "code",
   "execution_count": 28,
   "metadata": {},
   "outputs": [],
   "source": [
    "# add to the df the column age\n",
    "df = df.withColumn(\"age\", floor(datediff(lit(current_date), \"dob\")/365))"
   ]
  },
  {
   "cell_type": "code",
   "execution_count": 29,
   "metadata": {},
   "outputs": [],
   "source": [
    "# drop some columns\n",
    "df = df.drop(\"first_name\", \"date_birth\", \"last_name\", \"date_of_birth\", \"date_v\", \"country_of_citizenship\", \"dob\", \"short_name\", \"long_name\")"
   ]
  },
  {
   "attachments": {},
   "cell_type": "markdown",
   "metadata": {},
   "source": [
    "### **Pre-processing Phase (zero-value and null value)**"
   ]
  },
  {
   "cell_type": "code",
   "execution_count": 30,
   "metadata": {},
   "outputs": [
    {
     "name": "stdout",
     "output_type": "stream",
     "text": [
      "+---------+-------+---------+---------+----------------+--------------+---------+-----------+---------+----+--------+-------+---------+---------+------+------------------+-------------------+--------------------------+-----------------------+-----------------+---------------+-----------+-----------------+------------------+------------------+---------------------+---------------------+----------------+------------------+----------------+----------------+-------------+-------------+--------------+----------------+--------------------+-----------------------+---------------------+----------------+-------------------+-------------------+---------------------------+-------------------------+------------------------+------------------+--------------------+-------------------+-----------------------+--------------------+-----------------+--------------+-----------------+--------------+---------------+---------------+----+--------+------------+---+\n",
      "|player_id|overall|height_cm|weight_kg|nationality_name|preferred_foot|weak_foot|skill_moves|work_rate|pace|shooting|passing|dribbling|defending|physic|attacking_crossing|attacking_finishing|attacking_heading_accuracy|attacking_short_passing|attacking_volleys|skill_dribbling|skill_curve|skill_fk_accuracy|skill_long_passing|skill_ball_control|movement_acceleration|movement_sprint_speed|movement_agility|movement_reactions|movement_balance|power_shot_power|power_jumping|power_stamina|power_strength|power_long_shots|mentality_aggression|mentality_interceptions|mentality_positioning|mentality_vision|mentality_penalties|mentality_composure|defending_marking_awareness|defending_standing_tackle|defending_sliding_tackle|goalkeeping_diving|goalkeeping_handling|goalkeeping_kicking|goalkeeping_positioning|goalkeeping_reflexes|goalkeeping_speed|last_valuation|games_played_club|games_won_club|games_draw_club|games_lost_club|name|position|sub_position|age|\n",
      "+---------+-------+---------+---------+----------------+--------------+---------+-----------+---------+----+--------+-------+---------+---------+------+------------------+-------------------+--------------------------+-----------------------+-----------------+---------------+-----------+-----------------+------------------+------------------+---------------------+---------------------+----------------+------------------+----------------+----------------+-------------+-------------+--------------+----------------+--------------------+-----------------------+---------------------+----------------+-------------------+-------------------+---------------------------+-------------------------+------------------------+------------------+--------------------+-------------------+-----------------------+--------------------+-----------------+--------------+-----------------+--------------+---------------+---------------+----+--------+------------+---+\n",
      "|        0|      0|        0|        0|               0|             0|        0|          0|        0| 423|     423|    423|      423|      423|   423|                 0|                  0|                         0|                      0|                0|              0|          0|                0|                 0|                 0|                    0|                    0|               0|                 0|               0|               0|            0|            0|             0|               0|                   0|                      0|                    0|               0|                  0|                  0|                          0|                        0|                       0|                 0|                   0|                  0|                      0|                   0|             3985|             0|                0|             0|              0|              0|   0|       0|         414|  0|\n",
      "+---------+-------+---------+---------+----------------+--------------+---------+-----------+---------+----+--------+-------+---------+---------+------+------------------+-------------------+--------------------------+-----------------------+-----------------+---------------+-----------+-----------------+------------------+------------------+---------------------+---------------------+----------------+------------------+----------------+----------------+-------------+-------------+--------------+----------------+--------------------+-----------------------+---------------------+----------------+-------------------+-------------------+---------------------------+-------------------------+------------------------+------------------+--------------------+-------------------+-----------------------+--------------------+-----------------+--------------+-----------------+--------------+---------------+---------------+----+--------+------------+---+\n",
      "\n"
     ]
    }
   ],
   "source": [
    "# for each features of df, check if there are null values\n",
    "# df.select([count(when(isnan(c) | col(c).isNull(), c)).alias(c) for c in df.columns]).show()\n",
    "df.select([count(when(col(c).isNull(), c)).alias(c) for c in df.columns]).show()"
   ]
  },
  {
   "attachments": {},
   "cell_type": "markdown",
   "metadata": {},
   "source": [
    "Fixing null value and zero value"
   ]
  },
  {
   "cell_type": "code",
   "execution_count": 31,
   "metadata": {},
   "outputs": [],
   "source": [
    "# if position is goal keeper then club_position = GK then set pace, shooting, passing, dribbling, defending, physic = 0\n",
    "df = df.withColumn(\"pace\", when(df.position == \"Goalkeeper\", 0).otherwise(df.pace))\n",
    "df = df.withColumn(\"shooting\", when(df.position == \"Goalkeeper\", 0).otherwise(df.shooting))\n",
    "df = df.withColumn(\"passing\", when(df.position == \"Goalkeeper\", 0).otherwise(df.passing))\n",
    "df = df.withColumn(\"dribbling\", when(df.position == \"Goalkeeper\", 0).otherwise(df.dribbling))\n",
    "df = df.withColumn(\"defending\", when(df.position == \"Goalkeeper\", 0).otherwise(df.defending))\n",
    "df = df.withColumn(\"physic\", when(df.position == \"Goalkeeper\", 0).otherwise(df.physic))"
   ]
  },
  {
   "cell_type": "code",
   "execution_count": 32,
   "metadata": {},
   "outputs": [],
   "source": [
    "# if the sub_position is null, set it to position value\n",
    "df = df.withColumn(\"sub_position\", when(col(\"sub_position\").isNull(), col(\"position\")).otherwise(col(\"sub_position\")))"
   ]
  },
  {
   "cell_type": "code",
   "execution_count": 33,
   "metadata": {},
   "outputs": [],
   "source": [
    "# if position is not Goalkeeper then set goalkeeping_speed to 0\n",
    "df = df.withColumn(\"goalkeeping_speed\", when(df.position != \"Goalkeeper\", 0).otherwise(df.goalkeeping_speed))"
   ]
  },
  {
   "attachments": {},
   "cell_type": "markdown",
   "metadata": {},
   "source": [
    "If the fixes didn't work, it means that the instances involved are originally wrong. Then we decided to drop it"
   ]
  },
  {
   "cell_type": "code",
   "execution_count": 34,
   "metadata": {},
   "outputs": [],
   "source": [
    "# remove the instances in which there are null values\n",
    "#print(df.count())\n",
    "df = df.na.drop()\n",
    "#print(df.count())"
   ]
  },
  {
   "cell_type": "code",
   "execution_count": 35,
   "metadata": {},
   "outputs": [
    {
     "name": "stdout",
     "output_type": "stream",
     "text": [
      "4391\n",
      "4391\n"
     ]
    }
   ],
   "source": [
    "print(df.count())\n",
    "# count the number of distinct player_id\n",
    "print(df.select(\"player_id\").distinct().count())"
   ]
  },
  {
   "attachments": {},
   "cell_type": "markdown",
   "metadata": {},
   "source": [
    "Show the first 5 rows of the dataset that we will save and use for task2"
   ]
  },
  {
   "cell_type": "code",
   "execution_count": 36,
   "metadata": {},
   "outputs": [
    {
     "name": "stdout",
     "output_type": "stream",
     "text": [
      "+---------+-------+---------+---------+----------------+--------------+---------+-----------+-------------+----+--------+-------+---------+---------+------+------------------+-------------------+--------------------------+-----------------------+-----------------+---------------+-----------+-----------------+------------------+------------------+---------------------+---------------------+----------------+------------------+----------------+----------------+-------------+-------------+--------------+----------------+--------------------+-----------------------+---------------------+----------------+-------------------+-------------------+---------------------------+-------------------------+------------------------+------------------+--------------------+-------------------+-----------------------+--------------------+-----------------+--------------+-----------------+--------------+---------------+---------------+----------------+----------+----------------+---+\n",
      "|player_id|overall|height_cm|weight_kg|nationality_name|preferred_foot|weak_foot|skill_moves|    work_rate|pace|shooting|passing|dribbling|defending|physic|attacking_crossing|attacking_finishing|attacking_heading_accuracy|attacking_short_passing|attacking_volleys|skill_dribbling|skill_curve|skill_fk_accuracy|skill_long_passing|skill_ball_control|movement_acceleration|movement_sprint_speed|movement_agility|movement_reactions|movement_balance|power_shot_power|power_jumping|power_stamina|power_strength|power_long_shots|mentality_aggression|mentality_interceptions|mentality_positioning|mentality_vision|mentality_penalties|mentality_composure|defending_marking_awareness|defending_standing_tackle|defending_sliding_tackle|goalkeeping_diving|goalkeeping_handling|goalkeeping_kicking|goalkeeping_positioning|goalkeeping_reflexes|goalkeeping_speed|last_valuation|games_played_club|games_won_club|games_draw_club|games_lost_club|            name|  position|    sub_position|age|\n",
      "+---------+-------+---------+---------+----------------+--------------+---------+-----------+-------------+----+--------+-------+---------+---------+------+------------------+-------------------+--------------------------+-----------------------+-----------------+---------------+-----------+-----------------+------------------+------------------+---------------------+---------------------+----------------+------------------+----------------+----------------+-------------+-------------+--------------+----------------+--------------------+-----------------------+---------------------+----------------+-------------------+-------------------+---------------------------+-------------------------+------------------------+------------------+--------------------+-------------------+-----------------------+--------------------+-----------------+--------------+-----------------+--------------+---------------+---------------+----------------+----------+----------------+---+\n",
      "|   156941|     75|      181|       74|         England|         Right|        5|          3|Medium/Medium|63.0|    70.0|   73.0|     71.0|     72.0|  77.0|                67|                 66|                        63|                     78|               64|             69|         74|               54|                76|                77|                   65|                   61|              64|                69|              74|              79|           58|           84|            74|              74|                  82|                     73|                   69|              74|                 52|               75.0|                         74|                       72|                      71|                14|                   6|                  6|                      9|                   8|              0.0|       5500000|               57|            35|             11|             11|  John Lundstram|  Midfield|Central Midfield| 29|\n",
      "|   199976|     75|      192|       87|           Italy|         Right|        2|          1|Medium/Medium| 0.0|     0.0|    0.0|      0.0|      0.0|   0.0|                13|                 18|                        18|                     32|               12|             19|         14|               21|                19|                22|                   48|                   38|              55|                74|              58|              51|           68|           37|            66|              17|                  23|                     29|                   18|              44|                 21|               65.0|                         26|                       17|                      13|                74|                  74|                 68|                     75|                  75|             43.0|       1500000|               52|            22|             15|             15|Marco Sportiello|Goalkeeper|      Goalkeeper| 31|\n",
      "|   344392|     70|      182|       75|        Portugal|         Right|        3|          3|Medium/Medium|73.0|    41.0|   60.0|     68.0|     65.0|  73.0|                66|                 35|                        57|                     65|               35|             70|         60|               38|                54|                68|                   72|                   74|              61|                70|              64|              55|           72|           81|            70|              37|                  71|                     67|                   62|              56|                 48|               60.0|                         62|                       68|                      66|                 5|                   7|                 10|                      5|                  14|              0.0|       1200000|               41|            12|             12|             17|Fernando Fonseca|  Defender|      Right-Back| 26|\n",
      "|   482769|     70|      175|       65|          France|          Left|        3|          3|Medium/Medium|63.0|    55.0|   69.0|     74.0|     60.0|  63.0|                62|                 52|                        60|                     74|               48|             73|         64|               51|                73|                74|                   66|                   61|              76|                71|              78|              62|           59|           68|            61|              53|                  61|                     59|                   61|              72|                 54|               69.0|                         59|                       63|                      60|                14|                  10|                  6|                      7|                   9|              0.0|       1500000|               38|            26|              4|              8|Alexis Trouillet|  Midfield|Central Midfield| 22|\n",
      "|    67089|     70|      185|       78|           Spain|         Right|        3|          2|  Medium/High|50.0|    53.0|   60.0|     59.0|     69.0|  78.0|                59|                 46|                        72|                     69|               47|             56|         66|               40|                65|                62|                   45|                   54|              60|                65|              53|              72|           80|           75|            80|              59|                  78|                     70|                   36|              47|                 46|               59.0|                         69|                       69|                      66|                15|                   8|                 14|                     15|                  10|              0.0|        900000|               43|            12|             15|             16|       Juan Cala|  Defender|     Centre-Back| 33|\n",
      "+---------+-------+---------+---------+----------------+--------------+---------+-----------+-------------+----+--------+-------+---------+---------+------+------------------+-------------------+--------------------------+-----------------------+-----------------+---------------+-----------+-----------------+------------------+------------------+---------------------+---------------------+----------------+------------------+----------------+----------------+-------------+-------------+--------------+----------------+--------------------+-----------------------+---------------------+----------------+-------------------+-------------------+---------------------------+-------------------------+------------------------+------------------+--------------------+-------------------+-----------------------+--------------------+-----------------+--------------+-----------------+--------------+---------------+---------------+----------------+----------+----------------+---+\n",
      "only showing top 5 rows\n",
      "\n"
     ]
    }
   ],
   "source": [
    "df.show(5)"
   ]
  },
  {
   "attachments": {},
   "cell_type": "markdown",
   "metadata": {},
   "source": [
    "Saving the dataset obtained from the pre-processing, feature engineering and merging operations"
   ]
  },
  {
   "cell_type": "code",
   "execution_count": null,
   "metadata": {},
   "outputs": [],
   "source": [
    "import pandas as pd\n",
    "df_p = df.toPandas()\n",
    "df_p.to_csv(\"talent_scouting/task2dataset.csv\", index=False)"
   ]
  },
  {
   "attachments": {},
   "cell_type": "markdown",
   "metadata": {},
   "source": [
    "## **Clustering algorithm applications: k-means** "
   ]
  },
  {
   "attachments": {},
   "cell_type": "markdown",
   "metadata": {},
   "source": [
    "Loading the dataset obtained from the previous phases"
   ]
  },
  {
   "cell_type": "code",
   "execution_count": 4,
   "metadata": {},
   "outputs": [],
   "source": [
    "# load the dataset obtained in the previous phases\n",
    "df = spark.read.csv(\"task2dataset.csv\", header=True, inferSchema=True)"
   ]
  },
  {
   "attachments": {},
   "cell_type": "markdown",
   "metadata": {},
   "source": [
    "Converting double features to avoid problem in the next steps and to make all the numerical features of the same type"
   ]
  },
  {
   "cell_type": "code",
   "execution_count": 5,
   "metadata": {},
   "outputs": [],
   "source": [
    "# convert from double to int the features goalkeeping_speed, pace, shooting, passing, dribbling, defending, physic\n",
    "df = df.withColumn(\"goalkeeping_speed\", df.goalkeeping_speed.cast(\"int\"))\n",
    "df = df.withColumn(\"pace\", df.pace.cast(\"int\"))\n",
    "df = df.withColumn(\"shooting\", df.shooting.cast(\"int\"))\n",
    "df = df.withColumn(\"passing\", df.passing.cast(\"int\"))\n",
    "df = df.withColumn(\"dribbling\", df.dribbling.cast(\"int\"))\n",
    "df = df.withColumn(\"defending\", df.defending.cast(\"int\"))\n",
    "df = df.withColumn(\"physic\", df.physic.cast(\"int\"))\n",
    "df = df.withColumn(\"mentality_composure\", df.mentality_composure.cast(\"int\"))"
   ]
  },
  {
   "cell_type": "code",
   "execution_count": 6,
   "metadata": {},
   "outputs": [],
   "source": [
    "# drop column player_id\n",
    "df = df.drop(\"games_played_club\", \"games_won_club\", \"games_draw_club\", \"games_lost_club\")"
   ]
  },
  {
   "attachments": {},
   "cell_type": "markdown",
   "metadata": {},
   "source": [
    "Since nationality is not a crucial feature for our task, and furthermore, in the case of applying one hot encoding, it would greatly increase the number of features, we decided to exclude it from the dataset\n"
   ]
  },
  {
   "cell_type": "code",
   "execution_count": 7,
   "metadata": {},
   "outputs": [],
   "source": [
    "# drop the features nationality_name and name\n",
    "dfc = df.drop(\"nationality_name\", \"name\")"
   ]
  },
  {
   "attachments": {},
   "cell_type": "markdown",
   "metadata": {},
   "source": [
    "Creating a feature copy of age"
   ]
  },
  {
   "cell_type": "code",
   "execution_count": 8,
   "metadata": {},
   "outputs": [],
   "source": [
    "# create a copy of the feature age in age_copy\n",
    "dfc = dfc.withColumn(\"age_copy\", dfc.age)"
   ]
  },
  {
   "attachments": {},
   "cell_type": "markdown",
   "metadata": {},
   "source": [
    "### **Standardization of the numerical features**"
   ]
  },
  {
   "cell_type": "code",
   "execution_count": 9,
   "metadata": {},
   "outputs": [],
   "source": [
    "def standardize(dfc):\n",
    "    assembler = VectorAssembler(inputCols=list(set(dfc.columns) - set([\"player_id\", \"preferred_foot\", \"work_rate\", \"position\", \"sub_position\", \"age_copy\"])), \n",
    "                                outputCol=\"features\") # excluding the features player_id, preferred_foot, work_rate, position, sub_position, age_copy (not numeric features, categorical)\n",
    "\n",
    "    dfc = assembler.transform(dfc)\n",
    "\n",
    "    scaler = StandardScaler(inputCol=\"features\", \n",
    "                            outputCol=\"scaled_features\",\n",
    "                            withStd=True, withMean=True)\n",
    "\n",
    "    # fitting the StandardScaler\n",
    "    scalerModel = scaler.fit(dfc)\n",
    "\n",
    "    # Normalize each feature\n",
    "    dfc = scalerModel.transform(dfc)\n",
    "    return dfc"
   ]
  },
  {
   "cell_type": "code",
   "execution_count": 10,
   "metadata": {},
   "outputs": [],
   "source": [
    "dfc = standardize(dfc)"
   ]
  },
  {
   "cell_type": "code",
   "execution_count": 11,
   "metadata": {},
   "outputs": [],
   "source": [
    "# remove the standardized columns\n",
    "dfc = dfc.drop(*list(set(df.columns) - set([\"player_id\", \"preferred_foot\", \"work_rate\", \"position\", \"sub_position\", \"age_copy\"])))"
   ]
  },
  {
   "attachments": {},
   "cell_type": "markdown",
   "metadata": {},
   "source": [
    "### **Applying one-hot encoding of the categorical features**"
   ]
  },
  {
   "cell_type": "code",
   "execution_count": 12,
   "metadata": {},
   "outputs": [],
   "source": [
    "def apply_one_hot_encoding(df, column_names, df_id):\n",
    "\n",
    "    def generate_encoded_columns(df, name_column, column_values):\n",
    "        return [\n",
    "            when(df[name_column].isin(value), 1).otherwise(0).alias(f\"{name_column}_{value}\")\n",
    "            for value in column_values\n",
    "        ]\n",
    "    \n",
    "    diz = {}\n",
    "    for col in column_names:\n",
    "        diz[col]=[row[col] for row in df.select(col).distinct().collect()] # creating a dictionary with the column name as key and the list of values as value (distinct values)\n",
    "\n",
    "    encoded_columns = []\n",
    "    for name_column, column_values in diz.items():\n",
    "        encoded_columns.extend(generate_encoded_columns(df, name_column, column_values)) # called the function to generate the encoded columns\n",
    "    encoded_df = df.select(df_id, *encoded_columns)\n",
    "    #join the encoded df with the original df on the key df_id\n",
    "    df = df.join(encoded_df, df_id)\n",
    "    #drop the columns in column_names\n",
    "    df = df.drop(*column_names)\n",
    "    return df"
   ]
  },
  {
   "cell_type": "code",
   "execution_count": 13,
   "metadata": {},
   "outputs": [],
   "source": [
    "column_names = [\"preferred_foot\", \"work_rate\", \"position\", \"sub_position\"] #columns to apply one hot encoding (categorical features)\n",
    "dfc = apply_one_hot_encoding(dfc, column_names, \"player_id\") # apply one hot encoding to the specified columns on the df id player_id"
   ]
  },
  {
   "attachments": {},
   "cell_type": "markdown",
   "metadata": {},
   "source": [
    "### **NO PCA! Assemble the features of dfc**"
   ]
  },
  {
   "attachments": {},
   "cell_type": "markdown",
   "metadata": {},
   "source": [
    "This function allows to assemble the dataset for the k-means if we wanto to apply pca"
   ]
  },
  {
   "cell_type": "code",
   "execution_count": 14,
   "metadata": {},
   "outputs": [],
   "source": [
    "def dataset_assembler(df): \n",
    "   # create an instance of VectorAssembler specifying the input columns and the output column\n",
    "    assembler = VectorAssembler(inputCols=list(set(df.columns) - set([\"player_id\", \"features\", \"age_copy\"])), outputCol=\"pcaFeatures\") # although no pca has been applied, the column is still called pcaFeatures\n",
    "\n",
    "    # apply the VectorAssembler to the DataFrame\n",
    "    df_pca = assembler.transform(df).select(\"player_id\", \"pcaFeatures\")\n",
    "    return df_pca"
   ]
  },
  {
   "attachments": {},
   "cell_type": "markdown",
   "metadata": {},
   "source": [
    "### **Principal Component Analysis: PCA**"
   ]
  },
  {
   "attachments": {},
   "cell_type": "markdown",
   "metadata": {},
   "source": [
    "Using the method of explained variance. The method of explained variance is a statistical technique used to understand the amount of information or variability in a dataset that is captured or \"explained\" by each principal component. Here are the algorithmic steps:\n",
    "- Apply PCA to the dataframe with a large k value, in our case k is equal to the number of features of the dataframe;\n",
    "- Get the variance explained by each principal component using the 'explainedVariance' method of the PCA model;\n",
    "- Calculate the total variance by adding up all the explained variances;\n",
    "- Calculates the percentage of variance explained by each principal component by dividing the explained variance of each component by the total variance;\n",
    "- Calculates the cumulative variance, which is the cumulative sum of the percentages of explained variance;\n",
    "- Select a desired value of percentage of total variance to explain, in our case 95%;\n",
    "- Find the smallest value of k such that the cumulative variance exceeds or equals the desired percentage;\n",
    "- k will be the number of components."
   ]
  },
  {
   "cell_type": "code",
   "execution_count": 15,
   "metadata": {},
   "outputs": [],
   "source": [
    "def get_optimal_k(df, desired_variance_percentage, k):\n",
    "    \n",
    "    assembler = VectorAssembler(inputCols=list(set(df.columns) - set([\"player_id\", \"features\", \"age_copy\"])), outputCol=\"features_\")\n",
    "    df_assembled = assembler.transform(df)\n",
    "\n",
    "    pca = PCA(k=k, inputCol=\"features_\", outputCol=\"pcaFeatures\")\n",
    "    model = pca.fit(df_assembled)\n",
    "\n",
    "    explained_variance = model.explainedVariance.toArray() # returns a numpy.ndarray to calculate the total variance\n",
    "    total_variance = np.sum(explained_variance) # sum of the explained variance\n",
    "\n",
    "    cumulative_variance = 0.0\n",
    "    num_selected_features = 0\n",
    "\n",
    "    for variance in explained_variance:\n",
    "        cumulative_variance += variance\n",
    "        num_selected_features += 1\n",
    "        if cumulative_variance >= desired_variance_percentage * total_variance:\n",
    "            break\n",
    "\n",
    "    return num_selected_features"
   ]
  },
  {
   "attachments": {},
   "cell_type": "markdown",
   "metadata": {},
   "source": [
    "Applying PCA to decrease the number of features"
   ]
  },
  {
   "cell_type": "code",
   "execution_count": 16,
   "metadata": {},
   "outputs": [],
   "source": [
    "def apply_PCA(df, k):\n",
    "\n",
    "    assembler = VectorAssembler(inputCols=list(set(df.columns) - set([\"player_id\", \"features\", \"age_copy\"])), outputCol=\"features_\")\n",
    "    df_assembled = assembler.transform(df)\n",
    "    pca = PCA(k=k, inputCol=\"features_\", outputCol=\"pcaFeatures\")\n",
    "    model = pca.fit(df_assembled)\n",
    "    df_pca = model.transform(df_assembled).select(\"player_id\", \"pcaFeatures\")\n",
    "    \n",
    "    return df_pca"
   ]
  },
  {
   "attachments": {},
   "cell_type": "markdown",
   "metadata": {},
   "source": [
    "This function prepares the dataset to k-means:\n",
    "- if the flag is true, then apply the pca\n",
    "- if the flag is false, then assemble the dataset"
   ]
  },
  {
   "cell_type": "code",
   "execution_count": 17,
   "metadata": {},
   "outputs": [],
   "source": [
    "def flag_PCA(df,flag): # if flag is True, apply PCA, otherwise apply assembler\n",
    "    if flag is True:\n",
    "        desired_variance_percentage = 0.95\n",
    "        k = len(list(set(df.columns) - set([\"player_id\", \"features\", \"age_copy\"]))) + len(dfc.first()[\"scaled_features\"])\n",
    "        optimal_k = get_optimal_k(df, desired_variance_percentage, k-1)\n",
    "        print(\"I'm applying pca with an optimal k= \", optimal_k)\n",
    "        df_pca = apply_PCA(df, optimal_k)\n",
    "    else:\n",
    "        df_pca = dataset_assembler(df)\n",
    "        print(\"I'm not applying pca, but i'm assembling the dataset for k-means\")\n",
    "    return df_pca"
   ]
  },
  {
   "attachments": {},
   "cell_type": "markdown",
   "metadata": {},
   "source": [
    "### **Applying k-means** "
   ]
  },
  {
   "cell_type": "code",
   "execution_count": 18,
   "metadata": {},
   "outputs": [],
   "source": [
    "RANDOM_SEED = 42"
   ]
  },
  {
   "cell_type": "code",
   "execution_count": 19,
   "metadata": {},
   "outputs": [],
   "source": [
    "def k_means(dataset, n_clusters, distance_measure=\"euclidean\", max_iter=150, features_col=\"pcaFeatures\", prediction_col=\"cluster\", random_seed=RANDOM_SEED):\n",
    "  \n",
    "    #print(\"\"\"k-means parameters: - number of clusters = {:d} - max iterations = {:d} - distance measure = {:s} - random seed = {:d}\"\"\".format(n_clusters, max_iter, distance_measure, random_seed))\n",
    "\n",
    "    # train a k-means model\n",
    "    kmeans = KMeans(featuresCol=features_col, \n",
    "                    predictionCol=prediction_col, \n",
    "                    k=n_clusters, \n",
    "                    initMode=\"k-means||\", # or random\n",
    "                    initSteps=20, \n",
    "                    tol=0.00000001, \n",
    "                    maxIter=max_iter, \n",
    "                    seed=random_seed, \n",
    "                    distanceMeasure=distance_measure)\n",
    "    model = kmeans.fit(dataset)\n",
    "\n",
    "    clusters_df = model.transform(dataset) # obtain new df with the cluster column (prediction_col)\n",
    "\n",
    "    return model, clusters_df"
   ]
  },
  {
   "cell_type": "code",
   "execution_count": 20,
   "metadata": {},
   "outputs": [],
   "source": [
    "def evaluate_k_means(clusters, metric_name=\"silhouette\", distance_measure=\"squaredEuclidean\",prediction_col=\"cluster\"):\n",
    "  \n",
    "  # evaluate clustering by computing Silhouette score\n",
    "  evaluator = ClusteringEvaluator(metricName=metric_name,\n",
    "                                  distanceMeasure=distance_measure, \n",
    "                                  predictionCol=prediction_col\n",
    "                                  )\n",
    "\n",
    "  return evaluator.evaluate(clusters)"
   ]
  },
  {
   "cell_type": "code",
   "execution_count": 21,
   "metadata": {},
   "outputs": [],
   "source": [
    "import matplotlib.pyplot as plt\n",
    "\n",
    "def applying_elbow(df, features_col=\"pcaFeatures\", prediction_col=\"cluster\", min_k=60, max_k=100, random_seed=RANDOM_SEED):        \n",
    "\n",
    "    clustering_results_wcss = {} # dictionary to store the results of the clustering (key=k, value=WCSS)\n",
    "    clustering_results_silhouette = {} # dictionary to store the results of the clustering (key=k, value=silhouette)\n",
    "    k_values = range(min_k, max_k) # range of k values to try\n",
    "\n",
    "    wcss_values = [] # list to plot\n",
    "    silhouette_values = [] # list to plot\n",
    "\n",
    "    for k in k_values:\n",
    "        model, clusters_df = k_means(df, k, features_col=\"pcaFeatures\", prediction_col=prediction_col, random_seed=RANDOM_SEED)\n",
    "        clusters_df = clusters_df.withColumn(\"features\", clusters_df[\"pcaFeatures\"])\n",
    "\n",
    "        # calculate WCSS\n",
    "        wcss = model.summary.trainingCost\n",
    "        wcss_values.append(wcss)\n",
    "        clustering_results_wcss[k] = wcss\n",
    "\n",
    "        # calculate silhouette\n",
    "        silhouette = evaluate_k_means(clusters_df)\n",
    "        silhouette_values.append(silhouette)\n",
    "        clustering_results_silhouette[k] = silhouette\n",
    "\n",
    "    # Plot elbow method\n",
    "    plt.plot(k_values, wcss_values, 'bx-')\n",
    "    plt.xlabel('Number of cluster (k)')\n",
    "    plt.ylabel('WCSS')\n",
    "    plt.title('Elbow method')\n",
    "    plt.show()\n",
    "\n",
    "    # Plot silhouette\n",
    "    plt.plot(k_values, silhouette_values, 'bx-')\n",
    "    plt.xlabel('Number of Clusters (k)')\n",
    "    plt.ylabel('Silhouette')\n",
    "    plt.title('Silhouette method')\n",
    "    plt.show()\n",
    "    \n",
    "    return clustering_results_wcss, clustering_results_silhouette\n"
   ]
  },
  {
   "attachments": {},
   "cell_type": "markdown",
   "metadata": {},
   "source": [
    "Split dfc in dfc1, composed by player with age >25, and dfc2, composed by player with age <=25\n",
    "\n",
    "**dfc1 is made up of players who are over 25 years old**\n",
    "\n",
    "**dfc2 is made up of players who are under 25 years old**"
   ]
  },
  {
   "cell_type": "code",
   "execution_count": 22,
   "metadata": {},
   "outputs": [],
   "source": [
    "# split dfc in two dataframes: one composed of player with age >25, the other composed of player with age <=25\n",
    "def split_dataframe(dfc):\n",
    "    dfc1 = dfc.filter(dfc.age_copy > 25)\n",
    "    dfc2 = dfc.filter(dfc.age_copy <= 25)\n",
    "    return dfc1, dfc2"
   ]
  },
  {
   "cell_type": "code",
   "execution_count": 23,
   "metadata": {},
   "outputs": [],
   "source": [
    "dfc1, dfc2 = split_dataframe(dfc)"
   ]
  },
  {
   "attachments": {},
   "cell_type": "markdown",
   "metadata": {},
   "source": [
    "In this case,  we apply k-means, then our categorical features are processed by one hot encoding, then we can apply PCA (flag = True)"
   ]
  },
  {
   "cell_type": "code",
   "execution_count": 24,
   "metadata": {},
   "outputs": [
    {
     "name": "stdout",
     "output_type": "stream",
     "text": [
      "I'm applying pca with an optimal k=  21\n",
      "I'm applying pca with an optimal k=  25\n"
     ]
    }
   ],
   "source": [
    "df1_pca = flag_PCA(dfc1,flag=True)\n",
    "df2_pca = flag_PCA(dfc2,flag=True)"
   ]
  },
  {
   "attachments": {},
   "cell_type": "markdown",
   "metadata": {},
   "source": [
    "Applying elbow method to find the optimal k (and silhouette)"
   ]
  },
  {
   "cell_type": "code",
   "execution_count": 25,
   "metadata": {},
   "outputs": [
    {
     "data": {
      "image/png": "[encoded data removed]",
      "text/plain": [
       "<Figure size 640x480 with 1 Axes>"
      ]
     },
     "metadata": {},
     "output_type": "display_data"
    },
    {
     "data": {
      "image/png": "[encoded data removed]",
      "text/plain": [
       "<Figure size 640x480 with 1 Axes>"
      ]
     },
     "metadata": {},
     "output_type": "display_data"
    },
    {
     "data": {
      "image/png": "[encoded data removed]",
      "text/plain": [
       "<Figure size 640x480 with 1 Axes>"
      ]
     },
     "metadata": {},
     "output_type": "display_data"
    },
    {
     "data": {
      "image/png": "[encoded data removed]",
      "text/plain": [
       "<Figure size 640x480 with 1 Axes>"
      ]
     },
     "metadata": {},
     "output_type": "display_data"
    }
   ],
   "source": [
    "# applying elbow method to find the optimal k (and silhouette)\n",
    "clustering_results1 = applying_elbow(df1_pca, features_col=\"pcaFeatures\", prediction_col=\"cluster\", min_k=55, max_k=115, random_seed=RANDOM_SEED)[1] \n",
    "clustering_results2 = applying_elbow(df2_pca, features_col=\"pcaFeatures\", prediction_col=\"cluster\", min_k=55, max_k=115, random_seed=RANDOM_SEED)[1] "
   ]
  },
  {
   "attachments": {},
   "cell_type": "markdown",
   "metadata": {},
   "source": [
    "We obtain, for each dataset, the k value for k-means through silhouette method. In case we want to rely on the elbow method we should replace k_clustering1 and k_clustering2 with k values decided by elbow"
   ]
  },
  {
   "cell_type": "code",
   "execution_count": 26,
   "metadata": {},
   "outputs": [],
   "source": [
    "# obtain the key of the max silhoouette value to find the optimal k for k-means\n",
    "k_clustering1 = list(dict(sorted(clustering_results1.items(), key=lambda item: item[1], reverse=True)))[0]\n",
    "k_clustering2 = list(dict(sorted(clustering_results2.items(), key=lambda item: item[1], reverse=True)))[0]"
   ]
  },
  {
   "cell_type": "code",
   "execution_count": 27,
   "metadata": {},
   "outputs": [],
   "source": [
    "model1, df_clusters1 = k_means(df1_pca, k_clustering1, features_col=\"pcaFeatures\", prediction_col=\"cluster\", random_seed=RANDOM_SEED) # k_clustering1 or we can choose the number of clusters\n",
    "model2, df_clusters2 = k_means(df2_pca, k_clustering2, features_col=\"pcaFeatures\", prediction_col=\"cluster\", random_seed=RANDOM_SEED) # k_clustering1 or we can choose the number of clusters"
   ]
  },
  {
   "cell_type": "code",
   "execution_count": 28,
   "metadata": {},
   "outputs": [],
   "source": [
    "df_clusters1 = df_clusters1.withColumn(\"features\", df_clusters1[\"pcaFeatures\"]) # we need to do this because the function evaluate_k_means needs a column named \"features\"\n",
    "df_clusters2 = df_clusters2.withColumn(\"features\", df_clusters2[\"pcaFeatures\"]) # we need to do this because the function evaluate_k_means needs a column named \"features\"\n",
    "silhouette1 = evaluate_k_means(df_clusters1, metric_name=\"silhouette\", distance_measure=\"squaredEuclidean\", prediction_col=\"cluster\")\n",
    "silhouette2 = evaluate_k_means(df_clusters2, metric_name=\"silhouette\", distance_measure=\"squaredEuclidean\", prediction_col=\"cluster\")"
   ]
  },
  {
   "cell_type": "code",
   "execution_count": 29,
   "metadata": {},
   "outputs": [
    {
     "name": "stdout",
     "output_type": "stream",
     "text": [
      "0.15472270222005013\n",
      "0.15752634411254243\n"
     ]
    }
   ],
   "source": [
    "print(silhouette1)\n",
    "print(silhouette2)"
   ]
  },
  {
   "attachments": {},
   "cell_type": "markdown",
   "metadata": {},
   "source": [
    "Joining the initial dataframe and the k-means resulting dataframe"
   ]
  },
  {
   "cell_type": "code",
   "execution_count": 30,
   "metadata": {},
   "outputs": [],
   "source": [
    "#join the clusters_df with the original df on the key player_id\n",
    "df_k_means1 = df.join(df_clusters1, \"player_id\")\n",
    "df_k_means2 = df.join(df_clusters2, \"player_id\")"
   ]
  },
  {
   "cell_type": "code",
   "execution_count": 31,
   "metadata": {},
   "outputs": [],
   "source": [
    "#oridinare df_k_means per cluster\n",
    "df_k_means1 = df_k_means1.orderBy(\"cluster\")\n",
    "df_k_means2 = df_k_means2.orderBy(\"cluster\")"
   ]
  },
  {
   "attachments": {},
   "cell_type": "markdown",
   "metadata": {},
   "source": [
    "Drop weight_kg, nationality_name, work_rate pcaFeatures, features"
   ]
  },
  {
   "attachments": {},
   "cell_type": "markdown",
   "metadata": {},
   "source": [
    "Remove useful columns in df_k_means1 and df_k_means2"
   ]
  },
  {
   "cell_type": "code",
   "execution_count": 32,
   "metadata": {},
   "outputs": [],
   "source": [
    "# def funtion to remove columns in df_k_means1 and df_k_means2\n",
    "def remove_columns(df_k_means):\n",
    "    # drop pcaFeatures, features\n",
    "    df_k_means = df_k_means.drop(\"pcaFeatures\")\n",
    "    df_k_means = df_k_means.drop(\"features\")\n",
    "    df_k_means = df_k_means.drop(\"nationality_name\")\n",
    "    df_k_means = df_k_means.drop(\"work_rate\")\n",
    "    df_k_means = df_k_means.drop(\"weight_kg\")\n",
    "    return df_k_means"
   ]
  },
  {
   "cell_type": "code",
   "execution_count": 33,
   "metadata": {},
   "outputs": [],
   "source": [
    "df_k_means1 = remove_columns(df_k_means1)\n",
    "df_k_means2 = remove_columns(df_k_means2)"
   ]
  },
  {
   "attachments": {},
   "cell_type": "markdown",
   "metadata": {},
   "source": [
    "### **Plotting schema: average positions in the clusters**"
   ]
  },
  {
   "cell_type": "code",
   "execution_count": 34,
   "metadata": {},
   "outputs": [],
   "source": [
    "#convert df_k_means_2 in pandas dataframe\n",
    "df_k_means = df_k_means2.toPandas()"
   ]
  },
  {
   "attachments": {},
   "cell_type": "markdown",
   "metadata": {},
   "source": [
    "Let's create a graph that shows the average of the positions for each cluster"
   ]
  },
  {
   "cell_type": "code",
   "execution_count": 35,
   "metadata": {},
   "outputs": [
    {
     "data": {
      "image/png": "[encoded data removed]",
      "text/plain": [
       "<Figure size 2500x1500 with 1 Axes>"
      ]
     },
     "metadata": {},
     "output_type": "display_data"
    }
   ],
   "source": [
    "# calculate the mean of the positions for each cluster\n",
    "pivot_df = df_k_means.pivot_table(index='cluster', columns='position', aggfunc='size', fill_value=0)\n",
    "\n",
    "# calculate the mean of the positions for each cluster\n",
    "pivot_df = pivot_df.apply(lambda x: x / x.sum(), axis=1)\n",
    "\n",
    "# dimension of the plot\n",
    "plt.figure(figsize=(25, 15))\n",
    "\n",
    "# creation of the bar chart\n",
    "bar_width = 0.2\n",
    "positions = list(range(len(pivot_df.index)))\n",
    "colors = ['blue', 'green', 'orange', 'red']\n",
    "\n",
    "for i, position in enumerate(pivot_df.columns):\n",
    "    plt.bar([pos + (i * bar_width) for pos in positions], pivot_df[position], bar_width, color=colors[i], label=position)\n",
    "\n",
    "# set the name of the labels\n",
    "plt.title('Mean clusters positions')\n",
    "plt.xlabel('Cluster')\n",
    "plt.ylabel('Mean cluster positions')\n",
    "\n",
    "plt.legend()\n",
    "\n",
    "# set x axis\n",
    "plt.xticks(positions, pivot_df.index)\n",
    "\n",
    "# graph visualization\n",
    "plt.tight_layout()\n",
    "plt.show()\n"
   ]
  },
  {
   "attachments": {},
   "cell_type": "markdown",
   "metadata": {},
   "source": [
    "## **Football players cluster scouting**"
   ]
  },
  {
   "attachments": {},
   "cell_type": "markdown",
   "metadata": {},
   "source": [
    "The clustering algorithm used grouped similar players together. From now on we could think of using the obtained partition in various ways, in particolar, input a player_id and find a cluster made up of similar players with a lower average age"
   ]
  },
  {
   "attachments": {},
   "cell_type": "markdown",
   "metadata": {},
   "source": [
    "### **Implementation of the first of the two method to get the cluster for the input player**\n",
    "\n",
    "This method returns always one cluster. It does not allow the manipulation of the parameters to define the similarity. It is based on cosine similarity.\n",
    "The problem with this method is that it tends to look for a cluster containing players with similar stat values ​​to the input player. The method implemented subsequently is able to search for clusters that contain players with values ​​even lower than those of the player given in input."
   ]
  },
  {
   "attachments": {},
   "cell_type": "markdown",
   "metadata": {},
   "source": [
    "This function is used to create:\n",
    "- a dictionary with the stats of the input player (player_id)\n",
    "- a list of dictionary with the average stats of the clusters (mean or mode)"
   ]
  },
  {
   "cell_type": "code",
   "execution_count": 36,
   "metadata": {},
   "outputs": [],
   "source": [
    "def cluster_toDict(df1, df2, player_id): #player_id is related to df1\n",
    "    pdf1 = df1.filter(col(\"player_id\") == player_id).toPandas()\n",
    "    pdf2 = df2.toPandas()\n",
    "\n",
    "    player_id_dict = pdf1.drop(columns=[\"player_id\", \"name\", \"age\", \"cluster\"]).iloc[0].to_dict() # we need to drop the columns that we don't need\n",
    "\n",
    "    unique_clusters = pdf2[\"cluster\"].unique()\n",
    "    clusters_value = []\n",
    "\n",
    "    for cluster in unique_clusters:\n",
    "        # Filter the rows where the column \"cluster\" is equal to the current cluster value\n",
    "        pdf_filtered = pdf2[pdf2[\"cluster\"] == cluster]\n",
    "        pdf_filtered = pdf_filtered.drop(columns=[\"player_id\", \"name\", \"age\", \"cluster\"])\n",
    "\n",
    "        # Calculate the mean values for the numeric columns and the mode for the non-numeric columns\n",
    "        clus_values = pdf_filtered.mean(numeric_only=True).to_dict() # create the dictionary for the current cluster inserting the mean values of the numeric columns\n",
    "        non_numeric_columns = pdf_filtered.select_dtypes(exclude=[\"number\"]).columns # obtain the list of the non-numeric columns\n",
    "\n",
    "        for column in non_numeric_columns:\n",
    "            clus_values[column] = pdf_filtered[column].mode()[0] # insert the mode value of the non-numeric column in the dictionary\n",
    "\n",
    "        clusters_value.append(clus_values)\n",
    "\n",
    "    return player_id_dict, clusters_value"
   ]
  },
  {
   "attachments": {},
   "cell_type": "markdown",
   "metadata": {},
   "source": [
    "This function returns the index of the cluster with the most similar player"
   ]
  },
  {
   "cell_type": "code",
   "execution_count": 37,
   "metadata": {},
   "outputs": [],
   "source": [
    "def find_most_similar_index(d, dlist): # given a dictionary and a list of dictionaries, find the index of the most similar dictionary in the list (with respect of dictionary d)\n",
    "    categorical_keys = [key for key, value in d.items() if isinstance(value, type(\"a\"))]\n",
    "    numeric_keys = [key for key in d if key not in categorical_keys]\n",
    "\n",
    "    # Convert the categorical attributes into one-hot encoding\n",
    "    encoder = OneHotEncoder(sparse=False, handle_unknown=\"ignore\") #sparse=False because we want all the values in the matrix, handle_unknown=\"ignore\" because we don't want to raise an error if we find a new value\n",
    "    categorical_values = encoder.fit_transform([[d[key]] for key in categorical_keys])\n",
    "\n",
    "    # We have to create vector and a list of vectors to use the cosine_similarity function\n",
    "    vectors = []\n",
    "    for d_dict in dlist:\n",
    "        numeric_values = [d_dict.get(key, 0.0) for key in numeric_keys]\n",
    "        cat_values = categorical_values.flatten().tolist()\n",
    "        vector = numeric_values + cat_values\n",
    "        vectors.append(vector)\n",
    "\n",
    "    vector = [d.get(key, 0.0) for key in numeric_keys] + categorical_values.flatten().tolist()\n",
    "\n",
    "    # Calculate the cosine similarity between the vectors\n",
    "    similarities = cosine_similarity(vectors, [vector])\n",
    "    most_similar_index = np.argmax(similarities)\n",
    "    return most_similar_index\n"
   ]
  },
  {
   "cell_type": "code",
   "execution_count": 38,
   "metadata": {},
   "outputs": [],
   "source": [
    "# PLAYER ID # insert the id of the player for whom we want to search for similar younger players\n",
    "player_id = 39983 #Leonardo Bonucci\n",
    "player_id_dict, clusters_value = cluster_toDict(df_k_means1, df_k_means2, player_id)"
   ]
  },
  {
   "cell_type": "code",
   "execution_count": 39,
   "metadata": {},
   "outputs": [],
   "source": [
    "result_playerid = df_k_means1.filter(df_k_means1.player_id == player_id)"
   ]
  },
  {
   "attachments": {},
   "cell_type": "markdown",
   "metadata": {},
   "source": [
    "Create copies of the list and of the player dictionary, and remove the keys [\"overall\", \"weak_foot\", \"pace\", \"shooting\", \"dribbling\", \"defending\", \"physic\"] from the dictionary beacuse the search will be not based on these values"
   ]
  },
  {
   "cell_type": "code",
   "execution_count": 40,
   "metadata": {},
   "outputs": [],
   "source": [
    "player_id_dict_copy = copy.deepcopy(player_id_dict)\n",
    "clusters_value_copy = copy.deepcopy(clusters_value)\n",
    "keys_to_remove = [\"overall\", \"weak_foot\", \"pace\", \"shooting\", \"dribbling\", \"defending\", \"physic\", \"last_valuation\"]\n",
    "\n",
    "for key in keys_to_remove:\n",
    "    del player_id_dict_copy[key]\n",
    "\n",
    "for i in range(len(clusters_value_copy)):\n",
    "    for key in keys_to_remove:\n",
    "        del clusters_value_copy[i][key]"
   ]
  },
  {
   "cell_type": "code",
   "execution_count": 41,
   "metadata": {},
   "outputs": [
    {
     "name": "stderr",
     "output_type": "stream",
     "text": [
      "c:\\Users\\marco\\AppData\\Local\\Programs\\Python\\Python310\\lib\\site-packages\\sklearn\\preprocessing\\_encoders.py:828: FutureWarning: `sparse` was renamed to `sparse_output` in version 1.2 and will be removed in 1.4. `sparse_output` is ignored unless you leave `sparse` to its default value.\n",
      "  warnings.warn(\n"
     ]
    }
   ],
   "source": [
    "if df_k_means2.filter(col(\"cluster\") == 0).count() > 0:\n",
    "    cluster_index = find_most_similar_index(player_id_dict_copy, clusters_value_copy)\n",
    "else:\n",
    "    cluster_index = find_most_similar_index(player_id_dict_copy, clusters_value_copy) + 1"
   ]
  },
  {
   "cell_type": "code",
   "execution_count": 42,
   "metadata": {},
   "outputs": [
    {
     "name": "stdout",
     "output_type": "stream",
     "text": [
      "output cluster index first algorithm:\n",
      "24\n"
     ]
    }
   ],
   "source": [
    "print(\"output cluster index first algorithm:\")\n",
    "print(cluster_index)"
   ]
  },
  {
   "attachments": {},
   "cell_type": "markdown",
   "metadata": {},
   "source": [
    "Result 1 is the dataframe with the cluster (cluster_index) obtained by the first scoutin algorithm"
   ]
  },
  {
   "cell_type": "code",
   "execution_count": 43,
   "metadata": {},
   "outputs": [],
   "source": [
    "result1 = df_k_means2.filter(col(\"cluster\") == int(cluster_index))"
   ]
  },
  {
   "attachments": {},
   "cell_type": "markdown",
   "metadata": {},
   "source": [
    "### **Implementation of a more precise method to get the clusters for the input player**\n",
    "\n",
    "This method returns a list of similar cluster. It can return an empty list. It allows the manipulation of the hyperparameters"
   ]
  },
  {
   "cell_type": "code",
   "execution_count": 44,
   "metadata": {},
   "outputs": [],
   "source": [
    "key_list = []\n",
    "for k,v in player_id_dict.items():\n",
    "    key_list.append(k)"
   ]
  },
  {
   "cell_type": "code",
   "execution_count": 45,
   "metadata": {},
   "outputs": [],
   "source": [
    "# remove: overall, height_cm, skill_moves, pace, shooting, dribbling, defending, physic from key_list\n",
    "key_list = list(set(key_list) - set([\"overall\", \"weak_foot\", \"pace\", \"shooting\", \"dribbling\", \"defending\", \"physic\"]))"
   ]
  },
  {
   "attachments": {},
   "cell_type": "markdown",
   "metadata": {},
   "source": [
    "Remove the keys [\"overall\", \"weak_foot\", \"pace\", \"shooting\", \"dribbling\", \"defending\", \"physic\"] from the dictionary beacuse the search will be not based on these values"
   ]
  },
  {
   "cell_type": "code",
   "execution_count": 46,
   "metadata": {},
   "outputs": [],
   "source": [
    "import copy\n",
    "player_id_dict_c = player_id_dict.copy()\n",
    "clusters_value_c = copy.deepcopy(clusters_value)\n",
    "keys_to_remove = [\"overall\", \"weak_foot\", \"pace\", \"shooting\", \"dribbling\", \"defending\", \"physic\"]\n",
    "\n",
    "for key in keys_to_remove:\n",
    "    del player_id_dict_c[key]\n",
    "\n",
    "for i in range(len(clusters_value_c)):\n",
    "    for key in keys_to_remove:\n",
    "        del clusters_value_c[i][key]"
   ]
  },
  {
   "attachments": {},
   "cell_type": "markdown",
   "metadata": {},
   "source": [
    "Function to get the list of the clusters with players similar to one given in input.\n",
    "\n",
    "1. For each cluster in the list of clusters:\n",
    "    - Check if the cluster has the same position, sub position, and preferred foot as the player.\n",
    "    - Check if the cluster has a height that does not differ by more than 10 cm from the player.\n",
    "    - Check if the cluster has an average last valuation between min_value and max_value\n",
    "    - Check if the cluster has a skill moves that does not differ by more than 2 points from the player.\n",
    "\n",
    "\n",
    "2. Sort the keys of the player in descending order by values.\n",
    "\n",
    "3. For each cluster in the list of clusters:\n",
    "    - Sort the keys of the cluster in descending order by values.\n",
    "\n",
    "\n",
    "4. Return the clusters that have the same first x values as those of the player.\n"
   ]
  },
  {
   "cell_type": "code",
   "execution_count": 47,
   "metadata": {},
   "outputs": [],
   "source": [
    "import math\n",
    "\n",
    "min_value = 5000000 \n",
    "max_value = 50000000\n",
    "\n",
    "def get_clus(player_dict, clusters_list): # return the list of the clusters for the player of player_dict\n",
    "    player_dict_c = copy.deepcopy(player_dict)\n",
    "    clusters_list_c = copy.deepcopy(clusters_list)\n",
    "\n",
    "    clus_list_first = [] # dictionary that have passed the first filter\n",
    "\n",
    "    # first filter\n",
    "    for i in range(len(clusters_list_c)):\n",
    "        if clusters_list_c[i][\"position\"] == player_dict_c[\"position\"] and clusters_list_c[i][\"sub_position\"] == player_dict_c[\"sub_position\"] and clusters_list_c[i][\"preferred_foot\"] == player_dict_c[\"preferred_foot\"]:\n",
    "            height_diff = int(clusters_list_c[i][\"height_cm\"]) - int(player_dict_c[\"height_cm\"])\n",
    "            skills_diff = int(clusters_list_c[i][\"skill_moves\"]) - int(player_dict_c[\"skill_moves\"])\n",
    "            if math.sqrt(height_diff**2) < 20 and math.sqrt(skills_diff**2) <= 2 and int(clusters_list_c[i][\"last_valuation\"]) <= max_value and int(clusters_list_c[i][\"last_valuation\"]) >= min_value:\n",
    "                clus_list_first.append((i,clusters_list_c[i]))\n",
    "\n",
    "    # delete from clus_list_first and player_dict_c keys height_cm, skill_moves, last_valuation, position, sub_position, preferred_foot\n",
    "\n",
    "    keys_todelete = [\"height_cm\", \"skill_moves\", \"last_valuation\", \"position\", \"sub_position\", \"preferred_foot\"]\n",
    "\n",
    "    for clus in clus_list_first:\n",
    "        for key in keys_todelete:\n",
    "            del clus[1][key]\n",
    "    #print(clus_list_first)\n",
    "\n",
    "    # delete from player_dict_c keys height_cm, skill_moves, last_valuation, position, sub_position, preferred_foot\n",
    "    for key in keys_todelete:\n",
    "        del player_dict_c[key]\n",
    "\n",
    "    # sort the player_dict_c keys based on the values\n",
    "    sorted_keys_player_id = sorted(player_dict_c, key=player_dict_c.get, reverse=True)\n",
    "    #print(sorted_keys_player_id)\n",
    "\n",
    "    # sort the clusters based on the values\n",
    "    sorted_keys_clusters = []\n",
    "    for clus in clus_list_first:\n",
    "        sorted_keys_clusters.append((clus[0], sorted(clus[1], key=clus[1].get, reverse=True)))\n",
    "    #print(sorted_keys_clusters)\n",
    "\n",
    "    # filter the filtered clusters based on the remaining stats value\n",
    "    list_to_return = []\n",
    "    for clus in sorted_keys_clusters:\n",
    "        if len(list((set(sorted_keys_player_id[:10])) & (set(clus[1][:10])))) > 4:\n",
    "            list_to_return.append(clus[0])\n",
    "\n",
    "    # the first element of the output list must be the cluster with the smallest market_value\n",
    "    if len(list_to_return) > 0:\n",
    "        list_to_return = sorted(list_to_return, key=lambda x: clusters_list[x][\"last_valuation\"], reverse=False)\n",
    "\n",
    "    return list_to_return"
   ]
  },
  {
   "cell_type": "code",
   "execution_count": 48,
   "metadata": {},
   "outputs": [],
   "source": [
    "l = get_clus(player_id_dict_c, clusters_value_c)"
   ]
  },
  {
   "attachments": {},
   "cell_type": "markdown",
   "metadata": {},
   "source": [
    "This algorithm can return from 0 to n clusters. In this case, for example we show the first one because the list is sorted based on the last valuation (average) of the clusters. Then, it returns the the cluster with the smalles market value"
   ]
  },
  {
   "cell_type": "code",
   "execution_count": 49,
   "metadata": {},
   "outputs": [
    {
     "name": "stdout",
     "output_type": "stream",
     "text": [
      "output cluster index second algorithm:\n",
      "9\n"
     ]
    }
   ],
   "source": [
    "if len(l) == 0:\n",
    "    print(\"no cluster found\")\n",
    "else:\n",
    "    print(\"output cluster index second algorithm:\")\n",
    "    print(l[0])"
   ]
  },
  {
   "attachments": {},
   "cell_type": "markdown",
   "metadata": {},
   "source": [
    "Result 2 is the dataframe with the cluster (cluster_index) obtained by the first scouting algorithm"
   ]
  },
  {
   "cell_type": "code",
   "execution_count": 50,
   "metadata": {},
   "outputs": [],
   "source": [
    "if len(l) != 0:\n",
    "    result2 = df_k_means2.filter(col(\"cluster\") == l[0])"
   ]
  },
  {
   "attachments": {},
   "cell_type": "markdown",
   "metadata": {},
   "source": [
    "**Before showing the results of the two algorithms, we order the elements of the clusters according to the similarity to the input player**"
   ]
  },
  {
   "attachments": {},
   "cell_type": "markdown",
   "metadata": {},
   "source": [
    "Creating the dictionaries of the player_id and of the two clusters"
   ]
  },
  {
   "cell_type": "code",
   "execution_count": 51,
   "metadata": {},
   "outputs": [],
   "source": [
    "column_names = result_playerid.columns\n",
    "diz_result_playerid = {column: value for column, value in zip(column_names, result_playerid.first())} # dictionary of the player_id"
   ]
  },
  {
   "cell_type": "code",
   "execution_count": 52,
   "metadata": {},
   "outputs": [],
   "source": [
    "def from_df_to_dict(df):\n",
    "    # Convert the DataFrame into a list of rows using collect()\n",
    "    rows = df.collect()\n",
    "\n",
    "    # Define the function for the row processing\n",
    "    def process_row(row):\n",
    "        column_names = row.__fields__\n",
    "        row_dict = {column: getattr(row, column) for column in column_names}\n",
    "        l_diz_result.append(row_dict)\n",
    "\n",
    "    l_diz_result = [] # list for the results\n",
    "\n",
    "    # Function application to each row\n",
    "    for row in rows:\n",
    "        process_row(row)\n",
    "    return l_diz_result"
   ]
  },
  {
   "cell_type": "code",
   "execution_count": 53,
   "metadata": {},
   "outputs": [],
   "source": [
    "l_diz_result1 = from_df_to_dict(result1) # dictionary of the cluster result of the first algorithm\n",
    "if len(l) != 0:\n",
    "    l_diz_result2 = from_df_to_dict(result2) # dictionary of the cluster result of the second algorithm"
   ]
  },
  {
   "attachments": {},
   "cell_type": "markdown",
   "metadata": {},
   "source": [
    "We define the function that takes as input the dictionary of the input player and the dictionary of the cluster. Sort the cluster dictionary items by similarity to the player dictionary"
   ]
  },
  {
   "cell_type": "code",
   "execution_count": 54,
   "metadata": {},
   "outputs": [],
   "source": [
    "def sort_dicts(diz, ldiz):\n",
    "    del diz[\"player_id\"]\n",
    "    del diz[\"cluster\"]\n",
    "\n",
    "    # Creation of the list of unique keys\n",
    "    keys = set(diz.keys())\n",
    "    for ld in ldiz:\n",
    "        keys.update(ld.keys())\n",
    "\n",
    "    for el in ldiz:\n",
    "        del el[\"player_id\"]\n",
    "        del el[\"cluster\"]\n",
    "    \n",
    "    # Creation of the extended one-hot matrices for the reference dictionary (diz) and the dictionaries in the list (ldiz)\n",
    "    diz_matrix = create_extended_one_hot_matrix(diz, keys)\n",
    "    ldiz_matrices = [create_extended_one_hot_matrix(ld, keys) for ld in ldiz]\n",
    "    \n",
    "    # Calculate the cosine similarities between the reference dictionary and the dictionaries in the list\n",
    "    similarities = [cosine_similarity(diz_matrix, ld_matrix)[0][0] for ld_matrix in ldiz_matrices]\n",
    "\n",
    "    # Sort the dictionaries in the list based on the similarities\n",
    "    sorted_ldiz = [ld for _, ld in sorted(zip(similarities, ldiz), reverse=True)]\n",
    "    \n",
    "    return sorted_ldiz\n",
    "\n",
    "def create_extended_one_hot_matrix(diz, keys):\n",
    "    matrix = np.zeros((1, len(keys)))\n",
    "    key_list = list(keys)\n",
    "    for i, key in enumerate(key_list):\n",
    "        if key in diz:\n",
    "            value = diz[key]\n",
    "            if isinstance(value, type(\"a\")):\n",
    "                matrix[0][i] = 1\n",
    "            elif isinstance(value, (int, float)):\n",
    "                matrix[0][i] = value\n",
    "            elif isinstance(value, (list, tuple)):\n",
    "                matrix[0][i] = len(value)\n",
    "    return matrix"
   ]
  },
  {
   "cell_type": "code",
   "execution_count": 55,
   "metadata": {},
   "outputs": [],
   "source": [
    "if len(l) != 0:\n",
    "    l_diz_result2 = sort_dicts(copy.deepcopy(diz_result_playerid), copy.deepcopy(l_diz_result2))\n",
    "    \n",
    "l_diz_result1 = sort_dicts(copy.deepcopy(diz_result_playerid), copy.deepcopy(l_diz_result1))"
   ]
  },
  {
   "cell_type": "code",
   "execution_count": 56,
   "metadata": {},
   "outputs": [
    {
     "name": "stdout",
     "output_type": "stream",
     "text": [
      "output player first algorithm (players are sorted from most similar to least similar):\n"
     ]
    },
    {
     "name": "stdout",
     "output_type": "stream",
     "text": [
      "+-----------------+---+------------------+-------------------+--------------------------+-----------------------+-----------------+---------+---------------------------+------------------------+-------------------------+---------+------------------+--------------------+-------------------+-----------------------+--------------------+-----------------+---------+--------------+--------------------+-------------------+-----------------------+-------------------+---------------------+----------------+---------------------+----------------+----------------+------------------+---------------------+-----------------+-------+----+-------+------+--------+-------------+----------------+----------------+-------------+--------------+--------------+--------+------------------+-----------+---------------+-----------------+------------------+-----------+------------------+---------+\n",
      "|             name|age|attacking_crossing|attacking_finishing|attacking_heading_accuracy|attacking_short_passing|attacking_volleys|defending|defending_marking_awareness|defending_sliding_tackle|defending_standing_tackle|dribbling|goalkeeping_diving|goalkeeping_handling|goalkeeping_kicking|goalkeeping_positioning|goalkeeping_reflexes|goalkeeping_speed|height_cm|last_valuation|mentality_aggression|mentality_composure|mentality_interceptions|mentality_penalties|mentality_positioning|mentality_vision|movement_acceleration|movement_agility|movement_balance|movement_reactions|movement_sprint_speed|             name|overall|pace|passing|physic|position|power_jumping|power_long_shots|power_shot_power|power_stamina|power_strength|preferred_foot|shooting|skill_ball_control|skill_curve|skill_dribbling|skill_fk_accuracy|skill_long_passing|skill_moves|      sub_position|weak_foot|\n",
      "+-----------------+---+------------------+-------------------+--------------------------+-----------------------+-----------------+---------+---------------------------+------------------------+-------------------------+---------+------------------+--------------------+-------------------+-----------------------+--------------------+-----------------+---------+--------------+--------------------+-------------------+-----------------------+-------------------+---------------------+----------------+---------------------+----------------+----------------+------------------+---------------------+-----------------+-------+----+-------+------+--------+-------------+----------------+----------------+-------------+--------------+--------------+--------+------------------+-----------+---------------+-----------------+------------------+-----------+------------------+---------+\n",
      "|      Salih Özcan| 25|                62|                 66|                        72|                     78|               51|       76|                         75|                      74|                       76|       77|                13|                   7|                  9|                      9|                  11|                0|      180|       7000000|                  84|                 76|                     81|                 57|                   68|              74|                   78|              78|              84|                76|                   76|      Salih Özcan|     79|  77|     72|    81|Midfield|           74|              53|              65|           83|            80|         Right|      62|                76|         59|             77|               53|                76|          3|Defensive Midfield|        3|\n",
      "|  Cheick Doucouré| 23|                54|                 56|                        58|                     79|               48|       74|                         72|                      74|                       80|       76|                10|                  14|                 12|                     12|                  15|                0|      180|      10000000|                  75|                 77|                     76|                 52|                   67|              77|                   66|              72|              71|                76|                   69|  Cheick Doucouré|     76|  68|     71|    76|Midfield|           66|              56|              59|           78|            77|         Right|      57|                79|         59|             76|               47|                77|          3|Defensive Midfield|        3|\n",
      "|     Frank Onyeka| 25|                55|                 60|                        63|                     70|               53|       71|                         72|                      65|                       72|       70|                15|                   9|                  7|                      6|                  14|                0|      183|      10000000|                  76|                 70|                     76|                 48|                   67|              68|                   73|              79|              75|                71|                   88|     Frank Onyeka|     73|  81|     64|    80|Midfield|           77|              49|              61|           84|            79|         Right|      57|                70|         56|             68|               42|                68|          3|  Central Midfield|        3|\n",
      "|      Tyler Adams| 24|                55|                 48|                        65|                     79|               33|       73|                         73|                      70|                       77|       73|                 6|                  13|                 12|                      8|                   7|                0|      175|      17000000|                  79|                 76|                     74|                 51|                   65|              72|                   86|              83|              85|                77|                   75|      Tyler Adams|     76|  80|     69|    76|Midfield|           84|              46|              51|           86|            68|         Right|      48|                72|         52|             70|               42|                74|          3|Defensive Midfield|        3|\n",
      "|    Edson Álvarez| 25|                64|                 57|                        81|                     76|               63|       82|                         84|                      79|                       81|       69|                 7|                  11|                 10|                      7|                   6|                0|      187|      20000000|                  86|                 72|                     83|                 65|                   56|              63|                   69|              60|              68|                76|                   73|    Edson Álvarez|     80|  71|     67|    86|Midfield|           78|              40|              70|           87|            86|         Right|      57|                71|         42|             68|               40|                72|          2|Defensive Midfield|        3|\n",
      "|     Oliver Skipp| 22|                52|                 41|                        51|                     78|               38|       75|                         77|                      78|                       77|       71|                 8|                  12|                  9|                      7|                   5|                0|      175|      20000000|                  80|                 74|                     78|                 54|                   54|              71|                   67|              65|              74|                76|                   63|     Oliver Skipp|     77|  65|     68|    71|Midfield|           61|              45|              63|           74|            66|         Right|      47|                74|         61|             69|               42|                76|          2|Defensive Midfield|        3|\n",
      "|  Weston McKennie| 24|                73|                 74|                        80|                     79|               75|       78|                         75|                      75|                       80|       80|                 7|                   9|                 12|                      9|                  11|                0|      183|      25000000|                  80|                 80|                     79|                 61|                   82|              78|                   81|              75|              69|                79|                   82|  Weston McKennie|     80|  82|     76|    83|Midfield|           92|              73|              74|           87|            81|         Right|      74|                82|         77|             81|               63|                77|          3|  Central Midfield|        3|\n",
      "|  Boubacar Kamara| 23|                64|                 47|                        72|                     77|               28|       80|                         78|                      80|                       82|       73|                 8|                  12|                  8|                      6|                  11|                0|      184|      25000000|                  84|                 84|                     86|                 63|                   52|              72|                   71|              68|              66|                74|                   70|  Boubacar Kamara|     80|  70|     71|    79|Midfield|           79|              63|              67|           82|            76|         Right|      54|                77|         59|             71|               47|                75|          3|Defensive Midfield|        3|\n",
      "| Martín Zubimendi| 24|                65|                 67|                        65|                     82|               42|       79|                         78|                      78|                       83|       74|                 7|                   6|                 12|                     14|                  13|                0|      181|      25000000|                  66|                 82|                     83|                 45|                   79|              78|                   65|              71|              73|                84|                   54| Martín Zubimendi|     79|  59|     74|    70|Midfield|           78|              69|              58|           79|            66|         Right|      64|                79|         62|             69|               47|                77|          3|Defensive Midfield|        4|\n",
      "|Boubakary Soumaré| 24|                65|                 51|                        60|                     78|               53|       70|                         71|                      69|                       72|       74|                11|                   6|                 13|                      5|                  10|                0|      188|      28000000|                  76|                 77|                     73|                 52|                   68|              77|                   66|              62|              69|                76|                   69|Boubakary Soumaré|     76|  68|     73|    80|Midfield|           70|              58|              64|           79|            84|         Right|      56|                78|         65|             75|               53|                77|          3|Defensive Midfield|        3|\n",
      "|   Josko Gvardiol| 21|                61|                 42|                        77|                     76|               54|       80|                         77|                      83|                       83|       74|                 5|                   8|                  6|                      9|                  11|                0|      185|      30000000|                  85|                 75|                     80|                 61|                   58|              65|                   80|              68|              65|                77|                   84|   Josko Gvardiol|     81|  82|     69|    83|Defender|           84|              56|              76|           79|            84|          Left|      54|                76|         59|             75|               59|                74|          3|       Centre-Back|        4|\n",
      "|Lisandro Martínez| 25|                75|                 52|                        75|                     80|               56|       82|                         83|                      81|                       82|       77|                 6|                  14|                 13|                     14|                   8|                0|      178|      32000000|                  84|                 82|                     82|                 55|                   62|              73|                   74|              73|              79|                77|                   71|Lisandro Martínez|     81|  72|     76|    83|Defender|           91|              66|              72|           85|            81|          Left|      60|                79|         63|             76|               55|                82|          3|       Centre-Back|        3|\n",
      "|    Näis Djouahra| 23|                64|                 47|                        72|                     77|               28|       80|                         78|                      80|                       82|       73|                 8|                  12|                  8|                      6|                  11|                0|      184|        400000|                  84|                 84|                     86|                 63|                   52|              72|                   71|              68|              66|                74|                   70|    Näis Djouahra|     80|  70|     71|    79|  Attack|           79|              63|              67|           82|            76|         Right|      54|                77|         59|             71|               47|                75|          3|       Left Winger|        3|\n",
      "+-----------------+---+------------------+-------------------+--------------------------+-----------------------+-----------------+---------+---------------------------+------------------------+-------------------------+---------+------------------+--------------------+-------------------+-----------------------+--------------------+-----------------+---------+--------------+--------------------+-------------------+-----------------------+-------------------+---------------------+----------------+---------------------+----------------+----------------+------------------+---------------------+-----------------+-------+----+-------+------+--------+-------------+----------------+----------------+-------------+--------------+--------------+--------+------------------+-----------+---------------+-----------------+------------------+-----------+------------------+---------+\n",
      "\n",
      "None\n"
     ]
    }
   ],
   "source": [
    "print(\"output player first algorithm (players are sorted from most similar to least similar):\")\n",
    "result1 = spark.createDataFrame(l_diz_result1)\n",
    "print(result1.select(\"name\",*result1.columns).show(50))"
   ]
  },
  {
   "cell_type": "code",
   "execution_count": 57,
   "metadata": {},
   "outputs": [
    {
     "name": "stdout",
     "output_type": "stream",
     "text": [
      "output player second algorithm (players are sorted from most similar to least similar):\n",
      "+--------------------+---+------------------+-------------------+--------------------------+-----------------------+-----------------+---------+---------------------------+------------------------+-------------------------+---------+------------------+--------------------+-------------------+-----------------------+--------------------+-----------------+---------+--------------+--------------------+-------------------+-----------------------+-------------------+---------------------+----------------+---------------------+----------------+----------------+------------------+---------------------+--------------------+-------+----+-------+------+--------+-------------+----------------+----------------+-------------+--------------+--------------+--------+------------------+-----------+---------------+-----------------+------------------+-----------+------------+---------+\n",
      "|                name|age|attacking_crossing|attacking_finishing|attacking_heading_accuracy|attacking_short_passing|attacking_volleys|defending|defending_marking_awareness|defending_sliding_tackle|defending_standing_tackle|dribbling|goalkeeping_diving|goalkeeping_handling|goalkeeping_kicking|goalkeeping_positioning|goalkeeping_reflexes|goalkeeping_speed|height_cm|last_valuation|mentality_aggression|mentality_composure|mentality_interceptions|mentality_penalties|mentality_positioning|mentality_vision|movement_acceleration|movement_agility|movement_balance|movement_reactions|movement_sprint_speed|                name|overall|pace|passing|physic|position|power_jumping|power_long_shots|power_shot_power|power_stamina|power_strength|preferred_foot|shooting|skill_ball_control|skill_curve|skill_dribbling|skill_fk_accuracy|skill_long_passing|skill_moves|sub_position|weak_foot|\n",
      "+--------------------+---+------------------+-------------------+--------------------------+-----------------------+-----------------+---------+---------------------------+------------------------+-------------------------+---------+------------------+--------------------+-------------------+-----------------------+--------------------+-----------------+---------+--------------+--------------------+-------------------+-----------------------+-------------------+---------------------+----------------+---------------------+----------------+----------------+------------------+---------------------+--------------------+-------+----+-------+------+--------+-------------+----------------+----------------+-------------+--------------+--------------+--------+------------------+-----------+---------------+-----------------+------------------+-----------+------------+---------+\n",
      "|    Flavius Daniliuc| 22|                51|                 39|                        77|                     72|               33|       74|                         74|                      69|                       75|       60|                14|                  11|                  7|                      6|                   7|                0|      188|       7000000|                  73|                 72|                     71|                 31|                   49|              58|                   47|              46|              47|                71|                   62|    Flavius Daniliuc|     73|  55|     61|    75|Defender|           61|              38|              56|           67|            81|         Right|      42|                66|         51|             59|               30|                68|          2| Centre-Back|        4|\n",
      "|Sebastian Walukie...| 23|                23|                 36|                        71|                     70|               28|       71|                         70|                      71|                       72|       59|                10|                  14|                  6|                     15|                   6|                0|      188|       7000000|                  63|                 69|                     70|                 38|                   41|              40|                   64|              51|              51|                62|                   55|Sebastian Walukie...|     70|  59|     49|    74|Defender|           76|              42|              42|           68|            81|         Right|      38|                65|         37|             56|               22|                58|          2| Centre-Back|        2|\n",
      "|           Wout Faes| 25|                32|                 34|                        79|                     74|               24|       78|                         77|                      77|                       80|       58|                12|                  10|                  8|                      7|                   7|                0|      187|       8000000|                  75|                 69|                     76|                 42|                   41|              42|                   58|              43|              57|                74|                   59|           Wout Faes|     77|  59|     55|    77|Defender|           73|              27|              60|           73|            80|         Right|      38|                67|         41|             53|               35|                70|          2| Centre-Back|        3|\n",
      "|        Warmed Omari| 23|                44|                 25|                        77|                     73|               31|       77|                         77|                      76|                       79|       61|                 9|                   7|                 13|                     10|                  14|                0|      185|       8000000|                  70|                 69|                     76|                 41|                   34|              51|                   63|              48|              54|                71|                   66|        Warmed Omari|     75|  65|     58|    73|Defender|           72|              33|              52|           70|            75|         Right|      34|                68|         44|             59|               32|                64|          2| Centre-Back|        3|\n",
      "|         Amos Pieper| 25|                37|                 27|                        73|                     69|               26|       78|                         79|                      76|                       80|       55|                12|                  12|                 10|                      9|                  11|                0|      191|       7000000|                  66|                 72|                     75|                 52|                   31|              48|                   60|              48|              49|                75|                   69|         Amos Pieper|     75|  65|     53|    74|Defender|           64|              23|              50|           76|            77|         Right|      32|                61|         30|             48|               35|                58|          2| Centre-Back|        3|\n",
      "|       Matteo Lovato| 23|                40|                 24|                        68|                     66|               31|       75|                         78|                      73|                       77|       60|                12|                  10|                  6|                      6|                  13|                0|      188|       7000000|                  67|                 64|                     74|                 45|                   30|              48|                   67|              56|              49|                74|                   73|       Matteo Lovato|     73|  70|     52|    72|Defender|           74|              30|              40|           62|            79|         Right|      30|                62|         38|             59|               29|                54|          2| Centre-Back|        3|\n",
      "|        Jorge Cuenca| 23|                45|                 27|                        76|                     71|               31|       74|                         71|                      74|                       76|       52|                10|                  12|                  5|                     14|                  12|                0|      190|       8000000|                  73|                 61|                     74|                 44|                   21|              58|                   58|              62|              67|                74|                   61|        Jorge Cuenca|     73|  60|     58|    66|Defender|           75|              41|              59|           62|            65|          Left|      37|                68|         29|             34|               26|                67|          2| Centre-Back|        3|\n",
      "|         Diogo Leite| 24|                29|                 30|                        76|                     70|               32|       76|                         74|                      73|                       79|       57|                 7|                   5|                 10|                      8|                  10|                0|      188|       8000000|                  75|                 67|                     75|                 38|                   30|              34|                   61|              56|              57|                72|                   60|         Diogo Leite|     74|  60|     48|    73|Defender|           72|              38|              59|           72|            73|          Left|      38|                64|         35|             50|               20|                53|          2| Centre-Back|        3|\n",
      "|        Chris Mepham| 25|                38|                 32|                        70|                     66|               33|       72|                         70|                      72|                       74|       60|                10|                  10|                 12|                     14|                  12|                0|      191|       6000000|                  73|                 67|                     71|                 44|                   39|              53|                   53|              51|              64|                68|                   62|        Chris Mepham|     71|  58|     55|    72|Defender|           74|              32|              52|           61|            77|         Right|      37|                64|         41|             58|               35|                63|          2| Centre-Back|        3|\n",
      "|         Kevin Danso| 24|                39|                 26|                        78|                     64|               31|       73|                         71|                      74|                       77|       57|                12|                  13|                  6|                     11|                  15|                0|      190|       7000000|                  82|                 68|                     69|                 42|                   33|              42|                   68|              57|              48|                69|                   88|         Kevin Danso|     75|  79|     50|    78|Defender|           80|              25|              49|           57|            86|         Right|      32|                62|         35|             53|               31|                53|          2| Centre-Back|        3|\n",
      "|     Marin Pongracic| 25|                27|                 21|                        76|                     67|               25|       74|                         70|                      76|                       77|       63|                 6|                   6|                 14|                      8|                   5|                0|      193|       7500000|                  77|                 65|                     71|                 30|                   28|              54|                   66|              63|              53|                70|                   69|     Marin Pongracic|     74|  68|     52|    76|Defender|           77|              22|              40|           55|            85|         Right|      26|                64|         31|             63|               25|                63|          2| Centre-Back|        3|\n",
      "|       Carlos Cuesta| 24|                28|                 21|                        73|                     74|               33|       72|                         70|                      70|                       73|       64|                10|                   8|                 11|                     15|                  10|                0|      179|       7000000|                  76|                 68|                     72|                 34|                   20|              43|                   73|              75|              67|                67|                   75|       Carlos Cuesta|     72|  74|     52|    75|Defender|           82|              30|              41|           73|            74|         Right|      28|                68|         32|             58|               20|                64|          2| Centre-Back|        3|\n",
      "|      Chris Richards| 23|                49|                 23|                        77|                     71|               26|       74|                         70|                      76|                       78|       55|                13|                   5|                 13|                      7|                   6|                0|      188|       7500000|                  66|                 61|                     72|                 37|                   38|              51|                   78|              61|              60|                68|                   78|      Chris Richards|     74|  78|     58|    73|Defender|           90|              22|              36|           71|            76|         Right|      27|                62|         35|             47|               24|                65|          2| Centre-Back|        4|\n",
      "|      Tanguy Nianzou| 20|                37|                 32|                        78|                     70|               37|       73|                         73|                      69|                       75|       64|                 6|                  14|                  9|                      8|                   7|                0|      191|       9000000|                  75|                 65|                     71|                 42|                   36|              53|                   55|              55|              58|                67|                   67|      Tanguy Nianzou|     73|  62|     56|    76|Defender|           77|              25|              57|           69|            79|         Right|      37|                67|         41|             64|               31|                67|          2| Centre-Back|        3|\n",
      "|                Igor| 25|                24|                 22|                        67|                     67|               27|       77|                         77|                      77|                       80|       55|                 7|                  11|                  9|                     15|                  14|                0|      185|       8000000|                  84|                 65|                     76|                 28|                   48|              56|                   69|              66|              66|                60|                   77|                Igor|     76|  73|     50|    83|Defender|           70|              36|              44|           76|            87|          Left|      31|                63|         32|             44|               25|                52|          2| Centre-Back|        2|\n",
      "|        Reece Oxford| 24|                34|                 23|                        75|                     67|               36|       77|                         77|                      72|                       80|       62|                10|                  11|                  7|                      9|                  14|                0|      193|      10000000|                  72|                 67|                     78|                 48|                   34|              55|                   66|              62|              53|                77|                   69|        Reece Oxford|     76|  68|     54|    75|Defender|           84|              37|              49|           65|            81|         Right|      33|                63|         44|             59|               36|                58|          2| Centre-Back|        3|\n",
      "|    Leonardo Balerdi| 24|                42|                 29|                        77|                     75|               29|       75|                         75|                      75|                       77|       64|                 6|                   8|                 15|                     15|                  14|                0|      187|      10000000|                  76|                 67|                     72|                 47|                   33|              43|                   64|              64|              56|                69|                   72|    Leonardo Balerdi|     75|  68|     57|    75|Defender|           74|              31|              55|           68|            78|         Right|      36|                69|         39|             60|               30|                70|          2| Centre-Back|        3|\n",
      "|              Morato| 21|                34|                 32|                        73|                     65|               39|       73|                         74|                      74|                       76|       61|                12|                  12|                 12|                      6|                   6|                0|      192|      10000000|                  82|                 75|                     67|                 44|                   29|              49|                   66|              41|              43|                74|                   68|              Morato|     74|  67|     51|    80|Defender|           63|              28|              49|           67|            88|          Left|      35|                65|         26|             61|               27|                62|          2| Centre-Back|        2|\n",
      "|         Jhon Lucumí| 24|                61|                 23|                        71|                     72|               23|       72|                         70|                      73|                       74|       63|                 6|                  11|                 10|                      8|                   7|                0|      187|      10000000|                  73|                 71|                     74|                 36|                   33|              36|                   67|              63|              60|                70|                   72|         Jhon Lucumí|     73|  70|     59|    78|Defender|           71|              28|              38|           71|            84|          Left|      28|                68|         39|             58|               31|                71|          2| Centre-Back|        3|\n",
      "|      Filip Benkovic| 25|                33|                 38|                        70|                     65|               19|       71|                         70|                      70|                       72|       55|                15|                   8|                  6|                     10|                   8|                0|      194|       5000000|                  73|                 74|                     70|                 42|                   37|              54|                   55|              53|              40|                66|                   61|      Filip Benkovic|     71|  58|     54|    79|Defender|           66|              38|              71|           64|            90|         Right|      44|                58|         44|             52|               54|                59|          2| Centre-Back|        3|\n",
      "|        Nehuén Pérez| 22|                21|                 21|                        74|                     69|               22|       77|                         77|                      77|                       78|       51|                 9|                   8|                  8|                      9|                   6|                0|      186|       5000000|                  79|                 70|                     77|                 40|                   26|              36|                   60|              48|              55|                75|                   55|        Nehuén Pérez|     75|  57|     47|    74|Defender|           77|              16|              42|           69|            75|         Right|      25|                61|         21|             39|               32|                60|          2| Centre-Back|        3|\n",
      "|          Ozan Kabak| 23|                26|                 35|                        73|                     66|               28|       71|                         68|                      73|                       75|       65|                10|                  13|                 10|                      6|                   5|                0|      186|      13000000|                  84|                 67|                     68|                 51|                   30|              60|                   60|              64|              64|                66|                   73|          Ozan Kabak|     73|  67|     53|    80|Defender|           84|              25|              48|           65|            85|         Right|      36|                69|         32|             62|               31|                63|          2| Centre-Back|        3|\n",
      "|           Loïc Badé| 23|                31|                 25|                        72|                     70|               24|       73|                         72|                      71|                       77|       62|                 7|                   6|                 14|                      7|                   7|                0|      191|      14000000|                  71|                 73|                     72|                 33|                   33|              57|                   54|              52|              41|                65|                   59|           Loïc Badé|     73|  57|     54|    77|Defender|           75|              25|              59|           67|            84|         Right|      33|                71|         35|             58|               23|                59|          2| Centre-Back|        3|\n",
      "|      Pascal Struijk| 23|                42|                 31|                        73|                     75|               34|       77|                         76|                      76|                       77|       63|                14|                   8|                  8|                     10|                  14|                0|      190|      15000000|                  76|                 73|                     79|                 55|                   33|              56|                   55|              50|              54|                73|                   58|      Pascal Struijk|     76|  57|     61|    76|Defender|           73|              30|              62|           72|            78|          Left|      38|                71|         42|             60|               32|                73|          2|   Left-Back|        4|\n",
      "|    Tosin Adarabioyo| 25|                38|                 30|                        71|                     73|               25|       75|                         75|                      74|                       77|       58|                14|                  11|                 11|                      8|                   9|                0|      196|      15000000|                  75|                 76|                     74|                 35|                   28|              51|                   66|              53|              53|                71|                   76|    Tosin Adarabioyo|     75|  72|     57|    77|Defender|           77|              28|              36|           68|            82|         Right|      31|                66|         30|             50|               22|                71|          2| Centre-Back|        3|\n",
      "|     Mohammed Salisu| 24|                40|                 30|                        74|                     73|               22|       79|                         79|                      75|                       79|       55|                 7|                   7|                 11|                     10|                   6|                0|      191|      15000000|                  79|                 62|                     81|                 40|                   35|              24|                   63|              53|              49|                68|                   74|     Mohammed Salisu|     77|  69|     51|    80|Defender|           72|              28|              60|           67|            87|          Left|      36|                64|         50|             47|               32|                58|          2| Centre-Back|        3|\n",
      "|         Axel Disasi| 25|                25|                 20|                        77|                     66|               36|       77|                         78|                      75|                       78|       55|                12|                   8|                 11|                      8|                   6|                0|      190|      15000000|                  78|                 71|                     77|                 36|                   23|              51|                   46|              31|              34|                75|                   54|         Axel Disasi|     77|  50|     51|    82|Defender|           72|              17|              54|           66|            92|         Right|      28|                62|         34|             54|               27|                64|          2| Centre-Back|        2|\n",
      "|     Marash Kumbulla| 23|                45|                 26|                        79|                     61|               28|       77|                         79|                      73|                       77|       56|                 9|                   8|                 15|                     14|                   7|                0|      191|      18000000|                  75|                 63|                     75|                 30|                   22|              54|                   42|              51|              58|                78|                   54|     Marash Kumbulla|     75|  49|     53|    77|Defender|           82|              31|              50|           68|            81|         Right|      32|                60|         30|             52|               26|                58|          2| Centre-Back|        3|\n",
      "|  Mads Bech Sörensen| 24|                54|                 43|                        66|                     64|               29|       69|                         74|                      61|                       66|       58|                 6|                  13|                 12|                     14|                  11|                0|      193|       4000000|                  68|                 68|                     72|                 32|                   41|              39|                   51|              51|              54|                73|                   54|  Mads Bech Sörensen|     69|  53|     53|    73|Defender|           69|              26|              20|           64|            79|          Left|      34|                62|         31|             55|               25|                64|          2| Centre-Back|        3|\n",
      "|         Luca Kilian| 23|                48|                 36|                        74|                     67|               29|       75|                         75|                      73|                       77|       54|                10|                   8|                 11|                      9|                  11|                0|      192|       4000000|                  72|                 69|                     72|                 36|                   33|              52|                   68|              50|              47|                72|                   72|         Luca Kilian|     74|  70|     56|    75|Defender|           65|              33|              45|           63|            84|         Right|      37|                59|         31|             48|               35|                61|          2| Centre-Back|        3|\n",
      "|        Leo Östigard| 23|                48|                 33|                        74|                     62|               33|       71|                         68|                      70|                       73|       61|                13|                  10|                 13|                      8|                   6|                0|      185|       4000000|                  86|                 58|                     69|                 42|                   35|              34|                   67|              67|              61|                71|                   69|        Leo Östigard|     73|  68|     50|    81|Defender|           91|              32|              52|           69|            84|         Right|      37|                61|         46|             58|               24|                55|          2| Centre-Back|        3|\n",
      "|        Lucas Perrin| 24|                42|                 28|                        77|                     72|               18|       76|                         74|                      76|                       77|       59|                 9|                  13|                 13|                     13|                   8|                0|      187|       3500000|                  67|                 63|                     75|                 46|                   23|              43|                   49|              41|              52|                71|                   52|        Lucas Perrin|     74|  51|     55|    71|Defender|           70|              30|              59|           70|            73|         Right|      35|                68|         42|             57|               30|                62|          2| Centre-Back|        2|\n",
      "|   Panagiotis Retsos| 24|                57|                 26|                        70|                     74|               26|       73|                         70|                      71|                       77|       57|                14|                   9|                 11|                      6|                   7|                0|      186|       3500000|                  69|                 71|                     75|                 33|                   37|              42|                   60|              66|              51|                72|                   65|   Panagiotis Retsos|     72|  63|     58|    71|Defender|           74|              33|              60|           66|            74|         Right|      35|                65|         37|             46|               29|                62|          2| Centre-Back|        3|\n",
      "|        Paul Jaeckel| 24|                35|                 25|                        70|                     63|               33|       76|                         76|                      75|                       78|       51|                11|                  12|                  6|                     12|                  15|                0|      186|       3500000|                  76|                 62|                     77|                 44|                   32|              53|                   67|              62|              58|                68|                   78|        Paul Jaeckel|     74|  73|     52|    73|Defender|           59|              36|              47|           69|            76|         Right|      33|                61|         31|             39|               37|                58|          2| Centre-Back|        3|\n",
      "|       Modibo Sagnan| 24|                48|                 28|                        72|                     71|               27|       73|                         72|                      69|                       76|       56|                10|                   6|                 11|                      9|                   9|                0|      187|       3000000|                  77|                 58|                     70|                 39|                   30|              39|                   60|              51|              51|                66|                   67|       Modibo Sagnan|     72|  64|     56|    73|Defender|           75|              32|              40|           63|            76|          Left|      32|                67|         33|             48|               30|                70|          2| Centre-Back|        3|\n",
      "|Cameron Carter-Vi...| 25|                37|                 19|                        72|                     73|               26|       74|                         75|                      68|                       76|       63|                13|                   6|                  8|                     16|                  10|                0|      183|       3000000|                  71|                 71|                     73|                 38|                   27|              48|                   70|              67|              66|                68|                   78|Cameron Carter-Vi...|     74|  74|     55|    81|Defender|           75|              16|              48|           72|            90|         Right|      26|                65|         24|             59|               30|                65|          2| Centre-Back|        3|\n",
      "|      Danilho Doekhi| 24|                46|                 39|                        75|                     70|               39|       74|                         74|                      72|                       74|       64|                 9|                   9|                 10|                     13|                  14|                0|      190|       3000000|                  72|                 68|                     72|                 33|                   40|              57|                   52|              62|              54|                73|                   59|      Danilho Doekhi|     74|  56|     59|    81|Defender|           81|              31|              61|           77|            87|         Right|      42|                69|         39|             60|               29|                67|          2| Centre-Back|        3|\n",
      "+--------------------+---+------------------+-------------------+--------------------------+-----------------------+-----------------+---------+---------------------------+------------------------+-------------------------+---------+------------------+--------------------+-------------------+-----------------------+--------------------+-----------------+---------+--------------+--------------------+-------------------+-----------------------+-------------------+---------------------+----------------+---------------------+----------------+----------------+------------------+---------------------+--------------------+-------+----+-------+------+--------+-------------+----------------+----------------+-------------+--------------+--------------+--------+------------------+-----------+---------------+-----------------+------------------+-----------+------------+---------+\n",
      "\n",
      "None\n"
     ]
    }
   ],
   "source": [
    "if len(l) != 0:\n",
    "    print(\"output player second algorithm (players are sorted from most similar to least similar):\")\n",
    "    result2 = spark.createDataFrame(l_diz_result2)\n",
    "    print(result2.select(\"name\",*result2.columns).show(50))\n",
    "else:\n",
    "    print(\"no cluster found\")"
   ]
  }
 ],
 "metadata": {
  "kernelspec": {
   "display_name": "Python 3",
   "language": "python",
   "name": "python3"
  },
  "language_info": {
   "codemirror_mode": {
    "name": "ipython",
    "version": 3
   },
   "file_extension": ".py",
   "mimetype": "text/x-python",
   "name": "python",
   "nbconvert_exporter": "python",
   "pygments_lexer": "ipython3",
   "version": "3.10.9"
  },
  "orig_nbformat": 4
 },
 "nbformat": 4,
 "nbformat_minor": 2
}
