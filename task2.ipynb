{
 "cells": [
  {
   "attachments": {},
   "cell_type": "markdown",
   "metadata": {},
   "source": [
    "# **Task 2**\n",
    "**Clustering**: In task 2 a new dataset will be introduced. The new dataset will be partially merged with the one obtained in feature engineering and preprocessing. The goal will be to create clusters made up of players with similar characteristics. The final partition will be used to scout young talents."
   ]
  },
  {
   "attachments": {},
   "cell_type": "markdown",
   "metadata": {},
   "source": [
    "Imported libraries"
   ]
  },
  {
   "cell_type": "code",
   "execution_count": 1,
   "metadata": {
    "ExecuteTime": {
     "end_time": "2023-05-23T16:07:53.696112200Z",
     "start_time": "2023-05-23T16:07:53.101157900Z"
    }
   },
   "outputs": [],
   "source": [
    "import pyspark\n",
    "from pyspark.sql.types import *\n",
    "from pyspark.sql.functions import *\n",
    "import numpy as np\n",
    "from pyspark.sql import SparkSession\n",
    "from pyspark.conf import SparkConf\n",
    "from pyspark.ml.feature import *\n",
    "from pyspark.ml.clustering import KMeans\n",
    "from pyspark.ml.evaluation import ClusteringEvaluator\n",
    "import matplotlib.pyplot as plt\n"
   ]
  },
  {
   "attachments": {},
   "cell_type": "markdown",
   "metadata": {},
   "source": [
    "Creating the pyspark session"
   ]
  },
  {
   "cell_type": "code",
   "execution_count": 2,
   "metadata": {
    "ExecuteTime": {
     "end_time": "2023-05-23T16:07:55.701337500Z",
     "start_time": "2023-05-23T16:07:53.698133200Z"
    }
   },
   "outputs": [
    {
     "data": {
      "text/plain": [
       "[('spark.driver.extraJavaOptions',\n",
       "  '-XX:+IgnoreUnrecognizedVMOptions --add-opens=java.base/java.lang=ALL-UNNAMED --add-opens=java.base/java.lang.invoke=ALL-UNNAMED --add-opens=java.base/java.lang.reflect=ALL-UNNAMED --add-opens=java.base/java.io=ALL-UNNAMED --add-opens=java.base/java.net=ALL-UNNAMED --add-opens=java.base/java.nio=ALL-UNNAMED --add-opens=java.base/java.util=ALL-UNNAMED --add-opens=java.base/java.util.concurrent=ALL-UNNAMED --add-opens=java.base/java.util.concurrent.atomic=ALL-UNNAMED --add-opens=java.base/sun.nio.ch=ALL-UNNAMED --add-opens=java.base/sun.nio.cs=ALL-UNNAMED --add-opens=java.base/sun.security.action=ALL-UNNAMED --add-opens=java.base/sun.util.calendar=ALL-UNNAMED --add-opens=java.security.jgss/sun.security.krb5=ALL-UNNAMED'),\n",
       " ('spark.executor.memory', '15G'),\n",
       " ('spark.driver.host', 'MarcoPC.homenet.telecomitalia.it'),\n",
       " ('spark.app.id', 'local-1685048171066'),\n",
       " ('spark.executor.id', 'driver'),\n",
       " ('spark.driver.memory', '50G'),\n",
       " ('spark.executor.cores', '10'),\n",
       " ('spark.app.name', 'PySparkProject'),\n",
       " ('spark.driver.port', '63593'),\n",
       " ('spark.ui.port', '4050'),\n",
       " ('spark.driver.maxResultSize', '40G'),\n",
       " ('spark.rdd.compress', 'True'),\n",
       " ('spark.executor.extraJavaOptions',\n",
       "  '-XX:+IgnoreUnrecognizedVMOptions --add-opens=java.base/java.lang=ALL-UNNAMED --add-opens=java.base/java.lang.invoke=ALL-UNNAMED --add-opens=java.base/java.lang.reflect=ALL-UNNAMED --add-opens=java.base/java.io=ALL-UNNAMED --add-opens=java.base/java.net=ALL-UNNAMED --add-opens=java.base/java.nio=ALL-UNNAMED --add-opens=java.base/java.util=ALL-UNNAMED --add-opens=java.base/java.util.concurrent=ALL-UNNAMED --add-opens=java.base/java.util.concurrent.atomic=ALL-UNNAMED --add-opens=java.base/sun.nio.ch=ALL-UNNAMED --add-opens=java.base/sun.nio.cs=ALL-UNNAMED --add-opens=java.base/sun.security.action=ALL-UNNAMED --add-opens=java.base/sun.util.calendar=ALL-UNNAMED --add-opens=java.security.jgss/sun.security.krb5=ALL-UNNAMED'),\n",
       " ('spark.serializer.objectStreamReset', '100'),\n",
       " ('spark.master', 'local[*]'),\n",
       " ('spark.submit.pyFiles', ''),\n",
       " ('spark.submit.deployMode', 'client'),\n",
       " ('spark.app.submitTime', '1685048169920'),\n",
       " ('spark.app.startTime', '1685048170063'),\n",
       " ('spark.ui.showConsoleProgress', 'true')]"
      ]
     },
     "execution_count": 2,
     "metadata": {},
     "output_type": "execute_result"
    }
   ],
   "source": [
    "# Create the session\n",
    "conf = SparkConf(). \\\n",
    "    set('spark.ui.port', \"4050\"). \\\n",
    "    set('spark.executor.memory', '15G'). \\\n",
    "    set('spark.driver.memory', '50G'). \\\n",
    "    set('spark.driver.maxResultSize', '40G'). \\\n",
    "    setAppName(\"PySparkProject\"). \\\n",
    "    set('spark.executor.cores', \"10\"). \\\n",
    "    setMaster(\"local[*]\")\n",
    "\n",
    "sc = pyspark.SparkContext.getOrCreate(conf=conf)\n",
    "spark = SparkSession.builder.getOrCreate()\n",
    "\n",
    "sc._conf.getAll()"
   ]
  },
  {
   "attachments": {},
   "cell_type": "markdown",
   "metadata": {},
   "source": [
    "## **Work on dataset begins**"
   ]
  },
  {
   "attachments": {},
   "cell_type": "markdown",
   "metadata": {},
   "source": [
    "Loading the new dataset and the dataset obtained from feature_engineering.ipynb"
   ]
  },
  {
   "cell_type": "code",
   "execution_count": 3,
   "metadata": {},
   "outputs": [],
   "source": [
    "# Load cvs fifa23 dataset files pyspark\n",
    "df = spark.read.csv(\"fifa23players.csv\", header=True, inferSchema=True)"
   ]
  },
  {
   "cell_type": "code",
   "execution_count": 4,
   "metadata": {
    "ExecuteTime": {
     "end_time": "2023-05-23T16:07:58.431786400Z",
     "start_time": "2023-05-23T16:07:55.701337500Z"
    }
   },
   "outputs": [],
   "source": [
    "# Load csv dataset, obtained from the feature engineering and econdinf process\n",
    "df_ = spark.read.csv(\"dataset.csv\", header=True, inferSchema=True) # il dataset.csv di leonardo dovrebbbe funzionare"
   ]
  },
  {
   "attachments": {},
   "cell_type": "markdown",
   "metadata": {},
   "source": [
    "### **Pre Processing Phase**"
   ]
  },
  {
   "cell_type": "code",
   "execution_count": 5,
   "metadata": {
    "ExecuteTime": {
     "end_time": "2023-05-23T16:07:59.545372Z",
     "start_time": "2023-05-23T16:07:59.513502900Z"
    }
   },
   "outputs": [],
   "source": [
    "# Drop some df_ columns that are not useful for the task\n",
    "df_ = df_.drop(\"clubs_id\", \"name\", \"competitions_id\", \"sub_position\", \"position\", \"citizenship\", \"current_club_id\", \"winning_rate_club\", \"winning_rate_pl\", \"games_lost_pl\",\n",
    "         \"games_draw_pl\", \"games_won_pl\", \"appearances\", \"yellow_cards\", \"red_cards\", \"minutes_played\", \"goals\", \"assists\", \"height\", \"age\", \"market_value\")"
   ]
  },
  {
   "attachments": {},
   "cell_type": "markdown",
   "metadata": {},
   "source": [
    "Filtering the dataset df_ : It must be composed by the instances whose date_v is in 2022. "
   ]
  },
  {
   "cell_type": "code",
   "execution_count": 6,
   "metadata": {},
   "outputs": [],
   "source": [
    "# delete the instances from df_ in which date_v is not in the year 2022\n",
    "df_ = df_.filter(year(df_.date_v) == \"2022\")"
   ]
  },
  {
   "attachments": {},
   "cell_type": "markdown",
   "metadata": {},
   "source": [
    "Multiplying the player_id to return to the original value"
   ]
  },
  {
   "cell_type": "code",
   "execution_count": 7,
   "metadata": {},
   "outputs": [],
   "source": [
    "# QUESTa DOVREMMO TOGLIERLA PROBABILMENTE #\n",
    "\n",
    "# multiply the player_id by 100000\n",
    "#df_ = df_.withColumn(\"player_id\", df_.player_id * 100000) \n",
    "# convert player_id to int (without decimal places)\n",
    "#df_ = df_.withColumn(\"player_id\", df_.player_id.cast(IntegerType()))"
   ]
  },
  {
   "attachments": {},
   "cell_type": "markdown",
   "metadata": {},
   "source": [
    "Filtering the dataset df_ : for each player must be remain only the instance with date_v closest to 2022-06-15"
   ]
  },
  {
   "cell_type": "code",
   "execution_count": 8,
   "metadata": {},
   "outputs": [],
   "source": [
    "# Define the reference date as \"2022-06-15\" using lit\n",
    "target_date = lit(\"2022-06-15\").cast(\"date\")\n",
    "\n",
    "# Compute the difference in days between date_v and the reference date\n",
    "df_with_diff = df_.withColumn(\"date_diff\", when(col(\"date_v\") > target_date, col(\"date_v\") - target_date)\n",
    "                                 .otherwise(target_date - col(\"date_v\")))\n",
    "\n",
    "# Find the closest date to \"2022-06-15\" for each player_id\n",
    "closest_date = df_with_diff.groupBy(\"player_id\").agg(min(\"date_diff\").alias(\"min_date_diff\"))\n",
    "\n",
    "# Join the original DataFrame with the DataFrame of the closest dates\n",
    "df_ = df_with_diff.join(closest_date, on=[\"player_id\"]).where(col(\"date_diff\") == col(\"min_date_diff\"))\n",
    "\n",
    "# Remove the date_diff column if it is not necessary\n",
    "df_ = df_.drop(\"date_diff\", \"min_date_diff\")"
   ]
  },
  {
   "cell_type": "code",
   "execution_count": 9,
   "metadata": {},
   "outputs": [],
   "source": [
    "# Remove (player_id, date_v) duplicates\n",
    "df_ = df_.dropDuplicates([\"player_id\", \"date_v\"])"
   ]
  },
  {
   "attachments": {},
   "cell_type": "markdown",
   "metadata": {},
   "source": [
    "Removing the player_id with last_valuation equal to 0 (if their last_valuation is 0, they are probably not present in the fifa23players dataset)\n"
   ]
  },
  {
   "cell_type": "code",
   "execution_count": 10,
   "metadata": {},
   "outputs": [],
   "source": [
    "# remove the player_id with last_valuation equal to 0\n",
    "df_ = df_.filter(df_.last_valuation != 0)"
   ]
  },
  {
   "attachments": {},
   "cell_type": "markdown",
   "metadata": {},
   "source": [
    "Through the player_id key we get information about the players contained in player_id"
   ]
  },
  {
   "cell_type": "code",
   "execution_count": 11,
   "metadata": {},
   "outputs": [],
   "source": [
    "# Load the cvs players to obtain some crucial information for the merge\n",
    "df_players = spark.read.csv(\"archive/players.csv\", header=True, inferSchema=True)"
   ]
  },
  {
   "cell_type": "code",
   "execution_count": 12,
   "metadata": {},
   "outputs": [],
   "source": [
    "# join the two datasets on player_id\n",
    "df_ = df_.join(df_players, on=[\"player_id\"])"
   ]
  },
  {
   "cell_type": "code",
   "execution_count": 13,
   "metadata": {},
   "outputs": [],
   "source": [
    "# drop some columns that are not useful for the task\n",
    "df_ = df_.drop(\"current_club_id\", \"current_club_name\", \"country_of_birth\", \"city_of_birth\", \"foot\", \"height_in_cm\", \"market_value_in_eur\", \"highest_market_value_in_eur\", \"agent_name\", \"contract_expiration_date\", \"current_club_domestic_competition_id\", \"player_code\", \"image_url\", \"last_season\", \"url\")"
   ]
  },
  {
   "cell_type": "code",
   "execution_count": 14,
   "metadata": {},
   "outputs": [],
   "source": [
    "# select only the fifa_version == 23\n",
    "# df = df.filter(df.fifa_version == 23)"
   ]
  },
  {
   "cell_type": "code",
   "execution_count": 15,
   "metadata": {},
   "outputs": [],
   "source": [
    "# select only the fifa_update == 1\n",
    "# df = df.filter(df.fifa_update == 1)"
   ]
  },
  {
   "cell_type": "code",
   "execution_count": 16,
   "metadata": {},
   "outputs": [],
   "source": [
    "# drop duplicates on player_id\n",
    "df = df.dropDuplicates([\"player_id\"])"
   ]
  },
  {
   "attachments": {},
   "cell_type": "markdown",
   "metadata": {},
   "source": [
    "We have to drop some not very useful features:\n",
    " |-- ls: string (nullable = true)\n",
    " |-- st: string (nullable = true)\n",
    " |-- rs: string (nullable = true)\n",
    " |-- lw: string (nullable = true)\n",
    " |-- lf: string (nullable = true)\n",
    " |-- cf: string (nullable = true)\n",
    " |-- rf: string (nullable = true)\n",
    " |-- rw: string (nullable = true)\n",
    " |-- lam: string (nullable = true)\n",
    " |-- cam: string (nullable = true)\n",
    " |-- ram: string (nullable = true)\n",
    " |-- lm: string (nullable = true)\n",
    " |-- lcm: string (nullable = true)\n",
    " |-- cm: string (nullable = true)\n",
    " |-- rcm: string (nullable = true)\n",
    " |-- rm: string (nullable = true)\n",
    " |-- lwb: string (nullable = true)\n",
    " |-- ldm: string (nullable = true)\n",
    " |-- cdm: string (nullable = true)\n",
    " |-- rdm: string (nullable = true)\n",
    " |-- rwb: string (nullable = true)\n",
    " |-- lb: string (nullable = true)\n",
    " |-- lcb: string (nullable = true)\n",
    " |-- cb: string (nullable = true)\n",
    " |-- rcb: string (nullable = true)\n",
    " |-- rb: string (nullable = true)\n",
    " |-- gk: string (nullable = true)\n",
    " |-- player_face_url: string (nullable = true)\n",
    " |-- body_type: string (nullable = true)\n",
    " |-- real_face: string (nullable = true)\n",
    " |-- release_clause_eur: integer (nullable = true)\n",
    " |-- player_tags: string (nullable = true)\n",
    " |-- player_traits: string (nullable = true)\n",
    "|-- international_reputation: integer (nullable = true)\n",
    " |-- club_jersey_number: integer (nullable = true)\n",
    " |-- club_loaned_from: string (nullable = true)\n",
    " |-- club_joined_date: date (nullable = true)\n",
    " |-- club_contract_valid_until_year: integer (nullable = true)\n",
    " |-- nationality_id: integer (nullable = true)\n",
    " |-- nationality_name: string (nullable = true)\n",
    " |-- nation_team_id: integer (nullable = true)\n",
    " |-- nation_position: string (nullable = true)\n",
    " |-- nation_jersey_number: integer (nullable = true)\n",
    " |-- league_id: integer (nullable = true)\n",
    " |-- league_name: string (nullable = true)\n",
    " |-- league_level: integer (nullable = true)\n",
    " |-- club_team_id: integer (nullable = true)\n",
    " |-- club_name: string (nullable = true)\n",
    " |-- club_position: string (nullable = true)\n",
    " |-- potential: integer (nullable = true)\n",
    " |-- value_eur: integer (nullable = true)\n",
    " |-- wage_eur: integer (nullable = true)\n",
    " |-- age: integer (nullable = true)\n",
    " |-- player_positions: string (nullable = true)\n",
    " |-- player_id: integer (nullable = true)\n",
    " |-- player_url: string (nullable = true)\n",
    " |-- fifa_version: integer (nullable = true)\n",
    " |-- fifa_update: integer (nullable = true)\n",
    " |-- fifa_update_date: date (nullable = true)"
   ]
  },
  {
   "cell_type": "code",
   "execution_count": 17,
   "metadata": {},
   "outputs": [],
   "source": [
    "import re\n",
    "str = \"|-- ls: string (nullable = true)|-- st: string (nullable = true)|-- rs: string (nullable = true)|-- lw: string (nullable = true)|-- lf: string (nullable = true)|-- cf: string (nullable = true)|-- rf: string (nullable = true)|-- rw: string (nullable = true)|-- lam: string (nullable = true)|-- cam: string (nullable = true)|-- ram: string (nullable = true)|-- lm: string (nullable = true)|-- lcm: string (nullable = true)|-- cm: string (nullable = true)|-- rcm: string (nullable = true)|-- rm: string (nullable = true)|-- lwb: string (nullable = true)|-- ldm: string (nullable = true)|-- cdm: string (nullable = true)|-- rdm: string (nullable = true)|-- rwb: string (nullable = true)|-- lb: string (nullable = true)|-- lcb: string (nullable = true)|-- cb: string (nullable = true)|-- rcb: string (nullable = true)|-- rb: string (nullable = true)|-- gk: string (nullable = true)|-- player_face_url: string (nullable = true)|-- body_type: string (nullable = true)|-- real_face: string (nullable = true)|-- release_clause_eur: integer (nullable = true)|-- player_tags: string (nullable = true)|-- player_traits: string (nullable = true)|-- international_reputation: integer (nullable = true)|-- club_jersey_number: integer (nullable = true)|-- club_loaned_from: string (nullable = true)|-- club_joined_date: date (nullable = true)|-- club_contract_valid_until_year: integer (nullable = true)|-- nationality_id: integer (nullable = true)|-- nation_team_id: integer (nullable = true)|-- nation_position: string (nullable = true)|-- nation_jersey_number: integer (nullable = true)|-- league_id: integer (nullable = true)|-- league_name: string (nullable = true)|-- league_level: integer (nullable = true)|-- club_team_id: integer (nullable = true)|-- club_name: string (nullable = true)|-- club_position: string (nullable = true)|-- potential: integer (nullable = true)|-- value_eur: integer (nullable = true)|-- wage_eur: integer (nullable = true)|-- age: integer (nullable = true)|-- player_positions: string (nullable = true)|-- player_id: integer (nullable = true)|-- player_url: string (nullable = true)|-- fifa_version: integer (nullable = true)|-- fifa_update: integer (nullable = true)|-- fifa_update_date: date (nullable = true)\"\n",
    "pattern = pattern = r\"(?<=- ).*?(?=: )\"\n",
    "elements_to_drop = re.findall(pattern, str)"
   ]
  },
  {
   "cell_type": "code",
   "execution_count": 18,
   "metadata": {},
   "outputs": [],
   "source": [
    "for element in elements_to_drop:\n",
    "    df = df.drop(element)"
   ]
  },
  {
   "attachments": {},
   "cell_type": "markdown",
   "metadata": {},
   "source": [
    "Merging the fifa dataset and the dataset obtained in feature_engineering.ipynb:\n",
    "in this case the difficulty is finding the parameters on which to join. We have opted in the union on the couple (date of birth, nationality)"
   ]
  },
  {
   "cell_type": "code",
   "execution_count": 19,
   "metadata": {},
   "outputs": [],
   "source": [
    "# join df and df_ in which df.dob == df_.date_of_birth and df_.country_of_citizenship == df.nationality_name\n",
    "joined_df = df.join(df_, (df.dob == df_.date_of_birth) & (df_.country_of_citizenship == df.nationality_name))"
   ]
  },
  {
   "cell_type": "code",
   "execution_count": 20,
   "metadata": {},
   "outputs": [],
   "source": [
    "# count the number of distinct player_id\n",
    "#print(joined_df.select(\"player_id\").distinct().count())\n",
    "# count the number of rows\n",
    "#print(joined_df.count())"
   ]
  },
  {
   "attachments": {},
   "cell_type": "markdown",
   "metadata": {},
   "source": [
    "Removing from df the player_id that occurre more than once"
   ]
  },
  {
   "cell_type": "code",
   "execution_count": 21,
   "metadata": {},
   "outputs": [],
   "source": [
    "count_df = joined_df.groupBy(\"player_id\").agg(count(\"*\").alias(\"count\"))\n",
    "df = joined_df.join(count_df, \"player_id\").filter(count_df[\"count\"] == 1).drop(\"count\") # we will add the instances obtained from the filtered df \n",
    "#print(df.select(\"player_id\").distinct().count())"
   ]
  },
  {
   "attachments": {},
   "cell_type": "markdown",
   "metadata": {},
   "source": [
    "filtered_df is composed of instances of player_id that appear in df more than once: in particular filtered_df is composed of the players for whom the union (date of birth, nationality) does not work because there is more than one instance for which the key tuple (date of birth, nationality) is valid"
   ]
  },
  {
   "cell_type": "code",
   "execution_count": 22,
   "metadata": {},
   "outputs": [],
   "source": [
    "# dataset composed by the instances with player_id not unique (i.e. that appears more than once)\n",
    "count_df = joined_df.groupBy(\"player_id\").agg(count(\"*\").alias(\"count\"))\n",
    "filtered_df = joined_df.join(count_df, \"player_id\").filter(count_df[\"count\"] > 1).drop(\"count\")"
   ]
  },
  {
   "attachments": {},
   "cell_type": "markdown",
   "metadata": {},
   "source": [
    "Since, for these instances, (date of birth, nationality) does not work, we decide to perform the filter through long_name (fifa dataset) and name (the other dataset)"
   ]
  },
  {
   "cell_type": "code",
   "execution_count": 23,
   "metadata": {},
   "outputs": [],
   "source": [
    "# mantain only the instance in which long name is equal to name\n",
    "filtered_df = filtered_df.filter(filtered_df.long_name == filtered_df.name)"
   ]
  },
  {
   "attachments": {},
   "cell_type": "markdown",
   "metadata": {},
   "source": [
    "Adding to df the unique instances of filtered_df that we managed to extract"
   ]
  },
  {
   "cell_type": "code",
   "execution_count": 24,
   "metadata": {},
   "outputs": [],
   "source": [
    "# add to df the instances of filtered_df\n",
    "df = df.union(filtered_df)"
   ]
  },
  {
   "cell_type": "code",
   "execution_count": 25,
   "metadata": {},
   "outputs": [],
   "source": [
    "# check if there are still duplicates\n",
    "# print(df.count())\n",
    "# print(df.select(\"player_id\").distinct().count())"
   ]
  },
  {
   "cell_type": "code",
   "execution_count": 26,
   "metadata": {},
   "outputs": [],
   "source": [
    "# INSERT CURRENT DATE #\n",
    "import datetime\n",
    "current_date = datetime.datetime.now().strftime(\"%Y-%m-%d\")"
   ]
  },
  {
   "attachments": {},
   "cell_type": "markdown",
   "metadata": {},
   "source": [
    "Adding to the dataset the feature age"
   ]
  },
  {
   "cell_type": "code",
   "execution_count": 27,
   "metadata": {},
   "outputs": [],
   "source": [
    "# add to the df the column age\n",
    "df = df.withColumn(\"age\", floor(datediff(lit(current_date), \"dob\")/365))"
   ]
  },
  {
   "cell_type": "code",
   "execution_count": 31,
   "metadata": {},
   "outputs": [],
   "source": [
    "# drop some columns\n",
    "df = df.drop(\"first_name\", \"date_birth\", \"last_name\", \"date_of_birth\", \"date_v\", \"country_of_citizenship\", \"dob\", \"short_name\", \"long_name\")"
   ]
  },
  {
   "attachments": {},
   "cell_type": "markdown",
   "metadata": {},
   "source": [
    "### **Feature Engineering Phase**"
   ]
  },
  {
   "cell_type": "code",
   "execution_count": 33,
   "metadata": {},
   "outputs": [
    {
     "name": "stdout",
     "output_type": "stream",
     "text": [
      "+---------+-------+---------+---------+----------------+--------------+---------+-----------+---------+----+--------+-------+---------+---------+------+------------------+-------------------+--------------------------+-----------------------+-----------------+---------------+-----------+-----------------+------------------+------------------+---------------------+---------------------+----------------+------------------+----------------+----------------+-------------+-------------+--------------+----------------+--------------------+-----------------------+---------------------+----------------+-------------------+-------------------+---------------------------+-------------------------+------------------------+------------------+--------------------+-------------------+-----------------------+--------------------+-----------------+--------------+-----------------+--------------+---------------+---------------+----+--------+------------+---+\n",
      "|player_id|overall|height_cm|weight_kg|nationality_name|preferred_foot|weak_foot|skill_moves|work_rate|pace|shooting|passing|dribbling|defending|physic|attacking_crossing|attacking_finishing|attacking_heading_accuracy|attacking_short_passing|attacking_volleys|skill_dribbling|skill_curve|skill_fk_accuracy|skill_long_passing|skill_ball_control|movement_acceleration|movement_sprint_speed|movement_agility|movement_reactions|movement_balance|power_shot_power|power_jumping|power_stamina|power_strength|power_long_shots|mentality_aggression|mentality_interceptions|mentality_positioning|mentality_vision|mentality_penalties|mentality_composure|defending_marking_awareness|defending_standing_tackle|defending_sliding_tackle|goalkeeping_diving|goalkeeping_handling|goalkeeping_kicking|goalkeeping_positioning|goalkeeping_reflexes|goalkeeping_speed|last_valuation|games_played_club|games_won_club|games_draw_club|games_lost_club|name|position|sub_position|age|\n",
      "+---------+-------+---------+---------+----------------+--------------+---------+-----------+---------+----+--------+-------+---------+---------+------+------------------+-------------------+--------------------------+-----------------------+-----------------+---------------+-----------+-----------------+------------------+------------------+---------------------+---------------------+----------------+------------------+----------------+----------------+-------------+-------------+--------------+----------------+--------------------+-----------------------+---------------------+----------------+-------------------+-------------------+---------------------------+-------------------------+------------------------+------------------+--------------------+-------------------+-----------------------+--------------------+-----------------+--------------+-----------------+--------------+---------------+---------------+----+--------+------------+---+\n",
      "|        0|      0|        0|        0|               0|             0|        0|          0|        0| 423|     423|    423|      423|      423|   423|                 0|                  0|                         0|                      0|                0|              0|          0|                0|                 0|                 0|                    0|                    0|               0|                 0|               0|               0|            0|            0|             0|               0|                   0|                      0|                    0|               0|                  0|                  0|                          0|                        0|                       0|                 0|                   0|                  0|                      0|                   0|             3985|             0|                0|             0|              0|              0|   0|       0|         414|  0|\n",
      "+---------+-------+---------+---------+----------------+--------------+---------+-----------+---------+----+--------+-------+---------+---------+------+------------------+-------------------+--------------------------+-----------------------+-----------------+---------------+-----------+-----------------+------------------+------------------+---------------------+---------------------+----------------+------------------+----------------+----------------+-------------+-------------+--------------+----------------+--------------------+-----------------------+---------------------+----------------+-------------------+-------------------+---------------------------+-------------------------+------------------------+------------------+--------------------+-------------------+-----------------------+--------------------+-----------------+--------------+-----------------+--------------+---------------+---------------+----+--------+------------+---+\n",
      "\n"
     ]
    }
   ],
   "source": [
    "# for each features of df, check if there are null values\n",
    "# df.select([count(when(isnan(c) | col(c).isNull(), c)).alias(c) for c in df.columns]).show()\n",
    "df.select([count(when(col(c).isNull(), c)).alias(c) for c in df.columns]).show()"
   ]
  },
  {
   "attachments": {},
   "cell_type": "markdown",
   "metadata": {},
   "source": [
    "Fixing null value and zero value"
   ]
  },
  {
   "cell_type": "code",
   "execution_count": 34,
   "metadata": {},
   "outputs": [],
   "source": [
    "# if position is goal keeper then club_position = GK then set pace, shooting, passing, dribbling, defending, physic = 0\n",
    "df = df.withColumn(\"pace\", when(df.position == \"Goalkeeper\", 0).otherwise(df.pace))\n",
    "df = df.withColumn(\"shooting\", when(df.position == \"Goalkeeper\", 0).otherwise(df.shooting))\n",
    "df = df.withColumn(\"passing\", when(df.position == \"Goalkeeper\", 0).otherwise(df.passing))\n",
    "df = df.withColumn(\"dribbling\", when(df.position == \"Goalkeeper\", 0).otherwise(df.dribbling))\n",
    "df = df.withColumn(\"defending\", when(df.position == \"Goalkeeper\", 0).otherwise(df.defending))\n",
    "df = df.withColumn(\"physic\", when(df.position == \"Goalkeeper\", 0).otherwise(df.physic))"
   ]
  },
  {
   "cell_type": "code",
   "execution_count": 35,
   "metadata": {},
   "outputs": [],
   "source": [
    "# if the sub_position is null, set it to position value\n",
    "df = df.withColumn(\"sub_position\", when(col(\"sub_position\").isNull(), col(\"position\")).otherwise(col(\"sub_position\")))"
   ]
  },
  {
   "cell_type": "code",
   "execution_count": 36,
   "metadata": {},
   "outputs": [],
   "source": [
    "# if position is not Goalkeeper then set goalkeeping_speed to 0\n",
    "df = df.withColumn(\"goalkeeping_speed\", when(df.position != \"Goalkeeper\", 0).otherwise(df.goalkeeping_speed))"
   ]
  },
  {
   "attachments": {},
   "cell_type": "markdown",
   "metadata": {},
   "source": [
    "If the fixes didn't work, it means that the instances involved are originally wrong. Then we decided to drop it"
   ]
  },
  {
   "cell_type": "code",
   "execution_count": 37,
   "metadata": {},
   "outputs": [],
   "source": [
    "# remove the instances in which there are null values\n",
    "#print(df.count())\n",
    "df = df.na.drop()\n",
    "#print(df.count())"
   ]
  },
  {
   "cell_type": "code",
   "execution_count": 38,
   "metadata": {},
   "outputs": [
    {
     "name": "stdout",
     "output_type": "stream",
     "text": [
      "4391\n",
      "4391\n"
     ]
    }
   ],
   "source": [
    "print(df.count())\n",
    "# count the number of distinct player_id\n",
    "print(df.select(\"player_id\").distinct().count())"
   ]
  },
  {
   "attachments": {},
   "cell_type": "markdown",
   "metadata": {},
   "source": [
    "Saving the dataset obtained from the pre-processing, feature engineering and merging operations"
   ]
  },
  {
   "cell_type": "code",
   "execution_count": null,
   "metadata": {},
   "outputs": [],
   "source": [
    "import pandas as pd\n",
    "df_p = df.toPandas()\n",
    "df_p.to_csv(\"task2dataset.csv\", index=False)"
   ]
  },
  {
   "attachments": {},
   "cell_type": "markdown",
   "metadata": {},
   "source": [
    "## **Clustering algorithm applications: k-means** "
   ]
  },
  {
   "attachments": {},
   "cell_type": "markdown",
   "metadata": {},
   "source": [
    "Loading the dataset obtained from the previous phases"
   ]
  },
  {
   "cell_type": "code",
   "execution_count": 3,
   "metadata": {},
   "outputs": [],
   "source": [
    "# load the dataset obtained in the previous phases\n",
    "df = spark.read.csv(\"task2dataset.csv\", header=True, inferSchema=True)"
   ]
  },
  {
   "attachments": {},
   "cell_type": "markdown",
   "metadata": {},
   "source": [
    "Converting double features to avoid problem in the next steps and to make all the numerical features of the same type"
   ]
  },
  {
   "cell_type": "code",
   "execution_count": 4,
   "metadata": {},
   "outputs": [],
   "source": [
    "# convert from double to int the features goalkeeping_speed, pace, shooting, passing, dribbling, defending, physic\n",
    "df = df.withColumn(\"goalkeeping_speed\", df.goalkeeping_speed.cast(\"int\"))\n",
    "df = df.withColumn(\"pace\", df.pace.cast(\"int\"))\n",
    "df = df.withColumn(\"shooting\", df.shooting.cast(\"int\"))\n",
    "df = df.withColumn(\"passing\", df.passing.cast(\"int\"))\n",
    "df = df.withColumn(\"dribbling\", df.dribbling.cast(\"int\"))\n",
    "df = df.withColumn(\"defending\", df.defending.cast(\"int\"))\n",
    "df = df.withColumn(\"physic\", df.physic.cast(\"int\"))\n",
    "df = df.withColumn(\"mentality_composure\", df.mentality_composure.cast(\"int\"))"
   ]
  },
  {
   "cell_type": "code",
   "execution_count": 5,
   "metadata": {},
   "outputs": [],
   "source": [
    "# drop column player_id\n",
    "df = df.drop(\"games_played_club\", \"games_won_club\", \"games_draw_club\", \"games_lost_club\")"
   ]
  },
  {
   "attachments": {},
   "cell_type": "markdown",
   "metadata": {},
   "source": [
    "Since nationality is not a crucial feature for our task, and furthermore, in the case of applying one hot encoding, it would greatly increase the number of features, we decided to exclude it from the dataset\n"
   ]
  },
  {
   "cell_type": "code",
   "execution_count": 6,
   "metadata": {},
   "outputs": [],
   "source": [
    "# drop the features nationality_name and name\n",
    "dfc = df.drop(\"nationality_name\", \"name\")"
   ]
  },
  {
   "attachments": {},
   "cell_type": "markdown",
   "metadata": {},
   "source": [
    "Creating a feature copy of age"
   ]
  },
  {
   "cell_type": "code",
   "execution_count": 7,
   "metadata": {},
   "outputs": [],
   "source": [
    "# crea una copia della feature age in age_copy\n",
    "dfc = dfc.withColumn(\"age_copy\", dfc.age)"
   ]
  },
  {
   "cell_type": "code",
   "execution_count": 8,
   "metadata": {},
   "outputs": [
    {
     "name": "stdout",
     "output_type": "stream",
     "text": [
      "+---------+-------+---------+---------+--------------+---------+-----------+-------------+----+--------+-------+---------+---------+------+------------------+-------------------+--------------------------+-----------------------+-----------------+---------------+-----------+-----------------+------------------+------------------+---------------------+---------------------+----------------+------------------+----------------+----------------+-------------+-------------+--------------+----------------+--------------------+-----------------------+---------------------+----------------+-------------------+-------------------+---------------------------+-------------------------+------------------------+------------------+--------------------+-------------------+-----------------------+--------------------+-----------------+--------------+----------+------------------+---+--------+\n",
      "|player_id|overall|height_cm|weight_kg|preferred_foot|weak_foot|skill_moves|    work_rate|pace|shooting|passing|dribbling|defending|physic|attacking_crossing|attacking_finishing|attacking_heading_accuracy|attacking_short_passing|attacking_volleys|skill_dribbling|skill_curve|skill_fk_accuracy|skill_long_passing|skill_ball_control|movement_acceleration|movement_sprint_speed|movement_agility|movement_reactions|movement_balance|power_shot_power|power_jumping|power_stamina|power_strength|power_long_shots|mentality_aggression|mentality_interceptions|mentality_positioning|mentality_vision|mentality_penalties|mentality_composure|defending_marking_awareness|defending_standing_tackle|defending_sliding_tackle|goalkeeping_diving|goalkeeping_handling|goalkeeping_kicking|goalkeeping_positioning|goalkeeping_reflexes|goalkeeping_speed|last_valuation|  position|      sub_position|age|age_copy|\n",
      "+---------+-------+---------+---------+--------------+---------+-----------+-------------+----+--------+-------+---------+---------+------+------------------+-------------------+--------------------------+-----------------------+-----------------+---------------+-----------+-----------------+------------------+------------------+---------------------+---------------------+----------------+------------------+----------------+----------------+-------------+-------------+--------------+----------------+--------------------+-----------------------+---------------------+----------------+-------------------+-------------------+---------------------------+-------------------------+------------------------+------------------+--------------------+-------------------+-----------------------+--------------------+-----------------+--------------+----------+------------------+---+--------+\n",
      "|   253765|     76|      188|       77|          Left|        3|          2|Medium/Medium|  52|      46|     67|       60|       76|    78|                64|                 30|                        76|                     69|               59|             60|         39|               56|                77|                67|                   48|                   55|              34|                70|              60|              72|           89|           66|            82|              59|                  78|                     76|                   29|              68|                 37|                 69|                         74|                       78|                      76|                15|                  10|                 13|                      8|                  11|                0|       4000000|  Defender|       Centre-Back| 29|      29|\n",
      "|   243856|     69|      190|       84|         Right|        3|          3|  High/Medium|  67|      70|     60|       65|       36|    74|                62|                 71|                        73|                     65|               65|             66|         47|               48|                57|                66|                   67|                   67|              59|                67|              63|              73|           78|           71|            80|              66|                  63|                     29|                   67|              57|                 66|                 64|                         28|                       35|                      36|                 9|                   9|                  9|                      7|                   7|                0|       3000000|    Attack|    Centre-Forward| 26|      26|\n",
      "|   481688|     71|      183|       71|         Right|        2|          2|Medium/Medium|  76|      60|     63|       69|       68|    72|                50|                 53|                        62|                     73|               48|             68|         50|               38|                70|                73|                   77|                   75|              66|                68|              66|              70|           66|           80|            69|              75|                  71|                     66|                   56|              62|                 39|                 66|                         70|                       68|                      67|                 8|                   8|                  9|                      8|                  10|                0|       2500000|  Midfield|  Central Midfield| 21|      21|\n",
      "|   482769|     70|      175|       65|          Left|        3|          3|Medium/Medium|  63|      55|     69|       74|       60|    63|                62|                 52|                        60|                     74|               48|             73|         64|               51|                73|                74|                   66|                   61|              76|                71|              78|              62|           59|           68|            61|              53|                  61|                     59|                   61|              72|                 54|                 69|                         59|                       63|                      60|                14|                  10|                  6|                      7|                   9|                0|       1500000|  Midfield|  Central Midfield| 22|      22|\n",
      "|   156941|     75|      181|       74|         Right|        5|          3|Medium/Medium|  63|      70|     73|       71|       72|    77|                67|                 66|                        63|                     78|               64|             69|         74|               54|                76|                77|                   65|                   61|              64|                69|              74|              79|           58|           84|            74|              74|                  82|                     73|                   69|              74|                 52|                 75|                         74|                       72|                      71|                14|                   6|                  6|                      9|                   8|                0|       5500000|  Midfield|  Central Midfield| 29|      29|\n",
      "|   199976|     75|      192|       87|         Right|        2|          1|Medium/Medium|   0|       0|      0|        0|        0|     0|                13|                 18|                        18|                     32|               12|             19|         14|               21|                19|                22|                   48|                   38|              55|                74|              58|              51|           68|           37|            66|              17|                  23|                     29|                   18|              44|                 21|                 65|                         26|                       17|                      13|                74|                  74|                 68|                     75|                  75|               43|       1500000|Goalkeeper|        Goalkeeper| 31|      31|\n",
      "|   454238|     72|      174|       68|         Right|        3|          2|  Medium/High|  62|      52|     62|       61|       70|    73|                45|                 45|                        65|                     70|               30|             50|         46|               68|                75|                71|                   61|                   63|              69|                65|              79|              57|           73|           69|            73|              66|                  79|                     73|                   57|              60|                 49|                 68|                         69|                       73|                      66|                 7|                  14|                  6|                     15|                   7|                0|       3000000|  Midfield|Defensive Midfield| 24|      24|\n",
      "|   354173|     65|      185|       78|         Right|        3|          2|Medium/Medium|  51|      31|     39|       44|       67|    64|                33|                 24|                        68|                     49|               31|             40|         29|               28|                46|                45|                   44|                   56|              34|                64|              62|              52|           68|           61|            68|              24|                  59|                     68|                   24|              28|                 45|                 63|                         64|                       70|                      67|                 6|                   8|                 11|                      8|                   8|                0|       1700000|  Defender|       Centre-Back| 25|      25|\n",
      "|   172015|     78|      186|       81|          Left|        2|          1|Medium/Medium|   0|       0|      0|        0|        0|     0|                14|                 16|                        10|                     28|               13|             13|         20|               20|                29|                15|                   48|                   42|              62|                76|              53|              53|           73|           43|            75|              15|                  29|                     26|                   14|              53|                 23|                 62|                         18|                       16|                      13|                77|                  75|                 70|                     78|                  80|               45|       5000000|Goalkeeper|        Goalkeeper| 31|      31|\n",
      "|   203504|     68|      189|       76|         Right|        3|          2|Medium/Medium|  50|      69|     57|       64|       28|    62|                57|                 70|                        77|                     64|               57|             64|         42|               46|                51|                67|                   57|                   44|              53|                69|              68|              72|           87|           64|            70|              64|                  32|                     24|                   72|              57|                 68|                 64|                         22|                       20|                      24|                11|                  14|                 13|                     13|                  13|                0|       1500000|    Attack|    Centre-Forward| 29|      29|\n",
      "|   404260|     67|      184|       70|          Left|        2|          2|Medium/Medium|  67|      41|     56|       66|       64|    59|                68|                 36|                        55|                     63|               31|             67|         43|               43|                49|                68|                   67|                   67|              66|                59|              61|              45|           60|           64|            55|              45|                  61|                     61|                   50|              42|                 49|                 48|                         62|                       68|                      69|                13|                   6|                  6|                     11|                   6|                0|       2000000|  Defender|         Left-Back| 23|      23|\n",
      "|   100986|     78|      191|       90|         Right|        4|          3|  High/Medium|  73|      74|     74|       72|       74|    81|                82|                 70|                        80|                     73|               77|             75|         76|               56|                72|                73|                   67|                   78|              62|                73|              47|              80|           74|           83|            84|              77|                  75|                     74|                   75|              73|                 65|                 74|                         71|                       74|                      79|                 8|                  13|                 15|                      6|                   9|                0|       9000000|  Defender|        Right-Back| 31|      31|\n",
      "|   338794|     68|      189|       78|         Right|        3|          2|  Medium/High|  37|      42|     55|       60|       70|    70|                39|                 41|                        65|                     69|               32|             59|         33|               29|                63|                67|                   40|                   35|              57|                56|              41|              54|           52|           71|            74|              33|                  62|                     66|                   42|              51|                 40|                 54|                         70|                       74|                      72|                 7|                  11|                  6|                     13|                  14|                0|       3500000|  Defender|       Centre-Back| 25|      25|\n",
      "|   344392|     70|      182|       75|         Right|        3|          3|Medium/Medium|  73|      41|     60|       68|       65|    73|                66|                 35|                        57|                     65|               35|             70|         60|               38|                54|                68|                   72|                   74|              61|                70|              64|              55|           72|           81|            70|              37|                  71|                     67|                   62|              56|                 48|                 60|                         62|                       68|                      66|                 5|                   7|                 10|                      5|                  14|                0|       1200000|  Defender|        Right-Back| 26|      26|\n",
      "|    57370|     74|      184|       83|         Right|        4|          2|Medium/Medium|  36|      37|     57|       52|       75|    73|                49|                 25|                        78|                     69|               36|             42|         38|               31|                66|                63|                   35|                   37|              46|                73|              56|              57|           80|           55|            79|              41|                  78|                     71|                   39|              47|                 43|                 72|                         74|                       76|                      75|                 6|                   8|                 12|                     16|                  11|                0|       1500000|  Defender|       Centre-Back| 35|      35|\n",
      "|   566723|     76|      178|       68|          Left|        2|          4|Medium/Medium|  80|      70|     76|       80|       50|    53|                75|                 70|                        36|                     76|               58|             80|         76|               68|                74|                79|                   82|                   78|              91|                73|              87|              74|           51|           67|            41|              68|                  66|                     48|                   69|              78|                 67|                 72|                         52|                       56|                      46|                 9|                  11|                  9|                     10|                  10|                0|      22000000|    Attack|      Right Winger| 21|      21|\n",
      "|   340950|     85|      178|       73|         Right|        5|          4|    High/High|  85|      83|     75|       85|       57|    77|                73|                 86|                        84|                     77|               79|             85|         77|               58|                72|                84|                   88|                   82|              86|                87|              85|              85|           81|           83|            71|              75|                  85|                     56|                   89|              77|                 69|                 80|                         53|                       57|                      45|                 7|                  12|                 15|                      9|                  11|                0|      60000000|    Attack|       Left Winger| 26|      26|\n",
      "|    18944|     83|      194|       85|         Right|        3|          2|  High/Medium|  56|      61|     71|       68|       84|    77|                57|                 65|                        84|                     80|               57|             63|         58|               43|                82|                80|                   48|                   62|              56|                81|              34|              62|           74|           61|            84|              51|                  79|                     84|                   66|              72|                 69|                 86|                         83|                       85|                      83|                10|                  11|                 14|                     15|                   8|                0|       5000000|  Defender|       Centre-Back| 36|      36|\n",
      "|    67089|     70|      185|       78|         Right|        3|          2|  Medium/High|  50|      53|     60|       59|       69|    78|                59|                 46|                        72|                     69|               47|             56|         66|               40|                65|                62|                   45|                   54|              60|                65|              53|              72|           80|           75|            80|              59|                  78|                     70|                   36|              47|                 46|                 59|                         69|                       69|                      66|                15|                   8|                 14|                     15|                  10|                0|        900000|  Defender|       Centre-Back| 33|      33|\n",
      "|   423444|     79|      165|       64|         Right|        3|          3|  Medium/High|  60|      56|     77|       77|       77|    65|                72|                 53|                        60|                     84|               55|             78|         54|               55|                82|                77|                   62|                   58|              77|                75|              78|              61|           57|           67|            63|              60|                  68|                     78|                   63|              79|                 49|                 66|                         77|                       81|                      80|                14|                  11|                  8|                     13|                   9|                0|      14000000|  Midfield|  Central Midfield| 24|      24|\n",
      "+---------+-------+---------+---------+--------------+---------+-----------+-------------+----+--------+-------+---------+---------+------+------------------+-------------------+--------------------------+-----------------------+-----------------+---------------+-----------+-----------------+------------------+------------------+---------------------+---------------------+----------------+------------------+----------------+----------------+-------------+-------------+--------------+----------------+--------------------+-----------------------+---------------------+----------------+-------------------+-------------------+---------------------------+-------------------------+------------------------+------------------+--------------------+-------------------+-----------------------+--------------------+-----------------+--------------+----------+------------------+---+--------+\n",
      "only showing top 20 rows\n",
      "\n"
     ]
    }
   ],
   "source": [
    "dfc.show()"
   ]
  },
  {
   "attachments": {},
   "cell_type": "markdown",
   "metadata": {},
   "source": [
    "### **Standardization of the numerical features**"
   ]
  },
  {
   "cell_type": "code",
   "execution_count": 9,
   "metadata": {},
   "outputs": [],
   "source": [
    "def standardize(dfc):\n",
    "    assembler = VectorAssembler(inputCols=list(set(dfc.columns) - set([\"player_id\", \"preferred_foot\", \"work_rate\", \"position\", \"sub_position\", \"age_copy\"])), \n",
    "                                outputCol=\"features\")\n",
    "\n",
    "    dfc = assembler.transform(dfc)\n",
    "\n",
    "    scaler = StandardScaler(inputCol=\"features\", \n",
    "                            outputCol=\"scaled_features\",\n",
    "                            withStd=True, withMean=True)\n",
    "\n",
    "    # Compute summary statistics by fitting the StandardScaler\n",
    "    scalerModel = scaler.fit(dfc)\n",
    "\n",
    "    # Normalize each feature to have unit standard deviation\n",
    "    dfc = scalerModel.transform(dfc)\n",
    "    return dfc"
   ]
  },
  {
   "cell_type": "code",
   "execution_count": 10,
   "metadata": {},
   "outputs": [],
   "source": [
    "dfc = standardize(dfc)"
   ]
  },
  {
   "cell_type": "code",
   "execution_count": 11,
   "metadata": {},
   "outputs": [],
   "source": [
    "dfc = dfc.drop(*list(set(df.columns) - set([\"player_id\", \"preferred_foot\", \"work_rate\", \"position\", \"sub_position\", \"age_copy\"])))"
   ]
  },
  {
   "attachments": {},
   "cell_type": "markdown",
   "metadata": {},
   "source": [
    "### **Applying one-hot encoding of the categorical features**"
   ]
  },
  {
   "cell_type": "code",
   "execution_count": 12,
   "metadata": {},
   "outputs": [],
   "source": [
    "from pyspark.sql.functions import when\n",
    "\n",
    "def apply_one_hot_encoding(df, column_names, df_id):\n",
    "\n",
    "    def generate_encoded_columns(df, name_column, column_values):\n",
    "        return [\n",
    "            when(df[name_column].isin(value), 1).otherwise(0).alias(f\"{name_column}_{value}\")\n",
    "            for value in column_values\n",
    "        ]\n",
    "    diz = {}\n",
    "    for col in column_names:\n",
    "        diz[col]=[row[col] for row in df.select(col).distinct().collect()]\n",
    "    encoded_columns = []\n",
    "    for name_column, column_values in diz.items():\n",
    "        encoded_columns.extend(generate_encoded_columns(df, name_column, column_values))\n",
    "    encoded_df = df.select(df_id, *encoded_columns)\n",
    "    #join the encoded df with the original df on the key df_id\n",
    "    df = df.join(encoded_df, df_id)\n",
    "    #drop the columns in column_names\n",
    "    df = df.drop(*column_names)\n",
    "    return df"
   ]
  },
  {
   "cell_type": "code",
   "execution_count": 13,
   "metadata": {},
   "outputs": [],
   "source": [
    "column_names = [\"preferred_foot\", \"work_rate\", \"position\", \"sub_position\"] #columns to apply one hot encoding (categorical features)\n",
    "dfc = apply_one_hot_encoding(dfc, column_names, \"player_id\") # apply one hot encoding to the specified columns on the df id player_id"
   ]
  },
  {
   "attachments": {},
   "cell_type": "markdown",
   "metadata": {},
   "source": [
    "### **NO PCA! Assemble the features of dfc**"
   ]
  },
  {
   "attachments": {},
   "cell_type": "markdown",
   "metadata": {},
   "source": [
    "This function allows to assemble the dataset for the k-means if we wanto to apply pca"
   ]
  },
  {
   "cell_type": "code",
   "execution_count": 14,
   "metadata": {},
   "outputs": [],
   "source": [
    "def dataset_assembler(df): \n",
    "   # Crea un'istanza di VectorAssembler specificando le colonne di input e la colonna di output\n",
    "    assembler = VectorAssembler(inputCols=list(set(df.columns) - set([\"player_id\", \"features\"])), outputCol=\"pcaFeatures\")\n",
    "\n",
    "    # Applica il VectorAssembler al DataFrame\n",
    "    df_pca = assembler.transform(df)\n",
    "    return df_pca"
   ]
  },
  {
   "attachments": {},
   "cell_type": "markdown",
   "metadata": {},
   "source": [
    "### **Principal Component Analysis: PCA**"
   ]
  },
  {
   "attachments": {},
   "cell_type": "markdown",
   "metadata": {},
   "source": [
    "Using the method of explained variance. The method of explained variance is a statistical technique used to understand the amount of information or variability in a dataset that is captured or \"explained\" by each principal component. Here are the algorithmic steps:\n",
    "- Apply PCA to the dataframe with a large k value, in our case k is equal to the number of features of the dataframe;\n",
    "- Get the variance explained by each principal component using the 'explainedVariance' method of the PCA model;\n",
    "- Calculate the total variance by adding up all the explained variances;\n",
    "- Calculates the percentage of variance explained by each principal component by dividing the explained variance of each component by the total variance;\n",
    "- Calculates the cumulative variance, which is the cumulative sum of the percentages of explained variance;\n",
    "- Select a desired value of percentage of total variance to explain, in our case 95%;\n",
    "- Find the smallest value of k such that the cumulative variance exceeds or equals the desired percentage;\n",
    "- k will be the number of components."
   ]
  },
  {
   "cell_type": "code",
   "execution_count": 15,
   "metadata": {},
   "outputs": [],
   "source": [
    "def get_optimal_k(df, desired_variance_percentage, k):\n",
    "    \n",
    "    assembler = VectorAssembler(inputCols=list(set(df.columns) - set([\"player_id\", \"features\", \"age_copy\"])), outputCol=\"features_\")\n",
    "    df_assembled = assembler.transform(df)\n",
    "\n",
    "    pca = PCA(k=k, inputCol=\"features_\", outputCol=\"pcaFeatures\")\n",
    "    model = pca.fit(df_assembled)\n",
    "\n",
    "    explained_variance = model.explainedVariance.toArray()\n",
    "    total_variance = np.sum(explained_variance)\n",
    "\n",
    "    cumulative_variance = 0.0\n",
    "    num_selected_features = 0\n",
    "\n",
    "    for variance in explained_variance:\n",
    "        cumulative_variance += variance\n",
    "        num_selected_features += 1\n",
    "        if cumulative_variance >= desired_variance_percentage * total_variance:\n",
    "            break\n",
    "\n",
    "    return num_selected_features"
   ]
  },
  {
   "attachments": {},
   "cell_type": "markdown",
   "metadata": {},
   "source": [
    "Applying PCA to decrease the number of features"
   ]
  },
  {
   "cell_type": "code",
   "execution_count": 16,
   "metadata": {},
   "outputs": [],
   "source": [
    "def apply_PCA(df, features_name_list, k):\n",
    "\n",
    "    assembler = VectorAssembler(inputCols=features_name_list, outputCol=\"features_\")\n",
    "    df_assembled = assembler.transform(df)\n",
    "    pca = PCA(k=k, inputCol=\"features_\", outputCol=\"pcaFeatures\")\n",
    "    model = pca.fit(df_assembled)\n",
    "    df_pca = model.transform(df_assembled).select(\"player_id\", \"pcaFeatures\")\n",
    "    \n",
    "    return df_pca"
   ]
  },
  {
   "attachments": {},
   "cell_type": "markdown",
   "metadata": {},
   "source": [
    "This function prepares the dataset to k-means:\n",
    "- if the flag is true, then apply the pca\n",
    "- if the flag is false, then assemble the dataset"
   ]
  },
  {
   "cell_type": "code",
   "execution_count": 17,
   "metadata": {},
   "outputs": [],
   "source": [
    "def flag_PCA(df,flag): # if flag is True, apply PCA, otherwise apply assembler\n",
    "    if flag is True:\n",
    "        desired_variance_percentage = 0.95\n",
    "        k = len(list(set(df.columns) - set([\"player_id\", \"features\", \"age_copy\"]))) + len(dfc.first()[\"scaled_features\"])\n",
    "        optimal_k = get_optimal_k(df, desired_variance_percentage, k-1)\n",
    "        print(\"I'm applying pca with an optimal k= \", optimal_k)\n",
    "        df_pca = apply_PCA(df, list(set(df.columns)-{\"player_id\", \"features\", \"age_copy\"}), optimal_k)\n",
    "    else:\n",
    "        df_pca = dataset_assembler(df)\n",
    "        print(\"I'm not applying pca, but i'm assembling the dataset for k-means\")\n",
    "    return df_pca"
   ]
  },
  {
   "attachments": {},
   "cell_type": "markdown",
   "metadata": {},
   "source": [
    "### **Applying k-means** "
   ]
  },
  {
   "cell_type": "code",
   "execution_count": 18,
   "metadata": {},
   "outputs": [],
   "source": [
    "RANDOM_SEED = 42"
   ]
  },
  {
   "cell_type": "code",
   "execution_count": 19,
   "metadata": {},
   "outputs": [],
   "source": [
    "def k_means(dataset, n_clusters, distance_measure=\"euclidean\", max_iter=80, features_col=\"pcaFeatures\", prediction_col=\"cluster\", random_seed=RANDOM_SEED):\n",
    "  \n",
    "    print(\"\"\"k-means parameters: - number of clusters = {:d} - max iterations = {:d} - distance measure = {:s} - random seed = {:d}\"\"\".format(n_clusters, max_iter, distance_measure, random_seed))\n",
    "\n",
    "    # Train a K-means model\n",
    "    kmeans = KMeans(featuresCol=features_col, \n",
    "                    predictionCol=prediction_col, \n",
    "                    k=n_clusters, \n",
    "                    initMode=\"k-means||\", # or random\n",
    "                    initSteps=10, \n",
    "                    tol=0.0000001, \n",
    "                    maxIter=max_iter, \n",
    "                    seed=random_seed, \n",
    "                    distanceMeasure=distance_measure)\n",
    "    model = kmeans.fit(dataset)\n",
    "\n",
    "    # Make clusters\n",
    "    clusters_df = model.transform(dataset)\n",
    "\n",
    "    return model, clusters_df"
   ]
  },
  {
   "cell_type": "code",
   "execution_count": 20,
   "metadata": {},
   "outputs": [],
   "source": [
    "def evaluate_k_means(clusters, metric_name=\"silhouette\", distance_measure=\"squaredEuclidean\",prediction_col=\"cluster\"):\n",
    "  \n",
    "  # Evaluate clustering by computing Silhouette score\n",
    "  evaluator = ClusteringEvaluator(metricName=metric_name,\n",
    "                                  distanceMeasure=distance_measure, \n",
    "                                  predictionCol=prediction_col\n",
    "                                  )\n",
    "\n",
    "  return evaluator.evaluate(clusters)"
   ]
  },
  {
   "cell_type": "code",
   "execution_count": 21,
   "metadata": {},
   "outputs": [],
   "source": [
    "def applying_elbow(df, features_col=\"pcaFeatures\", prediction_col=\"cluster\", min_k=60, max_k=100, random_seed=RANDOM_SEED):        \n",
    "\n",
    "    clustering_results = {}\n",
    "    k_values = range(min_k, max_k)\n",
    "\n",
    "    silhouette_values = []\n",
    "\n",
    "    for k in k_values:\n",
    "        # Creazione dell'istanza del modello K-means\n",
    "        model, clusters_df = k_means(df, k, features_col=\"pcaFeatures\", prediction_col=prediction_col, random_seed=RANDOM_SEED)\n",
    "        clusters_df = clusters_df.withColumn(\"features\", clusters_df[\"pcaFeatures\"])\n",
    "\n",
    "        # Calcolo del SSE (Sum of Squared Errors)\n",
    "        silhouette = evaluate_k_means(clusters_df)\n",
    "        silhouette_values.append(silhouette)\n",
    "        clustering_results[k] = silhouette\n",
    "\n",
    "    # Plot del grafico SSE vs. Valori k\n",
    "    plt.plot(k_values, silhouette_values, 'bx-')\n",
    "    plt.xlabel('Number of Clusters (k)')\n",
    "    plt.ylabel('Silhouette')\n",
    "    plt.title('Elbow Method for Optimal k')\n",
    "    plt.show()\n",
    "\n",
    "    return clustering_results"
   ]
  },
  {
   "attachments": {},
   "cell_type": "markdown",
   "metadata": {},
   "source": [
    "Split dfc in dfc1, composed by player with age >25, and dfc2, composed by player with age <25\n",
    "\n",
    "**dfc1 is made up of players who are over 25 years old**\n",
    "\n",
    "**dfc2 is made up of players who are under 25 years old**"
   ]
  },
  {
   "cell_type": "code",
   "execution_count": 22,
   "metadata": {},
   "outputs": [],
   "source": [
    "# split dfc in two dataframes: one composed of player with age >26, the other composed of player with age <=26\n",
    "def split_dataframe(dfc):\n",
    "    dfc1 = dfc.filter(dfc.age_copy > 25)\n",
    "    dfc2 = dfc.filter(dfc.age_copy <= 25)\n",
    "    return dfc1, dfc2"
   ]
  },
  {
   "cell_type": "code",
   "execution_count": 23,
   "metadata": {},
   "outputs": [],
   "source": [
    "dfc1, dfc2 = split_dataframe(dfc)"
   ]
  },
  {
   "attachments": {},
   "cell_type": "markdown",
   "metadata": {},
   "source": [
    "In this case,  we apply k-means, then our categorical features are processed by one hot encoding, then we can apply PCA (flag = True)"
   ]
  },
  {
   "cell_type": "code",
   "execution_count": 24,
   "metadata": {},
   "outputs": [
    {
     "name": "stdout",
     "output_type": "stream",
     "text": [
      "I'm applying pca with an optimal k=  21\n",
      "I'm applying pca with an optimal k=  25\n"
     ]
    }
   ],
   "source": [
    "df1_pca = flag_PCA(dfc1,flag=True)\n",
    "df2_pca = flag_PCA(dfc2,flag=True)"
   ]
  },
  {
   "cell_type": "code",
   "execution_count": 25,
   "metadata": {},
   "outputs": [
    {
     "name": "stdout",
     "output_type": "stream",
     "text": [
      "k-means parameters: - number of clusters = 60 - max iterations = 80 - distance measure = euclidean - random seed = 42\n"
     ]
    },
    {
     "data": {
      "image/png": "[encoded data removed]",
      "text/plain": [
       "<Figure size 640x480 with 1 Axes>"
      ]
     },
     "metadata": {},
     "output_type": "display_data"
    },
    {
     "name": "stdout",
     "output_type": "stream",
     "text": [
      "k-means parameters: - number of clusters = 60 - max iterations = 80 - distance measure = euclidean - random seed = 42\n"
     ]
    },
    {
     "data": {
      "image/png": "[encoded data removed]",
      "text/plain": [
       "<Figure size 640x480 with 1 Axes>"
      ]
     },
     "metadata": {},
     "output_type": "display_data"
    }
   ],
   "source": [
    "# def applying_elbow(df, features_col=\"pcaFeatures\", prediction_col=\"cluster\", min_k=60, max_k=100, random_seed=RANDOM_SEED):\n",
    "clustering_results1 = applying_elbow(df1_pca, features_col=\"pcaFeatures\", prediction_col=\"cluster\", min_k=60, max_k=61, random_seed=RANDOM_SEED)\n",
    "clustering_results2 = applying_elbow(df2_pca, features_col=\"pcaFeatures\", prediction_col=\"cluster\", min_k=60, max_k=61, random_seed=RANDOM_SEED)"
   ]
  },
  {
   "cell_type": "code",
   "execution_count": 26,
   "metadata": {},
   "outputs": [],
   "source": [
    "# obtain the key of the max items of clustering_results\n",
    "k_clustering1 = list(dict(sorted(clustering_results1.items(), key=lambda item: item[1], reverse=True)))[0]\n",
    "k_clustering2 = list(dict(sorted(clustering_results2.items(), key=lambda item: item[1], reverse=True)))[0]"
   ]
  },
  {
   "cell_type": "code",
   "execution_count": 27,
   "metadata": {},
   "outputs": [
    {
     "name": "stdout",
     "output_type": "stream",
     "text": [
      "k-means parameters: - number of clusters = 60 - max iterations = 80 - distance measure = euclidean - random seed = 42\n",
      "k-means parameters: - number of clusters = 60 - max iterations = 80 - distance measure = euclidean - random seed = 42\n"
     ]
    }
   ],
   "source": [
    "model1, df_clusters1 = k_means(df1_pca, k_clustering1, features_col=\"pcaFeatures\", prediction_col=\"cluster\", random_seed=RANDOM_SEED) # k_clustering or we can choose the number of clusters\n",
    "model2, df_clusters2 = k_means(df2_pca, k_clustering2, features_col=\"pcaFeatures\", prediction_col=\"cluster\", random_seed=RANDOM_SEED) # k_clustering or we can choose the number of clusters"
   ]
  },
  {
   "cell_type": "code",
   "execution_count": 28,
   "metadata": {},
   "outputs": [],
   "source": [
    "df_clusters1 = df_clusters1.withColumn(\"features\", df_clusters1[\"pcaFeatures\"]) # we need to do this because the function evaluate_k_means needs a column named \"features\"\n",
    "df_clusters2 = df_clusters2.withColumn(\"features\", df_clusters2[\"pcaFeatures\"]) # we need to do this because the function evaluate_k_means needs a column named \"features\"\n",
    "silhouette1 = evaluate_k_means(df_clusters1, metric_name=\"silhouette\", distance_measure=\"squaredEuclidean\", prediction_col=\"cluster\")\n",
    "silhouette2 = evaluate_k_means(df_clusters2, metric_name=\"silhouette\", distance_measure=\"squaredEuclidean\", prediction_col=\"cluster\")"
   ]
  },
  {
   "cell_type": "code",
   "execution_count": 29,
   "metadata": {},
   "outputs": [
    {
     "name": "stdout",
     "output_type": "stream",
     "text": [
      "0.15128832185462024\n",
      "0.14916693012798857\n"
     ]
    }
   ],
   "source": [
    "print(silhouette1)\n",
    "print(silhouette2)"
   ]
  },
  {
   "attachments": {},
   "cell_type": "markdown",
   "metadata": {},
   "source": [
    "Joining the initial dataframe and the k-means resulting dataframe"
   ]
  },
  {
   "cell_type": "code",
   "execution_count": 30,
   "metadata": {},
   "outputs": [],
   "source": [
    "#join the clusters_df with the original df on the key player_id\n",
    "df_k_means1 = df.join(df_clusters1, \"player_id\")\n",
    "df_k_means2 = df.join(df_clusters2, \"player_id\")"
   ]
  },
  {
   "cell_type": "code",
   "execution_count": 31,
   "metadata": {},
   "outputs": [],
   "source": [
    "#oridinare df_k_means per cluster\n",
    "df_k_means1 = df_k_means1.orderBy(\"cluster\")\n",
    "df_k_means2 = df_k_means2.orderBy(\"cluster\")"
   ]
  },
  {
   "cell_type": "code",
   "execution_count": 32,
   "metadata": {},
   "outputs": [
    {
     "name": "stdout",
     "output_type": "stream",
     "text": [
      "+---------+-------+---------+---------+----------------+--------------+---------+-----------+-----------+----+--------+-------+---------+---------+------+------------------+-------------------+--------------------------+-----------------------+-----------------+---------------+-----------+-----------------+------------------+------------------+---------------------+---------------------+----------------+------------------+----------------+----------------+-------------+-------------+--------------+----------------+--------------------+-----------------------+---------------------+----------------+-------------------+-------------------+---------------------------+-------------------------+------------------------+------------------+--------------------+-------------------+-----------------------+--------------------+-----------------+--------------+---------------+--------+------------+---+--------------------+-------+--------------------+\n",
      "|player_id|overall|height_cm|weight_kg|nationality_name|preferred_foot|weak_foot|skill_moves|  work_rate|pace|shooting|passing|dribbling|defending|physic|attacking_crossing|attacking_finishing|attacking_heading_accuracy|attacking_short_passing|attacking_volleys|skill_dribbling|skill_curve|skill_fk_accuracy|skill_long_passing|skill_ball_control|movement_acceleration|movement_sprint_speed|movement_agility|movement_reactions|movement_balance|power_shot_power|power_jumping|power_stamina|power_strength|power_long_shots|mentality_aggression|mentality_interceptions|mentality_positioning|mentality_vision|mentality_penalties|mentality_composure|defending_marking_awareness|defending_standing_tackle|defending_sliding_tackle|goalkeeping_diving|goalkeeping_handling|goalkeeping_kicking|goalkeeping_positioning|goalkeeping_reflexes|goalkeeping_speed|last_valuation|           name|position|sub_position|age|         pcaFeatures|cluster|            features|\n",
      "+---------+-------+---------+---------+----------------+--------------+---------+-----------+-----------+----+--------+-------+---------+---------+------+------------------+-------------------+--------------------------+-----------------------+-----------------+---------------+-----------+-----------------+------------------+------------------+---------------------+---------------------+----------------+------------------+----------------+----------------+-------------+-------------+--------------+----------------+--------------------+-----------------------+---------------------+----------------+-------------------+-------------------+---------------------------+-------------------------+------------------------+------------------+--------------------+-------------------+-----------------------+--------------------+-----------------+--------------+---------------+--------+------------+---+--------------------+-------+--------------------+\n",
      "|   133964|     84|      163|       59|           Italy|         Right|        4|          4|High/Medium|  84|      78|     84|       89|       36|    45|                76|                 76|                        59|                     84|               76|             90|         89|               86|                86|                90|                   87|                   81|              90|                77|              94|              76|           48|           74|            35|              81|                  34|                     26|                   80|              87|                 87|                 81|                         53|                       24|                      22|                 8|                   4|                 14|                      9|                  10|                0|      25000000|Lorenzo Insigne|  Attack| Left Winger| 31|[-5.8212081453098...|     33|[-5.8212081453098...|\n",
      "+---------+-------+---------+---------+----------------+--------------+---------+-----------+-----------+----+--------+-------+---------+---------+------+------------------+-------------------+--------------------------+-----------------------+-----------------+---------------+-----------+-----------------+------------------+------------------+---------------------+---------------------+----------------+------------------+----------------+----------------+-------------+-------------+--------------+----------------+--------------------+-----------------------+---------------------+----------------+-------------------+-------------------+---------------------------+-------------------------+------------------------+------------------+--------------------+-------------------+-----------------------+--------------------+-----------------+--------------+---------------+--------+------------+---+--------------------+-------+--------------------+\n",
      "\n"
     ]
    }
   ],
   "source": [
    "df_k_means1.filter(df_k_means1.player_id == 133964).show()"
   ]
  },
  {
   "cell_type": "code",
   "execution_count": 33,
   "metadata": {},
   "outputs": [
    {
     "name": "stdout",
     "output_type": "stream",
     "text": [
      "+---------+-------+---------+---------+----------------+--------------+---------+-----------+-------------+----+--------+-------+---------+---------+------+------------------+-------------------+--------------------------+-----------------------+-----------------+---------------+-----------+-----------------+------------------+------------------+---------------------+---------------------+----------------+------------------+----------------+----------------+-------------+-------------+--------------+----------------+--------------------+-----------------------+---------------------+----------------+-------------------+-------------------+---------------------------+-------------------------+------------------------+------------------+--------------------+-------------------+-----------------------+--------------------+-----------------+--------------+--------------------+----------+------------------+---+--------------------+-------+--------------------+\n",
      "|player_id|overall|height_cm|weight_kg|nationality_name|preferred_foot|weak_foot|skill_moves|    work_rate|pace|shooting|passing|dribbling|defending|physic|attacking_crossing|attacking_finishing|attacking_heading_accuracy|attacking_short_passing|attacking_volleys|skill_dribbling|skill_curve|skill_fk_accuracy|skill_long_passing|skill_ball_control|movement_acceleration|movement_sprint_speed|movement_agility|movement_reactions|movement_balance|power_shot_power|power_jumping|power_stamina|power_strength|power_long_shots|mentality_aggression|mentality_interceptions|mentality_positioning|mentality_vision|mentality_penalties|mentality_composure|defending_marking_awareness|defending_standing_tackle|defending_sliding_tackle|goalkeeping_diving|goalkeeping_handling|goalkeeping_kicking|goalkeeping_positioning|goalkeeping_reflexes|goalkeeping_speed|last_valuation|                name|  position|      sub_position|age|         pcaFeatures|cluster|            features|\n",
      "+---------+-------+---------+---------+----------------+--------------+---------+-----------+-------------+----+--------+-------+---------+---------+------+------------------+-------------------+--------------------------+-----------------------+-----------------+---------------+-----------+-----------------+------------------+------------------+---------------------+---------------------+----------------+------------------+----------------+----------------+-------------+-------------+--------------+----------------+--------------------+-----------------------+---------------------+----------------+-------------------+-------------------+---------------------------+-------------------------+------------------------+------------------+--------------------+-------------------+-----------------------+--------------------+-----------------+--------------+--------------------+----------+------------------+---+--------------------+-------+--------------------+\n",
      "|   688245|     61|      183|       79|         Belgium|          Left|        3|          1|Medium/Medium|   0|       0|      0|        0|        0|     0|                10|                  6|                        12|                     27|                8|              7|         13|               10|                25|                10|                   33|                   28|              32|                55|              45|              44|           59|           17|            38|               9|                  23|                     14|                    8|              35|                 15|                 35|                          6|                       14|                      11|                64|                  58|                 59|                     58|                  64|               30|        100000|    Jordy Schelfhout|Goalkeeper|        Goalkeeper| 22|[14.9548045197542...|      0|[14.9548045197542...|\n",
      "|   344591|     67|      184|       85|          France|         Right|        2|          1|Medium/Medium|   0|       0|      0|        0|        0|     0|                12|                  7|                        14|                     29|                9|             13|         13|               11|                22|                17|                   17|                   25|              22|                57|              46|              48|           58|           22|            59|               6|                  21|                     10|                    7|              24|                 16|                 51|                          7|                       12|                      14|                68|                  66|                 64|                     67|                  66|               21|        900000|      Gaëtan Poussin|Goalkeeper|        Goalkeeper| 24|[15.0762649690975...|      0|[15.0762649690975...|\n",
      "|   587726|     58|      190|       80|          Turkey|         Right|        3|          1|Medium/Medium|   0|       0|      0|        0|        0|     0|                13|                  8|                        11|                     21|                5|              6|         14|               13|                20|                18|                   18|                   21|              23|                51|              27|              46|           38|           28|            57|               6|                  27|                     10|                    7|              31|                 13|                 29|                          5|                       10|                      13|                61|                  56|                 61|                     53|                  60|               20|         50000|         Burak Bozan|Goalkeeper|        Goalkeeper| 22|[15.7472595185181...|      0|[15.7472595185181...|\n",
      "|   448705|     64|      189|       81|         Germany|         Right|        3|          1|Medium/Medium|   0|       0|      0|        0|        0|     0|                10|                  7|                        11|                     25|                8|             12|         12|               11|                26|                15|                   23|                   25|              29|                46|              40|              51|           52|           26|            64|               9|                  24|                     12|                    7|              35|                 17|                 34|                          9|                        9|                      10|                67|                  64|                 68|                     63|                  67|               24|        500000|         Diant Ramaj|Goalkeeper|        Goalkeeper| 21|[15.3252475547490...|      0|[15.3252475547490...|\n",
      "|   463601|     67|      184|       73|          France|         Right|        2|          1|Medium/Medium|   0|       0|      0|        0|        0|     0|                10|                  8|                        11|                     30|                6|              8|         13|               10|                22|                18|                   20|                   17|              29|                65|              42|              47|           57|           18|            41|               7|                  28|                      7|                    6|              30|                 10|                 44|                          9|                       14|                      12|                69|                  64|                 63|                     63|                  71|               18|        850000|   Guillaume Dietsch|Goalkeeper|        Goalkeeper| 22|[14.9873018792468...|      0|[14.9873018792468...|\n",
      "|   695141|     64|      188|       80|        Portugal|         Right|        3|          1|Medium/Medium|   0|       0|      0|        0|        0|     0|                15|                 10|                        11|                     23|               12|             15|         13|               12|                28|                14|                   23|                   20|              42|                57|              34|              44|           54|           19|            67|              12|                  22|                     15|                   11|              35|                 15|                 34|                         11|                       13|                      12|                59|                  63|                 58|                     63|                  69|               21|        200000|        Brian Araújo|Goalkeeper|        Goalkeeper| 23|[14.8720064602209...|      0|[14.8720064602209...|\n",
      "|   635993|     55|      189|       75|          Turkey|         Right|        3|          1|Medium/Medium|   0|       0|      0|        0|        0|     0|                13|                  6|                        11|                     22|                8|             12|         14|               14|                26|                19|                   29|                   26|              33|                34|              32|              44|           45|           28|            49|               6|                  16|                     12|                    6|              35|                 13|                 24|                          8|                       11|                      12|                54|                  56|                 59|                     54|                  59|               27|        100000|          Mert Topuz|Goalkeeper|        Goalkeeper| 22|[15.5261490551089...|      0|[15.5261490551089...|\n",
      "|   404838|     60|      191|       81|         Ukraine|         Right|        3|          1|Medium/Medium|   0|       0|      0|        0|        0|     0|                14|                 16|                        13|                     20|               14|             16|         10|               10|                24|                19|                   29|                   27|              21|                59|              26|              40|           37|           20|            60|              15|                  21|                     11|                   16|              22|                 12|                 22|                         17|                       12|                      10|                58|                  61|                 53|                     53|                  65|               28|        300000|  Vladyslav Kucheruk|Goalkeeper|        Goalkeeper| 24|[15.4942847927320...|      0|[15.4942847927320...|\n",
      "|   727147|     62|      188|       85|          Turkey|          Left|        2|          1|Medium/Medium|   0|       0|      0|        0|        0|     0|                12|                  8|                        10|                     22|                6|              9|         10|               13|                21|                17|                   34|                   32|              31|                44|              38|              48|           64|           24|            56|               9|                  27|                      8|                    6|              38|                 14|                 28|                          6|                       10|                      12|                67|                  60|                 64|                     59|                  67|               33|         50000|         Emre Bilgin|Goalkeeper|        Goalkeeper| 19|[15.4936466978924...|      0|[15.4936466978924...|\n",
      "|   323929|     58|      194|       79|          Brazil|          Left|        3|          1|Medium/Medium|   0|       0|      0|        0|        0|     0|                13|                  7|                        10|                     15|                8|              7|         12|               13|                21|                18|                   18|                   20|              22|                58|              20|              42|           37|           21|            56|               8|                  25|                      7|                    9|              53|                 13|                 23|                          8|                       11|                      12|                59|                  58|                 56|                     50|                  59|               19|         75000|     Bruno Bertinato|Goalkeeper|        Goalkeeper| 24|[15.7098271298459...|      0|[15.7098271298459...|\n",
      "|   478346|     61|      186|       80|        Portugal|         Right|        2|          1|Medium/Medium|   0|       0|      0|        0|        0|     0|                10|                  8|                        12|                     27|                5|              8|         10|               13|                25|                19|                   37|                   38|              36|                52|              43|              44|           59|           29|            62|               5|                  26|                     10|                   10|              22|                 18|                 49|                         10|                       13|                      12|                62|                  61|                 59|                     59|                  63|               38|        200000|      Matis Carvalho|Goalkeeper|        Goalkeeper| 24|[14.7148055047172...|      0|[14.7148055047172...|\n",
      "|   481344|     64|      193|       78|           Italy|         Right|        1|          1|Medium/Medium|   0|       0|      0|        0|        0|     0|                14|                  5|                        11|                     20|                6|             10|         13|               12|                25|                16|                   29|                   33|              32|                60|              21|              43|           38|           17|            63|               8|                  26|                     14|                    5|              24|                 11|                 32|                          9|                       14|                      13|                68|                  62|                 57|                     61|                  64|               31|        300000|    Alessandro Russo|Goalkeeper|        Goalkeeper| 22|[15.7972625136943...|      0|[15.7972625136943...|\n",
      "|   393371|     65|      189|       79|          Turkey|         Right|        2|          1|Medium/Medium|   0|       0|      0|        0|        0|     0|                11|                  7|                        12|                     24|                7|              5|         14|               11|                28|                10|                   17|                   24|              32|                55|              38|              47|           49|           16|            44|               6|                  24|                      6|                    4|              42|                 18|                 43|                         22|                       13|                      14|                65|                  66|                 63|                     64|                  67|               21|        125000|    Abdullah Yigiter|Goalkeeper|        Goalkeeper| 23|[15.2666454341447...|      0|[15.2666454341447...|\n",
      "|   371307|     59|      188|       76|         Denmark|         Right|        3|          1|Medium/Medium|   0|       0|      0|        0|        0|     0|                13|                  9|                        14|                     28|               10|             16|         13|               11|                30|                18|                   34|                   35|              38|                57|              52|              42|           54|           24|            56|              10|                  20|                     12|                    8|              40|                 15|                 37|                         26|                       12|                      11|                59|                  58|                 56|                     56|                  58|               35|        100000|      Marcus Bobjerg|Goalkeeper|        Goalkeeper| 25|[14.1781745548212...|      0|[14.1781745548212...|\n",
      "|   443995|     60|      185|       84|          Turkey|         Right|        2|          1|Medium/Medium|   0|       0|      0|        0|        0|     0|                10|                  8|                        14|                     30|                5|             14|         11|               10|                32|                12|                   28|                   28|              31|                50|              27|              41|           54|           27|            69|               9|                  27|                      6|                    6|              34|                 19|                 45|                          9|                       12|                      14|                65|                  59|                 54|                     55|                  65|               28|        100000|       Vedat Karakus|Goalkeeper|        Goalkeeper| 25|[15.0223399803223...|      0|[15.0223399803223...|\n",
      "|   511168|     67|      190|       77|           Ghana|         Right|        3|          1|Medium/Medium|   0|       0|      0|        0|        0|     0|                11|                  7|                        12|                     23|                7|             10|         12|               11|                19|                16|                   18|                   29|              26|                51|              44|              44|           63|           20|            38|               6|                  26|                     13|                    4|              27|                 19|                 23|                          9|                       13|                      12|                73|                  57|                 59|                     67|                  76|               24|        500000|      Abdul Nurudeen|Goalkeeper|        Goalkeeper| 24|[15.6640437505281...|      0|[15.6640437505281...|\n",
      "|   409346|     63|      190|       75|     Netherlands|         Right|        3|          1|Medium/Medium|   0|       0|      0|        0|        0|     0|                11|                  8|                        13|                     25|                5|             10|         11|               13|                28|                11|                   25|                   22|              37|                60|              23|              42|           30|           24|            46|               9|                  27|                     12|                    7|              38|                 18|                 41|                          9|                       14|                      14|                63|                  62|                 56|                     64|                  63|               23|        350000|        Jan Hoekstra|Goalkeeper|        Goalkeeper| 24|[15.0481134446026...|      0|[15.0481134446026...|\n",
      "|   616344|     75|      180|       78|        Portugal|         Right|        3|          3|  High/Medium|  87|      70|     58|       77|       38|    69|                42|                 73|                        67|                     69|               63|             78|         65|               41|                59|                78|                   84|                   89|              77|                75|              79|              75|           63|           78|            69|              60|                  61|                     40|                   78|              58|                 70|                 67|                         35|                       37|                      17|                 8|                  14|                  9|                     13|                   7|                0|       5000000|         Tiago Tomás|    Attack|    Centre-Forward| 20|[-2.6919756783548...|      1|[-2.6919756783548...|\n",
      "|   424784|     76|      185|       74|        Colombia|         Right|        4|          3|  High/Medium|  85|      77|     67|       75|       40|    80|                71|                 80|                        65|                     67|               71|             78|         70|               60|                63|                72|                   85|                   85|              78|                76|              76|              78|           61|           80|            81|              71|                  80|                     44|                   79|              66|                 72|                 63|                         26|                       48|                      28|                 6|                   8|                 13|                     11|                   6|                0|      10000000|         Luis Suárez|    Attack|    Centre-Forward| 25|[-3.9323581672938...|      1|[-3.9323581672938...|\n",
      "|   585959|     76|      175|       78|          France|         Right|        3|          3|  High/Medium|  81|      75|     59|       77|       29|    66|                51|                 77|                        72|                     65|               75|             76|         67|               55|                48|                77|                   83|                   80|              75|                75|              85|              76|           57|           58|            72|              73|                  64|                     23|                   78|              63|                 66|                 76|                         32|                       21|                      17|                 9|                  12|                  9|                     14|                   8|                0|      12000000|   Arnaud Kalimuendo|    Attack|    Centre-Forward| 21|[-2.8740625534639...|      1|[-2.8740625534639...|\n",
      "|   709726|     76|      189|       70|          France|         Right|        3|          3|  High/Medium|  74|      75|     60|       76|       25|    69|                51|                 80|                        73|                     68|               61|             78|         58|               48|                53|                76|                   74|                   74|              68|                76|              67|              76|           74|           68|            72|              69|                  61|                     18|                   78|              63|                 63|                 73|                         24|                       17|                      16|                 8|                   8|                  7|                     10|                  12|                0|      20000000|        Hugo Ekitiké|    Attack|    Centre-Forward| 20|[-2.2138150425353...|      1|[-2.2138150425353...|\n",
      "|   589737|     70|      185|       73|           Italy|         Right|        3|          3|Medium/Medium|  92|      67|     56|       71|       24|    69|                53|                 70|                        59|                     59|               57|             71|         56|               40|                48|                68|                   91|                   92|              81|                74|              68|              70|           91|           74|            70|              58|                  55|                     20|                   71|              66|                 68|                 65|                         19|                       21|                      17|                 7|                  11|                 12|                      6|                   6|                0|       5500000|       Kelvin Yeboah|    Attack|    Centre-Forward| 23|[-1.6949116313141...|      1|[-1.6949116313141...|\n",
      "|   295313|     77|      183|       85|         Nigeria|         Right|        2|          3|  High/Medium|  83|      76|     59|       70|       32|    80|                57|                 78|                        76|                     69|               68|             71|         55|               35|                56|                70|                   79|                   86|              69|                77|              70|              82|           81|           73|            84|              69|                  77|                     33|                   77|              53|                 70|                 63|                         25|                       27|                      23|                10|                   7|                  9|                      8|                  10|                0|      15000000|       Taiwo Awoniyi|    Attack|    Centre-Forward| 25|[-2.4035821490343...|      1|[-2.4035821490343...|\n",
      "|   364135|     78|      182|       72|           Italy|         Right|        3|          3|  High/Medium|  85|      76|     57|       77|       40|    75|                48|                 79|                        76|                     68|               71|             79|         67|               44|                46|                76|                   84|                   85|              76|                74|              79|              84|           76|           70|            85|              66|                  57|                     31|                   81|              58|                 65|                 72|                         40|                       36|                      30|                13|                   8|                 10|                      7|                   9|                0|      28000000|          Moise Kean|    Attack|    Centre-Forward| 23|[-3.3043787570183...|      1|[-3.3043787570183...|\n",
      "|   550550|     75|      185|       82|        Portugal|         Right|        4|          2|  High/Medium|  77|      73|     64|       74|       40|    80|                60|                 75|                        75|                     71|               68|             73|         60|               45|                65|                74|                   78|                   77|              78|                75|              76|              77|           84|           85|            77|              67|                  80|                     31|                   76|              63|                 57|                 67|                         38|                       41|                      21|                15|                   9|                  7|                      7|                  15|                0|      10000000|       Gonçalo Ramos|    Attack|    Centre-Forward| 21|[-2.8548355082588...|      1|[-2.8548355082588...|\n",
      "|   333647|     76|      181|       79|         Germany|         Right|        3|          3|  High/Medium|  84|      75|     67|       79|       43|    75|                62|                 78|                        66|                     74|               71|             82|         60|               44|                60|                77|                   82|                   86|              76|                76|              76|              76|           75|           79|            75|              68|                  71|                     40|                   77|              71|                 72|                 68|                         45|                       38|                      33|                14|                   9|                  9|                      6|                  14|                0|      17000000|   Jonathan Burkardt|    Attack|    Centre-Forward| 22|[-3.7225663565867...|      1|[-3.7225663565867...|\n",
      "|   573775|     77|      180|       76|           Spain|          Left|        4|          3|  High/Medium|  75|      76|     67|       76|       44|    67|                64|                 80|                        78|                     75|               74|             78|         52|               51|                60|                79|                   73|                   76|              69|                74|              69|              76|           74|           70|            72|              72|                  47|                     45|                   76|              68|                 64|                 68|                         45|                       35|                      35|                 8|                  14|                  6|                     14|                  15|                0|       8000000|           Hugo Duro|    Attack|    Centre-Forward| 23|[-3.0260831724421...|      1|[-3.0260831724421...|\n",
      "|   368887|     75|      174|       78|         Belgium|         Right|        3|          3|     High/Low|  93|      73|     64|       74|       26|    76|                67|                 77|                        65|                     70|               64|             73|         51|               43|                56|                72|                   94|                   93|              79|                74|              79|              73|           92|           77|            75|              66|                  72|                     16|                   76|              67|                 74|                 71|                         29|                       19|                      15|                 9|                   8|                 10|                      8|                  13|                0|       5500000|         Loïs Openda|    Attack|    Centre-Forward| 23|[-3.3205870471910...|      1|[-3.3205870471910...|\n",
      "|   586853|     73|      183|       74|        Portugal|         Right|        3|          2|  High/Medium|  75|      72|     61|       71|       28|    80|                58|                 74|                        71|                     66|               70|             73|         55|               48|                59|                72|                   76|                   75|              66|                72|              70|              75|           76|           73|            81|              67|                  85|                     36|                   73|              60|                 65|                 65|                         19|                       22|                      15|                 5|                   8|                  6|                      9|                  15|                0|       6000000|             Vitinha|    Attack|    Centre-Forward| 23|[-1.9620451348011...|      1|[-1.9620451348011...|\n",
      "|   473169|     76|      180|       78|     Netherlands|         Right|        4|          3|   Medium/Low|  82|      73|     55|       70|       30|    82|                35|                 77|                        72|                     72|               63|             66|         49|               44|                53|                75|                   79|                   85|              63|                73|              84|              77|           91|           71|            91|              63|                  70|                     26|                   78|              52|                 66|                 76|                         28|                       23|                      24|                10|                  11|                 15|                      8|                  13|                0|       7500000|       Brian Brobbey|    Attack|    Centre-Forward| 21|[-2.2197761258999...|      1|[-2.2197761258999...|\n",
      "|   448854|     76|      175|       66|         Nigeria|         Right|        3|          4|   Medium/Low|  87|      75|     62|       77|       38|    71|                67|                 77|                        75|                     65|               69|             76|         62|               62|                58|                75|                   90|                   85|              90|                79|              80|              82|           94|           71|            70|              68|                  68|                     13|                   75|              54|                 56|                 69|                         38|                       45|                      27|                13|                   7|                 11|                     11|                  13|                0|       8000000|     Emmanuel Dennis|    Attack|    Centre-Forward| 25|[-3.9326967230171...|      1|[-3.9326967230171...|\n",
      "|   324503|     76|      185|       82|          Greece|         Right|        4|          3|  High/Medium|  77|      75|     64|       74|       43|    80|                57|                 77|                        76|                     71|               66|             74|         67|               52|                62|                75|                   74|                   80|              70|                74|              68|              76|           81|           83|            81|              73|                  72|                     24|                   76|              60|                 68|                 75|                         44|                       44|                      37|                13|                  11|                 10|                     13|                  14|                0|       4000000|   Vangelis Pavlidis|    Attack|    Centre-Forward| 24|[-3.0822271416561...|      1|[-3.0822271416561...|\n",
      "|   284883|     75|      179|       71|           Spain|         Right|        3|          3|  High/Medium|  68|      75|     53|       72|       41|    78|                41|                 76|                        74|                     68|               73|             72|         52|               49|                45|                75|                   66|                   69|              68|                76|              64|              79|           78|           80|            78|              70|                  73|                     37|                   77|              48|                 72|                 74|                         38|                       37|                      33|                 7|                   8|                  5|                      8|                   7|                0|       3000000|        Fran Navarro|    Attack|    Centre-Forward| 25|[-2.2702801475987...|      1|[-2.2702801475987...|\n",
      "|   365172|     77|      183|       71|          Zambia|         Right|        3|          3|Medium/Medium|  90|      78|     60|       75|       24|    70|                51|                 82|                        67|                     68|               73|             74|         65|               54|                61|                76|                   87|                   92|              83|                77|              74|              76|           89|           76|            67|              71|                  63|                     17|                   80|              53|                 75|                 69|                         18|                       24|                      16|                 8|                   6|                  9|                      5|                  11|                0|      22000000|         Patson Daka|    Attack|    Centre-Forward| 24|[-3.4725920661314...|      1|[-3.4725920661314...|\n",
      "|   289648|     74|      175|       77|         Belgium|         Right|        3|          3|Medium/Medium|  85|      74|     67|       73|       36|    72|                69|                 76|                        66|                     66|               74|             71|         71|               59|                58|                73|                   88|                   82|              76|                72|              79|              75|           85|           79|            70|              71|                  66|                     38|                   76|              74|                 66|                 74|                         39|                       24|                      31|                 7|                   7|                 11|                     14|                   5|                0|       5500000|       Dante Vanzeir|    Attack|    Centre-Forward| 25|[-3.6491172835200...|      1|[-3.6491172835200...|\n",
      "|   618898|     60|      188|       78|          Turkey|         Right|        3|          2|Medium/Medium|  62|      59|     49|       61|       27|    64|                48|                 61|                        63|                     51|               55|             62|         65|               54|                39|                60|                   64|                   61|              65|                54|              55|              62|           63|           63|            69|              51|                  55|                     23|                   59|              51|                 60|                 55|                         26|                       21|                      20|                 6|                   8|                  7|                     12|                  11|                0|        325000|    Erencan Yardimci|    Attack|    Centre-Forward| 21|[1.82548163282431...|      2|[1.82548163282431...|\n",
      "|   338888|     59|      188|       77|          Turkey|         Right|        3|          2|   Medium/Low|  57|      61|     44|       56|       27|    63|                29|                 60|                        71|                     51|               65|             56|         51|               61|                31|                55|                   61|                   54|              61|                47|              55|              63|           62|           59|            67|              59|                  60|                     25|                   60|              50|                 66|                 54|                         20|                       24|                      20|                12|                   9|                  9|                     15|                  12|                0|        150000|  Muhammet Arslantas|    Attack|    Centre-Forward| 22|[2.50485710631962...|      2|[2.50485710631962...|\n",
      "|   657791|     62|      190|       83|       Venezuela|         Right|        3|          2|Medium/Medium|  62|      62|     42|       58|       33|    65|                37|                 66|                        62|                     47|               63|             60|         45|               39|                39|                57|                   55|                   68|              60|                59|              49|              67|           81|           55|            75|              51|                  50|                     28|                   62|              40|                 54|                 49|                         39|                       26|                      12|                15|                   9|                  8|                     11|                   9|                0|        200000|    Jeriel de Santis|    Attack|    Centre-Forward| 20|[2.68287480253740...|      2|[2.68287480253740...|\n",
      "|   730126|     61|      193|       79|         Ukraine|         Right|        4|          2|Medium/Medium|  59|      63|     44|       58|       23|    58|                34|                 67|                        69|                     49|               50|             63|         46|               41|                38|                58|                   58|                   59|              52|                54|              44|              60|           61|           55|            70|              58|                  33|                     20|                   61|              49|                 71|                 48|                         17|                       18|                      17|                13|                   9|                 10|                     10|                   7|                0|        450000|  Mykola Kukharevych|    Attack|    Centre-Forward| 21|[3.05831187765014...|      2|[3.05831187765014...|\n",
      "|   543311|     61|      202|       82|         Denmark|         Right|        3|          2|   Medium/Low|  64|      59|     48|       57|       25|    74|                30|                 60|                        59|                     58|               51|             58|         48|               33|                51|                60|                   60|                   68|              60|                56|              36|              65|           57|           57|            86|              54|                  67|                     20|                   56|              49|                 52|                 50|                         23|                       21|                      19|                13|                   7|                 11|                     15|                  10|                0|         50000|      Anosike Ementa|    Attack|    Centre-Forward| 21|[2.92047332853648...|      2|[2.92047332853648...|\n",
      "|   604813|     59|      188|       78|     Netherlands|         Right|        3|          2|Medium/Medium|  51|      61|     49|       50|       25|    62|                41|                 66|                        68|                     59|               47|             43|         51|               38|                39|                58|                   50|                   52|              54|                56|              46|              58|           60|           50|            77|              54|                  41|                     18|                   56|              51|                 66|                 48|                         20|                       22|                      21|                10|                   7|                 10|                     12|                   9|                0|         75000|           David Min|    Attack|    Centre-Forward| 23|[3.37021435586973...|      2|[3.37021435586973...|\n",
      "|   672803|     59|      186|       78|          Turkey|         Right|        2|          3|Medium/Medium|  57|      59|     47|       58|       32|    62|                35|                 64|                        67|                     56|               47|             61|         32|               40|                39|                59|                   55|                   58|              54|                49|              55|              55|           53|           52|            69|              54|                  59|                     20|                   56|              54|                 62|                 50|                         38|                       26|                      23|                10|                  14|                  6|                     12|                   9|                0|        175000|     Bertug Yildirim|    Attack|    Centre-Forward| 20|[2.90454040218940...|      2|[2.90454040218940...|\n",
      "|   524290|     61|      188|       81|         Germany|         Right|        4|          2|Medium/Medium|  55|      63|     48|       61|       24|    58|                36|                 69|                        60|                     54|               52|             62|         49|               52|                37|                62|                   55|                   55|              57|                56|              60|              59|           65|           54|            66|              58|                  42|                     22|                   60|              55|                 66|                 59|                         19|                       20|                      20|                 9|                   7|                  9|                     13|                  14|                0|        400000|      Fisnik Asllani|    Attack|    Centre-Forward| 20|[2.29074730313192...|      2|[2.29074730313192...|\n",
      "|   514895|     58|      186|       85|         Denmark|         Right|        3|          2|Medium/Medium|  64|      54|     51|       59|       36|    67|                48|                 55|                        58|                     55|               45|             58|         42|               38|                52|                61|                   62|                   66|              65|                46|              68|              63|           68|           58|            74|              46|                  58|                     32|                   56|              50|                 50|                 55|                         32|                       35|                      35|                 6|                  10|                 10|                     14|                  11|                0|        300000|      Alexander Lind|    Attack|    Centre-Forward| 20|[2.29195282440603...|      2|[2.29195282440603...|\n",
      "|   906192|     54|      184|       81|         Algeria|         Right|        3|          2|Medium/Medium|  60|      53|     41|       53|       18|    59|                32|                 60|                        58|                     50|               34|             51|         34|               38|                29|                56|                   61|                   60|              58|                36|              57|              49|           63|           48|            76|              48|                  29|                     11|                   50|              48|                 57|                 48|                         14|                       15|                      17|                11|                  13|                  5|                     10|                   9|                0|         50000|      Zakaria Silini|    Attack|    Second Striker| 19|[4.58533496100283...|      2|[4.58533496100283...|\n",
      "|   339327|     60|      185|       78|     Netherlands|          Left|        4|          2|Medium/Medium|  44|      63|     46|       56|       26|    66|                35|                 64|                        67|                     57|               58|             59|         38|               36|                41|                54|                   47|                   42|              48|                51|              54|              66|           63|           54|            77|              56|                  56|                     24|                   60|              45|                 69|                 54|                         22|                       20|                      20|                14|                  14|                  9|                      6|                   8|                0|        200000|          Jelle Duin|    Attack|    Centre-Forward| 24|[3.03696183789642...|      2|[3.03696183789642...|\n",
      "|   460898|     60|      189|       81|        Colombia|         Right|        3|          2|   Medium/Low|  43|      62|     35|       51|       33|    68|                23|                 62|                        71|                     42|               51|             44|         27|               38|                20|                57|                   33|                   52|              58|                58|              51|              66|           73|           53|            84|              59|                  45|                     21|                   64|              48|                 60|                 48|                         45|                       22|                      17|                12|                   7|                 14|                      6|                  14|                0|        800000|         Damir Ceter|    Attack|    Centre-Forward| 25|[4.04459396572590...|      2|[4.04459396572590...|\n",
      "|   518021|     55|      187|       80|        Scotland|         Right|        2|          2|Medium/Medium|  67|      54|     39|       51|       20|    58|                28|                 56|                        57|                     46|               38|             49|         41|               32|                28|                54|                   68|                   67|              55|                48|              60|              58|           68|           55|            72|              50|                  26|                     18|                   50|              45|                 62|                 46|                         14|                       16|                      15|                11|                  13|                  6|                      7|                  13|                0|        250000|       Jack Hamilton|    Attack|    Centre-Forward| 22|[4.26608564187230...|      2|[4.26608564187230...|\n",
      "|   338636|     65|      174|       68|         Belgium|         Right|        3|          2|Medium/Medium|  74|      51|     64|       70|       58|    51|                58|                 47|                        37|                     68|               43|             68|         56|               58|                63|                70|                   79|                   69|              81|                61|              84|              59|           82|           70|            31|              52|                  69|                     62|                   62|              67|                 52|                 63|                         60|                       59|                      57|                 6|                   8|                  9|                     14|                  10|                0|        600000|         Jérôme Déom|  Midfield|  Central Midfield| 24|[-1.1072418351462...|      3|[-1.1072418351462...|\n",
      "|   391719|     68|      175|       66|        Portugal|         Right|        3|          3|Medium/Medium|  69|      66|     66|       72|       44|    48|                56|                 65|                        34|                     72|               54|             72|         63|               50|                71|                72|                   72|                   67|              76|                64|              82|              73|           50|           58|            34|              70|                  69|                     46|                   64|              67|                 48|                 62|                         44|                       47|                      45|                12|                  11|                  8|                     12|                   6|                0|       2500000|      Domingos Quina|  Midfield|  Central Midfield| 23|[-1.5427439833100...|      3|[-1.5427439833100...|\n",
      "|   632831|     66|      170|       63|           Italy|          Left|        3|          3|     High/Low|  72|      54|     65|       71|       40|    45|                58|                 51|                        44|                     68|               48|             72|         66|               60|                63|                70|                   73|                   71|              70|                66|              88|              68|           59|           55|            37|              48|                  50|                     30|                   57|              69|                 55|                 64|                         42|                       41|                      48|                12|                   9|                 10|                     12|                   7|                0|        150000|      Nicolò Bertola|  Defender|       Centre-Back| 20|[-0.9958159465524...|      3|[-0.9958159465524...|\n",
      "|   405689|     61|      174|       70|         Germany|         Right|        3|          2|Medium/Medium|  66|      53|     59|       67|       56|    51|                59|                 50|                        48|                     63|               50|             67|         45|               41|                61|                65|                   69|                   63|              79|                60|              84|              65|           68|           62|            39|              51|                  62|                     58|                   60|              58|                 42|                 52|                         55|                       57|                      56|                 7|                   9|                 15|                     11|                  14|                0|        400000|    Merveille Papela|  Midfield|  Central Midfield| 22|[0.24198135250830...|      3|[0.24198135250830...|\n",
      "|   412943|     64|      173|       58|     Netherlands|         Right|        3|          3|   Medium/Low|  77|      50|     64|       70|       56|    45|                58|                 50|                        49|                     69|               53|             71|         60|               50|                65|                66|                   79|                   76|              85|                57|              79|              58|           58|           49|            34|              42|                  65|                     57|                   52|              67|                 52|                 66|                         54|                       57|                      59|                13|                   6|                 13|                      9|                   8|                0|        700000|      Kenzo Goudmijn|    Attack|Attacking Midfield| 21|[-1.0692093591850...|      3|[-1.0692093591850...|\n",
      "|   509713|     60|      174|       67|        Scotland|         Right|        3|          2|  High/Medium|  70|      56|     60|       64|       46|    50|                56|                 58|                        35|                     63|               53|             61|         57|               53|                60|                61|                   71|                   70|              81|                58|              80|              55|           53|           72|            42|              55|                  44|                     45|                   58|              61|                 52|                 59|                         48|                       49|                      47|                 6|                   6|                  6|                     14|                   8|                0|        250000|        Declan Glass|    Attack|Attacking Midfield| 22|[-0.0702023884188...|      3|[-0.0702023884188...|\n",
      "|   528888|     61|      173|       65|       Australia|          Left|        4|          3|  Medium/High|  65|      44|     58|       67|       58|    53|                45|                 44|                        41|                     67|               44|             64|         51|               42|                62|                66|                   72|                   60|              79|                64|              79|              48|           55|           65|            47|              36|                  51|                     64|                   51|              59|                 50|                 66|                         64|                       55|                      52|                13|                  13|                 14|                      7|                  14|                0|        500000|     Tyrese Francois|  Midfield|  Central Midfield| 22|[0.24963713709172...|      3|[0.24963713709172...|\n",
      "|   655895|     62|      173|       65|          Turkey|         Right|        4|          2|Medium/Medium|  63|      51|     62|       65|       57|    51|                44|                 41|                        59|                     68|               45|             62|         68|               67|                66|                68|                   61|                   65|              68|                58|              84|              64|           65|           58|            40|              60|                  66|                     56|                   53|              63|                 65|                 58|                         56|                       59|                      58|                12|                  11|                  6|                     14|                  15|                0|        200000|        Bartug Elmaz|  Midfield|Defensive Midfield| 20|[-0.3549243753312...|      3|[-0.3549243753312...|\n",
      "|   502298|     67|      173|       65|         Belgium|          Left|        4|          2|Medium/Medium|  69|      56|     64|       70|       62|    58|                58|                 57|                        52|                     71|               38|             69|         45|               43|                69|                72|                   73|                   66|              71|                64|              78|              59|           68|           71|            49|              57|                  64|                     60|                   57|              62|                 50|                 65|                         59|                       68|                      66|                 9|                   8|                  7|                      6|                   9|                0|        600000|Thomas Van den Ke...|  Midfield|  Central Midfield| 22|[-1.1186939938876...|      3|[-1.1186939938876...|\n",
      "|   433186|     66|      168|       61|         England|         Right|        3|          2|  High/Medium|  76|      45|     58|       71|       62|    56|                56|                 41|                        49|                     62|               31|             71|         55|               36|                56|                67|                   78|                   74|              80|                62|              86|              52|           63|           64|            49|              43|                  61|                     60|                   62|              60|                 48|                 66|                         66|                       64|                      60|                14|                   9|                  8|                     11|                  14|                0|        500000|          Bali Mumba|  Defender|        Right-Back| 21|[-0.4292039272310...|      3|[-0.4292039272310...|\n",
      "|   288067|     67|      168|       62|         Germany|          Left|        3|          3|  Medium/High|  79|      62|     67|       69|       54|    60|                71|                 60|                        48|                     67|               56|             67|         69|               66|                65|                67|                   78|                   79|              77|                65|              80|              68|           64|           86|            44|              62|                  64|                     52|                   63|              66|                 65|                 67|                         57|                       55|                      48|                14|                  13|                 11|                      7|                  14|                0|        700000|        Mats Köhlert|  Defender|         Left-Back| 25|[-2.6331959474179...|      3|[-2.6331959474179...|\n",
      "|   341272|     72|      173|       62|           Spain|         Right|        3|          3|     High/Low|  75|      68|     67|       74|       67|    46|                71|                 69|                        67|                     71|               64|             74|         59|               54|                64|                72|                   76|                   74|              88|                68|              83|              70|           65|           74|            33|              69|                  39|                     62|                   65|              63|                 58|                 55|                         66|                       72|                      68|                10|                  13|                  7|                     12|                  15|                0|       4000000|      Alejandro Pozo|  Defender|        Right-Back| 24|[-2.7674340555401...|      3|[-2.7674340555401...|\n",
      "|   569366|     67|      174|       66|          France|          Left|        3|          3|Medium/Medium|  65|      60|     66|       71|       52|    44|                63|                 60|                        44|                     68|               54|             71|         68|               59|                65|                70|                   68|                   63|              81|                64|              77|              62|           36|           49|            37|              59|                  57|                     57|                   63|              67|                 58|                 66|                         49|                       55|                      47|                13|                  15|                 12|                      8|                   8|                0|       2000000|         Enzo Millot|  Midfield|  Central Midfield| 20|[-1.1429495757135...|      3|[-1.1429495757135...|\n",
      "|   620566|     64|      175|       66|         Belgium|          Left|        5|          2|  High/Medium|  67|      48|     63|       70|       53|    48|                61|                 45|                        42|                     68|               37|             68|         45|               48|                62|                71|                   72|                   62|              73|                61|              81|              52|           62|           60|            36|              53|                  58|                     54|                   57|              66|                 44|                 66|                         49|                       59|                      52|                 6|                  13|                  5|                     12|                  11|                0|        350000|    Jannes Van Hecke|  Midfield|  Central Midfield| 21|[-0.2163594524031...|      3|[-0.2163594524031...|\n",
      "|   589139|     62|      175|       65|         Denmark|         Right|        3|          3|  High/Medium|  72|      52|     58|       66|       49|    50|                48|                 53|                        37|                     65|               44|             64|         55|               40|                58|                65|                   73|                   72|              80|                56|              77|              57|           59|           55|            49|              47|                  46|                     48|                   60|              60|                 42|                 64|                         47|                       54|                      50|                 6|                  15|                  5|                     14|                   5|                0|        300000|        Sofus Berger|  Midfield|  Central Midfield| 19|[0.18769357258010...|      3|[0.18769357258010...|\n",
      "|   743091|     64|      175|       68|          Turkey|         Right|        3|          3|  High/Medium|  68|      58|     63|       70|       50|    49|                54|                 57|                        49|                     67|               48|             73|         59|               52|                63|                68|                   68|                   68|              73|                54|              76|              62|           52|           67|            35|              59|                  59|                     50|                   64|              67|                 50|                 63|                         45|                       55|                      50|                 8|                  11|                  6|                     15|                  15|                0|       1000000|      Emirhan Ilkhan|  Midfield|  Central Midfield| 18|[-0.6993852612824...|      3|[-0.6993852612824...|\n",
      "|   460379|     69|      180|       64|         Belgium|         Right|        3|          3|Medium/Medium|  78|      57|     63|       71|       52|    49|                67|                 62|                        38|                     66|               64|             70|         44|               46|                64|                71|                   79|                   77|              77|                63|              73|              63|           71|           70|            42|              38|                  37|                     50|                   66|              60|                 48|                 68|                         58|                       50|                      54|                 6|                  10|                  7|                     11|                  14|                0|        800000|      Robbie D'Haese|  Defender|        Right-Back| 24|[-1.0562073666370...|      3|[-1.0562073666370...|\n",
      "|   366723|     70|      173|       62|         Ukraine|          Left|        3|          3|  Medium/High|  77|      45|     69|       70|       64|    56|                72|                 30|                        45|                     75|               58|             73|         72|               39|                67|                66|                   79|                   75|              73|                59|              82|              59|           70|           71|            42|              61|                  67|                     64|                   66|              65|                 34|                 50|                         66|                       68|                      67|                 7|                  14|                  9|                     13|                  13|                0|       1000000| Vladyslav Dubinchak|  Defender|         Left-Back| 24|[-1.4512866241907...|      3|[-1.4512866241907...|\n",
      "|   445616|     64|      170|       64|    South Africa|          Left|        3|          3|  High/Medium|  85|      53|     57|       74|       50|    61|                59|                 58|                        33|                     59|               45|             72|         55|               34|                55|                71|                   87|                   83|              89|                63|              92|              58|           55|           69|            57|              43|                  60|                     53|                   53|              61|                 41|                 63|                         50|                       53|                      52|                13|                   8|                  8|                      8|                   8|                0|        700000|          Gift Links|    Attack|      Right Winger| 24|[-1.1753119058150...|      3|[-1.1753119058150...|\n",
      "|   672933|     67|      169|       65|           Ghana|         Right|        3|          3|  Medium/High|  68|      45|     55|       68|       66|    60|                47|                 38|                        50|                     61|               44|             63|         40|               39|                59|                70|                   65|                   70|              73|                67|              86|              63|           80|           72|            40|              42|                  90|                     70|                   52|              56|                 48|                 69|                         65|                       69|                      64|                 7|                   5|                  6|                     15|                   5|                0|        425000|           Yaw Ackah|  Midfield|Defensive Midfield| 23|[-0.7464862498129...|      3|[-0.7464862498129...|\n",
      "|   536477|     66|      168|       60|          France|          Left|        4|          3|     High/Low|  81|      43|     58|       67|       58|    49|                62|                 35|                        53|                     62|               41|             62|         63|               39|                53|                66|                   84|                   78|              88|                63|              91|              55|           60|           69|            34|              42|                  61|                     57|                   62|              52|                 47|                 59|                         53|                       63|                      61|                12|                   8|                 14|                      7|                   6|                0|       1000000|        Arthur Zagré|  Defender|         Left-Back| 21|[-0.8709186729348...|      3|[-0.8709186729348...|\n",
      "|   729140|     68|      175|       68|        Portugal|         Right|        3|          3|Medium/Medium|  77|      53|     63|       66|       62|    54|                66|                 48|                        40|                     64|               48|             65|         61|               53|                61|                67|                   76|                   77|              72|                62|              73|              60|           63|           72|            44|              56|                  55|                     66|                   55|              64|                 52|                 57|                         63|                       63|                      65|                13|                   9|                  7|                      6|                  11|                0|        200000|                Maga|  Defender|        Right-Back| 20|[-0.9222534450320...|      3|[-0.9222534450320...|\n",
      "|   461939|     66|      172|       64|        Portugal|         Right|        3|          3|Medium/Medium|  72|      51|     68|       67|       57|    50|                63|                 43|                        51|                     74|               53|             66|         60|               45|                70|                70|                   71|                   73|              62|                62|              80|              65|           56|           73|            34|              46|                  60|                     60|                   63|              67|                 64|                 60|                         59|                       55|                      53|                15|                  12|                  8|                      5|                   5|                0|        150000|         Tomás Silva|  Midfield|  Central Midfield| 23|[-1.2425523993683...|      3|[-1.2425523993683...|\n",
      "|   627228|     71|      168|       60|          Brazil|         Right|        3|          2|  High/Medium|  82|      56|     65|       74|       62|    59|                73|                 55|                        51|                     69|               45|             74|         66|               43|                65|                75|                   81|                   82|              84|                63|              83|              64|           74|           77|            46|              53|                  66|                     63|                   61|              55|                 55|                 54|                         59|                       66|                      65|                 9|                   6|                 13|                      8|                  11|                0|       5000000|           Yan Couto|  Defender|        Right-Back| 20|[-2.1979299527259...|      3|[-2.1979299527259...|\n",
      "|   717345|     62|      176|       70|         Germany|         Right|        3|          3|Medium/Medium|  68|      52|     65|       66|       55|    47|                58|                 48|                        52|                     69|               56|             64|         58|               58|                66|                64|                   71|                   65|              80|                57|              82|              60|           64|           51|            40|              51|                  56|                     51|                   55|              66|                 55|                 62|                         55|                       58|                      57|                 7|                  10|                 13|                     11|                  13|                0|        750000|     Sidney Raebiger|  Midfield|  Central Midfield| 18|[-0.4615417114995...|      3|[-0.4615417114995...|\n",
      "|   579294|     62|      175|       65|          Sweden|         Right|        3|          3|Medium/Medium|  64|      45|     58|       68|       50|    58|                44|                 41|                        36|                     64|               39|             66|         45|               42|                62|                65|                   72|                   58|              81|                61|              82|              48|           68|           71|            45|              49|                  73|                     59|                   52|              64|                 44|                 67|                         49|                       51|                      46|                 9|                   9|                 11|                     11|                  10|                0|       1200000|          Aimar Sher|  Midfield|  Central Midfield| 20|[0.20472118414922...|      3|[0.20472118414922...|\n",
      "|   502245|     63|      182|       68|         Belgium|          Left|        3|          2|    High/High|  76|      55|     55|       67|       49|    39|                60|                 56|                        37|                     56|               48|             65|         43|               36|                58|                68|                   80|                   73|              74|                60|              84|              71|           67|           57|            29|              40|                  34|                     49|                   50|              56|                 57|                 51|                         53|                       52|                      43|                15|                   6|                  7|                      7|                   7|                0|        150000|        Dion De Neve|  Midfield|     Left Midfield| 21|[0.56082231115329...|      3|[0.56082231115329...|\n",
      "|   296340|     64|      170|       64|         Germany|         Right|        3|          2|  Medium/High|  80|      40|     63|       67|       63|    58|                57|                 38|                        52|                     69|               30|             65|         51|               35|                65|                65|                   84|                   77|              82|                59|              90|              47|           54|           74|            42|              33|                  79|                     67|                   64|              66|                 36|                 49|                         60|                       66|                      62|                12|                  11|                 11|                      8|                  12|                0|        500000|        Alfons Amade|  Midfield|Defensive Midfield| 23|[-0.2815158012030...|      3|[-0.2815158012030...|\n",
      "|   671594|     63|      170|       53|            Mali|         Right|        3|          2|Medium/Medium|  68|      57|     61|       65|       57|    56|                54|                 52|                        55|                     67|               53|             66|         59|               48|                64|                66|                   69|                   68|              60|                59|              74|              64|           59|           62|            52|              59|                  59|                     55|                   60|              61|                 58|                 56|                         54|                       60|                      59|                 9|                  10|                 14|                     10|                   9|                0|        300000|      Kamory Doumbia|    Attack|Attacking Midfield| 20|[-0.4638427708104...|      3|[-0.4638427708104...|\n",
      "|   581106|     64|      168|       60|          Norway|         Right|        3|          3|Medium/Medium|  70|      52|     65|       70|       55|    53|                56|                 48|                        32|                     68|               50|             66|         61|               63|                66|                71|                   75|                   66|              85|                58|              86|              56|           68|           56|            44|              61|                  66|                     65|                   48|              67|                 46|                 62|                         53|                       59|                      51|                11|                  12|                 13|                      8|                  11|                0|        400000|    Kristian Arnstad|  Midfield|  Central Midfield| 19|[-1.0678059674083...|      3|[-1.0678059674083...|\n",
      "|   480265|     60|      169|       64|         Belgium|         Right|        4|          2|  Medium/High|  73|      43|     57|       65|       56|    53|                44|                 37|                        51|                     69|               42|             64|         34|               34|                57|                63|                   73|                   73|              80|                56|              86|              53|           65|           68|            42|              42|                  57|                     56|                   54|              60|                 46|                 53|                         61|                       53|                      55|                14|                   7|                  5|                      8|                   8|                0|        200000|     Stan Van Dessel|  Midfield|  Central Midfield| 21|[0.46529709907489...|      3|[0.46529709907489...|\n",
      "|   667121|     67|      175|       69|        Portugal|         Right|        3|          3|  High/Medium|  77|      61|     58|       69|       52|    51|                52|                 62|                        52|                     63|               45|             68|         56|               41|                59|                68|                   77|                   77|              74|                74|              73|              69|           58|           70|            41|              55|                  52|                     54|                   67|              58|                 56|                 62|                         54|                       49|                      51|                10|                  13|                 10|                     14|                  10|                0|       2000000|       Rodrigo Gomes|    Attack|      Right Winger| 19|[-1.0763644099825...|      3|[-1.0763644099825...|\n",
      "|   491966|     66|      170|       67|          Turkey|         Right|        2|          2|  Medium/High|  73|      43|     56|       65|       63|    53|                61|                 30|                        56|                     60|               47|             66|         64|               40|                61|                61|                   73|                   73|              70|                63|              86|              62|           68|           66|            39|              50|                  70|                     63|                   57|              43|                 41|                 60|                         63|                       64|                      66|                10|                   9|                 10|                     10|                   9|                0|       1400000|         Serkan Asan|  Defender|        Right-Back| 24|[-0.0145516950195...|      3|[-0.0145516950195...|\n",
      "|   429987|     67|      169|       58|        Portugal|         Right|        3|          3|  High/Medium|  70|      54|     70|       74|       45|    42|                66|                 55|                        50|                     74|               53|             71|         69|               62|                69|                72|                   73|                   67|              84|                73|              93|              62|           59|           63|            31|              39|                  40|                     47|                   65|              72|                 64|                 70|                         44|                       43|                      42|                 9|                  15|                  6|                      8|                   6|                0|       3000000|        Tiago Dantas|  Midfield|  Central Midfield| 22|[-2.2004413491771...|      3|[-2.2004413491771...|\n",
      "|   757272|     63|      173|       58|        Scotland|          Left|        3|          3|  High/Medium|  75|      54|     57|       67|       55|    61|                55|                 53|                        54|                     62|               49|             67|         56|               33|                55|                65|                   77|                   74|              77|                61|              75|              62|           66|           68|            54|              49|                  67|                     55|                   59|              57|                 49|                 59|                         53|                       57|                      56|                 5|                  14|                 12|                      7|                  13|                0|        450000|     Adam Montgomery|  Defender|         Left-Back| 20|[-0.6017723368363...|      3|[-0.6017723368363...|\n",
      "|   631278|     64|      171|       63|         Nigeria|         Right|        2|          2|  Medium/High|  68|      45|     56|       61|       63|    59|                52|                 40|                        58|                     63|               49|             58|         42|               39|                62|                60|                   68|                   68|              71|                61|              78|              57|           80|           71|            46|              41|                  70|                     65|                   48|              53|                 53|                 53|                         62|                       64|                      63|                10|                  10|                  9|                      8|                  13|                0|        200000|       Abbas Ibrahim|  Midfield|  Central Midfield| 25|[0.44601764247642...|      3|[0.44601764247642...|\n",
      "|   485587|     67|      168|       63|     Netherlands|         Right|        3|          2|Medium/Medium|  75|      49|     60|       67|       64|    57|                45|                 49|                        42|                     70|               26|             65|         49|               31|                68|                65|                   76|                   74|              74|                68|              84|              63|           47|           72|            47|              43|                  64|                     66|                   40|              59|                 39|                 66|                         65|                       67|                      66|                13|                   7|                  8|                      7|                  10|                0|        900000|         Dirk Proper|  Midfield|  Central Midfield| 21|[-0.3275262899322...|      3|[-0.3275262899322...|\n",
      "|   399262|     62|      173|       68|        Scotland|         Right|        3|          3|  High/Medium|  70|      58|     62|       64|       51|    52|                61|                 57|                        36|                     63|               57|             62|         61|               65|                60|                62|                   69|                   70|              75|                58|              74|              58|           46|           71|            48|              63|                  39|                     47|                   58|              62|                 57|                 60|                         52|                       55|                      58|                 5|                  14|                  8|                      9|                  11|                0|        200000|       Fraser Murray|  Midfield|     Left Midfield| 24|[-0.5604408680192...|      3|[-0.5604408680192...|\n",
      "|   480987|     71|      191|       75|           Wales|         Right|        3|          2|Medium/Medium|  58|      37|     55|       60|       72|    72|                38|                 32|                        70|                     66|               33|             58|         41|               35|                63|                64|                   53|                   62|              51|                68|              64|              52|           74|           61|            77|              32|                  73|                     71|                   39|              53|                 44|                 67|                         70|                       74|                      72|                10|                  10|                 12|                     14|                  12|                0|       6000000|        Chris Mepham|  Defender|       Centre-Back| 25|[1.74275930499602...|      4|[1.74275930499602...|\n",
      "|   284248|     74|      186|       83|         Germany|         Right|        3|          2|  Medium/High|  73|      33|     52|       51|       76|    73|                35|                 25|                        70|                     63|               33|             39|         31|               37|                58|                61|                   67|                   78|              62|                68|              58|              47|           59|           69|            76|              36|                  76|                     77|                   32|              53|                 44|                 62|                         76|                       78|                      75|                11|                  12|                  6|                     12|                  15|                0|       3500000|        Paul Jaeckel|  Defender|       Centre-Back| 24|[1.82298624053542...|      4|[1.82298624053542...|\n",
      "|   538996|     73|      191|       85|          France|         Right|        3|          2|     Low/High|  62|      37|     56|       64|       73|    76|                37|                 32|                        78|                     70|               37|             64|         41|               31|                67|                67|                   55|                   67|              55|                67|              58|              57|           77|           69|            79|              25|                  75|                     71|                   36|              53|                 42|                 65|                         73|                       75|                      69|                 6|                  14|                  9|                      8|                   7|                0|       9000000|      Tanguy Nianzou|  Defender|       Centre-Back| 20|[1.25356222858682...|      4|[1.25356222858682...|\n",
      "|   341049|     74|      183|       92|   United States|         Right|        3|          2|  Medium/High|  74|      26|     55|       63|       74|    81|                37|                 19|                        72|                     73|               26|             59|         24|               30|                65|                65|                   70|                   78|              67|                68|              66|              48|           75|           72|            90|              16|                  71|                     73|                   27|              48|                 38|                 71|                         75|                       76|                      68|                13|                   6|                  8|                     16|                  10|                0|       3000000|Cameron Carter-Vi...|  Defender|       Centre-Back| 25|[1.45581172872434...|      4|[1.45581172872434...|\n",
      "|   563963|     77|      191|       85|           Ghana|          Left|        3|          2|  Medium/High|  69|      36|     51|       55|       79|    80|                40|                 30|                        74|                     73|               22|             47|         50|               32|                58|                64|                   63|                   74|              53|                68|              49|              60|           72|           67|            87|              28|                  79|                     81|                   35|              24|                 40|                 62|                         79|                       79|                      75|                 7|                   7|                 11|                     10|                   6|                0|      15000000|     Mohammed Salisu|  Defender|       Centre-Back| 24|[1.67643407793539...|      4|[1.67643407793539...|\n",
      "|   380350|     76|      185|       84|          Brazil|          Left|        2|          2|Medium/Medium|  73|      31|     50|       55|       77|    83|                24|                 22|                        67|                     67|               27|             44|         32|               25|                52|                63|                   69|                   77|              66|                60|              66|              44|           70|           76|            87|              36|                  84|                     76|                   48|              56|                 28|                 65|                         77|                       80|                      77|                 7|                  11|                  9|                     15|                  14|                0|       8000000|                Igor|  Defender|       Centre-Back| 25|[1.75512800322805...|      4|[1.75512800322805...|\n",
      "|   314295|     76|      193|       86|         England|         Right|        3|          2|Medium/Medium|  68|      33|     54|       62|       77|    75|                34|                 23|                        75|                     67|               36|             59|         44|               36|                58|                63|                   66|                   69|              62|                77|              53|              49|           84|           65|            81|              37|                  72|                     78|                   34|              55|                 48|                 67|                         77|                       80|                      72|                10|                  11|                  7|                      9|                  14|                0|      10000000|        Reece Oxford|  Defender|       Centre-Back| 24|[1.16681237884411...|      4|[1.16681237884411...|\n",
      "|   544149|     74|      190|       80|  Czech Republic|         Right|        3|          2|    High/High|  74|      38|     54|       63|       76|    76|                36|                 30|                        67|                     64|               33|             60|         51|               32|                61|                63|                   74|                   74|              65|                73|              58|              61|           64|           75|            80|              35|                  70|                     78|                   27|              55|                 44|                 73|                         80|                       75|                      75|                 5|                  12|                 13|                     10|                  10|                0|       7500000|          David Zima|  Defender|       Centre-Back| 22|[0.57549971040834...|      4|[0.57549971040834...|\n",
      "|   258878|     75|      196|       80|         England|         Right|        3|          2|   Low/Medium|  72|      31|     57|       58|       75|    77|                38|                 30|                        71|                     73|               25|             50|         30|               22|                71|                66|                   66|                   76|              53|                71|              53|              36|           77|           68|            82|              28|                  75|                     74|                   28|              51|                 35|                 76|                         75|                       77|                      74|                14|                  11|                 11|                      8|                   9|                0|      15000000|    Tosin Adarabioyo|  Defender|       Centre-Back| 25|[1.63686579542718...|      4|[1.63686579542718...|\n",
      "|   541231|     71|      194|       78|     Netherlands|         Right|        3|          2|Medium/Medium|  60|      34|     62|       64|       72|    72|                61|                 29|                        70|                     69|               31|             63|         38|               26|                64|                68|                   52|                   66|              58|                69|              52|              45|           66|           69|            75|              31|                  70|                     71|                   52|              62|                 40|                 64|                         73|                       73|                      70|                11|                  14|                  5|                      9|                  14|                0|       1800000|   Sepp van den Berg|  Defender|       Centre-Back| 21|[1.44471221744637...|      4|[1.44471221744637...|\n",
      "|   575998|     75|      187|       76|       Argentina|         Right|        3|          2|Medium/Medium|  68|      36|     57|       64|       75|    75|                42|                 29|                        77|                     75|               29|             60|         39|               30|                70|                69|                   64|                   72|              64|                69|              56|              55|           74|           68|            78|              31|                  76|                     72|                   33|              43|                 47|                 67|                         75|                       77|                      75|                 6|                   8|                 15|                     15|                  14|                0|      10000000|    Leonardo Balerdi|  Defender|       Centre-Back| 24|[0.85812761348317...|      4|[0.85812761348317...|\n",
      "|   410708|     76|      190|       79|     Netherlands|          Left|        4|          2|  Medium/High|  57|      38|     61|       63|       77|    76|                42|                 31|                        73|                     75|               34|             60|         42|               32|                73|                71|                   55|                   58|              50|                73|              54|              62|           73|           72|            78|              30|                  76|                     79|                   33|              56|                 55|                 73|                         76|                       77|                      76|                14|                   8|                  8|                     10|                  14|                0|      15000000|      Pascal Struijk|  Defender|         Left-Back| 23|[0.49488243586834...|      4|[0.49488243586834...|\n",
      "|   474800|     76|      184|       77|       Argentina|          Left|        2|          2|Medium/Medium|  73|      33|     60|       69|       76|    76|                57|                 33|                        69|                     71|               29|             68|         37|               32|                59|                73|                   70|                   75|              62|                75|              66|              27|           71|           69|            78|              32|                  79|                     78|                   63|              57|                 44|                 73|                         77|                       77|                      75|                13|                   5|                 12|                     13|                  13|                0|      10000000|      Facundo Medina|  Defender|       Centre-Back| 24|[0.15851604843657...|      4|[0.15851604843657...|\n",
      "|   572326|     68|      191|       90|        Cameroon|         Right|        3|          2|  High/Medium|  70|      45|     55|       60|       66|    74|                53|                 42|                        72|                     63|               31|             60|         54|               29|                55|                63|                   61|                   78|              54|                63|              42|              60|           73|           66|            80|              39|                  70|                     64|                   52|              52|                 42|                 66|                         63|                       69|                      68|                 7|                   5|                  7|                      6|                  10|                0|       2000000|    Christopher Wooh|  Defender|       Centre-Back| 21|[1.29372132693881...|      4|[1.29372132693881...|\n",
      "+---------+-------+---------+---------+----------------+--------------+---------+-----------+-------------+----+--------+-------+---------+---------+------+------------------+-------------------+--------------------------+-----------------------+-----------------+---------------+-----------+-----------------+------------------+------------------+---------------------+---------------------+----------------+------------------+----------------+----------------+-------------+-------------+--------------+----------------+--------------------+-----------------------+---------------------+----------------+-------------------+-------------------+---------------------------+-------------------------+------------------------+------------------+--------------------+-------------------+-----------------------+--------------------+-----------------+--------------+--------------------+----------+------------------+---+--------------------+-------+--------------------+\n",
      "only showing top 100 rows\n",
      "\n"
     ]
    }
   ],
   "source": [
    "df_k_means2.show(100)"
   ]
  },
  {
   "attachments": {},
   "cell_type": "markdown",
   "metadata": {},
   "source": [
    "Drop weight_kg, nationality_name, work_rate pcaFeatures, features"
   ]
  },
  {
   "attachments": {},
   "cell_type": "markdown",
   "metadata": {},
   "source": [
    "Remove useful columns in df_k_means1 and df_k_means2"
   ]
  },
  {
   "cell_type": "code",
   "execution_count": 34,
   "metadata": {},
   "outputs": [],
   "source": [
    "# def funtion to remove columns in df_k_means1 and df_k_means2\n",
    "def remove_columns(df_k_means):\n",
    "    # drop pcaFeatures, features\n",
    "    df_k_means = df_k_means.drop(\"pcaFeatures\")\n",
    "    df_k_means = df_k_means.drop(\"features\")\n",
    "    df_k_means = df_k_means.drop(\"nationality_name\")\n",
    "    df_k_means = df_k_means.drop(\"work_rate\")\n",
    "    df_k_means = df_k_means.drop(\"weight_kg\")\n",
    "    return df_k_means"
   ]
  },
  {
   "cell_type": "code",
   "execution_count": 35,
   "metadata": {},
   "outputs": [],
   "source": [
    "df_k_means1 = remove_columns(df_k_means1)\n",
    "df_k_means2 = remove_columns(df_k_means2)"
   ]
  },
  {
   "attachments": {},
   "cell_type": "markdown",
   "metadata": {},
   "source": [
    "## **Football players cluster scouting**"
   ]
  },
  {
   "attachments": {},
   "cell_type": "markdown",
   "metadata": {},
   "source": [
    "The clustering algorithm used grouped similar players together. From now on we could think of using the obtained partition in various ways, in particolar, input a player_id and find a cluster made up of similar players with a lower average age"
   ]
  },
  {
   "attachments": {},
   "cell_type": "markdown",
   "metadata": {},
   "source": [
    "### **Implementation of the first of the two method to get the cluster for the input player**\n",
    "\n",
    "This method returns always one cluster. It does not allow the manipulation of the hyperparameters.\n",
    "The problem with this method is that it tends to look for a cluster containing players with similar stat values ​​to the input player. The method implemented subsequently is able to search for clusters that contain players with values ​​even lower than those of the player given in input."
   ]
  },
  {
   "attachments": {},
   "cell_type": "markdown",
   "metadata": {},
   "source": [
    "This function is used to create:\n",
    "- a dictionary with the stats of the input player (player_id)\n",
    "- a list of dictionary with the average stats of the clusters"
   ]
  },
  {
   "cell_type": "code",
   "execution_count": 36,
   "metadata": {},
   "outputs": [],
   "source": [
    "'''\n",
    "def search_cluster(df1, df2, player_id): #player_id is related to df1\n",
    "\n",
    "    # insert in a dictionaty all the values of player_id of df1 except player_id, name, age, cluster\n",
    "    player_id_dict = {}\n",
    "    for column in df1.columns:\n",
    "        if column not in [\"player_id\", \"name\", \"age\", \"cluster\"]:\n",
    "            values = df1.filter(col(\"player_id\") == player_id).select(col(column)).collect()\n",
    "            player_id_dict[column] = values[0][0] if len(values) > 0 else None\n",
    "    \n",
    "    clusters_value = []\n",
    "    no_cluster = df2.select(col(\"cluster\")).distinct().count()\n",
    "    for i in range(no_cluster):\n",
    "        # filter the rows where the column \"cluster\" is equal to i\n",
    "        df_filtered = df2.filter(col(\"cluster\") == i)\n",
    "        col_to_drop = [\"player_id\", \"name\", \"age\", \"cluster\"]\n",
    "        df_filtered = df_filtered.drop(*col_to_drop)\n",
    "        clus_values = {}\n",
    "\n",
    "        # Itera su ogni colonna nel DataFrame\n",
    "        for column in df_filtered.columns:\n",
    "            if column not in [\"player_id\", \"name\", \"age\", \"cluster\"]:\n",
    "                # check if the column is numeric or not\n",
    "                if df_filtered.schema[column].dataType in [IntegerType(), FloatType()]:\n",
    "                    # compute the mean of the column\n",
    "                    avg = df_filtered.select(mean(col(column))).collect()[0][0]\n",
    "                    clus_values[column] = avg\n",
    "                else:\n",
    "                    # Calcola il valore che appare maggiormente nella colonna non numerica\n",
    "                    max_value = df_filtered.groupBy(column).count().orderBy(desc(\"count\")).first()[column]\n",
    "                    clus_values[column] = max_value\n",
    "\n",
    "        clusters_value.append(clus_values)\n",
    "\n",
    "    return player_id_dict, clusters_value\n",
    "'''\n",
    "\n",
    "import pandas as pd\n",
    "from pyspark.sql.functions import col\n",
    "from pyspark.sql.types import IntegerType, FloatType\n",
    "\n",
    "def search_cluster(df1, df2, player_id):\n",
    "    # Converti i DataFrames di PySpark in DataFrames di Pandas per un'elaborazione più veloce\n",
    "    pdf1 = df1.filter(col(\"player_id\") == player_id).toPandas()\n",
    "    pdf2 = df2.toPandas()\n",
    "\n",
    "    # Estrai i dati per player_id da pdf1\n",
    "    player_id_dict = pdf1.drop(columns=[\"player_id\", \"name\", \"age\", \"cluster\"]).iloc[0].to_dict()\n",
    "\n",
    "    # Trova i cluster unici in pdf2\n",
    "    unique_clusters = pdf2[\"cluster\"].unique()\n",
    "    clusters_value = []\n",
    "\n",
    "    for cluster in unique_clusters:\n",
    "        # Filtra le righe in cui la colonna \"cluster\" è uguale al valore corrente del cluster\n",
    "        pdf_filtered = pdf2[pdf2[\"cluster\"] == cluster]\n",
    "        pdf_filtered = pdf_filtered.drop(columns=[\"player_id\", \"name\", \"age\", \"cluster\"])\n",
    "\n",
    "        # Calcola i valori medi per le colonne numeriche e la moda per le colonne non numeriche\n",
    "        clus_values = pdf_filtered.mean(numeric_only=True).to_dict()\n",
    "        non_numeric_columns = pdf_filtered.select_dtypes(exclude=[\"number\"]).columns\n",
    "\n",
    "        for column in non_numeric_columns:\n",
    "            clus_values[column] = pdf_filtered[column].mode()[0]\n",
    "\n",
    "        clusters_value.append(clus_values)\n",
    "\n",
    "    return player_id_dict, clusters_value"
   ]
  },
  {
   "attachments": {},
   "cell_type": "markdown",
   "metadata": {},
   "source": [
    "This function returns the index of the cluster with the most similar player"
   ]
  },
  {
   "cell_type": "code",
   "execution_count": 45,
   "metadata": {},
   "outputs": [],
   "source": [
    "import numpy as np\n",
    "from sklearn.metrics.pairwise import cosine_similarity\n",
    "from sklearn.preprocessing import OneHotEncoder\n",
    "\n",
    "def find_most_similar_index(d, dlist):\n",
    "    categorical_keys = [key for key, value in d.items() if isinstance(value, str)]\n",
    "    numeric_keys = [key for key in d if key not in categorical_keys]\n",
    "\n",
    "    # Converti gli attributi categorici in codifica one-hot\n",
    "    encoder = OneHotEncoder(sparse=False, handle_unknown=\"ignore\")\n",
    "    categorical_values = encoder.fit_transform([[d[key]] for key in categorical_keys])\n",
    "\n",
    "    # Costruisci i vettori includendo gli attributi numerici e la codifica one-hot\n",
    "    vectors = []\n",
    "    for d_dict in dlist:\n",
    "        numeric_values = [d_dict.get(key, 0.0) for key in numeric_keys]\n",
    "        cat_values = categorical_values.flatten().tolist()\n",
    "        vector = numeric_values + cat_values\n",
    "        vectors.append(vector)\n",
    "\n",
    "    vector = [d.get(key, 0.0) for key in numeric_keys] + categorical_values.flatten().tolist()\n",
    "\n",
    "    # Calcola la similarità del coseno tra i vettori\n",
    "    similarities = cosine_similarity(vectors, [vector])\n",
    "    most_similar_index = np.argmax(similarities)\n",
    "    return most_similar_index\n"
   ]
  },
  {
   "cell_type": "code",
   "execution_count": 46,
   "metadata": {},
   "outputs": [],
   "source": [
    "# PLAYER ID # insert the id of the player for whom we want to search for similar younger players\n",
    "player_id = 133964 #88755\n",
    "player_id_dict, clusters_value = search_cluster(df_k_means1, df_k_means2, player_id)"
   ]
  },
  {
   "attachments": {},
   "cell_type": "markdown",
   "metadata": {},
   "source": [
    "Create copies of the list and of the player dictionary, and remove the keys [\"overall\", \"weak_foot\", \"pace\", \"shooting\", \"dribbling\", \"defending\", \"physic\"] from the dictionary beacuse the search will be not based on these values"
   ]
  },
  {
   "cell_type": "code",
   "execution_count": 47,
   "metadata": {},
   "outputs": [],
   "source": [
    "import copy\n",
    "player_id_dict_copy = copy.deepcopy(player_id_dict)\n",
    "clusters_value_copy = copy.deepcopy(clusters_value)\n",
    "keys_to_remove = [\"overall\", \"weak_foot\", \"pace\", \"shooting\", \"dribbling\", \"defending\", \"physic\", \"last_valuation\"]\n",
    "\n",
    "for key in keys_to_remove:\n",
    "    del player_id_dict_copy[key]\n",
    "\n",
    "for i in range(len(clusters_value_copy)):\n",
    "    for key in keys_to_remove:\n",
    "        del clusters_value_copy[i][key]"
   ]
  },
  {
   "cell_type": "code",
   "execution_count": 57,
   "metadata": {},
   "outputs": [
    {
     "name": "stderr",
     "output_type": "stream",
     "text": [
      "c:\\Users\\marco\\AppData\\Local\\Programs\\Python\\Python310\\lib\\site-packages\\sklearn\\preprocessing\\_encoders.py:828: FutureWarning: `sparse` was renamed to `sparse_output` in version 1.2 and will be removed in 1.4. `sparse_output` is ignored unless you leave `sparse` to its default value.\n",
      "  warnings.warn(\n"
     ]
    }
   ],
   "source": [
    "if df_k_means2.filter(col(\"cluster\") == 0).count() > 0:\n",
    "    cluster_index = find_most_similar_index(player_id_dict_copy, clusters_value_copy)\n",
    "else:\n",
    "    cluster_index = find_most_similar_index(player_id_dict_copy, clusters_value_copy) + 1"
   ]
  },
  {
   "cell_type": "code",
   "execution_count": 52,
   "metadata": {},
   "outputs": [
    {
     "data": {
      "text/plain": [
       "35"
      ]
     },
     "execution_count": 52,
     "metadata": {},
     "output_type": "execute_result"
    }
   ],
   "source": [
    "cluster_index"
   ]
  },
  {
   "attachments": {},
   "cell_type": "markdown",
   "metadata": {},
   "source": [
    "Show the cluster (cluster_index)"
   ]
  },
  {
   "cell_type": "code",
   "execution_count": 58,
   "metadata": {},
   "outputs": [
    {
     "name": "stdout",
     "output_type": "stream",
     "text": [
      "+---------+-------+---------+--------------+---------+-----------+----+--------+-------+---------+---------+------+------------------+-------------------+--------------------------+-----------------------+-----------------+---------------+-----------+-----------------+------------------+------------------+---------------------+---------------------+----------------+------------------+----------------+----------------+-------------+-------------+--------------+----------------+--------------------+-----------------------+---------------------+----------------+-------------------+-------------------+---------------------------+-------------------------+------------------------+------------------+--------------------+-------------------+-----------------------+--------------------+-----------------+--------------+-------------------+--------+------------------+---+-------+\n",
      "|player_id|overall|height_cm|preferred_foot|weak_foot|skill_moves|pace|shooting|passing|dribbling|defending|physic|attacking_crossing|attacking_finishing|attacking_heading_accuracy|attacking_short_passing|attacking_volleys|skill_dribbling|skill_curve|skill_fk_accuracy|skill_long_passing|skill_ball_control|movement_acceleration|movement_sprint_speed|movement_agility|movement_reactions|movement_balance|power_shot_power|power_jumping|power_stamina|power_strength|power_long_shots|mentality_aggression|mentality_interceptions|mentality_positioning|mentality_vision|mentality_penalties|mentality_composure|defending_marking_awareness|defending_standing_tackle|defending_sliding_tackle|goalkeeping_diving|goalkeeping_handling|goalkeeping_kicking|goalkeeping_positioning|goalkeeping_reflexes|goalkeeping_speed|last_valuation|               name|position|      sub_position|age|cluster|\n",
      "+---------+-------+---------+--------------+---------+-----------+----+--------+-------+---------+---------+------+------------------+-------------------+--------------------------+-----------------------+-----------------+---------------+-----------+-----------------+------------------+------------------+---------------------+---------------------+----------------+------------------+----------------+----------------+-------------+-------------+--------------+----------------+--------------------+-----------------------+---------------------+----------------+-------------------+-------------------+---------------------------+-------------------------+------------------------+------------------+--------------------+-------------------+-----------------------+--------------------+-----------------+--------------+-------------------+--------+------------------+---+-------+\n",
      "|   381963|     72|      172|         Right|        3|          4|  79|      63|     69|       77|       29|    50|                70|                 62|                        29|                     72|               61|             78|         68|               58|                58|                74|                   84|                   75|              88|                70|              75|              65|           49|           64|            46|              63|                  42|                     35|                   66|              75|                 72|                 72|                         31|                       25|                      27|                14|                   9|                 12|                     11|                  12|                0|       3500000|        Mike Trésor|  Attack|Attacking Midfield| 24|     35|\n",
      "|   320748|     74|      174|          Left|        3|          3|  83|      66|     74|       76|       38|    49|                78|                 66|                        58|                     74|               47|             75|         80|               69|                68|                76|                   85|                   82|              85|                72|              82|              67|           52|           70|            32|              71|                  62|                     23|                   72|              74|                 54|                 73|                         36|                       44|                      32|                 9|                  10|                 10|                     14|                  14|                0|      13000000|Sebastian Szymanski|  Attack|Attacking Midfield| 24|     35|\n",
      "|   607223|     73|      176|          Left|        5|          5|  70|      67|     68|       82|       21|    59|                70|                 64|                        28|                     69|               57|             86|         77|               73|                59|                79|                   73|                   68|              82|                69|              83|              76|           31|           53|            65|              66|                  57|                     22|                   69|              68|                 61|                 75|                         19|                       23|                      15|                 7|                  14|                  6|                      8|                   8|                0|      20000000|       Rayan Cherki|  Attack|Attacking Midfield| 19|     35|\n",
      "|   314367|     78|      168|          Left|        3|          4|  85|      71|     70|       84|       33|    48|                69|                 70|                        37|                     73|               69|             84|         76|               60|                60|                81|                   88|                   82|              92|                78|              92|              70|           45|           71|            38|              75|                  43|                     30|                   74|              73|                 58|                 78|                         38|                       32|                      24|                 7|                  12|                 15|                     15|                   6|                0|      13000000|     Marcus Edwards|  Attack|      Right Winger| 24|     35|\n",
      "|   392770|     73|      168|         Right|        4|          4|  77|      70|     70|       77|       40|    52|                65|                 71|                        62|                     73|               65|             75|         69|               68|                72|                77|                   78|                   77|              86|                68|              89|              69|           51|           59|            49|              70|                  53|                     37|                   69|              71|                 66|                 73|                         36|                       41|                      35|                14|                  15|                 14|                      6|                  14|                0|       6000000|        Angel Gomes|  Attack|Attacking Midfield| 22|     35|\n",
      "|   394346|     72|      175|         Right|        4|          4|  72|      61|     72|       76|       39|    47|                65|                 61|                        51|                     76|               59|             77|         69|               61|                73|                76|                   77|                   68|              78|                67|              75|              61|           53|           63|            42|              63|                  39|                     30|                   63|              73|                 55|                 66|                         43|                       37|                      35|                 9|                  12|                 15|                     14|                   6|                0|       6000000|    Emanuel Vignato|  Attack|      Right Winger| 22|     35|\n",
      "|   396638|     76|      170|         Right|        4|          4|  80|      71|     74|       79|       43|    57|                72|                 72|                        38|                     78|               46|             83|         75|               72|                71|                74|                   82|                   79|              84|                66|              82|              75|           55|           66|            64|              71|                  30|                     35|                   74|              73|                 58|                 78|                         50|                       47|                      35|                12|                  11|                  9|                     13|                  10|                0|      18000000|      Manor Solomon|  Attack|       Left Winger| 23|     35|\n",
      "|   314678|     78|      171|         Right|        5|          4|  78|      69|     76|       82|       30|    50|                66|                 69|                        30|                     83|               55|             82|         74|               61|                74|                83|                   81|                   75|              89|                72|              91|              70|           66|           65|            44|              71|                  41|                     30|                   73|              78|                 58|                 72|                         40|                       23|                      21|                13|                   9|                 13|                     10|                   6|                0|      22000000|        Brahim Díaz|  Attack|Attacking Midfield| 23|     35|\n",
      "|   579930|     74|      177|         Right|        3|          4|  77|      73|     71|       77|       35|    44|                75|                 69|                        45|                     70|               75|             79|         81|               83|                62|                76|                   76|                   77|              72|                66|              88|              81|           55|           61|            33|              80|                  47|                     27|                   72|              71|                 56|                 69|                         28|                       40|                      43|                13|                  13|                  8|                     14|                  15|                0|       8000000|   Armand Laurienté|  Attack|       Left Winger| 24|     35|\n",
      "|   372711|     75|      180|         Right|        3|          5|  74|      62|     71|       79|       39|    49|                65|                 64|                        44|                     75|               63|             82|         67|               54|                71|                78|                   77|                   71|              84|                74|              73|              54|           43|           70|            40|              60|                  46|                     29|                   69|              73|                 68|                 64|                         44|                       44|                      27|                15|                  13|                 10|                     13|                   6|                0|       9000000|        Amine Harit|  Attack|Attacking Midfield| 25|     35|\n",
      "|   405398|     74|      173|          Left|        4|          4|  79|      65|     69|       80|       39|    53|                63|                 69|                        39|                     74|               57|             81|         68|               72|                60|                79|                   88|                   72|              86|                65|              83|              65|           52|           75|            46|              59|                  43|                     29|                   68|              72|                 61|                 70|                         40|                       43|                      48|                 6|                   7|                 15|                     10|                  10|                0|       9000000|      Takefusa Kubo|  Attack|      Right Winger| 21|     35|\n",
      "|   271495|     75|      168|          Left|        3|          4|  83|      66|     73|       81|       52|    56|                68|                 65|                        50|                     76|               67|             82|         78|               69|                70|                77|                   85|                   82|              92|                71|              92|              70|           53|           75|            48|              68|                  52|                     54|                   70|              74|                 55|                 68|                         56|                       51|                      44|                11|                  12|                 13|                     11|                  10|                0|       9500000|    Abdülkadir Ömür|  Attack|Attacking Midfield| 23|     35|\n",
      "|   502302|     73|      172|         Right|        3|          4|  71|      67|     72|       79|       44|    47|                68|                 67|                        39|                     77|               62|             79|         75|               68|                70|                77|                   73|                   69|              89|                66|              86|              67|           71|           64|            38|              72|                  43|                     47|                   63|              70|                 63|                 71|                         41|                       48|                      35|                15|                   6|                 12|                     10|                   7|                0|      11000000|   Yari Verschaeren|  Attack|Attacking Midfield| 21|     35|\n",
      "|   570421|     73|      173|         Right|        3|          4|  80|      66|     71|       76|       42|    56|                67|                 67|                        54|                     73|               63|             76|         70|               66|                65|                75|                   81|                   80|              85|                68|              84|              65|           59|           58|            52|              64|                  63|                     40|                   68|              76|                 65|                 72|                         42|                       40|                      38|                11|                   8|                 10|                     12|                  11|                0|       5000000|       Nico Melamed|  Attack|       Left Winger| 22|     35|\n",
      "|   317454|     76|      170|         Right|        3|          4|  84|      72|     71|       77|       33|    54|                73|                 72|                        44|                     74|               73|             75|         76|               55|                58|                77|                   86|                   82|              89|                69|              84|              73|           60|           77|            48|              71|                  41|                     26|                   76|              74|                 60|                 72|                         42|                       25|                      28|                11|                  14|                 15|                     14|                  13|                0|      12500000|        Diego Rossi|  Attack|       Left Winger| 25|     35|\n",
      "|   371174|     74|      168|          Left|        3|          4|  76|      64|     70|       80|       49|    50|                72|                 64|                        48|                     75|               64|             81|         67|               50|                64|                77|                   83|                   71|              89|                67|              91|              61|           58|           56|            42|              65|                  61|                     39|                   71|              67|                 66|                 74|                         50|                       54|                      51|                14|                  13|                 14|                      7|                   9|                0|       3500000|       Diego Lainez|  Attack|      Right Winger| 22|     35|\n",
      "|   358504|     77|      172|          Left|        3|          4|  79|      71|     73|       81|       40|    59|                72|                 70|                        45|                     75|               59|             80|         74|               67|                69|                80|                   81|                   78|              86|                75|              93|              76|           34|           78|            59|              75|                  41|                     44|                   72|              77|                 58|                 74|                         39|                       36|                      42|                 8|                   5|                  6|                     13|                  14|                0|       6500000|         Ritsu Doan|  Attack|      Right Winger| 24|     35|\n",
      "|   341647|     79|      173|          Left|        4|          4|  78|      77|     75|       80|       38|    52|                81|                 77|                        63|                     74|               70|             80|         83|               68|                65|                82|                   82|                   75|              82|                78|              80|              78|           42|           72|            49|              80|                  37|                     29|                   75|              76|                 73|                 68|                         43|                       33|                      30|                 9|                  13|                  7|                      9|                   8|                0|      18000000|       Cengiz Ünder|  Attack|      Right Winger| 25|     35|\n",
      "|   382528|     75|      173|         Right|        2|          4|  84|      70|     67|       77|       37|    56|                63|                 72|                        52|                     70|               55|             79|         73|               72|                57|                75|                   89|                   80|              88|                73|              70|              69|           45|           75|            51|              73|                  46|                     24|                   74|              71|                 62|                 68|                         33|                       43|                      41|                11|                   7|                 12|                      9|                   8|                0|      15000000|   Kerem Aktürkoglu|  Attack|       Left Winger| 24|     35|\n",
      "|   568157|     79|      172|         Right|        4|          3|  77|      73|     76|       79|       38|    45|                77|                 79|                        46|                     78|               67|             81|         73|               60|                74|                80|                   78|                   77|              80|                74|              79|              68|           34|           70|            33|              69|                  48|                     29|                   79|              76|                 54|                 60|                         31|                       48|                      41|                 9|                   7|                 14|                      6|                   9|                0|      40000000|        Yéremy Pino|  Attack|      Right Winger| 20|     35|\n",
      "|   565822|     73|      170|          Left|        4|          4|  78|      62|     71|       78|       37|    42|                72|                 64|                        40|                     73|               48|             77|         56|               57|                68|                77|                   82|                   75|              87|                69|              87|              60|           40|           68|            33|              62|                  32|                     38|                   67|              76|                 59|                 70|                         35|                       40|                      32|                10|                  10|                  6|                     14|                   7|                0|      22000000|     Harvey Elliott|  Attack|Attacking Midfield| 20|     35|\n",
      "|   332341|     74|      177|         Right|        3|          4|  73|      67|     71|       76|       42|    51|                67|                 69|                        43|                     74|               62|             76|         70|               64|                67|                77|                   74|                   72|              80|                72|              74|              65|           46|           66|            45|              67|                  48|                     38|                   72|              75|                 58|                 74|                         47|                       44|                      30|                10|                   8|                 14|                     15|                  16|                0|      20000000|      Todd Cantwell|Midfield|     Left Midfield| 25|     35|\n",
      "+---------+-------+---------+--------------+---------+-----------+----+--------+-------+---------+---------+------+------------------+-------------------+--------------------------+-----------------------+-----------------+---------------+-----------+-----------------+------------------+------------------+---------------------+---------------------+----------------+------------------+----------------+----------------+-------------+-------------+--------------+----------------+--------------------+-----------------------+---------------------+----------------+-------------------+-------------------+---------------------------+-------------------------+------------------------+------------------+--------------------+-------------------+-----------------------+--------------------+-----------------+--------------+-------------------+--------+------------------+---+-------+\n",
      "\n"
     ]
    }
   ],
   "source": [
    "df_k_means2.filter(col(\"cluster\") == int(cluster_index)).show(100)"
   ]
  },
  {
   "cell_type": "code",
   "execution_count": null,
   "metadata": {},
   "outputs": [
    {
     "name": "stdout",
     "output_type": "stream",
     "text": [
      "+---------+-------+---------+--------------+---------+-----------+----+--------+-------+---------+---------+------+------------------+-------------------+--------------------------+-----------------------+-----------------+---------------+-----------+-----------------+------------------+------------------+---------------------+---------------------+----------------+------------------+----------------+----------------+-------------+-------------+--------------+----------------+--------------------+-----------------------+---------------------+----------------+-------------------+-------------------+---------------------------+-------------------------+------------------------+------------------+--------------------+-------------------+-----------------------+--------------------+-----------------+--------------+---------------+--------+------------+---+-------+\n",
      "|player_id|overall|height_cm|preferred_foot|weak_foot|skill_moves|pace|shooting|passing|dribbling|defending|physic|attacking_crossing|attacking_finishing|attacking_heading_accuracy|attacking_short_passing|attacking_volleys|skill_dribbling|skill_curve|skill_fk_accuracy|skill_long_passing|skill_ball_control|movement_acceleration|movement_sprint_speed|movement_agility|movement_reactions|movement_balance|power_shot_power|power_jumping|power_stamina|power_strength|power_long_shots|mentality_aggression|mentality_interceptions|mentality_positioning|mentality_vision|mentality_penalties|mentality_composure|defending_marking_awareness|defending_standing_tackle|defending_sliding_tackle|goalkeeping_diving|goalkeeping_handling|goalkeeping_kicking|goalkeeping_positioning|goalkeeping_reflexes|goalkeeping_speed|last_valuation|           name|position|sub_position|age|cluster|\n",
      "+---------+-------+---------+--------------+---------+-----------+----+--------+-------+---------+---------+------+------------------+-------------------+--------------------------+-----------------------+-----------------+---------------+-----------+-----------------+------------------+------------------+---------------------+---------------------+----------------+------------------+----------------+----------------+-------------+-------------+--------------+----------------+--------------------+-----------------------+---------------------+----------------+-------------------+-------------------+---------------------------+-------------------------+------------------------+------------------+--------------------+-------------------+-----------------------+--------------------+-----------------+--------------+---------------+--------+------------+---+-------+\n",
      "|   133964|     84|      163|         Right|        4|          4|  84|      78|     84|       89|       36|    45|                76|                 76|                        59|                     84|               76|             90|         89|               86|                86|                90|                   87|                   81|              90|                77|              94|              76|           48|           74|            35|              81|                  34|                     26|                   80|              87|                 87|                 81|                         53|                       24|                      22|                 8|                   4|                 14|                      9|                  10|                0|      25000000|Lorenzo Insigne|  Attack| Left Winger| 31|     33|\n",
      "+---------+-------+---------+--------------+---------+-----------+----+--------+-------+---------+---------+------+------------------+-------------------+--------------------------+-----------------------+-----------------+---------------+-----------+-----------------+------------------+------------------+---------------------+---------------------+----------------+------------------+----------------+----------------+-------------+-------------+--------------+----------------+--------------------+-----------------------+---------------------+----------------+-------------------+-------------------+---------------------------+-------------------------+------------------------+------------------+--------------------+-------------------+-----------------------+--------------------+-----------------+--------------+---------------+--------+------------+---+-------+\n",
      "\n"
     ]
    }
   ],
   "source": [
    "# show if player_id = player_id in df_k_means1\n",
    "df_k_means1.filter(col(\"player_id\") == player_id).show()"
   ]
  },
  {
   "attachments": {},
   "cell_type": "markdown",
   "metadata": {},
   "source": [
    "### **Implementation of a more precise method to get the clusters for the input player**\n",
    "\n",
    "This method returns a list of similar cluster. It can return an empty list. It allows the manipulation of the hyperparameters"
   ]
  },
  {
   "cell_type": "code",
   "execution_count": null,
   "metadata": {},
   "outputs": [],
   "source": [
    "key_list = []\n",
    "for k,v in player_id_dict.items():\n",
    "    key_list.append(k)"
   ]
  },
  {
   "cell_type": "code",
   "execution_count": null,
   "metadata": {},
   "outputs": [],
   "source": [
    "# remove: overall, height_cm, skill_moves, pace, shooting, dribbling, defending, physic from key_list\n",
    "key_list = list(set(key_list) - set([\"overall\", \"weak_foot\", \"pace\", \"shooting\", \"dribbling\", \"defending\", \"physic\"]))"
   ]
  },
  {
   "attachments": {},
   "cell_type": "markdown",
   "metadata": {},
   "source": [
    "Remove the keys [\"overall\", \"weak_foot\", \"pace\", \"shooting\", \"dribbling\", \"defending\", \"physic\"] from the dictionary beacuse the search will be not based on these values"
   ]
  },
  {
   "cell_type": "code",
   "execution_count": null,
   "metadata": {},
   "outputs": [],
   "source": [
    "import copy\n",
    "player_id_dict_c = player_id_dict.copy()\n",
    "clusters_value_c = copy.deepcopy(clusters_value)\n",
    "keys_to_remove = [\"overall\", \"weak_foot\", \"pace\", \"shooting\", \"dribbling\", \"defending\", \"physic\"]\n",
    "\n",
    "for key in keys_to_remove:\n",
    "    del player_id_dict_c[key]\n",
    "\n",
    "for i in range(len(clusters_value_c)):\n",
    "    for key in keys_to_remove:\n",
    "        del clusters_value_c[i][key]"
   ]
  },
  {
   "attachments": {},
   "cell_type": "markdown",
   "metadata": {},
   "source": [
    "Function to get the list of the clusters with players similar to one given in input.\n",
    "\n",
    "1. For each cluster in the list of clusters:\n",
    "    - Check if the cluster has the same position, sub position, and preferred foot as the player.\n",
    "    - Check if the cluster has a height that does not differ by more than 10 cm from the player.\n",
    "    - Check if the cluster has a last valuation that does not differ by more than 50% of m_value (input parameter).\n",
    "    - Check if the cluster has a skill moves that does not differ by more than 2 points from the player.\n",
    "\n",
    "\n",
    "2. Sort the keys of the player in descending order by values.\n",
    "\n",
    "3. For each cluster in the list of clusters:\n",
    "    - Sort the keys of the cluster in descending order by values.\n",
    "\n",
    "\n",
    "4. Return the clusters that have the same first x values as those of the player.\n"
   ]
  },
  {
   "cell_type": "code",
   "execution_count": null,
   "metadata": {},
   "outputs": [],
   "source": [
    "import math\n",
    "\n",
    "min_value = 5000000 # the average market value of the cluster(s) that will give in output will be between m_value*0.5 and m_value*1.5\n",
    "max_value = 50000000\n",
    "\n",
    "def get_clus(player_dict, clusters_list): # return the list of the clusters for the player of player_dict\n",
    "    player_dict_c = copy.deepcopy(player_dict)\n",
    "    clusters_list_c = copy.deepcopy(clusters_list)\n",
    "\n",
    "    clus_list_first = [] # dictionary that have passed the first filter\n",
    "\n",
    "    # first filter\n",
    "    for i in range(len(clusters_list_c)):\n",
    "        if clusters_list_c[i][\"position\"] == player_dict_c[\"position\"] and clusters_list_c[i][\"sub_position\"] == player_dict_c[\"sub_position\"] and clusters_list_c[i][\"preferred_foot\"] == player_dict_c[\"preferred_foot\"]:\n",
    "            height_diff = int(clusters_list_c[i][\"height_cm\"]) - int(player_dict_c[\"height_cm\"])\n",
    "            skills_diff = int(clusters_list_c[i][\"skill_moves\"]) - int(player_dict_c[\"skill_moves\"])\n",
    "            if math.sqrt(height_diff**2) < 20 and math.sqrt(skills_diff**2) <= 2 and int(clusters_list_c[i][\"last_valuation\"]) <= max_value and int(clusters_list_c[i][\"last_valuation\"]) >= min_value:\n",
    "                clus_list_first.append((i,clusters_list_c[i]))\n",
    "                print(i)\n",
    "\n",
    "    # delete from clus_list_first and player_dict_c keys height_cm, skill_moves, last_valuation, position, sub_position, preferred_foot\n",
    "\n",
    "    keys_todelete = [\"height_cm\", \"skill_moves\", \"last_valuation\", \"position\", \"sub_position\", \"preferred_foot\"]\n",
    "\n",
    "    for clus in clus_list_first:\n",
    "        for key in keys_todelete:\n",
    "            del clus[1][key]\n",
    "    #print(clus_list_first)\n",
    "\n",
    "    # delete from player_dict_c keys height_cm, skill_moves, last_valuation, position, sub_position, preferred_foot\n",
    "    for key in keys_todelete:\n",
    "        del player_dict_c[key]\n",
    "\n",
    "    # sort the player_dict_c keys based on the values\n",
    "    sorted_keys_player_id = sorted(player_dict_c, key=player_dict_c.get, reverse=True)\n",
    "    #print(sorted_keys_player_id)\n",
    "\n",
    "    # sort the clusters based on the values\n",
    "    sorted_keys_clusters = []\n",
    "    for clus in clus_list_first:\n",
    "        sorted_keys_clusters.append((clus[0], sorted(clus[1], key=clus[1].get, reverse=True)))\n",
    "    #print(sorted_keys_clusters)\n",
    "\n",
    "    # filter the filtered clusters based on the remaining stats value\n",
    "    list_to_return = []\n",
    "    for clus in sorted_keys_clusters:\n",
    "        if len(list((set(sorted_keys_player_id[:10])) & (set(clus[1][:10])))) > 4:\n",
    "            list_to_return.append(clus[0])\n",
    "\n",
    "    return list_to_return"
   ]
  },
  {
   "cell_type": "code",
   "execution_count": null,
   "metadata": {},
   "outputs": [
    {
     "name": "stdout",
     "output_type": "stream",
     "text": [
      "15\n",
      "32\n",
      "[15, 32]\n"
     ]
    }
   ],
   "source": [
    "l = get_clus(player_id_dict_c, clusters_value_c)\n",
    "print(l)"
   ]
  },
  {
   "attachments": {},
   "cell_type": "markdown",
   "metadata": {},
   "source": [
    "Show the first cluster of the list. The list can be empty."
   ]
  },
  {
   "cell_type": "code",
   "execution_count": null,
   "metadata": {},
   "outputs": [
    {
     "name": "stdout",
     "output_type": "stream",
     "text": [
      "+---------+-------+---------+--------------+---------+-----------+----+--------+-------+---------+---------+------+------------------+-------------------+--------------------------+-----------------------+-----------------+---------------+-----------+-----------------+------------------+------------------+---------------------+---------------------+----------------+------------------+----------------+----------------+-------------+-------------+--------------+----------------+--------------------+-----------------------+---------------------+----------------+-------------------+-------------------+---------------------------+-------------------------+------------------------+------------------+--------------------+-------------------+-----------------------+--------------------+-----------------+--------------+----------------+--------+------------+---+-------+\n",
      "|player_id|overall|height_cm|preferred_foot|weak_foot|skill_moves|pace|shooting|passing|dribbling|defending|physic|attacking_crossing|attacking_finishing|attacking_heading_accuracy|attacking_short_passing|attacking_volleys|skill_dribbling|skill_curve|skill_fk_accuracy|skill_long_passing|skill_ball_control|movement_acceleration|movement_sprint_speed|movement_agility|movement_reactions|movement_balance|power_shot_power|power_jumping|power_stamina|power_strength|power_long_shots|mentality_aggression|mentality_interceptions|mentality_positioning|mentality_vision|mentality_penalties|mentality_composure|defending_marking_awareness|defending_standing_tackle|defending_sliding_tackle|goalkeeping_diving|goalkeeping_handling|goalkeeping_kicking|goalkeeping_positioning|goalkeeping_reflexes|goalkeeping_speed|last_valuation|            name|position|sub_position|age|cluster|\n",
      "+---------+-------+---------+--------------+---------+-----------+----+--------+-------+---------+---------+------+------------------+-------------------+--------------------------+-----------------------+-----------------+---------------+-----------+-----------------+------------------+------------------+---------------------+---------------------+----------------+------------------+----------------+----------------+-------------+-------------+--------------+----------------+--------------------+-----------------------+---------------------+----------------+-------------------+-------------------+---------------------------+-------------------------+------------------------+------------------+--------------------+-------------------+-----------------------+--------------------+-----------------+--------------+----------------+--------+------------+---+-------+\n",
      "|   340325|     73|      175|         Right|        3|          4|  86|      64|     68|       77|       36|    54|                67|                 68|                        39|                     72|               55|             78|         66|               67|                58|                77|                   87|                   86|              82|                65|              80|              67|           41|           70|            53|              54|                  42|                     42|                   69|              71|                 60|                 60|                         31|                       37|                      37|                12|                  12|                 11|                     11|                  15|                0|       5500000|    Reiss Nelson|  Attack|Right Winger| 23|     15|\n",
      "|   386455|     75|      180|         Right|        3|          4|  87|      64|     68|       78|       34|    52|                68|                 64|                        42|                     74|               56|             79|         60|               45|                62|                79|                   88|                   87|              77|                70|              75|              68|           45|           55|            52|              60|                  50|                     30|                   75|              70|                 69|                 68|                         32|                       35|                      39|                12|                  13|                  6|                      5|                  14|                0|       9000000| Riccardo Sottil|  Attack| Left Winger| 23|     15|\n",
      "|   724520|     70|      177|         Right|        3|          4|  80|      61|     59|       77|       27|    48|                59|                 62|                        34|                     61|               49|             80|         65|               40|                52|                76|                   82|                   79|              78|                66|              77|              65|           42|           44|            56|              59|                  34|                     18|                   64|              62|                 53|                 68|                         25|                       32|                      28|                 7|                   5|                  6|                     12|                   9|                0|       8000000| Abde Ezzalzouli|  Attack| Left Winger| 21|     15|\n",
      "|   406042|     73|      185|         Right|        2|          4|  87|      60|     69|       74|       32|    61|                74|                 60|                        40|                     70|               60|             76|         69|               50|                64|                72|                   84|                   90|              81|                70|              70|              68|           32|           73|            64|              54|                  48|                     32|                   72|              70|                 46|                 68|                         27|                       35|                      33|                 8|                   7|                 12|                     13|                   6|                0|       1500000|  Dennis Johnsen|  Attack| Left Winger| 25|     15|\n",
      "|   315125|     72|      174|          Left|        2|          4|  86|      63|     64|       78|       43|    53|                68|                 67|                        32|                     69|               60|             81|         64|               49|                57|                75|                   90|                   82|              88|                65|              79|              72|           38|           66|            56|              48|                  34|                     42|                   66|              59|                 55|                 68|                         50|                       44|                      27|                 8|                  15|                 11|                      7|                  11|                0|       6000000|Javairô Dilrosun|  Attack| Left Winger| 24|     15|\n",
      "|   436585|     68|      188|         Right|        3|          4|  79|      63|     56|       74|       36|    68|                58|                 67|                        60|                     63|               44|             79|         52|               53|                46|                71|                   79|                   79|              76|                63|              67|              71|           33|           67|            74|              55|                  65|                     34|                   63|              52|                 51|                 63|                         35|                       32|                      28|                14|                  11|                  8|                     10|                  13|                0|        750000| Delano Burgzorg|  Attack| Left Winger| 24|     15|\n",
      "+---------+-------+---------+--------------+---------+-----------+----+--------+-------+---------+---------+------+------------------+-------------------+--------------------------+-----------------------+-----------------+---------------+-----------+-----------------+------------------+------------------+---------------------+---------------------+----------------+------------------+----------------+----------------+-------------+-------------+--------------+----------------+--------------------+-----------------------+---------------------+----------------+-------------------+-------------------+---------------------------+-------------------------+------------------------+------------------+--------------------+-------------------+-----------------------+--------------------+-----------------+--------------+----------------+--------+------------+---+-------+\n",
      "\n"
     ]
    }
   ],
   "source": [
    "df_k_means2.filter(col(\"cluster\") == l[0]).show(100)"
   ]
  }
 ],
 "metadata": {
  "kernelspec": {
   "display_name": "Python 3",
   "language": "python",
   "name": "python3"
  },
  "language_info": {
   "codemirror_mode": {
    "name": "ipython",
    "version": 3
   },
   "file_extension": ".py",
   "mimetype": "text/x-python",
   "name": "python",
   "nbconvert_exporter": "python",
   "pygments_lexer": "ipython3",
   "version": "3.10.9"
  },
  "orig_nbformat": 4
 },
 "nbformat": 4,
 "nbformat_minor": 2
}
