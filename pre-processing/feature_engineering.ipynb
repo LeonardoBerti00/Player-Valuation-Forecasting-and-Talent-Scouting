{
 "cells": [
  {
   "attachments": {},
   "cell_type": "markdown",
   "metadata": {},
   "source": [
    "# Feature Extraction\n",
    "**In this file, we will analyze the initial dataset consisting of CSV files in order to extract the relevant informations and structured them to address the valuation prediction task**"
   ]
  },
  {
   "attachments": {},
   "cell_type": "markdown",
   "metadata": {},
   "source": [
    "Imported libraries"
   ]
  },
  {
   "cell_type": "code",
   "execution_count": 1,
   "metadata": {
    "ExecuteTime": {
     "end_time": "2023-05-23T16:02:03.228408500Z",
     "start_time": "2023-05-23T16:02:03.103196900Z"
    }
   },
   "outputs": [],
   "source": [
    "import pyspark\n",
    "from pyspark.sql import *\n",
    "from pyspark.sql.types import *\n",
    "from pyspark.sql.functions import *\n",
    "from pyspark.sql import SparkSession\n",
    "from pyspark.conf import SparkConf"
   ]
  },
  {
   "attachments": {},
   "cell_type": "markdown",
   "metadata": {},
   "source": [
    "Creating the pyspark session"
   ]
  },
  {
   "cell_type": "code",
   "execution_count": 2,
   "metadata": {
    "ExecuteTime": {
     "end_time": "2023-05-23T16:02:05.718550700Z",
     "start_time": "2023-05-23T16:02:03.228408500Z"
    }
   },
   "outputs": [
    {
     "data": {
      "text/plain": [
       "[('spark.executor.memory', '15G'),\n",
       " ('spark.driver.host', 'laptop-jllvbepm.tailaca27.ts.net.'),\n",
       " ('spark.executor.id', 'driver'),\n",
       " ('spark.driver.memory', '50G'),\n",
       " ('spark.app.startTime', '1686341582676'),\n",
       " ('spark.executor.cores', '10'),\n",
       " ('spark.app.name', 'PySparkProject'),\n",
       " ('spark.driver.extraJavaOptions',\n",
       "  '-Djava.net.preferIPv6Addresses=false -XX:+IgnoreUnrecognizedVMOptions --add-opens=java.base/java.lang=ALL-UNNAMED --add-opens=java.base/java.lang.invoke=ALL-UNNAMED --add-opens=java.base/java.lang.reflect=ALL-UNNAMED --add-opens=java.base/java.io=ALL-UNNAMED --add-opens=java.base/java.net=ALL-UNNAMED --add-opens=java.base/java.nio=ALL-UNNAMED --add-opens=java.base/java.util=ALL-UNNAMED --add-opens=java.base/java.util.concurrent=ALL-UNNAMED --add-opens=java.base/java.util.concurrent.atomic=ALL-UNNAMED --add-opens=java.base/sun.nio.ch=ALL-UNNAMED --add-opens=java.base/sun.nio.cs=ALL-UNNAMED --add-opens=java.base/sun.security.action=ALL-UNNAMED --add-opens=java.base/sun.util.calendar=ALL-UNNAMED --add-opens=java.security.jgss/sun.security.krb5=ALL-UNNAMED -Djdk.reflect.useDirectMethodHandle=false'),\n",
       " ('spark.ui.port', '4050'),\n",
       " ('spark.app.submitTime', '1686341582357'),\n",
       " ('spark.driver.maxResultSize', '40G'),\n",
       " ('spark.rdd.compress', 'True'),\n",
       " ('spark.serializer.objectStreamReset', '100'),\n",
       " ('spark.master', 'local[*]'),\n",
       " ('spark.submit.pyFiles', ''),\n",
       " ('spark.submit.deployMode', 'client'),\n",
       " ('spark.app.id', 'local-1686341584324'),\n",
       " ('spark.driver.port', '51287'),\n",
       " ('spark.ui.showConsoleProgress', 'true'),\n",
       " ('spark.executor.extraJavaOptions',\n",
       "  '-Djava.net.preferIPv6Addresses=false -XX:+IgnoreUnrecognizedVMOptions --add-opens=java.base/java.lang=ALL-UNNAMED --add-opens=java.base/java.lang.invoke=ALL-UNNAMED --add-opens=java.base/java.lang.reflect=ALL-UNNAMED --add-opens=java.base/java.io=ALL-UNNAMED --add-opens=java.base/java.net=ALL-UNNAMED --add-opens=java.base/java.nio=ALL-UNNAMED --add-opens=java.base/java.util=ALL-UNNAMED --add-opens=java.base/java.util.concurrent=ALL-UNNAMED --add-opens=java.base/java.util.concurrent.atomic=ALL-UNNAMED --add-opens=java.base/sun.nio.ch=ALL-UNNAMED --add-opens=java.base/sun.nio.cs=ALL-UNNAMED --add-opens=java.base/sun.security.action=ALL-UNNAMED --add-opens=java.base/sun.util.calendar=ALL-UNNAMED --add-opens=java.security.jgss/sun.security.krb5=ALL-UNNAMED -Djdk.reflect.useDirectMethodHandle=false')]"
      ]
     },
     "execution_count": 2,
     "metadata": {},
     "output_type": "execute_result"
    }
   ],
   "source": [
    "# Create the session\n",
    "conf = SparkConf(). \\\n",
    "    set('spark.ui.port', \"4050\"). \\\n",
    "    set('spark.executor.memory', '15G'). \\\n",
    "    set('spark.driver.memory', '50G'). \\\n",
    "    set('spark.driver.maxResultSize', '40G'). \\\n",
    "    setAppName(\"PySparkProject\"). \\\n",
    "    set('spark.executor.cores', \"10\"). \\\n",
    "    setMaster(\"local[*]\")\n",
    "\n",
    "sc = pyspark.SparkContext.getOrCreate(conf=conf)\n",
    "spark = SparkSession.builder.getOrCreate()\n",
    "\n",
    "sc._conf.getAll()"
   ]
  },
  {
   "attachments": {},
   "cell_type": "markdown",
   "metadata": {},
   "source": [
    "**Work on dataset begins**"
   ]
  },
  {
   "attachments": {},
   "cell_type": "markdown",
   "metadata": {},
   "source": [
    "Loading dataframes"
   ]
  },
  {
   "cell_type": "code",
   "execution_count": 3,
   "metadata": {
    "ExecuteTime": {
     "end_time": "2023-05-23T16:02:10.173469Z",
     "start_time": "2023-05-23T16:02:05.718550700Z"
    }
   },
   "outputs": [],
   "source": [
    "# load the cvs files into dataframes\n",
    "df_appearances = spark.read.csv(\"../archive/appearances.csv\", header=True, inferSchema=True)\n",
    "df_club_games = spark.read.csv(\"../archive/club_games.csv\", header=True, inferSchema=True)\n",
    "df_clubs = spark.read.csv(\"../archive/clubs.csv\", header=True, inferSchema=True)\n",
    "df_competitions = spark.read.csv(\"../archive/competitions.csv\", header=True, inferSchema=True)\n",
    "df_game_events = spark.read.csv(\"../archive/game_events.csv\", header=True, inferSchema=True)\n",
    "df_games = spark.read.csv(\"../archive/games.csv\", header=True, inferSchema=True)\n",
    "df_player_valuations = spark.read.csv(\"../archive/player_valuations.csv\", header=True, inferSchema=True)\n",
    "df_players = spark.read.csv(\"../archive/players.csv\", header=True, inferSchema=True)"
   ]
  },
  {
   "cell_type": "code",
   "execution_count": 4,
   "metadata": {
    "ExecuteTime": {
     "end_time": "2023-05-23T16:02:10.180784800Z",
     "start_time": "2023-05-23T16:02:10.175475700Z"
    }
   },
   "outputs": [],
   "source": [
    "# drop duplicates df_club_games\n",
    "df_club_games = df_club_games.dropDuplicates(['club_id', 'own_goals', 'own_position', 'own_manager_name', 'opponent_id', 'opponent_goals', 'opponent_position', 'opponent_manager_name', 'hosting', 'is_win'])"
   ]
  },
  {
   "cell_type": "code",
   "execution_count": 5,
   "metadata": {
    "ExecuteTime": {
     "end_time": "2023-05-23T16:02:10.185920100Z",
     "start_time": "2023-05-23T16:02:10.180784800Z"
    }
   },
   "outputs": [],
   "source": [
    "# drop duplicates df_games\n",
    "df_games = df_games.dropDuplicates(['home_club_id', 'away_club_id', 'date'])"
   ]
  },
  {
   "cell_type": "code",
   "execution_count": 6,
   "metadata": {
    "ExecuteTime": {
     "end_time": "2023-05-23T16:02:10.262629400Z",
     "start_time": "2023-05-23T16:02:10.187428Z"
    }
   },
   "outputs": [],
   "source": [
    "# delete from df_appareances the instances where player_club_id is not in the df_clubs dataframe (club ids)\n",
    "# beacuse in df_appereances there are some player_club_id that do not exist\n",
    "df_appearances = df_appearances.join(df_clubs, df_appearances.player_club_id == df_clubs.club_id, 'inner').select(df_appearances.columns)"
   ]
  },
  {
   "cell_type": "code",
   "execution_count": 7,
   "metadata": {
    "ExecuteTime": {
     "end_time": "2023-05-23T16:02:10.262629400Z",
     "start_time": "2023-05-23T16:02:10.231535500Z"
    }
   },
   "outputs": [],
   "source": [
    "# join players and appearances\n",
    "df_players_appearances = df_players.join(df_appearances, [\"player_id\"], how='inner')"
   ]
  },
  {
   "cell_type": "code",
   "execution_count": 8,
   "metadata": {
    "ExecuteTime": {
     "end_time": "2023-05-23T16:02:10.278125900Z",
     "start_time": "2023-05-23T16:02:10.252098100Z"
    }
   },
   "outputs": [],
   "source": [
    " # join players_appearances and club_games to extract information about the games played by the player\n",
    "#rinomina player_club_id in club_id\n",
    "df_players_appearances = df_players_appearances.withColumnRenamed(\"player_club_id\", \"club_id\")\n",
    "df_players_appearances = df_players_appearances.join(df_club_games, [\"game_id\", \"club_id\"], how='inner')"
   ]
  },
  {
   "cell_type": "code",
   "execution_count": 9,
   "metadata": {
    "ExecuteTime": {
     "end_time": "2023-05-23T16:02:10.348193500Z",
     "start_time": "2023-05-23T16:02:10.278125900Z"
    }
   },
   "outputs": [],
   "source": [
    "# drop useless and duplicated features from df_players_appearances\n",
    "df_players_appearances = df_players_appearances.drop(\"current_club_id\", \"appearance_id\",\n",
    "                                                        \"highest_market_value_in_eur\", \"current_club_name\",\n",
    "                                                        \"city_of_birth\", \"market_value_in_eur\",\n",
    "                                                        \"contract_expiration_date\", \"agent_name\",\n",
    "                                                        \"current_club_domestic_competition_id\", \"image_url\",\n",
    "                                                        \"last_season\", \"url\", \"player_current_club_id\",\n",
    "                                                        \"first_name\", \"last_name\", \"player_name\", \"player_code\")"
   ]
  },
  {
   "cell_type": "code",
   "execution_count": 10,
   "metadata": {
    "ExecuteTime": {
     "end_time": "2023-05-23T16:02:10.348193500Z",
     "start_time": "2023-05-23T16:02:10.301269900Z"
    }
   },
   "outputs": [],
   "source": [
    "# drop useless and duplicated features from df_players_valuations\n",
    "df_player_valuations = df_player_valuations.drop(\"datetime\", \"dateweek\")"
   ]
  },
  {
   "cell_type": "code",
   "execution_count": 11,
   "metadata": {
    "ExecuteTime": {
     "end_time": "2023-05-23T16:02:10.348193500Z",
     "start_time": "2023-05-23T16:02:10.301269900Z"
    }
   },
   "outputs": [],
   "source": [
    "# rename the column date of df_players_valuations in date_v to avoid confusion with the date of df_players_appearances\n",
    "df_player_valuations = df_player_valuations.withColumnRenamed(\"date\", \"date_v\")"
   ]
  },
  {
   "cell_type": "code",
   "execution_count": 12,
   "metadata": {
    "ExecuteTime": {
     "end_time": "2023-05-23T16:02:10.348193500Z",
     "start_time": "2023-05-23T16:02:10.308589100Z"
    }
   },
   "outputs": [],
   "source": [
    "# Join the two dataframes on player_id\n",
    "df = df_player_valuations.join(df_players_appearances, \"player_id\")"
   ]
  },
  {
   "cell_type": "code",
   "execution_count": 13,
   "metadata": {
    "ExecuteTime": {
     "end_time": "2023-05-23T16:02:10.361506700Z",
     "start_time": "2023-05-23T16:02:10.320110900Z"
    }
   },
   "outputs": [],
   "source": [
    "# we want to keep only the rows where the appearence date is within 1 year from the valuation date\n",
    "df = df.filter(\n",
    "    (year(df.date_v) == year(df.date) + 1) & (month(df.date_v) < month(df.date)) |\n",
    "    (year(df.date_v) == year(df.date)) & (month(df.date_v) > month(df.date)) |\n",
    "    (year(df.date_v) == year(df.date)) & (month(df.date_v) == month(df.date)) & (dayofmonth(df.date_v) > dayofmonth(df.date)) |\n",
    "    (year(df.date_v) == year(df.date) + 1) & (month(df.date_v) == month(df.date)) & (dayofmonth(df.date_v) < dayofmonth(df.date))\n",
    ").dropDuplicates([\"player_id\", \"date\", \"date_v\"])"
   ]
  },
  {
   "attachments": {},
   "cell_type": "markdown",
   "metadata": {},
   "source": [
    "We add the statistics of the teams in which the player played during the year and in which the player took the field (appearance): appearances, games won, games lost, games drae in which the player was present"
   ]
  },
  {
   "cell_type": "code",
   "execution_count": 14,
   "metadata": {
    "ExecuteTime": {
     "end_time": "2023-05-23T16:02:10.442510600Z",
     "start_time": "2023-05-23T16:02:10.361506700Z"
    }
   },
   "outputs": [],
   "source": [
    "# add the is_draw to count the draws\n",
    "df = df.withColumn(\"is_draw\", when(df.own_goals == df.opponent_goals, 1).otherwise(0))\n",
    "\n",
    "# add column games_played that counts the instances with key (player_id, date_v)\n",
    "df = df.withColumn(\"appearances\", count(df.date_v).over(Window.partitionBy(\"date_v\", \"player_id\")))\n",
    "\n",
    "# add column games_won that counts the instances with key (player_id, date_v) and is_win = 1\n",
    "df = df.withColumn(\"games_won_pl\",\n",
    "                                count(when(df.own_goals > df.opponent_goals, 1)).over(Window.partitionBy(\"date_v\", \"player_id\")))\n",
    "\n",
    "# add column games_draw_pl that counts the instances with key (player_id, date_v) and is_draw = 1\n",
    "df = df.withColumn(\"games_draw_pl\",\n",
    "                                count(when(df.is_draw == 1, 1)).over(Window.partitionBy(\"date_v\", \"player_id\")))\n",
    "\n",
    "df = df.withColumn(\"games_lost_pl\", count(when(df.own_goals < df.opponent_goals, 1)).over(Window.partitionBy(\"date_v\", \"player_id\")))"
   ]
  },
  {
   "attachments": {},
   "cell_type": "markdown",
   "metadata": {},
   "source": [
    "We add the feature winning rate of the player. The winning rate is calculated by the formula: (games_won_player*3 + games_draw_player) / games_played_player"
   ]
  },
  {
   "cell_type": "code",
   "execution_count": 15,
   "metadata": {
    "ExecuteTime": {
     "end_time": "2023-05-23T16:02:10.460085300Z",
     "start_time": "2023-05-23T16:02:10.442510600Z"
    }
   },
   "outputs": [],
   "source": [
    "# delete some columns\n",
    "df = df.drop(\"game_id\", \"own_goals\", \"own_position\", \"own_manager_name\", \"opponent_id\",\n",
    "                        \"opponent_goals\", \"opponent_position\", \"opponent_manager_name\", \"hosting\", \"is_win\",\n",
    "                        \"is_draw\")\n",
    "\n",
    "# for each (player_id, date_v) add a column with the result of (games_won_pl*3 + games_draw_pl)/games_played\n",
    "df = df.withColumn(\"winning_rate_pl\",\n",
    "                                    (df.games_won_pl * 3 + df.games_draw_pl) / df.appearances)"
   ]
  },
  {
   "cell_type": "code",
   "execution_count": 16,
   "metadata": {
    "ExecuteTime": {
     "end_time": "2023-05-23T16:02:10.505745100Z",
     "start_time": "2023-05-23T16:02:10.460085300Z"
    }
   },
   "outputs": [],
   "source": [
    "# Group by the player_id and the valuation date and extract all the important features\n",
    "df = df.groupBy(\n",
    "    \"player_id\", \"name\", col(\"market_value_in_eur\").alias(\"market_value\"), \"date_v\",\n",
    "    col(\"current_club_id\").alias(\"current_club_id\"), col(\"height_in_cm\").alias(\"height\"),\n",
    "    col(\"country_of_citizenship\").alias(\"citizenship\"), col(\"date_of_birth\").alias(\"date_birth\"), \"position\",\n",
    "    \"sub_position\", \"appearances\", \"games_won_pl\", \"games_draw_pl\", \"games_lost_pl\", \"winning_rate_pl\") \\\n",
    "    .agg(collect_set(\"competition_id\").alias(\"competition_id\"),\n",
    "            collect_set(\"club_id\").alias(\"club_id\"),\n",
    "            sum(\"assists\").alias(\"assists\"),\n",
    "            count(\"date_v\").alias(\"appearances2\"),\n",
    "            sum(\"goals\").alias(\"goals\"),\n",
    "            sum(\"minutes_played\").alias(\"minutes_played\"),\n",
    "            sum(\"red_cards\").alias(\"red_cards\"),\n",
    "            sum(\"yellow_cards\").alias(\"yellow_cards\"))"
   ]
  },
  {
   "cell_type": "code",
   "execution_count": 17,
   "metadata": {
    "ExecuteTime": {
     "end_time": "2023-05-23T16:02:10.520317200Z",
     "start_time": "2023-05-23T16:02:10.504450Z"
    }
   },
   "outputs": [],
   "source": [
    "# add last valuation in temporal terms\n",
    "df = df.withColumn(\"last_valuation\", lag(df.market_value).over(Window.partitionBy(\"player_id\").orderBy(\"date_v\")))"
   ]
  },
  {
   "attachments": {},
   "cell_type": "markdown",
   "metadata": {},
   "source": [
    "We add the statistics of the teams in which the player played during the year"
   ]
  },
  {
   "cell_type": "code",
   "execution_count": 18,
   "metadata": {
    "ExecuteTime": {
     "end_time": "2023-05-23T16:02:10.529222700Z",
     "start_time": "2023-05-23T16:02:10.520317200Z"
    }
   },
   "outputs": [],
   "source": [
    "# join club_games and games to extract the date from games\n",
    "df_club_games_join = df_club_games.join(df_games.select(\"game_id\", \"date\"), \"game_id\", how='inner')"
   ]
  },
  {
   "cell_type": "code",
   "execution_count": 19,
   "metadata": {
    "ExecuteTime": {
     "end_time": "2023-05-23T16:02:10.598118300Z",
     "start_time": "2023-05-23T16:02:10.529222700Z"
    }
   },
   "outputs": [],
   "source": [
    "# Expands the player_club_id list into separate columns\n",
    "df_result_expanded = df.withColumn(\"club_id\", explode(col(\"club_id\")))"
   ]
  },
  {
   "cell_type": "code",
   "execution_count": 20,
   "metadata": {
    "ExecuteTime": {
     "end_time": "2023-05-23T16:02:10.598118300Z",
     "start_time": "2023-05-23T16:02:10.543924900Z"
    }
   },
   "outputs": [],
   "source": [
    "# Peform join based on club_id and apply condition on date\n",
    "df = df_result_expanded.join(df_club_games_join, [\"club_id\"]) \\\n",
    "    .where(expr(\"date <= date_v AND date >= date_v - INTERVAL 1 YEAR\"))"
   ]
  },
  {
   "cell_type": "code",
   "execution_count": 21,
   "metadata": {
    "ExecuteTime": {
     "end_time": "2023-05-23T16:02:10.668501300Z",
     "start_time": "2023-05-23T16:02:10.595161100Z"
    }
   },
   "outputs": [],
   "source": [
    "# Select columns\n",
    "df = df.select(df.columns + df_club_games_join.columns)"
   ]
  },
  {
   "attachments": {},
   "cell_type": "markdown",
   "metadata": {},
   "source": [
    "We add the statistics of the teams in which the player played during the year and in which the player took the field (appearance): appearances, games won, games lost, games drae in which the player was present and also those in which he was not present"
   ]
  },
  {
   "cell_type": "code",
   "execution_count": 22,
   "metadata": {
    "ExecuteTime": {
     "end_time": "2023-05-23T16:02:10.699299400Z",
     "start_time": "2023-05-23T16:02:10.629398500Z"
    }
   },
   "outputs": [],
   "source": [
    "# add column draw that is equal to 1 if own_goals = opponent_goals\n",
    "df = df.withColumn(\"is_draw\", when(df.own_goals == df.opponent_goals, 1).otherwise(0))\n",
    "\n",
    "#add column games_played_club that counts the instances with key (player_id, date_v)\n",
    "df = df.withColumn(\"games_played_club\", count(df.date_v).over(Window.partitionBy(\"date_v\", \"player_id\")))\n",
    "\n",
    "# add column games_won_club that counts the instances with key (player_id, date_v) and is_win = 1\n",
    "df = df.withColumn(\"games_won_club\", count(when(df.own_goals > df.opponent_goals, 1)).over(Window.partitionBy(\"date_v\", \"player_id\")))\n",
    "\n",
    "# add column games_draw_club that counts the instances with key (player_id, date_v) and is_draw = 1\n",
    "df = df.withColumn(\"games_draw_club\", count(when(df.is_draw == 1, 1)).over(Window.partitionBy(\"date_v\", \"player_id\")))\n",
    "\n",
    "# add column games_lost_club that counts the instances with key (player_id, date_v) and is_win = 0 and is_draw = 0\n",
    "df = df.withColumn(\"games_lost_club\", count(when(df.own_goals < df.opponent_goals, 1)).over(Window.partitionBy(\"date_v\", \"player_id\")))"
   ]
  },
  {
   "cell_type": "code",
   "execution_count": 23,
   "metadata": {
    "ExecuteTime": {
     "end_time": "2023-05-23T16:02:10.759489700Z",
     "start_time": "2023-05-23T16:02:10.699299400Z"
    }
   },
   "outputs": [],
   "source": [
    "#delete some columns\n",
    "df = df.drop(\"game_id\", \"own_goals\",  \"own_position\", \"own_manager_name\", \"opponent_id\", \"opponent_goals\", \"opponent_position\", \"opponent_manager_name\", \"hosting\", \"is_win\", \"date\", \"is_draw\")"
   ]
  },
  {
   "cell_type": "code",
   "execution_count": 24,
   "metadata": {
    "ExecuteTime": {
     "end_time": "2023-05-23T16:02:10.759489700Z",
     "start_time": "2023-05-23T16:02:10.708339100Z"
    }
   },
   "outputs": [],
   "source": [
    "#df = df.dropDuplicates([\"player_id\", \"date_v\"])\n",
    "df = df.dropDuplicates()"
   ]
  },
  {
   "attachments": {},
   "cell_type": "markdown",
   "metadata": {},
   "source": [
    "We add the feature winning rate of the club. The winning rate is calculated by the formula: (games_won_club*3 + games_draw_club) / games_played_club"
   ]
  },
  {
   "cell_type": "code",
   "execution_count": 25,
   "metadata": {
    "ExecuteTime": {
     "end_time": "2023-05-23T16:02:10.759489700Z",
     "start_time": "2023-05-23T16:02:10.714221400Z"
    }
   },
   "outputs": [],
   "source": [
    "# for each (player_id, date_v) add a column with the result of (games_won_club*3 + games_draw_club)/games_played_club\n",
    "df = df.withColumn(\"winning_rate_club\", (df.games_won_club*3 + df.games_draw_club)/df.games_played_club)"
   ]
  },
  {
   "cell_type": "code",
   "execution_count": 26,
   "metadata": {
    "ExecuteTime": {
     "end_time": "2023-05-23T16:02:10.759489700Z",
     "start_time": "2023-05-23T16:02:10.728874800Z"
    }
   },
   "outputs": [],
   "source": [
    "#arrange columns, delete and rename some columns, aggregate club_id\n",
    "df = df.groupBy(\n",
    "    \"player_id\", \"date_v\", \"market_value\", \"name\", \"date_birth\", \"current_club_id\", \"height\", \"citizenship\", \"position\", \"sub_position\", col(\"competition_id\").alias(\"competitions_id\"),\n",
    "    \"assists\", \"goals\", \"minutes_played\", \"red_cards\", \"yellow_cards\", \"last_valuation\", \"appearances\", \"games_won_pl\", \"games_draw_pl\", \"games_lost_pl\", \"winning_rate_pl\",\n",
    "    \"games_played_club\", \"games_won_club\", \"games_draw_club\", \"games_lost_club\", \"winning_rate_club\") \\\n",
    "    .agg(collect_set(\"club_id\").alias(\"clubs_id\"))"
   ]
  },
  {
   "cell_type": "code",
   "execution_count": 27,
   "metadata": {
    "ExecuteTime": {
     "end_time": "2023-05-23T16:02:10.778426600Z",
     "start_time": "2023-05-23T16:02:10.758566800Z"
    }
   },
   "outputs": [],
   "source": [
    "# add column age that is equal to date_v - date_birth (integer value)\n",
    "df = df.withColumn(\"age\", floor(datediff(df.date_v, df.date_birth)/365))"
   ]
  },
  {
   "cell_type": "code",
   "execution_count": 28,
   "metadata": {
    "ExecuteTime": {
     "end_time": "2023-05-23T16:02:10.837419300Z",
     "start_time": "2023-05-23T16:02:10.779393300Z"
    }
   },
   "outputs": [],
   "source": [
    "# take only the first digit after the comma of winning_rate_pl and winning_rate_club\n",
    "df = df.withColumn(\"winning_rate_pl\", round(df.winning_rate_pl, 1))\n",
    "df = df.withColumn(\"winning_rate_club\", round(df.winning_rate_club, 1))"
   ]
  },
  {
   "cell_type": "code",
   "execution_count": 29,
   "metadata": {
    "ExecuteTime": {
     "end_time": "2023-05-23T16:02:10.837419300Z",
     "start_time": "2023-05-23T16:02:10.798338Z"
    }
   },
   "outputs": [],
   "source": [
    "df = df.select(\"player_id\", \"date_v\", \"market_value\", \"name\", \"date_birth\", \"age\", \"current_club_id\", \"height\", \"citizenship\", \"position\", \"sub_position\", \"competitions_id\", \"clubs_id\",\n",
    "    \"assists\", \"goals\", \"minutes_played\", \"red_cards\", \"yellow_cards\", \"last_valuation\", \"appearances\", \"games_won_pl\", \"games_draw_pl\", \"games_lost_pl\", \"winning_rate_pl\",\n",
    "    \"games_played_club\", \"games_won_club\", \"games_draw_club\", \"games_lost_club\", \"winning_rate_club\")"
   ]
  },
  {
   "attachments": {},
   "cell_type": "markdown",
   "metadata": {},
   "source": [
    "This is an example of the dataframe (filtered with Mo Salah) after the end of features extraction.\n",
    "**The stats of the (player_id, date_v) pair are for the year preceding date_v**"
   ]
  },
  {
   "cell_type": "code",
   "execution_count": null,
   "metadata": {
    "ExecuteTime": {
     "end_time": "2023-05-23T16:02:13.889790900Z",
     "start_time": "2023-05-23T16:02:10.824491900Z"
    }
   },
   "outputs": [],
   "source": [
    "df.filter(df.player_id == 148455).show(50)"
   ]
  },
  {
   "attachments": {},
   "cell_type": "markdown",
   "metadata": {
    "collapsed": false
   },
   "source": [
    "Now we will handle the cases in which the features values ​​are null or equal to 0.\n",
    "The features that we have to manage are:\n",
    "- last valuation (13,45 % null --> from null to 0)\n",
    "- sub position (8,19 % null --> position)\n",
    "- age (0,04 % null --> delete examples)\n",
    "- date_birth (0,04 % null --> delete examples)\n",
    "- height (some values are 0 --> average height)"
   ]
  },
  {
   "cell_type": "code",
   "execution_count": 30,
   "metadata": {
    "ExecuteTime": {
     "end_time": "2023-05-23T16:02:13.908315600Z",
     "start_time": "2023-05-23T16:02:13.889790900Z"
    },
    "collapsed": false
   },
   "outputs": [],
   "source": [
    "# the null values in the column last_valuation must be replaced with 0\n",
    "df = df.fillna({'last_valuation': 0})"
   ]
  },
  {
   "cell_type": "code",
   "execution_count": 31,
   "metadata": {
    "ExecuteTime": {
     "end_time": "2023-05-23T16:02:14.058209600Z",
     "start_time": "2023-05-23T16:02:13.908315600Z"
    },
    "collapsed": false
   },
   "outputs": [],
   "source": [
    "# the null values in the column last_position must be replaced with the value in the column position\n",
    "df = df.withColumn(\"sub_position\", coalesce(col(\"sub_position\"), col(\"position\")))"
   ]
  },
  {
   "cell_type": "code",
   "execution_count": 32,
   "metadata": {
    "ExecuteTime": {
     "end_time": "2023-05-23T16:02:14.062722500Z",
     "start_time": "2023-05-23T16:02:13.921582300Z"
    },
    "collapsed": false
   },
   "outputs": [],
   "source": [
    "# drop instances in which the column age or date_of_birth are null\n",
    "df = df.dropna(subset=('age', 'date_birth'))"
   ]
  },
  {
   "cell_type": "code",
   "execution_count": null,
   "metadata": {
    "ExecuteTime": {
     "end_time": "2023-05-23T16:02:27.570307800Z",
     "start_time": "2023-05-23T16:02:13.939273700Z"
    },
    "collapsed": false
   },
   "outputs": [],
   "source": [
    "# filter the dataframe to keep only the rows in which the column height is not 0\n",
    "filtered_df = df.filter(col(\"height\") != 0)\n",
    "\n",
    "# average height of filtered_df\n",
    "average_height = filtered_df.selectExpr(\"avg(height) as height_average\").first()[\"height_average\"]\n",
    "\n",
    "# replace the value 0 in the column height with the mean of the column\n",
    "df = df.withColumn(\"height\", when(col(\"height\") == 0, average_height).otherwise(col(\"height\")))"
   ]
  },
  {
   "cell_type": "code",
   "execution_count": 35,
   "metadata": {
    "ExecuteTime": {
     "end_time": "2023-05-23T16:02:27.639239700Z",
     "start_time": "2023-05-23T16:02:27.570307800Z"
    },
    "collapsed": false
   },
   "outputs": [],
   "source": [
    "#trasform the column height, last_valuation and age in integer\n",
    "df = df.withColumn(\"height\", df[\"height\"].cast(IntegerType()))\n",
    "df = df.withColumn(\"last_valuation\", df[\"last_valuation\"].cast(IntegerType()))\n",
    "df = df.withColumn(\"age\", df[\"age\"].cast(IntegerType()))"
   ]
  },
  {
   "cell_type": "code",
   "execution_count": 36,
   "metadata": {
    "ExecuteTime": {
     "end_time": "2023-05-23T16:02:29.797503400Z",
     "start_time": "2023-05-23T16:02:27.608491600Z"
    },
    "collapsed": false
   },
   "outputs": [],
   "source": [
    "#transform the column competitions_id and clubs_id in string\n",
    "df = df.withColumn(\"competitions_id\", df[\"competitions_id\"].cast(StringType()))\n",
    "df = df.withColumn(\"clubs_id\", df[\"clubs_id\"].cast(StringType()))"
   ]
  },
  {
   "cell_type": "code",
   "execution_count": null,
   "metadata": {},
   "outputs": [],
   "source": [
    "df.filter(df.player_id == 148455).show(50)"
   ]
  },
  {
   "cell_type": "code",
   "execution_count": 37,
   "metadata": {
    "ExecuteTime": {
     "end_time": "2023-05-23T16:02:44.414768400Z",
     "start_time": "2023-05-23T16:02:29.798512100Z"
    }
   },
   "outputs": [],
   "source": [
    "import pandas as pd\n",
    "df_pandas = df.toPandas()\n",
    "df_pandas.to_csv('dataset.csv', sep=',', encoding='utf-8', index=False)"
   ]
  }
 ],
 "metadata": {
  "kernelspec": {
   "display_name": "Python 3",
   "language": "python",
   "name": "python3"
  },
  "language_info": {
   "codemirror_mode": {
    "name": "ipython",
    "version": 3
   },
   "file_extension": ".py",
   "mimetype": "text/x-python",
   "name": "python",
   "nbconvert_exporter": "python",
   "pygments_lexer": "ipython3",
   "version": "3.10.9"
  },
  "orig_nbformat": 4
 },
 "nbformat": 4,
 "nbformat_minor": 2
}
