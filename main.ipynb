{
 "cells": [
  {
   "cell_type": "code",
   "execution_count": 1,
   "metadata": {},
   "outputs": [
    {
     "name": "stderr",
     "output_type": "stream",
     "text": [
      "c:\\Users\\marco\\AppData\\Local\\Programs\\Python\\Python310\\lib\\site-packages\\tqdm\\auto.py:21: TqdmWarning: IProgress not found. Please update jupyter and ipywidgets. See https://ipywidgets.readthedocs.io/en/stable/user_install.html\n",
      "  from .autonotebook import tqdm as notebook_tqdm\n"
     ]
    }
   ],
   "source": [
    "import pyspark\n",
    "from pyspark.sql import *\n",
    "from pyspark.sql.types import *\n",
    "from pyspark.sql.functions import *\n",
    "from pyspark import SparkContext, SparkConf\n",
    "import numpy as np\n",
    "from PIL import Image\n",
    "from datasets import load_dataset\n",
    "from pyspark.sql.functions import udf\n",
    "from pyspark.sql.types import BinaryType\n",
    "from pyspark.sql import SparkSession\n",
    "import io"
   ]
  },
  {
   "cell_type": "code",
   "execution_count": 2,
   "metadata": {},
   "outputs": [],
   "source": [
    "# Create the session\n",
    "conf = SparkConf().\\\n",
    "                set('spark.ui.port', \"4050\").\\\n",
    "                set('spark.executor.memory', '4G').\\\n",
    "                set('spark.driver.memory', '45G').\\\n",
    "                set('spark.driver.maxResultSize', '10G').\\\n",
    "                setAppName(\"PySparkTutorial\").\\\n",
    "                setMaster(\"local[*]\")\n",
    "\n",
    "# Create the context\n",
    "sc = pyspark.SparkContext(conf=conf)\n",
    "spark = SparkSession.builder.getOrCreate()"
   ]
  },
  {
   "cell_type": "code",
   "execution_count": 3,
   "metadata": {},
   "outputs": [
    {
     "data": {
      "text/html": [
       "\n",
       "            <div>\n",
       "                <p><b>SparkSession - in-memory</b></p>\n",
       "                \n",
       "        <div>\n",
       "            <p><b>SparkContext</b></p>\n",
       "\n",
       "            <p><a href=\"http://LAPTOP-JLLVBEPM:4050\">Spark UI</a></p>\n",
       "\n",
       "            <dl>\n",
       "              <dt>Version</dt>\n",
       "                <dd><code>v3.4.0</code></dd>\n",
       "              <dt>Master</dt>\n",
       "                <dd><code>local[*]</code></dd>\n",
       "              <dt>AppName</dt>\n",
       "                <dd><code>PySparkTutorial</code></dd>\n",
       "            </dl>\n",
       "        </div>\n",
       "        \n",
       "            </div>\n",
       "        "
      ],
      "text/plain": [
       "<pyspark.sql.session.SparkSession at 0x188ed35a4a0>"
      ]
     },
     "execution_count": 3,
     "metadata": {},
     "output_type": "execute_result"
    }
   ],
   "source": [
    "spark"
   ]
  },
  {
   "cell_type": "code",
   "execution_count": 4,
   "metadata": {},
   "outputs": [
    {
     "data": {
      "text/plain": [
       "[('spark.sql.warehouse.dir',\n",
       "  'file:/C:/Users/marco/Desktop/project_bdc/spark-warehouse'),\n",
       " ('spark.app.name', 'PySparkTutorial'),\n",
       " ('spark.driver.port', '62021'),\n",
       " ('spark.driver.host', 'LAPTOP-JLLVBEPM'),\n",
       " ('spark.driver.memory', '45G'),\n",
       " ('spark.app.startTime', '1682852096077'),\n",
       " ('spark.executor.id', 'driver'),\n",
       " ('spark.driver.maxResultSize', '10G'),\n",
       " ('spark.driver.extraJavaOptions',\n",
       "  '-Djava.net.preferIPv6Addresses=false -XX:+IgnoreUnrecognizedVMOptions --add-opens=java.base/java.lang=ALL-UNNAMED --add-opens=java.base/java.lang.invoke=ALL-UNNAMED --add-opens=java.base/java.lang.reflect=ALL-UNNAMED --add-opens=java.base/java.io=ALL-UNNAMED --add-opens=java.base/java.net=ALL-UNNAMED --add-opens=java.base/java.nio=ALL-UNNAMED --add-opens=java.base/java.util=ALL-UNNAMED --add-opens=java.base/java.util.concurrent=ALL-UNNAMED --add-opens=java.base/java.util.concurrent.atomic=ALL-UNNAMED --add-opens=java.base/sun.nio.ch=ALL-UNNAMED --add-opens=java.base/sun.nio.cs=ALL-UNNAMED --add-opens=java.base/sun.security.action=ALL-UNNAMED --add-opens=java.base/sun.util.calendar=ALL-UNNAMED --add-opens=java.security.jgss/sun.security.krb5=ALL-UNNAMED -Djdk.reflect.useDirectMethodHandle=false'),\n",
       " ('spark.ui.port', '4050'),\n",
       " ('spark.rdd.compress', 'True'),\n",
       " ('spark.serializer.objectStreamReset', '100'),\n",
       " ('spark.app.submitTime', '1682852095787'),\n",
       " ('spark.master', 'local[*]'),\n",
       " ('spark.submit.pyFiles', ''),\n",
       " ('spark.submit.deployMode', 'client'),\n",
       " ('spark.app.id', 'local-1682852097760'),\n",
       " ('spark.executor.memory', '4G'),\n",
       " ('spark.ui.showConsoleProgress', 'true'),\n",
       " ('spark.executor.extraJavaOptions',\n",
       "  '-Djava.net.preferIPv6Addresses=false -XX:+IgnoreUnrecognizedVMOptions --add-opens=java.base/java.lang=ALL-UNNAMED --add-opens=java.base/java.lang.invoke=ALL-UNNAMED --add-opens=java.base/java.lang.reflect=ALL-UNNAMED --add-opens=java.base/java.io=ALL-UNNAMED --add-opens=java.base/java.net=ALL-UNNAMED --add-opens=java.base/java.nio=ALL-UNNAMED --add-opens=java.base/java.util=ALL-UNNAMED --add-opens=java.base/java.util.concurrent=ALL-UNNAMED --add-opens=java.base/java.util.concurrent.atomic=ALL-UNNAMED --add-opens=java.base/sun.nio.ch=ALL-UNNAMED --add-opens=java.base/sun.nio.cs=ALL-UNNAMED --add-opens=java.base/sun.security.action=ALL-UNNAMED --add-opens=java.base/sun.util.calendar=ALL-UNNAMED --add-opens=java.security.jgss/sun.security.krb5=ALL-UNNAMED -Djdk.reflect.useDirectMethodHandle=false')]"
      ]
     },
     "execution_count": 4,
     "metadata": {},
     "output_type": "execute_result"
    }
   ],
   "source": [
    "sc._conf.getAll()"
   ]
  },
  {
   "cell_type": "code",
   "execution_count": 178,
   "metadata": {},
   "outputs": [],
   "source": [
    "#open csv file\n",
    "df_appearances = spark.read.csv(\"archive/appearances.csv\", header=True, inferSchema=True)\n",
    "df_club_games = spark.read.csv(\"archive/club_games.csv\", header=True, inferSchema=True)\n",
    "df_clubs = spark.read.csv(\"archive/clubs.csv\", header=True, inferSchema=True)\n",
    "df_competitions = spark.read.csv(\"archive/competitions.csv\", header=True, inferSchema=True)\n",
    "df_game_events = spark.read.csv(\"archive/game_events.csv\", header=True, inferSchema=True)\n",
    "df_games = spark.read.csv(\"archive/games.csv\", header=True, inferSchema=True)\n",
    "df_player_valutations = spark.read.csv(\"archive/player_valuations.csv\", header=True, inferSchema=True)\n",
    "df_players = spark.read.csv(\"archive/players.csv\", header=True, inferSchema=True)"
   ]
  },
  {
   "cell_type": "code",
   "execution_count": 176,
   "metadata": {},
   "outputs": [
    {
     "name": "stdout",
     "output_type": "stream",
     "text": [
      "Number of rows:  1166215\n",
      "Number of rows:  123096\n",
      "Number of rows:  411\n",
      "Number of rows:  43\n",
      "Number of rows:  559853\n",
      "Number of rows:  61548\n",
      "Number of rows:  214925\n",
      "Number of rows:  28503\n",
      "root\n",
      " |-- appearance_id: string (nullable = true)\n",
      " |-- game_id: integer (nullable = true)\n",
      " |-- player_id: integer (nullable = true)\n",
      " |-- player_club_id: integer (nullable = true)\n",
      " |-- player_current_club_id: integer (nullable = true)\n",
      " |-- date: date (nullable = true)\n",
      " |-- player_name: string (nullable = true)\n",
      " |-- competition_id: string (nullable = true)\n",
      " |-- yellow_cards: integer (nullable = true)\n",
      " |-- red_cards: integer (nullable = true)\n",
      " |-- goals: integer (nullable = true)\n",
      " |-- assists: integer (nullable = true)\n",
      " |-- minutes_played: integer (nullable = true)\n",
      "\n",
      "root\n",
      " |-- game_id: integer (nullable = true)\n",
      " |-- minute: integer (nullable = true)\n",
      " |-- type: string (nullable = true)\n",
      " |-- club_id: integer (nullable = true)\n",
      " |-- player_id: integer (nullable = true)\n",
      " |-- description: string (nullable = true)\n",
      " |-- player_in_id: integer (nullable = true)\n",
      "\n",
      "root\n",
      " |-- game_id: integer (nullable = true)\n",
      " |-- competition_id: string (nullable = true)\n",
      " |-- competition_type: string (nullable = true)\n",
      " |-- season: integer (nullable = true)\n",
      " |-- round: string (nullable = true)\n",
      " |-- date: date (nullable = true)\n",
      " |-- home_club_id: integer (nullable = true)\n",
      " |-- away_club_id: integer (nullable = true)\n",
      " |-- home_club_goals: integer (nullable = true)\n",
      " |-- away_club_goals: integer (nullable = true)\n",
      " |-- aggregate: timestamp (nullable = true)\n",
      " |-- home_club_position: integer (nullable = true)\n",
      " |-- away_club_position: integer (nullable = true)\n",
      " |-- club_home_name: string (nullable = true)\n",
      " |-- club_away_name: string (nullable = true)\n",
      " |-- home_club_manager_name: string (nullable = true)\n",
      " |-- away_club_manager_name: string (nullable = true)\n",
      " |-- stadium: string (nullable = true)\n",
      " |-- attendance: integer (nullable = true)\n",
      " |-- referee: string (nullable = true)\n",
      " |-- url: string (nullable = true)\n",
      "\n",
      "+-------------+-------+---------+--------------+----------------------+----------+--------------------+--------------+------------+---------+-----+-------+--------------+\n",
      "|appearance_id|game_id|player_id|player_club_id|player_current_club_id|      date|         player_name|competition_id|yellow_cards|red_cards|goals|assists|minutes_played|\n",
      "+-------------+-------+---------+--------------+----------------------+----------+--------------------+--------------+------------+---------+-----+-------+--------------+\n",
      "|2483937_52453|2483937|    52453|         28095|                 28095|2014-08-08|       Haris Handzic|           RU1|           0|        0|    0|      0|            90|\n",
      "|2479929_67064|2479929|    67064|         28095|                  4128|2014-08-03|Felicio Brown Forbes|           RU1|           0|        0|    0|      0|            90|\n",
      "|2483937_67064|2483937|    67064|         28095|                  4128|2014-08-08|Felicio Brown Forbes|           RU1|           0|        0|    0|      0|            90|\n",
      "|2484582_67064|2484582|    67064|         28095|                  4128|2014-08-13|Felicio Brown Forbes|           RU1|           0|        0|    0|      0|            55|\n",
      "|2485965_67064|2485965|    67064|         28095|                  4128|2014-08-16|Felicio Brown Forbes|           RU1|           0|        0|    0|      0|            90|\n",
      "|2487345_67064|2487345|    67064|         28095|                  4128|2014-08-23|Felicio Brown Forbes|           RU1|           1|        0|    0|      0|            90|\n",
      "|2498464_67064|2498464|    67064|         28095|                  4128|2014-09-20|Felicio Brown Forbes|           RU1|           0|        0|    0|      0|            90|\n",
      "|2500260_67064|2500260|    67064|         28095|                  4128|2014-09-27|Felicio Brown Forbes|           RU1|           0|        0|    0|      1|            19|\n",
      "|2506733_67064|2506733|    67064|         28095|                  4128|2014-10-26|Felicio Brown Forbes|           RU1|           1|        0|    1|      0|            90|\n",
      "|2508366_67064|2508366|    67064|         28095|                  4128|2014-11-03|Felicio Brown Forbes|           RU1|           0|        0|    0|      0|             2|\n",
      "|2493717_67064|2493717|    67064|         28095|                  4128|2014-09-24|Felicio Brown Forbes|           RUP|           0|        0|    0|      0|            65|\n",
      "|2498464_98558|2498464|    98558|         28095|                 41201|2014-09-20|         Anton Kilin|           RU1|           0|        0|    0|      0|            90|\n",
      "|2479927_36227|2479927|    36227|          1186|                  3729|2014-08-02|     Igor Shevchenko|           RU1|           1|        0|    0|      0|            45|\n",
      "|2484582_52453|2484582|    52453|         28095|                 28095|2014-08-13|       Haris Handzic|           RU1|           0|        0|    0|      0|            90|\n",
      "|2485965_52453|2485965|    52453|         28095|                 28095|2014-08-16|       Haris Handzic|           RU1|           0|        0|    0|      0|            45|\n",
      "|2487345_52453|2487345|    52453|         28095|                 28095|2014-08-23|       Haris Handzic|           RU1|           0|        0|    0|      0|            53|\n",
      "|2489341_52453|2489341|    52453|         28095|                 28095|2014-08-31|       Haris Handzic|           RU1|           0|        0|    0|      0|            35|\n",
      "|2493788_52453|2493788|    52453|         28095|                 28095|2014-09-14|       Haris Handzic|           RU1|           0|        0|    0|      1|            65|\n",
      "|2498464_52453|2498464|    52453|         28095|                 28095|2014-09-20|       Haris Handzic|           RU1|           0|        0|    0|      0|            19|\n",
      "|2500260_52453|2500260|    52453|         28095|                 28095|2014-09-27|       Haris Handzic|           RU1|           0|        0|    1|      0|            86|\n",
      "+-------------+-------+---------+--------------+----------------------+----------+--------------------+--------------+------------+---------+-----+-------+--------------+\n",
      "only showing top 20 rows\n",
      "\n",
      "+-------+------+-------------+-------+---------+--------------------+------------+\n",
      "|game_id|minute|         type|club_id|player_id|         description|player_in_id|\n",
      "+-------+------+-------------+-------+---------+--------------------+------------+\n",
      "|2229332|     6|        Goals|     27|    34572|, Right-footed sh...|          -1|\n",
      "|2229332|    11|        Goals|     27|    58358|, Tap-in, 1. Tour...|          -1|\n",
      "|2229332|    75|        Goals|     16|    38253|, Right-footed sh...|          -1|\n",
      "|2229332|    64|Substitutions|     16|    82243|                null|       74842|\n",
      "|2229332|    64|Substitutions|     16|    44521|                null|       42460|\n",
      "|2229332|    70|Substitutions|     27|   119296|                null|       54659|\n",
      "|2229332|    71|Substitutions|     16|    29835|                null|       58124|\n",
      "|2229332|    80|Substitutions|     27|    22068|                null|       14944|\n",
      "|2229332|    85|Substitutions|     27|     4360|                null|       86792|\n",
      "|2244388|    55|        Goals|    418|     8198|, Header, 1. Tour...|          -1|\n",
      "|2244388|    56|        Goals|    131|    65278|, Right-footed sh...|          -1|\n",
      "|2244388|    60|        Goals|    131|    28003|, Penalty, 1. Tou...|          -1|\n",
      "|2244388|    78|        Goals|    131|     7607|, Right-footed sh...|          -1|\n",
      "|2244388|    85|        Goals|    418|    45320|, Left-footed sho...|          -1|\n",
      "|2244388|    60|Substitutions|    418|    18922|                null|       39153|\n",
      "|2244388|    65|Substitutions|    418|    61253|                null|       45320|\n",
      "|2244388|    71|Substitutions|    131|    40433|                null|      141834|\n",
      "|2244388|    81|Substitutions|    418|    35664|                null|       44501|\n",
      "|2244388|    82|Substitutions|    131|     7607|                null|        8806|\n",
      "|2244388|    86|Substitutions|    131|    65278|                null|       69751|\n",
      "+-------+------+-------------+-------+---------+--------------------+------------+\n",
      "only showing top 20 rows\n",
      "\n",
      "+-------+--------------+----------------+------+------------------+----------+------------+------------+---------------+---------------+-------------------+------------------+------------------+-----------------+--------------------+----------------------+----------------------+--------------------+----------+--------------------+--------------------+\n",
      "|game_id|competition_id|competition_type|season|             round|      date|home_club_id|away_club_id|home_club_goals|away_club_goals|          aggregate|home_club_position|away_club_position|   club_home_name|      club_away_name|home_club_manager_name|away_club_manager_name|             stadium|attendance|             referee|                 url|\n",
      "+-------+--------------+----------------+------+------------------+----------+------------+------------+---------------+---------------+-------------------+------------------+------------------+-----------------+--------------------+----------------------+----------------------+--------------------+----------+--------------------+--------------------+\n",
      "|2229332|           DFL|           other|  2012|             Final|2012-08-12|          27|          16|              2|              1|2023-05-02 02:01:00|                -1|                -1|Fc Bayern Munchen|   Borussia Dortmund|         Jupp Heynckes|          Jürgen Klopp|       Allianz Arena|     69000|      Michael Weiner|https://www.trans...|\n",
      "|2244388|           SUC|           other|  2012|     final 1st leg|2012-08-22|         131|         418|              3|              2|2023-05-02 03:02:00|                -1|                -1|     Fc Barcelona|         Real Madrid|         Tito Vilanova|         José Mourinho|    Spotify Camp Nou|     91728|   Carlos Clos Gómez|https://www.trans...|\n",
      "|2269557|           CDR|    domestic_cup|  2012| 4th round 2nd leg|2012-11-28|        3709|        4032|              0|              0|2023-05-02 00:00:00|                -1|                -1|        Fc Getafe|                null|           Luis García|      Claudio Barragán|Coliseum Alfonso ...|      2000|Pedro Jesús Pérez...|https://www.trans...|\n",
      "|2254432|           CDR|    domestic_cup|  2012|First Round Replay|2012-08-30|       21322|        7077|              1|              0|2023-05-02 01:00:00|                -1|                -1|             null|                null|    Pedro Buenaventura|                  Pato|           El Palmar|         0|Andrés Manuel Ceb...|https://www.trans...|\n",
      "|2221759|           DFB|    domestic_cup|  2012|       First Round|2012-08-20|         109|          27|              0|              4|2023-05-02 00:04:00|                -1|                -1|             null|   Fc Bayern Munchen|      Oscar Corrochano|         Jupp Heynckes|         Jahnstadion|     12500|      Guido Winkmann|https://www.trans...|\n",
      "|2211607|          NLSC|           other|  2012|             Final|2012-08-05|         383|         610|              4|              2|2023-05-02 04:02:00|                -1|                -1|    Psv Eindhoven|      Ajax Amsterdam|         Dick Advocaat|         Frank de Boer| Johan Cruijff ArenA|     50000|       Björn Kuipers|https://www.trans...|\n",
      "|2244655|          FRCH|           other|  2011|             Final|2012-07-28|         969|        1041|              4|              6|2023-05-02 04:06:00|                -1|                -1|  Montpellier Hsc|      Olympique Lyon|           René Girard|            Rémi Garde|                null|     15166|      Jorge Gonzalez|https://www.trans...|\n",
      "|2224956|           BE1| domestic_league|  2012|      30. Matchday|2013-03-16|        1411|        1184|              1|              5|2023-05-02 01:05:00|                 7|                 3|        Raec Mons|            Krc Genk|            Enzo Scifo|            Mario Been|Charles Tondreau ...|      3800|    Christof Dierick|https://www.trans...|\n",
      "|2250472|           NL1| domestic_league|  2012|      34. Matchday|2013-05-12|         200|        1304|              3|              0|2023-05-02 03:00:00|                 5|                12|       Fc Utrecht|     Heracles Almelo|           Jan Wouters|            Peter Bosz|\"Stadion \"\"Galgen...|     17125|     Jochem Kamphuis|https://www.trans...|\n",
      "|2250473|           NL1| domestic_league|  2012|      34. Matchday|2013-05-12|         467|         235|              1|              2|2023-05-02 01:02:00|                15|                14|     Nec Nijmegen|        Rkc Waalwijk|          Alex Pastoor|          Erwin Koeman|      Goffertstadion|     11600|      Eric Braamhaar|https://www.trans...|\n",
      "|2219794|          BESC|           other|  2011|             Final|2012-07-22|          58|         498|              3|              2|2023-05-02 03:02:00|                -1|                -1|   Rsc Anderlecht|         Ksc Lokeren|     John van den Brom|            Peter Maes|Constant Vanden S...|     14485|   Laurent Colemonts|https://www.trans...|\n",
      "|2231667|            L1| domestic_league|  2012|      34. Matchday|2013-05-18|          16|         533|              1|              2|2023-05-02 01:02:00|                 2|                16|Borussia Dortmund| Tsg 1899 Hoffenheim|          Jürgen Klopp|         Markus Gisdol|   SIGNAL IDUNA PARK|     80645|    Dr. Jochen Drees|https://www.trans...|\n",
      "|2231661|            L1| domestic_league|  2012|      34. Matchday|2013-05-18|          42|          38|              3|              0|2023-05-02 03:00:00|                 9|                17|      Hannover 96|  Fortuna Dusseldorf|          Mirko Slomka|         Norbert Meier|Heinz-von-Heiden-...|     49000|     Peter Gagelmann|https://www.trans...|\n",
      "|2504433|           NLP|    domestic_cup|  2012|       First Round|2012-08-22|        7474|       34455|              4|              1|2023-05-02 04:01:00|                -1|                -1|             null|                null|                  null|                  null|Sportpark Duinwet...|       400|    Jeroen Spinhoven|https://www.trans...|\n",
      "|2240524|           NLP|    domestic_cup|  2012|       First Round|2012-08-22|        2821|        2848|              4|              2|2023-05-02 04:02:00|                -1|                -1|             null|                null|          Misha Salden|          Frans Koenen|Sportpark Ter Specke|         0|          Rob Souwen|https://www.trans...|\n",
      "|2231660|            L1| domestic_league|  2012|      34. Matchday|2013-05-18|          41|          15|              0|              1|2023-05-02 00:01:00|                 7|                 3|     Hamburger Sv| Bayer 04 Leverkusen|         Thorsten Fink|    Sascha Lewandowski|    Volksparkstadion|     57000|      Wolfgang Stark|https://www.trans...|\n",
      "|2258403|          POCP|    domestic_cup|  2012|           Group D|2012-08-05|        3348|        7179|              0|              1|2023-05-02 00:01:00|                -1|                -1|             null|          Cd Tondela|        Professor Neca|         Vítor Paneira| Estádio CD Trofense|       790|       Bruno Esteves|https://www.trans...|\n",
      "|2231658|            L1| domestic_league|  2012|      34. Matchday|2013-05-18|          60|          33|              1|              2|2023-05-02 01:02:00|                 5|                 4|      Sc Freiburg|       Fc Schalke 04|     Christian Streich|           Jens Keller|      Dreisamstadion|     24000|     Dr. Felix Brych|https://www.trans...|\n",
      "|2231662|            L1| domestic_league|  2012|      34. Matchday|2013-05-18|          79|          39|              2|              2|2023-05-02 02:02:00|                12|                13|    Vfb Stuttgart|      1 Fsv Mainz 05|        Bruno Labbadia|         Thomas Tuchel| Mercedes-Benz Arena|     51020|      Michael Weiner|https://www.trans...|\n",
      "|2231654|            L1| domestic_league|  2012|      34. Matchday|2013-05-18|         167|          65|              3|              1|2023-05-02 03:01:00|                15|                18|      Fc Augsburg|Spvgg Greuther Furth|      Markus Weinzierl|          Frank Kramer|           WWK ARENA|     30112|         Tobias Welz|https://www.trans...|\n",
      "+-------+--------------+----------------+------+------------------+----------+------------+------------+---------------+---------------+-------------------+------------------+------------------+-----------------+--------------------+----------------------+----------------------+--------------------+----------+--------------------+--------------------+\n",
      "only showing top 20 rows\n",
      "\n"
     ]
    }
   ],
   "source": [
    "#print number of rows for each dataset\n",
    "print(\"Number of rows: \", df_appearances.count())\n",
    "print(\"Number of rows: \", df_club_games.count())\n",
    "print(\"Number of rows: \", df_clubs.count())\n",
    "print(\"Number of rows: \", df_competitions.count())\n",
    "print(\"Number of rows: \", df_game_events.count())\n",
    "print(\"Number of rows: \", df_games.count())\n",
    "print(\"Number of rows: \", df_player_valutations.count())\n",
    "print(\"Number of rows: \", df_players.count())\n",
    "\n",
    "df_appearances.printSchema()\n",
    "df_game_events.printSchema()\n",
    "df_games.printSchema()\n",
    "\n",
    "df_appearances.show()\n",
    "df_game_events.show()\n",
    "df_games.show()\n"
   ]
  },
  {
   "attachments": {},
   "cell_type": "markdown",
   "metadata": {},
   "source": [
    "1 - unire players e appearances\n",
    "2 - aggiungere la media punti per partita dei club per cui ha giocato in quell'anno\n",
    "3 - aggiungere l'ultimo valore di mercato ottenuto in anno (player_valuations)\n",
    "\n",
    "PRENDERE IN CONSIDERAZIONE LA POSSIBILITà DI ELIMINARE TOTALMENTE QUELLO CHE è SUCCESSO NEL 2023."
   ]
  },
  {
   "cell_type": "code",
   "execution_count": 148,
   "metadata": {},
   "outputs": [],
   "source": [
    "# join players and appearances\n",
    "df_players_appearances = df_players.join(df_appearances, [\"player_id\"], how='inner')"
   ]
  },
  {
   "cell_type": "code",
   "execution_count": 149,
   "metadata": {},
   "outputs": [
    {
     "name": "stdout",
     "output_type": "stream",
     "text": [
      "+---------+--------------------+---------------+-----------------+----------------------+-----------------+-------------+-------------+--------+--------------+-----+------------+-------------------+---------------------------+----------+------------------------+------------------------------------+----------+------------+--------------------+--------------------+-----------+--------------------+-------------+-------+--------------+----------------------+----------+--------------------+--------------+------------+---------+-----+-------+--------------+\n",
      "|player_id|                name|current_club_id|current_club_name|country_of_citizenship| country_of_birth|city_of_birth|date_of_birth|position|  sub_position| foot|height_in_cm|market_value_in_eur|highest_market_value_in_eur|agent_name|contract_expiration_date|current_club_domestic_competition_id|first_name|   last_name|         player_code|           image_url|last_season|                 url|appearance_id|game_id|player_club_id|player_current_club_id|      date|         player_name|competition_id|yellow_cards|red_cards|goals|assists|minutes_played|\n",
      "+---------+--------------------+---------------+-----------------+----------------------+-----------------+-------------+-------------+--------+--------------+-----+------------+-------------------+---------------------------+----------+------------------------+------------------------------------+----------+------------+--------------------+--------------------+-----------+--------------------+-------------+-------+--------------+----------------------+----------+--------------------+--------------+------------+---------+-----+-------+--------------+\n",
      "|    52453|       Haris Handzic|          28095|           Fk Ufa|    Bosnia-Herzegovina|Jugoslawien (SFR)|   Sarajevo  |   1990-06-20|  Attack|Centre-Forward| Left|         191|            75000.0|                   700000.0|      null|              2023-06-30|                                 RU1|     Haris|     Handzic|       haris-handzic|https://img.a.tra...|       2015|https://www.trans...|2483937_52453|2483937|         28095|                 28095|2014-08-08|       Haris Handzic|           RU1|           0|        0|    0|      0|            90|\n",
      "|    67064|Felicio Brown Forbes|           4128|       Amkar Perm|            Costa Rica|          Germany|     Berlin  |   1991-08-28|  Attack|Centre-Forward|Right|         189|           300000.0|                   700000.0|      null|                    null|                                 RU1|   Felicio|Brown Forbes|felicio-brown-forbes|https://img.a.tra...|       2017|https://www.trans...|2479929_67064|2479929|         28095|                  4128|2014-08-03|Felicio Brown Forbes|           RU1|           0|        0|    0|      0|            90|\n",
      "|    67064|Felicio Brown Forbes|           4128|       Amkar Perm|            Costa Rica|          Germany|     Berlin  |   1991-08-28|  Attack|Centre-Forward|Right|         189|           300000.0|                   700000.0|      null|                    null|                                 RU1|   Felicio|Brown Forbes|felicio-brown-forbes|https://img.a.tra...|       2017|https://www.trans...|2483937_67064|2483937|         28095|                  4128|2014-08-08|Felicio Brown Forbes|           RU1|           0|        0|    0|      0|            90|\n",
      "|    67064|Felicio Brown Forbes|           4128|       Amkar Perm|            Costa Rica|          Germany|     Berlin  |   1991-08-28|  Attack|Centre-Forward|Right|         189|           300000.0|                   700000.0|      null|                    null|                                 RU1|   Felicio|Brown Forbes|felicio-brown-forbes|https://img.a.tra...|       2017|https://www.trans...|2484582_67064|2484582|         28095|                  4128|2014-08-13|Felicio Brown Forbes|           RU1|           0|        0|    0|      0|            55|\n",
      "|    67064|Felicio Brown Forbes|           4128|       Amkar Perm|            Costa Rica|          Germany|     Berlin  |   1991-08-28|  Attack|Centre-Forward|Right|         189|           300000.0|                   700000.0|      null|                    null|                                 RU1|   Felicio|Brown Forbes|felicio-brown-forbes|https://img.a.tra...|       2017|https://www.trans...|2485965_67064|2485965|         28095|                  4128|2014-08-16|Felicio Brown Forbes|           RU1|           0|        0|    0|      0|            90|\n",
      "|    67064|Felicio Brown Forbes|           4128|       Amkar Perm|            Costa Rica|          Germany|     Berlin  |   1991-08-28|  Attack|Centre-Forward|Right|         189|           300000.0|                   700000.0|      null|                    null|                                 RU1|   Felicio|Brown Forbes|felicio-brown-forbes|https://img.a.tra...|       2017|https://www.trans...|2487345_67064|2487345|         28095|                  4128|2014-08-23|Felicio Brown Forbes|           RU1|           1|        0|    0|      0|            90|\n",
      "|    67064|Felicio Brown Forbes|           4128|       Amkar Perm|            Costa Rica|          Germany|     Berlin  |   1991-08-28|  Attack|Centre-Forward|Right|         189|           300000.0|                   700000.0|      null|                    null|                                 RU1|   Felicio|Brown Forbes|felicio-brown-forbes|https://img.a.tra...|       2017|https://www.trans...|2498464_67064|2498464|         28095|                  4128|2014-09-20|Felicio Brown Forbes|           RU1|           0|        0|    0|      0|            90|\n",
      "|    67064|Felicio Brown Forbes|           4128|       Amkar Perm|            Costa Rica|          Germany|     Berlin  |   1991-08-28|  Attack|Centre-Forward|Right|         189|           300000.0|                   700000.0|      null|                    null|                                 RU1|   Felicio|Brown Forbes|felicio-brown-forbes|https://img.a.tra...|       2017|https://www.trans...|2500260_67064|2500260|         28095|                  4128|2014-09-27|Felicio Brown Forbes|           RU1|           0|        0|    0|      1|            19|\n",
      "|    67064|Felicio Brown Forbes|           4128|       Amkar Perm|            Costa Rica|          Germany|     Berlin  |   1991-08-28|  Attack|Centre-Forward|Right|         189|           300000.0|                   700000.0|      null|                    null|                                 RU1|   Felicio|Brown Forbes|felicio-brown-forbes|https://img.a.tra...|       2017|https://www.trans...|2506733_67064|2506733|         28095|                  4128|2014-10-26|Felicio Brown Forbes|           RU1|           1|        0|    1|      0|            90|\n",
      "|    67064|Felicio Brown Forbes|           4128|       Amkar Perm|            Costa Rica|          Germany|     Berlin  |   1991-08-28|  Attack|Centre-Forward|Right|         189|           300000.0|                   700000.0|      null|                    null|                                 RU1|   Felicio|Brown Forbes|felicio-brown-forbes|https://img.a.tra...|       2017|https://www.trans...|2508366_67064|2508366|         28095|                  4128|2014-11-03|Felicio Brown Forbes|           RU1|           0|        0|    0|      0|             2|\n",
      "|    67064|Felicio Brown Forbes|           4128|       Amkar Perm|            Costa Rica|          Germany|     Berlin  |   1991-08-28|  Attack|Centre-Forward|Right|         189|           300000.0|                   700000.0|      null|                    null|                                 RU1|   Felicio|Brown Forbes|felicio-brown-forbes|https://img.a.tra...|       2017|https://www.trans...|2493717_67064|2493717|         28095|                  4128|2014-09-24|Felicio Brown Forbes|           RUP|           0|        0|    0|      0|            65|\n",
      "|    98558|         Anton Kilin|          41201|       Pfk Tambov|                Russia|            UdSSR|    Izhevsk  |   1990-11-14|  Attack|  Right Winger|Right|         169|           300000.0|                   700000.0|       APS|              2023-06-30|                                 RU1|     Anton|       Kilin|         anton-kilin|https://img.a.tra...|       2020|https://www.trans...|2498464_98558|2498464|         28095|                 41201|2014-09-20|         Anton Kilin|           RU1|           0|        0|    0|      0|            90|\n",
      "|    36227|     Igor Shevchenko|           3729|     Arsenal Tula|                Russia|            UdSSR|     Samara  |   1985-02-02|  Attack|  Right Winger|Right|         180|               null|                   725000.0|       ASA|                    null|                                 RU1|      Igor|  Shevchenko|     igor-shevchenko|https://img.a.tra...|       2017|https://www.trans...|2479927_36227|2479927|          1186|                  3729|2014-08-02|     Igor Shevchenko|           RU1|           1|        0|    0|      0|            45|\n",
      "|    52453|       Haris Handzic|          28095|           Fk Ufa|    Bosnia-Herzegovina|Jugoslawien (SFR)|   Sarajevo  |   1990-06-20|  Attack|Centre-Forward| Left|         191|            75000.0|                   700000.0|      null|              2023-06-30|                                 RU1|     Haris|     Handzic|       haris-handzic|https://img.a.tra...|       2015|https://www.trans...|2484582_52453|2484582|         28095|                 28095|2014-08-13|       Haris Handzic|           RU1|           0|        0|    0|      0|            90|\n",
      "|    52453|       Haris Handzic|          28095|           Fk Ufa|    Bosnia-Herzegovina|Jugoslawien (SFR)|   Sarajevo  |   1990-06-20|  Attack|Centre-Forward| Left|         191|            75000.0|                   700000.0|      null|              2023-06-30|                                 RU1|     Haris|     Handzic|       haris-handzic|https://img.a.tra...|       2015|https://www.trans...|2485965_52453|2485965|         28095|                 28095|2014-08-16|       Haris Handzic|           RU1|           0|        0|    0|      0|            45|\n",
      "|    52453|       Haris Handzic|          28095|           Fk Ufa|    Bosnia-Herzegovina|Jugoslawien (SFR)|   Sarajevo  |   1990-06-20|  Attack|Centre-Forward| Left|         191|            75000.0|                   700000.0|      null|              2023-06-30|                                 RU1|     Haris|     Handzic|       haris-handzic|https://img.a.tra...|       2015|https://www.trans...|2487345_52453|2487345|         28095|                 28095|2014-08-23|       Haris Handzic|           RU1|           0|        0|    0|      0|            53|\n",
      "|    52453|       Haris Handzic|          28095|           Fk Ufa|    Bosnia-Herzegovina|Jugoslawien (SFR)|   Sarajevo  |   1990-06-20|  Attack|Centre-Forward| Left|         191|            75000.0|                   700000.0|      null|              2023-06-30|                                 RU1|     Haris|     Handzic|       haris-handzic|https://img.a.tra...|       2015|https://www.trans...|2489341_52453|2489341|         28095|                 28095|2014-08-31|       Haris Handzic|           RU1|           0|        0|    0|      0|            35|\n",
      "|    52453|       Haris Handzic|          28095|           Fk Ufa|    Bosnia-Herzegovina|Jugoslawien (SFR)|   Sarajevo  |   1990-06-20|  Attack|Centre-Forward| Left|         191|            75000.0|                   700000.0|      null|              2023-06-30|                                 RU1|     Haris|     Handzic|       haris-handzic|https://img.a.tra...|       2015|https://www.trans...|2493788_52453|2493788|         28095|                 28095|2014-09-14|       Haris Handzic|           RU1|           0|        0|    0|      1|            65|\n",
      "|    52453|       Haris Handzic|          28095|           Fk Ufa|    Bosnia-Herzegovina|Jugoslawien (SFR)|   Sarajevo  |   1990-06-20|  Attack|Centre-Forward| Left|         191|            75000.0|                   700000.0|      null|              2023-06-30|                                 RU1|     Haris|     Handzic|       haris-handzic|https://img.a.tra...|       2015|https://www.trans...|2498464_52453|2498464|         28095|                 28095|2014-09-20|       Haris Handzic|           RU1|           0|        0|    0|      0|            19|\n",
      "|    52453|       Haris Handzic|          28095|           Fk Ufa|    Bosnia-Herzegovina|Jugoslawien (SFR)|   Sarajevo  |   1990-06-20|  Attack|Centre-Forward| Left|         191|            75000.0|                   700000.0|      null|              2023-06-30|                                 RU1|     Haris|     Handzic|       haris-handzic|https://img.a.tra...|       2015|https://www.trans...|2500260_52453|2500260|         28095|                 28095|2014-09-27|       Haris Handzic|           RU1|           0|        0|    1|      0|            86|\n",
      "+---------+--------------------+---------------+-----------------+----------------------+-----------------+-------------+-------------+--------+--------------+-----+------------+-------------------+---------------------------+----------+------------------------+------------------------------------+----------+------------+--------------------+--------------------+-----------+--------------------+-------------+-------+--------------+----------------------+----------+--------------------+--------------+------------+---------+-----+-------+--------------+\n",
      "only showing top 20 rows\n",
      "\n"
     ]
    }
   ],
   "source": [
    "df_players_appearances.show()"
   ]
  },
  {
   "cell_type": "code",
   "execution_count": 150,
   "metadata": {},
   "outputs": [],
   "source": [
    "#aggiungere a df_players_appearances la colonna year che contiene solo l'anno della feature date\n",
    "from pyspark.sql.functions import year\n",
    "\n",
    "df_players_appearances = df_players_appearances.withColumn(\"year\", year(df_players_appearances.date))"
   ]
  },
  {
   "cell_type": "code",
   "execution_count": 151,
   "metadata": {},
   "outputs": [
    {
     "name": "stdout",
     "output_type": "stream",
     "text": [
      "+---------+--------------------+---------------+-----------------+----------------------+-----------------+-------------+-------------+--------+--------------+-----+------------+-------------------+---------------------------+----------+------------------------+------------------------------------+----------+------------+--------------------+--------------------+-----------+--------------------+-------------+-------+--------------+----------------------+----------+--------------------+--------------+------------+---------+-----+-------+--------------+----+\n",
      "|player_id|                name|current_club_id|current_club_name|country_of_citizenship| country_of_birth|city_of_birth|date_of_birth|position|  sub_position| foot|height_in_cm|market_value_in_eur|highest_market_value_in_eur|agent_name|contract_expiration_date|current_club_domestic_competition_id|first_name|   last_name|         player_code|           image_url|last_season|                 url|appearance_id|game_id|player_club_id|player_current_club_id|      date|         player_name|competition_id|yellow_cards|red_cards|goals|assists|minutes_played|year|\n",
      "+---------+--------------------+---------------+-----------------+----------------------+-----------------+-------------+-------------+--------+--------------+-----+------------+-------------------+---------------------------+----------+------------------------+------------------------------------+----------+------------+--------------------+--------------------+-----------+--------------------+-------------+-------+--------------+----------------------+----------+--------------------+--------------+------------+---------+-----+-------+--------------+----+\n",
      "|    52453|       Haris Handzic|          28095|           Fk Ufa|    Bosnia-Herzegovina|Jugoslawien (SFR)|   Sarajevo  |   1990-06-20|  Attack|Centre-Forward| Left|         191|            75000.0|                   700000.0|      null|              2023-06-30|                                 RU1|     Haris|     Handzic|       haris-handzic|https://img.a.tra...|       2015|https://www.trans...|2483937_52453|2483937|         28095|                 28095|2014-08-08|       Haris Handzic|           RU1|           0|        0|    0|      0|            90|2014|\n",
      "|    67064|Felicio Brown Forbes|           4128|       Amkar Perm|            Costa Rica|          Germany|     Berlin  |   1991-08-28|  Attack|Centre-Forward|Right|         189|           300000.0|                   700000.0|      null|                    null|                                 RU1|   Felicio|Brown Forbes|felicio-brown-forbes|https://img.a.tra...|       2017|https://www.trans...|2479929_67064|2479929|         28095|                  4128|2014-08-03|Felicio Brown Forbes|           RU1|           0|        0|    0|      0|            90|2014|\n",
      "|    67064|Felicio Brown Forbes|           4128|       Amkar Perm|            Costa Rica|          Germany|     Berlin  |   1991-08-28|  Attack|Centre-Forward|Right|         189|           300000.0|                   700000.0|      null|                    null|                                 RU1|   Felicio|Brown Forbes|felicio-brown-forbes|https://img.a.tra...|       2017|https://www.trans...|2483937_67064|2483937|         28095|                  4128|2014-08-08|Felicio Brown Forbes|           RU1|           0|        0|    0|      0|            90|2014|\n",
      "|    67064|Felicio Brown Forbes|           4128|       Amkar Perm|            Costa Rica|          Germany|     Berlin  |   1991-08-28|  Attack|Centre-Forward|Right|         189|           300000.0|                   700000.0|      null|                    null|                                 RU1|   Felicio|Brown Forbes|felicio-brown-forbes|https://img.a.tra...|       2017|https://www.trans...|2484582_67064|2484582|         28095|                  4128|2014-08-13|Felicio Brown Forbes|           RU1|           0|        0|    0|      0|            55|2014|\n",
      "|    67064|Felicio Brown Forbes|           4128|       Amkar Perm|            Costa Rica|          Germany|     Berlin  |   1991-08-28|  Attack|Centre-Forward|Right|         189|           300000.0|                   700000.0|      null|                    null|                                 RU1|   Felicio|Brown Forbes|felicio-brown-forbes|https://img.a.tra...|       2017|https://www.trans...|2485965_67064|2485965|         28095|                  4128|2014-08-16|Felicio Brown Forbes|           RU1|           0|        0|    0|      0|            90|2014|\n",
      "|    67064|Felicio Brown Forbes|           4128|       Amkar Perm|            Costa Rica|          Germany|     Berlin  |   1991-08-28|  Attack|Centre-Forward|Right|         189|           300000.0|                   700000.0|      null|                    null|                                 RU1|   Felicio|Brown Forbes|felicio-brown-forbes|https://img.a.tra...|       2017|https://www.trans...|2487345_67064|2487345|         28095|                  4128|2014-08-23|Felicio Brown Forbes|           RU1|           1|        0|    0|      0|            90|2014|\n",
      "|    67064|Felicio Brown Forbes|           4128|       Amkar Perm|            Costa Rica|          Germany|     Berlin  |   1991-08-28|  Attack|Centre-Forward|Right|         189|           300000.0|                   700000.0|      null|                    null|                                 RU1|   Felicio|Brown Forbes|felicio-brown-forbes|https://img.a.tra...|       2017|https://www.trans...|2498464_67064|2498464|         28095|                  4128|2014-09-20|Felicio Brown Forbes|           RU1|           0|        0|    0|      0|            90|2014|\n",
      "|    67064|Felicio Brown Forbes|           4128|       Amkar Perm|            Costa Rica|          Germany|     Berlin  |   1991-08-28|  Attack|Centre-Forward|Right|         189|           300000.0|                   700000.0|      null|                    null|                                 RU1|   Felicio|Brown Forbes|felicio-brown-forbes|https://img.a.tra...|       2017|https://www.trans...|2500260_67064|2500260|         28095|                  4128|2014-09-27|Felicio Brown Forbes|           RU1|           0|        0|    0|      1|            19|2014|\n",
      "|    67064|Felicio Brown Forbes|           4128|       Amkar Perm|            Costa Rica|          Germany|     Berlin  |   1991-08-28|  Attack|Centre-Forward|Right|         189|           300000.0|                   700000.0|      null|                    null|                                 RU1|   Felicio|Brown Forbes|felicio-brown-forbes|https://img.a.tra...|       2017|https://www.trans...|2506733_67064|2506733|         28095|                  4128|2014-10-26|Felicio Brown Forbes|           RU1|           1|        0|    1|      0|            90|2014|\n",
      "|    67064|Felicio Brown Forbes|           4128|       Amkar Perm|            Costa Rica|          Germany|     Berlin  |   1991-08-28|  Attack|Centre-Forward|Right|         189|           300000.0|                   700000.0|      null|                    null|                                 RU1|   Felicio|Brown Forbes|felicio-brown-forbes|https://img.a.tra...|       2017|https://www.trans...|2508366_67064|2508366|         28095|                  4128|2014-11-03|Felicio Brown Forbes|           RU1|           0|        0|    0|      0|             2|2014|\n",
      "|    67064|Felicio Brown Forbes|           4128|       Amkar Perm|            Costa Rica|          Germany|     Berlin  |   1991-08-28|  Attack|Centre-Forward|Right|         189|           300000.0|                   700000.0|      null|                    null|                                 RU1|   Felicio|Brown Forbes|felicio-brown-forbes|https://img.a.tra...|       2017|https://www.trans...|2493717_67064|2493717|         28095|                  4128|2014-09-24|Felicio Brown Forbes|           RUP|           0|        0|    0|      0|            65|2014|\n",
      "|    98558|         Anton Kilin|          41201|       Pfk Tambov|                Russia|            UdSSR|    Izhevsk  |   1990-11-14|  Attack|  Right Winger|Right|         169|           300000.0|                   700000.0|       APS|              2023-06-30|                                 RU1|     Anton|       Kilin|         anton-kilin|https://img.a.tra...|       2020|https://www.trans...|2498464_98558|2498464|         28095|                 41201|2014-09-20|         Anton Kilin|           RU1|           0|        0|    0|      0|            90|2014|\n",
      "|    36227|     Igor Shevchenko|           3729|     Arsenal Tula|                Russia|            UdSSR|     Samara  |   1985-02-02|  Attack|  Right Winger|Right|         180|               null|                   725000.0|       ASA|                    null|                                 RU1|      Igor|  Shevchenko|     igor-shevchenko|https://img.a.tra...|       2017|https://www.trans...|2479927_36227|2479927|          1186|                  3729|2014-08-02|     Igor Shevchenko|           RU1|           1|        0|    0|      0|            45|2014|\n",
      "|    52453|       Haris Handzic|          28095|           Fk Ufa|    Bosnia-Herzegovina|Jugoslawien (SFR)|   Sarajevo  |   1990-06-20|  Attack|Centre-Forward| Left|         191|            75000.0|                   700000.0|      null|              2023-06-30|                                 RU1|     Haris|     Handzic|       haris-handzic|https://img.a.tra...|       2015|https://www.trans...|2484582_52453|2484582|         28095|                 28095|2014-08-13|       Haris Handzic|           RU1|           0|        0|    0|      0|            90|2014|\n",
      "|    52453|       Haris Handzic|          28095|           Fk Ufa|    Bosnia-Herzegovina|Jugoslawien (SFR)|   Sarajevo  |   1990-06-20|  Attack|Centre-Forward| Left|         191|            75000.0|                   700000.0|      null|              2023-06-30|                                 RU1|     Haris|     Handzic|       haris-handzic|https://img.a.tra...|       2015|https://www.trans...|2485965_52453|2485965|         28095|                 28095|2014-08-16|       Haris Handzic|           RU1|           0|        0|    0|      0|            45|2014|\n",
      "|    52453|       Haris Handzic|          28095|           Fk Ufa|    Bosnia-Herzegovina|Jugoslawien (SFR)|   Sarajevo  |   1990-06-20|  Attack|Centre-Forward| Left|         191|            75000.0|                   700000.0|      null|              2023-06-30|                                 RU1|     Haris|     Handzic|       haris-handzic|https://img.a.tra...|       2015|https://www.trans...|2487345_52453|2487345|         28095|                 28095|2014-08-23|       Haris Handzic|           RU1|           0|        0|    0|      0|            53|2014|\n",
      "|    52453|       Haris Handzic|          28095|           Fk Ufa|    Bosnia-Herzegovina|Jugoslawien (SFR)|   Sarajevo  |   1990-06-20|  Attack|Centre-Forward| Left|         191|            75000.0|                   700000.0|      null|              2023-06-30|                                 RU1|     Haris|     Handzic|       haris-handzic|https://img.a.tra...|       2015|https://www.trans...|2489341_52453|2489341|         28095|                 28095|2014-08-31|       Haris Handzic|           RU1|           0|        0|    0|      0|            35|2014|\n",
      "|    52453|       Haris Handzic|          28095|           Fk Ufa|    Bosnia-Herzegovina|Jugoslawien (SFR)|   Sarajevo  |   1990-06-20|  Attack|Centre-Forward| Left|         191|            75000.0|                   700000.0|      null|              2023-06-30|                                 RU1|     Haris|     Handzic|       haris-handzic|https://img.a.tra...|       2015|https://www.trans...|2493788_52453|2493788|         28095|                 28095|2014-09-14|       Haris Handzic|           RU1|           0|        0|    0|      1|            65|2014|\n",
      "|    52453|       Haris Handzic|          28095|           Fk Ufa|    Bosnia-Herzegovina|Jugoslawien (SFR)|   Sarajevo  |   1990-06-20|  Attack|Centre-Forward| Left|         191|            75000.0|                   700000.0|      null|              2023-06-30|                                 RU1|     Haris|     Handzic|       haris-handzic|https://img.a.tra...|       2015|https://www.trans...|2498464_52453|2498464|         28095|                 28095|2014-09-20|       Haris Handzic|           RU1|           0|        0|    0|      0|            19|2014|\n",
      "|    52453|       Haris Handzic|          28095|           Fk Ufa|    Bosnia-Herzegovina|Jugoslawien (SFR)|   Sarajevo  |   1990-06-20|  Attack|Centre-Forward| Left|         191|            75000.0|                   700000.0|      null|              2023-06-30|                                 RU1|     Haris|     Handzic|       haris-handzic|https://img.a.tra...|       2015|https://www.trans...|2500260_52453|2500260|         28095|                 28095|2014-09-27|       Haris Handzic|           RU1|           0|        0|    1|      0|            86|2014|\n",
      "+---------+--------------------+---------------+-----------------+----------------------+-----------------+-------------+-------------+--------+--------------+-----+------------+-------------------+---------------------------+----------+------------------------+------------------------------------+----------+------------+--------------------+--------------------+-----------+--------------------+-------------+-------+--------------+----------------------+----------+--------------------+--------------+------------+---------+-----+-------+--------------+----+\n",
      "only showing top 20 rows\n",
      "\n"
     ]
    }
   ],
   "source": [
    "df_players_appearances.show()"
   ]
  },
  {
   "cell_type": "code",
   "execution_count": 152,
   "metadata": {},
   "outputs": [],
   "source": [
    "# drop da df_players_appearances le colonne current_club_id, current_club_name, city_of_birth, market_value_in_eur, contract_expiration_date, agent_name, current_club_domestic_competition_id, image_url, last_season, url, game_id, player_current_club_id\n",
    "df_players_appearances = df_players_appearances.drop(\"current_club_id\", \"date\", \"appearance_id\", \"current_club_name\", \"city_of_birth\", \"market_value_in_eur\", \"contract_expiration_date\", \"agent_name\", \"current_club_domestic_competition_id\", \"image_url\", \"last_season\", \"url\", \"game_id\", \"player_current_club_id\")\n",
    "# in forse: highest_market_value_in_eur"
   ]
  },
  {
   "cell_type": "code",
   "execution_count": 153,
   "metadata": {},
   "outputs": [
    {
     "name": "stdout",
     "output_type": "stream",
     "text": [
      "+---------+--------------------+----------------------+-----------------+-------------+--------+--------------+-----+------------+---------------------------+----------+------------+--------------------+--------------+--------------------+--------------+------------+---------+-----+-------+--------------+----+\n",
      "|player_id|                name|country_of_citizenship| country_of_birth|date_of_birth|position|  sub_position| foot|height_in_cm|highest_market_value_in_eur|first_name|   last_name|         player_code|player_club_id|         player_name|competition_id|yellow_cards|red_cards|goals|assists|minutes_played|year|\n",
      "+---------+--------------------+----------------------+-----------------+-------------+--------+--------------+-----+------------+---------------------------+----------+------------+--------------------+--------------+--------------------+--------------+------------+---------+-----+-------+--------------+----+\n",
      "|    52453|       Haris Handzic|    Bosnia-Herzegovina|Jugoslawien (SFR)|   1990-06-20|  Attack|Centre-Forward| Left|         191|                   700000.0|     Haris|     Handzic|       haris-handzic|         28095|       Haris Handzic|           RU1|           0|        0|    0|      0|            90|2014|\n",
      "|    67064|Felicio Brown Forbes|            Costa Rica|          Germany|   1991-08-28|  Attack|Centre-Forward|Right|         189|                   700000.0|   Felicio|Brown Forbes|felicio-brown-forbes|         28095|Felicio Brown Forbes|           RU1|           0|        0|    0|      0|            90|2014|\n",
      "|    67064|Felicio Brown Forbes|            Costa Rica|          Germany|   1991-08-28|  Attack|Centre-Forward|Right|         189|                   700000.0|   Felicio|Brown Forbes|felicio-brown-forbes|         28095|Felicio Brown Forbes|           RU1|           0|        0|    0|      0|            90|2014|\n",
      "|    67064|Felicio Brown Forbes|            Costa Rica|          Germany|   1991-08-28|  Attack|Centre-Forward|Right|         189|                   700000.0|   Felicio|Brown Forbes|felicio-brown-forbes|         28095|Felicio Brown Forbes|           RU1|           0|        0|    0|      0|            55|2014|\n",
      "|    67064|Felicio Brown Forbes|            Costa Rica|          Germany|   1991-08-28|  Attack|Centre-Forward|Right|         189|                   700000.0|   Felicio|Brown Forbes|felicio-brown-forbes|         28095|Felicio Brown Forbes|           RU1|           0|        0|    0|      0|            90|2014|\n",
      "|    67064|Felicio Brown Forbes|            Costa Rica|          Germany|   1991-08-28|  Attack|Centre-Forward|Right|         189|                   700000.0|   Felicio|Brown Forbes|felicio-brown-forbes|         28095|Felicio Brown Forbes|           RU1|           1|        0|    0|      0|            90|2014|\n",
      "|    67064|Felicio Brown Forbes|            Costa Rica|          Germany|   1991-08-28|  Attack|Centre-Forward|Right|         189|                   700000.0|   Felicio|Brown Forbes|felicio-brown-forbes|         28095|Felicio Brown Forbes|           RU1|           0|        0|    0|      0|            90|2014|\n",
      "|    67064|Felicio Brown Forbes|            Costa Rica|          Germany|   1991-08-28|  Attack|Centre-Forward|Right|         189|                   700000.0|   Felicio|Brown Forbes|felicio-brown-forbes|         28095|Felicio Brown Forbes|           RU1|           0|        0|    0|      1|            19|2014|\n",
      "|    67064|Felicio Brown Forbes|            Costa Rica|          Germany|   1991-08-28|  Attack|Centre-Forward|Right|         189|                   700000.0|   Felicio|Brown Forbes|felicio-brown-forbes|         28095|Felicio Brown Forbes|           RU1|           1|        0|    1|      0|            90|2014|\n",
      "|    67064|Felicio Brown Forbes|            Costa Rica|          Germany|   1991-08-28|  Attack|Centre-Forward|Right|         189|                   700000.0|   Felicio|Brown Forbes|felicio-brown-forbes|         28095|Felicio Brown Forbes|           RU1|           0|        0|    0|      0|             2|2014|\n",
      "|    67064|Felicio Brown Forbes|            Costa Rica|          Germany|   1991-08-28|  Attack|Centre-Forward|Right|         189|                   700000.0|   Felicio|Brown Forbes|felicio-brown-forbes|         28095|Felicio Brown Forbes|           RUP|           0|        0|    0|      0|            65|2014|\n",
      "|    98558|         Anton Kilin|                Russia|            UdSSR|   1990-11-14|  Attack|  Right Winger|Right|         169|                   700000.0|     Anton|       Kilin|         anton-kilin|         28095|         Anton Kilin|           RU1|           0|        0|    0|      0|            90|2014|\n",
      "|    36227|     Igor Shevchenko|                Russia|            UdSSR|   1985-02-02|  Attack|  Right Winger|Right|         180|                   725000.0|      Igor|  Shevchenko|     igor-shevchenko|          1186|     Igor Shevchenko|           RU1|           1|        0|    0|      0|            45|2014|\n",
      "|    52453|       Haris Handzic|    Bosnia-Herzegovina|Jugoslawien (SFR)|   1990-06-20|  Attack|Centre-Forward| Left|         191|                   700000.0|     Haris|     Handzic|       haris-handzic|         28095|       Haris Handzic|           RU1|           0|        0|    0|      0|            90|2014|\n",
      "|    52453|       Haris Handzic|    Bosnia-Herzegovina|Jugoslawien (SFR)|   1990-06-20|  Attack|Centre-Forward| Left|         191|                   700000.0|     Haris|     Handzic|       haris-handzic|         28095|       Haris Handzic|           RU1|           0|        0|    0|      0|            45|2014|\n",
      "|    52453|       Haris Handzic|    Bosnia-Herzegovina|Jugoslawien (SFR)|   1990-06-20|  Attack|Centre-Forward| Left|         191|                   700000.0|     Haris|     Handzic|       haris-handzic|         28095|       Haris Handzic|           RU1|           0|        0|    0|      0|            53|2014|\n",
      "|    52453|       Haris Handzic|    Bosnia-Herzegovina|Jugoslawien (SFR)|   1990-06-20|  Attack|Centre-Forward| Left|         191|                   700000.0|     Haris|     Handzic|       haris-handzic|         28095|       Haris Handzic|           RU1|           0|        0|    0|      0|            35|2014|\n",
      "|    52453|       Haris Handzic|    Bosnia-Herzegovina|Jugoslawien (SFR)|   1990-06-20|  Attack|Centre-Forward| Left|         191|                   700000.0|     Haris|     Handzic|       haris-handzic|         28095|       Haris Handzic|           RU1|           0|        0|    0|      1|            65|2014|\n",
      "|    52453|       Haris Handzic|    Bosnia-Herzegovina|Jugoslawien (SFR)|   1990-06-20|  Attack|Centre-Forward| Left|         191|                   700000.0|     Haris|     Handzic|       haris-handzic|         28095|       Haris Handzic|           RU1|           0|        0|    0|      0|            19|2014|\n",
      "|    52453|       Haris Handzic|    Bosnia-Herzegovina|Jugoslawien (SFR)|   1990-06-20|  Attack|Centre-Forward| Left|         191|                   700000.0|     Haris|     Handzic|       haris-handzic|         28095|       Haris Handzic|           RU1|           0|        0|    1|      0|            86|2014|\n",
      "+---------+--------------------+----------------------+-----------------+-------------+--------+--------------+-----+------------+---------------------------+----------+------------+--------------------+--------------+--------------------+--------------+------------+---------+-----+-------+--------------+----+\n",
      "only showing top 20 rows\n",
      "\n"
     ]
    }
   ],
   "source": [
    "df_players_appearances.show()"
   ]
  },
  {
   "cell_type": "code",
   "execution_count": 169,
   "metadata": {},
   "outputs": [
    {
     "name": "stdout",
     "output_type": "stream",
     "text": [
      "414\n",
      "+----------+\n",
      "|sum(goals)|\n",
      "+----------+\n",
      "|       227|\n",
      "+----------+\n",
      "\n"
     ]
    }
   ],
   "source": [
    "#TEST\n",
    "print(df_players_appearances.filter(df_players_appearances.player_id == 148455).count())\n",
    "df_players_appearances.filter(df_players_appearances.player_id == 148455).agg(sum(col(\"goals\"))).show()"
   ]
  },
  {
   "cell_type": "code",
   "execution_count": 159,
   "metadata": {},
   "outputs": [],
   "source": [
    "\n",
    "from pyspark.sql.functions import sum, col\n",
    "\n",
    "df_new = df_players_appearances.groupBy(\"player_id\", \"competition_id\", \"year\", \"player_club_id\").agg(\n",
    "    sum(col(\"yellow_cards\")).alias(\"yellow_cards\"),\n",
    "    sum(col(\"red_cards\")).alias(\"red_cards\"),\n",
    "    sum(col(\"goals\")).alias(\"goals\"),\n",
    "    sum(col(\"assists\")).alias(\"assists\"),\n",
    "    sum(col(\"minutes_played\")).alias(\"minutes_played\")\n",
    ").select(\"player_id\", \"competition_id\", \"year\", \"player_club_id\", \"yellow_cards\", \"red_cards\", \"goals\", \"assists\", \"minutes_played\").distinct()\n"
   ]
  },
  {
   "cell_type": "code",
   "execution_count": 160,
   "metadata": {},
   "outputs": [
    {
     "name": "stdout",
     "output_type": "stream",
     "text": [
      "+---------+--------------+----+--------------+------------+---------+-----+-------+--------------+\n",
      "|player_id|competition_id|year|player_club_id|yellow_cards|red_cards|goals|assists|minutes_played|\n",
      "+---------+--------------+----+--------------+------------+---------+-----+-------+--------------+\n",
      "|    16137|           IT1|2014|          1429|           1|        0|    0|      1|           736|\n",
      "|   175589|           SC1|2015|          2999|           0|        0|    0|      0|           607|\n",
      "|    35183|            L1|2014|            24|           5|        0|    4|      3|           818|\n",
      "|    58358|           DFB|2014|            27|           0|        0|    1|      1|           180|\n",
      "|    47571|           ELQ|2014|          7769|           0|        0|    0|      0|           227|\n",
      "|   217839|           GR1|2014|           128|           1|        0|    0|      1|           221|\n",
      "|    87423|           GRP|2015|          5219|           0|        0|    0|      0|            90|\n",
      "|    56786|           GRP|2015|         21957|           3|        0|    0|      1|           360|\n",
      "|    33362|           GRP|2014|           128|           0|        0|    0|      0|           180|\n",
      "|    44629|           GR1|2015|           128|          10|        0|    1|      1|          1676|\n",
      "|    45353|           GR1|2015|           128|           4|        0|    0|      1|          1653|\n",
      "|   113052|           GR1|2015|          6418|           9|        0|    4|      2|          2436|\n",
      "|   173405|           GRP|2014|          1091|           0|        0|    0|      0|            90|\n",
      "|   108484|           IT1|2014|           410|           3|        0|    0|      1|          1120|\n",
      "|   114530|           GR1|2014|           169|           1|        0|    0|      0|           450|\n",
      "|    39190|           GR1|2015|          2672|           0|        0|    0|      0|            90|\n",
      "|    77003|           RU1|2014|           232|           1|        0|    0|      2|           305|\n",
      "|   187961|           GR1|2014|          2672|           0|        0|    0|      0|           220|\n",
      "|    34296|           GRP|2015|          7185|           0|        0|    0|      0|           339|\n",
      "|    73725|           GRP|2015|           265|           0|        0|    0|      0|            90|\n",
      "+---------+--------------+----+--------------+------------+---------+-----+-------+--------------+\n",
      "only showing top 20 rows\n",
      "\n"
     ]
    }
   ],
   "source": [
    "df_new.show()"
   ]
  },
  {
   "cell_type": "code",
   "execution_count": 168,
   "metadata": {},
   "outputs": [
    {
     "name": "stdout",
     "output_type": "stream",
     "text": [
      "46\n",
      "+----------+\n",
      "|sum(goals)|\n",
      "+----------+\n",
      "|       227|\n",
      "+----------+\n",
      "\n"
     ]
    }
   ],
   "source": [
    "#TEST\n",
    "print(df_new.filter(df_new.player_id == 148455).count())\n",
    "df_new.filter(df_new.player_id == 148455).agg(sum(col(\"goals\"))).show()"
   ]
  },
  {
   "cell_type": "code",
   "execution_count": 164,
   "metadata": {},
   "outputs": [
    {
     "name": "stdout",
     "output_type": "stream",
     "text": [
      "+---------+----+--------------+--------------+------------+---------+-----+-------+--------------+\n",
      "|player_id|year|competition_id|player_club_id|yellow_cards|red_cards|goals|assists|minutes_played|\n",
      "+---------+----+--------------+--------------+------------+---------+-----+-------+--------------+\n",
      "|       26|2017|      [CL, L1]|          [16]|           0|        0|    0|      0|           181|\n",
      "|      215|2014|    [ES1, CDR]|        [1084]|           0|        0|    5|      1|           985|\n",
      "|      488|2014|         [GB1]|        [2288]|           0|        0|    0|      0|           109|\n",
      "|      532|2014| [CL, DFB, L1]|          [27]|           0|        0|    1|      0|           216|\n",
      "|      532|2016|     [DFB, L1]|          [86]|           2|        0|   13|      4|          1854|\n",
      "|      532|2017|          [L1]|       [86, 3]|           1|        0|    1|      0|           573|\n",
      "|      532|2020|          [L1]|          [86]|           0|        0|    0|      0|            36|\n",
      "|      568|2015| [DFB, L1, EL]|          [18]|           2|        0|    0|      0|           902|\n",
      "|      597|2014|         [TR1]|        [2293]|           1|        0|    0|      2|          1157|\n",
      "|      597|2017|         [RU1]|        [2696]|           0|        0|    0|      0|           347|\n",
      "|      691|2015| [CL, DFB, L1]|          [15]|           3|        0|    1|      1|          1180|\n",
      "|      933|2015|         [TR1]|        [2293]|           4|        0|    1|      1|          1684|\n",
      "|      933|2016|    [NLP, NL1]|         [192]|           4|        0|    1|      1|          1529|\n",
      "|     1126|2016|     [DFB, L1]|           [3]|           7|        0|    0|      3|          2325|\n",
      "|     1139|2014|     [ELQ, L1]|          [39]|           2|        0|    0|      0|           416|\n",
      "|     1331|2016|          [L1]|         [533]|           0|        0|    0|      0|            93|\n",
      "|     1423|2016|         [FR1]|         [855]|           1|        0|    0|      1|          1310|\n",
      "|     1565|2014|     [DFB, L1]|          [24]|           0|        0|   14|      1|          1330|\n",
      "|     1586|2014|     [DFB, L1]|          [42]|           6|        0|    0|      0|          1530|\n",
      "|     1586|2016|          [L1]|          [42]|           2|        0|    2|      0|           683|\n",
      "+---------+----+--------------+--------------+------------+---------+-----+-------+--------------+\n",
      "only showing top 20 rows\n",
      "\n"
     ]
    }
   ],
   "source": [
    "from pyspark.sql.functions import collect_set, sum\n",
    "\n",
    "# Raggruppare per (player_id, year) e raccogliere i valori unici di competition_id e player_club_id in liste\n",
    "df_grouped = df_new.groupBy(\"player_id\", \"year\") \\\n",
    "              .agg(collect_set(\"competition_id\").alias(\"competition_id_list\"),\n",
    "                   collect_set(\"player_club_id\").alias(\"player_club_id_list\"))\n",
    "\n",
    "# Unire il dataframe originale con quello ottenuto al passaggio precedente sulla chiave (player_id, year)\n",
    "# e calcolare la somma delle colonne yellow_cards, red_cards, goals, assists e minutes_played raggruppando sulla nuova chiave (player_id, competition_id, year, player_club_id)\n",
    "df_result = df_new.join(df_grouped, [\"player_id\", \"year\"]) \\\n",
    "              .groupBy(\"player_id\", \"competition_id\", \"year\", \"player_club_id\") \\\n",
    "              .agg(sum(\"yellow_cards\").alias(\"yellow_cards\"),\n",
    "                   sum(\"red_cards\").alias(\"red_cards\"),\n",
    "                   sum(\"goals\").alias(\"goals\"),\n",
    "                   sum(\"assists\").alias(\"assists\"),\n",
    "                   sum(\"minutes_played\").alias(\"minutes_played\")) \\\n",
    "              .groupBy(\"player_id\", \"year\") \\\n",
    "              .agg(collect_set(\"competition_id\").alias(\"competition_id\"),\n",
    "                   collect_set(\"player_club_id\").alias(\"player_club_id\"),\n",
    "                   sum(\"yellow_cards\").alias(\"yellow_cards\"),\n",
    "                   sum(\"red_cards\").alias(\"red_cards\"),\n",
    "                   sum(\"goals\").alias(\"goals\"),\n",
    "                   sum(\"assists\").alias(\"assists\"),\n",
    "                   sum(\"minutes_played\").alias(\"minutes_played\"))\n",
    "\n",
    "# Visualizza il risultato\n",
    "df_result.show()"
   ]
  },
  {
   "cell_type": "code",
   "execution_count": 165,
   "metadata": {},
   "outputs": [
    {
     "name": "stdout",
     "output_type": "stream",
     "text": [
      "10\n",
      "+----------+\n",
      "|sum(goals)|\n",
      "+----------+\n",
      "|       227|\n",
      "+----------+\n",
      "\n"
     ]
    }
   ],
   "source": [
    "#TEST\n",
    "print(df_result.filter(df_result.player_id == 148455).count())\n",
    "df_result.filter(df_result.player_id == 148455).agg(sum(col(\"goals\"))).show()"
   ]
  },
  {
   "cell_type": "code",
   "execution_count": 166,
   "metadata": {},
   "outputs": [
    {
     "name": "stdout",
     "output_type": "stream",
     "text": [
      "+---------+----+--------------------+--------------+------------+---------+-----+-------+--------------+\n",
      "|player_id|year|      competition_id|player_club_id|yellow_cards|red_cards|goals|assists|minutes_played|\n",
      "+---------+----+--------------------+--------------+------------+---------+-----+-------+--------------+\n",
      "|   148455|2016|  [CL, EL, IT1, CLQ]|          [12]|           3|        0|   18|     10|          3549|\n",
      "|   148455|2015|[CL, FAC, CIT, EL...|[12, 430, 631]|           3|        0|   15|      5|          3351|\n",
      "|   148455|2014|           [CL, GB1]|         [631]|           0|        0|    0|      0|            89|\n",
      "|   148455|2017|[CL, CIT, EL, IT1...|      [12, 31]|           0|        0|   33|     14|          3831|\n",
      "|   148455|2019|[CL, GBCS, FAC, G...|          [31]|           2|        0|   26|     11|          4467|\n",
      "|   148455|2018|      [CL, FAC, GB1]|          [31]|           2|        0|   37|     16|          4044|\n",
      "|   148455|2020|[CL, GBCS, FAC, GB1]|          [31]|           1|        0|   26|     10|          3518|\n",
      "|   148455|2021|      [CL, FAC, GB1]|          [31]|           1|        0|   37|     12|          4504|\n",
      "|   148455|2022|[CL, CGB, GBCS, F...|          [31]|           0|        0|   25|     12|          3779|\n",
      "|   148455|2023|      [CL, FAC, GB1]|          [31]|           2|        0|   10|      5|          1545|\n",
      "+---------+----+--------------------+--------------+------------+---------+-----+-------+--------------+\n",
      "\n"
     ]
    }
   ],
   "source": [
    "df_result.filter(df_result.player_id == 148455).show()"
   ]
  },
  {
   "cell_type": "code",
   "execution_count": 170,
   "metadata": {},
   "outputs": [
    {
     "name": "stdout",
     "output_type": "stream",
     "text": [
      "+---------+----+--------------------+--------------+------------+---------+-----+-------+--------------+-------------+---------------+-----------------+----------------------+----------------+-----------------+-------------+--------+------------+----+------------+-------------------+---------------------------+----------+------------------------+------------------------------------+----------+-------------+-------------+--------------------+-----------+--------------------+\n",
      "|player_id|year|      competition_id|player_club_id|yellow_cards|red_cards|goals|assists|minutes_played|         name|current_club_id|current_club_name|country_of_citizenship|country_of_birth|    city_of_birth|date_of_birth|position|sub_position|foot|height_in_cm|market_value_in_eur|highest_market_value_in_eur|agent_name|contract_expiration_date|current_club_domestic_competition_id|first_name|    last_name|  player_code|           image_url|last_season|                 url|\n",
      "+---------+----+--------------------+--------------+------------+---------+-----+-------+--------------+-------------+---------------+-----------------+----------------------+----------------+-----------------+-------------+--------+------------+----+------------+-------------------+---------------------------+----------+------------------------+------------------------------------+----------+-------------+-------------+--------------------+-----------+--------------------+\n",
      "|   148455|2016|  [CL, EL, IT1, CLQ]|          [12]|           3|        0|   18|     10|          3549|Mohamed Salah|             31|     Fc Liverpool|                 Egypt|           Egypt|Nagrig, Basyoun  |   1992-06-15|  Attack|Right Winger|Left|         175|              7.0E7|                      1.5E8|      null|              2025-06-30|                                 GB1|      null|Mohamed Salah|mohamed-salah|https://img.a.tra...|       2022|https://www.trans...|\n",
      "|   148455|2015|[CL, FAC, CIT, EL...|[12, 430, 631]|           3|        0|   15|      5|          3351|Mohamed Salah|             31|     Fc Liverpool|                 Egypt|           Egypt|Nagrig, Basyoun  |   1992-06-15|  Attack|Right Winger|Left|         175|              7.0E7|                      1.5E8|      null|              2025-06-30|                                 GB1|      null|Mohamed Salah|mohamed-salah|https://img.a.tra...|       2022|https://www.trans...|\n",
      "|   148455|2014|           [CL, GB1]|         [631]|           0|        0|    0|      0|            89|Mohamed Salah|             31|     Fc Liverpool|                 Egypt|           Egypt|Nagrig, Basyoun  |   1992-06-15|  Attack|Right Winger|Left|         175|              7.0E7|                      1.5E8|      null|              2025-06-30|                                 GB1|      null|Mohamed Salah|mohamed-salah|https://img.a.tra...|       2022|https://www.trans...|\n",
      "|   148455|2017|[CL, CIT, EL, IT1...|      [12, 31]|           0|        0|   33|     14|          3831|Mohamed Salah|             31|     Fc Liverpool|                 Egypt|           Egypt|Nagrig, Basyoun  |   1992-06-15|  Attack|Right Winger|Left|         175|              7.0E7|                      1.5E8|      null|              2025-06-30|                                 GB1|      null|Mohamed Salah|mohamed-salah|https://img.a.tra...|       2022|https://www.trans...|\n",
      "|   148455|2019|[CL, GBCS, FAC, G...|          [31]|           2|        0|   26|     11|          4467|Mohamed Salah|             31|     Fc Liverpool|                 Egypt|           Egypt|Nagrig, Basyoun  |   1992-06-15|  Attack|Right Winger|Left|         175|              7.0E7|                      1.5E8|      null|              2025-06-30|                                 GB1|      null|Mohamed Salah|mohamed-salah|https://img.a.tra...|       2022|https://www.trans...|\n",
      "|   148455|2018|      [CL, FAC, GB1]|          [31]|           2|        0|   37|     16|          4044|Mohamed Salah|             31|     Fc Liverpool|                 Egypt|           Egypt|Nagrig, Basyoun  |   1992-06-15|  Attack|Right Winger|Left|         175|              7.0E7|                      1.5E8|      null|              2025-06-30|                                 GB1|      null|Mohamed Salah|mohamed-salah|https://img.a.tra...|       2022|https://www.trans...|\n",
      "|   148455|2020|[CL, GBCS, FAC, GB1]|          [31]|           1|        0|   26|     10|          3518|Mohamed Salah|             31|     Fc Liverpool|                 Egypt|           Egypt|Nagrig, Basyoun  |   1992-06-15|  Attack|Right Winger|Left|         175|              7.0E7|                      1.5E8|      null|              2025-06-30|                                 GB1|      null|Mohamed Salah|mohamed-salah|https://img.a.tra...|       2022|https://www.trans...|\n",
      "|   148455|2021|      [CL, FAC, GB1]|          [31]|           1|        0|   37|     12|          4504|Mohamed Salah|             31|     Fc Liverpool|                 Egypt|           Egypt|Nagrig, Basyoun  |   1992-06-15|  Attack|Right Winger|Left|         175|              7.0E7|                      1.5E8|      null|              2025-06-30|                                 GB1|      null|Mohamed Salah|mohamed-salah|https://img.a.tra...|       2022|https://www.trans...|\n",
      "|   148455|2022|[CL, CGB, GBCS, F...|          [31]|           0|        0|   25|     12|          3779|Mohamed Salah|             31|     Fc Liverpool|                 Egypt|           Egypt|Nagrig, Basyoun  |   1992-06-15|  Attack|Right Winger|Left|         175|              7.0E7|                      1.5E8|      null|              2025-06-30|                                 GB1|      null|Mohamed Salah|mohamed-salah|https://img.a.tra...|       2022|https://www.trans...|\n",
      "|   148455|2023|      [CL, FAC, GB1]|          [31]|           2|        0|   10|      5|          1545|Mohamed Salah|             31|     Fc Liverpool|                 Egypt|           Egypt|Nagrig, Basyoun  |   1992-06-15|  Attack|Right Winger|Left|         175|              7.0E7|                      1.5E8|      null|              2025-06-30|                                 GB1|      null|Mohamed Salah|mohamed-salah|https://img.a.tra...|       2022|https://www.trans...|\n",
      "+---------+----+--------------------+--------------+------------+---------+-----+-------+--------------+-------------+---------------+-----------------+----------------------+----------------+-----------------+-------------+--------+------------+----+------------+-------------------+---------------------------+----------+------------------------+------------------------------------+----------+-------------+-------------+--------------------+-----------+--------------------+\n",
      "\n"
     ]
    }
   ],
   "source": [
    "df_players_stats = df_result.join(df_players, [\"player_id\"], how='inner')\n",
    "df_players_stats.filter(df_players_stats.player_id == 148455).show()"
   ]
  },
  {
   "cell_type": "code",
   "execution_count": 137,
   "metadata": {},
   "outputs": [],
   "source": [
    "df_players_stats = df_players_stats.drop(\"current_club_id\", \"current_club_name\", \"city_of_birth\", \"market_value_in_eur\", \"contract_expiration_date\", \"agent_name\", \"current_club_domestic_competition_id\", \"image_url\", \"last_season\", \"url\", \"player_current_club_id\")"
   ]
  },
  {
   "cell_type": "code",
   "execution_count": 138,
   "metadata": {},
   "outputs": [
    {
     "name": "stdout",
     "output_type": "stream",
     "text": [
      "+---------+----+--------------------+--------------+------------+---------+-----+-------+--------------+-------------+----------------------+----------------+-------------+--------+------------+----+------------+---------------------------+----------+-------------+-------------+\n",
      "|player_id|year|      competition_id|player_club_id|yellow_cards|red_cards|goals|assists|minutes_played|         name|country_of_citizenship|country_of_birth|date_of_birth|position|sub_position|foot|height_in_cm|highest_market_value_in_eur|first_name|    last_name|  player_code|\n",
      "+---------+----+--------------------+--------------+------------+---------+-----+-------+--------------+-------------+----------------------+----------------+-------------+--------+------------+----+------------+---------------------------+----------+-------------+-------------+\n",
      "|   148455|2016|  [CL, EL, IT1, CLQ]|          [12]|           3|        0|   18|     10|          3549|Mohamed Salah|                 Egypt|           Egypt|   1992-06-15|  Attack|Right Winger|Left|         175|                      1.5E8|      null|Mohamed Salah|mohamed-salah|\n",
      "|   148455|2015|[CL, FAC, CIT, EL...|[12, 430, 631]|           3|        0|   15|      5|          3351|Mohamed Salah|                 Egypt|           Egypt|   1992-06-15|  Attack|Right Winger|Left|         175|                      1.5E8|      null|Mohamed Salah|mohamed-salah|\n",
      "|   148455|2014|           [CL, GB1]|         [631]|           0|        0|    0|      0|            89|Mohamed Salah|                 Egypt|           Egypt|   1992-06-15|  Attack|Right Winger|Left|         175|                      1.5E8|      null|Mohamed Salah|mohamed-salah|\n",
      "|   148455|2017|[CL, CIT, EL, IT1...|      [12, 31]|           0|        0|   33|     14|          3831|Mohamed Salah|                 Egypt|           Egypt|   1992-06-15|  Attack|Right Winger|Left|         175|                      1.5E8|      null|Mohamed Salah|mohamed-salah|\n",
      "|   148455|2019|[CL, GBCS, FAC, G...|          [31]|           2|        0|   26|     11|          4467|Mohamed Salah|                 Egypt|           Egypt|   1992-06-15|  Attack|Right Winger|Left|         175|                      1.5E8|      null|Mohamed Salah|mohamed-salah|\n",
      "|   148455|2018|      [CL, FAC, GB1]|          [31]|           2|        0|   37|     16|          4044|Mohamed Salah|                 Egypt|           Egypt|   1992-06-15|  Attack|Right Winger|Left|         175|                      1.5E8|      null|Mohamed Salah|mohamed-salah|\n",
      "|   148455|2020|[CL, GBCS, FAC, GB1]|          [31]|           1|        0|   26|     10|          3518|Mohamed Salah|                 Egypt|           Egypt|   1992-06-15|  Attack|Right Winger|Left|         175|                      1.5E8|      null|Mohamed Salah|mohamed-salah|\n",
      "|   148455|2021|      [CL, FAC, GB1]|          [31]|           1|        0|   37|     12|          4504|Mohamed Salah|                 Egypt|           Egypt|   1992-06-15|  Attack|Right Winger|Left|         175|                      1.5E8|      null|Mohamed Salah|mohamed-salah|\n",
      "|   148455|2022|[CL, CGB, GBCS, F...|          [31]|           0|        0|   25|     12|          3779|Mohamed Salah|                 Egypt|           Egypt|   1992-06-15|  Attack|Right Winger|Left|         175|                      1.5E8|      null|Mohamed Salah|mohamed-salah|\n",
      "|   148455|2023|      [CL, FAC, GB1]|          [31]|           2|        0|   10|      5|          1545|Mohamed Salah|                 Egypt|           Egypt|   1992-06-15|  Attack|Right Winger|Left|         175|                      1.5E8|      null|Mohamed Salah|mohamed-salah|\n",
      "+---------+----+--------------------+--------------+------------+---------+-----+-------+--------------+-------------+----------------------+----------------+-------------+--------+------------+----+------------+---------------------------+----------+-------------+-------------+\n",
      "\n"
     ]
    }
   ],
   "source": [
    "df_players_stats.filter(df_players_stats.player_id == 148455).show()"
   ]
  },
  {
   "cell_type": "code",
   "execution_count": 171,
   "metadata": {},
   "outputs": [
    {
     "name": "stdout",
     "output_type": "stream",
     "text": [
      "Number of rows:  72357\n"
     ]
    }
   ],
   "source": [
    "print(\"Number of rows: \", df_players_stats.count())"
   ]
  },
  {
   "cell_type": "code",
   "execution_count": 179,
   "metadata": {},
   "outputs": [
    {
     "name": "stdout",
     "output_type": "stream",
     "text": [
      "+----------+----------+----------+---------+---------------+-------------------+-----------------------------------+\n",
      "|      date|  datetime|  dateweek|player_id|current_club_id|market_value_in_eur|player_club_domestic_competition_id|\n",
      "+----------+----------+----------+---------+---------------+-------------------+-----------------------------------+\n",
      "|2010-06-06|2010-06-06|2010-05-31|   148455|             31|              25000|                                GB1|\n",
      "|2011-01-01|2011-01-01|2010-12-27|   148455|             31|              25000|                                GB1|\n",
      "|2011-05-09|2011-05-09|2011-05-09|   148455|             31|              50000|                                GB1|\n",
      "|2011-07-14|2011-07-14|2011-07-11|   148455|             31|             150000|                                GB1|\n",
      "|2011-12-25|2011-12-25|2011-12-19|   148455|             31|             300000|                                GB1|\n",
      "|2012-05-27|2012-05-27|2012-05-21|   148455|             31|            1500000|                                GB1|\n",
      "|2012-07-12|2012-07-12|2012-07-09|   148455|             31|            2500000|                                GB1|\n",
      "|2012-09-05|2012-09-05|2012-09-03|   148455|             31|            4000000|                                GB1|\n",
      "|2013-04-14|2013-04-14|2013-04-08|   148455|             31|            5000000|                                GB1|\n",
      "|2013-06-17|2013-06-17|2013-06-17|   148455|             31|            6500000|                                GB1|\n",
      "|2013-11-26|2013-11-26|2013-11-25|   148455|             31|            8500000|                                GB1|\n",
      "|2014-02-05|2014-02-05|2014-02-03|   148455|             31|           13000000|                                GB1|\n",
      "|2014-08-12|2014-08-12|2014-08-11|   148455|             31|           13000000|                                GB1|\n",
      "|2015-02-12|2015-02-12|2015-02-09|   148455|             31|           10000000|                                GB1|\n",
      "|2015-03-20|2015-03-20|2015-03-16|   148455|             31|           12000000|                                GB1|\n",
      "|2015-07-01|2015-07-01|2015-06-29|   148455|             31|           18000000|                                GB1|\n",
      "|2015-11-05|2015-11-05|2015-11-02|   148455|             31|           20000000|                                GB1|\n",
      "|2016-01-04|2016-01-04|2016-01-04|   148455|             31|           20000000|                                GB1|\n",
      "|2016-04-01|2016-04-01|2016-03-28|   148455|             31|           23000000|                                GB1|\n",
      "|2016-07-15|2016-07-15|2016-07-11|   148455|             31|           27000000|                                GB1|\n",
      "+----------+----------+----------+---------+---------------+-------------------+-----------------------------------+\n",
      "only showing top 20 rows\n",
      "\n"
     ]
    }
   ],
   "source": [
    "df_player_valutations.filter(df_player_valutations.player_id == 148455).show()"
   ]
  },
  {
   "cell_type": "code",
   "execution_count": 183,
   "metadata": {},
   "outputs": [
    {
     "name": "stdout",
     "output_type": "stream",
     "text": [
      "+----------+---------+-------------------+-----------------------------------+----+\n",
      "|      date|player_id|market_value_in_eur|player_club_domestic_competition_id|year|\n",
      "+----------+---------+-------------------+-----------------------------------+----+\n",
      "|2010-06-06|   148455|              25000|                                GB1|2010|\n",
      "|2011-01-01|   148455|              25000|                                GB1|2011|\n",
      "|2011-05-09|   148455|              50000|                                GB1|2011|\n",
      "|2011-07-14|   148455|             150000|                                GB1|2011|\n",
      "|2011-12-25|   148455|             300000|                                GB1|2011|\n",
      "|2012-05-27|   148455|            1500000|                                GB1|2012|\n",
      "|2012-07-12|   148455|            2500000|                                GB1|2012|\n",
      "|2012-09-05|   148455|            4000000|                                GB1|2012|\n",
      "|2013-04-14|   148455|            5000000|                                GB1|2013|\n",
      "|2013-06-17|   148455|            6500000|                                GB1|2013|\n",
      "|2013-11-26|   148455|            8500000|                                GB1|2013|\n",
      "|2014-02-05|   148455|           13000000|                                GB1|2014|\n",
      "|2014-08-12|   148455|           13000000|                                GB1|2014|\n",
      "|2015-02-12|   148455|           10000000|                                GB1|2015|\n",
      "|2015-03-20|   148455|           12000000|                                GB1|2015|\n",
      "|2015-07-01|   148455|           18000000|                                GB1|2015|\n",
      "|2015-11-05|   148455|           20000000|                                GB1|2015|\n",
      "|2016-01-04|   148455|           20000000|                                GB1|2016|\n",
      "|2016-04-01|   148455|           23000000|                                GB1|2016|\n",
      "|2016-07-15|   148455|           27000000|                                GB1|2016|\n",
      "|2017-01-02|   148455|           30000000|                                GB1|2017|\n",
      "|2017-06-08|   148455|           35000000|                                GB1|2017|\n",
      "|2017-10-23|   148455|           40000000|                                GB1|2017|\n",
      "|2018-01-02|   148455|           80000000|                                GB1|2018|\n",
      "|2018-05-28|   148455|          150000000|                                GB1|2018|\n",
      "|2018-12-19|   148455|          150000000|                                GB1|2018|\n",
      "|2019-06-13|   148455|          150000000|                                GB1|2019|\n",
      "|2019-12-10|   148455|          150000000|                                GB1|2019|\n",
      "|2020-04-08|   148455|          120000000|                                GB1|2020|\n",
      "|2020-10-13|   148455|          120000000|                                GB1|2020|\n",
      "+----------+---------+-------------------+-----------------------------------+----+\n",
      "only showing top 30 rows\n",
      "\n"
     ]
    }
   ],
   "source": [
    "#eliminare da df_players_valuatations le colonne datetime, dateweek, current_club_id, player_club_domestic_id\n",
    "df_player_valutations = df_player_valutations.drop(\"datetime\", \"dateweek\", \"current_club_id\", \"player_club_domestic_id\")\n",
    "#df_player_valutations.filter(df_player_valutations.player_id == 148455).show()\n",
    "#a df_players_valuatations aggiungere la colonna year che contiene solo l'anno della feature date\n",
    "from pyspark.sql.functions import year\n",
    "df_player_valutations_c = df_player_valutations.withColumn(\"year\", year(df_player_valutations.date))\n",
    "df_player_valutations_c.filter(df_player_valutations_c.player_id == 148455).show(30)"
   ]
  },
  {
   "cell_type": "code",
   "execution_count": 184,
   "metadata": {},
   "outputs": [
    {
     "name": "stdout",
     "output_type": "stream",
     "text": [
      "+----+---------+----------+\n",
      "|year|player_id|      date|\n",
      "+----+---------+----------+\n",
      "|2011|   148455|2011-12-25|\n",
      "|2014|   148455|2014-08-12|\n",
      "|2023|   148455|2023-03-16|\n",
      "|2015|   148455|2015-11-05|\n",
      "|2018|   148455|2018-12-19|\n",
      "|2021|   148455|2021-12-23|\n",
      "|2012|   148455|2012-09-05|\n",
      "|2016|   148455|2016-07-15|\n",
      "|2013|   148455|2013-11-26|\n",
      "|2022|   148455|2022-11-03|\n",
      "|2019|   148455|2019-12-10|\n",
      "|2020|   148455|2020-10-13|\n",
      "|2017|   148455|2017-10-23|\n",
      "|2010|   148455|2010-06-06|\n",
      "+----+---------+----------+\n",
      "\n"
     ]
    }
   ],
   "source": [
    "#in df_player_valutations, per ogni coppia (year,player_id) lasciare solo l'istanza con l'ultimo date dell'anno year\n",
    "from pyspark.sql.functions import max\n",
    "df_player_valutations_c = df_player_valutations_c.groupBy(\"year\", \"player_id\").agg(max(\"date\").alias(\"date\")).select(\"year\", \"player_id\", \"date\")\n",
    "df_player_valutations_c.filter(df_player_valutations_c.player_id == 148455).show()"
   ]
  },
  {
   "cell_type": "code",
   "execution_count": 144,
   "metadata": {},
   "outputs": [
    {
     "name": "stdout",
     "output_type": "stream",
     "text": [
      "+----+---------+----------+-------------------+\n",
      "|year|player_id|      date|market_value_in_eur|\n",
      "+----+---------+----------+-------------------+\n",
      "|2010|   148455|2010-06-06|              25000|\n",
      "|2011|   148455|2011-12-25|             300000|\n",
      "|2012|   148455|2012-09-05|            4000000|\n",
      "|2013|   148455|2013-11-26|            8500000|\n",
      "|2014|   148455|2014-08-12|           13000000|\n",
      "|2015|   148455|2015-11-05|           20000000|\n",
      "|2016|   148455|2016-07-15|           27000000|\n",
      "|2017|   148455|2017-10-23|           40000000|\n",
      "|2018|   148455|2018-12-19|          150000000|\n",
      "|2019|   148455|2019-12-10|          150000000|\n",
      "|2020|   148455|2020-10-13|          120000000|\n",
      "|2021|   148455|2021-12-23|          100000000|\n",
      "|2022|   148455|2022-11-03|           80000000|\n",
      "|2023|   148455|2023-03-16|           70000000|\n",
      "+----+---------+----------+-------------------+\n",
      "\n"
     ]
    }
   ],
   "source": [
    "#join tra df_player_valutations_c e df_player_valutations su player_id. Da df_player_valutations prendere solo la colonna market_value_in_eur\n",
    "df_player_valutations = df_player_valutations.join(df_player_valutations_c, [\"year\", \"player_id\", \"date\"], how='inner').select(\"year\", \"player_id\", \"date\", \"market_value_in_eur\")\n",
    "df_player_valutations.filter(df_player_valutations.player_id == 148455).show()"
   ]
  },
  {
   "cell_type": "code",
   "execution_count": 145,
   "metadata": {},
   "outputs": [
    {
     "name": "stdout",
     "output_type": "stream",
     "text": [
      "+---------+----+--------------+--------------+------------+---------+-----+-------+--------------+------------------+----------------------+-----------------+-------------+----------+------------------+-----+------------+---------------------------+----------+------------+------------------+----------+-------------------+\n",
      "|player_id|year|competition_id|player_club_id|yellow_cards|red_cards|goals|assists|minutes_played|              name|country_of_citizenship| country_of_birth|date_of_birth|  position|      sub_position| foot|height_in_cm|highest_market_value_in_eur|first_name|   last_name|       player_code|      date|market_value_in_eur|\n",
      "+---------+----+--------------+--------------+------------+---------+-----+-------+--------------+------------------+----------------------+-----------------+-------------+----------+------------------+-----+------------+---------------------------+----------+------------+------------------+----------+-------------------+\n",
      "|       26|2017|      [CL, L1]|          [16]|           0|        0|    0|      0|           181|Roman Weidenfeller|               Germany|          Germany|   1980-08-06|Goalkeeper|              null| Left|         190|                  8000000.0|     Roman|Weidenfeller|roman-weidenfeller|2017-12-28|             750000|\n",
      "|      215|2014|    [ES1, CDR]|        [1084]|           0|        0|    5|      1|           985|  Roque Santa Cruz|              Paraguay|         Paraguay|   1981-08-16|    Attack|    Centre-Forward|Right|         193|                      1.2E7|     Roque|  Santa Cruz|  roque-santa-cruz|2014-07-20|            2000000|\n",
      "|      488|2014|         [GB1]|        [2288]|           0|        0|    0|      0|           109|   Gerhard Tremmel|               Germany|          Germany|   1978-11-16|Goalkeeper|              null| null|           0|                  2200000.0|   Gerhard|     Tremmel|   gerhard-tremmel|2014-08-12|            1000000|\n",
      "|      532|2014| [CL, DFB, L1]|          [27]|           0|        0|    1|      0|           216|   Claudio Pizarro|                  Peru|             Peru|   1978-10-03|    Attack|    Centre-Forward|Right|         184|                      1.2E7|   Claudio|     Pizarro|   claudio-pizarro|2014-07-10|            1000000|\n",
      "|      532|2016|     [DFB, L1]|          [86]|           2|        0|   13|      4|          1854|   Claudio Pizarro|                  Peru|             Peru|   1978-10-03|    Attack|    Centre-Forward|Right|         184|                      1.2E7|   Claudio|     Pizarro|   claudio-pizarro|2016-07-22|            1000000|\n",
      "|      532|2017|          [L1]|       [86, 3]|           1|        0|    1|      0|           573|   Claudio Pizarro|                  Peru|             Peru|   1978-10-03|    Attack|    Centre-Forward|Right|         184|                      1.2E7|   Claudio|     Pizarro|   claudio-pizarro|2017-12-28|            1000000|\n",
      "|      532|2020|          [L1]|          [86]|           0|        0|    0|      0|            36|   Claudio Pizarro|                  Peru|             Peru|   1978-10-03|    Attack|    Centre-Forward|Right|         184|                      1.2E7|   Claudio|     Pizarro|   claudio-pizarro|2020-04-08|             400000|\n",
      "|      568|2015| [DFB, L1, EL]|          [18]|           2|        0|    0|      0|           902|    Martin Stranzl|               Austria|          Austria|   1980-06-16|  Defender|       Centre-Back| null|           0|                  4500000.0|    Martin|     Stranzl|    martin-stranzl|2015-07-01|            1500000|\n",
      "|      597|2014|         [TR1]|        [2293]|           1|        0|    0|      2|          1157|    Aleksandr Hleb|               Belarus|            UdSSR|   1981-05-01|    Attack|Attacking Midfield|Right|         185|                      1.9E7| Aleksandr|        Hleb|    aleksandr-hleb|2014-08-11|            1200000|\n",
      "|      597|2017|         [RU1]|        [2696]|           0|        0|    0|      0|           347|    Aleksandr Hleb|               Belarus|            UdSSR|   1981-05-01|    Attack|Attacking Midfield|Right|         185|                      1.9E7| Aleksandr|        Hleb|    aleksandr-hleb|2017-06-01|             200000|\n",
      "|      691|2015| [CL, DFB, L1]|          [15]|           3|        0|    1|      1|          1180|      Simon Rolfes|               Germany|          Germany|   1982-01-21|  Midfield|Defensive Midfield| Left|         191|                  9500000.0|     Simon|      Rolfes|      simon-rolfes|2015-02-04|            2000000|\n",
      "|      933|2015|         [TR1]|        [2293]|           4|        0|    1|      1|          1684|      Ugur Inceman|                Turkey|          Germany|   1981-05-25|  Midfield|  Central Midfield|Right|         183|                  3000000.0|      Ugur|     Inceman|      ugur-inceman|2015-06-25|             200000|\n",
      "|      933|2016|    [NLP, NL1]|         [192]|           4|        0|    1|      1|          1529|      Ugur Inceman|                Turkey|          Germany|   1981-05-25|  Midfield|  Central Midfield|Right|         183|                  3000000.0|      Ugur|     Inceman|      ugur-inceman|2016-07-14|             350000|\n",
      "|     1126|2016|     [DFB, L1]|           [3]|           7|        0|    0|      3|          2325|  Matthias Lehmann|               Germany|          Germany|   1983-05-28|  Midfield|Defensive Midfield| null|           0|                  2500000.0|  Matthias|     Lehmann|  matthias-lehmann|2016-07-22|             750000|\n",
      "|     1139|2014|     [ELQ, L1]|          [39]|           2|        0|    0|      0|           416|   Nikolce Noveski|       North Macedonia|Jugoslawien (SFR)|   1979-04-28|  Defender|       Centre-Back| null|           0|                  3000000.0|   Nikolce|     Noveski|   nikolce-noveski|2014-07-10|            1000000|\n",
      "|     1331|2016|          [L1]|         [533]|           0|        0|    0|      0|            93|     Kevin Kuranyi|               Germany|           Brazil|   1982-03-02|    Attack|    Centre-Forward| null|           0|                      1.2E7|     Kevin|     Kuranyi|     kevin-kuranyi|2016-02-15|            1250000|\n",
      "|     1423|2016|         [FR1]|         [855]|           1|        0|    0|      1|          1310|     Lars Jacobsen|               Denmark|          Denmark|   1979-09-20|  Defender|        Right-Back| Both|         181|                  2500000.0|      Lars|    Jacobsen|     lars-jacobsen|2016-02-04|             500000|\n",
      "|     1565|2014|     [DFB, L1]|          [24]|           0|        0|   14|      1|          1330|   Alexander Meier|               Germany|          Germany|   1983-01-17|    Attack|    Second Striker|Right|         196|                  4500000.0| Alexander|       Meier|   alexander-meier|2014-07-10|            3000000|\n",
      "|     1586|2014|     [DFB, L1]|          [42]|           6|        0|    0|      0|          1530|  Christian Schulz|               Germany|          Germany|   1983-04-01|  Defender|       Centre-Back| Left|         185|                  4500000.0| Christian|      Schulz|  christian-schulz|2014-07-10|            2000000|\n",
      "|     1586|2016|          [L1]|          [42]|           2|        0|    2|      0|           683|  Christian Schulz|               Germany|          Germany|   1983-04-01|  Defender|       Centre-Back| Left|         185|                  4500000.0| Christian|      Schulz|  christian-schulz|2016-12-22|             750000|\n",
      "+---------+----+--------------+--------------+------------+---------+-----+-------+--------------+------------------+----------------------+-----------------+-------------+----------+------------------+-----+------------+---------------------------+----------+------------+------------------+----------+-------------------+\n",
      "only showing top 20 rows\n",
      "\n"
     ]
    }
   ],
   "source": [
    "#merge tra df_players_stats e df_player_valutations su player_id e year\n",
    "df_players_stats = df_players_stats.join(df_player_valutations, [\"player_id\", \"year\"], how='inner')\n",
    "df_players_stats.show()"
   ]
  },
  {
   "cell_type": "code",
   "execution_count": 146,
   "metadata": {},
   "outputs": [
    {
     "name": "stdout",
     "output_type": "stream",
     "text": [
      "+---------+----+--------------------+--------------+------------+---------+-----+-------+--------------+-------------+----------------------+----------------+-------------+--------+------------+----+------------+---------------------------+----------+-------------+-------------+----------+-------------------+\n",
      "|player_id|year|      competition_id|player_club_id|yellow_cards|red_cards|goals|assists|minutes_played|         name|country_of_citizenship|country_of_birth|date_of_birth|position|sub_position|foot|height_in_cm|highest_market_value_in_eur|first_name|    last_name|  player_code|      date|market_value_in_eur|\n",
      "+---------+----+--------------------+--------------+------------+---------+-----+-------+--------------+-------------+----------------------+----------------+-------------+--------+------------+----+------------+---------------------------+----------+-------------+-------------+----------+-------------------+\n",
      "|   148455|2014|           [CL, GB1]|         [631]|           0|        0|    0|      0|            89|Mohamed Salah|                 Egypt|           Egypt|   1992-06-15|  Attack|Right Winger|Left|         175|                      1.5E8|      null|Mohamed Salah|mohamed-salah|2014-08-12|           13000000|\n",
      "|   148455|2015|[CL, FAC, CIT, EL...|[12, 430, 631]|           3|        0|   15|      5|          3351|Mohamed Salah|                 Egypt|           Egypt|   1992-06-15|  Attack|Right Winger|Left|         175|                      1.5E8|      null|Mohamed Salah|mohamed-salah|2015-11-05|           20000000|\n",
      "|   148455|2016|  [CL, EL, IT1, CLQ]|          [12]|           3|        0|   18|     10|          3549|Mohamed Salah|                 Egypt|           Egypt|   1992-06-15|  Attack|Right Winger|Left|         175|                      1.5E8|      null|Mohamed Salah|mohamed-salah|2016-07-15|           27000000|\n",
      "|   148455|2017|[CL, CIT, EL, IT1...|      [12, 31]|           0|        0|   33|     14|          3831|Mohamed Salah|                 Egypt|           Egypt|   1992-06-15|  Attack|Right Winger|Left|         175|                      1.5E8|      null|Mohamed Salah|mohamed-salah|2017-10-23|           40000000|\n",
      "|   148455|2018|      [CL, FAC, GB1]|          [31]|           2|        0|   37|     16|          4044|Mohamed Salah|                 Egypt|           Egypt|   1992-06-15|  Attack|Right Winger|Left|         175|                      1.5E8|      null|Mohamed Salah|mohamed-salah|2018-12-19|          150000000|\n",
      "|   148455|2019|[CL, GBCS, FAC, G...|          [31]|           2|        0|   26|     11|          4467|Mohamed Salah|                 Egypt|           Egypt|   1992-06-15|  Attack|Right Winger|Left|         175|                      1.5E8|      null|Mohamed Salah|mohamed-salah|2019-12-10|          150000000|\n",
      "|   148455|2020|[CL, GBCS, FAC, GB1]|          [31]|           1|        0|   26|     10|          3518|Mohamed Salah|                 Egypt|           Egypt|   1992-06-15|  Attack|Right Winger|Left|         175|                      1.5E8|      null|Mohamed Salah|mohamed-salah|2020-10-13|          120000000|\n",
      "|   148455|2021|      [CL, FAC, GB1]|          [31]|           1|        0|   37|     12|          4504|Mohamed Salah|                 Egypt|           Egypt|   1992-06-15|  Attack|Right Winger|Left|         175|                      1.5E8|      null|Mohamed Salah|mohamed-salah|2021-12-23|          100000000|\n",
      "|   148455|2022|[CL, CGB, GBCS, F...|          [31]|           0|        0|   25|     12|          3779|Mohamed Salah|                 Egypt|           Egypt|   1992-06-15|  Attack|Right Winger|Left|         175|                      1.5E8|      null|Mohamed Salah|mohamed-salah|2022-11-03|           80000000|\n",
      "|   148455|2023|      [CL, FAC, GB1]|          [31]|           2|        0|   10|      5|          1545|Mohamed Salah|                 Egypt|           Egypt|   1992-06-15|  Attack|Right Winger|Left|         175|                      1.5E8|      null|Mohamed Salah|mohamed-salah|2023-03-16|           70000000|\n",
      "+---------+----+--------------------+--------------+------------+---------+-----+-------+--------------+-------------+----------------------+----------------+-------------+--------+------------+----+------------+---------------------------+----------+-------------+-------------+----------+-------------------+\n",
      "\n"
     ]
    }
   ],
   "source": [
    "df_players_stats.filter(df_players_stats.player_id == 148455).show()"
   ]
  },
  {
   "cell_type": "code",
   "execution_count": 185,
   "metadata": {},
   "outputs": [
    {
     "name": "stdout",
     "output_type": "stream",
     "text": [
      "Number of rows:  72357\n"
     ]
    }
   ],
   "source": [
    "print(\"Number of rows: \", df_players_stats.count())"
   ]
  },
  {
   "cell_type": "code",
   "execution_count": 1,
   "metadata": {},
   "outputs": [],
   "source": [
    "# a df_players_stats aggiungere la colonna partite_giocate che contiene il numero di partite giocate dalle sue squadre (player_club_id) in year;\n",
    "# a df_player_stats aggiungere la colonna punti_ottenuti che contiene il numero di punti ottenuti dalle sue squadre (player_club_id) in year; (3 punti per vittoria, 1 per pareggio, 0 per sconfitta)\n",
    "# a df_player_stats aggiungere la colonna media_punti che contiene la media dei punti ottenuti dalle sue squadre (player_club_id) in year; (ottenerla dalle colonne partite_giocate e punti_ottenuti)"
   ]
  },
  {
   "cell_type": "code",
   "execution_count": null,
   "metadata": {},
   "outputs": [],
   "source": []
  }
 ],
 "metadata": {
  "kernelspec": {
   "display_name": "Python 3",
   "language": "python",
   "name": "python3"
  },
  "language_info": {
   "codemirror_mode": {
    "name": "ipython",
    "version": 3
   },
   "file_extension": ".py",
   "mimetype": "text/x-python",
   "name": "python",
   "nbconvert_exporter": "python",
   "pygments_lexer": "ipython3",
   "version": "3.10.9"
  },
  "orig_nbformat": 4
 },
 "nbformat": 4,
 "nbformat_minor": 2
}
