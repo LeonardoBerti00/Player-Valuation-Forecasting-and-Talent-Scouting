{
 "cells": [
  {
   "attachments": {},
   "cell_type": "markdown",
   "metadata": {},
   "source": [
    "# **Task 2**\n",
    "**Clustering**: In task 2 a new dataset will be introduced. The new dataset will be partially merged with the one obtained in feature engineering and preprocessing. The goal will be to create clusters made up of players with similar characteristics. The final partition will be used to scout young talents."
   ]
  },
  {
   "attachments": {},
   "cell_type": "markdown",
   "metadata": {},
   "source": [
    "Imported libraries"
   ]
  },
  {
   "cell_type": "code",
   "execution_count": 59,
   "metadata": {
    "ExecuteTime": {
     "end_time": "2023-05-23T16:07:53.696112200Z",
     "start_time": "2023-05-23T16:07:53.101157900Z"
    }
   },
   "outputs": [],
   "source": [
    "import pyspark\n",
    "from pyspark.sql.types import *\n",
    "from pyspark.sql.functions import *\n",
    "import numpy as np\n",
    "from pyspark.sql import SparkSession\n",
    "from pyspark.conf import SparkConf\n",
    "from pyspark.ml.feature import *\n",
    "from pyspark.ml.clustering import KMeans\n",
    "from pyspark.ml.evaluation import ClusteringEvaluator\n",
    "import matplotlib.pyplot as plt\n",
    "import os\n",
    "import numpy as np\n",
    "from sklearn.metrics.pairwise import cosine_similarity\n",
    "from sklearn.preprocessing import OneHotEncoder\n",
    "import copy"
   ]
  },
  {
   "attachments": {},
   "cell_type": "markdown",
   "metadata": {},
   "source": [
    "Creating the pyspark session"
   ]
  },
  {
   "cell_type": "code",
   "execution_count": 60,
   "metadata": {
    "ExecuteTime": {
     "end_time": "2023-05-23T16:07:55.701337500Z",
     "start_time": "2023-05-23T16:07:53.698133200Z"
    }
   },
   "outputs": [
    {
     "data": {
      "text/plain": [
       "[('spark.app.id', 'local-1686488199021'),\n",
       " ('spark.sql.warehouse.dir',\n",
       "  'file:/C:/Users/marco/Desktop/BDC/BDC_project/talent_scouting/spark-warehouse'),\n",
       " ('spark.executor.memory', '15G'),\n",
       " ('spark.driver.host', 'laptop-jllvbepm.tailaca27.ts.net.'),\n",
       " ('spark.executor.id', 'driver'),\n",
       " ('spark.driver.memory', '50G'),\n",
       " ('spark.executor.cores', '10'),\n",
       " ('spark.app.name', 'PySparkProject'),\n",
       " ('spark.driver.extraJavaOptions',\n",
       "  '-Djava.net.preferIPv6Addresses=false -XX:+IgnoreUnrecognizedVMOptions --add-opens=java.base/java.lang=ALL-UNNAMED --add-opens=java.base/java.lang.invoke=ALL-UNNAMED --add-opens=java.base/java.lang.reflect=ALL-UNNAMED --add-opens=java.base/java.io=ALL-UNNAMED --add-opens=java.base/java.net=ALL-UNNAMED --add-opens=java.base/java.nio=ALL-UNNAMED --add-opens=java.base/java.util=ALL-UNNAMED --add-opens=java.base/java.util.concurrent=ALL-UNNAMED --add-opens=java.base/java.util.concurrent.atomic=ALL-UNNAMED --add-opens=java.base/sun.nio.ch=ALL-UNNAMED --add-opens=java.base/sun.nio.cs=ALL-UNNAMED --add-opens=java.base/sun.security.action=ALL-UNNAMED --add-opens=java.base/sun.util.calendar=ALL-UNNAMED --add-opens=java.security.jgss/sun.security.krb5=ALL-UNNAMED -Djdk.reflect.useDirectMethodHandle=false'),\n",
       " ('spark.ui.port', '4050'),\n",
       " ('spark.driver.maxResultSize', '40G'),\n",
       " ('spark.app.startTime', '1686488197121'),\n",
       " ('spark.rdd.compress', 'True'),\n",
       " ('spark.app.submitTime', '1686488196820'),\n",
       " ('spark.serializer.objectStreamReset', '100'),\n",
       " ('spark.master', 'local[*]'),\n",
       " ('spark.submit.pyFiles', ''),\n",
       " ('spark.submit.deployMode', 'client'),\n",
       " ('spark.driver.port', '52736'),\n",
       " ('spark.ui.showConsoleProgress', 'true'),\n",
       " ('spark.executor.extraJavaOptions',\n",
       "  '-Djava.net.preferIPv6Addresses=false -XX:+IgnoreUnrecognizedVMOptions --add-opens=java.base/java.lang=ALL-UNNAMED --add-opens=java.base/java.lang.invoke=ALL-UNNAMED --add-opens=java.base/java.lang.reflect=ALL-UNNAMED --add-opens=java.base/java.io=ALL-UNNAMED --add-opens=java.base/java.net=ALL-UNNAMED --add-opens=java.base/java.nio=ALL-UNNAMED --add-opens=java.base/java.util=ALL-UNNAMED --add-opens=java.base/java.util.concurrent=ALL-UNNAMED --add-opens=java.base/java.util.concurrent.atomic=ALL-UNNAMED --add-opens=java.base/sun.nio.ch=ALL-UNNAMED --add-opens=java.base/sun.nio.cs=ALL-UNNAMED --add-opens=java.base/sun.security.action=ALL-UNNAMED --add-opens=java.base/sun.util.calendar=ALL-UNNAMED --add-opens=java.security.jgss/sun.security.krb5=ALL-UNNAMED -Djdk.reflect.useDirectMethodHandle=false')]"
      ]
     },
     "execution_count": 60,
     "metadata": {},
     "output_type": "execute_result"
    }
   ],
   "source": [
    "# Create the session\n",
    "conf = SparkConf(). \\\n",
    "    set('spark.ui.port', \"4050\"). \\\n",
    "    set('spark.executor.memory', '15G'). \\\n",
    "    set('spark.driver.memory', '50G'). \\\n",
    "    set('spark.driver.maxResultSize', '40G'). \\\n",
    "    setAppName(\"PySparkProject\"). \\\n",
    "    set('spark.executor.cores', \"10\"). \\\n",
    "    setMaster(\"local[*]\")\n",
    "\n",
    "sc = pyspark.SparkContext.getOrCreate(conf=conf)\n",
    "spark = SparkSession.builder.getOrCreate()\n",
    "\n",
    "sc._conf.getAll()"
   ]
  },
  {
   "attachments": {},
   "cell_type": "markdown",
   "metadata": {},
   "source": [
    "## **Dataset handling**"
   ]
  },
  {
   "attachments": {},
   "cell_type": "markdown",
   "metadata": {},
   "source": [
    "Loading the new dataset and the dataset obtained from feature_engineering.ipynb"
   ]
  },
  {
   "cell_type": "code",
   "execution_count": 3,
   "metadata": {},
   "outputs": [],
   "source": [
    "# Load cvs fifa23 dataset files pyspark\n",
    "df = spark.read.csv(\"fifa23players.csv\", header=True, inferSchema=True)"
   ]
  },
  {
   "cell_type": "code",
   "execution_count": 7,
   "metadata": {
    "ExecuteTime": {
     "end_time": "2023-05-23T16:07:58.431786400Z",
     "start_time": "2023-05-23T16:07:55.701337500Z"
    }
   },
   "outputs": [],
   "source": [
    "# Load csv dataset, obtained from the feature engineering process\n",
    "df_ = spark.read.csv(\"../dataset.csv\", header=True, inferSchema=True)"
   ]
  },
  {
   "attachments": {},
   "cell_type": "markdown",
   "metadata": {},
   "source": [
    "### **Feature Engineering and Pre Processing Phase**"
   ]
  },
  {
   "cell_type": "code",
   "execution_count": 8,
   "metadata": {
    "ExecuteTime": {
     "end_time": "2023-05-23T16:07:59.545372Z",
     "start_time": "2023-05-23T16:07:59.513502900Z"
    }
   },
   "outputs": [],
   "source": [
    "# Drop some df_ columns that are not useful for the task\n",
    "df_ = df_.drop(\"clubs_id\", \"name\", \"competitions_id\", \"sub_position\", \"position\", \"citizenship\", \"current_club_id\", \"winning_rate_club\", \"winning_rate_pl\", \"games_lost_pl\",\n",
    "         \"games_draw_pl\", \"games_won_pl\", \"appearances\", \"yellow_cards\", \"red_cards\", \"minutes_played\", \"goals\", \"assists\", \"height\", \"age\", \"market_value\")"
   ]
  },
  {
   "attachments": {},
   "cell_type": "markdown",
   "metadata": {},
   "source": [
    "Filtering the dataset df_ : It must be composed by the instances whose date_v is in 2022. "
   ]
  },
  {
   "cell_type": "code",
   "execution_count": 9,
   "metadata": {},
   "outputs": [],
   "source": [
    "# delete the instances from df_ in which date_v is not in the year 2022\n",
    "df_ = df_.filter(year(df_.date_v) == \"2022\")"
   ]
  },
  {
   "attachments": {},
   "cell_type": "markdown",
   "metadata": {},
   "source": [
    "Filtering the dataset df_ : for each player must be remain only the instance with date_v closest to 2022-06-15"
   ]
  },
  {
   "cell_type": "code",
   "execution_count": 10,
   "metadata": {},
   "outputs": [],
   "source": [
    "# Define the reference date as \"2022-06-15\" using lit\n",
    "target_date = lit(\"2022-06-15\").cast(\"date\")"
   ]
  },
  {
   "cell_type": "code",
   "execution_count": 14,
   "metadata": {},
   "outputs": [],
   "source": [
    "# Compute the difference in days between date_v and the reference date\n",
    "df_with_diff = df_.withColumn(\"date_diff\", when(col(\"date_v\") > target_date, col(\"date_v\") - target_date)\n",
    "                                 .otherwise(target_date - col(\"date_v\")))\n",
    "\n",
    "# Find the closest date to \"2022-06-15\" for each player_id\n",
    "closest_date = df_with_diff.groupBy(\"player_id\").agg(min(\"date_diff\").alias(\"min_date_diff\"))\n",
    "\n",
    "# Join the original DataFrame with the DataFrame of the closest dates\n",
    "df_ = df_with_diff.join(closest_date, on=[\"player_id\"]).where(col(\"date_diff\") == col(\"min_date_diff\"))\n",
    "\n",
    "# Remove the date_diff column if it is not necessary\n",
    "df_ = df_.drop(\"date_diff\", \"min_date_diff\")"
   ]
  },
  {
   "cell_type": "code",
   "execution_count": 15,
   "metadata": {},
   "outputs": [],
   "source": [
    "# Remove (player_id, date_v) duplicates\n",
    "df_ = df_.dropDuplicates([\"player_id\", \"date_v\"])"
   ]
  },
  {
   "attachments": {},
   "cell_type": "markdown",
   "metadata": {},
   "source": [
    "Removing the player_id with last_valuation equal to 0 (if their last_valuation is 0, they are probably not present in the fifa23players dataset)\n"
   ]
  },
  {
   "cell_type": "code",
   "execution_count": 16,
   "metadata": {},
   "outputs": [],
   "source": [
    "# remove the player_id with last_valuation equal to 0\n",
    "df_ = df_.filter(df_.last_valuation != 0)"
   ]
  },
  {
   "attachments": {},
   "cell_type": "markdown",
   "metadata": {},
   "source": [
    "Through the player_id key we get information about the players contained in player_id"
   ]
  },
  {
   "cell_type": "code",
   "execution_count": 19,
   "metadata": {},
   "outputs": [],
   "source": [
    "# Load the cvs players to obtain some crucial information for the merge\n",
    "df_players = spark.read.csv(\"../archive/players.csv\", header=True, inferSchema=True)"
   ]
  },
  {
   "cell_type": "code",
   "execution_count": 20,
   "metadata": {},
   "outputs": [],
   "source": [
    "# join the two datasets on player_id\n",
    "df_ = df_.join(df_players, on=[\"player_id\"])"
   ]
  },
  {
   "cell_type": "code",
   "execution_count": 21,
   "metadata": {},
   "outputs": [],
   "source": [
    "# drop some columns that are not useful for the task\n",
    "df_ = df_.drop(\"current_club_id\", \"current_club_name\", \"country_of_birth\", \"city_of_birth\", \"foot\", \"height_in_cm\", \"market_value_in_eur\", \"highest_market_value_in_eur\", \"agent_name\", \"contract_expiration_date\", \"current_club_domestic_competition_id\", \"player_code\", \"image_url\", \"last_season\", \"url\")"
   ]
  },
  {
   "cell_type": "code",
   "execution_count": 22,
   "metadata": {},
   "outputs": [],
   "source": [
    "# drop duplicates on player_id\n",
    "df = df.dropDuplicates([\"player_id\"])"
   ]
  },
  {
   "attachments": {},
   "cell_type": "markdown",
   "metadata": {},
   "source": [
    "We have to drop some not very useful features:\n",
    "\n",
    " .   ls\n",
    " ,  st\n",
    " ,  rs\n",
    " ,  lw\n",
    " ,  lf\n",
    " ,  cf\n",
    " ,  rf\n",
    " ,  rw\n",
    " ,  lam\n",
    " ,  cam\n",
    " ,  ram\n",
    " ,  lm\n",
    " ,  lcm\n",
    " ,  cm\n",
    " ,  rcm\n",
    " ,  rm\n",
    " ,  lwb\n",
    " ,  ldm\n",
    " ,  cdm\n",
    " ,  rdm\n",
    " ,  rwb\n",
    " ,  lb\n",
    " ,  lcb\n",
    " ,  cb\n",
    " ,  rcb\n",
    " , rb\n",
    " ,  gk\n",
    " ,  player_face_url\n",
    " ,  body_type\n",
    " ,  real_face\n",
    " ,  release_clause_eur\n",
    " ,  player_tags\n",
    " ,  player_traits\n",
    " ,  international_reputation\n",
    " ,  club_jersey_number\n",
    " ,  club_loaned_from\n",
    " ,  club_joined_date\n",
    " ,  club_contract_valid_until_year\n",
    " ,  nationality_id\n",
    " ,  nationality_name\n",
    " ,  nation_team_id\n",
    " ,  nation_position\n",
    " ,  nation_jersey_number\n",
    " ,  league_id\n",
    " ,  league_name\n",
    " ,  league_level\n",
    " ,  club_team_id\n",
    " ,  club_name\n",
    " ,  club_position\n",
    " ,  potential\n",
    " ,  value_eur\n",
    " ,  wage_eur\n",
    " ,  age\n",
    " ,  player_positions\n",
    " ,  player_id\n",
    " ,  player_url\n",
    " ,  fifa_version\n",
    " ,  fifa_update\n",
    " ,  fifa_update_date"
   ]
  },
  {
   "attachments": {},
   "cell_type": "markdown",
   "metadata": {},
   "source": [
    "We copy and paste, from the print schema method, the useless columns and we use regex to extract the name of each column"
   ]
  },
  {
   "cell_type": "code",
   "execution_count": 23,
   "metadata": {},
   "outputs": [],
   "source": [
    "import re\n",
    "str = \"|-- ls: string (nullable = true)|-- st: string (nullable = true)|-- rs: string (nullable = true)|-- lw: string (nullable = true)|-- lf: string (nullable = true)|-- cf: string (nullable = true)|-- rf: string (nullable = true)|-- rw: string (nullable = true)|-- lam: string (nullable = true)|-- cam: string (nullable = true)|-- ram: string (nullable = true)|-- lm: string (nullable = true)|-- lcm: string (nullable = true)|-- cm: string (nullable = true)|-- rcm: string (nullable = true)|-- rm: string (nullable = true)|-- lwb: string (nullable = true)|-- ldm: string (nullable = true)|-- cdm: string (nullable = true)|-- rdm: string (nullable = true)|-- rwb: string (nullable = true)|-- lb: string (nullable = true)|-- lcb: string (nullable = true)|-- cb: string (nullable = true)|-- rcb: string (nullable = true)|-- rb: string (nullable = true)|-- gk: string (nullable = true)|-- player_face_url: string (nullable = true)|-- body_type: string (nullable = true)|-- real_face: string (nullable = true)|-- release_clause_eur: integer (nullable = true)|-- player_tags: string (nullable = true)|-- player_traits: string (nullable = true)|-- international_reputation: integer (nullable = true)|-- club_jersey_number: integer (nullable = true)|-- club_loaned_from: string (nullable = true)|-- club_joined_date: date (nullable = true)|-- club_contract_valid_until_year: integer (nullable = true)|-- nationality_id: integer (nullable = true)|-- nation_team_id: integer (nullable = true)|-- nation_position: string (nullable = true)|-- nation_jersey_number: integer (nullable = true)|-- league_id: integer (nullable = true)|-- league_name: string (nullable = true)|-- league_level: integer (nullable = true)|-- club_team_id: integer (nullable = true)|-- club_name: string (nullable = true)|-- club_position: string (nullable = true)|-- potential: integer (nullable = true)|-- value_eur: integer (nullable = true)|-- wage_eur: integer (nullable = true)|-- age: integer (nullable = true)|-- player_positions: string (nullable = true)|-- player_id: integer (nullable = true)|-- player_url: string (nullable = true)|-- fifa_version: integer (nullable = true)|-- fifa_update: integer (nullable = true)|-- fifa_update_date: date (nullable = true)\"\n",
    "pattern = pattern = r\"(?<=- ).*?(?=: )\"\n",
    "elements_to_drop = re.findall(pattern, str)"
   ]
  },
  {
   "cell_type": "code",
   "execution_count": 24,
   "metadata": {},
   "outputs": [],
   "source": [
    "for element in elements_to_drop:\n",
    "    df = df.drop(element)"
   ]
  },
  {
   "attachments": {},
   "cell_type": "markdown",
   "metadata": {},
   "source": [
    "Merging the fifa dataset and the dataset obtained in feature_engineering.ipynb:\n",
    "in this case the difficulty is finding the parameters on which to join. We have opted in the union on the couple (date of birth, nationality)"
   ]
  },
  {
   "cell_type": "code",
   "execution_count": 25,
   "metadata": {},
   "outputs": [],
   "source": [
    "# join df and df_ in which df.dob == df_.date_of_birth and df_.country_of_citizenship == df.nationality_name\n",
    "joined_df = df.join(df_, (df.dob == df_.date_of_birth) & (df_.country_of_citizenship == df.nationality_name))"
   ]
  },
  {
   "cell_type": "code",
   "execution_count": 26,
   "metadata": {},
   "outputs": [],
   "source": [
    "# count the number of distinct player_id\n",
    "#print(joined_df.select(\"player_id\").distinct().count())\n",
    "# count the number of rows\n",
    "#print(joined_df.count())"
   ]
  },
  {
   "attachments": {},
   "cell_type": "markdown",
   "metadata": {},
   "source": [
    "Removing from df the player_id that occurre more than once"
   ]
  },
  {
   "cell_type": "code",
   "execution_count": 27,
   "metadata": {},
   "outputs": [],
   "source": [
    "count_df = joined_df.groupBy(\"player_id\").agg(count(\"*\").alias(\"count\"))\n",
    "df = joined_df.join(count_df, \"player_id\").filter(count_df[\"count\"] == 1).drop(\"count\") # we will add to df the instances obtained from the filtered df \n",
    "#print(df.select(\"player_id\").distinct().count())"
   ]
  },
  {
   "attachments": {},
   "cell_type": "markdown",
   "metadata": {},
   "source": [
    "filtered_df is composed of instances of player_id that appear in df more than once: in particular filtered_df is composed of the players for whom the union (date of birth, nationality) does not work because there is more than one instance for which the key tuple (date of birth, nationality) is valid"
   ]
  },
  {
   "cell_type": "code",
   "execution_count": 28,
   "metadata": {},
   "outputs": [],
   "source": [
    "# dataset composed by the instances with player_id not unique (i.e. that appears more than once)\n",
    "count_df = joined_df.groupBy(\"player_id\").agg(count(\"*\").alias(\"count\"))\n",
    "filtered_df = joined_df.join(count_df, \"player_id\").filter(count_df[\"count\"] > 1).drop(\"count\")"
   ]
  },
  {
   "attachments": {},
   "cell_type": "markdown",
   "metadata": {},
   "source": [
    "Since, for these instances, (date of birth, nationality) does not work, we decide to perform the filter through long_name (fifa dataset) and name (the other dataset)"
   ]
  },
  {
   "cell_type": "code",
   "execution_count": 29,
   "metadata": {},
   "outputs": [],
   "source": [
    "# mantain only the instance in which long name is equal to name\n",
    "filtered_df = filtered_df.filter(filtered_df.long_name == filtered_df.name)"
   ]
  },
  {
   "attachments": {},
   "cell_type": "markdown",
   "metadata": {},
   "source": [
    "Adding to df the unique instances of filtered_df that we managed to extract"
   ]
  },
  {
   "cell_type": "code",
   "execution_count": 30,
   "metadata": {},
   "outputs": [],
   "source": [
    "# add to df the instances of filtered_df\n",
    "df = df.union(filtered_df)"
   ]
  },
  {
   "cell_type": "code",
   "execution_count": 32,
   "metadata": {},
   "outputs": [],
   "source": [
    "# INSERT CURRENT DATE #\n",
    "import datetime\n",
    "current_date = datetime.datetime.now().strftime(\"%Y-%m-%d\")"
   ]
  },
  {
   "attachments": {},
   "cell_type": "markdown",
   "metadata": {},
   "source": [
    "Adding to the dataset the feature age"
   ]
  },
  {
   "cell_type": "code",
   "execution_count": 33,
   "metadata": {},
   "outputs": [],
   "source": [
    "# add to the df the column age\n",
    "df = df.withColumn(\"age\", floor(datediff(lit(current_date), \"dob\")/365))"
   ]
  },
  {
   "cell_type": "code",
   "execution_count": 34,
   "metadata": {},
   "outputs": [],
   "source": [
    "# drop some columns\n",
    "df = df.drop(\"first_name\", \"date_birth\", \"last_name\", \"date_of_birth\", \"date_v\", \"country_of_citizenship\", \"dob\", \"short_name\", \"long_name\")"
   ]
  },
  {
   "attachments": {},
   "cell_type": "markdown",
   "metadata": {},
   "source": [
    "### **Pre-processing Phase (zero-value and null value)**"
   ]
  },
  {
   "cell_type": "code",
   "execution_count": 35,
   "metadata": {},
   "outputs": [
    {
     "name": "stdout",
     "output_type": "stream",
     "text": [
      "+---------+-------+---------+---------+----------------+--------------+---------+-----------+---------+----+--------+-------+---------+---------+------+------------------+-------------------+--------------------------+-----------------------+-----------------+---------------+-----------+-----------------+------------------+------------------+---------------------+---------------------+----------------+------------------+----------------+----------------+-------------+-------------+--------------+----------------+--------------------+-----------------------+---------------------+----------------+-------------------+-------------------+---------------------------+-------------------------+------------------------+------------------+--------------------+-------------------+-----------------------+--------------------+-----------------+--------------+-----------------+--------------+---------------+---------------+----+--------+------------+---+\n",
      "|player_id|overall|height_cm|weight_kg|nationality_name|preferred_foot|weak_foot|skill_moves|work_rate|pace|shooting|passing|dribbling|defending|physic|attacking_crossing|attacking_finishing|attacking_heading_accuracy|attacking_short_passing|attacking_volleys|skill_dribbling|skill_curve|skill_fk_accuracy|skill_long_passing|skill_ball_control|movement_acceleration|movement_sprint_speed|movement_agility|movement_reactions|movement_balance|power_shot_power|power_jumping|power_stamina|power_strength|power_long_shots|mentality_aggression|mentality_interceptions|mentality_positioning|mentality_vision|mentality_penalties|mentality_composure|defending_marking_awareness|defending_standing_tackle|defending_sliding_tackle|goalkeeping_diving|goalkeeping_handling|goalkeeping_kicking|goalkeeping_positioning|goalkeeping_reflexes|goalkeeping_speed|last_valuation|games_played_club|games_won_club|games_draw_club|games_lost_club|name|position|sub_position|age|\n",
      "+---------+-------+---------+---------+----------------+--------------+---------+-----------+---------+----+--------+-------+---------+---------+------+------------------+-------------------+--------------------------+-----------------------+-----------------+---------------+-----------+-----------------+------------------+------------------+---------------------+---------------------+----------------+------------------+----------------+----------------+-------------+-------------+--------------+----------------+--------------------+-----------------------+---------------------+----------------+-------------------+-------------------+---------------------------+-------------------------+------------------------+------------------+--------------------+-------------------+-----------------------+--------------------+-----------------+--------------+-----------------+--------------+---------------+---------------+----+--------+------------+---+\n",
      "|        0|      0|        0|        0|               0|             0|        0|          0|        0| 423|     423|    423|      423|      423|   423|                 0|                  0|                         0|                      0|                0|              0|          0|                0|                 0|                 0|                    0|                    0|               0|                 0|               0|               0|            0|            0|             0|               0|                   0|                      0|                    0|               0|                  0|                  0|                          0|                        0|                       0|                 0|                   0|                  0|                      0|                   0|             3985|             0|                0|             0|              0|              0|   0|       0|         414|  0|\n",
      "+---------+-------+---------+---------+----------------+--------------+---------+-----------+---------+----+--------+-------+---------+---------+------+------------------+-------------------+--------------------------+-----------------------+-----------------+---------------+-----------+-----------------+------------------+------------------+---------------------+---------------------+----------------+------------------+----------------+----------------+-------------+-------------+--------------+----------------+--------------------+-----------------------+---------------------+----------------+-------------------+-------------------+---------------------------+-------------------------+------------------------+------------------+--------------------+-------------------+-----------------------+--------------------+-----------------+--------------+-----------------+--------------+---------------+---------------+----+--------+------------+---+\n",
      "\n"
     ]
    }
   ],
   "source": [
    "# for each features of df, check if there are null values\n",
    "# df.select([count(when(isnan(c) | col(c).isNull(), c)).alias(c) for c in df.columns]).show()\n",
    "df.select([count(when(col(c).isNull(), c)).alias(c) for c in df.columns]).show()"
   ]
  },
  {
   "attachments": {},
   "cell_type": "markdown",
   "metadata": {},
   "source": [
    "Fixing null value and zero value"
   ]
  },
  {
   "cell_type": "code",
   "execution_count": 36,
   "metadata": {},
   "outputs": [],
   "source": [
    "# if position is goal keeper then club_position = GK then set pace, shooting, passing, dribbling, defending, physic = 0\n",
    "df = df.withColumn(\"pace\", when(df.position == \"Goalkeeper\", 0).otherwise(df.pace))\n",
    "df = df.withColumn(\"shooting\", when(df.position == \"Goalkeeper\", 0).otherwise(df.shooting))\n",
    "df = df.withColumn(\"passing\", when(df.position == \"Goalkeeper\", 0).otherwise(df.passing))\n",
    "df = df.withColumn(\"dribbling\", when(df.position == \"Goalkeeper\", 0).otherwise(df.dribbling))\n",
    "df = df.withColumn(\"defending\", when(df.position == \"Goalkeeper\", 0).otherwise(df.defending))\n",
    "df = df.withColumn(\"physic\", when(df.position == \"Goalkeeper\", 0).otherwise(df.physic))"
   ]
  },
  {
   "cell_type": "code",
   "execution_count": 37,
   "metadata": {},
   "outputs": [],
   "source": [
    "# if the sub_position is null, set it to position value\n",
    "df = df.withColumn(\"sub_position\", when(col(\"sub_position\").isNull(), col(\"position\")).otherwise(col(\"sub_position\")))"
   ]
  },
  {
   "cell_type": "code",
   "execution_count": 38,
   "metadata": {},
   "outputs": [],
   "source": [
    "# if position is not Goalkeeper then set goalkeeping_speed to 0\n",
    "df = df.withColumn(\"goalkeeping_speed\", when(df.position != \"Goalkeeper\", 0).otherwise(df.goalkeeping_speed))"
   ]
  },
  {
   "attachments": {},
   "cell_type": "markdown",
   "metadata": {},
   "source": [
    "If the fixes didn't work, it means that the instances involved are originally wrong. Then we decided to drop it"
   ]
  },
  {
   "cell_type": "code",
   "execution_count": 39,
   "metadata": {},
   "outputs": [],
   "source": [
    "# remove the instances in which there are null values\n",
    "#print(df.count())\n",
    "df = df.na.drop()\n",
    "#print(df.count())"
   ]
  },
  {
   "cell_type": "code",
   "execution_count": 40,
   "metadata": {},
   "outputs": [
    {
     "name": "stdout",
     "output_type": "stream",
     "text": [
      "4391\n",
      "4391\n"
     ]
    }
   ],
   "source": [
    "print(df.count())\n",
    "# count the number of distinct player_id\n",
    "print(df.select(\"player_id\").distinct().count())"
   ]
  },
  {
   "attachments": {},
   "cell_type": "markdown",
   "metadata": {},
   "source": [
    "Show the first 5 rows of the dataset that we will save and use for task2"
   ]
  },
  {
   "cell_type": "code",
   "execution_count": null,
   "metadata": {},
   "outputs": [],
   "source": [
    "df.show(5)"
   ]
  },
  {
   "attachments": {},
   "cell_type": "markdown",
   "metadata": {},
   "source": [
    "Saving the dataset obtained from the pre-processing, feature engineering and merging operations"
   ]
  },
  {
   "cell_type": "code",
   "execution_count": null,
   "metadata": {},
   "outputs": [],
   "source": [
    "import pandas as pd\n",
    "df_p = df.toPandas()\n",
    "df_p.to_csv(\"talent_scouting/task2dataset.csv\", index=False)"
   ]
  },
  {
   "attachments": {},
   "cell_type": "markdown",
   "metadata": {},
   "source": [
    "## **Clustering algorithm applications: k-means** "
   ]
  },
  {
   "attachments": {},
   "cell_type": "markdown",
   "metadata": {},
   "source": [
    "Loading the dataset obtained from the previous phases"
   ]
  },
  {
   "cell_type": "code",
   "execution_count": 61,
   "metadata": {},
   "outputs": [],
   "source": [
    "# load the dataset obtained in the previous phases\n",
    "df = spark.read.csv(\"task2dataset.csv\", header=True, inferSchema=True)"
   ]
  },
  {
   "attachments": {},
   "cell_type": "markdown",
   "metadata": {},
   "source": [
    "Converting double features to avoid problem in the next steps and to make all the numerical features of the same type"
   ]
  },
  {
   "cell_type": "code",
   "execution_count": 62,
   "metadata": {},
   "outputs": [],
   "source": [
    "# convert from double to int the features goalkeeping_speed, pace, shooting, passing, dribbling, defending, physic\n",
    "df = df.withColumn(\"goalkeeping_speed\", df.goalkeeping_speed.cast(\"int\"))\n",
    "df = df.withColumn(\"pace\", df.pace.cast(\"int\"))\n",
    "df = df.withColumn(\"shooting\", df.shooting.cast(\"int\"))\n",
    "df = df.withColumn(\"passing\", df.passing.cast(\"int\"))\n",
    "df = df.withColumn(\"dribbling\", df.dribbling.cast(\"int\"))\n",
    "df = df.withColumn(\"defending\", df.defending.cast(\"int\"))\n",
    "df = df.withColumn(\"physic\", df.physic.cast(\"int\"))\n",
    "df = df.withColumn(\"mentality_composure\", df.mentality_composure.cast(\"int\"))"
   ]
  },
  {
   "cell_type": "code",
   "execution_count": 63,
   "metadata": {},
   "outputs": [],
   "source": [
    "# drop column player_id\n",
    "df = df.drop(\"games_played_club\", \"games_won_club\", \"games_draw_club\", \"games_lost_club\")"
   ]
  },
  {
   "attachments": {},
   "cell_type": "markdown",
   "metadata": {},
   "source": [
    "Since nationality is not a crucial feature for our task, and furthermore, in the case of applying one hot encoding, it would greatly increase the number of features, we decided to exclude it from the dataset\n"
   ]
  },
  {
   "cell_type": "code",
   "execution_count": 64,
   "metadata": {},
   "outputs": [],
   "source": [
    "# drop the features nationality_name and name\n",
    "dfc = df.drop(\"nationality_name\", \"name\")"
   ]
  },
  {
   "attachments": {},
   "cell_type": "markdown",
   "metadata": {},
   "source": [
    "Creating a feature copy of age"
   ]
  },
  {
   "cell_type": "code",
   "execution_count": 65,
   "metadata": {},
   "outputs": [],
   "source": [
    "# create a copy of the feature age in age_copy\n",
    "dfc = dfc.withColumn(\"age_copy\", dfc.age)"
   ]
  },
  {
   "attachments": {},
   "cell_type": "markdown",
   "metadata": {},
   "source": [
    "### **Standardization of the numerical features**"
   ]
  },
  {
   "cell_type": "code",
   "execution_count": 66,
   "metadata": {},
   "outputs": [],
   "source": [
    "def standardize(dfc):\n",
    "    assembler = VectorAssembler(inputCols=list(set(dfc.columns) - set([\"player_id\", \"preferred_foot\", \"work_rate\", \"position\", \"sub_position\", \"age_copy\"])), \n",
    "                                outputCol=\"features\") # excluding the features player_id, preferred_foot, work_rate, position, sub_position, age_copy (not numeric features, categorical)\n",
    "\n",
    "    dfc = assembler.transform(dfc)\n",
    "\n",
    "    scaler = StandardScaler(inputCol=\"features\", \n",
    "                            outputCol=\"scaled_features\",\n",
    "                            withStd=True, withMean=True)\n",
    "\n",
    "    # fitting the StandardScaler\n",
    "    scalerModel = scaler.fit(dfc)\n",
    "\n",
    "    # Normalize each feature\n",
    "    dfc = scalerModel.transform(dfc)\n",
    "    return dfc"
   ]
  },
  {
   "cell_type": "code",
   "execution_count": 67,
   "metadata": {},
   "outputs": [],
   "source": [
    "dfc = standardize(dfc)"
   ]
  },
  {
   "cell_type": "code",
   "execution_count": 68,
   "metadata": {},
   "outputs": [],
   "source": [
    "# remove the standardized columns\n",
    "dfc = dfc.drop(*list(set(df.columns) - set([\"player_id\", \"preferred_foot\", \"work_rate\", \"position\", \"sub_position\", \"age_copy\"])))"
   ]
  },
  {
   "attachments": {},
   "cell_type": "markdown",
   "metadata": {},
   "source": [
    "### **Applying one-hot encoding of the categorical features**"
   ]
  },
  {
   "cell_type": "code",
   "execution_count": 70,
   "metadata": {},
   "outputs": [],
   "source": [
    "def apply_one_hot_encoding(df, column_names, df_id):\n",
    "\n",
    "    def generate_encoded_columns(df, name_column, column_values):\n",
    "        return [\n",
    "            when(df[name_column].isin(value), 1).otherwise(0).alias(f\"{name_column}_{value}\")\n",
    "            for value in column_values\n",
    "        ]\n",
    "    \n",
    "    diz = {}\n",
    "    for col in column_names:\n",
    "        diz[col]=[row[col] for row in df.select(col).distinct().collect()] # creating a dictionary with the column name as key and the list of values as value (distinct values)\n",
    "\n",
    "    encoded_columns = []\n",
    "    for name_column, column_values in diz.items():\n",
    "        encoded_columns.extend(generate_encoded_columns(df, name_column, column_values)) # called the function to generate the encoded columns\n",
    "    encoded_df = df.select(df_id, *encoded_columns)\n",
    "    #join the encoded df with the original df on the key df_id\n",
    "    df = df.join(encoded_df, df_id)\n",
    "    #drop the columns in column_names\n",
    "    df = df.drop(*column_names)\n",
    "    return df"
   ]
  },
  {
   "cell_type": "code",
   "execution_count": 71,
   "metadata": {},
   "outputs": [],
   "source": [
    "column_names = [\"preferred_foot\", \"work_rate\", \"position\", \"sub_position\"] #columns to apply one hot encoding (categorical features)\n",
    "dfc = apply_one_hot_encoding(dfc, column_names, \"player_id\") # apply one hot encoding to the specified columns on the df id player_id"
   ]
  },
  {
   "attachments": {},
   "cell_type": "markdown",
   "metadata": {},
   "source": [
    "### **NO PCA! Assemble the features of dfc**"
   ]
  },
  {
   "attachments": {},
   "cell_type": "markdown",
   "metadata": {},
   "source": [
    "This function allows to assemble the dataset for the k-means if we wanto to apply pca"
   ]
  },
  {
   "cell_type": "code",
   "execution_count": 72,
   "metadata": {},
   "outputs": [],
   "source": [
    "def dataset_assembler(df): \n",
    "   # create an instance of VectorAssembler specifying the input columns and the output column\n",
    "    assembler = VectorAssembler(inputCols=list(set(df.columns) - set([\"player_id\", \"features\", \"age_copy\"])), outputCol=\"pcaFeatures\") # although no pca has been applied, the column is still called pcaFeatures\n",
    "\n",
    "    # apply the VectorAssembler to the DataFrame\n",
    "    df_pca = assembler.transform(df).select(\"player_id\", \"pcaFeatures\")\n",
    "    return df_pca"
   ]
  },
  {
   "attachments": {},
   "cell_type": "markdown",
   "metadata": {},
   "source": [
    "### **Principal Component Analysis: PCA**"
   ]
  },
  {
   "attachments": {},
   "cell_type": "markdown",
   "metadata": {},
   "source": [
    "Using the method of explained variance. The method of explained variance is a statistical technique used to understand the amount of information or variability in a dataset that is captured or \"explained\" by each principal component. Here are the algorithmic steps:\n",
    "- Apply PCA to the dataframe with a large k value, in our case k is equal to the number of features of the dataframe;\n",
    "- Get the variance explained by each principal component using the 'explainedVariance' method of the PCA model;\n",
    "- Calculate the total variance by adding up all the explained variances;\n",
    "- Calculates the percentage of variance explained by each principal component by dividing the explained variance of each component by the total variance;\n",
    "- Calculates the cumulative variance, which is the cumulative sum of the percentages of explained variance;\n",
    "- Select a desired value of percentage of total variance to explain, in our case 95%;\n",
    "- Find the smallest value of k such that the cumulative variance exceeds or equals the desired percentage;\n",
    "- k will be the number of components."
   ]
  },
  {
   "cell_type": "code",
   "execution_count": 73,
   "metadata": {},
   "outputs": [],
   "source": [
    "def get_optimal_k(df, desired_variance_percentage, k):\n",
    "    \n",
    "    assembler = VectorAssembler(inputCols=list(set(df.columns) - set([\"player_id\", \"features\", \"age_copy\"])), outputCol=\"features_\")\n",
    "    df_assembled = assembler.transform(df)\n",
    "\n",
    "    pca = PCA(k=k, inputCol=\"features_\", outputCol=\"pcaFeatures\")\n",
    "    model = pca.fit(df_assembled)\n",
    "\n",
    "    explained_variance = model.explainedVariance.toArray() # returns a numpy.ndarray to calculate the total variance\n",
    "    total_variance = np.sum(explained_variance) # sum of the explained variance\n",
    "\n",
    "    cumulative_variance = 0.0\n",
    "    num_selected_features = 0\n",
    "\n",
    "    for variance in explained_variance:\n",
    "        cumulative_variance += variance\n",
    "        num_selected_features += 1\n",
    "        if cumulative_variance >= desired_variance_percentage * total_variance:\n",
    "            break\n",
    "\n",
    "    return num_selected_features"
   ]
  },
  {
   "attachments": {},
   "cell_type": "markdown",
   "metadata": {},
   "source": [
    "Applying PCA to decrease the number of features"
   ]
  },
  {
   "cell_type": "code",
   "execution_count": 74,
   "metadata": {},
   "outputs": [],
   "source": [
    "def apply_PCA(df, k):\n",
    "\n",
    "    assembler = VectorAssembler(inputCols=list(set(df.columns) - set([\"player_id\", \"features\", \"age_copy\"])), outputCol=\"features_\")\n",
    "    df_assembled = assembler.transform(df)\n",
    "    pca = PCA(k=k, inputCol=\"features_\", outputCol=\"pcaFeatures\")\n",
    "    model = pca.fit(df_assembled)\n",
    "    df_pca = model.transform(df_assembled).select(\"player_id\", \"pcaFeatures\")\n",
    "    \n",
    "    return df_pca"
   ]
  },
  {
   "attachments": {},
   "cell_type": "markdown",
   "metadata": {},
   "source": [
    "This function prepares the dataset to k-means:\n",
    "- if the flag is true, then apply the pca\n",
    "- if the flag is false, then assemble the dataset"
   ]
  },
  {
   "cell_type": "code",
   "execution_count": 75,
   "metadata": {},
   "outputs": [],
   "source": [
    "def flag_PCA(df,flag): # if flag is True, apply PCA, otherwise apply assembler\n",
    "    if flag is True:\n",
    "        desired_variance_percentage = 0.95\n",
    "        k = len(list(set(df.columns) - set([\"player_id\", \"features\", \"age_copy\"]))) + len(dfc.first()[\"scaled_features\"])\n",
    "        optimal_k = get_optimal_k(df, desired_variance_percentage, k-1)\n",
    "        print(\"I'm applying pca with an optimal k= \", optimal_k)\n",
    "        df_pca = apply_PCA(df, optimal_k)\n",
    "    else:\n",
    "        df_pca = dataset_assembler(df)\n",
    "        print(\"I'm not applying pca, but i'm assembling the dataset for k-means\")\n",
    "    return df_pca"
   ]
  },
  {
   "attachments": {},
   "cell_type": "markdown",
   "metadata": {},
   "source": [
    "### **Applying k-means** "
   ]
  },
  {
   "cell_type": "code",
   "execution_count": 76,
   "metadata": {},
   "outputs": [],
   "source": [
    "RANDOM_SEED = 42"
   ]
  },
  {
   "cell_type": "code",
   "execution_count": 77,
   "metadata": {},
   "outputs": [],
   "source": [
    "def k_means(dataset, n_clusters, distance_measure=\"euclidean\", max_iter=150, features_col=\"pcaFeatures\", prediction_col=\"cluster\", random_seed=RANDOM_SEED):\n",
    "  \n",
    "    #print(\"\"\"k-means parameters: - number of clusters = {:d} - max iterations = {:d} - distance measure = {:s} - random seed = {:d}\"\"\".format(n_clusters, max_iter, distance_measure, random_seed))\n",
    "\n",
    "    # train a k-means model\n",
    "    kmeans = KMeans(featuresCol=features_col, \n",
    "                    predictionCol=prediction_col, \n",
    "                    k=n_clusters, \n",
    "                    initMode=\"k-means||\", # or random\n",
    "                    initSteps=20, \n",
    "                    tol=0.00000001, \n",
    "                    maxIter=max_iter, \n",
    "                    seed=random_seed, \n",
    "                    distanceMeasure=distance_measure)\n",
    "    model = kmeans.fit(dataset)\n",
    "\n",
    "    clusters_df = model.transform(dataset) # obtain new df with the cluster column (prediction_col)\n",
    "\n",
    "    return model, clusters_df"
   ]
  },
  {
   "cell_type": "code",
   "execution_count": 78,
   "metadata": {},
   "outputs": [],
   "source": [
    "def evaluate_k_means(clusters, metric_name=\"silhouette\", distance_measure=\"squaredEuclidean\",prediction_col=\"cluster\"):\n",
    "  \n",
    "  # evaluate clustering by computing Silhouette score\n",
    "  evaluator = ClusteringEvaluator(metricName=metric_name,\n",
    "                                  distanceMeasure=distance_measure, \n",
    "                                  predictionCol=prediction_col\n",
    "                                  )\n",
    "\n",
    "  return evaluator.evaluate(clusters)"
   ]
  },
  {
   "cell_type": "code",
   "execution_count": 80,
   "metadata": {},
   "outputs": [],
   "source": [
    "import matplotlib.pyplot as plt\n",
    "\n",
    "def applying_elbow(df, features_col=\"pcaFeatures\", prediction_col=\"cluster\", min_k=60, max_k=100, random_seed=RANDOM_SEED):        \n",
    "\n",
    "    clustering_results_wcss = {} # dictionary to store the results of the clustering (key=k, value=WCSS)\n",
    "    clustering_results_silhouette = {} # dictionary to store the results of the clustering (key=k, value=silhouette)\n",
    "    k_values = range(min_k, max_k) # range of k values to try\n",
    "\n",
    "    wcss_values = [] # list to plot\n",
    "    silhouette_values = [] # list to plot\n",
    "\n",
    "    for k in k_values:\n",
    "        model, clusters_df = k_means(df, k, features_col=\"pcaFeatures\", prediction_col=prediction_col, random_seed=RANDOM_SEED)\n",
    "        clusters_df = clusters_df.withColumn(\"features\", clusters_df[\"pcaFeatures\"])\n",
    "\n",
    "        # calculate WCSS\n",
    "        wcss = model.summary.trainingCost\n",
    "        wcss_values.append(wcss)\n",
    "        clustering_results_wcss[k] = wcss\n",
    "\n",
    "        # calculate silhouette\n",
    "        silhouette = evaluate_k_means(clusters_df)\n",
    "        silhouette_values.append(silhouette)\n",
    "        clustering_results_silhouette[k] = silhouette\n",
    "\n",
    "    # Plot elbow method\n",
    "    plt.plot(k_values, wcss_values, 'bx-')\n",
    "    plt.xlabel('Number of cluster (k)')\n",
    "    plt.ylabel('WCSS')\n",
    "    plt.title('Elbow method')\n",
    "    plt.show()\n",
    "\n",
    "    # Plot silhouette\n",
    "    plt.plot(k_values, silhouette_values, 'bx-')\n",
    "    plt.xlabel('Number of Clusters (k)')\n",
    "    plt.ylabel('Silhouette')\n",
    "    plt.title('Silhouette method')\n",
    "    plt.show()\n",
    "    \n",
    "    return clustering_results_wcss, clustering_results_silhouette\n"
   ]
  },
  {
   "attachments": {},
   "cell_type": "markdown",
   "metadata": {},
   "source": [
    "Split dfc in dfc1, composed by player with age >25, and dfc2, composed by player with age <=25\n",
    "\n",
    "**dfc1 is made up of players who are over 25 years old**\n",
    "\n",
    "**dfc2 is made up of players who are under 25 years old**"
   ]
  },
  {
   "cell_type": "code",
   "execution_count": 81,
   "metadata": {},
   "outputs": [],
   "source": [
    "# split dfc in two dataframes: one composed of player with age >25, the other composed of player with age <=25\n",
    "def split_dataframe(dfc):\n",
    "    dfc1 = dfc.filter(dfc.age_copy > 25)\n",
    "    dfc2 = dfc.filter(dfc.age_copy <= 25)\n",
    "    return dfc1, dfc2"
   ]
  },
  {
   "cell_type": "code",
   "execution_count": 82,
   "metadata": {},
   "outputs": [],
   "source": [
    "dfc1, dfc2 = split_dataframe(dfc)"
   ]
  },
  {
   "attachments": {},
   "cell_type": "markdown",
   "metadata": {},
   "source": [
    "In this case,  we apply k-means, then our categorical features are processed by one hot encoding, then we can apply PCA (flag = True)"
   ]
  },
  {
   "cell_type": "code",
   "execution_count": 83,
   "metadata": {},
   "outputs": [
    {
     "name": "stdout",
     "output_type": "stream",
     "text": [
      "I'm applying pca with an optimal k=  21\n",
      "I'm applying pca with an optimal k=  25\n"
     ]
    }
   ],
   "source": [
    "df1_pca = flag_PCA(dfc1,flag=True)\n",
    "df2_pca = flag_PCA(dfc2,flag=True)"
   ]
  },
  {
   "attachments": {},
   "cell_type": "markdown",
   "metadata": {},
   "source": [
    "Applying elbow method to find the optimal k (and silhouette)"
   ]
  },
  {
   "cell_type": "code",
   "execution_count": 84,
   "metadata": {},
   "outputs": [
    {
     "data": {
      "image/png": "[encoded data removed]",
      "text/plain": [
       "<Figure size 640x480 with 1 Axes>"
      ]
     },
     "metadata": {},
     "output_type": "display_data"
    },
    {
     "data": {
      "image/png": "[encoded data removed]",
      "text/plain": [
       "<Figure size 640x480 with 1 Axes>"
      ]
     },
     "metadata": {},
     "output_type": "display_data"
    },
    {
     "data": {
      "image/png": "[encoded data removed]",
      "text/plain": [
       "<Figure size 640x480 with 1 Axes>"
      ]
     },
     "metadata": {},
     "output_type": "display_data"
    },
    {
     "data": {
      "image/png": "[encoded data removed]",
      "text/plain": [
       "<Figure size 640x480 with 1 Axes>"
      ]
     },
     "metadata": {},
     "output_type": "display_data"
    }
   ],
   "source": [
    "# applying elbow method to find the optimal k (and silhouette)\n",
    "clustering_results1 = applying_elbow(df1_pca, features_col=\"pcaFeatures\", prediction_col=\"cluster\", min_k=60, max_k=65, random_seed=RANDOM_SEED)[1] #40-110\n",
    "clustering_results2 = applying_elbow(df2_pca, features_col=\"pcaFeatures\", prediction_col=\"cluster\", min_k=68, max_k=74, random_seed=RANDOM_SEED)[1] #40-110"
   ]
  },
  {
   "attachments": {},
   "cell_type": "markdown",
   "metadata": {},
   "source": [
    "We obtain, for each dataset, the k value for k-means through silhouette method. In case we want to rely on the elbow method we should replace k_clustering1 and k_clustering2 with k values decided by elbow"
   ]
  },
  {
   "cell_type": "code",
   "execution_count": 85,
   "metadata": {},
   "outputs": [],
   "source": [
    "# obtain the key of the max silhoouette value to find the optimal k for k-means\n",
    "k_clustering1 = list(dict(sorted(clustering_results1.items(), key=lambda item: item[1], reverse=True)))[0]\n",
    "k_clustering2 = list(dict(sorted(clustering_results2.items(), key=lambda item: item[1], reverse=True)))[0]"
   ]
  },
  {
   "cell_type": "code",
   "execution_count": 86,
   "metadata": {},
   "outputs": [],
   "source": [
    "model1, df_clusters1 = k_means(df1_pca, k_clustering1, features_col=\"pcaFeatures\", prediction_col=\"cluster\", random_seed=RANDOM_SEED) # k_clustering1 or we can choose the number of clusters\n",
    "model2, df_clusters2 = k_means(df2_pca, k_clustering2, features_col=\"pcaFeatures\", prediction_col=\"cluster\", random_seed=RANDOM_SEED) # k_clustering1 or we can choose the number of clusters"
   ]
  },
  {
   "cell_type": "code",
   "execution_count": 87,
   "metadata": {},
   "outputs": [],
   "source": [
    "df_clusters1 = df_clusters1.withColumn(\"features\", df_clusters1[\"pcaFeatures\"]) # we need to do this because the function evaluate_k_means needs a column named \"features\"\n",
    "df_clusters2 = df_clusters2.withColumn(\"features\", df_clusters2[\"pcaFeatures\"]) # we need to do this because the function evaluate_k_means needs a column named \"features\"\n",
    "silhouette1 = evaluate_k_means(df_clusters1, metric_name=\"silhouette\", distance_measure=\"squaredEuclidean\", prediction_col=\"cluster\")\n",
    "silhouette2 = evaluate_k_means(df_clusters2, metric_name=\"silhouette\", distance_measure=\"squaredEuclidean\", prediction_col=\"cluster\")"
   ]
  },
  {
   "cell_type": "code",
   "execution_count": 88,
   "metadata": {},
   "outputs": [
    {
     "name": "stdout",
     "output_type": "stream",
     "text": [
      "0.15123716089264908\n",
      "0.14642853887814125\n"
     ]
    }
   ],
   "source": [
    "print(silhouette1)\n",
    "print(silhouette2)"
   ]
  },
  {
   "attachments": {},
   "cell_type": "markdown",
   "metadata": {},
   "source": [
    "Joining the initial dataframe and the k-means resulting dataframe"
   ]
  },
  {
   "cell_type": "code",
   "execution_count": 89,
   "metadata": {},
   "outputs": [],
   "source": [
    "#join the clusters_df with the original df on the key player_id\n",
    "df_k_means1 = df.join(df_clusters1, \"player_id\")\n",
    "df_k_means2 = df.join(df_clusters2, \"player_id\")"
   ]
  },
  {
   "cell_type": "code",
   "execution_count": 90,
   "metadata": {},
   "outputs": [],
   "source": [
    "#oridinare df_k_means per cluster\n",
    "df_k_means1 = df_k_means1.orderBy(\"cluster\")\n",
    "df_k_means2 = df_k_means2.orderBy(\"cluster\")"
   ]
  },
  {
   "attachments": {},
   "cell_type": "markdown",
   "metadata": {},
   "source": [
    "Drop weight_kg, nationality_name, work_rate pcaFeatures, features"
   ]
  },
  {
   "attachments": {},
   "cell_type": "markdown",
   "metadata": {},
   "source": [
    "Remove useful columns in df_k_means1 and df_k_means2"
   ]
  },
  {
   "cell_type": "code",
   "execution_count": 91,
   "metadata": {},
   "outputs": [],
   "source": [
    "# def funtion to remove columns in df_k_means1 and df_k_means2\n",
    "def remove_columns(df_k_means):\n",
    "    # drop pcaFeatures, features\n",
    "    df_k_means = df_k_means.drop(\"pcaFeatures\")\n",
    "    df_k_means = df_k_means.drop(\"features\")\n",
    "    df_k_means = df_k_means.drop(\"nationality_name\")\n",
    "    df_k_means = df_k_means.drop(\"work_rate\")\n",
    "    df_k_means = df_k_means.drop(\"weight_kg\")\n",
    "    return df_k_means"
   ]
  },
  {
   "cell_type": "code",
   "execution_count": 92,
   "metadata": {},
   "outputs": [],
   "source": [
    "df_k_means1 = remove_columns(df_k_means1)\n",
    "df_k_means2 = remove_columns(df_k_means2)"
   ]
  },
  {
   "attachments": {},
   "cell_type": "markdown",
   "metadata": {},
   "source": [
    "### **Plotting schema: average positions in the clusters**"
   ]
  },
  {
   "cell_type": "code",
   "execution_count": 93,
   "metadata": {},
   "outputs": [],
   "source": [
    "#convert df_k_means_2 in pandas dataframe\n",
    "df_k_means = df_k_means2.toPandas()"
   ]
  },
  {
   "attachments": {},
   "cell_type": "markdown",
   "metadata": {},
   "source": [
    "Let's create a graph that shows the average of the positions for each cluster"
   ]
  },
  {
   "cell_type": "code",
   "execution_count": 95,
   "metadata": {},
   "outputs": [
    {
     "data": {
      "image/png": "[encoded data removed]",
      "text/plain": [
       "<Figure size 2500x1500 with 1 Axes>"
      ]
     },
     "metadata": {},
     "output_type": "display_data"
    }
   ],
   "source": [
    "# calculate the mean of the positions for each cluster\n",
    "pivot_df = df_k_means.pivot_table(index='cluster', columns='position', aggfunc='size', fill_value=0)\n",
    "\n",
    "# calculate the mean of the positions for each cluster\n",
    "pivot_df = pivot_df.apply(lambda x: x / x.sum(), axis=1)\n",
    "\n",
    "# dimension of the plot\n",
    "plt.figure(figsize=(25, 15))\n",
    "\n",
    "# creation of the bar chart\n",
    "bar_width = 0.2\n",
    "positions = list(range(len(pivot_df.index)))\n",
    "colors = ['blue', 'green', 'orange', 'red']\n",
    "\n",
    "for i, position in enumerate(pivot_df.columns):\n",
    "    plt.bar([pos + (i * bar_width) for pos in positions], pivot_df[position], bar_width, color=colors[i], label=position)\n",
    "\n",
    "# set the name of the labels\n",
    "plt.title('Mean clusters positions')\n",
    "plt.xlabel('Cluster')\n",
    "plt.ylabel('Mean cluster positions')\n",
    "\n",
    "plt.legend()\n",
    "\n",
    "# set x axis\n",
    "plt.xticks(positions, pivot_df.index)\n",
    "\n",
    "# graph visualization\n",
    "plt.tight_layout()\n",
    "plt.show()\n"
   ]
  },
  {
   "attachments": {},
   "cell_type": "markdown",
   "metadata": {},
   "source": [
    "## **Football players cluster scouting**"
   ]
  },
  {
   "attachments": {},
   "cell_type": "markdown",
   "metadata": {},
   "source": [
    "The clustering algorithm used grouped similar players together. From now on we could think of using the obtained partition in various ways, in particolar, input a player_id and find a cluster made up of similar players with a lower average age"
   ]
  },
  {
   "attachments": {},
   "cell_type": "markdown",
   "metadata": {},
   "source": [
    "### **Implementation of the first of the two method to get the cluster for the input player**\n",
    "\n",
    "This method returns always one cluster. It does not allow the manipulation of the parameters to define the similarity. It is based on cosine similarity.\n",
    "The problem with this method is that it tends to look for a cluster containing players with similar stat values ​​to the input player. The method implemented subsequently is able to search for clusters that contain players with values ​​even lower than those of the player given in input."
   ]
  },
  {
   "attachments": {},
   "cell_type": "markdown",
   "metadata": {},
   "source": [
    "This function is used to create:\n",
    "- a dictionary with the stats of the input player (player_id)\n",
    "- a list of dictionary with the average stats of the clusters (mean or mode)"
   ]
  },
  {
   "cell_type": "code",
   "execution_count": 33,
   "metadata": {},
   "outputs": [],
   "source": [
    "def cluster_toDict(df1, df2, player_id): #player_id is related to df1\n",
    "    pdf1 = df1.filter(col(\"player_id\") == player_id).toPandas()\n",
    "    pdf2 = df2.toPandas()\n",
    "\n",
    "    player_id_dict = pdf1.drop(columns=[\"player_id\", \"name\", \"age\", \"cluster\"]).iloc[0].to_dict() # we need to drop the columns that we don't need\n",
    "\n",
    "    unique_clusters = pdf2[\"cluster\"].unique()\n",
    "    clusters_value = []\n",
    "\n",
    "    for cluster in unique_clusters:\n",
    "        # Filter the rows where the column \"cluster\" is equal to the current cluster value\n",
    "        pdf_filtered = pdf2[pdf2[\"cluster\"] == cluster]\n",
    "        pdf_filtered = pdf_filtered.drop(columns=[\"player_id\", \"name\", \"age\", \"cluster\"])\n",
    "\n",
    "        # Calculate the mean values for the numeric columns and the mode for the non-numeric columns\n",
    "        clus_values = pdf_filtered.mean(numeric_only=True).to_dict() # create the dictionary for the current cluster inserting the mean values of the numeric columns\n",
    "        non_numeric_columns = pdf_filtered.select_dtypes(exclude=[\"number\"]).columns # obtain the list of the non-numeric columns\n",
    "\n",
    "        for column in non_numeric_columns:\n",
    "            clus_values[column] = pdf_filtered[column].mode()[0] # insert the mode value of the non-numeric column in the dictionary\n",
    "\n",
    "        clusters_value.append(clus_values)\n",
    "\n",
    "    return player_id_dict, clusters_value"
   ]
  },
  {
   "attachments": {},
   "cell_type": "markdown",
   "metadata": {},
   "source": [
    "This function returns the index of the cluster with the most similar player"
   ]
  },
  {
   "cell_type": "code",
   "execution_count": 34,
   "metadata": {},
   "outputs": [],
   "source": [
    "def find_most_similar_index(d, dlist): # given a dictionary and a list of dictionaries, find the index of the most similar dictionary in the list (with respect of dictionary d)\n",
    "    categorical_keys = [key for key, value in d.items() if isinstance(value, str)]\n",
    "    numeric_keys = [key for key in d if key not in categorical_keys]\n",
    "\n",
    "    # Convert the categorical attributes into one-hot encoding\n",
    "    encoder = OneHotEncoder(sparse=False, handle_unknown=\"ignore\") #sparse=False because we want all the values in the matrix, handle_unknown=\"ignore\" because we don't want to raise an error if we find a new value\n",
    "    categorical_values = encoder.fit_transform([[d[key]] for key in categorical_keys])\n",
    "\n",
    "    # We have to create vector and a list of vectors to use the cosine_similarity function\n",
    "    vectors = []\n",
    "    for d_dict in dlist:\n",
    "        numeric_values = [d_dict.get(key, 0.0) for key in numeric_keys]\n",
    "        cat_values = categorical_values.flatten().tolist()\n",
    "        vector = numeric_values + cat_values\n",
    "        vectors.append(vector)\n",
    "\n",
    "    vector = [d.get(key, 0.0) for key in numeric_keys] + categorical_values.flatten().tolist()\n",
    "\n",
    "    # Calculate the cosine similarity between the vectors\n",
    "    similarities = cosine_similarity(vectors, [vector])\n",
    "    most_similar_index = np.argmax(similarities)\n",
    "    return most_similar_index\n"
   ]
  },
  {
   "cell_type": "code",
   "execution_count": 35,
   "metadata": {},
   "outputs": [],
   "source": [
    "# PLAYER ID # insert the id of the player for whom we want to search for similar younger players\n",
    "player_id = 39983 #Leonardo Bonucci\n",
    "player_id_dict, clusters_value = cluster_toDict(df_k_means1, df_k_means2, player_id)"
   ]
  },
  {
   "cell_type": "code",
   "execution_count": 36,
   "metadata": {},
   "outputs": [],
   "source": [
    "result_playerid = df_k_means1.filter(df_k_means1.player_id == player_id)"
   ]
  },
  {
   "attachments": {},
   "cell_type": "markdown",
   "metadata": {},
   "source": [
    "Create copies of the list and of the player dictionary, and remove the keys [\"overall\", \"weak_foot\", \"pace\", \"shooting\", \"dribbling\", \"defending\", \"physic\"] from the dictionary beacuse the search will be not based on these values"
   ]
  },
  {
   "cell_type": "code",
   "execution_count": 37,
   "metadata": {},
   "outputs": [],
   "source": [
    "player_id_dict_copy = copy.deepcopy(player_id_dict)\n",
    "clusters_value_copy = copy.deepcopy(clusters_value)\n",
    "keys_to_remove = [\"overall\", \"weak_foot\", \"pace\", \"shooting\", \"dribbling\", \"defending\", \"physic\", \"last_valuation\"]\n",
    "\n",
    "for key in keys_to_remove:\n",
    "    del player_id_dict_copy[key]\n",
    "\n",
    "for i in range(len(clusters_value_copy)):\n",
    "    for key in keys_to_remove:\n",
    "        del clusters_value_copy[i][key]"
   ]
  },
  {
   "cell_type": "code",
   "execution_count": 38,
   "metadata": {},
   "outputs": [
    {
     "name": "stderr",
     "output_type": "stream",
     "text": [
      "c:\\Users\\marco\\AppData\\Local\\Programs\\Python\\Python310\\lib\\site-packages\\sklearn\\preprocessing\\_encoders.py:828: FutureWarning: `sparse` was renamed to `sparse_output` in version 1.2 and will be removed in 1.4. `sparse_output` is ignored unless you leave `sparse` to its default value.\n",
      "  warnings.warn(\n"
     ]
    }
   ],
   "source": [
    "if df_k_means2.filter(col(\"cluster\") == 0).count() > 0:\n",
    "    cluster_index = find_most_similar_index(player_id_dict_copy, clusters_value_copy)\n",
    "else:\n",
    "    cluster_index = find_most_similar_index(player_id_dict_copy, clusters_value_copy) + 1"
   ]
  },
  {
   "cell_type": "code",
   "execution_count": 39,
   "metadata": {},
   "outputs": [
    {
     "name": "stdout",
     "output_type": "stream",
     "text": [
      "output cluster index first algorithm:\n",
      "18\n"
     ]
    }
   ],
   "source": [
    "print(\"output cluster index first algorithm:\")\n",
    "print(cluster_index)"
   ]
  },
  {
   "attachments": {},
   "cell_type": "markdown",
   "metadata": {},
   "source": [
    "Result 1 is the dataframe with the cluster (cluster_index) obtained by the first scoutin algorithm"
   ]
  },
  {
   "cell_type": "code",
   "execution_count": 40,
   "metadata": {},
   "outputs": [],
   "source": [
    "result1 = df_k_means2.filter(col(\"cluster\") == int(cluster_index))"
   ]
  },
  {
   "attachments": {},
   "cell_type": "markdown",
   "metadata": {},
   "source": [
    "### **Implementation of a more precise method to get the clusters for the input player**\n",
    "\n",
    "This method returns a list of similar cluster. It can return an empty list. It allows the manipulation of the hyperparameters"
   ]
  },
  {
   "cell_type": "code",
   "execution_count": 41,
   "metadata": {},
   "outputs": [],
   "source": [
    "key_list = []\n",
    "for k,v in player_id_dict.items():\n",
    "    key_list.append(k)"
   ]
  },
  {
   "cell_type": "code",
   "execution_count": 42,
   "metadata": {},
   "outputs": [],
   "source": [
    "# remove: overall, height_cm, skill_moves, pace, shooting, dribbling, defending, physic from key_list\n",
    "key_list = list(set(key_list) - set([\"overall\", \"weak_foot\", \"pace\", \"shooting\", \"dribbling\", \"defending\", \"physic\"]))"
   ]
  },
  {
   "attachments": {},
   "cell_type": "markdown",
   "metadata": {},
   "source": [
    "Remove the keys [\"overall\", \"weak_foot\", \"pace\", \"shooting\", \"dribbling\", \"defending\", \"physic\"] from the dictionary beacuse the search will be not based on these values"
   ]
  },
  {
   "cell_type": "code",
   "execution_count": 43,
   "metadata": {},
   "outputs": [],
   "source": [
    "import copy\n",
    "player_id_dict_c = player_id_dict.copy()\n",
    "clusters_value_c = copy.deepcopy(clusters_value)\n",
    "keys_to_remove = [\"overall\", \"weak_foot\", \"pace\", \"shooting\", \"dribbling\", \"defending\", \"physic\"]\n",
    "\n",
    "for key in keys_to_remove:\n",
    "    del player_id_dict_c[key]\n",
    "\n",
    "for i in range(len(clusters_value_c)):\n",
    "    for key in keys_to_remove:\n",
    "        del clusters_value_c[i][key]"
   ]
  },
  {
   "attachments": {},
   "cell_type": "markdown",
   "metadata": {},
   "source": [
    "Function to get the list of the clusters with players similar to one given in input.\n",
    "\n",
    "1. For each cluster in the list of clusters:\n",
    "    - Check if the cluster has the same position, sub position, and preferred foot as the player.\n",
    "    - Check if the cluster has a height that does not differ by more than 10 cm from the player.\n",
    "    - Check if the cluster has an average last valuation between min_value and max_value\n",
    "    - Check if the cluster has a skill moves that does not differ by more than 2 points from the player.\n",
    "\n",
    "\n",
    "2. Sort the keys of the player in descending order by values.\n",
    "\n",
    "3. For each cluster in the list of clusters:\n",
    "    - Sort the keys of the cluster in descending order by values.\n",
    "\n",
    "\n",
    "4. Return the clusters that have the same first x values as those of the player.\n"
   ]
  },
  {
   "cell_type": "code",
   "execution_count": 47,
   "metadata": {},
   "outputs": [],
   "source": [
    "import math\n",
    "\n",
    "min_value = 5000000 \n",
    "max_value = 50000000\n",
    "\n",
    "def get_clus(player_dict, clusters_list): # return the list of the clusters for the player of player_dict\n",
    "    player_dict_c = copy.deepcopy(player_dict)\n",
    "    clusters_list_c = copy.deepcopy(clusters_list)\n",
    "\n",
    "    clus_list_first = [] # dictionary that have passed the first filter\n",
    "\n",
    "    # first filter\n",
    "    for i in range(len(clusters_list_c)):\n",
    "        if clusters_list_c[i][\"position\"] == player_dict_c[\"position\"] and clusters_list_c[i][\"sub_position\"] == player_dict_c[\"sub_position\"] and clusters_list_c[i][\"preferred_foot\"] == player_dict_c[\"preferred_foot\"]:\n",
    "            height_diff = int(clusters_list_c[i][\"height_cm\"]) - int(player_dict_c[\"height_cm\"])\n",
    "            skills_diff = int(clusters_list_c[i][\"skill_moves\"]) - int(player_dict_c[\"skill_moves\"])\n",
    "            if math.sqrt(height_diff**2) < 20 and math.sqrt(skills_diff**2) <= 2 and int(clusters_list_c[i][\"last_valuation\"]) <= max_value and int(clusters_list_c[i][\"last_valuation\"]) >= min_value:\n",
    "                clus_list_first.append((i,clusters_list_c[i]))\n",
    "\n",
    "    # delete from clus_list_first and player_dict_c keys height_cm, skill_moves, last_valuation, position, sub_position, preferred_foot\n",
    "\n",
    "    keys_todelete = [\"height_cm\", \"skill_moves\", \"last_valuation\", \"position\", \"sub_position\", \"preferred_foot\"]\n",
    "\n",
    "    for clus in clus_list_first:\n",
    "        for key in keys_todelete:\n",
    "            del clus[1][key]\n",
    "    #print(clus_list_first)\n",
    "\n",
    "    # delete from player_dict_c keys height_cm, skill_moves, last_valuation, position, sub_position, preferred_foot\n",
    "    for key in keys_todelete:\n",
    "        del player_dict_c[key]\n",
    "\n",
    "    # sort the player_dict_c keys based on the values\n",
    "    sorted_keys_player_id = sorted(player_dict_c, key=player_dict_c.get, reverse=True)\n",
    "    #print(sorted_keys_player_id)\n",
    "\n",
    "    # sort the clusters based on the values\n",
    "    sorted_keys_clusters = []\n",
    "    for clus in clus_list_first:\n",
    "        sorted_keys_clusters.append((clus[0], sorted(clus[1], key=clus[1].get, reverse=True)))\n",
    "    #print(sorted_keys_clusters)\n",
    "\n",
    "    # filter the filtered clusters based on the remaining stats value\n",
    "    list_to_return = []\n",
    "    for clus in sorted_keys_clusters:\n",
    "        if len(list((set(sorted_keys_player_id[:10])) & (set(clus[1][:10])))) > 4:\n",
    "            list_to_return.append(clus[0])\n",
    "\n",
    "    # the first element of the output list must be the cluster with the smallest market_value\n",
    "    if len(list_to_return) > 0:\n",
    "        list_to_return = sorted(list_to_return, key=lambda x: clusters_list[x][\"last_valuation\"], reverse=False)\n",
    "\n",
    "    return list_to_return"
   ]
  },
  {
   "cell_type": "code",
   "execution_count": 48,
   "metadata": {},
   "outputs": [],
   "source": [
    "l = get_clus(player_id_dict_c, clusters_value_c)"
   ]
  },
  {
   "attachments": {},
   "cell_type": "markdown",
   "metadata": {},
   "source": [
    "This algorithm can return from 0 to n clusters. In this case, for example we show the first one because the list is sorted based on the last valuation (average) of the clusters. Then, it returns the the cluster with the smalles market value"
   ]
  },
  {
   "cell_type": "code",
   "execution_count": 50,
   "metadata": {},
   "outputs": [
    {
     "name": "stdout",
     "output_type": "stream",
     "text": [
      "output cluster index second algorithm:\n",
      "60\n"
     ]
    }
   ],
   "source": [
    "if len(l) == 0:\n",
    "    print(\"no cluster found\")\n",
    "else:\n",
    "    print(\"output cluster index second algorithm:\")\n",
    "    print(l[0])"
   ]
  },
  {
   "attachments": {},
   "cell_type": "markdown",
   "metadata": {},
   "source": [
    "Result 2 is the dataframe with the cluster (cluster_index) obtained by the first scouting algorithm"
   ]
  },
  {
   "cell_type": "code",
   "execution_count": 51,
   "metadata": {},
   "outputs": [],
   "source": [
    "if len(l) != 0:\n",
    "    result2 = df_k_means2.filter(col(\"cluster\") == l[0])"
   ]
  },
  {
   "attachments": {},
   "cell_type": "markdown",
   "metadata": {},
   "source": [
    "**Before showing the results of the two algorithms, we order the elements of the clusters according to the similarity to the input player**"
   ]
  },
  {
   "attachments": {},
   "cell_type": "markdown",
   "metadata": {},
   "source": [
    "Creating the dictionaries of the player_id and of the two clusters"
   ]
  },
  {
   "cell_type": "code",
   "execution_count": 52,
   "metadata": {},
   "outputs": [],
   "source": [
    "column_names = result_playerid.columns\n",
    "diz_result_playerid = {column: value for column, value in zip(column_names, result_playerid.first())} # dictionary of the player_id"
   ]
  },
  {
   "cell_type": "code",
   "execution_count": 53,
   "metadata": {},
   "outputs": [],
   "source": [
    "def from_df_to_dict(df):\n",
    "    # Convert the DataFrame into a list of rows using collect()\n",
    "    rows = df.collect()\n",
    "\n",
    "    # Define the function for the row processing\n",
    "    def process_row(row):\n",
    "        column_names = row.__fields__\n",
    "        row_dict = {column: getattr(row, column) for column in column_names}\n",
    "        l_diz_result.append(row_dict)\n",
    "\n",
    "    l_diz_result = [] # list for the results\n",
    "\n",
    "    # Function application to each row\n",
    "    for row in rows:\n",
    "        process_row(row)\n",
    "    return l_diz_result"
   ]
  },
  {
   "cell_type": "code",
   "execution_count": 54,
   "metadata": {},
   "outputs": [],
   "source": [
    "l_diz_result1 = from_df_to_dict(result1) # dictionary of the cluster result of the first algorithm\n",
    "if len(l) != 0:\n",
    "    l_diz_result2 = from_df_to_dict(result2) # dictionary of the cluster result of the second algorithm"
   ]
  },
  {
   "attachments": {},
   "cell_type": "markdown",
   "metadata": {},
   "source": [
    "We define the function that takes as input the dictionary of the input player and the dictionary of the cluster. Sort the cluster dictionary items by similarity to the player dictionary"
   ]
  },
  {
   "cell_type": "code",
   "execution_count": 55,
   "metadata": {},
   "outputs": [],
   "source": [
    "def sort_dicts(diz, ldiz):\n",
    "    del diz[\"player_id\"]\n",
    "    del diz[\"cluster\"]\n",
    "\n",
    "    # Creation of the list of unique keys\n",
    "    keys = set(diz.keys())\n",
    "    for ld in ldiz:\n",
    "        keys.update(ld.keys())\n",
    "\n",
    "    for el in ldiz:\n",
    "        del el[\"player_id\"]\n",
    "        del el[\"cluster\"]\n",
    "    \n",
    "    # Creation of the extended one-hot matrices for the reference dictionary (diz) and the dictionaries in the list (ldiz)\n",
    "    diz_matrix = create_extended_one_hot_matrix(diz, keys)\n",
    "    ldiz_matrices = [create_extended_one_hot_matrix(ld, keys) for ld in ldiz]\n",
    "    \n",
    "    # Calculate the cosine similarities between the reference dictionary and the dictionaries in the list\n",
    "    similarities = [cosine_similarity(diz_matrix, ld_matrix)[0][0] for ld_matrix in ldiz_matrices]\n",
    "\n",
    "    # Sort the dictionaries in the list based on the similarities\n",
    "    sorted_ldiz = [ld for _, ld in sorted(zip(similarities, ldiz), reverse=True)]\n",
    "    \n",
    "    return sorted_ldiz\n",
    "\n",
    "def create_extended_one_hot_matrix(diz, keys):\n",
    "    matrix = np.zeros((1, len(keys)))\n",
    "    key_list = list(keys)\n",
    "    for i, key in enumerate(key_list):\n",
    "        if key in diz:\n",
    "            value = diz[key]\n",
    "            if isinstance(value, str):\n",
    "                matrix[0][i] = 1\n",
    "            elif isinstance(value, (int, float)):\n",
    "                matrix[0][i] = value\n",
    "            elif isinstance(value, (list, tuple)):\n",
    "                matrix[0][i] = len(value)\n",
    "    return matrix"
   ]
  },
  {
   "cell_type": "code",
   "execution_count": 56,
   "metadata": {},
   "outputs": [],
   "source": [
    "if len(l) != 0:\n",
    "    l_diz_result2 = sort_dicts(copy.deepcopy(diz_result_playerid), copy.deepcopy(l_diz_result2))\n",
    "    \n",
    "l_diz_result1 = sort_dicts(copy.deepcopy(diz_result_playerid), copy.deepcopy(l_diz_result1))"
   ]
  },
  {
   "cell_type": "code",
   "execution_count": 57,
   "metadata": {},
   "outputs": [
    {
     "name": "stdout",
     "output_type": "stream",
     "text": [
      "output player first algorithm (players are sorted from most similar to least similar):\n"
     ]
    },
    {
     "name": "stdout",
     "output_type": "stream",
     "text": [
      "+--------------------+---+------------------+-------------------+--------------------------+-----------------------+-----------------+---------+---------------------------+------------------------+-------------------------+---------+------------------+--------------------+-------------------+-----------------------+--------------------+-----------------+---------+--------------+--------------------+-------------------+-----------------------+-------------------+---------------------+----------------+---------------------+----------------+----------------+------------------+---------------------+--------------------+-------+----+-------+------+--------+-------------+----------------+----------------+-------------+--------------+--------------+--------+------------------+-----------+---------------+-----------------+------------------+-----------+------------------+---------+\n",
      "|                name|age|attacking_crossing|attacking_finishing|attacking_heading_accuracy|attacking_short_passing|attacking_volleys|defending|defending_marking_awareness|defending_sliding_tackle|defending_standing_tackle|dribbling|goalkeeping_diving|goalkeeping_handling|goalkeeping_kicking|goalkeeping_positioning|goalkeeping_reflexes|goalkeeping_speed|height_cm|last_valuation|mentality_aggression|mentality_composure|mentality_interceptions|mentality_penalties|mentality_positioning|mentality_vision|movement_acceleration|movement_agility|movement_balance|movement_reactions|movement_sprint_speed|                name|overall|pace|passing|physic|position|power_jumping|power_long_shots|power_shot_power|power_stamina|power_strength|preferred_foot|shooting|skill_ball_control|skill_curve|skill_dribbling|skill_fk_accuracy|skill_long_passing|skill_moves|      sub_position|weak_foot|\n",
      "+--------------------+---+------------------+-------------------+--------------------------+-----------------------+-----------------+---------+---------------------------+------------------------+-------------------------+---------+------------------+--------------------+-------------------+-----------------------+--------------------+-----------------+---------+--------------+--------------------+-------------------+-----------------------+-------------------+---------------------+----------------+---------------------+----------------+----------------+------------------+---------------------+--------------------+-------+----+-------+------+--------+-------------+----------------+----------------+-------------+--------------+--------------+--------+------------------+-----------+---------------+-----------------+------------------+-----------+------------------+---------+\n",
      "|        Perr Schuurs| 23|                69|                 57|                        73|                     74|               52|       76|                         75|                      76|                       77|       66|                10|                  13|                  9|                      7|                   6|                0|      191|       8000000|                  67|                 68|                     77|                 57|                   44|              66|                   55|              57|              36|                74|                   75|        Perr Schuurs|     75|  66|     71|    74|Defender|           72|              70|              84|           75|            76|         Right|      64|                72|         68|             66|               71|                75|          2|       Centre-Back|        3|\n",
      "|          Uroš Račić| 25|                70|                 68|                        75|                     78|               66|       76|                         75|                      74|                       78|       72|                11|                  12|                  9|                     14|                   7|                0|      193|       8000000|                  68|                 73|                     74|                 72|                   71|              72|                   55|              62|              56|                74|                   67|          Uroš Račić|     75|  62|     74|    80|Midfield|           75|              78|              80|           73|            88|         Right|      73|                78|         70|             71|               59|                76|          3|Defensive Midfield|        4|\n",
      "|    Ibrahima Sissoko| 25|                59|                 53|                        70|                     78|               49|       72|                         70|                      71|                       76|       70|                11|                   5|                 14|                     11|                  11|                0|      193|       8000000|                  77|                 74|                     72|                 52|                   73|              73|                   61|              40|              33|                76|                   63|    Ibrahima Sissoko|     75|  62|     71|    84|Midfield|           67|              64|              74|           82|            89|         Right|      60|                78|         64|             74|               49|                77|          3|Defensive Midfield|        4|\n",
      "|         Anton Stach| 24|                70|                 58|                        77|                     77|               54|       74|                         66|                      66|                       77|       69|                 7|                  14|                  8|                      7|                  11|                0|      194|       8000000|                  73|                 68|                     86|                 51|                   74|              76|                   69|              60|              44|                76|                   78|         Anton Stach|     76|  74|     74|    78|Midfield|           66|              78|              84|           79|            81|         Right|      67|                76|         71|             69|               64|                73|          2|Defensive Midfield|        5|\n",
      "|        Amadou Onana| 21|                61|                 57|                        67|                     76|               51|       71|                         69|                      73|                       73|       71|                 7|                  12|                 12|                      9|                  10|                0|      195|      10000000|                  71|                 70|                     71|                 40|                   65|              70|                   68|              63|              50|                72|                   78|        Amadou Onana|     74|  74|     69|    76|Midfield|           67|              58|              72|           75|            80|         Right|      59|                75|         58|             73|               42|                74|          3|Defensive Midfield|        4|\n",
      "|          Pape Gueye| 24|                58|                 37|                        63|                     76|               45|       73|                         70|                      74|                       76|       70|                12|                  12|                 12|                     14|                  12|                0|      187|      10000000|                  79|                 73|                     75|                 42|                   63|              65|                   62|              55|              52|                76|                   64|          Pape Gueye|     76|  63|     66|    79|Midfield|           73|              43|              75|           79|            79|          Left|      48|                74|         46|             71|               35|                72|          2|Defensive Midfield|        3|\n",
      "|       Nicolò Casale| 25|                69|                 47|                        74|                     70|               47|       77|                         77|                      76|                       76|       68|                14|                   8|                 13|                     13|                   9|                0|      191|       6000000|                  80|                 67|                     78|                 52|                   54|              63|                   68|              60|              60|                78|                   78|       Nicolò Casale|     76|  74|     66|    77|Defender|           71|              48|              72|           67|            81|         Right|      53|                69|         60|             70|               44|                63|          2|       Centre-Back|        3|\n",
      "| Kristian Thorstvedt| 24|                58|                 71|                        72|                     76|               65|       66|                         63|                      57|                       69|       72|                13|                   8|                 10|                      6|                  12|                0|      189|       6000000|                  73|                 71|                     67|                 52|                   70|              69|                   61|              65|              42|                68|                   65| Kristian Thorstvedt|     72|  63|     69|    80|  Attack|           70|              75|              78|           78|            85|          Left|      72|                75|         70|             75|               57|                72|          3|Attacking Midfield|        4|\n",
      "|     Kristoffer Ajer| 25|                58|                 58|                        74|                     71|               41|       75|                         74|                      76|                       76|       70|                 9|                   9|                 14|                      7|                  10|                0|      196|      17000000|                  80|                 75|                     73|                 49|                   54|              50|                   63|              52|              46|                67|                   79|     Kristoffer Ajer|     75|  72|     61|    81|Defender|           56|              47|              64|           70|            90|         Right|      56|                74|         58|             73|               42|                64|          3|       Centre-Back|        3|\n",
      "|       Edson Álvarez| 25|                64|                 57|                        81|                     76|               63|       82|                         84|                      79|                       81|       69|                 7|                  11|                 10|                      7|                   6|                0|      187|      20000000|                  86|                 72|                     83|                 65|                   56|              63|                   69|              60|              68|                76|                   73|       Edson Álvarez|     80|  71|     67|    86|Midfield|           78|              40|              70|           87|            86|         Right|      57|                71|         42|             68|               40|                72|          2|Defensive Midfield|        3|\n",
      "|      Josko Gvardiol| 21|                61|                 42|                        77|                     76|               54|       80|                         77|                      83|                       83|       74|                 5|                   8|                  6|                      9|                  11|                0|      185|      30000000|                  85|                 75|                     80|                 61|                   58|              65|                   80|              68|              65|                77|                   84|      Josko Gvardiol|     81|  82|     69|    83|Defender|           84|              56|              76|           79|            84|          Left|      54|                76|         59|             75|               59|                74|          3|       Centre-Back|        4|\n",
      "|          Jean Onana| 23|                59|                 61|                        64|                     75|               64|       70|                         69|                      63|                       73|       71|                 9|                  14|                 15|                     12|                   9|                0|      187|       4000000|                  77|                 76|                     74|                 54|                   64|              74|                   57|              56|              55|                72|                   60|          Jean Onana|     73|  59|     69|    81|Midfield|           64|              68|              77|           77|            87|         Right|      66|                74|         59|             73|               50|                73|          3|Defensive Midfield|        3|\n",
      "|          Jaka Bijol| 24|                50|                 57|                        78|                     75|               55|       73|                         74|                      70|                       71|       61|                13|                   7|                 12|                     10|                  13|                0|      190|       3500000|                  68|                 69|                     71|                 53|                   53|              66|                   62|              53|              51|                69|                   67|          Jaka Bijol|     73|  65|     65|    78|Defender|           78|              53|              71|           72|            84|         Right|      59|                65|         47|             60|               47|                74|          2|       Centre-Back|        3|\n",
      "|        David Hancko| 25|                71|                 53|                        79|                     72|               42|       77|                         76|                      77|                       77|       70|                14|                  12|                  6|                      7|                  14|                0|      188|       1600000|                  73|                 74|                     78|                 69|                   65|              62|                   76|              68|              53|                77|                   80|        David Hancko|     77|  78|     69|    79|Defender|           63|              68|              74|           79|            82|          Left|      61|                72|         60|             69|               72|                73|          2|       Centre-Back|        3|\n",
      "|Victor van den Bo...| 23|                52|                 50|                        85|                     75|               45|       84|                         84|                      85|                       86|       69|                12|                  11|                 11|                     12|                  10|                0|      189|        225000|                  83|                 82|                     81|                 40|                   44|              45|                   69|              60|              62|                84|                   79|Victor van den Bo...|     85|  75|     61|    87|Defender|           93|              66|              82|           75|            93|         Right|      59|                73|         48|             65|               55|                67|          2|       Centre-Back|        3|\n",
      "+--------------------+---+------------------+-------------------+--------------------------+-----------------------+-----------------+---------+---------------------------+------------------------+-------------------------+---------+------------------+--------------------+-------------------+-----------------------+--------------------+-----------------+---------+--------------+--------------------+-------------------+-----------------------+-------------------+---------------------+----------------+---------------------+----------------+----------------+------------------+---------------------+--------------------+-------+----+-------+------+--------+-------------+----------------+----------------+-------------+--------------+--------------+--------+------------------+-----------+---------------+-----------------+------------------+-----------+------------------+---------+\n",
      "\n",
      "None\n"
     ]
    }
   ],
   "source": [
    "print(\"output player first algorithm (players are sorted from most similar to least similar):\")\n",
    "result1 = spark.createDataFrame(l_diz_result1)\n",
    "print(result1.select(\"name\",*result1.columns).show())"
   ]
  },
  {
   "cell_type": "code",
   "execution_count": 58,
   "metadata": {},
   "outputs": [
    {
     "name": "stdout",
     "output_type": "stream",
     "text": [
      "output player second algorithm (players are sorted from most similar to least similar):\n",
      "+------------------+---+------------------+-------------------+--------------------------+-----------------------+-----------------+---------+---------------------------+------------------------+-------------------------+---------+------------------+--------------------+-------------------+-----------------------+--------------------+-----------------+---------+--------------+--------------------+-------------------+-----------------------+-------------------+---------------------+----------------+---------------------+----------------+----------------+------------------+---------------------+------------------+-------+----+-------+------+--------+-------------+----------------+----------------+-------------+--------------+--------------+--------+------------------+-----------+---------------+-----------------+------------------+-----------+------------------+---------+\n",
      "|              name|age|attacking_crossing|attacking_finishing|attacking_heading_accuracy|attacking_short_passing|attacking_volleys|defending|defending_marking_awareness|defending_sliding_tackle|defending_standing_tackle|dribbling|goalkeeping_diving|goalkeeping_handling|goalkeeping_kicking|goalkeeping_positioning|goalkeeping_reflexes|goalkeeping_speed|height_cm|last_valuation|mentality_aggression|mentality_composure|mentality_interceptions|mentality_penalties|mentality_positioning|mentality_vision|movement_acceleration|movement_agility|movement_balance|movement_reactions|movement_sprint_speed|              name|overall|pace|passing|physic|position|power_jumping|power_long_shots|power_shot_power|power_stamina|power_strength|preferred_foot|shooting|skill_ball_control|skill_curve|skill_dribbling|skill_fk_accuracy|skill_long_passing|skill_moves|      sub_position|weak_foot|\n",
      "+------------------+---+------------------+-------------------+--------------------------+-----------------------+-----------------+---------+---------------------------+------------------------+-------------------------+---------+------------------+--------------------+-------------------+-----------------------+--------------------+-----------------+---------+--------------+--------------------+-------------------+-----------------------+-------------------+---------------------+----------------+---------------------+----------------+----------------+------------------+---------------------+------------------+-------+----+-------+------+--------+-------------+----------------+----------------+-------------+--------------+--------------+--------+------------------+-----------+---------------+-----------------+------------------+-----------+------------------+---------+\n",
      "|  Flavius Daniliuc| 22|                51|                 39|                        77|                     72|               33|       74|                         74|                      69|                       75|       60|                14|                  11|                  7|                      6|                   7|                0|      188|       7000000|                  73|                 72|                     71|                 31|                   49|              58|                   47|              46|              47|                71|                   62|  Flavius Daniliuc|     73|  55|     61|    75|Defender|           61|              38|              56|           67|            81|         Right|      42|                66|         51|             59|               30|                68|          2|       Centre-Back|        4|\n",
      "|        Florentino| 23|                41|                 35|                        67|                     75|               36|       77|                         77|                      77|                       79|       68|                 6|                  14|                 14|                     10|                  14|                0|      184|       8000000|                  78|                 76|                     78|                 38|                   61|              66|                   50|              71|              65|                71|                   60|        Florentino|     76|  56|     62|    72|Midfield|           60|              43|              65|           73|            71|         Right|      44|                71|         44|             64|               32|                70|          2|Defensive Midfield|        2|\n",
      "|      Warmed Omari| 23|                44|                 25|                        77|                     73|               31|       77|                         77|                      76|                       79|       61|                 9|                   7|                 13|                     10|                  14|                0|      185|       8000000|                  70|                 69|                     76|                 41|                   34|              51|                   63|              48|              54|                71|                   66|      Warmed Omari|     75|  65|     58|    73|Defender|           72|              33|              52|           70|            75|         Right|      34|                68|         44|             59|               32|                64|          2|       Centre-Back|        3|\n",
      "|      Jorge Cuenca| 23|                45|                 27|                        76|                     71|               31|       74|                         71|                      74|                       76|       52|                10|                  12|                  5|                     14|                  12|                0|      190|       8000000|                  73|                 61|                     74|                 44|                   21|              58|                   58|              62|              67|                74|                   61|      Jorge Cuenca|     73|  60|     58|    66|Defender|           75|              41|              59|           62|            65|          Left|      37|                68|         29|             34|               26|                67|          2|       Centre-Back|        3|\n",
      "|      Chris Mepham| 25|                38|                 32|                        70|                     66|               33|       72|                         70|                      72|                       74|       60|                10|                  10|                 12|                     14|                  12|                0|      191|       6000000|                  73|                 67|                     71|                 44|                   39|              53|                   53|              51|              64|                68|                   62|      Chris Mepham|     71|  58|     55|    72|Defender|           74|              32|              52|           61|            77|         Right|      37|                64|         41|             58|               35|                63|          2|       Centre-Back|        3|\n",
      "|     Stanley Nsoki| 24|                59|                 34|                        75|                     68|               31|       73|                         70|                      73|                       76|       67|                 8|                  12|                 13|                      9|                  10|                0|      184|       6500000|                  75|                 66|                     71|                 37|                   55|              63|                   69|              61|              65|                65|                   77|     Stanley Nsoki|     73|  73|     62|    77|Defender|           70|              36|              47|           75|            80|          Left|      38|                67|         49|             68|               31|                65|          2|       Centre-Back|        2|\n",
      "|  Zinho Vanheusden| 23|                54|                 42|                        70|                     69|               29|       73|                         73|                      74|                       73|       65|                11|                   9|                  9|                      9|                   6|                0|      187|      10000000|                  69|                 72|                     73|                 62|                   47|              59|                   54|              65|              59|                71|                   55|  Zinho Vanheusden|     72|  55|     61|    75|Defender|           73|              37|              58|           69|            80|         Right|      45|                68|         54|             63|               34|                67|          2|       Centre-Back|        3|\n",
      "|       Lloyd Kelly| 24|                64|                 34|                        71|                     67|               35|       74|                         73|                      74|                       76|       68|                 7|                   8|                  8|                     11|                  12|                0|      190|      10000000|                  73|                 69|                     72|                 45|                   58|              59|                   68|              62|              63|                70|                   75|       Lloyd Kelly|     73|  72|     62|    75|Defender|           71|              41|              50|           71|            78|          Left|      40|                71|         44|             67|               42|                65|          3|       Centre-Back|        3|\n",
      "|  Leonardo Balerdi| 24|                42|                 29|                        77|                     75|               29|       75|                         75|                      75|                       77|       64|                 6|                   8|                 15|                     15|                  14|                0|      187|      10000000|                  76|                 67|                     72|                 47|                   33|              43|                   64|              64|              56|                69|                   72|  Leonardo Balerdi|     75|  68|     57|    75|Defender|           74|              31|              55|           68|            78|         Right|      36|                69|         39|             60|               30|                70|          2|       Centre-Back|        3|\n",
      "|     Márton Dárdai| 21|                60|                 25|                        69|                     68|               35|       72|                         70|                      72|                       74|       63|                15|                  11|                 11|                      8|                  14|                0|      188|       5000000|                  60|                 68|                     75|                 36|                   31|              68|                   66|              64|              65|                67|                   65|     Márton Dárdai|     71|  65|     65|    70|Defender|           72|              22|              52|           68|            74|          Left|      31|                64|         44|             60|               31|                76|          2|       Centre-Back|        4|\n",
      "|      Malick Thiaw| 21|                49|                 43|                        73|                     70|               44|       71|                         70|                      69|                       73|       65|                10|                   6|                 15|                     11|                   9|                0|      191|       5000000|                  66|                 71|                     70|                 64|                   42|              55|                   70|              65|              60|                71|                   75|      Malick Thiaw|     72|  73|     60|    73|Defender|           76|              46|              56|           65|            79|         Right|      47|                67|         52|             62|               44|                65|          2|       Centre-Back|        5|\n",
      "|    Pascal Struijk| 23|                42|                 31|                        73|                     75|               34|       77|                         76|                      76|                       77|       63|                14|                   8|                  8|                     10|                  14|                0|      190|      15000000|                  76|                 73|                     79|                 55|                   33|              56|                   55|              50|              54|                73|                   58|    Pascal Struijk|     76|  57|     61|    76|Defender|           73|              30|              62|           72|            78|          Left|      38|                71|         42|             60|               32|                73|          2|         Left-Back|        4|\n",
      "|   Trevoh Chalobah| 23|                53|                 44|                        72|                     75|               40|       76|                         76|                      76|                       78|       68|                 5|                   5|                  9|                      9|                   7|                0|      191|      20000000|                  74|                 68|                     77|                 42|                   49|              64|                   62|              51|              55|                75|                   66|   Trevoh Chalobah|     76|  64|     65|    76|Defender|           61|              50|              55|           67|            82|         Right|      47|                72|         49|             69|               43|                70|          3|       Centre-Back|        3|\n",
      "|        Saïdou Sow| 20|                43|                 38|                        71|                     64|               28|       70|                         69|                      70|                       71|       60|                10|                   5|                 10|                      6|                   9|                0|      185|       4000000|                  66|                 68|                     70|                 44|                   42|              49|                   62|              51|              57|                68|                   64|        Saïdou Sow|     70|  63|     54|    68|Defender|           76|              40|              49|           48|            77|         Right|      41|                63|         52|             59|               27|                59|          2|       Centre-Back|        3|\n",
      "| Panagiotis Retsos| 24|                57|                 26|                        70|                     74|               26|       73|                         70|                      71|                       77|       57|                14|                   9|                 11|                      6|                   7|                0|      186|       3500000|                  69|                 71|                     75|                 33|                   37|              42|                   60|              66|              51|                72|                   65| Panagiotis Retsos|     72|  63|     58|    71|Defender|           74|              33|              60|           66|            74|         Right|      35|                65|         37|             46|               29|                62|          2|       Centre-Back|        3|\n",
      "|Jean-Kévin Duverne| 25|                58|                 31|                        77|                     73|               32|       75|                         75|                      72|                       75|       70|                13|                   9|                  8|                      6|                  12|                0|      184|       3500000|                  68|                 69|                     73|                 33|                   55|              54|                   60|              66|              65|                69|                   65|Jean-Kévin Duverne|     73|  63|     62|    74|Defender|           78|              36|              55|           75|            75|         Right|      38|                71|         54|             70|               28|                63|          3|       Centre-Back|        3|\n",
      "|      Marco Friedl| 25|                63|                 37|                        66|                     65|               47|       75|                         75|                      74|                       79|       67|                11|                  15|                  6|                      6|                   7|                0|      187|       3500000|                  78|                 65|                     73|                 45|                   56|              47|                   67|              65|              62|                73|                   67|      Marco Friedl|     74|  67|     59|    75|Defender|           66|              44|              48|           70|            77|          Left|      42|                71|         45|             64|               42|                67|          2|       Centre-Back|        2|\n",
      "|      Bosko Sutalo| 23|                62|                 38|                        66|                     65|               30|       74|                         75|                      69|                       74|       63|                13|                  14|                 14|                     11|                   5|                0|      188|       3000000|                  72|                 57|                     80|                 47|                   38|              42|                   62|              73|              52|                73|                   60|      Bosko Sutalo|     72|  61|     56|    67|Defender|           65|              40|              68|           59|            69|         Right|      44|                64|         41|             61|               29|                58|          2|       Centre-Back|        3|\n",
      "|   Lilian Brassier| 23|                59|                 30|                        75|                     69|               27|       72|                         72|                      71|                       74|       67|                 8|                   6|                  7|                      9|                   6|                0|      186|       3000000|                  69|                 67|                     68|                 45|                   53|              58|                   68|              60|              56|                68|                   69|   Lilian Brassier|     72|  69|     61|    73|Defender|           70|              28|              51|           71|            76|          Left|      36|                71|         45|             67|               40|                62|          2|       Centre-Back|        2|\n",
      "|    Danilho Doekhi| 24|                46|                 39|                        75|                     70|               39|       74|                         74|                      72|                       74|       64|                 9|                   9|                 10|                     13|                  14|                0|      190|       3000000|                  72|                 68|                     72|                 33|                   40|              57|                   52|              62|              54|                73|                   59|    Danilho Doekhi|     74|  56|     59|    81|Defender|           81|              31|              61|           77|            87|         Right|      42|                69|         39|             60|               29|                67|          2|       Centre-Back|        3|\n",
      "+------------------+---+------------------+-------------------+--------------------------+-----------------------+-----------------+---------+---------------------------+------------------------+-------------------------+---------+------------------+--------------------+-------------------+-----------------------+--------------------+-----------------+---------+--------------+--------------------+-------------------+-----------------------+-------------------+---------------------+----------------+---------------------+----------------+----------------+------------------+---------------------+------------------+-------+----+-------+------+--------+-------------+----------------+----------------+-------------+--------------+--------------+--------+------------------+-----------+---------------+-----------------+------------------+-----------+------------------+---------+\n",
      "only showing top 20 rows\n",
      "\n",
      "None\n"
     ]
    }
   ],
   "source": [
    "if len(l) != 0:\n",
    "    print(\"output player second algorithm (players are sorted from most similar to least similar):\")\n",
    "    result2 = spark.createDataFrame(l_diz_result2)\n",
    "    print(result2.select(\"name\",*result2.columns).show())\n",
    "else:\n",
    "    print(\"no cluster found\")"
   ]
  }
 ],
 "metadata": {
  "kernelspec": {
   "display_name": "Python 3",
   "language": "python",
   "name": "python3"
  },
  "language_info": {
   "codemirror_mode": {
    "name": "ipython",
    "version": 3
   },
   "file_extension": ".py",
   "mimetype": "text/x-python",
   "name": "python",
   "nbconvert_exporter": "python",
   "pygments_lexer": "ipython3",
   "version": "3.10.9"
  },
  "orig_nbformat": 4
 },
 "nbformat": 4,
 "nbformat_minor": 2
}
