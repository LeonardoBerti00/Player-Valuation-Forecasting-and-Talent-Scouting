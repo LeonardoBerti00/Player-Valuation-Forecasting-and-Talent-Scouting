{
 "cells": [
  {
   "attachments": {},
   "cell_type": "markdown",
   "metadata": {},
   "source": [
    "# Pre Processing\n",
    "**In this file, we will analyze the initial dataset consisting of CSV files in order to create the final dataset. The final dataset, composed of the relevant columns, will be used to train the predictive models**"
   ]
  },
  {
   "attachments": {},
   "cell_type": "markdown",
   "metadata": {},
   "source": [
    "Imported libraries"
   ]
  },
  {
   "cell_type": "code",
   "execution_count": 1,
   "metadata": {},
   "outputs": [],
   "source": [
    "import pyspark\n",
    "from pyspark.sql import *\n",
    "from pyspark.sql.types import *\n",
    "from pyspark.sql.functions import *\n",
    "from pyspark import SparkContext, SparkConf\n",
    "import numpy as np\n",
    "from pyspark.sql.functions import udf\n",
    "from pyspark.sql.types import BinaryType\n",
    "from pyspark.sql import SparkSession\n",
    "from pyspark.conf import SparkConf"
   ]
  },
  {
   "attachments": {},
   "cell_type": "markdown",
   "metadata": {},
   "source": [
    "Creating the pyspark session"
   ]
  },
  {
   "cell_type": "code",
   "execution_count": 2,
   "metadata": {},
   "outputs": [
    {
     "data": {
      "text/plain": [
       "[('spark.executor.memory', '15G'),\n",
       " ('spark.executor.id', 'driver'),\n",
       " ('spark.driver.memory', '50G'),\n",
       " ('spark.driver.port', '51067'),\n",
       " ('spark.app.startTime', '1683728276005'),\n",
       " ('spark.executor.cores', '10'),\n",
       " ('spark.app.submitTime', '1683728275813'),\n",
       " ('spark.app.name', 'PySparkProject'),\n",
       " ('spark.driver.extraJavaOptions',\n",
       "  '-Djava.net.preferIPv6Addresses=false -XX:+IgnoreUnrecognizedVMOptions --add-opens=java.base/java.lang=ALL-UNNAMED --add-opens=java.base/java.lang.invoke=ALL-UNNAMED --add-opens=java.base/java.lang.reflect=ALL-UNNAMED --add-opens=java.base/java.io=ALL-UNNAMED --add-opens=java.base/java.net=ALL-UNNAMED --add-opens=java.base/java.nio=ALL-UNNAMED --add-opens=java.base/java.util=ALL-UNNAMED --add-opens=java.base/java.util.concurrent=ALL-UNNAMED --add-opens=java.base/java.util.concurrent.atomic=ALL-UNNAMED --add-opens=java.base/sun.nio.ch=ALL-UNNAMED --add-opens=java.base/sun.nio.cs=ALL-UNNAMED --add-opens=java.base/sun.security.action=ALL-UNNAMED --add-opens=java.base/sun.util.calendar=ALL-UNNAMED --add-opens=java.security.jgss/sun.security.krb5=ALL-UNNAMED -Djdk.reflect.useDirectMethodHandle=false'),\n",
       " ('spark.app.id', 'local-1683728277250'),\n",
       " ('spark.ui.port', '4050'),\n",
       " ('spark.driver.maxResultSize', '40G'),\n",
       " ('spark.driver.host', 'gino'),\n",
       " ('spark.rdd.compress', 'True'),\n",
       " ('spark.serializer.objectStreamReset', '100'),\n",
       " ('spark.master', 'local[*]'),\n",
       " ('spark.submit.pyFiles', ''),\n",
       " ('spark.submit.deployMode', 'client'),\n",
       " ('spark.ui.showConsoleProgress', 'true'),\n",
       " ('spark.executor.extraJavaOptions',\n",
       "  '-Djava.net.preferIPv6Addresses=false -XX:+IgnoreUnrecognizedVMOptions --add-opens=java.base/java.lang=ALL-UNNAMED --add-opens=java.base/java.lang.invoke=ALL-UNNAMED --add-opens=java.base/java.lang.reflect=ALL-UNNAMED --add-opens=java.base/java.io=ALL-UNNAMED --add-opens=java.base/java.net=ALL-UNNAMED --add-opens=java.base/java.nio=ALL-UNNAMED --add-opens=java.base/java.util=ALL-UNNAMED --add-opens=java.base/java.util.concurrent=ALL-UNNAMED --add-opens=java.base/java.util.concurrent.atomic=ALL-UNNAMED --add-opens=java.base/sun.nio.ch=ALL-UNNAMED --add-opens=java.base/sun.nio.cs=ALL-UNNAMED --add-opens=java.base/sun.security.action=ALL-UNNAMED --add-opens=java.base/sun.util.calendar=ALL-UNNAMED --add-opens=java.security.jgss/sun.security.krb5=ALL-UNNAMED -Djdk.reflect.useDirectMethodHandle=false')]"
      ]
     },
     "execution_count": 2,
     "metadata": {},
     "output_type": "execute_result"
    }
   ],
   "source": [
    "# Create the session\n",
    "conf = SparkConf(). \\\n",
    "    set('spark.ui.port', \"4050\"). \\\n",
    "    set('spark.executor.memory', '15G'). \\\n",
    "    set('spark.driver.memory', '50G'). \\\n",
    "    set('spark.driver.maxResultSize', '40G'). \\\n",
    "    setAppName(\"PySparkProject\"). \\\n",
    "    set('spark.executor.cores', \"10\"). \\\n",
    "    setMaster(\"local[*]\")\n",
    "\n",
    "sc = pyspark.SparkContext.getOrCreate(conf=conf)\n",
    "spark = SparkSession.builder.getOrCreate()\n",
    "\n",
    "sc._conf.getAll()"
   ]
  },
  {
   "attachments": {},
   "cell_type": "markdown",
   "metadata": {},
   "source": [
    "**Work on dataset begins**"
   ]
  },
  {
   "attachments": {},
   "cell_type": "markdown",
   "metadata": {},
   "source": [
    "Loading dataframes"
   ]
  },
  {
   "cell_type": "code",
   "execution_count": 3,
   "metadata": {},
   "outputs": [],
   "source": [
    "# load the cvs files into dataframes\n",
    "path = \"C:/Users/marco/Desktop\"\n",
    "\n",
    "try:\n",
    "    df_appearances = spark.read.csv(\"archive/appearances.csv\", header=True, inferSchema=True)\n",
    "    df_club_games = spark.read.csv(\"archive/club_games.csv\", header=True, inferSchema=True)\n",
    "    df_clubs = spark.read.csv(\"archive/clubs.csv\", header=True, inferSchema=True)\n",
    "    df_competitions = spark.read.csv(\"archive/competitions.csv\", header=True, inferSchema=True)\n",
    "    df_game_events = spark.read.csv(\"archive/game_events.csv\", header=True, inferSchema=True)\n",
    "    df_games = spark.read.csv(\"archive/games.csv\", header=True, inferSchema=True)\n",
    "    df_player_valuations = spark.read.csv(\"archive/player_valuations.csv\", header=True, inferSchema=True)\n",
    "    df_players = spark.read.csv(\"archive/players.csv\", header=True, inferSchema=True)\n",
    "except Exception:\n",
    "    df_appearances = spark.read.csv(path+\"/archive/appearances.csv\", header=True, inferSchema=True)\n",
    "    df_club_games = spark.read.csv(path+\"/archive/club_games.csv\", header=True, inferSchema=True)\n",
    "    df_clubs = spark.read.csv(path+\"/archive/clubs.csv\", header=True, inferSchema=True)\n",
    "    df_competitions = spark.read.csv(path+\"/archive/competitions.csv\", header=True, inferSchema=True)\n",
    "    df_game_events = spark.read.csv(path+\"/archive/game_events.csv\", header=True, inferSchema=True)\n",
    "    df_games = spark.read.csv(path+\"/archive/games.csv\", header=True, inferSchema=True)\n",
    "    df_player_valuations = spark.read.csv(path+\"/archive/player_valuations.csv\", header=True, inferSchema=True)\n",
    "    df_players = spark.read.csv(path+\"/archive/players.csv\", header=True, inferSchema=True)"
   ]
  },
  {
   "cell_type": "code",
   "execution_count": 4,
   "metadata": {},
   "outputs": [],
   "source": [
    "df_games_join = df_games.join(df_club_games, df_games.game_id == df_club_games.game_id, how='left')\n",
    "df_appearances_c = df_appearances.withColumnRenamed(\"date\", \"datec\")\n",
    "df_appearances_join = df_games.join(df_appearances_c, df_games.game_id == df_appearances_c.game_id, how='left')"
   ]
  },
  {
   "cell_type": "code",
   "execution_count": 5,
   "metadata": {},
   "outputs": [],
   "source": [
    "#print(df_games_join.filter((df_games_join.club_id == 31) & (df_games_join.date.between('2020-12-23', '2021-12-23'))).count())\n",
    "#df_games_join.filter((df_games_join.club_id == 31) & (df_games_join.date.between('2020-12-23', '2021-12-23'))).show()"
   ]
  },
  {
   "cell_type": "code",
   "execution_count": 6,
   "metadata": {},
   "outputs": [],
   "source": [
    "#print(df_appearances_join.filter((df_appearances_join.player_id == 148455) & (df_appearances_join.datec.between('2020-12-23', '2021-12-23'))).count())\n",
    "#df_appearances_join.filter((df_appearances_join.player_id == 148455) & (df_appearances_join.datec.between('2020-12-23', '2021-12-23'))).show()"
   ]
  },
  {
   "cell_type": "code",
   "execution_count": 7,
   "metadata": {},
   "outputs": [
    {
     "name": "stdout",
     "output_type": "stream",
     "text": [
      "root\n",
      " |-- appearance_id: string (nullable = true)\n",
      " |-- game_id: integer (nullable = true)\n",
      " |-- player_id: integer (nullable = true)\n",
      " |-- player_club_id: integer (nullable = true)\n",
      " |-- player_current_club_id: integer (nullable = true)\n",
      " |-- date: date (nullable = true)\n",
      " |-- player_name: string (nullable = true)\n",
      " |-- competition_id: string (nullable = true)\n",
      " |-- yellow_cards: integer (nullable = true)\n",
      " |-- red_cards: integer (nullable = true)\n",
      " |-- goals: integer (nullable = true)\n",
      " |-- assists: integer (nullable = true)\n",
      " |-- minutes_played: integer (nullable = true)\n",
      "\n"
     ]
    }
   ],
   "source": [
    "# CELLA DA CANCELLARE --> CI SONO DEI DUPLICATI NELLA TABELLA PRESENZE --> NON RISOLVE IL PROBLEMA DI SALAH...  ;(\n",
    "df_appearances.printSchema()\n",
    "#conta righe df_appearances\n",
    "#print(df_appearances.count())\n",
    "# droppiamo duplicati in base a date e player_id\n",
    "df_appearances = df_appearances.dropDuplicates(['date', 'player_id'])\n",
    "#conta righe df_appearances\n",
    "#print(df_appearances.count())"
   ]
  },
  {
   "cell_type": "code",
   "execution_count": 8,
   "metadata": {},
   "outputs": [],
   "source": [
    "# drop duplicates df_club_games\n",
    "#df_club_games.printSchema()\n",
    "#print(df_club_games.count())\n",
    "df_club_games = df_club_games.dropDuplicates(['club_id', 'own_goals', 'own_position', 'own_manager_name', 'opponent_id', 'opponent_goals', 'opponent_position', 'opponent_manager_name', 'hosting', 'is_win'])\n",
    "#print(df_club_games.count())"
   ]
  },
  {
   "cell_type": "code",
   "execution_count": 9,
   "metadata": {},
   "outputs": [],
   "source": [
    "# drop duplicates df_games\n",
    "#df_games.printSchema()\n",
    "#print(df_games.count())\n",
    "df_games = df_games.dropDuplicates(['home_club_id', 'away_club_id', 'date'])\n",
    "#print(df_games.count())"
   ]
  },
  {
   "cell_type": "code",
   "execution_count": 10,
   "metadata": {},
   "outputs": [],
   "source": [
    "# join players and appearances\n",
    "df_players_appearances = df_players.join(df_appearances, [\"player_id\"], how='inner')"
   ]
  },
  {
   "cell_type": "code",
   "execution_count": 11,
   "metadata": {},
   "outputs": [],
   "source": [
    " # join players_appearances and club_games to extract information about the games played by the player\n",
    "#rinomina player_club_id in club_id\n",
    "df_players_appearances = df_players_appearances.withColumnRenamed(\"player_club_id\", \"club_id\")\n",
    "df_players_appearances = df_players_appearances.join(df_club_games, [\"game_id\", \"club_id\"], how='inner')"
   ]
  },
  {
   "cell_type": "code",
   "execution_count": 12,
   "metadata": {},
   "outputs": [],
   "source": [
    "# drop useless and duplicated features from df_players_appearances\n",
    "df_players_appearances = df_players_appearances.drop(\"current_club_id\", \"appearance_id\",\n",
    "                                                        \"highest_market_value_in_eur\", \"current_club_name\",\n",
    "                                                        \"city_of_birth\", \"market_value_in_eur\",\n",
    "                                                        \"contract_expiration_date\", \"agent_name\",\n",
    "                                                        \"current_club_domestic_competition_id\", \"image_url\",\n",
    "                                                        \"last_season\", \"url\", \"player_current_club_id\",\n",
    "                                                        \"first_name\", \"last_name\", \"player_name\", \"player_code\")"
   ]
  },
  {
   "cell_type": "code",
   "execution_count": 13,
   "metadata": {},
   "outputs": [],
   "source": [
    "# drop useless and duplicated features from df_players_valuations\n",
    "df_player_valuations = df_player_valuations.drop(\"datetime\", \"dateweek\")"
   ]
  },
  {
   "cell_type": "code",
   "execution_count": 14,
   "metadata": {},
   "outputs": [],
   "source": [
    "# rename the column date of df_players_valuations in date_v to avoid confusion with the date of df_players_appearances\n",
    "df_player_valuations = df_player_valuations.withColumnRenamed(\"date\", \"date_v\")"
   ]
  },
  {
   "cell_type": "code",
   "execution_count": 15,
   "metadata": {},
   "outputs": [],
   "source": [
    "# Join the two dataframes on player_id\n",
    "df = df_player_valuations.join(df_players_appearances, \"player_id\")"
   ]
  },
  {
   "cell_type": "code",
   "execution_count": 16,
   "metadata": {},
   "outputs": [],
   "source": [
    "# TODO decide if we want to keep the players with no appearances, in case we have to do a union with valuations\n",
    "# adding before the zeroed column of df_players_appearances"
   ]
  },
  {
   "cell_type": "code",
   "execution_count": 17,
   "metadata": {},
   "outputs": [],
   "source": [
    "# we want to keep only the rows where the appearence date is within 1 year from the valuation date\n",
    "df = df.filter(\n",
    "    (year(df.date_v) == year(df.date) + 1) & (month(df.date_v) < month(df.date)) |\n",
    "    (year(df.date_v) == year(df.date)) & (month(df.date_v) > month(df.date)) |\n",
    "    (year(df.date_v) == year(df.date)) & (month(df.date_v) == month(df.date)) & (dayofmonth(df.date_v) > dayofmonth(df.date)) |\n",
    "    (year(df.date_v) == year(df.date) + 1) & (month(df.date_v) == month(df.date)) & (dayofmonth(df.date_v) < dayofmonth(df.date))\n",
    ").dropDuplicates([\"player_id\", \"date\", \"date_v\"])"
   ]
  },
  {
   "cell_type": "code",
   "execution_count": 18,
   "metadata": {},
   "outputs": [],
   "source": [
    "#df.filter(df.player_id == 148455).show(100)"
   ]
  },
  {
   "attachments": {},
   "cell_type": "markdown",
   "metadata": {},
   "source": [
    "We add the statistics of the teams in which the player played during the year and in which the player took the field (appearance)"
   ]
  },
  {
   "cell_type": "code",
   "execution_count": 19,
   "metadata": {},
   "outputs": [],
   "source": [
    "# add the is_draw to count the draws\n",
    "df = df.withColumn(\"is_draw\", when(df.own_goals == df.opponent_goals, 1).otherwise(0))\n",
    "\n",
    "# add column games_played that counts the instances with key (player_id, date_v)\n",
    "df = df.withColumn(\"appearances\", count(df.date_v).over(Window.partitionBy(\"date_v\", \"player_id\")))\n",
    "\n",
    "# add column games_won that counts the instances with key (player_id, date_v) and is_win = 1\n",
    "df = df.withColumn(\"games_won_pl\",\n",
    "                                count(when(df.own_goals > df.opponent_goals, 1)).over(Window.partitionBy(\"date_v\", \"player_id\")))\n",
    "\n",
    "# add column games_draw_pl that counts the instances with key (player_id, date_v) and is_draw = 1\n",
    "df = df.withColumn(\"games_draw_pl\",\n",
    "                                count(when(df.is_draw == 1, 1)).over(Window.partitionBy(\"date_v\", \"player_id\")))\n",
    "\n",
    "df = df.withColumn(\"games_lost_pl\", count(when(df.own_goals < df.opponent_goals, 1)).over(Window.partitionBy(\"date_v\", \"player_id\")))"
   ]
  },
  {
   "cell_type": "code",
   "execution_count": 20,
   "metadata": {},
   "outputs": [],
   "source": [
    "#df.filter(df.player_id == 148455).sort(col(\"date_v\").desc()).show()"
   ]
  },
  {
   "cell_type": "code",
   "execution_count": 21,
   "metadata": {},
   "outputs": [],
   "source": [
    "# delete some columns\n",
    "df = df.drop(\"game_id\", \"own_goals\", \"own_position\", \"own_manager_name\", \"opponent_id\",\n",
    "                        \"opponent_goals\", \"opponent_position\", \"opponent_manager_name\", \"hosting\", \"is_win\",\n",
    "                        \"is_draw\")\n",
    "\n",
    "# for each (player_id, date_v) add a column with the result of (games_won_pl*3 + games_draw_pl)/games_played\n",
    "df = df.withColumn(\"winning_rate_pl\",\n",
    "                                    (df.games_won_pl * 3 + df.games_draw_pl) / df.appearances)"
   ]
  },
  {
   "cell_type": "code",
   "execution_count": 22,
   "metadata": {
    "collapsed": false
   },
   "outputs": [
    {
     "name": "stdout",
     "output_type": "stream",
     "text": [
      "root\n",
      " |-- player_id: integer (nullable = true)\n",
      " |-- date_v: date (nullable = true)\n",
      " |-- current_club_id: integer (nullable = true)\n",
      " |-- market_value_in_eur: integer (nullable = true)\n",
      " |-- player_club_domestic_competition_id: string (nullable = true)\n",
      " |-- club_id: integer (nullable = true)\n",
      " |-- name: string (nullable = true)\n",
      " |-- country_of_citizenship: string (nullable = true)\n",
      " |-- country_of_birth: string (nullable = true)\n",
      " |-- date_of_birth: date (nullable = true)\n",
      " |-- position: string (nullable = true)\n",
      " |-- sub_position: string (nullable = true)\n",
      " |-- foot: string (nullable = true)\n",
      " |-- height_in_cm: integer (nullable = true)\n",
      " |-- date: date (nullable = true)\n",
      " |-- competition_id: string (nullable = true)\n",
      " |-- yellow_cards: integer (nullable = true)\n",
      " |-- red_cards: integer (nullable = true)\n",
      " |-- goals: integer (nullable = true)\n",
      " |-- assists: integer (nullable = true)\n",
      " |-- minutes_played: integer (nullable = true)\n",
      " |-- appearances: long (nullable = false)\n",
      " |-- games_won_pl: long (nullable = false)\n",
      " |-- games_draw_pl: long (nullable = false)\n",
      " |-- games_lost_pl: long (nullable = false)\n",
      " |-- winning_rate_pl: double (nullable = true)\n",
      "\n"
     ]
    }
   ],
   "source": [
    "df.printSchema()"
   ]
  },
  {
   "cell_type": "code",
   "execution_count": 23,
   "metadata": {},
   "outputs": [
    {
     "name": "stdout",
     "output_type": "stream",
     "text": [
      "2665805\n",
      "2665805\n"
     ]
    }
   ],
   "source": [
    "print(df.count())\n",
    "df = df.dropDuplicates([\"date\", \"player_id\", \"date_v\"])\n",
    "print(df.count())"
   ]
  },
  {
   "cell_type": "code",
   "execution_count": 24,
   "metadata": {},
   "outputs": [],
   "source": [
    "# Group by the player_id and the valuation date and extract all the important features\n",
    "df = df.groupBy(\n",
    "    \"player_id\", \"name\", col(\"market_value_in_eur\").alias(\"market_value\"), \"date_v\",\n",
    "    col(\"current_club_id\").alias(\"current_club_id\"), col(\"height_in_cm\").alias(\"height\"),\n",
    "    col(\"country_of_citizenship\").alias(\"citizenship\"), col(\"date_of_birth\").alias(\"date_birth\"), \"position\",\n",
    "    \"sub_position\", \"appearances\", \"games_won_pl\", \"games_draw_pl\", \"games_lost_pl\", \"winning_rate_pl\") \\\n",
    "    .agg(collect_set(\"competition_id\").alias(\"competition_id\"),\n",
    "            collect_set(\"club_id\").alias(\"club_id\"),\n",
    "            sum(\"assists\").alias(\"assists\"),\n",
    "            count(\"date_v\").alias(\"appearances2\"),\n",
    "            sum(\"goals\").alias(\"goals\"),\n",
    "            sum(\"minutes_played\").alias(\"minutes_played\"),\n",
    "            sum(\"red_cards\").alias(\"red_cards\"),\n",
    "            sum(\"yellow_cards\").alias(\"yellow_cards\"))\n",
    "\n",
    "#df.filter(df.player_id == 148455).show()"
   ]
  },
  {
   "cell_type": "code",
   "execution_count": 25,
   "metadata": {},
   "outputs": [],
   "source": [
    "#add last valuation in temporal terms\n",
    "df = df.withColumn(\"last_valuation\", lag(df.market_value).over(Window.partitionBy(\"player_id\").orderBy(\"date_v\")))"
   ]
  },
  {
   "cell_type": "code",
   "execution_count": 26,
   "metadata": {},
   "outputs": [
    {
     "name": "stdout",
     "output_type": "stream",
     "text": [
      "+---------+-------------+------------+----------+---------------+------+-----------+----------+--------+------------+-----------+------------+-------------+-------------+------------------+--------------+-------+-------+------------+-----+--------------+---------+------------+--------------+\n",
      "|player_id|         name|market_value|    date_v|current_club_id|height|citizenship|date_birth|position|sub_position|appearances|games_won_pl|games_draw_pl|games_lost_pl|   winning_rate_pl|competition_id|club_id|assists|appearances2|goals|minutes_played|red_cards|yellow_cards|last_valuation|\n",
      "+---------+-------------+------------+----------+---------------+------+-----------+----------+--------+------------+-----------+------------+-------------+-------------+------------------+--------------+-------+-------+------------+-----+--------------+---------+------------+--------------+\n",
      "|   148455|Mohamed Salah|   100000000|2021-12-23|             31|   175|      Egypt|1992-06-15|  Attack|Right Winger|         58|          35|           13|           10|2.0344827586206895|[CL, FAC, GB1]|   [31]|     14|          58|   41|          4910|        0|           1|     100000000|\n",
      "+---------+-------------+------------+----------+---------------+------+-----------+----------+--------+------------+-----------+------------+-------------+-------------+------------------+--------------+-------+-------+------------+-----+--------------+---------+------------+--------------+\n",
      "\n"
     ]
    }
   ],
   "source": [
    "df.filter(df.date_v == '2021-12-23').filter(df.player_id == 148455).show()"
   ]
  },
  {
   "attachments": {},
   "cell_type": "markdown",
   "metadata": {},
   "source": [
    "We add the statistics of the teams in which the player played during the year"
   ]
  },
  {
   "cell_type": "code",
   "execution_count": 27,
   "metadata": {},
   "outputs": [],
   "source": [
    "# join club_games and games to extract the date from games\n",
    "df_club_games_join = df_club_games.join(df_games.select(\"game_id\", \"date\"), \"game_id\", how='inner')"
   ]
  },
  {
   "cell_type": "code",
   "execution_count": 28,
   "metadata": {},
   "outputs": [],
   "source": [
    "# Expands the player_club_id list into separate columns\n",
    "df_result_expanded = df.withColumn(\"club_id\", explode(col(\"club_id\")))"
   ]
  },
  {
   "cell_type": "code",
   "execution_count": 29,
   "metadata": {},
   "outputs": [],
   "source": [
    "# Peform join based on club_id and apply condition on date\n",
    "df = df_result_expanded.join(df_club_games_join, [\"club_id\"]) \\\n",
    "    .where(expr(\"date <= date_v AND date >= date_v - INTERVAL 1 YEAR\"))"
   ]
  },
  {
   "cell_type": "code",
   "execution_count": 30,
   "metadata": {},
   "outputs": [],
   "source": [
    "# Select columns\n",
    "df = df.select(df.columns + df_club_games_join.columns)"
   ]
  },
  {
   "cell_type": "code",
   "execution_count": 31,
   "metadata": {},
   "outputs": [],
   "source": [
    "# add column draw that is equal to 1 if own_goals = opponent_goals\n",
    "df = df.withColumn(\"is_draw\", when(df.own_goals == df.opponent_goals, 1).otherwise(0))\n",
    "\n",
    "#add column games_played_club that counts the instances with key (player_id, date_v)\n",
    "df = df.withColumn(\"games_played_club\", count(df.date_v).over(Window.partitionBy(\"date_v\", \"player_id\")))\n",
    "\n",
    "# add column games_won_club that counts the instances with key (player_id, date_v) and is_win = 1\n",
    "df = df.withColumn(\"games_won_club\", count(when(df.own_goals > df.opponent_goals, 1)).over(Window.partitionBy(\"date_v\", \"player_id\")))\n",
    "\n",
    "# add column games_draw_club that counts the instances with key (player_id, date_v) and is_draw = 1\n",
    "df = df.withColumn(\"games_draw_club\", count(when(df.is_draw == 1, 1)).over(Window.partitionBy(\"date_v\", \"player_id\")))\n",
    "\n",
    "# add column games_lost_club that counts the instances with key (player_id, date_v) and is_win = 0 and is_draw = 0\n",
    "df = df.withColumn(\"games_lost_club\", count(when(df.own_goals < df.opponent_goals, 1)).over(Window.partitionBy(\"date_v\", \"player_id\")))"
   ]
  },
  {
   "cell_type": "code",
   "execution_count": 32,
   "metadata": {},
   "outputs": [],
   "source": [
    "#df.filter(df.player_id == 148455).show(1000)"
   ]
  },
  {
   "cell_type": "code",
   "execution_count": 33,
   "metadata": {},
   "outputs": [],
   "source": [
    "#delete some columns\n",
    "df = df.drop(\"game_id\", \"own_goals\",  \"own_position\", \"own_manager_name\", \"opponent_id\", \"opponent_goals\", \"opponent_position\", \"opponent_manager_name\", \"hosting\", \"is_win\", \"date\", \"is_draw\")"
   ]
  },
  {
   "cell_type": "code",
   "execution_count": 34,
   "metadata": {},
   "outputs": [],
   "source": [
    "#df = df.dropDuplicates([\"player_id\", \"date_v\"])\n",
    "df = df.dropDuplicates()"
   ]
  },
  {
   "cell_type": "code",
   "execution_count": 35,
   "metadata": {},
   "outputs": [],
   "source": [
    "# for each (player_id, date_v) add a column with the result of (games_won_club*3 + games_draw_club)/games_played_club\n",
    "df = df.withColumn(\"winning_rate_club\", (df.games_won_club*3 + df.games_draw_club)/df.games_played_club)"
   ]
  },
  {
   "cell_type": "code",
   "execution_count": 36,
   "metadata": {},
   "outputs": [],
   "source": [
    "#df.filter(df.player_id == 148455).show(50)"
   ]
  },
  {
   "cell_type": "code",
   "execution_count": 37,
   "metadata": {},
   "outputs": [],
   "source": [
    "#df.filter(df.player_id == 148455).show()"
   ]
  },
  {
   "cell_type": "code",
   "execution_count": 38,
   "metadata": {},
   "outputs": [],
   "source": [
    "#arrange columns, delete and rename some columns, aggregate club_id\n",
    "df = df.groupBy(\n",
    "    \"player_id\", \"date_v\", \"market_value\", \"name\", \"date_birth\", \"current_club_id\", \"height\", \"citizenship\", \"position\", \"sub_position\", col(\"competition_id\").alias(\"competitions_id\"),\n",
    "    \"assists\", \"goals\", \"minutes_played\", \"red_cards\", \"yellow_cards\", \"last_valuation\", \"appearances\", \"games_won_pl\", \"games_draw_pl\", \"games_lost_pl\", \"winning_rate_pl\",\n",
    "    \"games_played_club\", \"games_won_club\", \"games_draw_club\", \"games_lost_club\", \"winning_rate_club\") \\\n",
    "    .agg(collect_set(\"club_id\").alias(\"clubs_id\"))"
   ]
  },
  {
   "cell_type": "code",
   "execution_count": 39,
   "metadata": {},
   "outputs": [],
   "source": [
    "# add column age that is equal to date_v - date_birth cifra intera\n",
    "df = df.withColumn(\"age\", floor(datediff(df.date_v, df.date_birth)/365))"
   ]
  },
  {
   "cell_type": "code",
   "execution_count": 40,
   "metadata": {},
   "outputs": [],
   "source": [
    "# take only the first digit after the comma of winning_rate_pl and winning_rate_club\n",
    "df = df.withColumn(\"winning_rate_pl\", round(df.winning_rate_pl, 1))\n",
    "df = df.withColumn(\"winning_rate_club\", round(df.winning_rate_club, 1))"
   ]
  },
  {
   "cell_type": "code",
   "execution_count": 41,
   "metadata": {},
   "outputs": [],
   "source": [
    "df = df.select(\"player_id\", \"date_v\", \"market_value\", \"name\", \"date_birth\", \"age\", \"current_club_id\", \"height\", \"citizenship\", \"position\", \"sub_position\", \"competitions_id\", \"clubs_id\",\n",
    "    \"assists\", \"goals\", \"minutes_played\", \"red_cards\", \"yellow_cards\", \"last_valuation\", \"appearances\", \"games_won_pl\", \"games_draw_pl\", \"games_lost_pl\", \"winning_rate_pl\",\n",
    "    \"games_played_club\", \"games_won_club\", \"games_draw_club\", \"games_lost_club\", \"winning_rate_club\")"
   ]
  },
  {
   "cell_type": "code",
   "execution_count": 42,
   "metadata": {},
   "outputs": [],
   "source": [
    "#df.filter(df.player_id == 148455).show(50)"
   ]
  },
  {
   "cell_type": "code",
   "execution_count": 43,
   "metadata": {},
   "outputs": [],
   "source": [
    "# TODO possiamo pensare di eliminare games_played_club, games_won_club, games_draw_club, games_lost_club e lasciare solo winning_rate_club"
   ]
  },
  {
   "cell_type": "code",
   "execution_count": 44,
   "metadata": {},
   "outputs": [],
   "source": [
    "import pandas as pd\n",
    "df_pandas = df.toPandas()"
   ]
  },
  {
   "attachments": {},
   "cell_type": "markdown",
   "metadata": {},
   "source": [
    "We transform the column competitions id and clubs id, that are array of strings in a single binary value using label binarization."
   ]
  },
  {
   "cell_type": "code",
   "execution_count": 46,
   "metadata": {},
   "outputs": [
    {
     "name": "stderr",
     "output_type": "stream",
     "text": [
      "C:\\Users\\leona\\AppData\\Local\\Temp\\ipykernel_23996\\2126209765.py:2: FutureWarning: Using the level keyword in DataFrame and Series aggregations is deprecated and will be removed in a future version. Use groupby instead. df.sum(level=1) should use df.groupby(level=1).sum().\n",
      "  dummies = pd.get_dummies(df_pandas[\"competitions_id\"].apply(pd.Series).stack()).sum(level=0)\n"
     ]
    }
   ],
   "source": [
    "# apply pd.get_dummies to the column of arrays\n",
    "dummies = pd.get_dummies(df_pandas[\"competitions_id\"].apply(pd.Series).stack()).sum(level=0)\n",
    "# concatenate the dummy variables into a single string\n",
    "dummies[\"comp_string\"] = dummies.apply(lambda x: \"\".join(x.astype(str)), axis=1)\n",
    "# join the dummies dataframe with the original dataframe\n",
    "df_pandas = df_pandas.join(dummies[\"comp_string\"])\n",
    "df_pandas = df_pandas.drop(\"competitions_id\")\n"
   ]
  },
  {
   "cell_type": "code",
   "execution_count": null,
   "metadata": {},
   "outputs": [],
   "source": [
    "# apply pd.get_dummies to the column of arrays\n",
    "dummies = pd.get_dummies(df_pandas[\"clubs_id\"].apply(pd.Series).stack()).sum(level=0)\n",
    "# concatenate the dummy variables into a single string\n",
    "dummies[\"club_str\"] = dummies.apply(lambda x: \"\".join(x.astype(str)), axis=1)\n",
    "# join the dummies dataframe with the original dataframe\n",
    "df_pandas = df_pandas.join(dummies[\"club_str\"])\n",
    "df_pandas = df_pandas.drop(\"club_str\")"
   ]
  },
  {
   "cell_type": "code",
   "execution_count": null,
   "metadata": {},
   "outputs": [],
   "source": [
    "df_pandas.info()"
   ]
  },
  {
   "cell_type": "code",
   "execution_count": null,
   "metadata": {},
   "outputs": [],
   "source": [
    "#write the dataframe in csv format\n",
    "df_pandas.to_csv('data.csv', sep=',', encoding='utf-8', index=False)"
   ]
  },
  {
   "cell_type": "code",
   "execution_count": 49,
   "metadata": {},
   "outputs": [],
   "source": [
    "#from autoviz.AutoViz_Class import AutoViz_Class\n",
    "#AV = AutoViz_Class()\n",
    "#df = AV.AutoViz('data.csv')"
   ]
  }
 ],
 "metadata": {
  "kernelspec": {
   "display_name": "Python 3",
   "language": "python",
   "name": "python3"
  },
  "language_info": {
   "codemirror_mode": {
    "name": "ipython",
    "version": 3
   },
   "file_extension": ".py",
   "mimetype": "text/x-python",
   "name": "python",
   "nbconvert_exporter": "python",
   "pygments_lexer": "ipython3",
   "version": "3.9.12"
  },
  "orig_nbformat": 4
 },
 "nbformat": 4,
 "nbformat_minor": 2
}
