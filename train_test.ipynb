{
 "cells": [
  {
   "cell_type": "markdown",
   "source": [
    "## Machine Learning Pipeline\n",
    "In this file there is the pipeline for the machine learning part of the project. The pipeline is composed by the following steps:\n",
    "1. Load the dataset\n",
    "2. Split the dataset into train, validation and test set\n",
    "3. Create the dataset class\n",
    "4. Create the model class\n",
    "5. Create the training loop\n",
    "6. Create the test loop\n",
    "\n",
    "For the hp search we use Weights and Biases."
   ],
   "metadata": {
    "collapsed": false
   }
  },
  {
   "cell_type": "code",
   "execution_count": 1,
   "metadata": {
    "collapsed": true,
    "ExecuteTime": {
     "end_time": "2023-05-23T20:00:17.599577700Z",
     "start_time": "2023-05-23T20:00:13.097115200Z"
    }
   },
   "outputs": [
    {
     "name": "stderr",
     "output_type": "stream",
     "text": [
      "\u001B[34m\u001B[1mwandb\u001B[0m: Currently logged in as: \u001B[33mleonardo-berti07\u001B[0m. Use \u001B[1m`wandb login --relogin`\u001B[0m to force relogin\n",
      "\u001B[34m\u001B[1mwandb\u001B[0m: \u001B[33mWARNING\u001B[0m If you're specifying your api key in code, ensure this code is not shared publicly.\n",
      "\u001B[34m\u001B[1mwandb\u001B[0m: \u001B[33mWARNING\u001B[0m Consider setting the WANDB_API_KEY environment variable, or running `wandb login` from the command line.\n",
      "\u001B[34m\u001B[1mwandb\u001B[0m: Appending key for api.wandb.ai to your netrc file: C:\\Users\\leona/.netrc\n"
     ]
    }
   ],
   "source": [
    "# load packages\n",
    "import numpy as np\n",
    "from datetime import datetime\n",
    "from tqdm import tqdm\n",
    "from sklearn.metrics import mean_squared_error, mean_absolute_error, r2_score\n",
    "import torch\n",
    "from sklearn.ensemble import RandomForestRegressor\n",
    "from torch.utils import data\n",
    "import torch.nn as nn\n",
    "import pandas as pd\n",
    "import wandb\n",
    "\n",
    "# Log in to your W&B account\n",
    "wandb.login(key='d29d51017f4231b5149d36ad242526b374c9c60a')\n",
    "\n",
    "device = torch.device(\"cuda:0\" if torch.cuda.is_available() else \"cpu\")"
   ]
  },
  {
   "cell_type": "markdown",
   "source": [
    "## Controlling the setup"
   ],
   "metadata": {
    "collapsed": false
   }
  },
  {
   "cell_type": "code",
   "execution_count": 2,
   "outputs": [
    {
     "data": {
      "text/plain": "'2.0.1'"
     },
     "execution_count": 2,
     "metadata": {},
     "output_type": "execute_result"
    }
   ],
   "source": [
    "torch.__version__"
   ],
   "metadata": {
    "collapsed": false,
    "ExecuteTime": {
     "end_time": "2023-05-23T20:00:17.604788Z",
     "start_time": "2023-05-23T20:00:17.600579Z"
    }
   }
  },
  {
   "cell_type": "code",
   "execution_count": 3,
   "outputs": [
    {
     "name": "stdout",
     "output_type": "stream",
     "text": [
      "True\n",
      "True\n",
      "NVIDIA GeForce RTX 3090\n",
      "Tue May 23 22:00:17 2023       \n",
      "+---------------------------------------------------------------------------------------+\n",
      "| NVIDIA-SMI 531.61                 Driver Version: 531.61       CUDA Version: 12.1     |\n",
      "|-----------------------------------------+----------------------+----------------------+\n",
      "| GPU  Name                      TCC/WDDM | Bus-Id        Disp.A | Volatile Uncorr. ECC |\n",
      "| Fan  Temp  Perf            Pwr:Usage/Cap|         Memory-Usage | GPU-Util  Compute M. |\n",
      "|                                         |                      |               MIG M. |\n",
      "|=========================================+======================+======================|\n",
      "|   0  NVIDIA GeForce RTX 3090       WDDM | 00000000:01:00.0  On |                  N/A |\n",
      "|  0%   31C    P8               18W / 350W|    470MiB / 24576MiB |      0%      Default |\n",
      "|                                         |                      |                  N/A |\n",
      "+-----------------------------------------+----------------------+----------------------+\n",
      "                                                                                         \n",
      "+---------------------------------------------------------------------------------------+\n",
      "| Processes:                                                                            |\n",
      "|  GPU   GI   CI        PID   Type   Process name                            GPU Memory |\n",
      "|        ID   ID                                                             Usage      |\n",
      "|=======================================================================================|\n",
      "|    0   N/A  N/A      3156    C+G   ...crosoft\\Edge\\Application\\msedge.exe    N/A      |\n",
      "|    0   N/A  N/A      5320    C+G   ...\\PyCharm 2023.1.1\\bin\\pycharm64.exe    N/A      |\n",
      "|    0   N/A  N/A      6100    C+G   ...on\\113.0.1774.50\\msedgewebview2.exe    N/A      |\n",
      "|    0   N/A  N/A      6920    C+G   C:\\Windows\\explorer.exe                   N/A      |\n",
      "|    0   N/A  N/A      8692    C+G   ...GeForce Experience\\NVIDIA Share.exe    N/A      |\n",
      "|    0   N/A  N/A     10404    C+G   ...siveControlPanel\\SystemSettings.exe    N/A      |\n",
      "|    0   N/A  N/A     13272    C+G   ...16.0_x86__zpdnekdrzrea0\\Spotify.exe    N/A      |\n",
      "|    0   N/A  N/A     13984    C+G   ...oogle\\Chrome\\Application\\chrome.exe    N/A      |\n",
      "|    0   N/A  N/A     14604    C+G   ...__8wekyb3d8bbwe\\Notepad\\Notepad.exe    N/A      |\n",
      "|    0   N/A  N/A     16192    C+G   ...2txyewy\\StartMenuExperienceHost.exe    N/A      |\n",
      "|    0   N/A  N/A     18164    C+G   ...t.LockApp_cw5n1h2txyewy\\LockApp.exe    N/A      |\n",
      "|    0   N/A  N/A     19568    C+G   ...nt.CBS_cw5n1h2txyewy\\SearchHost.exe    N/A      |\n",
      "+---------------------------------------------------------------------------------------+\n"
     ]
    }
   ],
   "source": [
    "# The flag below controls whether to allow TF32 on matmul. This flag defaults to False\n",
    "torch.backends.cuda.matmul.allow_tf32 = True\n",
    "\n",
    "# The flag below controls whether to allow TF32 on cuDNN. This flag defaults to True.\n",
    "torch.backends.cudnn.allow_tf32 = True\n",
    "\n",
    "print(torch.cuda.is_available())\n",
    "print(torch.backends.cudnn.enabled)\n",
    "print(torch.cuda.get_device_name(0))\n",
    "\n",
    "\n",
    "\n",
    "!nvidia-smi"
   ],
   "metadata": {
    "collapsed": false,
    "ExecuteTime": {
     "end_time": "2023-05-23T20:00:17.709911900Z",
     "start_time": "2023-05-23T20:00:17.604788Z"
    }
   }
  },
  {
   "cell_type": "code",
   "execution_count": 4,
   "outputs": [
    {
     "name": "stdout",
     "output_type": "stream",
     "text": [
      "env: CUDA_LAUNCH_BLOCKING=1\n"
     ]
    }
   ],
   "source": [
    "#to debug\n",
    "%env CUDA_LAUNCH_BLOCKING=1"
   ],
   "metadata": {
    "collapsed": false,
    "ExecuteTime": {
     "end_time": "2023-05-23T20:00:17.709911900Z",
     "start_time": "2023-05-23T20:00:17.707911100Z"
    }
   }
  },
  {
   "cell_type": "markdown",
   "source": [
    "## Load the dataset"
   ],
   "metadata": {
    "collapsed": false
   }
  },
  {
   "cell_type": "code",
   "execution_count": 5,
   "outputs": [],
   "source": [
    "#load the dataset\n",
    "df = pd.read_csv(\"dataset_normalized.csv\")\n",
    "total_rows = df.shape[0]"
   ],
   "metadata": {
    "collapsed": false,
    "ExecuteTime": {
     "end_time": "2023-05-23T20:00:17.946418400Z",
     "start_time": "2023-05-23T20:00:17.707911100Z"
    }
   }
  },
  {
   "cell_type": "code",
   "execution_count": 6,
   "outputs": [],
   "source": [
    "#splitting the dataset into train, validation and test set (70%, 10%, 20%)\n",
    "train_end = int(total_rows*0.7)\n",
    "val_end = int(total_rows*0.8)\n",
    "\n",
    "labels = df[\"market_value\"].values\n",
    "df = df.drop(columns=[\"market_value\"])\n",
    "\n",
    "to_encode = df[['citizenship', 'current_club_id', 'position', 'sub_position', \"competitions_id\", \"clubs_id\"]]\n",
    "#to_encode = df[['citizenship', 'current_club_id', 'position', 'sub_position']]\n",
    "df = df.drop(['citizenship', 'current_club_id', 'position', 'sub_position', \"competitions_id\", \"clubs_id\"], axis=1)\n",
    "\n",
    "train_to_encode = to_encode.iloc[:train_end].values\n",
    "val_to_encode = to_encode.iloc[train_end:val_end].values\n",
    "test_to_encode = to_encode.iloc[val_end:].values\n",
    "\n",
    "train_set = df.iloc[:train_end].values\n",
    "val_set = df.iloc[train_end:val_end].values\n",
    "test_set = df.iloc[val_end:].values\n",
    "\n",
    "y_train = labels[:train_end]\n",
    "y_val = labels[train_end:val_end]\n",
    "y_test = labels[val_end:]\n",
    "\n",
    "train_set_len = train_set.shape[0]\n",
    "val_set_len = val_set.shape[0]\n",
    "test_set_len = test_set.shape[0]"
   ],
   "metadata": {
    "collapsed": false,
    "ExecuteTime": {
     "end_time": "2023-05-23T20:00:17.960505500Z",
     "start_time": "2023-05-23T20:00:17.947418200Z"
    }
   }
  },
  {
   "cell_type": "code",
   "execution_count": 7,
   "outputs": [
    {
     "name": "stdout",
     "output_type": "stream",
     "text": [
      "the len of train set is: 95114\n",
      "the len of validation set is: 13588\n",
      "the len of test set is: 27176\n"
     ]
    }
   ],
   "source": [
    "print(\"the len of train set is: {}\".format(train_set_len))\n",
    "print(\"the len of validation set is: {}\".format(val_set_len))\n",
    "print(\"the len of test set is: {}\".format(test_set_len))"
   ],
   "metadata": {
    "collapsed": false,
    "ExecuteTime": {
     "end_time": "2023-05-23T20:00:17.997971900Z",
     "start_time": "2023-05-23T20:00:17.961009200Z"
    }
   }
  },
  {
   "cell_type": "markdown",
   "source": [
    "## Create the pytorch Dataset"
   ],
   "metadata": {
    "collapsed": false
   }
  },
  {
   "cell_type": "code",
   "execution_count": 8,
   "outputs": [],
   "source": [
    "class Dataset(data.Dataset):\n",
    "    \"\"\"Characterizes a dataset for PyTorch\"\"\"\n",
    "    def __init__(self, x, to_encode, y, length):\n",
    "        \"\"\"Initialization\"\"\"\n",
    "\n",
    "        self.length = length\n",
    "        self.to_encode = torch.tensor(to_encode, device=device, dtype=torch.int32)\n",
    "        self.y = torch.tensor(y, device=device, dtype=torch.float32)\n",
    "        self.x = torch.tensor(x, device=device, dtype=torch.float32)\n",
    "\n",
    "    def __len__(self):\n",
    "        \"\"\"Denotes the total number of samples\"\"\"\n",
    "        return self.length\n",
    "\n",
    "    def __getitem__(self, i):\n",
    "        return self.x[i], self.to_encode[i] ,self.y[i]"
   ],
   "metadata": {
    "collapsed": false,
    "ExecuteTime": {
     "end_time": "2023-05-23T20:00:17.997971900Z",
     "start_time": "2023-05-23T20:00:17.977028400Z"
    }
   }
  },
  {
   "cell_type": "code",
   "execution_count": 9,
   "outputs": [],
   "source": [
    "dataset_val = Dataset(val_set, val_to_encode, y_val, val_set_len)\n",
    "dataset_test = Dataset(test_set, test_to_encode, y_test, test_set_len)\n",
    "dataset_train = Dataset(train_set, train_to_encode, y_train, train_set_len)"
   ],
   "metadata": {
    "collapsed": false,
    "ExecuteTime": {
     "end_time": "2023-05-23T20:00:18.786571500Z",
     "start_time": "2023-05-23T20:00:17.983972900Z"
    }
   }
  },
  {
   "cell_type": "code",
   "execution_count": 10,
   "outputs": [
    {
     "name": "stdout",
     "output_type": "stream",
     "text": [
      "input size of numerical features is: 18\n",
      "voc size citizenship is: 162\n",
      "voc size current club id is: 391\n",
      "voc size position is: 4\n",
      "voc size sub position is: 16\n",
      "voc size competitions is: 2727\n",
      "voc size clubs is: 8119\n",
      "the input size is: 44\n"
     ]
    }
   ],
   "source": [
    "#input parameters\n",
    "input_size = train_set.shape[1]\n",
    "voc_size_citizenship = len(to_encode['citizenship'].unique())\n",
    "voc_size_current_club_id = len(to_encode['current_club_id'].unique())\n",
    "voc_size_position = len(to_encode['position'].unique())\n",
    "voc_size_sub_position = len(to_encode['sub_position'].unique())\n",
    "voc_size_competitions = len(to_encode['competitions_id'].unique())\n",
    "voc_size_clubs = len(to_encode['clubs_id'].unique())\n",
    "#print them all\n",
    "print(\"input size of numerical features is: {}\".format(input_size))\n",
    "print(\"voc size citizenship is: {}\".format(voc_size_citizenship))\n",
    "print(\"voc size current club id is: {}\".format(voc_size_current_club_id))\n",
    "print(\"voc size position is: {}\".format(voc_size_position))\n",
    "print(\"voc size sub position is: {}\".format(voc_size_sub_position))\n",
    "print(\"voc size competitions is: {}\".format(voc_size_competitions))\n",
    "print(\"voc size clubs is: {}\".format(voc_size_clubs))\n",
    "\n",
    "emb_size_citizenship = int(voc_size_citizenship ** (1/4))\n",
    "emb_size_current_club_id = int(voc_size_current_club_id ** (1/4))\n",
    "emb_size_position = int(voc_size_position ** (1/4))\n",
    "emb_size_sub_position = int(voc_size_sub_position ** (1/4))\n",
    "emb_size_competitions = 0\n",
    "emb_size_clubs = 0\n",
    "emb_size_competitions = int(voc_size_competitions ** (1/4))\n",
    "emb_size_clubs = int(voc_size_clubs ** (1/4))\n",
    "\n",
    "total_input_size = input_size + emb_size_citizenship + emb_size_current_club_id + emb_size_position + emb_size_sub_position + emb_size_competitions + emb_size_clubs\n",
    "print(\"the input size is: \" + str(total_input_size))"
   ],
   "metadata": {
    "collapsed": false,
    "ExecuteTime": {
     "end_time": "2023-05-23T20:00:18.796792600Z",
     "start_time": "2023-05-23T20:00:18.790570600Z"
    }
   }
  },
  {
   "cell_type": "markdown",
   "source": [
    "## Models"
   ],
   "metadata": {
    "collapsed": false
   }
  },
  {
   "cell_type": "code",
   "execution_count": 11,
   "outputs": [],
   "source": [
    "# Define a linear regression model class that inherits from nn.Module\n",
    "class LinearRegression(nn.Module):\n",
    "  # Define the constructor method that takes the input size and the vocabulary sizes of four categorical features as arguments\n",
    "  def __init__(self, input_size, voc_size_citizenship, voc_size_current_club_id, voc_size_position, voc_size_sub_position, voc_size_competitions, voc_size_clubs, device):\n",
    "    # Call the parent constructor\n",
    "    super(LinearRegression, self).__init__()\n",
    "\n",
    "    # Compute the embedding sizes for each categorical feature using the fourth root of the vocabulary size\n",
    "    emb_size_citizenship = int(voc_size_citizenship ** (1/4))\n",
    "    emb_size_current_club_id = int(voc_size_current_club_id ** (1/4))\n",
    "    emb_size_position = int(voc_size_position ** (1/4))\n",
    "    emb_size_sub_position = int(voc_size_sub_position ** (1/4))\n",
    "    emb_size_competitions = int(voc_size_competitions ** (1/4))\n",
    "    emb_size_clubs = int(voc_size_clubs ** (1/4))\n",
    "\n",
    "    # Define embedding layers for each categorical feature using the computed embedding sizes\n",
    "    self.emb_cit = nn.Embedding(voc_size_citizenship, emb_size_citizenship, device=device)\n",
    "    self.emb_club = nn.Embedding(voc_size_current_club_id, emb_size_current_club_id, device=device)\n",
    "    self.emb_pos = nn.Embedding(voc_size_position, emb_size_position,  device=device)\n",
    "    self.emb_sub_pos = nn.Embedding(voc_size_sub_position, emb_size_sub_position, device=device)\n",
    "    self.emb_comp = nn.Embedding(voc_size_competitions, emb_size_competitions, device=device)\n",
    "    self.emb_clubs = nn.Embedding(voc_size_clubs, emb_size_clubs, device=device)\n",
    "\n",
    "    # Compute the total input size by adding the input size and the embedding sizes\n",
    "    total_input_size = input_size + emb_size_citizenship + emb_size_current_club_id + emb_size_position + emb_size_sub_position + emb_size_competitions + emb_size_clubs\n",
    "\n",
    "    # Define a linear layer that takes the total input size and outputs a single value\n",
    "    self.fc1 = nn.Linear(total_input_size, 1, device=device)\n",
    "\n",
    "  # Define the forward method that takes the numerical input and the categorical features to encode as arguments\n",
    "  def forward(self, x, to_encode):\n",
    "    # x: a tensor of shape (batch_size, input_size) containing the numerical features\n",
    "    # to_encode: a tensor of shape (batch_size, 4) containing the values of the categorical features\n",
    "\n",
    "    # Get the embeddings for each categorical feature using the corresponding embedding layer and indexing by the feature values\n",
    "    cit_emb = self.emb_cit(to_encode[:, 0])\n",
    "\n",
    "    club_emb = self.emb_club(to_encode[:, 1])\n",
    "\n",
    "    pos_emb = self.emb_pos(to_encode[:, 2])\n",
    "\n",
    "    sub_pos_emb = self.emb_sub_pos(to_encode[:, 3])\n",
    "\n",
    "    comp_emb = self.emb_comp(to_encode[:, 4])\n",
    "\n",
    "    clubs_emb = self.emb_clubs(to_encode[:, 5])\n",
    "\n",
    "    # Concatenate the numerical input and the embeddings along the second dimension\n",
    "    x = torch.cat((x, cit_emb, club_emb, pos_emb, sub_pos_emb, comp_emb, clubs_emb), dim=1)\n",
    "\n",
    "    # Apply the linear layer to get the output\n",
    "    output = self.fc1(x)\n",
    "\n",
    "    # Return the output\n",
    "    return output.flatten()"
   ],
   "metadata": {
    "collapsed": false,
    "ExecuteTime": {
     "end_time": "2023-05-23T20:00:18.802197100Z",
     "start_time": "2023-05-23T20:00:18.800690600Z"
    }
   }
  },
  {
   "cell_type": "code",
   "execution_count": 12,
   "outputs": [],
   "source": [
    "# Define a multilayer perceptron model class that inherits from nn.Module\n",
    "class MLP(nn.Module):\n",
    "  # Define the constructor method that takes the input size and the vocabulary sizes of four categorical features as arguments\n",
    "  def __init__(self, input_size, voc_size_citizenship, voc_size_current_club_id, voc_size_position, voc_size_sub_position, voc_size_competitions, voc_size_clubs, hidden_size1, hidden_size2, hidden_size3, dropout, device):\n",
    "    # Call the parent constructor\n",
    "    super(MLP, self).__init__()\n",
    "\n",
    "    # Compute the embedding sizes for each categorical feature using the fourth root of the vocabulary size\n",
    "    emb_size_citizenship = int(voc_size_citizenship ** (1/4))\n",
    "    emb_size_current_club_id = int(voc_size_current_club_id ** (1/4))\n",
    "    emb_size_position = int(voc_size_position ** (1/4))\n",
    "    emb_size_sub_position = int(voc_size_sub_position ** (1/4))\n",
    "    emb_size_competitions = int(voc_size_competitions ** (1/4))\n",
    "    emb_size_clubs = int(voc_size_clubs ** (1/4))\n",
    "\n",
    "    # Define embedding layers for each categorical feature using the computed embedding sizes\n",
    "    self.emb_cit = nn.Embedding(voc_size_citizenship, emb_size_citizenship, device=device)\n",
    "    self.emb_club = nn.Embedding(voc_size_current_club_id, emb_size_current_club_id, device=device)\n",
    "    self.emb_pos = nn.Embedding(voc_size_position, emb_size_position,  device=device)\n",
    "    self.emb_sub_pos = nn.Embedding(voc_size_sub_position, emb_size_sub_position, device=device)\n",
    "    self.emb_comp = nn.Embedding(voc_size_competitions, emb_size_competitions, device=device)\n",
    "    self.emb_clubs = nn.Embedding(voc_size_clubs, emb_size_clubs, device=device)\n",
    "\n",
    "    # Compute the total input size by adding the input size and the embedding sizes\n",
    "    total_input_size = input_size + emb_size_citizenship + emb_size_current_club_id + emb_size_position + emb_size_sub_position + emb_size_competitions + emb_size_clubs\n",
    "\n",
    "    # Define a linear layer that takes the total input size and outputs a single value\n",
    "    self.fc1 = nn.Linear(total_input_size, hidden_size1, device=device)\n",
    "    self.relu = nn.ReLU()\n",
    "    self.batchnorm1 = nn.BatchNorm1d(hidden_size1, device=device)\n",
    "    self.fc2 = nn.Linear(hidden_size1, hidden_size2, device=device)\n",
    "    self.batchnorm2 = nn.BatchNorm1d(hidden_size2, device=device)\n",
    "    self.fc3 = nn.Linear(hidden_size2, hidden_size3, device=device)\n",
    "    self.batchnorm3 = nn.BatchNorm1d(hidden_size3, device=device)\n",
    "    self.fc4 = nn.Linear(hidden_size3, 1, device=device)\n",
    "    self.dropout = nn.Dropout(dropout)\n",
    "\n",
    "  # Define the forward method that takes the numerical input and the categorical features to encode as arguments\n",
    "  def forward(self, x, to_encode):\n",
    "    # x: a tensor of shape (batch_size, input_size) containing the numerical features\n",
    "    # to_encode: a tensor of shape (batch_size, 4) containing the values of the categorical features\n",
    "\n",
    "    # Get the embeddings for each categorical feature using the corresponding embedding layer and indexing by the feature values\n",
    "    cit_emb = self.emb_cit(to_encode[:, 0])\n",
    "\n",
    "    club_emb = self.emb_club(to_encode[:, 1])\n",
    "\n",
    "    pos_emb = self.emb_pos(to_encode[:, 2])\n",
    "\n",
    "    sub_pos_emb = self.emb_sub_pos(to_encode[:, 3])\n",
    "\n",
    "    comp_emb = self.emb_comp(to_encode[:, 4])\n",
    "\n",
    "    clubs_emb = self.emb_clubs(to_encode[:, 5])\n",
    "\n",
    "    # Concatenate the numerical input and the embeddings along the second dimension\n",
    "    x = torch.cat((x, cit_emb, club_emb, pos_emb, sub_pos_emb, comp_emb, clubs_emb), dim=1)\n",
    "\n",
    "    # Apply the linear layers, dropout and batchnorm to get the output\n",
    "    x = self.fc1(x)\n",
    "    x = self.dropout(x)\n",
    "    x = self.batchnorm1(x)\n",
    "    x = self.relu(x)\n",
    "\n",
    "    x = self.fc2(x)\n",
    "    x = self.dropout(x)\n",
    "    x = self.batchnorm2(x)\n",
    "    x = self.relu(x)\n",
    "\n",
    "    x = self.fc3(x)\n",
    "    x = self.dropout(x)\n",
    "    x = self.batchnorm3(x)\n",
    "    x = self.relu(x)\n",
    "\n",
    "    output = self.fc4(x)\n",
    "\n",
    "    # Return the output\n",
    "    return output.flatten()"
   ],
   "metadata": {
    "collapsed": false,
    "ExecuteTime": {
     "end_time": "2023-05-23T20:00:18.809401100Z",
     "start_time": "2023-05-23T20:00:18.805197600Z"
    }
   }
  },
  {
   "cell_type": "code",
   "execution_count": 13,
   "outputs": [],
   "source": [
    "# Define a LSTM model class that inherits from nn.Module\n",
    "class LSTM(nn.Module):\n",
    "  # Define the constructor method that takes the input size and the vocabulary sizes of four categorical features as arguments\n",
    "  def __init__(self, input_size, voc_size_citizenship, voc_size_current_club_id, voc_size_position, voc_size_sub_position, voc_size_competitions, voc_size_clubs, hidden_size1, num_layers, dropout, device):\n",
    "    # Call the parent constructor\n",
    "    super(LSTM, self).__init__()\n",
    "\n",
    "    # Compute the embedding sizes for each categorical feature using the fourth root of the vocabulary size\n",
    "    emb_size_citizenship = int(voc_size_citizenship ** (1/4))\n",
    "    emb_size_current_club_id = int(voc_size_current_club_id ** (1/4))\n",
    "    emb_size_position = int(voc_size_position ** (1/4))\n",
    "    emb_size_sub_position = int(voc_size_sub_position ** (1/4))\n",
    "    emb_size_competitions = int(voc_size_competitions ** (1/4))\n",
    "    emb_size_clubs = int(voc_size_clubs ** (1/4))\n",
    "\n",
    "    # Define embedding layers for each categorical feature using the computed embedding sizes\n",
    "    self.emb_cit = nn.Embedding(voc_size_citizenship, emb_size_citizenship, device=device)\n",
    "    self.emb_club = nn.Embedding(voc_size_current_club_id, emb_size_current_club_id, device=device)\n",
    "    self.emb_pos = nn.Embedding(voc_size_position, emb_size_position,  device=device)\n",
    "    self.emb_sub_pos = nn.Embedding(voc_size_sub_position, emb_size_sub_position, device=device)\n",
    "    self.emb_comp = nn.Embedding(voc_size_competitions, emb_size_competitions, device=device)\n",
    "    self.emb_clubs = nn.Embedding(voc_size_clubs, emb_size_clubs, device=device)\n",
    "\n",
    "    # Compute the total input size by adding the input size and the embedding sizes\n",
    "    total_input_size = input_size + emb_size_citizenship + emb_size_current_club_id + emb_size_position + emb_size_sub_position + emb_size_competitions + emb_size_clubs\n",
    "\n",
    "    self.lstm1 = nn.LSTM(total_input_size, hidden_size1, num_layers=num_layers, batch_first=True, dropout=dropout, device=device)\n",
    "\n",
    "    # Define a linear layer that takes the total input size and outputs a single value\n",
    "    self.fc1 = nn.Linear(hidden_size1, 1, device=device)\n",
    "\n",
    "\n",
    "\n",
    "  # Define the forward method that takes the numerical input and the categorical features to encode as arguments\n",
    "  def forward(self, x, to_encode):\n",
    "    # x: a tensor of shape (batch_size, input_size) containing the numerical features\n",
    "    # to_encode: a tensor of shape (batch_size, 4) containing the values of the categorical features\n",
    "\n",
    "    # Get the embeddings for each categorical feature using the corresponding embedding layer and indexing by the feature values\n",
    "    cit_emb = self.emb_cit(to_encode[:, 0])\n",
    "\n",
    "    club_emb = self.emb_club(to_encode[:, 1])\n",
    "\n",
    "    pos_emb = self.emb_pos(to_encode[:, 2])\n",
    "\n",
    "    sub_pos_emb = self.emb_sub_pos(to_encode[:, 3])\n",
    "\n",
    "    comp_emb = self.emb_comp(to_encode[:, 4])\n",
    "\n",
    "    clubs_emb = self.emb_clubs(to_encode[:, 5])\n",
    "\n",
    "    # Concatenate the numerical input and the embeddings along the second dimension\n",
    "    x = torch.cat((x, cit_emb, club_emb, pos_emb, sub_pos_emb, comp_emb, clubs_emb), dim=1)\n",
    "\n",
    "    # Add a dimension to the numerical input tensor corresponding to the sequence length\n",
    "    x = x[:, None, :]\n",
    "\n",
    "    # Apply the linear layer to get the output\n",
    "    out1, (h1, c1) = self.lstm1(x)\n",
    "    output = self.fc1(h1[0])\n",
    "\n",
    "    # Return the output\n",
    "    return output.flatten()"
   ],
   "metadata": {
    "collapsed": false,
    "ExecuteTime": {
     "end_time": "2023-05-23T20:00:18.879707200Z",
     "start_time": "2023-05-23T20:00:18.811397400Z"
    }
   }
  },
  {
   "cell_type": "code",
   "execution_count": 14,
   "outputs": [],
   "source": [
    "#choose the model\n",
    "model_type = \"rf\"\n",
    "\n",
    "def build_model(model_type, input_size, voc_size_citizenship, voc_size_current_club_id, voc_size_position, voc_size_sub_position, voc_size_competitions, voc_size_clubs, dropout):\n",
    "\n",
    "  if (model_type == \"linear\"):\n",
    "    return LinearRegression(input_size, voc_size_citizenship, voc_size_current_club_id, voc_size_position, voc_size_sub_position, voc_size_competitions, voc_size_clubs, device)\n",
    "\n",
    "  elif (model_type == \"mlp\"):\n",
    "    hidden_size1 = 176\n",
    "    hidden_size2 = 64\n",
    "    hidden_size3 = 16\n",
    "    return MLP(input_size, voc_size_citizenship, voc_size_current_club_id, voc_size_position, voc_size_sub_position, voc_size_competitions, voc_size_clubs, hidden_size1, hidden_size2, hidden_size3, dropout, device)\n",
    "\n",
    "  elif (model_type == \"lstm\"):\n",
    "    hidden_size1 = 32\n",
    "    num_layers = 2\n",
    "    return LSTM(input_size, voc_size_citizenship, voc_size_current_club_id, voc_size_position, voc_size_sub_position, voc_size_competitions, voc_size_clubs, hidden_size1, num_layers, dropout, device)\n",
    "\n",
    "  else:\n",
    "    raise Exception(\"wrong model\")"
   ],
   "metadata": {
    "collapsed": false,
    "ExecuteTime": {
     "end_time": "2023-05-23T20:00:18.894946600Z",
     "start_time": "2023-05-23T20:00:18.817040300Z"
    }
   }
  },
  {
   "cell_type": "code",
   "execution_count": 15,
   "outputs": [],
   "source": [
    "def build_optimizer(model, opt, lr, eps):\n",
    "  if (opt == \"adam\"):\n",
    "    return torch.optim.Adam(model.parameters(), lr=lr, eps=eps)\n",
    "  elif (opt == \"sgd\"):\n",
    "    return torch.optim.SGD(model.parameters(), lr, momentum=0.9)\n",
    "  else:\n",
    "    raise Exception(\"wrong optimizer\")"
   ],
   "metadata": {
    "collapsed": false,
    "ExecuteTime": {
     "end_time": "2023-05-23T20:00:18.894946600Z",
     "start_time": "2023-05-23T20:00:18.823132300Z"
    }
   }
  },
  {
   "cell_type": "code",
   "execution_count": 16,
   "outputs": [],
   "source": [
    "def build_dataloaders(batch_size):\n",
    "  train_loader = torch.utils.data.DataLoader(dataset=dataset_train, batch_size=batch_size, shuffle=True)\n",
    "  val_loader = torch.utils.data.DataLoader(dataset=dataset_val, batch_size=batch_size, shuffle=False)\n",
    "  test_loader = torch.utils.data.DataLoader(dataset=dataset_test, batch_size=batch_size, shuffle=False)\n",
    "  return train_loader, val_loader, test_loader"
   ],
   "metadata": {
    "collapsed": false,
    "ExecuteTime": {
     "end_time": "2023-05-23T20:00:18.895947500Z",
     "start_time": "2023-05-23T20:00:18.829113200Z"
    }
   }
  },
  {
   "cell_type": "code",
   "execution_count": 17,
   "outputs": [],
   "source": [
    "def run(config=None):\n",
    "  # Initialize a new wandb run\n",
    "  with wandb.init(config=config):\n",
    "\n",
    "    # If called by wandb.agent, as below, this config will be set by Sweep Controller\n",
    "    config = wandb.config\n",
    "\n",
    "    val_r2score = 0\n",
    "    val_mse = 0\n",
    "    val_rmse = 0\n",
    "    val_mae = 0\n",
    "\n",
    "    metric_val = {\"val_r2score\": val_r2score, \"val_mse\": val_mse, \"val_rmse\": val_rmse, \"val_mae\": val_mae}\n",
    "    wandb.log(metric_val)\n",
    "\n",
    "    test_r2score = 0\n",
    "    test_mse = 0\n",
    "    test_rmse = 0\n",
    "    test_mae = 0\n",
    "\n",
    "    metric_test = {\"test_r2score\": test_r2score, \"test_mse\": test_mse, \"test_rmse\": test_rmse, \"test_mae\": test_mae}\n",
    "    wandb.log(metric_test)\n",
    "\n",
    "    #Defining model, criterion, optimizer, scheduler and dataloaders\n",
    "    criterion = nn.MSELoss()\n",
    "\n",
    "\n",
    "    if (model_type != \"rf\"):\n",
    "\n",
    "        model = build_model(model_type, input_size, voc_size_citizenship, voc_size_current_club_id, voc_size_position, voc_size_sub_position, voc_size_competitions, voc_size_clubs, dropout=config.dropout)\n",
    "\n",
    "        wandb.log({\"model name\": model_type})\n",
    "        optimizer = build_optimizer(model, config.optimizer, config.lr, config.eps)\n",
    "        #i want to log the name of the model\n",
    "\n",
    "        train_loader, val_loader, test_loader = build_dataloaders(config.batch_size)\n",
    "        scheduler = torch.optim.lr_scheduler.CosineAnnealingLR(optimizer, T_max=config.epochs, eta_min=0.000001)\n",
    "\n",
    "        #Train and validation\n",
    "        wandb.watch(model, criterion, log=\"all\", log_freq=100)\n",
    "\n",
    "        all_targets, all_predictions = launch_model_pytorch(model, criterion, optimizer, scheduler, train_loader, val_loader, test_loader, config.epochs, config.batch_size, config.lr)\n",
    "\n",
    "    else:\n",
    "        model = RandomForestRegressor(n_estimators=config.n_est, max_depth=config.m_depth)\n",
    "        wandb.log({\"model name\": model_type})\n",
    "        all_predictions, all_targets = launch_model_sk(model, train_set, val_set, y_train, y_val)\n",
    "\n",
    "    #Saving test metrics\n",
    "    test_r2score = r2_score(all_targets, all_predictions)\n",
    "    test_mse = mean_squared_error(all_targets, all_predictions)\n",
    "    test_rmse = np.sqrt(test_mse)\n",
    "    test_mae = mean_absolute_error(all_targets, all_predictions)\n",
    "\n",
    "    metric_test = {\"test_r2score\": test_r2score, \"test_mse\": test_mse, \"test_rmse\": test_rmse, \"test_mae\": test_mae}\n",
    "\n",
    "    print(metric_test)\n",
    "\n",
    "    #Logging the metrics\n",
    "    wandb.log(metric_test)\n",
    "\n",
    "    #terminate the run\n",
    "    wandb.finish()"
   ],
   "metadata": {
    "collapsed": false,
    "ExecuteTime": {
     "end_time": "2023-05-23T20:00:18.895947500Z",
     "start_time": "2023-05-23T20:00:18.836809100Z"
    }
   }
  },
  {
   "cell_type": "code",
   "execution_count": 18,
   "outputs": [],
   "source": [
    "def launch_model_pytorch(model, criterion, optimizer, scheduler, train_loader, val_loader, test_loader, epochs, batch_size, lr):\n",
    "    train_losses = np.zeros(epochs)\n",
    "    val_losses = np.zeros(epochs)\n",
    "    best_val_loss = np.inf\n",
    "    best_val_epoch = 0\n",
    "\n",
    "    for it in tqdm(range(epochs)):\n",
    "        t0 = datetime.now()\n",
    "        train_loss = train(model, criterion, optimizer, train_loader)\n",
    "        scheduler.step()\n",
    "\n",
    "        val_loss = validate(model, criterion, val_loader)\n",
    "        wandb.log({\n",
    "            'val_loss': val_loss,\n",
    "            'epochs': it+1\n",
    "          })\n",
    "\n",
    "        # Save losses\n",
    "        train_losses[it] = train_loss\n",
    "        val_losses[it] = val_loss\n",
    "\n",
    "        #We save the best model\n",
    "        if val_loss < best_val_loss:\n",
    "            torch.save(model.state_dict(), 'models/{}_lr={}_bs={}_opt={}.pth'.format(model.__class__.__name__, lr, batch_size, type(optimizer).__name__))\n",
    "\n",
    "            best_val_loss = val_loss\n",
    "            best_val_epoch = it\n",
    "            #print('model saved')\n",
    "\n",
    "        dt = datetime.now() - t0\n",
    "        #print(f'Epoch {it+1}/{epochs}, Train Loss: {train_loss:.4f}, \\\n",
    "        #  Validation Loss: {test_loss:.4f}, Duration: {dt}, Best Val Epoch: {best_test_epoch}')\n",
    "\n",
    "    #load the best model saved\n",
    "    model.load_state_dict(torch.load('models/{}_lr={}_bs={}_opt={}.pth'.format(model.__class__.__name__, lr, batch_size, type(optimizer).__name__)))\n",
    "    #Validate\n",
    "    #Testing\n",
    "    val_loss = validate(model, criterion, val_loader)\n",
    "\n",
    "    #Testing\n",
    "    all_targets, all_predictions = testing(model, test_loader)\n",
    "\n",
    "    return all_targets, all_predictions"
   ],
   "metadata": {
    "collapsed": false,
    "ExecuteTime": {
     "end_time": "2023-05-23T20:00:18.895947500Z",
     "start_time": "2023-05-23T20:00:18.843368100Z"
    }
   }
  },
  {
   "cell_type": "code",
   "execution_count": 19,
   "outputs": [],
   "source": [
    "def train(model, criterion, optimizer, train_loader):\n",
    "    model.train()\n",
    "    train_loss = []\n",
    "\n",
    "    for inputs, to_encode, targets in train_loader:\n",
    "\n",
    "        # zero the parameter gradients\n",
    "        optimizer.zero_grad()\n",
    "\n",
    "        # Forward pass\n",
    "        outputs = model(inputs, to_encode)\n",
    "\n",
    "        loss = criterion(outputs, targets)\n",
    "\n",
    "        # Backward and optimize\n",
    "        loss.backward()\n",
    "        optimizer.step()\n",
    "        train_loss.append(loss.item())\n",
    "    return np.sum(train_loss)"
   ],
   "metadata": {
    "collapsed": false,
    "ExecuteTime": {
     "end_time": "2023-05-23T20:00:18.895947500Z",
     "start_time": "2023-05-23T20:00:18.848957700Z"
    }
   }
  },
  {
   "cell_type": "code",
   "execution_count": 20,
   "outputs": [],
   "source": [
    "def validate(model, criterion, val_loader):\n",
    "    model.eval()\n",
    "    test_loss = []\n",
    "    all_targets = []\n",
    "    all_predictions = []\n",
    "\n",
    "    for inputs, to_encode, targets in val_loader:\n",
    "\n",
    "        outputs = model(inputs, to_encode)\n",
    "        loss = criterion(outputs, targets)\n",
    "        test_loss.append(loss.item())\n",
    "        copy_prediction = outputs.clone()\n",
    "        all_targets.append(targets.cpu().numpy())\n",
    "        all_predictions.append(copy_prediction.detach().cpu().numpy())\n",
    "\n",
    "    all_targets = np.concatenate(all_targets)\n",
    "    all_predictions = np.concatenate(all_predictions)\n",
    "\n",
    "    val_r2score = r2_score(all_targets, all_predictions)\n",
    "    val_mse = mean_squared_error(all_targets, all_predictions)\n",
    "    val_rmse = np.sqrt(val_mse)\n",
    "    val_mae = mean_absolute_error(all_targets, all_predictions)\n",
    "    metric_val = {\"val_r2score\": val_r2score, \"val_mse\": val_mse, \"val_rmse\": val_rmse, \"val_mae\": val_mae}\n",
    "    wandb.log(metric_val)\n",
    "\n",
    "    return np.sum(test_loss)"
   ],
   "metadata": {
    "collapsed": false,
    "ExecuteTime": {
     "end_time": "2023-05-23T20:00:18.895947500Z",
     "start_time": "2023-05-23T20:00:18.855553Z"
    }
   }
  },
  {
   "cell_type": "code",
   "execution_count": 21,
   "outputs": [],
   "source": [
    "def testing(model, test_loader):\n",
    "  all_targets = []\n",
    "  all_predictions = []\n",
    "\n",
    "  for inputs, to_encode, targets in test_loader:\n",
    "      # Forward pass\n",
    "      outputs = model(inputs, to_encode)\n",
    "      copy_prediction = outputs.clone()\n",
    "      all_targets.append(targets.cpu().numpy())\n",
    "      all_predictions.append(copy_prediction.detach().cpu().numpy())\n",
    "\n",
    "  all_targets = np.concatenate(all_targets)\n",
    "  all_predictions = np.concatenate(all_predictions)\n",
    "\n",
    "  return all_targets, all_predictions"
   ],
   "metadata": {
    "collapsed": false,
    "ExecuteTime": {
     "end_time": "2023-05-23T20:00:18.895947500Z",
     "start_time": "2023-05-23T20:00:18.861851300Z"
    }
   }
  },
  {
   "cell_type": "code",
   "execution_count": 22,
   "outputs": [],
   "source": [
    "def launch_model_sk(model, train_set, val_set, y_train, y_val):\n",
    "            #training\n",
    "            x_train = np.concatenate((train_to_encode, train_set), axis=1)\n",
    "            model.fit(x_train, y_train)\n",
    "\n",
    "            #validation\n",
    "            x_val = np.concatenate((val_to_encode, val_set), axis=1)\n",
    "            all_predictions_val = model.predict(x_val)\n",
    "            all_targets_val = y_val\n",
    "            val_r2score = r2_score(all_targets_val, all_predictions_val)\n",
    "            val_mse = mean_squared_error(all_targets_val, all_predictions_val)\n",
    "            val_rmse = np.sqrt(val_mse)\n",
    "            val_mae = mean_absolute_error(all_targets_val, all_predictions_val)\n",
    "            metric_val = {\"val_r2score\": val_r2score, \"val_mse\": val_mse, \"val_rmse\": val_rmse, \"val_mae\": val_mae}\n",
    "            wandb.log(metric_val)\n",
    "\n",
    "            #testing\n",
    "            x_test = np.concatenate((test_to_encode, test_set), axis=1)\n",
    "            all_predictions = model.predict(x_test)\n",
    "            all_targets = y_test\n",
    "\n",
    "            return all_predictions, all_targets"
   ],
   "metadata": {
    "collapsed": false,
    "ExecuteTime": {
     "end_time": "2023-05-23T20:00:18.895947500Z",
     "start_time": "2023-05-23T20:00:18.868311300Z"
    }
   }
  },
  {
   "cell_type": "code",
   "execution_count": 23,
   "outputs": [
    {
     "data": {
      "text/plain": "'\\nmodel_type = \\'linear\\'\\nclass config:\\n    def __init__(self, epochs, batch_size, lr, eps, weight_decay, optimizer):\\n        self.epochs = epochs\\n        self.batch_size = batch_size\\n        self.lr = lr\\n        self.eps = eps\\n        self.weight_decay = weight_decay\\n        self.optimizer = optimizer\\n        self.dropout = 0.3\\n\\nconfig = config(epochs=30, batch_size=128, lr=0.004783\\n, eps=1e-08, weight_decay=0.0, optimizer=\"sgd\")\\n\\nrun(config)\\n'"
     },
     "execution_count": 23,
     "metadata": {},
     "output_type": "execute_result"
    }
   ],
   "source": [
    "#create class config\n",
    "'''\n",
    "model_type = 'linear'\n",
    "class config:\n",
    "    def __init__(self, epochs, batch_size, lr, eps, weight_decay, optimizer):\n",
    "        self.epochs = epochs\n",
    "        self.batch_size = batch_size\n",
    "        self.lr = lr\n",
    "        self.eps = eps\n",
    "        self.weight_decay = weight_decay\n",
    "        self.optimizer = optimizer\n",
    "        self.dropout = 0.3\n",
    "\n",
    "config = config(epochs=30, batch_size=128, lr=0.004783\n",
    ", eps=1e-08, weight_decay=0.0, optimizer=\"sgd\")\n",
    "\n",
    "run(config)\n",
    "'''"
   ],
   "metadata": {
    "collapsed": false,
    "ExecuteTime": {
     "end_time": "2023-05-23T20:00:18.895947500Z",
     "start_time": "2023-05-23T20:00:18.879707200Z"
    }
   }
  },
  {
   "cell_type": "code",
   "execution_count": 24,
   "outputs": [
    {
     "name": "stdout",
     "output_type": "stream",
     "text": [
      "Create sweep with ID: r60dkmnn\n",
      "Sweep URL: https://wandb.ai/leonardo-berti07/BDproject2/sweeps/r60dkmnn\n"
     ]
    },
    {
     "name": "stderr",
     "output_type": "stream",
     "text": [
      "\u001B[34m\u001B[1mwandb\u001B[0m: Agent Starting Run: 0czitxbv with config:\n",
      "\u001B[34m\u001B[1mwandb\u001B[0m: \tbatch_size: 128\n",
      "\u001B[34m\u001B[1mwandb\u001B[0m: \tdropout: 0.2\n",
      "\u001B[34m\u001B[1mwandb\u001B[0m: \tepochs: 50\n",
      "\u001B[34m\u001B[1mwandb\u001B[0m: \teps: 1e-08\n",
      "\u001B[34m\u001B[1mwandb\u001B[0m: \tlr: 0.002006131407497724\n",
      "\u001B[34m\u001B[1mwandb\u001B[0m: \toptimizer: adam\n"
     ]
    },
    {
     "data": {
      "text/plain": "<IPython.core.display.HTML object>",
      "text/html": "Tracking run with wandb version 0.15.3"
     },
     "metadata": {},
     "output_type": "display_data"
    },
    {
     "data": {
      "text/plain": "<IPython.core.display.HTML object>",
      "text/html": "Run data is saved locally in <code>C:\\Users\\leona\\PycharmProjects\\BDC_project\\wandb\\run-20230523_220041-0czitxbv</code>"
     },
     "metadata": {},
     "output_type": "display_data"
    },
    {
     "data": {
      "text/plain": "<IPython.core.display.HTML object>",
      "text/html": "Syncing run <strong><a href='https://wandb.ai/leonardo-berti07/BDproject2/runs/0czitxbv' target=\"_blank\">honest-sweep-1</a></strong> to <a href='https://wandb.ai/leonardo-berti07/BDproject2' target=\"_blank\">Weights & Biases</a> (<a href='https://wandb.me/run' target=\"_blank\">docs</a>)<br/>Sweep page: <a href='https://wandb.ai/leonardo-berti07/BDproject2/sweeps/r60dkmnn' target=\"_blank\">https://wandb.ai/leonardo-berti07/BDproject2/sweeps/r60dkmnn</a>"
     },
     "metadata": {},
     "output_type": "display_data"
    },
    {
     "data": {
      "text/plain": "<IPython.core.display.HTML object>",
      "text/html": " View project at <a href='https://wandb.ai/leonardo-berti07/BDproject2' target=\"_blank\">https://wandb.ai/leonardo-berti07/BDproject2</a>"
     },
     "metadata": {},
     "output_type": "display_data"
    },
    {
     "data": {
      "text/plain": "<IPython.core.display.HTML object>",
      "text/html": " View sweep at <a href='https://wandb.ai/leonardo-berti07/BDproject2/sweeps/r60dkmnn' target=\"_blank\">https://wandb.ai/leonardo-berti07/BDproject2/sweeps/r60dkmnn</a>"
     },
     "metadata": {},
     "output_type": "display_data"
    },
    {
     "data": {
      "text/plain": "<IPython.core.display.HTML object>",
      "text/html": " View run at <a href='https://wandb.ai/leonardo-berti07/BDproject2/runs/0czitxbv' target=\"_blank\">https://wandb.ai/leonardo-berti07/BDproject2/runs/0czitxbv</a>"
     },
     "metadata": {},
     "output_type": "display_data"
    },
    {
     "name": "stderr",
     "output_type": "stream",
     "text": [
      "100%|██████████| 50/50 [02:56<00:00,  3.54s/it]\n"
     ]
    },
    {
     "name": "stdout",
     "output_type": "stream",
     "text": [
      "{'test_r2score': 0.9384910983897405, 'test_mse': 0.05502468, 'test_rmse': 0.2345734, 'test_mae': 0.11727544}\n"
     ]
    },
    {
     "data": {
      "text/plain": "<IPython.core.display.HTML object>",
      "text/html": "Waiting for W&B process to finish... <strong style=\"color:green\">(success).</strong>"
     },
     "metadata": {},
     "output_type": "display_data"
    },
    {
     "data": {
      "text/plain": "VBox(children=(Label(value='0.001 MB of 0.001 MB uploaded (0.000 MB deduped)\\r'), FloatProgress(value=1.0, max…",
      "application/vnd.jupyter.widget-view+json": {
       "version_major": 2,
       "version_minor": 0,
       "model_id": "4e4dac4dad74479290eed269171c758d"
      }
     },
     "metadata": {},
     "output_type": "display_data"
    },
    {
     "data": {
      "text/plain": "<IPython.core.display.HTML object>",
      "text/html": "<style>\n    table.wandb td:nth-child(1) { padding: 0 10px; text-align: left ; width: auto;} td:nth-child(2) {text-align: left ; width: 100%}\n    .wandb-row { display: flex; flex-direction: row; flex-wrap: wrap; justify-content: flex-start; width: 100% }\n    .wandb-col { display: flex; flex-direction: column; flex-basis: 100%; flex: 1; padding: 10px; }\n    </style>\n<div class=\"wandb-row\"><div class=\"wandb-col\"><h3>Run history:</h3><br/><table class=\"wandb\"><tr><td>epochs</td><td>▁▁▁▁▂▂▂▂▂▃▃▃▃▃▃▄▄▄▄▄▅▅▅▅▅▅▆▆▆▆▆▆▇▇▇▇▇███</td></tr><tr><td>test_mae</td><td>▁█</td></tr><tr><td>test_mse</td><td>▁█</td></tr><tr><td>test_r2score</td><td>▁█</td></tr><tr><td>test_rmse</td><td>▁█</td></tr><tr><td>val_loss</td><td>█▂▁▁▁▁▁▁▁▂▁▁▁▂▂▂▂▂▂▂▂▂▂▂▃▃▃▂▃▃▃▃▃▃▃▃▃▃▃▃</td></tr><tr><td>val_mae</td><td>▁█▇▇▇▇▇▇▇▇▇▇▇▇▇▇▇▇▇▇▇▇▇▇▇▇▇▇▇▇▇▇▇▇▇▇▇▇▇▇</td></tr><tr><td>val_mse</td><td>▁█▇▇▇▇▇▇▇▇▇▇▇▇▇▇▇▇▇▇▇▇▇▇▇▇▇▇▇▇▇▇▇▇▇▇▇▇▇▇</td></tr><tr><td>val_r2score</td><td>▁███████████████████████████████████████</td></tr><tr><td>val_rmse</td><td>▁█▇▇▇▇▇▇▇▇▇▇▇▇▇▇▇▇▇▇▇▇▇▇▇▇▇▇▇▇▇▇▇▇▇▇▇▇▇▇</td></tr></table><br/></div><div class=\"wandb-col\"><h3>Run summary:</h3><br/><table class=\"wandb\"><tr><td>epochs</td><td>50</td></tr><tr><td>model name</td><td>linear</td></tr><tr><td>test_mae</td><td>0.11728</td></tr><tr><td>test_mse</td><td>0.05502</td></tr><tr><td>test_r2score</td><td>0.93849</td></tr><tr><td>test_rmse</td><td>0.23457</td></tr><tr><td>val_loss</td><td>9.68172</td></tr><tr><td>val_mae</td><td>0.13153</td></tr><tr><td>val_mse</td><td>0.08619</td></tr><tr><td>val_r2score</td><td>0.94522</td></tr><tr><td>val_rmse</td><td>0.29357</td></tr></table><br/></div></div>"
     },
     "metadata": {},
     "output_type": "display_data"
    },
    {
     "data": {
      "text/plain": "<IPython.core.display.HTML object>",
      "text/html": " View run <strong style=\"color:#cdcd00\">honest-sweep-1</strong> at: <a href='https://wandb.ai/leonardo-berti07/BDproject2/runs/0czitxbv' target=\"_blank\">https://wandb.ai/leonardo-berti07/BDproject2/runs/0czitxbv</a><br/>Synced 6 W&B file(s), 0 media file(s), 0 artifact file(s) and 0 other file(s)"
     },
     "metadata": {},
     "output_type": "display_data"
    },
    {
     "data": {
      "text/plain": "<IPython.core.display.HTML object>",
      "text/html": "Find logs at: <code>.\\wandb\\run-20230523_220041-0czitxbv\\logs</code>"
     },
     "metadata": {},
     "output_type": "display_data"
    },
    {
     "name": "stderr",
     "output_type": "stream",
     "text": [
      "\u001B[34m\u001B[1mwandb\u001B[0m: Agent Starting Run: db8hjxr8 with config:\n",
      "\u001B[34m\u001B[1mwandb\u001B[0m: \tbatch_size: 32\n",
      "\u001B[34m\u001B[1mwandb\u001B[0m: \tdropout: 0.2\n",
      "\u001B[34m\u001B[1mwandb\u001B[0m: \tepochs: 50\n",
      "\u001B[34m\u001B[1mwandb\u001B[0m: \teps: 1e-08\n",
      "\u001B[34m\u001B[1mwandb\u001B[0m: \tlr: 0.004405878682086976\n",
      "\u001B[34m\u001B[1mwandb\u001B[0m: \toptimizer: adam\n"
     ]
    },
    {
     "data": {
      "text/plain": "<IPython.core.display.HTML object>",
      "text/html": "Tracking run with wandb version 0.15.3"
     },
     "metadata": {},
     "output_type": "display_data"
    },
    {
     "data": {
      "text/plain": "<IPython.core.display.HTML object>",
      "text/html": "Run data is saved locally in <code>C:\\Users\\leona\\PycharmProjects\\BDC_project\\wandb\\run-20230523_220357-db8hjxr8</code>"
     },
     "metadata": {},
     "output_type": "display_data"
    },
    {
     "data": {
      "text/plain": "<IPython.core.display.HTML object>",
      "text/html": "Syncing run <strong><a href='https://wandb.ai/leonardo-berti07/BDproject2/runs/db8hjxr8' target=\"_blank\">celestial-sweep-2</a></strong> to <a href='https://wandb.ai/leonardo-berti07/BDproject2' target=\"_blank\">Weights & Biases</a> (<a href='https://wandb.me/run' target=\"_blank\">docs</a>)<br/>Sweep page: <a href='https://wandb.ai/leonardo-berti07/BDproject2/sweeps/r60dkmnn' target=\"_blank\">https://wandb.ai/leonardo-berti07/BDproject2/sweeps/r60dkmnn</a>"
     },
     "metadata": {},
     "output_type": "display_data"
    },
    {
     "data": {
      "text/plain": "<IPython.core.display.HTML object>",
      "text/html": " View project at <a href='https://wandb.ai/leonardo-berti07/BDproject2' target=\"_blank\">https://wandb.ai/leonardo-berti07/BDproject2</a>"
     },
     "metadata": {},
     "output_type": "display_data"
    },
    {
     "data": {
      "text/plain": "<IPython.core.display.HTML object>",
      "text/html": " View sweep at <a href='https://wandb.ai/leonardo-berti07/BDproject2/sweeps/r60dkmnn' target=\"_blank\">https://wandb.ai/leonardo-berti07/BDproject2/sweeps/r60dkmnn</a>"
     },
     "metadata": {},
     "output_type": "display_data"
    },
    {
     "data": {
      "text/plain": "<IPython.core.display.HTML object>",
      "text/html": " View run at <a href='https://wandb.ai/leonardo-berti07/BDproject2/runs/db8hjxr8' target=\"_blank\">https://wandb.ai/leonardo-berti07/BDproject2/runs/db8hjxr8</a>"
     },
     "metadata": {},
     "output_type": "display_data"
    },
    {
     "name": "stderr",
     "output_type": "stream",
     "text": [
      "100%|██████████| 50/50 [11:04<00:00, 13.30s/it]\n"
     ]
    },
    {
     "name": "stdout",
     "output_type": "stream",
     "text": [
      "{'test_r2score': 0.9356636213314179, 'test_mse': 0.057554085, 'test_rmse': 0.23990433, 'test_mae': 0.12540667}\n"
     ]
    },
    {
     "data": {
      "text/plain": "<IPython.core.display.HTML object>",
      "text/html": "Waiting for W&B process to finish... <strong style=\"color:green\">(success).</strong>"
     },
     "metadata": {},
     "output_type": "display_data"
    },
    {
     "data": {
      "text/plain": "<IPython.core.display.HTML object>",
      "text/html": "<style>\n    table.wandb td:nth-child(1) { padding: 0 10px; text-align: left ; width: auto;} td:nth-child(2) {text-align: left ; width: 100%}\n    .wandb-row { display: flex; flex-direction: row; flex-wrap: wrap; justify-content: flex-start; width: 100% }\n    .wandb-col { display: flex; flex-direction: column; flex-basis: 100%; flex: 1; padding: 10px; }\n    </style>\n<div class=\"wandb-row\"><div class=\"wandb-col\"><h3>Run history:</h3><br/><table class=\"wandb\"><tr><td>epochs</td><td>▁▁▁▁▂▂▂▂▂▃▃▃▃▃▃▄▄▄▄▄▅▅▅▅▅▅▆▆▆▆▆▆▇▇▇▇▇███</td></tr><tr><td>test_mae</td><td>▁█</td></tr><tr><td>test_mse</td><td>▁█</td></tr><tr><td>test_r2score</td><td>▁█</td></tr><tr><td>test_rmse</td><td>▁█</td></tr><tr><td>val_loss</td><td>▆▂▂▁▂▃▂█▃▄▂▅▂▃▂▄▂▅▃▃▄▃▃▃▄▄▅▃▅▄▄▄▄▃▄▄▄▄▄▄</td></tr><tr><td>val_mae</td><td>▁▇▇▇▇▇████▇█▇▇▇▇▇▇▇▇▇▇▇▇▇█▇▇▇▇▇▇▇▇▇▇▇▇▇▇</td></tr><tr><td>val_mse</td><td>▁█▇▇▇▇▇█▇▇▇█▇▇▇▇▇█▇▇█▇▇█▇▇▇▇█▇▇█▇▇████▇▇</td></tr><tr><td>val_r2score</td><td>▁███████████████████████████████████████</td></tr><tr><td>val_rmse</td><td>▁███████████████████████████████████████</td></tr></table><br/></div><div class=\"wandb-col\"><h3>Run summary:</h3><br/><table class=\"wandb\"><tr><td>epochs</td><td>50</td></tr><tr><td>model name</td><td>linear</td></tr><tr><td>test_mae</td><td>0.12541</td></tr><tr><td>test_mse</td><td>0.05755</td></tr><tr><td>test_r2score</td><td>0.93566</td></tr><tr><td>test_rmse</td><td>0.2399</td></tr><tr><td>val_loss</td><td>39.53633</td></tr><tr><td>val_mae</td><td>0.13722</td></tr><tr><td>val_mse</td><td>0.08816</td></tr><tr><td>val_r2score</td><td>0.94396</td></tr><tr><td>val_rmse</td><td>0.29691</td></tr></table><br/></div></div>"
     },
     "metadata": {},
     "output_type": "display_data"
    },
    {
     "data": {
      "text/plain": "<IPython.core.display.HTML object>",
      "text/html": " View run <strong style=\"color:#cdcd00\">celestial-sweep-2</strong> at: <a href='https://wandb.ai/leonardo-berti07/BDproject2/runs/db8hjxr8' target=\"_blank\">https://wandb.ai/leonardo-berti07/BDproject2/runs/db8hjxr8</a><br/>Synced 6 W&B file(s), 0 media file(s), 0 artifact file(s) and 0 other file(s)"
     },
     "metadata": {},
     "output_type": "display_data"
    },
    {
     "data": {
      "text/plain": "<IPython.core.display.HTML object>",
      "text/html": "Find logs at: <code>.\\wandb\\run-20230523_220357-db8hjxr8\\logs</code>"
     },
     "metadata": {},
     "output_type": "display_data"
    },
    {
     "name": "stderr",
     "output_type": "stream",
     "text": [
      "\u001B[34m\u001B[1mwandb\u001B[0m: Sweep Agent: Waiting for job.\n",
      "\u001B[34m\u001B[1mwandb\u001B[0m: Job received.\n",
      "\u001B[34m\u001B[1mwandb\u001B[0m: Agent Starting Run: 2e3ejjh6 with config:\n",
      "\u001B[34m\u001B[1mwandb\u001B[0m: \tbatch_size: 32\n",
      "\u001B[34m\u001B[1mwandb\u001B[0m: \tdropout: 0.2\n",
      "\u001B[34m\u001B[1mwandb\u001B[0m: \tepochs: 50\n",
      "\u001B[34m\u001B[1mwandb\u001B[0m: \teps: 1e-08\n",
      "\u001B[34m\u001B[1mwandb\u001B[0m: \tlr: 0.0043738474223757075\n",
      "\u001B[34m\u001B[1mwandb\u001B[0m: \toptimizer: adam\n"
     ]
    },
    {
     "data": {
      "text/plain": "<IPython.core.display.HTML object>",
      "text/html": "Tracking run with wandb version 0.15.3"
     },
     "metadata": {},
     "output_type": "display_data"
    },
    {
     "data": {
      "text/plain": "<IPython.core.display.HTML object>",
      "text/html": "Run data is saved locally in <code>C:\\Users\\leona\\PycharmProjects\\BDC_project\\wandb\\run-20230523_221551-2e3ejjh6</code>"
     },
     "metadata": {},
     "output_type": "display_data"
    },
    {
     "data": {
      "text/plain": "<IPython.core.display.HTML object>",
      "text/html": "Syncing run <strong><a href='https://wandb.ai/leonardo-berti07/BDproject2/runs/2e3ejjh6' target=\"_blank\">winter-sweep-3</a></strong> to <a href='https://wandb.ai/leonardo-berti07/BDproject2' target=\"_blank\">Weights & Biases</a> (<a href='https://wandb.me/run' target=\"_blank\">docs</a>)<br/>Sweep page: <a href='https://wandb.ai/leonardo-berti07/BDproject2/sweeps/r60dkmnn' target=\"_blank\">https://wandb.ai/leonardo-berti07/BDproject2/sweeps/r60dkmnn</a>"
     },
     "metadata": {},
     "output_type": "display_data"
    },
    {
     "data": {
      "text/plain": "<IPython.core.display.HTML object>",
      "text/html": " View project at <a href='https://wandb.ai/leonardo-berti07/BDproject2' target=\"_blank\">https://wandb.ai/leonardo-berti07/BDproject2</a>"
     },
     "metadata": {},
     "output_type": "display_data"
    },
    {
     "data": {
      "text/plain": "<IPython.core.display.HTML object>",
      "text/html": " View sweep at <a href='https://wandb.ai/leonardo-berti07/BDproject2/sweeps/r60dkmnn' target=\"_blank\">https://wandb.ai/leonardo-berti07/BDproject2/sweeps/r60dkmnn</a>"
     },
     "metadata": {},
     "output_type": "display_data"
    },
    {
     "data": {
      "text/plain": "<IPython.core.display.HTML object>",
      "text/html": " View run at <a href='https://wandb.ai/leonardo-berti07/BDproject2/runs/2e3ejjh6' target=\"_blank\">https://wandb.ai/leonardo-berti07/BDproject2/runs/2e3ejjh6</a>"
     },
     "metadata": {},
     "output_type": "display_data"
    },
    {
     "name": "stderr",
     "output_type": "stream",
     "text": [
      "100%|██████████| 50/50 [10:55<00:00, 13.10s/it]\n"
     ]
    },
    {
     "name": "stdout",
     "output_type": "stream",
     "text": [
      "{'test_r2score': 0.9368673290752462, 'test_mse': 0.056477267, 'test_rmse': 0.23764946, 'test_mae': 0.120853744}\n"
     ]
    },
    {
     "data": {
      "text/plain": "<IPython.core.display.HTML object>",
      "text/html": "Waiting for W&B process to finish... <strong style=\"color:green\">(success).</strong>"
     },
     "metadata": {},
     "output_type": "display_data"
    },
    {
     "data": {
      "text/plain": "<IPython.core.display.HTML object>",
      "text/html": "<style>\n    table.wandb td:nth-child(1) { padding: 0 10px; text-align: left ; width: auto;} td:nth-child(2) {text-align: left ; width: 100%}\n    .wandb-row { display: flex; flex-direction: row; flex-wrap: wrap; justify-content: flex-start; width: 100% }\n    .wandb-col { display: flex; flex-direction: column; flex-basis: 100%; flex: 1; padding: 10px; }\n    </style>\n<div class=\"wandb-row\"><div class=\"wandb-col\"><h3>Run history:</h3><br/><table class=\"wandb\"><tr><td>epochs</td><td>▁▁▁▁▂▂▂▂▂▃▃▃▃▃▃▄▄▄▄▄▅▅▅▅▅▅▆▆▆▆▆▆▇▇▇▇▇███</td></tr><tr><td>test_mae</td><td>▁█</td></tr><tr><td>test_mse</td><td>▁█</td></tr><tr><td>test_r2score</td><td>▁█</td></tr><tr><td>test_rmse</td><td>▁█</td></tr><tr><td>val_loss</td><td>▄▂▄▁▂▃▃█▅▃▄▄▃▃▃▄▄▃▂▆▃▄▃▄▄▅▅▄▄▅▅▄▅▅▅▅▅▅▅▅</td></tr><tr><td>val_mae</td><td>▁▇▇▇▇▇▇█▇▇▇█▇▇▇▇▇▇▇█▇▇▇▇▇▇▇▇▇▇▇▇▇▇▇▇▇▇▇▇</td></tr><tr><td>val_mse</td><td>▁█▇█▇▇██▇████████▇▇████████████████████▇</td></tr><tr><td>val_r2score</td><td>▁███████████████████████████████████████</td></tr><tr><td>val_rmse</td><td>▁███████████████████████████████████████</td></tr></table><br/></div><div class=\"wandb-col\"><h3>Run summary:</h3><br/><table class=\"wandb\"><tr><td>epochs</td><td>50</td></tr><tr><td>model name</td><td>linear</td></tr><tr><td>test_mae</td><td>0.12085</td></tr><tr><td>test_mse</td><td>0.05648</td></tr><tr><td>test_r2score</td><td>0.93687</td></tr><tr><td>test_rmse</td><td>0.23765</td></tr><tr><td>val_loss</td><td>39.32268</td></tr><tr><td>val_mae</td><td>0.13171</td></tr><tr><td>val_mse</td><td>0.08715</td></tr><tr><td>val_r2score</td><td>0.9446</td></tr><tr><td>val_rmse</td><td>0.29521</td></tr></table><br/></div></div>"
     },
     "metadata": {},
     "output_type": "display_data"
    },
    {
     "data": {
      "text/plain": "<IPython.core.display.HTML object>",
      "text/html": " View run <strong style=\"color:#cdcd00\">winter-sweep-3</strong> at: <a href='https://wandb.ai/leonardo-berti07/BDproject2/runs/2e3ejjh6' target=\"_blank\">https://wandb.ai/leonardo-berti07/BDproject2/runs/2e3ejjh6</a><br/>Synced 6 W&B file(s), 0 media file(s), 0 artifact file(s) and 0 other file(s)"
     },
     "metadata": {},
     "output_type": "display_data"
    },
    {
     "data": {
      "text/plain": "<IPython.core.display.HTML object>",
      "text/html": "Find logs at: <code>.\\wandb\\run-20230523_221551-2e3ejjh6\\logs</code>"
     },
     "metadata": {},
     "output_type": "display_data"
    },
    {
     "name": "stderr",
     "output_type": "stream",
     "text": [
      "\u001B[34m\u001B[1mwandb\u001B[0m: Sweep Agent: Waiting for job.\n",
      "\u001B[34m\u001B[1mwandb\u001B[0m: Job received.\n",
      "\u001B[34m\u001B[1mwandb\u001B[0m: Agent Starting Run: xv9ldbib with config:\n",
      "\u001B[34m\u001B[1mwandb\u001B[0m: \tbatch_size: 128\n",
      "\u001B[34m\u001B[1mwandb\u001B[0m: \tdropout: 0.2\n",
      "\u001B[34m\u001B[1mwandb\u001B[0m: \tepochs: 50\n",
      "\u001B[34m\u001B[1mwandb\u001B[0m: \teps: 1e-08\n",
      "\u001B[34m\u001B[1mwandb\u001B[0m: \tlr: 0.0027747623101670683\n",
      "\u001B[34m\u001B[1mwandb\u001B[0m: \toptimizer: adam\n"
     ]
    },
    {
     "data": {
      "text/plain": "<IPython.core.display.HTML object>",
      "text/html": "Tracking run with wandb version 0.15.3"
     },
     "metadata": {},
     "output_type": "display_data"
    },
    {
     "data": {
      "text/plain": "<IPython.core.display.HTML object>",
      "text/html": "Run data is saved locally in <code>C:\\Users\\leona\\PycharmProjects\\BDC_project\\wandb\\run-20230523_222738-xv9ldbib</code>"
     },
     "metadata": {},
     "output_type": "display_data"
    },
    {
     "data": {
      "text/plain": "<IPython.core.display.HTML object>",
      "text/html": "Syncing run <strong><a href='https://wandb.ai/leonardo-berti07/BDproject2/runs/xv9ldbib' target=\"_blank\">different-sweep-4</a></strong> to <a href='https://wandb.ai/leonardo-berti07/BDproject2' target=\"_blank\">Weights & Biases</a> (<a href='https://wandb.me/run' target=\"_blank\">docs</a>)<br/>Sweep page: <a href='https://wandb.ai/leonardo-berti07/BDproject2/sweeps/r60dkmnn' target=\"_blank\">https://wandb.ai/leonardo-berti07/BDproject2/sweeps/r60dkmnn</a>"
     },
     "metadata": {},
     "output_type": "display_data"
    },
    {
     "data": {
      "text/plain": "<IPython.core.display.HTML object>",
      "text/html": " View project at <a href='https://wandb.ai/leonardo-berti07/BDproject2' target=\"_blank\">https://wandb.ai/leonardo-berti07/BDproject2</a>"
     },
     "metadata": {},
     "output_type": "display_data"
    },
    {
     "data": {
      "text/plain": "<IPython.core.display.HTML object>",
      "text/html": " View sweep at <a href='https://wandb.ai/leonardo-berti07/BDproject2/sweeps/r60dkmnn' target=\"_blank\">https://wandb.ai/leonardo-berti07/BDproject2/sweeps/r60dkmnn</a>"
     },
     "metadata": {},
     "output_type": "display_data"
    },
    {
     "data": {
      "text/plain": "<IPython.core.display.HTML object>",
      "text/html": " View run at <a href='https://wandb.ai/leonardo-berti07/BDproject2/runs/xv9ldbib' target=\"_blank\">https://wandb.ai/leonardo-berti07/BDproject2/runs/xv9ldbib</a>"
     },
     "metadata": {},
     "output_type": "display_data"
    },
    {
     "name": "stderr",
     "output_type": "stream",
     "text": [
      "100%|██████████| 50/50 [03:05<00:00,  3.70s/it]\n"
     ]
    },
    {
     "name": "stdout",
     "output_type": "stream",
     "text": [
      "{'test_r2score': 0.9375317163850215, 'test_mse': 0.055882923, 'test_rmse': 0.23639569, 'test_mae': 0.118253596}\n"
     ]
    },
    {
     "data": {
      "text/plain": "<IPython.core.display.HTML object>",
      "text/html": "Waiting for W&B process to finish... <strong style=\"color:green\">(success).</strong>"
     },
     "metadata": {},
     "output_type": "display_data"
    },
    {
     "data": {
      "text/plain": "VBox(children=(Label(value='0.001 MB of 0.001 MB uploaded (0.000 MB deduped)\\r'), FloatProgress(value=1.0, max…",
      "application/vnd.jupyter.widget-view+json": {
       "version_major": 2,
       "version_minor": 0,
       "model_id": "448e4c4258f042c8a7727dc40f7009b9"
      }
     },
     "metadata": {},
     "output_type": "display_data"
    },
    {
     "data": {
      "text/plain": "<IPython.core.display.HTML object>",
      "text/html": "<style>\n    table.wandb td:nth-child(1) { padding: 0 10px; text-align: left ; width: auto;} td:nth-child(2) {text-align: left ; width: 100%}\n    .wandb-row { display: flex; flex-direction: row; flex-wrap: wrap; justify-content: flex-start; width: 100% }\n    .wandb-col { display: flex; flex-direction: column; flex-basis: 100%; flex: 1; padding: 10px; }\n    </style>\n<div class=\"wandb-row\"><div class=\"wandb-col\"><h3>Run history:</h3><br/><table class=\"wandb\"><tr><td>epochs</td><td>▁▁▁▁▂▂▂▂▂▃▃▃▃▃▃▄▄▄▄▄▅▅▅▅▅▅▆▆▆▆▆▆▇▇▇▇▇███</td></tr><tr><td>test_mae</td><td>▁█</td></tr><tr><td>test_mse</td><td>▁█</td></tr><tr><td>test_r2score</td><td>▁█</td></tr><tr><td>test_rmse</td><td>▁█</td></tr><tr><td>val_loss</td><td>█▁▂▁▁▁▁▁▁▂▂▂▂▂▂▂▂▂▂▂▃▂▃▂▃▂▃▃▃▃▃▃▃▃▃▃▃▃▃▃</td></tr><tr><td>val_mae</td><td>▁█▇▇▇▇▇▇▇▇▇▇▇▇▇▇▇█▇▇▇▇▇▇▇▇▇▇▇▇▇▇▇▇▇▇▇▇▇▇</td></tr><tr><td>val_mse</td><td>▁█▇▇▇▇▇▇▇▇▇▇▇▇▇▇▇▇▇▇▇▇▇▇▇▇▇▇▇▇▇▇▇▇▇▇▇▇▇▇</td></tr><tr><td>val_r2score</td><td>▁███████████████████████████████████████</td></tr><tr><td>val_rmse</td><td>▁█▇▇▇▇▇▇▇▇▇▇▇▇▇▇▇▇▇▇▇▇▇▇▇▇▇▇▇▇▇▇▇▇▇▇▇▇▇▇</td></tr></table><br/></div><div class=\"wandb-col\"><h3>Run summary:</h3><br/><table class=\"wandb\"><tr><td>epochs</td><td>50</td></tr><tr><td>model name</td><td>linear</td></tr><tr><td>test_mae</td><td>0.11825</td></tr><tr><td>test_mse</td><td>0.05588</td></tr><tr><td>test_r2score</td><td>0.93753</td></tr><tr><td>test_rmse</td><td>0.2364</td></tr><tr><td>val_loss</td><td>9.70554</td></tr><tr><td>val_mae</td><td>0.12964</td></tr><tr><td>val_mse</td><td>0.0857</td></tr><tr><td>val_r2score</td><td>0.94552</td></tr><tr><td>val_rmse</td><td>0.29275</td></tr></table><br/></div></div>"
     },
     "metadata": {},
     "output_type": "display_data"
    },
    {
     "data": {
      "text/plain": "<IPython.core.display.HTML object>",
      "text/html": " View run <strong style=\"color:#cdcd00\">different-sweep-4</strong> at: <a href='https://wandb.ai/leonardo-berti07/BDproject2/runs/xv9ldbib' target=\"_blank\">https://wandb.ai/leonardo-berti07/BDproject2/runs/xv9ldbib</a><br/>Synced 6 W&B file(s), 0 media file(s), 0 artifact file(s) and 0 other file(s)"
     },
     "metadata": {},
     "output_type": "display_data"
    },
    {
     "data": {
      "text/plain": "<IPython.core.display.HTML object>",
      "text/html": "Find logs at: <code>.\\wandb\\run-20230523_222738-xv9ldbib\\logs</code>"
     },
     "metadata": {},
     "output_type": "display_data"
    },
    {
     "name": "stderr",
     "output_type": "stream",
     "text": [
      "\u001B[34m\u001B[1mwandb\u001B[0m: Sweep Agent: Waiting for job.\n",
      "\u001B[34m\u001B[1mwandb\u001B[0m: Job received.\n",
      "\u001B[34m\u001B[1mwandb\u001B[0m: Agent Starting Run: oia00bkx with config:\n",
      "\u001B[34m\u001B[1mwandb\u001B[0m: \tbatch_size: 128\n",
      "\u001B[34m\u001B[1mwandb\u001B[0m: \tdropout: 0.2\n",
      "\u001B[34m\u001B[1mwandb\u001B[0m: \tepochs: 50\n",
      "\u001B[34m\u001B[1mwandb\u001B[0m: \teps: 1e-08\n",
      "\u001B[34m\u001B[1mwandb\u001B[0m: \tlr: 0.005763794534330438\n",
      "\u001B[34m\u001B[1mwandb\u001B[0m: \toptimizer: sgd\n"
     ]
    },
    {
     "data": {
      "text/plain": "<IPython.core.display.HTML object>",
      "text/html": "Tracking run with wandb version 0.15.3"
     },
     "metadata": {},
     "output_type": "display_data"
    },
    {
     "data": {
      "text/plain": "<IPython.core.display.HTML object>",
      "text/html": "Run data is saved locally in <code>C:\\Users\\leona\\PycharmProjects\\BDC_project\\wandb\\run-20230523_223105-oia00bkx</code>"
     },
     "metadata": {},
     "output_type": "display_data"
    },
    {
     "data": {
      "text/plain": "<IPython.core.display.HTML object>",
      "text/html": "Syncing run <strong><a href='https://wandb.ai/leonardo-berti07/BDproject2/runs/oia00bkx' target=\"_blank\">woven-sweep-5</a></strong> to <a href='https://wandb.ai/leonardo-berti07/BDproject2' target=\"_blank\">Weights & Biases</a> (<a href='https://wandb.me/run' target=\"_blank\">docs</a>)<br/>Sweep page: <a href='https://wandb.ai/leonardo-berti07/BDproject2/sweeps/r60dkmnn' target=\"_blank\">https://wandb.ai/leonardo-berti07/BDproject2/sweeps/r60dkmnn</a>"
     },
     "metadata": {},
     "output_type": "display_data"
    },
    {
     "data": {
      "text/plain": "<IPython.core.display.HTML object>",
      "text/html": " View project at <a href='https://wandb.ai/leonardo-berti07/BDproject2' target=\"_blank\">https://wandb.ai/leonardo-berti07/BDproject2</a>"
     },
     "metadata": {},
     "output_type": "display_data"
    },
    {
     "data": {
      "text/plain": "<IPython.core.display.HTML object>",
      "text/html": " View sweep at <a href='https://wandb.ai/leonardo-berti07/BDproject2/sweeps/r60dkmnn' target=\"_blank\">https://wandb.ai/leonardo-berti07/BDproject2/sweeps/r60dkmnn</a>"
     },
     "metadata": {},
     "output_type": "display_data"
    },
    {
     "data": {
      "text/plain": "<IPython.core.display.HTML object>",
      "text/html": " View run at <a href='https://wandb.ai/leonardo-berti07/BDproject2/runs/oia00bkx' target=\"_blank\">https://wandb.ai/leonardo-berti07/BDproject2/runs/oia00bkx</a>"
     },
     "metadata": {},
     "output_type": "display_data"
    },
    {
     "name": "stderr",
     "output_type": "stream",
     "text": [
      "100%|██████████| 50/50 [02:06<00:00,  2.53s/it]\n"
     ]
    },
    {
     "name": "stdout",
     "output_type": "stream",
     "text": [
      "{'test_r2score': 0.9360072123646999, 'test_mse': 0.05724672, 'test_rmse': 0.23926286, 'test_mae': 0.11506074}\n"
     ]
    },
    {
     "data": {
      "text/plain": "<IPython.core.display.HTML object>",
      "text/html": "Waiting for W&B process to finish... <strong style=\"color:green\">(success).</strong>"
     },
     "metadata": {},
     "output_type": "display_data"
    },
    {
     "data": {
      "text/plain": "<IPython.core.display.HTML object>",
      "text/html": "<style>\n    table.wandb td:nth-child(1) { padding: 0 10px; text-align: left ; width: auto;} td:nth-child(2) {text-align: left ; width: 100%}\n    .wandb-row { display: flex; flex-direction: row; flex-wrap: wrap; justify-content: flex-start; width: 100% }\n    .wandb-col { display: flex; flex-direction: column; flex-basis: 100%; flex: 1; padding: 10px; }\n    </style>\n<div class=\"wandb-row\"><div class=\"wandb-col\"><h3>Run history:</h3><br/><table class=\"wandb\"><tr><td>epochs</td><td>▁▁▁▁▂▂▂▂▂▃▃▃▃▃▃▄▄▄▄▄▅▅▅▅▅▅▆▆▆▆▆▆▇▇▇▇▇███</td></tr><tr><td>test_mae</td><td>▁█</td></tr><tr><td>test_mse</td><td>▁█</td></tr><tr><td>test_r2score</td><td>▁█</td></tr><tr><td>test_rmse</td><td>▁█</td></tr><tr><td>val_loss</td><td>▄▄▃▅▄▄▄▄▄▃▃▃▄▃▂▄▃▃▂█▂▁▃▂▂▁▃▂▂▁▂▂▁▁▁▁▁▁▁▁</td></tr><tr><td>val_mae</td><td>▁████▇█▇▇▇██▇▇▇█▇███▇▇▇▇█▇█▇▇▇▇▇▇▇▇▇▇▇▇▇</td></tr><tr><td>val_mse</td><td>▁████████████████████▇███▇███▇▇▇▇▇▇▇▇▇▇▇</td></tr><tr><td>val_r2score</td><td>▁███████████████████████████████████████</td></tr><tr><td>val_rmse</td><td>▁███████████████████████████████████████</td></tr></table><br/></div><div class=\"wandb-col\"><h3>Run summary:</h3><br/><table class=\"wandb\"><tr><td>epochs</td><td>50</td></tr><tr><td>model name</td><td>linear</td></tr><tr><td>test_mae</td><td>0.11506</td></tr><tr><td>test_mse</td><td>0.05725</td></tr><tr><td>test_r2score</td><td>0.93601</td></tr><tr><td>test_rmse</td><td>0.23926</td></tr><tr><td>val_loss</td><td>9.35263</td></tr><tr><td>val_mae</td><td>0.12423</td></tr><tr><td>val_mse</td><td>0.08797</td></tr><tr><td>val_r2score</td><td>0.94408</td></tr><tr><td>val_rmse</td><td>0.29659</td></tr></table><br/></div></div>"
     },
     "metadata": {},
     "output_type": "display_data"
    },
    {
     "data": {
      "text/plain": "<IPython.core.display.HTML object>",
      "text/html": " View run <strong style=\"color:#cdcd00\">woven-sweep-5</strong> at: <a href='https://wandb.ai/leonardo-berti07/BDproject2/runs/oia00bkx' target=\"_blank\">https://wandb.ai/leonardo-berti07/BDproject2/runs/oia00bkx</a><br/>Synced 6 W&B file(s), 0 media file(s), 0 artifact file(s) and 0 other file(s)"
     },
     "metadata": {},
     "output_type": "display_data"
    },
    {
     "data": {
      "text/plain": "<IPython.core.display.HTML object>",
      "text/html": "Find logs at: <code>.\\wandb\\run-20230523_223105-oia00bkx\\logs</code>"
     },
     "metadata": {},
     "output_type": "display_data"
    },
    {
     "name": "stderr",
     "output_type": "stream",
     "text": [
      "\u001B[34m\u001B[1mwandb\u001B[0m: Sweep Agent: Waiting for job.\n",
      "\u001B[34m\u001B[1mwandb\u001B[0m: Job received.\n",
      "\u001B[34m\u001B[1mwandb\u001B[0m: Agent Starting Run: exx8hj4q with config:\n",
      "\u001B[34m\u001B[1mwandb\u001B[0m: \tbatch_size: 32\n",
      "\u001B[34m\u001B[1mwandb\u001B[0m: \tdropout: 0.2\n",
      "\u001B[34m\u001B[1mwandb\u001B[0m: \tepochs: 50\n",
      "\u001B[34m\u001B[1mwandb\u001B[0m: \teps: 1e-08\n",
      "\u001B[34m\u001B[1mwandb\u001B[0m: \tlr: 0.0013480343615168116\n",
      "\u001B[34m\u001B[1mwandb\u001B[0m: \toptimizer: sgd\n"
     ]
    },
    {
     "data": {
      "text/plain": "<IPython.core.display.HTML object>",
      "text/html": "Tracking run with wandb version 0.15.3"
     },
     "metadata": {},
     "output_type": "display_data"
    },
    {
     "data": {
      "text/plain": "<IPython.core.display.HTML object>",
      "text/html": "Run data is saved locally in <code>C:\\Users\\leona\\PycharmProjects\\BDC_project\\wandb\\run-20230523_223344-exx8hj4q</code>"
     },
     "metadata": {},
     "output_type": "display_data"
    },
    {
     "data": {
      "text/plain": "<IPython.core.display.HTML object>",
      "text/html": "Syncing run <strong><a href='https://wandb.ai/leonardo-berti07/BDproject2/runs/exx8hj4q' target=\"_blank\">fiery-sweep-6</a></strong> to <a href='https://wandb.ai/leonardo-berti07/BDproject2' target=\"_blank\">Weights & Biases</a> (<a href='https://wandb.me/run' target=\"_blank\">docs</a>)<br/>Sweep page: <a href='https://wandb.ai/leonardo-berti07/BDproject2/sweeps/r60dkmnn' target=\"_blank\">https://wandb.ai/leonardo-berti07/BDproject2/sweeps/r60dkmnn</a>"
     },
     "metadata": {},
     "output_type": "display_data"
    },
    {
     "data": {
      "text/plain": "<IPython.core.display.HTML object>",
      "text/html": " View project at <a href='https://wandb.ai/leonardo-berti07/BDproject2' target=\"_blank\">https://wandb.ai/leonardo-berti07/BDproject2</a>"
     },
     "metadata": {},
     "output_type": "display_data"
    },
    {
     "data": {
      "text/plain": "<IPython.core.display.HTML object>",
      "text/html": " View sweep at <a href='https://wandb.ai/leonardo-berti07/BDproject2/sweeps/r60dkmnn' target=\"_blank\">https://wandb.ai/leonardo-berti07/BDproject2/sweeps/r60dkmnn</a>"
     },
     "metadata": {},
     "output_type": "display_data"
    },
    {
     "data": {
      "text/plain": "<IPython.core.display.HTML object>",
      "text/html": " View run at <a href='https://wandb.ai/leonardo-berti07/BDproject2/runs/exx8hj4q' target=\"_blank\">https://wandb.ai/leonardo-berti07/BDproject2/runs/exx8hj4q</a>"
     },
     "metadata": {},
     "output_type": "display_data"
    },
    {
     "name": "stderr",
     "output_type": "stream",
     "text": [
      "100%|██████████| 50/50 [06:30<00:00,  7.82s/it]\n"
     ]
    },
    {
     "name": "stdout",
     "output_type": "stream",
     "text": [
      "{'test_r2score': 0.9365308902821305, 'test_mse': 0.056778245, 'test_rmse': 0.23828186, 'test_mae': 0.113166265}\n"
     ]
    },
    {
     "data": {
      "text/plain": "<IPython.core.display.HTML object>",
      "text/html": "Waiting for W&B process to finish... <strong style=\"color:green\">(success).</strong>"
     },
     "metadata": {},
     "output_type": "display_data"
    },
    {
     "data": {
      "text/plain": "VBox(children=(Label(value='0.001 MB of 0.001 MB uploaded (0.000 MB deduped)\\r'), FloatProgress(value=1.0, max…",
      "application/vnd.jupyter.widget-view+json": {
       "version_major": 2,
       "version_minor": 0,
       "model_id": "f67863701ff84041b0a7c161e0a03abd"
      }
     },
     "metadata": {},
     "output_type": "display_data"
    },
    {
     "data": {
      "text/plain": "<IPython.core.display.HTML object>",
      "text/html": "<style>\n    table.wandb td:nth-child(1) { padding: 0 10px; text-align: left ; width: auto;} td:nth-child(2) {text-align: left ; width: 100%}\n    .wandb-row { display: flex; flex-direction: row; flex-wrap: wrap; justify-content: flex-start; width: 100% }\n    .wandb-col { display: flex; flex-direction: column; flex-basis: 100%; flex: 1; padding: 10px; }\n    </style>\n<div class=\"wandb-row\"><div class=\"wandb-col\"><h3>Run history:</h3><br/><table class=\"wandb\"><tr><td>epochs</td><td>▁▁▁▁▂▂▂▂▂▃▃▃▃▃▃▄▄▄▄▄▅▅▅▅▅▅▆▆▆▆▆▆▇▇▇▇▇███</td></tr><tr><td>test_mae</td><td>▁█</td></tr><tr><td>test_mse</td><td>▁█</td></tr><tr><td>test_r2score</td><td>▁█</td></tr><tr><td>test_rmse</td><td>▁█</td></tr><tr><td>val_loss</td><td>▄▃▂▂▃█▄▆▂▂▃▃▅▁▃█▂▃▂▂▂▄▃▁▁▁▂▁▂▂▁▁▁▁▁▁▁▁▁▁</td></tr><tr><td>val_mae</td><td>▁█▇▇▇▇█▇▇▇▇██▇█▇▇▇▇▇▇▇█▇▇▇▇█▇▇▇▇▇▇▇▇▇▇▇▇</td></tr><tr><td>val_mse</td><td>▁███████████████████████████████████████</td></tr><tr><td>val_r2score</td><td>▁███████████████████████████████████████</td></tr><tr><td>val_rmse</td><td>▁███████████████████████████████████████</td></tr></table><br/></div><div class=\"wandb-col\"><h3>Run summary:</h3><br/><table class=\"wandb\"><tr><td>epochs</td><td>50</td></tr><tr><td>model name</td><td>linear</td></tr><tr><td>test_mae</td><td>0.11317</td></tr><tr><td>test_mse</td><td>0.05678</td></tr><tr><td>test_r2score</td><td>0.93653</td></tr><tr><td>test_rmse</td><td>0.23828</td></tr><tr><td>val_loss</td><td>37.485</td></tr><tr><td>val_mae</td><td>0.12278</td></tr><tr><td>val_mse</td><td>0.08822</td></tr><tr><td>val_r2score</td><td>0.94392</td></tr><tr><td>val_rmse</td><td>0.29702</td></tr></table><br/></div></div>"
     },
     "metadata": {},
     "output_type": "display_data"
    },
    {
     "data": {
      "text/plain": "<IPython.core.display.HTML object>",
      "text/html": " View run <strong style=\"color:#cdcd00\">fiery-sweep-6</strong> at: <a href='https://wandb.ai/leonardo-berti07/BDproject2/runs/exx8hj4q' target=\"_blank\">https://wandb.ai/leonardo-berti07/BDproject2/runs/exx8hj4q</a><br/>Synced 6 W&B file(s), 0 media file(s), 0 artifact file(s) and 0 other file(s)"
     },
     "metadata": {},
     "output_type": "display_data"
    },
    {
     "data": {
      "text/plain": "<IPython.core.display.HTML object>",
      "text/html": "Find logs at: <code>.\\wandb\\run-20230523_223344-exx8hj4q\\logs</code>"
     },
     "metadata": {},
     "output_type": "display_data"
    },
    {
     "name": "stderr",
     "output_type": "stream",
     "text": [
      "\u001B[34m\u001B[1mwandb\u001B[0m: Sweep Agent: Waiting for job.\n",
      "\u001B[34m\u001B[1mwandb\u001B[0m: Job received.\n",
      "\u001B[34m\u001B[1mwandb\u001B[0m: Agent Starting Run: hxdcdkjx with config:\n",
      "\u001B[34m\u001B[1mwandb\u001B[0m: \tbatch_size: 32\n",
      "\u001B[34m\u001B[1mwandb\u001B[0m: \tdropout: 0.2\n",
      "\u001B[34m\u001B[1mwandb\u001B[0m: \tepochs: 50\n",
      "\u001B[34m\u001B[1mwandb\u001B[0m: \teps: 1e-08\n",
      "\u001B[34m\u001B[1mwandb\u001B[0m: \tlr: 0.006898899609533066\n",
      "\u001B[34m\u001B[1mwandb\u001B[0m: \toptimizer: sgd\n"
     ]
    },
    {
     "data": {
      "text/plain": "<IPython.core.display.HTML object>",
      "text/html": "Tracking run with wandb version 0.15.3"
     },
     "metadata": {},
     "output_type": "display_data"
    },
    {
     "data": {
      "text/plain": "<IPython.core.display.HTML object>",
      "text/html": "Run data is saved locally in <code>C:\\Users\\leona\\PycharmProjects\\BDC_project\\wandb\\run-20230523_224037-hxdcdkjx</code>"
     },
     "metadata": {},
     "output_type": "display_data"
    },
    {
     "data": {
      "text/plain": "<IPython.core.display.HTML object>",
      "text/html": "Syncing run <strong><a href='https://wandb.ai/leonardo-berti07/BDproject2/runs/hxdcdkjx' target=\"_blank\">sandy-sweep-7</a></strong> to <a href='https://wandb.ai/leonardo-berti07/BDproject2' target=\"_blank\">Weights & Biases</a> (<a href='https://wandb.me/run' target=\"_blank\">docs</a>)<br/>Sweep page: <a href='https://wandb.ai/leonardo-berti07/BDproject2/sweeps/r60dkmnn' target=\"_blank\">https://wandb.ai/leonardo-berti07/BDproject2/sweeps/r60dkmnn</a>"
     },
     "metadata": {},
     "output_type": "display_data"
    },
    {
     "data": {
      "text/plain": "<IPython.core.display.HTML object>",
      "text/html": " View project at <a href='https://wandb.ai/leonardo-berti07/BDproject2' target=\"_blank\">https://wandb.ai/leonardo-berti07/BDproject2</a>"
     },
     "metadata": {},
     "output_type": "display_data"
    },
    {
     "data": {
      "text/plain": "<IPython.core.display.HTML object>",
      "text/html": " View sweep at <a href='https://wandb.ai/leonardo-berti07/BDproject2/sweeps/r60dkmnn' target=\"_blank\">https://wandb.ai/leonardo-berti07/BDproject2/sweeps/r60dkmnn</a>"
     },
     "metadata": {},
     "output_type": "display_data"
    },
    {
     "data": {
      "text/plain": "<IPython.core.display.HTML object>",
      "text/html": " View run at <a href='https://wandb.ai/leonardo-berti07/BDproject2/runs/hxdcdkjx' target=\"_blank\">https://wandb.ai/leonardo-berti07/BDproject2/runs/hxdcdkjx</a>"
     },
     "metadata": {},
     "output_type": "display_data"
    },
    {
     "name": "stderr",
     "output_type": "stream",
     "text": [
      "100%|██████████| 50/50 [06:51<00:00,  8.23s/it]\n"
     ]
    },
    {
     "name": "stdout",
     "output_type": "stream",
     "text": [
      "{'test_r2score': 0.936977040314133, 'test_mse': 0.05637913, 'test_rmse': 0.2374429, 'test_mae': 0.113709934}\n"
     ]
    },
    {
     "data": {
      "text/plain": "<IPython.core.display.HTML object>",
      "text/html": "Waiting for W&B process to finish... <strong style=\"color:green\">(success).</strong>"
     },
     "metadata": {},
     "output_type": "display_data"
    },
    {
     "data": {
      "text/plain": "VBox(children=(Label(value='0.001 MB of 0.001 MB uploaded (0.000 MB deduped)\\r'), FloatProgress(value=1.0, max…",
      "application/vnd.jupyter.widget-view+json": {
       "version_major": 2,
       "version_minor": 0,
       "model_id": "e3213da49b0c447e96c647dd1013cda6"
      }
     },
     "metadata": {},
     "output_type": "display_data"
    },
    {
     "data": {
      "text/plain": "<IPython.core.display.HTML object>",
      "text/html": "<style>\n    table.wandb td:nth-child(1) { padding: 0 10px; text-align: left ; width: auto;} td:nth-child(2) {text-align: left ; width: 100%}\n    .wandb-row { display: flex; flex-direction: row; flex-wrap: wrap; justify-content: flex-start; width: 100% }\n    .wandb-col { display: flex; flex-direction: column; flex-basis: 100%; flex: 1; padding: 10px; }\n    </style>\n<div class=\"wandb-row\"><div class=\"wandb-col\"><h3>Run history:</h3><br/><table class=\"wandb\"><tr><td>epochs</td><td>▁▁▁▁▂▂▂▂▂▃▃▃▃▃▃▄▄▄▄▄▅▅▅▅▅▅▆▆▆▆▆▆▇▇▇▇▇███</td></tr><tr><td>test_mae</td><td>▁█</td></tr><tr><td>test_mse</td><td>▁█</td></tr><tr><td>test_r2score</td><td>▁█</td></tr><tr><td>test_rmse</td><td>▁█</td></tr><tr><td>val_loss</td><td>▃▅▄▃▃▄▅▃█▇▂▃▂▃▃▅▅▃▇▂▂▄▂▂▂▁▂▂▁▂▁▁▁▁▁▁▁▁▁▁</td></tr><tr><td>val_mae</td><td>▁▆▆▇▆▆▇▇▇█▆▆▆▇▆▇▆▆█▆▆▆▆▆▆▆▆▆▆▆▆▆▆▆▆▆▆▆▆▆</td></tr><tr><td>val_mse</td><td>▁▇▇▇▇▇▇▇▇█▇▇▇▇▇▇▇▇█▇▇▇▇▇▇▇▇▇▆▇▇▆▆▆▆▆▆▆▆▆</td></tr><tr><td>val_r2score</td><td>▁███████████████████████████████████████</td></tr><tr><td>val_rmse</td><td>▁▇█▇▇▇▇▇██▇▇▇▇▇█▇▇█▇▇█▇▇▇▇▇▇▇▇▇▇▇▇▇▇▇▇▇▇</td></tr></table><br/></div><div class=\"wandb-col\"><h3>Run summary:</h3><br/><table class=\"wandb\"><tr><td>epochs</td><td>50</td></tr><tr><td>model name</td><td>linear</td></tr><tr><td>test_mae</td><td>0.11371</td></tr><tr><td>test_mse</td><td>0.05638</td></tr><tr><td>test_r2score</td><td>0.93698</td></tr><tr><td>test_rmse</td><td>0.23744</td></tr><tr><td>val_loss</td><td>37.26272</td></tr><tr><td>val_mae</td><td>0.12407</td></tr><tr><td>val_mse</td><td>0.08765</td></tr><tr><td>val_r2score</td><td>0.94429</td></tr><tr><td>val_rmse</td><td>0.29606</td></tr></table><br/></div></div>"
     },
     "metadata": {},
     "output_type": "display_data"
    },
    {
     "data": {
      "text/plain": "<IPython.core.display.HTML object>",
      "text/html": " View run <strong style=\"color:#cdcd00\">sandy-sweep-7</strong> at: <a href='https://wandb.ai/leonardo-berti07/BDproject2/runs/hxdcdkjx' target=\"_blank\">https://wandb.ai/leonardo-berti07/BDproject2/runs/hxdcdkjx</a><br/>Synced 6 W&B file(s), 0 media file(s), 0 artifact file(s) and 0 other file(s)"
     },
     "metadata": {},
     "output_type": "display_data"
    },
    {
     "data": {
      "text/plain": "<IPython.core.display.HTML object>",
      "text/html": "Find logs at: <code>.\\wandb\\run-20230523_224037-hxdcdkjx\\logs</code>"
     },
     "metadata": {},
     "output_type": "display_data"
    },
    {
     "name": "stderr",
     "output_type": "stream",
     "text": [
      "\u001B[34m\u001B[1mwandb\u001B[0m: Agent Starting Run: nfvb5skx with config:\n",
      "\u001B[34m\u001B[1mwandb\u001B[0m: \tbatch_size: 128\n",
      "\u001B[34m\u001B[1mwandb\u001B[0m: \tdropout: 0.2\n",
      "\u001B[34m\u001B[1mwandb\u001B[0m: \tepochs: 50\n",
      "\u001B[34m\u001B[1mwandb\u001B[0m: \teps: 1e-08\n",
      "\u001B[34m\u001B[1mwandb\u001B[0m: \tlr: 0.008187999268100939\n",
      "\u001B[34m\u001B[1mwandb\u001B[0m: \toptimizer: adam\n"
     ]
    },
    {
     "data": {
      "text/plain": "<IPython.core.display.HTML object>",
      "text/html": "Tracking run with wandb version 0.15.3"
     },
     "metadata": {},
     "output_type": "display_data"
    },
    {
     "data": {
      "text/plain": "<IPython.core.display.HTML object>",
      "text/html": "Run data is saved locally in <code>C:\\Users\\leona\\PycharmProjects\\BDC_project\\wandb\\run-20230523_224746-nfvb5skx</code>"
     },
     "metadata": {},
     "output_type": "display_data"
    },
    {
     "data": {
      "text/plain": "<IPython.core.display.HTML object>",
      "text/html": "Syncing run <strong><a href='https://wandb.ai/leonardo-berti07/BDproject2/runs/nfvb5skx' target=\"_blank\">quiet-sweep-8</a></strong> to <a href='https://wandb.ai/leonardo-berti07/BDproject2' target=\"_blank\">Weights & Biases</a> (<a href='https://wandb.me/run' target=\"_blank\">docs</a>)<br/>Sweep page: <a href='https://wandb.ai/leonardo-berti07/BDproject2/sweeps/r60dkmnn' target=\"_blank\">https://wandb.ai/leonardo-berti07/BDproject2/sweeps/r60dkmnn</a>"
     },
     "metadata": {},
     "output_type": "display_data"
    },
    {
     "data": {
      "text/plain": "<IPython.core.display.HTML object>",
      "text/html": " View project at <a href='https://wandb.ai/leonardo-berti07/BDproject2' target=\"_blank\">https://wandb.ai/leonardo-berti07/BDproject2</a>"
     },
     "metadata": {},
     "output_type": "display_data"
    },
    {
     "data": {
      "text/plain": "<IPython.core.display.HTML object>",
      "text/html": " View sweep at <a href='https://wandb.ai/leonardo-berti07/BDproject2/sweeps/r60dkmnn' target=\"_blank\">https://wandb.ai/leonardo-berti07/BDproject2/sweeps/r60dkmnn</a>"
     },
     "metadata": {},
     "output_type": "display_data"
    },
    {
     "data": {
      "text/plain": "<IPython.core.display.HTML object>",
      "text/html": " View run at <a href='https://wandb.ai/leonardo-berti07/BDproject2/runs/nfvb5skx' target=\"_blank\">https://wandb.ai/leonardo-berti07/BDproject2/runs/nfvb5skx</a>"
     },
     "metadata": {},
     "output_type": "display_data"
    },
    {
     "name": "stderr",
     "output_type": "stream",
     "text": [
      "100%|██████████| 50/50 [02:23<00:00,  2.87s/it]\n"
     ]
    },
    {
     "name": "stdout",
     "output_type": "stream",
     "text": [
      "{'test_r2score': 0.9358969398905941, 'test_mse': 0.057345364, 'test_rmse': 0.23946892, 'test_mae': 0.121808834}\n"
     ]
    },
    {
     "data": {
      "text/plain": "<IPython.core.display.HTML object>",
      "text/html": "Waiting for W&B process to finish... <strong style=\"color:green\">(success).</strong>"
     },
     "metadata": {},
     "output_type": "display_data"
    },
    {
     "data": {
      "text/plain": "VBox(children=(Label(value='0.001 MB of 0.001 MB uploaded (0.000 MB deduped)\\r'), FloatProgress(value=1.0, max…",
      "application/vnd.jupyter.widget-view+json": {
       "version_major": 2,
       "version_minor": 0,
       "model_id": "e7620ea15f2e4d6881b40d2823a8b002"
      }
     },
     "metadata": {},
     "output_type": "display_data"
    },
    {
     "data": {
      "text/plain": "<IPython.core.display.HTML object>",
      "text/html": "<style>\n    table.wandb td:nth-child(1) { padding: 0 10px; text-align: left ; width: auto;} td:nth-child(2) {text-align: left ; width: 100%}\n    .wandb-row { display: flex; flex-direction: row; flex-wrap: wrap; justify-content: flex-start; width: 100% }\n    .wandb-col { display: flex; flex-direction: column; flex-basis: 100%; flex: 1; padding: 10px; }\n    </style>\n<div class=\"wandb-row\"><div class=\"wandb-col\"><h3>Run history:</h3><br/><table class=\"wandb\"><tr><td>epochs</td><td>▁▁▁▁▂▂▂▂▂▃▃▃▃▃▃▄▄▄▄▄▅▅▅▅▅▅▆▆▆▆▆▆▇▇▇▇▇███</td></tr><tr><td>test_mae</td><td>▁█</td></tr><tr><td>test_mse</td><td>▁█</td></tr><tr><td>test_r2score</td><td>▁█</td></tr><tr><td>test_rmse</td><td>▁█</td></tr><tr><td>val_loss</td><td>▂▂▁▁▂▃▄▂▃▆▆▁▄▁▆▃▃▃▃▂█▃▅▂▅▅▄▃▂▂▃▃▄▃▄▄▄▄▄▄</td></tr><tr><td>val_mae</td><td>▁▇▇▇█▇▇▇▇▇▇▇█▇█▇▇▇▇▇▇▇▇▇▇▇▇▇▇▇▇▇▇▇▇▇▇▇▇▇</td></tr><tr><td>val_mse</td><td>▁██▇█████████▇█████████████████████████▇</td></tr><tr><td>val_r2score</td><td>▁███████████████████████████████████████</td></tr><tr><td>val_rmse</td><td>▁███████████████████████████████████████</td></tr></table><br/></div><div class=\"wandb-col\"><h3>Run summary:</h3><br/><table class=\"wandb\"><tr><td>epochs</td><td>50</td></tr><tr><td>model name</td><td>linear</td></tr><tr><td>test_mae</td><td>0.12181</td></tr><tr><td>test_mse</td><td>0.05735</td></tr><tr><td>test_r2score</td><td>0.9359</td></tr><tr><td>test_rmse</td><td>0.23947</td></tr><tr><td>val_loss</td><td>9.67441</td></tr><tr><td>val_mae</td><td>0.13351</td></tr><tr><td>val_mse</td><td>0.088</td></tr><tr><td>val_r2score</td><td>0.94406</td></tr><tr><td>val_rmse</td><td>0.29665</td></tr></table><br/></div></div>"
     },
     "metadata": {},
     "output_type": "display_data"
    },
    {
     "data": {
      "text/plain": "<IPython.core.display.HTML object>",
      "text/html": " View run <strong style=\"color:#cdcd00\">quiet-sweep-8</strong> at: <a href='https://wandb.ai/leonardo-berti07/BDproject2/runs/nfvb5skx' target=\"_blank\">https://wandb.ai/leonardo-berti07/BDproject2/runs/nfvb5skx</a><br/>Synced 6 W&B file(s), 0 media file(s), 0 artifact file(s) and 0 other file(s)"
     },
     "metadata": {},
     "output_type": "display_data"
    },
    {
     "data": {
      "text/plain": "<IPython.core.display.HTML object>",
      "text/html": "Find logs at: <code>.\\wandb\\run-20230523_224746-nfvb5skx\\logs</code>"
     },
     "metadata": {},
     "output_type": "display_data"
    },
    {
     "name": "stderr",
     "output_type": "stream",
     "text": [
      "\u001B[34m\u001B[1mwandb\u001B[0m: Sweep Agent: Waiting for job.\n",
      "\u001B[34m\u001B[1mwandb\u001B[0m: Job received.\n",
      "\u001B[34m\u001B[1mwandb\u001B[0m: Agent Starting Run: cyl8ajja with config:\n",
      "\u001B[34m\u001B[1mwandb\u001B[0m: \tbatch_size: 32\n",
      "\u001B[34m\u001B[1mwandb\u001B[0m: \tdropout: 0.2\n",
      "\u001B[34m\u001B[1mwandb\u001B[0m: \tepochs: 50\n",
      "\u001B[34m\u001B[1mwandb\u001B[0m: \teps: 1e-08\n",
      "\u001B[34m\u001B[1mwandb\u001B[0m: \tlr: 0.0003467478392083802\n",
      "\u001B[34m\u001B[1mwandb\u001B[0m: \toptimizer: adam\n"
     ]
    },
    {
     "data": {
      "text/plain": "<IPython.core.display.HTML object>",
      "text/html": "Tracking run with wandb version 0.15.3"
     },
     "metadata": {},
     "output_type": "display_data"
    },
    {
     "data": {
      "text/plain": "<IPython.core.display.HTML object>",
      "text/html": "Run data is saved locally in <code>C:\\Users\\leona\\PycharmProjects\\BDC_project\\wandb\\run-20230523_225032-cyl8ajja</code>"
     },
     "metadata": {},
     "output_type": "display_data"
    },
    {
     "data": {
      "text/plain": "<IPython.core.display.HTML object>",
      "text/html": "Syncing run <strong><a href='https://wandb.ai/leonardo-berti07/BDproject2/runs/cyl8ajja' target=\"_blank\">treasured-sweep-9</a></strong> to <a href='https://wandb.ai/leonardo-berti07/BDproject2' target=\"_blank\">Weights & Biases</a> (<a href='https://wandb.me/run' target=\"_blank\">docs</a>)<br/>Sweep page: <a href='https://wandb.ai/leonardo-berti07/BDproject2/sweeps/r60dkmnn' target=\"_blank\">https://wandb.ai/leonardo-berti07/BDproject2/sweeps/r60dkmnn</a>"
     },
     "metadata": {},
     "output_type": "display_data"
    },
    {
     "data": {
      "text/plain": "<IPython.core.display.HTML object>",
      "text/html": " View project at <a href='https://wandb.ai/leonardo-berti07/BDproject2' target=\"_blank\">https://wandb.ai/leonardo-berti07/BDproject2</a>"
     },
     "metadata": {},
     "output_type": "display_data"
    },
    {
     "data": {
      "text/plain": "<IPython.core.display.HTML object>",
      "text/html": " View sweep at <a href='https://wandb.ai/leonardo-berti07/BDproject2/sweeps/r60dkmnn' target=\"_blank\">https://wandb.ai/leonardo-berti07/BDproject2/sweeps/r60dkmnn</a>"
     },
     "metadata": {},
     "output_type": "display_data"
    },
    {
     "data": {
      "text/plain": "<IPython.core.display.HTML object>",
      "text/html": " View run at <a href='https://wandb.ai/leonardo-berti07/BDproject2/runs/cyl8ajja' target=\"_blank\">https://wandb.ai/leonardo-berti07/BDproject2/runs/cyl8ajja</a>"
     },
     "metadata": {},
     "output_type": "display_data"
    },
    {
     "name": "stderr",
     "output_type": "stream",
     "text": [
      "100%|██████████| 50/50 [07:47<00:00,  9.35s/it]\n"
     ]
    },
    {
     "name": "stdout",
     "output_type": "stream",
     "text": [
      "{'test_r2score': 0.9381430768989332, 'test_mse': 0.05533601, 'test_rmse': 0.23523608, 'test_mae': 0.11773092}\n"
     ]
    },
    {
     "data": {
      "text/plain": "<IPython.core.display.HTML object>",
      "text/html": "Waiting for W&B process to finish... <strong style=\"color:green\">(success).</strong>"
     },
     "metadata": {},
     "output_type": "display_data"
    },
    {
     "data": {
      "text/plain": "VBox(children=(Label(value='0.001 MB of 0.001 MB uploaded (0.000 MB deduped)\\r'), FloatProgress(value=1.0, max…",
      "application/vnd.jupyter.widget-view+json": {
       "version_major": 2,
       "version_minor": 0,
       "model_id": "bca44f533e54435aba4aa575d340bbf0"
      }
     },
     "metadata": {},
     "output_type": "display_data"
    },
    {
     "data": {
      "text/plain": "<IPython.core.display.HTML object>",
      "text/html": "<style>\n    table.wandb td:nth-child(1) { padding: 0 10px; text-align: left ; width: auto;} td:nth-child(2) {text-align: left ; width: 100%}\n    .wandb-row { display: flex; flex-direction: row; flex-wrap: wrap; justify-content: flex-start; width: 100% }\n    .wandb-col { display: flex; flex-direction: column; flex-basis: 100%; flex: 1; padding: 10px; }\n    </style>\n<div class=\"wandb-row\"><div class=\"wandb-col\"><h3>Run history:</h3><br/><table class=\"wandb\"><tr><td>epochs</td><td>▁▁▁▁▂▂▂▂▂▃▃▃▃▃▃▄▄▄▄▄▅▅▅▅▅▅▆▆▆▆▆▆▇▇▇▇▇███</td></tr><tr><td>test_mae</td><td>▁█</td></tr><tr><td>test_mse</td><td>▁█</td></tr><tr><td>test_r2score</td><td>▁█</td></tr><tr><td>test_rmse</td><td>▁█</td></tr><tr><td>val_loss</td><td>█▂▁▁▁▁▁▁▁▁▁▁▁▁▁▁▁▁▁▁▁▁▁▁▁▁▁▁▁▁▁▁▁▁▁▁▁▁▁▁</td></tr><tr><td>val_mae</td><td>▁█▅▅▅▅▅▅▅▅▅▅▅▅▅▅▅▅▅▅▅▅▅▅▅▅▅▅▅▅▅▅▅▅▅▅▅▅▅▅</td></tr><tr><td>val_mse</td><td>▁█▄▄▄▄▄▄▄▄▄▄▄▄▄▄▄▄▄▄▄▄▄▄▄▄▄▄▄▄▄▄▄▄▄▄▄▄▄▄</td></tr><tr><td>val_r2score</td><td>▁▇██████████████████████████████████████</td></tr><tr><td>val_rmse</td><td>▁█▆▅▅▅▅▅▅▅▅▅▅▅▅▅▅▅▅▅▅▅▅▅▅▅▅▅▅▅▅▅▅▅▅▅▅▅▅▅</td></tr></table><br/></div><div class=\"wandb-col\"><h3>Run summary:</h3><br/><table class=\"wandb\"><tr><td>epochs</td><td>50</td></tr><tr><td>model name</td><td>linear</td></tr><tr><td>test_mae</td><td>0.11773</td></tr><tr><td>test_mse</td><td>0.05534</td></tr><tr><td>test_r2score</td><td>0.93814</td></tr><tr><td>test_rmse</td><td>0.23524</td></tr><tr><td>val_loss</td><td>36.2212</td></tr><tr><td>val_mae</td><td>0.12887</td></tr><tr><td>val_mse</td><td>0.08482</td></tr><tr><td>val_r2score</td><td>0.94608</td></tr><tr><td>val_rmse</td><td>0.29125</td></tr></table><br/></div></div>"
     },
     "metadata": {},
     "output_type": "display_data"
    },
    {
     "data": {
      "text/plain": "<IPython.core.display.HTML object>",
      "text/html": " View run <strong style=\"color:#cdcd00\">treasured-sweep-9</strong> at: <a href='https://wandb.ai/leonardo-berti07/BDproject2/runs/cyl8ajja' target=\"_blank\">https://wandb.ai/leonardo-berti07/BDproject2/runs/cyl8ajja</a><br/>Synced 6 W&B file(s), 0 media file(s), 0 artifact file(s) and 0 other file(s)"
     },
     "metadata": {},
     "output_type": "display_data"
    },
    {
     "data": {
      "text/plain": "<IPython.core.display.HTML object>",
      "text/html": "Find logs at: <code>.\\wandb\\run-20230523_225032-cyl8ajja\\logs</code>"
     },
     "metadata": {},
     "output_type": "display_data"
    },
    {
     "name": "stderr",
     "output_type": "stream",
     "text": [
      "\u001B[34m\u001B[1mwandb\u001B[0m: Agent Starting Run: yqg6lopa with config:\n",
      "\u001B[34m\u001B[1mwandb\u001B[0m: \tbatch_size: 128\n",
      "\u001B[34m\u001B[1mwandb\u001B[0m: \tdropout: 0.2\n",
      "\u001B[34m\u001B[1mwandb\u001B[0m: \tepochs: 50\n",
      "\u001B[34m\u001B[1mwandb\u001B[0m: \teps: 1e-08\n",
      "\u001B[34m\u001B[1mwandb\u001B[0m: \tlr: 0.0036858828114168366\n",
      "\u001B[34m\u001B[1mwandb\u001B[0m: \toptimizer: adam\n"
     ]
    },
    {
     "data": {
      "text/plain": "<IPython.core.display.HTML object>",
      "text/html": "Tracking run with wandb version 0.15.3"
     },
     "metadata": {},
     "output_type": "display_data"
    },
    {
     "data": {
      "text/plain": "<IPython.core.display.HTML object>",
      "text/html": "Run data is saved locally in <code>C:\\Users\\leona\\PycharmProjects\\BDC_project\\wandb\\run-20230523_225834-yqg6lopa</code>"
     },
     "metadata": {},
     "output_type": "display_data"
    },
    {
     "data": {
      "text/plain": "<IPython.core.display.HTML object>",
      "text/html": "Syncing run <strong><a href='https://wandb.ai/leonardo-berti07/BDproject2/runs/yqg6lopa' target=\"_blank\">graceful-sweep-10</a></strong> to <a href='https://wandb.ai/leonardo-berti07/BDproject2' target=\"_blank\">Weights & Biases</a> (<a href='https://wandb.me/run' target=\"_blank\">docs</a>)<br/>Sweep page: <a href='https://wandb.ai/leonardo-berti07/BDproject2/sweeps/r60dkmnn' target=\"_blank\">https://wandb.ai/leonardo-berti07/BDproject2/sweeps/r60dkmnn</a>"
     },
     "metadata": {},
     "output_type": "display_data"
    },
    {
     "data": {
      "text/plain": "<IPython.core.display.HTML object>",
      "text/html": " View project at <a href='https://wandb.ai/leonardo-berti07/BDproject2' target=\"_blank\">https://wandb.ai/leonardo-berti07/BDproject2</a>"
     },
     "metadata": {},
     "output_type": "display_data"
    },
    {
     "data": {
      "text/plain": "<IPython.core.display.HTML object>",
      "text/html": " View sweep at <a href='https://wandb.ai/leonardo-berti07/BDproject2/sweeps/r60dkmnn' target=\"_blank\">https://wandb.ai/leonardo-berti07/BDproject2/sweeps/r60dkmnn</a>"
     },
     "metadata": {},
     "output_type": "display_data"
    },
    {
     "data": {
      "text/plain": "<IPython.core.display.HTML object>",
      "text/html": " View run at <a href='https://wandb.ai/leonardo-berti07/BDproject2/runs/yqg6lopa' target=\"_blank\">https://wandb.ai/leonardo-berti07/BDproject2/runs/yqg6lopa</a>"
     },
     "metadata": {},
     "output_type": "display_data"
    },
    {
     "name": "stderr",
     "output_type": "stream",
     "text": [
      "100%|██████████| 50/50 [02:32<00:00,  3.04s/it]\n"
     ]
    },
    {
     "name": "stdout",
     "output_type": "stream",
     "text": [
      "{'test_r2score': 0.9387854248440828, 'test_mse': 0.054761384, 'test_rmse': 0.2340115, 'test_mae': 0.116408594}\n"
     ]
    },
    {
     "data": {
      "text/plain": "<IPython.core.display.HTML object>",
      "text/html": "Waiting for W&B process to finish... <strong style=\"color:green\">(success).</strong>"
     },
     "metadata": {},
     "output_type": "display_data"
    },
    {
     "data": {
      "text/plain": "VBox(children=(Label(value='0.001 MB of 0.001 MB uploaded (0.000 MB deduped)\\r'), FloatProgress(value=1.0, max…",
      "application/vnd.jupyter.widget-view+json": {
       "version_major": 2,
       "version_minor": 0,
       "model_id": "df175f5566494984b1026e0534fe79af"
      }
     },
     "metadata": {},
     "output_type": "display_data"
    },
    {
     "data": {
      "text/plain": "<IPython.core.display.HTML object>",
      "text/html": "<style>\n    table.wandb td:nth-child(1) { padding: 0 10px; text-align: left ; width: auto;} td:nth-child(2) {text-align: left ; width: 100%}\n    .wandb-row { display: flex; flex-direction: row; flex-wrap: wrap; justify-content: flex-start; width: 100% }\n    .wandb-col { display: flex; flex-direction: column; flex-basis: 100%; flex: 1; padding: 10px; }\n    </style>\n<div class=\"wandb-row\"><div class=\"wandb-col\"><h3>Run history:</h3><br/><table class=\"wandb\"><tr><td>epochs</td><td>▁▁▁▁▂▂▂▂▂▃▃▃▃▃▃▄▄▄▄▄▅▅▅▅▅▅▆▆▆▆▆▆▇▇▇▇▇███</td></tr><tr><td>test_mae</td><td>▁█</td></tr><tr><td>test_mse</td><td>▁█</td></tr><tr><td>test_r2score</td><td>▁█</td></tr><tr><td>test_rmse</td><td>▁█</td></tr><tr><td>val_loss</td><td>▅▄▂▂▂▂▃▁▄▂▄▂▄▃▃▅▄▆▆▄█▅▄▅▅▅▆▅▆▆▆▅▆▆▆▆▆▆▆▆</td></tr><tr><td>val_mae</td><td>▁█▇▇▇▇▇▇███▇█▇█████▇████▇██████████████▇</td></tr><tr><td>val_mse</td><td>▁███▇██████████████████████████████████▇</td></tr><tr><td>val_r2score</td><td>▁███████████████████████████████████████</td></tr><tr><td>val_rmse</td><td>▁███████████████████████████████████████</td></tr></table><br/></div><div class=\"wandb-col\"><h3>Run summary:</h3><br/><table class=\"wandb\"><tr><td>epochs</td><td>50</td></tr><tr><td>model name</td><td>linear</td></tr><tr><td>test_mae</td><td>0.11641</td></tr><tr><td>test_mse</td><td>0.05476</td></tr><tr><td>test_r2score</td><td>0.93879</td></tr><tr><td>test_rmse</td><td>0.23401</td></tr><tr><td>val_loss</td><td>9.75471</td></tr><tr><td>val_mae</td><td>0.12914</td></tr><tr><td>val_mse</td><td>0.08589</td></tr><tr><td>val_r2score</td><td>0.9454</td></tr><tr><td>val_rmse</td><td>0.29307</td></tr></table><br/></div></div>"
     },
     "metadata": {},
     "output_type": "display_data"
    },
    {
     "data": {
      "text/plain": "<IPython.core.display.HTML object>",
      "text/html": " View run <strong style=\"color:#cdcd00\">graceful-sweep-10</strong> at: <a href='https://wandb.ai/leonardo-berti07/BDproject2/runs/yqg6lopa' target=\"_blank\">https://wandb.ai/leonardo-berti07/BDproject2/runs/yqg6lopa</a><br/>Synced 6 W&B file(s), 0 media file(s), 0 artifact file(s) and 0 other file(s)"
     },
     "metadata": {},
     "output_type": "display_data"
    },
    {
     "data": {
      "text/plain": "<IPython.core.display.HTML object>",
      "text/html": "Find logs at: <code>.\\wandb\\run-20230523_225834-yqg6lopa\\logs</code>"
     },
     "metadata": {},
     "output_type": "display_data"
    },
    {
     "name": "stdout",
     "output_type": "stream",
     "text": [
      "Create sweep with ID: yibs8m4i\n",
      "Sweep URL: https://wandb.ai/leonardo-berti07/BDproject2/sweeps/yibs8m4i\n"
     ]
    },
    {
     "name": "stderr",
     "output_type": "stream",
     "text": [
      "\u001B[34m\u001B[1mwandb\u001B[0m: Agent Starting Run: 0yqlju2n with config:\n",
      "\u001B[34m\u001B[1mwandb\u001B[0m: \tm_depth: 22\n",
      "\u001B[34m\u001B[1mwandb\u001B[0m: \tn_est: 499\n"
     ]
    },
    {
     "data": {
      "text/plain": "<IPython.core.display.HTML object>",
      "text/html": "Tracking run with wandb version 0.15.3"
     },
     "metadata": {},
     "output_type": "display_data"
    },
    {
     "data": {
      "text/plain": "<IPython.core.display.HTML object>",
      "text/html": "Run data is saved locally in <code>C:\\Users\\leona\\PycharmProjects\\BDC_project\\wandb\\run-20230523_230120-0yqlju2n</code>"
     },
     "metadata": {},
     "output_type": "display_data"
    },
    {
     "data": {
      "text/plain": "<IPython.core.display.HTML object>",
      "text/html": "Syncing run <strong><a href='https://wandb.ai/leonardo-berti07/BDproject2/runs/0yqlju2n' target=\"_blank\">peach-sweep-1</a></strong> to <a href='https://wandb.ai/leonardo-berti07/BDproject2' target=\"_blank\">Weights & Biases</a> (<a href='https://wandb.me/run' target=\"_blank\">docs</a>)<br/>Sweep page: <a href='https://wandb.ai/leonardo-berti07/BDproject2/sweeps/yibs8m4i' target=\"_blank\">https://wandb.ai/leonardo-berti07/BDproject2/sweeps/yibs8m4i</a>"
     },
     "metadata": {},
     "output_type": "display_data"
    },
    {
     "data": {
      "text/plain": "<IPython.core.display.HTML object>",
      "text/html": " View project at <a href='https://wandb.ai/leonardo-berti07/BDproject2' target=\"_blank\">https://wandb.ai/leonardo-berti07/BDproject2</a>"
     },
     "metadata": {},
     "output_type": "display_data"
    },
    {
     "data": {
      "text/plain": "<IPython.core.display.HTML object>",
      "text/html": " View sweep at <a href='https://wandb.ai/leonardo-berti07/BDproject2/sweeps/yibs8m4i' target=\"_blank\">https://wandb.ai/leonardo-berti07/BDproject2/sweeps/yibs8m4i</a>"
     },
     "metadata": {},
     "output_type": "display_data"
    },
    {
     "data": {
      "text/plain": "<IPython.core.display.HTML object>",
      "text/html": " View run at <a href='https://wandb.ai/leonardo-berti07/BDproject2/runs/0yqlju2n' target=\"_blank\">https://wandb.ai/leonardo-berti07/BDproject2/runs/0yqlju2n</a>"
     },
     "metadata": {},
     "output_type": "display_data"
    },
    {
     "name": "stdout",
     "output_type": "stream",
     "text": [
      "{'test_r2score': 0.9502409738183265, 'test_mse': 0.044513463896253005, 'test_rmse': 0.21098214117847275, 'test_mae': 0.08615925955013003}\n"
     ]
    },
    {
     "data": {
      "text/plain": "<IPython.core.display.HTML object>",
      "text/html": "Waiting for W&B process to finish... <strong style=\"color:green\">(success).</strong>"
     },
     "metadata": {},
     "output_type": "display_data"
    },
    {
     "data": {
      "text/plain": "VBox(children=(Label(value='0.001 MB of 0.001 MB uploaded (0.000 MB deduped)\\r'), FloatProgress(value=1.0, max…",
      "application/vnd.jupyter.widget-view+json": {
       "version_major": 2,
       "version_minor": 0,
       "model_id": "a249a4035533450b8eedd006cb5900bd"
      }
     },
     "metadata": {},
     "output_type": "display_data"
    },
    {
     "data": {
      "text/plain": "<IPython.core.display.HTML object>",
      "text/html": "<style>\n    table.wandb td:nth-child(1) { padding: 0 10px; text-align: left ; width: auto;} td:nth-child(2) {text-align: left ; width: 100%}\n    .wandb-row { display: flex; flex-direction: row; flex-wrap: wrap; justify-content: flex-start; width: 100% }\n    .wandb-col { display: flex; flex-direction: column; flex-basis: 100%; flex: 1; padding: 10px; }\n    </style>\n<div class=\"wandb-row\"><div class=\"wandb-col\"><h3>Run history:</h3><br/><table class=\"wandb\"><tr><td>test_mae</td><td>▁█</td></tr><tr><td>test_mse</td><td>▁█</td></tr><tr><td>test_r2score</td><td>▁█</td></tr><tr><td>test_rmse</td><td>▁█</td></tr><tr><td>val_mae</td><td>▁█</td></tr><tr><td>val_mse</td><td>▁█</td></tr><tr><td>val_r2score</td><td>▁█</td></tr><tr><td>val_rmse</td><td>▁█</td></tr></table><br/></div><div class=\"wandb-col\"><h3>Run summary:</h3><br/><table class=\"wandb\"><tr><td>model name</td><td>rf</td></tr><tr><td>test_mae</td><td>0.08616</td></tr><tr><td>test_mse</td><td>0.04451</td></tr><tr><td>test_r2score</td><td>0.95024</td></tr><tr><td>test_rmse</td><td>0.21098</td></tr><tr><td>val_mae</td><td>0.09288</td></tr><tr><td>val_mse</td><td>0.06385</td></tr><tr><td>val_r2score</td><td>0.95942</td></tr><tr><td>val_rmse</td><td>0.25268</td></tr></table><br/></div></div>"
     },
     "metadata": {},
     "output_type": "display_data"
    },
    {
     "data": {
      "text/plain": "<IPython.core.display.HTML object>",
      "text/html": " View run <strong style=\"color:#cdcd00\">peach-sweep-1</strong> at: <a href='https://wandb.ai/leonardo-berti07/BDproject2/runs/0yqlju2n' target=\"_blank\">https://wandb.ai/leonardo-berti07/BDproject2/runs/0yqlju2n</a><br/>Synced 6 W&B file(s), 0 media file(s), 0 artifact file(s) and 0 other file(s)"
     },
     "metadata": {},
     "output_type": "display_data"
    },
    {
     "data": {
      "text/plain": "<IPython.core.display.HTML object>",
      "text/html": "Find logs at: <code>.\\wandb\\run-20230523_230120-0yqlju2n\\logs</code>"
     },
     "metadata": {},
     "output_type": "display_data"
    },
    {
     "name": "stderr",
     "output_type": "stream",
     "text": [
      "\u001B[34m\u001B[1mwandb\u001B[0m: Agent Starting Run: bhmw038t with config:\n",
      "\u001B[34m\u001B[1mwandb\u001B[0m: \tm_depth: 17\n",
      "\u001B[34m\u001B[1mwandb\u001B[0m: \tn_est: 434\n"
     ]
    },
    {
     "data": {
      "text/plain": "<IPython.core.display.HTML object>",
      "text/html": "Tracking run with wandb version 0.15.3"
     },
     "metadata": {},
     "output_type": "display_data"
    },
    {
     "data": {
      "text/plain": "<IPython.core.display.HTML object>",
      "text/html": "Run data is saved locally in <code>C:\\Users\\leona\\PycharmProjects\\BDC_project\\wandb\\run-20230523_230758-bhmw038t</code>"
     },
     "metadata": {},
     "output_type": "display_data"
    },
    {
     "data": {
      "text/plain": "<IPython.core.display.HTML object>",
      "text/html": "Syncing run <strong><a href='https://wandb.ai/leonardo-berti07/BDproject2/runs/bhmw038t' target=\"_blank\">pious-sweep-2</a></strong> to <a href='https://wandb.ai/leonardo-berti07/BDproject2' target=\"_blank\">Weights & Biases</a> (<a href='https://wandb.me/run' target=\"_blank\">docs</a>)<br/>Sweep page: <a href='https://wandb.ai/leonardo-berti07/BDproject2/sweeps/yibs8m4i' target=\"_blank\">https://wandb.ai/leonardo-berti07/BDproject2/sweeps/yibs8m4i</a>"
     },
     "metadata": {},
     "output_type": "display_data"
    },
    {
     "data": {
      "text/plain": "<IPython.core.display.HTML object>",
      "text/html": " View project at <a href='https://wandb.ai/leonardo-berti07/BDproject2' target=\"_blank\">https://wandb.ai/leonardo-berti07/BDproject2</a>"
     },
     "metadata": {},
     "output_type": "display_data"
    },
    {
     "data": {
      "text/plain": "<IPython.core.display.HTML object>",
      "text/html": " View sweep at <a href='https://wandb.ai/leonardo-berti07/BDproject2/sweeps/yibs8m4i' target=\"_blank\">https://wandb.ai/leonardo-berti07/BDproject2/sweeps/yibs8m4i</a>"
     },
     "metadata": {},
     "output_type": "display_data"
    },
    {
     "data": {
      "text/plain": "<IPython.core.display.HTML object>",
      "text/html": " View run at <a href='https://wandb.ai/leonardo-berti07/BDproject2/runs/bhmw038t' target=\"_blank\">https://wandb.ai/leonardo-berti07/BDproject2/runs/bhmw038t</a>"
     },
     "metadata": {},
     "output_type": "display_data"
    },
    {
     "name": "stdout",
     "output_type": "stream",
     "text": [
      "{'test_r2score': 0.9497936253479355, 'test_mse': 0.04491365319885489, 'test_rmse': 0.2119284152700031, 'test_mae': 0.08658295489896523}\n"
     ]
    },
    {
     "data": {
      "text/plain": "<IPython.core.display.HTML object>",
      "text/html": "Waiting for W&B process to finish... <strong style=\"color:green\">(success).</strong>"
     },
     "metadata": {},
     "output_type": "display_data"
    },
    {
     "data": {
      "text/plain": "VBox(children=(Label(value='0.001 MB of 0.001 MB uploaded (0.000 MB deduped)\\r'), FloatProgress(value=1.0, max…",
      "application/vnd.jupyter.widget-view+json": {
       "version_major": 2,
       "version_minor": 0,
       "model_id": "db951bf6005b438bb2117735995b4c65"
      }
     },
     "metadata": {},
     "output_type": "display_data"
    },
    {
     "data": {
      "text/plain": "<IPython.core.display.HTML object>",
      "text/html": "<style>\n    table.wandb td:nth-child(1) { padding: 0 10px; text-align: left ; width: auto;} td:nth-child(2) {text-align: left ; width: 100%}\n    .wandb-row { display: flex; flex-direction: row; flex-wrap: wrap; justify-content: flex-start; width: 100% }\n    .wandb-col { display: flex; flex-direction: column; flex-basis: 100%; flex: 1; padding: 10px; }\n    </style>\n<div class=\"wandb-row\"><div class=\"wandb-col\"><h3>Run history:</h3><br/><table class=\"wandb\"><tr><td>test_mae</td><td>▁█</td></tr><tr><td>test_mse</td><td>▁█</td></tr><tr><td>test_r2score</td><td>▁█</td></tr><tr><td>test_rmse</td><td>▁█</td></tr><tr><td>val_mae</td><td>▁█</td></tr><tr><td>val_mse</td><td>▁█</td></tr><tr><td>val_r2score</td><td>▁█</td></tr><tr><td>val_rmse</td><td>▁█</td></tr></table><br/></div><div class=\"wandb-col\"><h3>Run summary:</h3><br/><table class=\"wandb\"><tr><td>model name</td><td>rf</td></tr><tr><td>test_mae</td><td>0.08658</td></tr><tr><td>test_mse</td><td>0.04491</td></tr><tr><td>test_r2score</td><td>0.94979</td></tr><tr><td>test_rmse</td><td>0.21193</td></tr><tr><td>val_mae</td><td>0.09331</td></tr><tr><td>val_mse</td><td>0.0646</td></tr><tr><td>val_r2score</td><td>0.95893</td></tr><tr><td>val_rmse</td><td>0.25417</td></tr></table><br/></div></div>"
     },
     "metadata": {},
     "output_type": "display_data"
    },
    {
     "data": {
      "text/plain": "<IPython.core.display.HTML object>",
      "text/html": " View run <strong style=\"color:#cdcd00\">pious-sweep-2</strong> at: <a href='https://wandb.ai/leonardo-berti07/BDproject2/runs/bhmw038t' target=\"_blank\">https://wandb.ai/leonardo-berti07/BDproject2/runs/bhmw038t</a><br/>Synced 6 W&B file(s), 0 media file(s), 0 artifact file(s) and 0 other file(s)"
     },
     "metadata": {},
     "output_type": "display_data"
    },
    {
     "data": {
      "text/plain": "<IPython.core.display.HTML object>",
      "text/html": "Find logs at: <code>.\\wandb\\run-20230523_230758-bhmw038t\\logs</code>"
     },
     "metadata": {},
     "output_type": "display_data"
    },
    {
     "name": "stderr",
     "output_type": "stream",
     "text": [
      "\u001B[34m\u001B[1mwandb\u001B[0m: Sweep Agent: Waiting for job.\n",
      "\u001B[34m\u001B[1mwandb\u001B[0m: Job received.\n",
      "\u001B[34m\u001B[1mwandb\u001B[0m: Agent Starting Run: i3949qvu with config:\n",
      "\u001B[34m\u001B[1mwandb\u001B[0m: \tm_depth: 21\n",
      "\u001B[34m\u001B[1mwandb\u001B[0m: \tn_est: 423\n"
     ]
    },
    {
     "data": {
      "text/plain": "<IPython.core.display.HTML object>",
      "text/html": "Tracking run with wandb version 0.15.3"
     },
     "metadata": {},
     "output_type": "display_data"
    },
    {
     "data": {
      "text/plain": "<IPython.core.display.HTML object>",
      "text/html": "Run data is saved locally in <code>C:\\Users\\leona\\PycharmProjects\\BDC_project\\wandb\\run-20230523_231241-i3949qvu</code>"
     },
     "metadata": {},
     "output_type": "display_data"
    },
    {
     "data": {
      "text/plain": "<IPython.core.display.HTML object>",
      "text/html": "Syncing run <strong><a href='https://wandb.ai/leonardo-berti07/BDproject2/runs/i3949qvu' target=\"_blank\">zany-sweep-3</a></strong> to <a href='https://wandb.ai/leonardo-berti07/BDproject2' target=\"_blank\">Weights & Biases</a> (<a href='https://wandb.me/run' target=\"_blank\">docs</a>)<br/>Sweep page: <a href='https://wandb.ai/leonardo-berti07/BDproject2/sweeps/yibs8m4i' target=\"_blank\">https://wandb.ai/leonardo-berti07/BDproject2/sweeps/yibs8m4i</a>"
     },
     "metadata": {},
     "output_type": "display_data"
    },
    {
     "data": {
      "text/plain": "<IPython.core.display.HTML object>",
      "text/html": " View project at <a href='https://wandb.ai/leonardo-berti07/BDproject2' target=\"_blank\">https://wandb.ai/leonardo-berti07/BDproject2</a>"
     },
     "metadata": {},
     "output_type": "display_data"
    },
    {
     "data": {
      "text/plain": "<IPython.core.display.HTML object>",
      "text/html": " View sweep at <a href='https://wandb.ai/leonardo-berti07/BDproject2/sweeps/yibs8m4i' target=\"_blank\">https://wandb.ai/leonardo-berti07/BDproject2/sweeps/yibs8m4i</a>"
     },
     "metadata": {},
     "output_type": "display_data"
    },
    {
     "data": {
      "text/plain": "<IPython.core.display.HTML object>",
      "text/html": " View run at <a href='https://wandb.ai/leonardo-berti07/BDproject2/runs/i3949qvu' target=\"_blank\">https://wandb.ai/leonardo-berti07/BDproject2/runs/i3949qvu</a>"
     },
     "metadata": {},
     "output_type": "display_data"
    },
    {
     "name": "stdout",
     "output_type": "stream",
     "text": [
      "{'test_r2score': 0.9501666562326668, 'test_mse': 0.04457994697319351, 'test_rmse': 0.2111396385646085, 'test_mae': 0.08629770661579293}\n"
     ]
    },
    {
     "data": {
      "text/plain": "<IPython.core.display.HTML object>",
      "text/html": "Waiting for W&B process to finish... <strong style=\"color:green\">(success).</strong>"
     },
     "metadata": {},
     "output_type": "display_data"
    },
    {
     "data": {
      "text/plain": "VBox(children=(Label(value='0.001 MB of 0.001 MB uploaded (0.000 MB deduped)\\r'), FloatProgress(value=1.0, max…",
      "application/vnd.jupyter.widget-view+json": {
       "version_major": 2,
       "version_minor": 0,
       "model_id": "13c3904162ad4f9ba065e98077e5c09b"
      }
     },
     "metadata": {},
     "output_type": "display_data"
    },
    {
     "data": {
      "text/plain": "<IPython.core.display.HTML object>",
      "text/html": "<style>\n    table.wandb td:nth-child(1) { padding: 0 10px; text-align: left ; width: auto;} td:nth-child(2) {text-align: left ; width: 100%}\n    .wandb-row { display: flex; flex-direction: row; flex-wrap: wrap; justify-content: flex-start; width: 100% }\n    .wandb-col { display: flex; flex-direction: column; flex-basis: 100%; flex: 1; padding: 10px; }\n    </style>\n<div class=\"wandb-row\"><div class=\"wandb-col\"><h3>Run history:</h3><br/><table class=\"wandb\"><tr><td>test_mae</td><td>▁█</td></tr><tr><td>test_mse</td><td>▁█</td></tr><tr><td>test_r2score</td><td>▁█</td></tr><tr><td>test_rmse</td><td>▁█</td></tr><tr><td>val_mae</td><td>▁█</td></tr><tr><td>val_mse</td><td>▁█</td></tr><tr><td>val_r2score</td><td>▁█</td></tr><tr><td>val_rmse</td><td>▁█</td></tr></table><br/></div><div class=\"wandb-col\"><h3>Run summary:</h3><br/><table class=\"wandb\"><tr><td>model name</td><td>rf</td></tr><tr><td>test_mae</td><td>0.0863</td></tr><tr><td>test_mse</td><td>0.04458</td></tr><tr><td>test_r2score</td><td>0.95017</td></tr><tr><td>test_rmse</td><td>0.21114</td></tr><tr><td>val_mae</td><td>0.09271</td></tr><tr><td>val_mse</td><td>0.06349</td></tr><tr><td>val_r2score</td><td>0.95964</td></tr><tr><td>val_rmse</td><td>0.25198</td></tr></table><br/></div></div>"
     },
     "metadata": {},
     "output_type": "display_data"
    },
    {
     "data": {
      "text/plain": "<IPython.core.display.HTML object>",
      "text/html": " View run <strong style=\"color:#cdcd00\">zany-sweep-3</strong> at: <a href='https://wandb.ai/leonardo-berti07/BDproject2/runs/i3949qvu' target=\"_blank\">https://wandb.ai/leonardo-berti07/BDproject2/runs/i3949qvu</a><br/>Synced 6 W&B file(s), 0 media file(s), 0 artifact file(s) and 0 other file(s)"
     },
     "metadata": {},
     "output_type": "display_data"
    },
    {
     "data": {
      "text/plain": "<IPython.core.display.HTML object>",
      "text/html": "Find logs at: <code>.\\wandb\\run-20230523_231241-i3949qvu\\logs</code>"
     },
     "metadata": {},
     "output_type": "display_data"
    },
    {
     "name": "stderr",
     "output_type": "stream",
     "text": [
      "\u001B[34m\u001B[1mwandb\u001B[0m: Agent Starting Run: a1ejssav with config:\n",
      "\u001B[34m\u001B[1mwandb\u001B[0m: \tm_depth: 14\n",
      "\u001B[34m\u001B[1mwandb\u001B[0m: \tn_est: 287\n"
     ]
    },
    {
     "data": {
      "text/plain": "<IPython.core.display.HTML object>",
      "text/html": "Tracking run with wandb version 0.15.3"
     },
     "metadata": {},
     "output_type": "display_data"
    },
    {
     "data": {
      "text/plain": "<IPython.core.display.HTML object>",
      "text/html": "Run data is saved locally in <code>C:\\Users\\leona\\PycharmProjects\\BDC_project\\wandb\\run-20230523_231808-a1ejssav</code>"
     },
     "metadata": {},
     "output_type": "display_data"
    },
    {
     "data": {
      "text/plain": "<IPython.core.display.HTML object>",
      "text/html": "Syncing run <strong><a href='https://wandb.ai/leonardo-berti07/BDproject2/runs/a1ejssav' target=\"_blank\">toasty-sweep-4</a></strong> to <a href='https://wandb.ai/leonardo-berti07/BDproject2' target=\"_blank\">Weights & Biases</a> (<a href='https://wandb.me/run' target=\"_blank\">docs</a>)<br/>Sweep page: <a href='https://wandb.ai/leonardo-berti07/BDproject2/sweeps/yibs8m4i' target=\"_blank\">https://wandb.ai/leonardo-berti07/BDproject2/sweeps/yibs8m4i</a>"
     },
     "metadata": {},
     "output_type": "display_data"
    },
    {
     "data": {
      "text/plain": "<IPython.core.display.HTML object>",
      "text/html": " View project at <a href='https://wandb.ai/leonardo-berti07/BDproject2' target=\"_blank\">https://wandb.ai/leonardo-berti07/BDproject2</a>"
     },
     "metadata": {},
     "output_type": "display_data"
    },
    {
     "data": {
      "text/plain": "<IPython.core.display.HTML object>",
      "text/html": " View sweep at <a href='https://wandb.ai/leonardo-berti07/BDproject2/sweeps/yibs8m4i' target=\"_blank\">https://wandb.ai/leonardo-berti07/BDproject2/sweeps/yibs8m4i</a>"
     },
     "metadata": {},
     "output_type": "display_data"
    },
    {
     "data": {
      "text/plain": "<IPython.core.display.HTML object>",
      "text/html": " View run at <a href='https://wandb.ai/leonardo-berti07/BDproject2/runs/a1ejssav' target=\"_blank\">https://wandb.ai/leonardo-berti07/BDproject2/runs/a1ejssav</a>"
     },
     "metadata": {},
     "output_type": "display_data"
    },
    {
     "name": "stdout",
     "output_type": "stream",
     "text": [
      "{'test_r2score': 0.9491447454558872, 'test_mse': 0.04549412861937936, 'test_rmse': 0.21329352690454384, 'test_mae': 0.08738219785993757}\n"
     ]
    },
    {
     "data": {
      "text/plain": "<IPython.core.display.HTML object>",
      "text/html": "Waiting for W&B process to finish... <strong style=\"color:green\">(success).</strong>"
     },
     "metadata": {},
     "output_type": "display_data"
    },
    {
     "data": {
      "text/plain": "VBox(children=(Label(value='0.001 MB of 0.001 MB uploaded (0.000 MB deduped)\\r'), FloatProgress(value=1.0, max…",
      "application/vnd.jupyter.widget-view+json": {
       "version_major": 2,
       "version_minor": 0,
       "model_id": "e0f5b4b9bb4d476d9f204dcdadb2542c"
      }
     },
     "metadata": {},
     "output_type": "display_data"
    },
    {
     "data": {
      "text/plain": "<IPython.core.display.HTML object>",
      "text/html": "<style>\n    table.wandb td:nth-child(1) { padding: 0 10px; text-align: left ; width: auto;} td:nth-child(2) {text-align: left ; width: 100%}\n    .wandb-row { display: flex; flex-direction: row; flex-wrap: wrap; justify-content: flex-start; width: 100% }\n    .wandb-col { display: flex; flex-direction: column; flex-basis: 100%; flex: 1; padding: 10px; }\n    </style>\n<div class=\"wandb-row\"><div class=\"wandb-col\"><h3>Run history:</h3><br/><table class=\"wandb\"><tr><td>test_mae</td><td>▁█</td></tr><tr><td>test_mse</td><td>▁█</td></tr><tr><td>test_r2score</td><td>▁█</td></tr><tr><td>test_rmse</td><td>▁█</td></tr><tr><td>val_mae</td><td>▁█</td></tr><tr><td>val_mse</td><td>▁█</td></tr><tr><td>val_r2score</td><td>▁█</td></tr><tr><td>val_rmse</td><td>▁█</td></tr></table><br/></div><div class=\"wandb-col\"><h3>Run summary:</h3><br/><table class=\"wandb\"><tr><td>model name</td><td>rf</td></tr><tr><td>test_mae</td><td>0.08738</td></tr><tr><td>test_mse</td><td>0.04549</td></tr><tr><td>test_r2score</td><td>0.94914</td></tr><tr><td>test_rmse</td><td>0.21329</td></tr><tr><td>val_mae</td><td>0.09412</td></tr><tr><td>val_mse</td><td>0.06445</td></tr><tr><td>val_r2score</td><td>0.95903</td></tr><tr><td>val_rmse</td><td>0.25387</td></tr></table><br/></div></div>"
     },
     "metadata": {},
     "output_type": "display_data"
    },
    {
     "data": {
      "text/plain": "<IPython.core.display.HTML object>",
      "text/html": " View run <strong style=\"color:#cdcd00\">toasty-sweep-4</strong> at: <a href='https://wandb.ai/leonardo-berti07/BDproject2/runs/a1ejssav' target=\"_blank\">https://wandb.ai/leonardo-berti07/BDproject2/runs/a1ejssav</a><br/>Synced 6 W&B file(s), 0 media file(s), 0 artifact file(s) and 0 other file(s)"
     },
     "metadata": {},
     "output_type": "display_data"
    },
    {
     "data": {
      "text/plain": "<IPython.core.display.HTML object>",
      "text/html": "Find logs at: <code>.\\wandb\\run-20230523_231808-a1ejssav\\logs</code>"
     },
     "metadata": {},
     "output_type": "display_data"
    },
    {
     "name": "stderr",
     "output_type": "stream",
     "text": [
      "\u001B[34m\u001B[1mwandb\u001B[0m: Agent Starting Run: 0cor401g with config:\n",
      "\u001B[34m\u001B[1mwandb\u001B[0m: \tm_depth: 21\n",
      "\u001B[34m\u001B[1mwandb\u001B[0m: \tn_est: 403\n"
     ]
    },
    {
     "data": {
      "text/plain": "<IPython.core.display.HTML object>",
      "text/html": "Tracking run with wandb version 0.15.3"
     },
     "metadata": {},
     "output_type": "display_data"
    },
    {
     "data": {
      "text/plain": "<IPython.core.display.HTML object>",
      "text/html": "Run data is saved locally in <code>C:\\Users\\leona\\PycharmProjects\\BDC_project\\wandb\\run-20230523_232044-0cor401g</code>"
     },
     "metadata": {},
     "output_type": "display_data"
    },
    {
     "data": {
      "text/plain": "<IPython.core.display.HTML object>",
      "text/html": "Syncing run <strong><a href='https://wandb.ai/leonardo-berti07/BDproject2/runs/0cor401g' target=\"_blank\">dutiful-sweep-5</a></strong> to <a href='https://wandb.ai/leonardo-berti07/BDproject2' target=\"_blank\">Weights & Biases</a> (<a href='https://wandb.me/run' target=\"_blank\">docs</a>)<br/>Sweep page: <a href='https://wandb.ai/leonardo-berti07/BDproject2/sweeps/yibs8m4i' target=\"_blank\">https://wandb.ai/leonardo-berti07/BDproject2/sweeps/yibs8m4i</a>"
     },
     "metadata": {},
     "output_type": "display_data"
    },
    {
     "data": {
      "text/plain": "<IPython.core.display.HTML object>",
      "text/html": " View project at <a href='https://wandb.ai/leonardo-berti07/BDproject2' target=\"_blank\">https://wandb.ai/leonardo-berti07/BDproject2</a>"
     },
     "metadata": {},
     "output_type": "display_data"
    },
    {
     "data": {
      "text/plain": "<IPython.core.display.HTML object>",
      "text/html": " View sweep at <a href='https://wandb.ai/leonardo-berti07/BDproject2/sweeps/yibs8m4i' target=\"_blank\">https://wandb.ai/leonardo-berti07/BDproject2/sweeps/yibs8m4i</a>"
     },
     "metadata": {},
     "output_type": "display_data"
    },
    {
     "data": {
      "text/plain": "<IPython.core.display.HTML object>",
      "text/html": " View run at <a href='https://wandb.ai/leonardo-berti07/BDproject2/runs/0cor401g' target=\"_blank\">https://wandb.ai/leonardo-berti07/BDproject2/runs/0cor401g</a>"
     },
     "metadata": {},
     "output_type": "display_data"
    },
    {
     "name": "stdout",
     "output_type": "stream",
     "text": [
      "{'test_r2score': 0.9501834574404497, 'test_mse': 0.04456491693716891, 'test_rmse': 0.2111040429199993, 'test_mae': 0.08625976729878668}\n"
     ]
    },
    {
     "data": {
      "text/plain": "<IPython.core.display.HTML object>",
      "text/html": "Waiting for W&B process to finish... <strong style=\"color:green\">(success).</strong>"
     },
     "metadata": {},
     "output_type": "display_data"
    },
    {
     "data": {
      "text/plain": "VBox(children=(Label(value='0.001 MB of 0.001 MB uploaded (0.000 MB deduped)\\r'), FloatProgress(value=1.0, max…",
      "application/vnd.jupyter.widget-view+json": {
       "version_major": 2,
       "version_minor": 0,
       "model_id": "079fa2908713489bbf0f9c9b5fca8fd7"
      }
     },
     "metadata": {},
     "output_type": "display_data"
    },
    {
     "data": {
      "text/plain": "<IPython.core.display.HTML object>",
      "text/html": "<style>\n    table.wandb td:nth-child(1) { padding: 0 10px; text-align: left ; width: auto;} td:nth-child(2) {text-align: left ; width: 100%}\n    .wandb-row { display: flex; flex-direction: row; flex-wrap: wrap; justify-content: flex-start; width: 100% }\n    .wandb-col { display: flex; flex-direction: column; flex-basis: 100%; flex: 1; padding: 10px; }\n    </style>\n<div class=\"wandb-row\"><div class=\"wandb-col\"><h3>Run history:</h3><br/><table class=\"wandb\"><tr><td>test_mae</td><td>▁█</td></tr><tr><td>test_mse</td><td>▁█</td></tr><tr><td>test_r2score</td><td>▁█</td></tr><tr><td>test_rmse</td><td>▁█</td></tr><tr><td>val_mae</td><td>▁█</td></tr><tr><td>val_mse</td><td>▁█</td></tr><tr><td>val_r2score</td><td>▁█</td></tr><tr><td>val_rmse</td><td>▁█</td></tr></table><br/></div><div class=\"wandb-col\"><h3>Run summary:</h3><br/><table class=\"wandb\"><tr><td>model name</td><td>rf</td></tr><tr><td>test_mae</td><td>0.08626</td></tr><tr><td>test_mse</td><td>0.04456</td></tr><tr><td>test_r2score</td><td>0.95018</td></tr><tr><td>test_rmse</td><td>0.2111</td></tr><tr><td>val_mae</td><td>0.09298</td></tr><tr><td>val_mse</td><td>0.06404</td></tr><tr><td>val_r2score</td><td>0.95929</td></tr><tr><td>val_rmse</td><td>0.25305</td></tr></table><br/></div></div>"
     },
     "metadata": {},
     "output_type": "display_data"
    },
    {
     "data": {
      "text/plain": "<IPython.core.display.HTML object>",
      "text/html": " View run <strong style=\"color:#cdcd00\">dutiful-sweep-5</strong> at: <a href='https://wandb.ai/leonardo-berti07/BDproject2/runs/0cor401g' target=\"_blank\">https://wandb.ai/leonardo-berti07/BDproject2/runs/0cor401g</a><br/>Synced 6 W&B file(s), 0 media file(s), 0 artifact file(s) and 0 other file(s)"
     },
     "metadata": {},
     "output_type": "display_data"
    },
    {
     "data": {
      "text/plain": "<IPython.core.display.HTML object>",
      "text/html": "Find logs at: <code>.\\wandb\\run-20230523_232044-0cor401g\\logs</code>"
     },
     "metadata": {},
     "output_type": "display_data"
    },
    {
     "name": "stderr",
     "output_type": "stream",
     "text": [
      "\u001B[34m\u001B[1mwandb\u001B[0m: Agent Starting Run: b8mlszwf with config:\n",
      "\u001B[34m\u001B[1mwandb\u001B[0m: \tm_depth: 18\n",
      "\u001B[34m\u001B[1mwandb\u001B[0m: \tn_est: 303\n"
     ]
    },
    {
     "data": {
      "text/plain": "<IPython.core.display.HTML object>",
      "text/html": "Tracking run with wandb version 0.15.3"
     },
     "metadata": {},
     "output_type": "display_data"
    },
    {
     "data": {
      "text/plain": "<IPython.core.display.HTML object>",
      "text/html": "Run data is saved locally in <code>C:\\Users\\leona\\PycharmProjects\\BDC_project\\wandb\\run-20230523_232559-b8mlszwf</code>"
     },
     "metadata": {},
     "output_type": "display_data"
    },
    {
     "data": {
      "text/plain": "<IPython.core.display.HTML object>",
      "text/html": "Syncing run <strong><a href='https://wandb.ai/leonardo-berti07/BDproject2/runs/b8mlszwf' target=\"_blank\">smart-sweep-6</a></strong> to <a href='https://wandb.ai/leonardo-berti07/BDproject2' target=\"_blank\">Weights & Biases</a> (<a href='https://wandb.me/run' target=\"_blank\">docs</a>)<br/>Sweep page: <a href='https://wandb.ai/leonardo-berti07/BDproject2/sweeps/yibs8m4i' target=\"_blank\">https://wandb.ai/leonardo-berti07/BDproject2/sweeps/yibs8m4i</a>"
     },
     "metadata": {},
     "output_type": "display_data"
    },
    {
     "data": {
      "text/plain": "<IPython.core.display.HTML object>",
      "text/html": " View project at <a href='https://wandb.ai/leonardo-berti07/BDproject2' target=\"_blank\">https://wandb.ai/leonardo-berti07/BDproject2</a>"
     },
     "metadata": {},
     "output_type": "display_data"
    },
    {
     "data": {
      "text/plain": "<IPython.core.display.HTML object>",
      "text/html": " View sweep at <a href='https://wandb.ai/leonardo-berti07/BDproject2/sweeps/yibs8m4i' target=\"_blank\">https://wandb.ai/leonardo-berti07/BDproject2/sweeps/yibs8m4i</a>"
     },
     "metadata": {},
     "output_type": "display_data"
    },
    {
     "data": {
      "text/plain": "<IPython.core.display.HTML object>",
      "text/html": " View run at <a href='https://wandb.ai/leonardo-berti07/BDproject2/runs/b8mlszwf' target=\"_blank\">https://wandb.ai/leonardo-berti07/BDproject2/runs/b8mlszwf</a>"
     },
     "metadata": {},
     "output_type": "display_data"
    },
    {
     "name": "stdout",
     "output_type": "stream",
     "text": [
      "{'test_r2score': 0.9501697233798325, 'test_mse': 0.04457720316257058, 'test_rmse': 0.21113314084380638, 'test_mae': 0.0862945880354977}\n"
     ]
    },
    {
     "data": {
      "text/plain": "<IPython.core.display.HTML object>",
      "text/html": "Waiting for W&B process to finish... <strong style=\"color:green\">(success).</strong>"
     },
     "metadata": {},
     "output_type": "display_data"
    },
    {
     "data": {
      "text/plain": "VBox(children=(Label(value='0.001 MB of 0.001 MB uploaded (0.000 MB deduped)\\r'), FloatProgress(value=1.0, max…",
      "application/vnd.jupyter.widget-view+json": {
       "version_major": 2,
       "version_minor": 0,
       "model_id": "8c725cf027a145629e90241babf4556f"
      }
     },
     "metadata": {},
     "output_type": "display_data"
    },
    {
     "data": {
      "text/plain": "<IPython.core.display.HTML object>",
      "text/html": "<style>\n    table.wandb td:nth-child(1) { padding: 0 10px; text-align: left ; width: auto;} td:nth-child(2) {text-align: left ; width: 100%}\n    .wandb-row { display: flex; flex-direction: row; flex-wrap: wrap; justify-content: flex-start; width: 100% }\n    .wandb-col { display: flex; flex-direction: column; flex-basis: 100%; flex: 1; padding: 10px; }\n    </style>\n<div class=\"wandb-row\"><div class=\"wandb-col\"><h3>Run history:</h3><br/><table class=\"wandb\"><tr><td>test_mae</td><td>▁█</td></tr><tr><td>test_mse</td><td>▁█</td></tr><tr><td>test_r2score</td><td>▁█</td></tr><tr><td>test_rmse</td><td>▁█</td></tr><tr><td>val_mae</td><td>▁█</td></tr><tr><td>val_mse</td><td>▁█</td></tr><tr><td>val_r2score</td><td>▁█</td></tr><tr><td>val_rmse</td><td>▁█</td></tr></table><br/></div><div class=\"wandb-col\"><h3>Run summary:</h3><br/><table class=\"wandb\"><tr><td>model name</td><td>rf</td></tr><tr><td>test_mae</td><td>0.08629</td></tr><tr><td>test_mse</td><td>0.04458</td></tr><tr><td>test_r2score</td><td>0.95017</td></tr><tr><td>test_rmse</td><td>0.21113</td></tr><tr><td>val_mae</td><td>0.09307</td></tr><tr><td>val_mse</td><td>0.06335</td></tr><tr><td>val_r2score</td><td>0.95973</td></tr><tr><td>val_rmse</td><td>0.25169</td></tr></table><br/></div></div>"
     },
     "metadata": {},
     "output_type": "display_data"
    },
    {
     "data": {
      "text/plain": "<IPython.core.display.HTML object>",
      "text/html": " View run <strong style=\"color:#cdcd00\">smart-sweep-6</strong> at: <a href='https://wandb.ai/leonardo-berti07/BDproject2/runs/b8mlszwf' target=\"_blank\">https://wandb.ai/leonardo-berti07/BDproject2/runs/b8mlszwf</a><br/>Synced 6 W&B file(s), 0 media file(s), 0 artifact file(s) and 0 other file(s)"
     },
     "metadata": {},
     "output_type": "display_data"
    },
    {
     "data": {
      "text/plain": "<IPython.core.display.HTML object>",
      "text/html": "Find logs at: <code>.\\wandb\\run-20230523_232559-b8mlszwf\\logs</code>"
     },
     "metadata": {},
     "output_type": "display_data"
    },
    {
     "name": "stderr",
     "output_type": "stream",
     "text": [
      "\u001B[34m\u001B[1mwandb\u001B[0m: Sweep Agent: Waiting for job.\n",
      "\u001B[34m\u001B[1mwandb\u001B[0m: Job received.\n",
      "\u001B[34m\u001B[1mwandb\u001B[0m: Agent Starting Run: udtfm0bf with config:\n",
      "\u001B[34m\u001B[1mwandb\u001B[0m: \tm_depth: 23\n",
      "\u001B[34m\u001B[1mwandb\u001B[0m: \tn_est: 221\n"
     ]
    },
    {
     "data": {
      "text/plain": "<IPython.core.display.HTML object>",
      "text/html": "Tracking run with wandb version 0.15.3"
     },
     "metadata": {},
     "output_type": "display_data"
    },
    {
     "data": {
      "text/plain": "<IPython.core.display.HTML object>",
      "text/html": "Run data is saved locally in <code>C:\\Users\\leona\\PycharmProjects\\BDC_project\\wandb\\run-20230523_232939-udtfm0bf</code>"
     },
     "metadata": {},
     "output_type": "display_data"
    },
    {
     "data": {
      "text/plain": "<IPython.core.display.HTML object>",
      "text/html": "Syncing run <strong><a href='https://wandb.ai/leonardo-berti07/BDproject2/runs/udtfm0bf' target=\"_blank\">lilac-sweep-7</a></strong> to <a href='https://wandb.ai/leonardo-berti07/BDproject2' target=\"_blank\">Weights & Biases</a> (<a href='https://wandb.me/run' target=\"_blank\">docs</a>)<br/>Sweep page: <a href='https://wandb.ai/leonardo-berti07/BDproject2/sweeps/yibs8m4i' target=\"_blank\">https://wandb.ai/leonardo-berti07/BDproject2/sweeps/yibs8m4i</a>"
     },
     "metadata": {},
     "output_type": "display_data"
    },
    {
     "data": {
      "text/plain": "<IPython.core.display.HTML object>",
      "text/html": " View project at <a href='https://wandb.ai/leonardo-berti07/BDproject2' target=\"_blank\">https://wandb.ai/leonardo-berti07/BDproject2</a>"
     },
     "metadata": {},
     "output_type": "display_data"
    },
    {
     "data": {
      "text/plain": "<IPython.core.display.HTML object>",
      "text/html": " View sweep at <a href='https://wandb.ai/leonardo-berti07/BDproject2/sweeps/yibs8m4i' target=\"_blank\">https://wandb.ai/leonardo-berti07/BDproject2/sweeps/yibs8m4i</a>"
     },
     "metadata": {},
     "output_type": "display_data"
    },
    {
     "data": {
      "text/plain": "<IPython.core.display.HTML object>",
      "text/html": " View run at <a href='https://wandb.ai/leonardo-berti07/BDproject2/runs/udtfm0bf' target=\"_blank\">https://wandb.ai/leonardo-berti07/BDproject2/runs/udtfm0bf</a>"
     },
     "metadata": {},
     "output_type": "display_data"
    },
    {
     "name": "stdout",
     "output_type": "stream",
     "text": [
      "{'test_r2score': 0.9500942491456631, 'test_mse': 0.04464472095493105, 'test_rmse': 0.21129297422046728, 'test_mae': 0.0864063394496554}\n"
     ]
    },
    {
     "data": {
      "text/plain": "<IPython.core.display.HTML object>",
      "text/html": "Waiting for W&B process to finish... <strong style=\"color:green\">(success).</strong>"
     },
     "metadata": {},
     "output_type": "display_data"
    },
    {
     "data": {
      "text/plain": "VBox(children=(Label(value='0.001 MB of 0.001 MB uploaded (0.000 MB deduped)\\r'), FloatProgress(value=1.0, max…",
      "application/vnd.jupyter.widget-view+json": {
       "version_major": 2,
       "version_minor": 0,
       "model_id": "473c1398ad774efdb944b4be0137ce24"
      }
     },
     "metadata": {},
     "output_type": "display_data"
    },
    {
     "data": {
      "text/plain": "<IPython.core.display.HTML object>",
      "text/html": "<style>\n    table.wandb td:nth-child(1) { padding: 0 10px; text-align: left ; width: auto;} td:nth-child(2) {text-align: left ; width: 100%}\n    .wandb-row { display: flex; flex-direction: row; flex-wrap: wrap; justify-content: flex-start; width: 100% }\n    .wandb-col { display: flex; flex-direction: column; flex-basis: 100%; flex: 1; padding: 10px; }\n    </style>\n<div class=\"wandb-row\"><div class=\"wandb-col\"><h3>Run history:</h3><br/><table class=\"wandb\"><tr><td>test_mae</td><td>▁█</td></tr><tr><td>test_mse</td><td>▁█</td></tr><tr><td>test_r2score</td><td>▁█</td></tr><tr><td>test_rmse</td><td>▁█</td></tr><tr><td>val_mae</td><td>▁█</td></tr><tr><td>val_mse</td><td>▁█</td></tr><tr><td>val_r2score</td><td>▁█</td></tr><tr><td>val_rmse</td><td>▁█</td></tr></table><br/></div><div class=\"wandb-col\"><h3>Run summary:</h3><br/><table class=\"wandb\"><tr><td>model name</td><td>rf</td></tr><tr><td>test_mae</td><td>0.08641</td></tr><tr><td>test_mse</td><td>0.04464</td></tr><tr><td>test_r2score</td><td>0.95009</td></tr><tr><td>test_rmse</td><td>0.21129</td></tr><tr><td>val_mae</td><td>0.0932</td></tr><tr><td>val_mse</td><td>0.06412</td></tr><tr><td>val_r2score</td><td>0.95924</td></tr><tr><td>val_rmse</td><td>0.25322</td></tr></table><br/></div></div>"
     },
     "metadata": {},
     "output_type": "display_data"
    },
    {
     "data": {
      "text/plain": "<IPython.core.display.HTML object>",
      "text/html": " View run <strong style=\"color:#cdcd00\">lilac-sweep-7</strong> at: <a href='https://wandb.ai/leonardo-berti07/BDproject2/runs/udtfm0bf' target=\"_blank\">https://wandb.ai/leonardo-berti07/BDproject2/runs/udtfm0bf</a><br/>Synced 6 W&B file(s), 0 media file(s), 0 artifact file(s) and 0 other file(s)"
     },
     "metadata": {},
     "output_type": "display_data"
    },
    {
     "data": {
      "text/plain": "<IPython.core.display.HTML object>",
      "text/html": "Find logs at: <code>.\\wandb\\run-20230523_232939-udtfm0bf\\logs</code>"
     },
     "metadata": {},
     "output_type": "display_data"
    },
    {
     "name": "stderr",
     "output_type": "stream",
     "text": [
      "\u001B[34m\u001B[1mwandb\u001B[0m: Sweep Agent: Waiting for job.\n",
      "\u001B[34m\u001B[1mwandb\u001B[0m: Job received.\n",
      "\u001B[34m\u001B[1mwandb\u001B[0m: Agent Starting Run: jd2xs633 with config:\n",
      "\u001B[34m\u001B[1mwandb\u001B[0m: \tm_depth: 23\n",
      "\u001B[34m\u001B[1mwandb\u001B[0m: \tn_est: 245\n"
     ]
    },
    {
     "data": {
      "text/plain": "<IPython.core.display.HTML object>",
      "text/html": "Tracking run with wandb version 0.15.3"
     },
     "metadata": {},
     "output_type": "display_data"
    },
    {
     "data": {
      "text/plain": "<IPython.core.display.HTML object>",
      "text/html": "Run data is saved locally in <code>C:\\Users\\leona\\PycharmProjects\\BDC_project\\wandb\\run-20230523_233305-jd2xs633</code>"
     },
     "metadata": {},
     "output_type": "display_data"
    },
    {
     "data": {
      "text/plain": "<IPython.core.display.HTML object>",
      "text/html": "Syncing run <strong><a href='https://wandb.ai/leonardo-berti07/BDproject2/runs/jd2xs633' target=\"_blank\">valiant-sweep-8</a></strong> to <a href='https://wandb.ai/leonardo-berti07/BDproject2' target=\"_blank\">Weights & Biases</a> (<a href='https://wandb.me/run' target=\"_blank\">docs</a>)<br/>Sweep page: <a href='https://wandb.ai/leonardo-berti07/BDproject2/sweeps/yibs8m4i' target=\"_blank\">https://wandb.ai/leonardo-berti07/BDproject2/sweeps/yibs8m4i</a>"
     },
     "metadata": {},
     "output_type": "display_data"
    },
    {
     "data": {
      "text/plain": "<IPython.core.display.HTML object>",
      "text/html": " View project at <a href='https://wandb.ai/leonardo-berti07/BDproject2' target=\"_blank\">https://wandb.ai/leonardo-berti07/BDproject2</a>"
     },
     "metadata": {},
     "output_type": "display_data"
    },
    {
     "data": {
      "text/plain": "<IPython.core.display.HTML object>",
      "text/html": " View sweep at <a href='https://wandb.ai/leonardo-berti07/BDproject2/sweeps/yibs8m4i' target=\"_blank\">https://wandb.ai/leonardo-berti07/BDproject2/sweeps/yibs8m4i</a>"
     },
     "metadata": {},
     "output_type": "display_data"
    },
    {
     "data": {
      "text/plain": "<IPython.core.display.HTML object>",
      "text/html": " View run at <a href='https://wandb.ai/leonardo-berti07/BDproject2/runs/jd2xs633' target=\"_blank\">https://wandb.ai/leonardo-berti07/BDproject2/runs/jd2xs633</a>"
     },
     "metadata": {},
     "output_type": "display_data"
    },
    {
     "name": "stdout",
     "output_type": "stream",
     "text": [
      "{'test_r2score': 0.950262316386655, 'test_mse': 0.04449437124678524, 'test_rmse': 0.2109368892507549, 'test_mae': 0.08625611923825334}\n"
     ]
    },
    {
     "data": {
      "text/plain": "<IPython.core.display.HTML object>",
      "text/html": "Waiting for W&B process to finish... <strong style=\"color:green\">(success).</strong>"
     },
     "metadata": {},
     "output_type": "display_data"
    },
    {
     "data": {
      "text/plain": "VBox(children=(Label(value='0.001 MB of 0.001 MB uploaded (0.000 MB deduped)\\r'), FloatProgress(value=1.0, max…",
      "application/vnd.jupyter.widget-view+json": {
       "version_major": 2,
       "version_minor": 0,
       "model_id": "00fdb0749b054d369ba8bc98988f2d51"
      }
     },
     "metadata": {},
     "output_type": "display_data"
    },
    {
     "data": {
      "text/plain": "<IPython.core.display.HTML object>",
      "text/html": "<style>\n    table.wandb td:nth-child(1) { padding: 0 10px; text-align: left ; width: auto;} td:nth-child(2) {text-align: left ; width: 100%}\n    .wandb-row { display: flex; flex-direction: row; flex-wrap: wrap; justify-content: flex-start; width: 100% }\n    .wandb-col { display: flex; flex-direction: column; flex-basis: 100%; flex: 1; padding: 10px; }\n    </style>\n<div class=\"wandb-row\"><div class=\"wandb-col\"><h3>Run history:</h3><br/><table class=\"wandb\"><tr><td>test_mae</td><td>▁█</td></tr><tr><td>test_mse</td><td>▁█</td></tr><tr><td>test_r2score</td><td>▁█</td></tr><tr><td>test_rmse</td><td>▁█</td></tr><tr><td>val_mae</td><td>▁█</td></tr><tr><td>val_mse</td><td>▁█</td></tr><tr><td>val_r2score</td><td>▁█</td></tr><tr><td>val_rmse</td><td>▁█</td></tr></table><br/></div><div class=\"wandb-col\"><h3>Run summary:</h3><br/><table class=\"wandb\"><tr><td>model name</td><td>rf</td></tr><tr><td>test_mae</td><td>0.08626</td></tr><tr><td>test_mse</td><td>0.04449</td></tr><tr><td>test_r2score</td><td>0.95026</td></tr><tr><td>test_rmse</td><td>0.21094</td></tr><tr><td>val_mae</td><td>0.09277</td></tr><tr><td>val_mse</td><td>0.0631</td></tr><tr><td>val_r2score</td><td>0.95989</td></tr><tr><td>val_rmse</td><td>0.2512</td></tr></table><br/></div></div>"
     },
     "metadata": {},
     "output_type": "display_data"
    },
    {
     "data": {
      "text/plain": "<IPython.core.display.HTML object>",
      "text/html": " View run <strong style=\"color:#cdcd00\">valiant-sweep-8</strong> at: <a href='https://wandb.ai/leonardo-berti07/BDproject2/runs/jd2xs633' target=\"_blank\">https://wandb.ai/leonardo-berti07/BDproject2/runs/jd2xs633</a><br/>Synced 6 W&B file(s), 0 media file(s), 0 artifact file(s) and 0 other file(s)"
     },
     "metadata": {},
     "output_type": "display_data"
    },
    {
     "data": {
      "text/plain": "<IPython.core.display.HTML object>",
      "text/html": "Find logs at: <code>.\\wandb\\run-20230523_233305-jd2xs633\\logs</code>"
     },
     "metadata": {},
     "output_type": "display_data"
    },
    {
     "name": "stderr",
     "output_type": "stream",
     "text": [
      "\u001B[34m\u001B[1mwandb\u001B[0m: Sweep Agent: Waiting for job.\n",
      "\u001B[34m\u001B[1mwandb\u001B[0m: Job received.\n",
      "\u001B[34m\u001B[1mwandb\u001B[0m: Agent Starting Run: ivroxl7g with config:\n",
      "\u001B[34m\u001B[1mwandb\u001B[0m: \tm_depth: 14\n",
      "\u001B[34m\u001B[1mwandb\u001B[0m: \tn_est: 406\n"
     ]
    },
    {
     "data": {
      "text/plain": "<IPython.core.display.HTML object>",
      "text/html": "Tracking run with wandb version 0.15.3"
     },
     "metadata": {},
     "output_type": "display_data"
    },
    {
     "data": {
      "text/plain": "<IPython.core.display.HTML object>",
      "text/html": "Run data is saved locally in <code>C:\\Users\\leona\\PycharmProjects\\BDC_project\\wandb\\run-20230523_233640-ivroxl7g</code>"
     },
     "metadata": {},
     "output_type": "display_data"
    },
    {
     "data": {
      "text/plain": "<IPython.core.display.HTML object>",
      "text/html": "Syncing run <strong><a href='https://wandb.ai/leonardo-berti07/BDproject2/runs/ivroxl7g' target=\"_blank\">avid-sweep-9</a></strong> to <a href='https://wandb.ai/leonardo-berti07/BDproject2' target=\"_blank\">Weights & Biases</a> (<a href='https://wandb.me/run' target=\"_blank\">docs</a>)<br/>Sweep page: <a href='https://wandb.ai/leonardo-berti07/BDproject2/sweeps/yibs8m4i' target=\"_blank\">https://wandb.ai/leonardo-berti07/BDproject2/sweeps/yibs8m4i</a>"
     },
     "metadata": {},
     "output_type": "display_data"
    },
    {
     "data": {
      "text/plain": "<IPython.core.display.HTML object>",
      "text/html": " View project at <a href='https://wandb.ai/leonardo-berti07/BDproject2' target=\"_blank\">https://wandb.ai/leonardo-berti07/BDproject2</a>"
     },
     "metadata": {},
     "output_type": "display_data"
    },
    {
     "data": {
      "text/plain": "<IPython.core.display.HTML object>",
      "text/html": " View sweep at <a href='https://wandb.ai/leonardo-berti07/BDproject2/sweeps/yibs8m4i' target=\"_blank\">https://wandb.ai/leonardo-berti07/BDproject2/sweeps/yibs8m4i</a>"
     },
     "metadata": {},
     "output_type": "display_data"
    },
    {
     "data": {
      "text/plain": "<IPython.core.display.HTML object>",
      "text/html": " View run at <a href='https://wandb.ai/leonardo-berti07/BDproject2/runs/ivroxl7g' target=\"_blank\">https://wandb.ai/leonardo-berti07/BDproject2/runs/ivroxl7g</a>"
     },
     "metadata": {},
     "output_type": "display_data"
    },
    {
     "name": "stdout",
     "output_type": "stream",
     "text": [
      "{'test_r2score': 0.9492306265611976, 'test_mse': 0.04541730104106934, 'test_rmse': 0.2131133525640037, 'test_mae': 0.08740737276844132}\n"
     ]
    },
    {
     "data": {
      "text/plain": "<IPython.core.display.HTML object>",
      "text/html": "Waiting for W&B process to finish... <strong style=\"color:green\">(success).</strong>"
     },
     "metadata": {},
     "output_type": "display_data"
    },
    {
     "data": {
      "text/plain": "VBox(children=(Label(value='0.001 MB of 0.001 MB uploaded (0.000 MB deduped)\\r'), FloatProgress(value=1.0, max…",
      "application/vnd.jupyter.widget-view+json": {
       "version_major": 2,
       "version_minor": 0,
       "model_id": "b5844e0e39194bd6a2e3761f8b32d341"
      }
     },
     "metadata": {},
     "output_type": "display_data"
    },
    {
     "data": {
      "text/plain": "<IPython.core.display.HTML object>",
      "text/html": "<style>\n    table.wandb td:nth-child(1) { padding: 0 10px; text-align: left ; width: auto;} td:nth-child(2) {text-align: left ; width: 100%}\n    .wandb-row { display: flex; flex-direction: row; flex-wrap: wrap; justify-content: flex-start; width: 100% }\n    .wandb-col { display: flex; flex-direction: column; flex-basis: 100%; flex: 1; padding: 10px; }\n    </style>\n<div class=\"wandb-row\"><div class=\"wandb-col\"><h3>Run history:</h3><br/><table class=\"wandb\"><tr><td>test_mae</td><td>▁█</td></tr><tr><td>test_mse</td><td>▁█</td></tr><tr><td>test_r2score</td><td>▁█</td></tr><tr><td>test_rmse</td><td>▁█</td></tr><tr><td>val_mae</td><td>▁█</td></tr><tr><td>val_mse</td><td>▁█</td></tr><tr><td>val_r2score</td><td>▁█</td></tr><tr><td>val_rmse</td><td>▁█</td></tr></table><br/></div><div class=\"wandb-col\"><h3>Run summary:</h3><br/><table class=\"wandb\"><tr><td>model name</td><td>rf</td></tr><tr><td>test_mae</td><td>0.08741</td></tr><tr><td>test_mse</td><td>0.04542</td></tr><tr><td>test_r2score</td><td>0.94923</td></tr><tr><td>test_rmse</td><td>0.21311</td></tr><tr><td>val_mae</td><td>0.09438</td></tr><tr><td>val_mse</td><td>0.06531</td></tr><tr><td>val_r2score</td><td>0.95849</td></tr><tr><td>val_rmse</td><td>0.25555</td></tr></table><br/></div></div>"
     },
     "metadata": {},
     "output_type": "display_data"
    },
    {
     "data": {
      "text/plain": "<IPython.core.display.HTML object>",
      "text/html": " View run <strong style=\"color:#cdcd00\">avid-sweep-9</strong> at: <a href='https://wandb.ai/leonardo-berti07/BDproject2/runs/ivroxl7g' target=\"_blank\">https://wandb.ai/leonardo-berti07/BDproject2/runs/ivroxl7g</a><br/>Synced 6 W&B file(s), 0 media file(s), 0 artifact file(s) and 0 other file(s)"
     },
     "metadata": {},
     "output_type": "display_data"
    },
    {
     "data": {
      "text/plain": "<IPython.core.display.HTML object>",
      "text/html": "Find logs at: <code>.\\wandb\\run-20230523_233640-ivroxl7g\\logs</code>"
     },
     "metadata": {},
     "output_type": "display_data"
    },
    {
     "name": "stderr",
     "output_type": "stream",
     "text": [
      "\u001B[34m\u001B[1mwandb\u001B[0m: Agent Starting Run: ido75gn3 with config:\n",
      "\u001B[34m\u001B[1mwandb\u001B[0m: \tm_depth: 22\n",
      "\u001B[34m\u001B[1mwandb\u001B[0m: \tn_est: 176\n"
     ]
    },
    {
     "data": {
      "text/plain": "<IPython.core.display.HTML object>",
      "text/html": "Tracking run with wandb version 0.15.3"
     },
     "metadata": {},
     "output_type": "display_data"
    },
    {
     "data": {
      "text/plain": "<IPython.core.display.HTML object>",
      "text/html": "Run data is saved locally in <code>C:\\Users\\leona\\PycharmProjects\\BDC_project\\wandb\\run-20230523_234009-ido75gn3</code>"
     },
     "metadata": {},
     "output_type": "display_data"
    },
    {
     "data": {
      "text/plain": "<IPython.core.display.HTML object>",
      "text/html": "Syncing run <strong><a href='https://wandb.ai/leonardo-berti07/BDproject2/runs/ido75gn3' target=\"_blank\">toasty-sweep-10</a></strong> to <a href='https://wandb.ai/leonardo-berti07/BDproject2' target=\"_blank\">Weights & Biases</a> (<a href='https://wandb.me/run' target=\"_blank\">docs</a>)<br/>Sweep page: <a href='https://wandb.ai/leonardo-berti07/BDproject2/sweeps/yibs8m4i' target=\"_blank\">https://wandb.ai/leonardo-berti07/BDproject2/sweeps/yibs8m4i</a>"
     },
     "metadata": {},
     "output_type": "display_data"
    },
    {
     "data": {
      "text/plain": "<IPython.core.display.HTML object>",
      "text/html": " View project at <a href='https://wandb.ai/leonardo-berti07/BDproject2' target=\"_blank\">https://wandb.ai/leonardo-berti07/BDproject2</a>"
     },
     "metadata": {},
     "output_type": "display_data"
    },
    {
     "data": {
      "text/plain": "<IPython.core.display.HTML object>",
      "text/html": " View sweep at <a href='https://wandb.ai/leonardo-berti07/BDproject2/sweeps/yibs8m4i' target=\"_blank\">https://wandb.ai/leonardo-berti07/BDproject2/sweeps/yibs8m4i</a>"
     },
     "metadata": {},
     "output_type": "display_data"
    },
    {
     "data": {
      "text/plain": "<IPython.core.display.HTML object>",
      "text/html": " View run at <a href='https://wandb.ai/leonardo-berti07/BDproject2/runs/ido75gn3' target=\"_blank\">https://wandb.ai/leonardo-berti07/BDproject2/runs/ido75gn3</a>"
     },
     "metadata": {},
     "output_type": "display_data"
    },
    {
     "name": "stdout",
     "output_type": "stream",
     "text": [
      "{'test_r2score': 0.9499674157732927, 'test_mse': 0.044758183640499646, 'test_rmse': 0.21156129995937265, 'test_mae': 0.08637562168685368}\n"
     ]
    },
    {
     "data": {
      "text/plain": "<IPython.core.display.HTML object>",
      "text/html": "Waiting for W&B process to finish... <strong style=\"color:green\">(success).</strong>"
     },
     "metadata": {},
     "output_type": "display_data"
    },
    {
     "data": {
      "text/plain": "<IPython.core.display.HTML object>",
      "text/html": "<style>\n    table.wandb td:nth-child(1) { padding: 0 10px; text-align: left ; width: auto;} td:nth-child(2) {text-align: left ; width: 100%}\n    .wandb-row { display: flex; flex-direction: row; flex-wrap: wrap; justify-content: flex-start; width: 100% }\n    .wandb-col { display: flex; flex-direction: column; flex-basis: 100%; flex: 1; padding: 10px; }\n    </style>\n<div class=\"wandb-row\"><div class=\"wandb-col\"><h3>Run history:</h3><br/><table class=\"wandb\"><tr><td>test_mae</td><td>▁█</td></tr><tr><td>test_mse</td><td>▁█</td></tr><tr><td>test_r2score</td><td>▁█</td></tr><tr><td>test_rmse</td><td>▁█</td></tr><tr><td>val_mae</td><td>▁█</td></tr><tr><td>val_mse</td><td>▁█</td></tr><tr><td>val_r2score</td><td>▁█</td></tr><tr><td>val_rmse</td><td>▁█</td></tr></table><br/></div><div class=\"wandb-col\"><h3>Run summary:</h3><br/><table class=\"wandb\"><tr><td>model name</td><td>rf</td></tr><tr><td>test_mae</td><td>0.08638</td></tr><tr><td>test_mse</td><td>0.04476</td></tr><tr><td>test_r2score</td><td>0.94997</td></tr><tr><td>test_rmse</td><td>0.21156</td></tr><tr><td>val_mae</td><td>0.09339</td></tr><tr><td>val_mse</td><td>0.0646</td></tr><tr><td>val_r2score</td><td>0.95894</td></tr><tr><td>val_rmse</td><td>0.25417</td></tr></table><br/></div></div>"
     },
     "metadata": {},
     "output_type": "display_data"
    },
    {
     "data": {
      "text/plain": "<IPython.core.display.HTML object>",
      "text/html": " View run <strong style=\"color:#cdcd00\">toasty-sweep-10</strong> at: <a href='https://wandb.ai/leonardo-berti07/BDproject2/runs/ido75gn3' target=\"_blank\">https://wandb.ai/leonardo-berti07/BDproject2/runs/ido75gn3</a><br/>Synced 6 W&B file(s), 0 media file(s), 0 artifact file(s) and 0 other file(s)"
     },
     "metadata": {},
     "output_type": "display_data"
    },
    {
     "data": {
      "text/plain": "<IPython.core.display.HTML object>",
      "text/html": "Find logs at: <code>.\\wandb\\run-20230523_234009-ido75gn3\\logs</code>"
     },
     "metadata": {},
     "output_type": "display_data"
    },
    {
     "name": "stdout",
     "output_type": "stream",
     "text": [
      "Create sweep with ID: vm5njxtd\n",
      "Sweep URL: https://wandb.ai/leonardo-berti07/BDproject2/sweeps/vm5njxtd\n"
     ]
    },
    {
     "name": "stderr",
     "output_type": "stream",
     "text": [
      "\u001B[34m\u001B[1mwandb\u001B[0m: Agent Starting Run: kbycnmw8 with config:\n",
      "\u001B[34m\u001B[1mwandb\u001B[0m: \tbatch_size: 32\n",
      "\u001B[34m\u001B[1mwandb\u001B[0m: \tdropout: 0.2\n",
      "\u001B[34m\u001B[1mwandb\u001B[0m: \tepochs: 50\n",
      "\u001B[34m\u001B[1mwandb\u001B[0m: \teps: 1e-08\n",
      "\u001B[34m\u001B[1mwandb\u001B[0m: \tlr: 0.0016080003539776298\n",
      "\u001B[34m\u001B[1mwandb\u001B[0m: \toptimizer: sgd\n"
     ]
    },
    {
     "data": {
      "text/plain": "<IPython.core.display.HTML object>",
      "text/html": "Tracking run with wandb version 0.15.3"
     },
     "metadata": {},
     "output_type": "display_data"
    },
    {
     "data": {
      "text/plain": "<IPython.core.display.HTML object>",
      "text/html": "Run data is saved locally in <code>C:\\Users\\leona\\PycharmProjects\\BDC_project\\wandb\\run-20230523_234316-kbycnmw8</code>"
     },
     "metadata": {},
     "output_type": "display_data"
    },
    {
     "data": {
      "text/plain": "<IPython.core.display.HTML object>",
      "text/html": "Syncing run <strong><a href='https://wandb.ai/leonardo-berti07/BDproject2/runs/kbycnmw8' target=\"_blank\">stellar-sweep-1</a></strong> to <a href='https://wandb.ai/leonardo-berti07/BDproject2' target=\"_blank\">Weights & Biases</a> (<a href='https://wandb.me/run' target=\"_blank\">docs</a>)<br/>Sweep page: <a href='https://wandb.ai/leonardo-berti07/BDproject2/sweeps/vm5njxtd' target=\"_blank\">https://wandb.ai/leonardo-berti07/BDproject2/sweeps/vm5njxtd</a>"
     },
     "metadata": {},
     "output_type": "display_data"
    },
    {
     "data": {
      "text/plain": "<IPython.core.display.HTML object>",
      "text/html": " View project at <a href='https://wandb.ai/leonardo-berti07/BDproject2' target=\"_blank\">https://wandb.ai/leonardo-berti07/BDproject2</a>"
     },
     "metadata": {},
     "output_type": "display_data"
    },
    {
     "data": {
      "text/plain": "<IPython.core.display.HTML object>",
      "text/html": " View sweep at <a href='https://wandb.ai/leonardo-berti07/BDproject2/sweeps/vm5njxtd' target=\"_blank\">https://wandb.ai/leonardo-berti07/BDproject2/sweeps/vm5njxtd</a>"
     },
     "metadata": {},
     "output_type": "display_data"
    },
    {
     "data": {
      "text/plain": "<IPython.core.display.HTML object>",
      "text/html": " View run at <a href='https://wandb.ai/leonardo-berti07/BDproject2/runs/kbycnmw8' target=\"_blank\">https://wandb.ai/leonardo-berti07/BDproject2/runs/kbycnmw8</a>"
     },
     "metadata": {},
     "output_type": "display_data"
    },
    {
     "name": "stderr",
     "output_type": "stream",
     "text": [
      "100%|██████████| 50/50 [12:48<00:00, 15.37s/it]\n"
     ]
    },
    {
     "name": "stdout",
     "output_type": "stream",
     "text": [
      "{'test_r2score': 0.9299480797555845, 'test_mse': 0.062667094, 'test_rmse': 0.25033396, 'test_mae': 0.11059842}\n"
     ]
    },
    {
     "data": {
      "text/plain": "<IPython.core.display.HTML object>",
      "text/html": "Waiting for W&B process to finish... <strong style=\"color:green\">(success).</strong>"
     },
     "metadata": {},
     "output_type": "display_data"
    },
    {
     "data": {
      "text/plain": "VBox(children=(Label(value='0.001 MB of 0.001 MB uploaded (0.000 MB deduped)\\r'), FloatProgress(value=1.0, max…",
      "application/vnd.jupyter.widget-view+json": {
       "version_major": 2,
       "version_minor": 0,
       "model_id": "c7f39f587fe14178912c7e925b9ced33"
      }
     },
     "metadata": {},
     "output_type": "display_data"
    },
    {
     "data": {
      "text/plain": "<IPython.core.display.HTML object>",
      "text/html": "<style>\n    table.wandb td:nth-child(1) { padding: 0 10px; text-align: left ; width: auto;} td:nth-child(2) {text-align: left ; width: 100%}\n    .wandb-row { display: flex; flex-direction: row; flex-wrap: wrap; justify-content: flex-start; width: 100% }\n    .wandb-col { display: flex; flex-direction: column; flex-basis: 100%; flex: 1; padding: 10px; }\n    </style>\n<div class=\"wandb-row\"><div class=\"wandb-col\"><h3>Run history:</h3><br/><table class=\"wandb\"><tr><td>epochs</td><td>▁▁▁▁▂▂▂▂▂▃▃▃▃▃▃▄▄▄▄▄▅▅▅▅▅▅▆▆▆▆▆▆▇▇▇▇▇███</td></tr><tr><td>test_mae</td><td>▁█</td></tr><tr><td>test_mse</td><td>▁█</td></tr><tr><td>test_r2score</td><td>▁█</td></tr><tr><td>test_rmse</td><td>▁█</td></tr><tr><td>val_loss</td><td>█▆▄▄▃▁▂▂▃▂▁▄▄▂▄▃▃▁▂▂▂▂▃▂▃▂▃▃▂▂▁▃▃▂▂▁▅▁▁▃</td></tr><tr><td>val_mae</td><td>▁█▆▆▅▅▄▅▅▅▄▅▅▅▅▅▄▄▅▅▅▅▅▅▅▅▅▅▅▅▅▅▅▅▄▅▄▄▅▄</td></tr><tr><td>val_mse</td><td>▁█▇▆▆▅▅▅▅▅▅▆▆▅▆▅▅▄▅▅▅▅▅▅▅▅▅▆▅▅▅▅▆▅▅▅▅▅▅▄</td></tr><tr><td>val_r2score</td><td>▁███████████████████████████████████████</td></tr><tr><td>val_rmse</td><td>▁█▇▇▇▇▆▆▇▇▆▇▇▆▇▇▆▆▆▆▆▆▆▇▇▆▆▇▆▆▇▇▇▆▆▆▆▆▆▆</td></tr></table><br/></div><div class=\"wandb-col\"><h3>Run summary:</h3><br/><table class=\"wandb\"><tr><td>epochs</td><td>50</td></tr><tr><td>model name</td><td>mlp</td></tr><tr><td>test_mae</td><td>0.1106</td></tr><tr><td>test_mse</td><td>0.06267</td></tr><tr><td>test_r2score</td><td>0.92995</td></tr><tr><td>test_rmse</td><td>0.25033</td></tr><tr><td>val_loss</td><td>47.89156</td></tr><tr><td>val_mae</td><td>0.1207</td></tr><tr><td>val_mse</td><td>0.08809</td></tr><tr><td>val_r2score</td><td>0.94401</td></tr><tr><td>val_rmse</td><td>0.2968</td></tr></table><br/></div></div>"
     },
     "metadata": {},
     "output_type": "display_data"
    },
    {
     "data": {
      "text/plain": "<IPython.core.display.HTML object>",
      "text/html": " View run <strong style=\"color:#cdcd00\">stellar-sweep-1</strong> at: <a href='https://wandb.ai/leonardo-berti07/BDproject2/runs/kbycnmw8' target=\"_blank\">https://wandb.ai/leonardo-berti07/BDproject2/runs/kbycnmw8</a><br/>Synced 6 W&B file(s), 0 media file(s), 0 artifact file(s) and 0 other file(s)"
     },
     "metadata": {},
     "output_type": "display_data"
    },
    {
     "data": {
      "text/plain": "<IPython.core.display.HTML object>",
      "text/html": "Find logs at: <code>.\\wandb\\run-20230523_234316-kbycnmw8\\logs</code>"
     },
     "metadata": {},
     "output_type": "display_data"
    },
    {
     "name": "stderr",
     "output_type": "stream",
     "text": [
      "\u001B[34m\u001B[1mwandb\u001B[0m: Agent Starting Run: 2rwcluvi with config:\n",
      "\u001B[34m\u001B[1mwandb\u001B[0m: \tbatch_size: 128\n",
      "\u001B[34m\u001B[1mwandb\u001B[0m: \tdropout: 0.2\n",
      "\u001B[34m\u001B[1mwandb\u001B[0m: \tepochs: 50\n",
      "\u001B[34m\u001B[1mwandb\u001B[0m: \teps: 1e-08\n",
      "\u001B[34m\u001B[1mwandb\u001B[0m: \tlr: 0.0050278148665693564\n",
      "\u001B[34m\u001B[1mwandb\u001B[0m: \toptimizer: sgd\n"
     ]
    },
    {
     "data": {
      "text/plain": "<IPython.core.display.HTML object>",
      "text/html": "Tracking run with wandb version 0.15.3"
     },
     "metadata": {},
     "output_type": "display_data"
    },
    {
     "data": {
      "text/plain": "<IPython.core.display.HTML object>",
      "text/html": "Run data is saved locally in <code>C:\\Users\\leona\\PycharmProjects\\BDC_project\\wandb\\run-20230523_235644-2rwcluvi</code>"
     },
     "metadata": {},
     "output_type": "display_data"
    },
    {
     "data": {
      "text/plain": "<IPython.core.display.HTML object>",
      "text/html": "Syncing run <strong><a href='https://wandb.ai/leonardo-berti07/BDproject2/runs/2rwcluvi' target=\"_blank\">lemon-sweep-2</a></strong> to <a href='https://wandb.ai/leonardo-berti07/BDproject2' target=\"_blank\">Weights & Biases</a> (<a href='https://wandb.me/run' target=\"_blank\">docs</a>)<br/>Sweep page: <a href='https://wandb.ai/leonardo-berti07/BDproject2/sweeps/vm5njxtd' target=\"_blank\">https://wandb.ai/leonardo-berti07/BDproject2/sweeps/vm5njxtd</a>"
     },
     "metadata": {},
     "output_type": "display_data"
    },
    {
     "data": {
      "text/plain": "<IPython.core.display.HTML object>",
      "text/html": " View project at <a href='https://wandb.ai/leonardo-berti07/BDproject2' target=\"_blank\">https://wandb.ai/leonardo-berti07/BDproject2</a>"
     },
     "metadata": {},
     "output_type": "display_data"
    },
    {
     "data": {
      "text/plain": "<IPython.core.display.HTML object>",
      "text/html": " View sweep at <a href='https://wandb.ai/leonardo-berti07/BDproject2/sweeps/vm5njxtd' target=\"_blank\">https://wandb.ai/leonardo-berti07/BDproject2/sweeps/vm5njxtd</a>"
     },
     "metadata": {},
     "output_type": "display_data"
    },
    {
     "data": {
      "text/plain": "<IPython.core.display.HTML object>",
      "text/html": " View run at <a href='https://wandb.ai/leonardo-berti07/BDproject2/runs/2rwcluvi' target=\"_blank\">https://wandb.ai/leonardo-berti07/BDproject2/runs/2rwcluvi</a>"
     },
     "metadata": {},
     "output_type": "display_data"
    },
    {
     "name": "stderr",
     "output_type": "stream",
     "text": [
      "100%|██████████| 50/50 [03:40<00:00,  4.41s/it]\n"
     ]
    },
    {
     "name": "stdout",
     "output_type": "stream",
     "text": [
      "{'test_r2score': 0.9350498216097649, 'test_mse': 0.058103178, 'test_rmse': 0.24104601, 'test_mae': 0.113139704}\n"
     ]
    },
    {
     "data": {
      "text/plain": "<IPython.core.display.HTML object>",
      "text/html": "Waiting for W&B process to finish... <strong style=\"color:green\">(success).</strong>"
     },
     "metadata": {},
     "output_type": "display_data"
    },
    {
     "data": {
      "text/plain": "VBox(children=(Label(value='0.001 MB of 0.001 MB uploaded (0.000 MB deduped)\\r'), FloatProgress(value=1.0, max…",
      "application/vnd.jupyter.widget-view+json": {
       "version_major": 2,
       "version_minor": 0,
       "model_id": "db3c788d8a9f4d519c9ff2cf530eddd4"
      }
     },
     "metadata": {},
     "output_type": "display_data"
    },
    {
     "data": {
      "text/plain": "<IPython.core.display.HTML object>",
      "text/html": "<style>\n    table.wandb td:nth-child(1) { padding: 0 10px; text-align: left ; width: auto;} td:nth-child(2) {text-align: left ; width: 100%}\n    .wandb-row { display: flex; flex-direction: row; flex-wrap: wrap; justify-content: flex-start; width: 100% }\n    .wandb-col { display: flex; flex-direction: column; flex-basis: 100%; flex: 1; padding: 10px; }\n    </style>\n<div class=\"wandb-row\"><div class=\"wandb-col\"><h3>Run history:</h3><br/><table class=\"wandb\"><tr><td>epochs</td><td>▁▁▁▁▂▂▂▂▂▃▃▃▃▃▃▄▄▄▄▄▅▅▅▅▅▅▆▆▆▆▆▆▇▇▇▇▇███</td></tr><tr><td>test_mae</td><td>▁█</td></tr><tr><td>test_mse</td><td>▁█</td></tr><tr><td>test_r2score</td><td>▁█</td></tr><tr><td>test_rmse</td><td>▁█</td></tr><tr><td>val_loss</td><td>▅▄▃█▂▄▃▅▄▅▂▁▁▂▄▄▂▃▃▄▂▂▇▄▂▁▂▂▂▁▃▂▂▂▂▇▂▂▃▁</td></tr><tr><td>val_mae</td><td>▁██▇█▇▇▇▇▇▆▆▇▇▇▇▆▆▆▇▇▆▇▇▆▆▆▆▆▆▆▆▆▆▇▆▆▆▆▆</td></tr><tr><td>val_mse</td><td>▁▇▆▆▇▅▆▇▇▇▆▅▆▅▆▆▆▆▆▆▅▅█▆▆▅▅▅▅▅▅▅▅▅█▅▆▆▆▅</td></tr><tr><td>val_r2score</td><td>▁███████████████████████████████████████</td></tr><tr><td>val_rmse</td><td>▁▇▇▇█▇▇▇▇▇▇▆▇▇▇▇▇▇▇▇▇▇█▇▇▆▆▆▇▆▆▇▆▆█▆▇▇▇▆</td></tr></table><br/></div><div class=\"wandb-col\"><h3>Run summary:</h3><br/><table class=\"wandb\"><tr><td>epochs</td><td>50</td></tr><tr><td>model name</td><td>mlp</td></tr><tr><td>test_mae</td><td>0.11314</td></tr><tr><td>test_mse</td><td>0.0581</td></tr><tr><td>test_r2score</td><td>0.93505</td></tr><tr><td>test_rmse</td><td>0.24105</td></tr><tr><td>val_loss</td><td>9.16342</td></tr><tr><td>val_mae</td><td>0.12305</td></tr><tr><td>val_mse</td><td>0.08594</td></tr><tr><td>val_r2score</td><td>0.94537</td></tr><tr><td>val_rmse</td><td>0.29315</td></tr></table><br/></div></div>"
     },
     "metadata": {},
     "output_type": "display_data"
    },
    {
     "data": {
      "text/plain": "<IPython.core.display.HTML object>",
      "text/html": " View run <strong style=\"color:#cdcd00\">lemon-sweep-2</strong> at: <a href='https://wandb.ai/leonardo-berti07/BDproject2/runs/2rwcluvi' target=\"_blank\">https://wandb.ai/leonardo-berti07/BDproject2/runs/2rwcluvi</a><br/>Synced 6 W&B file(s), 0 media file(s), 0 artifact file(s) and 0 other file(s)"
     },
     "metadata": {},
     "output_type": "display_data"
    },
    {
     "data": {
      "text/plain": "<IPython.core.display.HTML object>",
      "text/html": "Find logs at: <code>.\\wandb\\run-20230523_235644-2rwcluvi\\logs</code>"
     },
     "metadata": {},
     "output_type": "display_data"
    },
    {
     "name": "stderr",
     "output_type": "stream",
     "text": [
      "\u001B[34m\u001B[1mwandb\u001B[0m: Agent Starting Run: y2rbfy5f with config:\n",
      "\u001B[34m\u001B[1mwandb\u001B[0m: \tbatch_size: 32\n",
      "\u001B[34m\u001B[1mwandb\u001B[0m: \tdropout: 0.2\n",
      "\u001B[34m\u001B[1mwandb\u001B[0m: \tepochs: 50\n",
      "\u001B[34m\u001B[1mwandb\u001B[0m: \teps: 1e-08\n",
      "\u001B[34m\u001B[1mwandb\u001B[0m: \tlr: 0.006755987413469909\n",
      "\u001B[34m\u001B[1mwandb\u001B[0m: \toptimizer: adam\n"
     ]
    },
    {
     "data": {
      "text/plain": "<IPython.core.display.HTML object>",
      "text/html": "Tracking run with wandb version 0.15.3"
     },
     "metadata": {},
     "output_type": "display_data"
    },
    {
     "data": {
      "text/plain": "<IPython.core.display.HTML object>",
      "text/html": "Run data is saved locally in <code>C:\\Users\\leona\\PycharmProjects\\BDC_project\\wandb\\run-20230524_000042-y2rbfy5f</code>"
     },
     "metadata": {},
     "output_type": "display_data"
    },
    {
     "data": {
      "text/plain": "<IPython.core.display.HTML object>",
      "text/html": "Syncing run <strong><a href='https://wandb.ai/leonardo-berti07/BDproject2/runs/y2rbfy5f' target=\"_blank\">crisp-sweep-3</a></strong> to <a href='https://wandb.ai/leonardo-berti07/BDproject2' target=\"_blank\">Weights & Biases</a> (<a href='https://wandb.me/run' target=\"_blank\">docs</a>)<br/>Sweep page: <a href='https://wandb.ai/leonardo-berti07/BDproject2/sweeps/vm5njxtd' target=\"_blank\">https://wandb.ai/leonardo-berti07/BDproject2/sweeps/vm5njxtd</a>"
     },
     "metadata": {},
     "output_type": "display_data"
    },
    {
     "data": {
      "text/plain": "<IPython.core.display.HTML object>",
      "text/html": " View project at <a href='https://wandb.ai/leonardo-berti07/BDproject2' target=\"_blank\">https://wandb.ai/leonardo-berti07/BDproject2</a>"
     },
     "metadata": {},
     "output_type": "display_data"
    },
    {
     "data": {
      "text/plain": "<IPython.core.display.HTML object>",
      "text/html": " View sweep at <a href='https://wandb.ai/leonardo-berti07/BDproject2/sweeps/vm5njxtd' target=\"_blank\">https://wandb.ai/leonardo-berti07/BDproject2/sweeps/vm5njxtd</a>"
     },
     "metadata": {},
     "output_type": "display_data"
    },
    {
     "data": {
      "text/plain": "<IPython.core.display.HTML object>",
      "text/html": " View run at <a href='https://wandb.ai/leonardo-berti07/BDproject2/runs/y2rbfy5f' target=\"_blank\">https://wandb.ai/leonardo-berti07/BDproject2/runs/y2rbfy5f</a>"
     },
     "metadata": {},
     "output_type": "display_data"
    },
    {
     "name": "stderr",
     "output_type": "stream",
     "text": [
      "100%|██████████| 50/50 [13:58<00:00, 16.76s/it]\n"
     ]
    },
    {
     "name": "stdout",
     "output_type": "stream",
     "text": [
      "{'test_r2score': 0.9407809621628872, 'test_mse': 0.052976217, 'test_rmse': 0.23016563, 'test_mae': 0.12283728}\n"
     ]
    },
    {
     "data": {
      "text/plain": "<IPython.core.display.HTML object>",
      "text/html": "Waiting for W&B process to finish... <strong style=\"color:green\">(success).</strong>"
     },
     "metadata": {},
     "output_type": "display_data"
    },
    {
     "data": {
      "text/plain": "<IPython.core.display.HTML object>",
      "text/html": "<style>\n    table.wandb td:nth-child(1) { padding: 0 10px; text-align: left ; width: auto;} td:nth-child(2) {text-align: left ; width: 100%}\n    .wandb-row { display: flex; flex-direction: row; flex-wrap: wrap; justify-content: flex-start; width: 100% }\n    .wandb-col { display: flex; flex-direction: column; flex-basis: 100%; flex: 1; padding: 10px; }\n    </style>\n<div class=\"wandb-row\"><div class=\"wandb-col\"><h3>Run history:</h3><br/><table class=\"wandb\"><tr><td>epochs</td><td>▁▁▁▁▂▂▂▂▂▃▃▃▃▃▃▄▄▄▄▄▅▅▅▅▅▅▆▆▆▆▆▆▇▇▇▇▇███</td></tr><tr><td>test_mae</td><td>▁█</td></tr><tr><td>test_mse</td><td>▁█</td></tr><tr><td>test_r2score</td><td>▁█</td></tr><tr><td>test_rmse</td><td>▁█</td></tr><tr><td>val_loss</td><td>▃▇▄▇▄▁▄▂▅▂▂▁▂▃▃▄▄▁▂▃▂▂▃█▂▁▃▂▂▂▃▂▂▄▅▄▃▂▃▃</td></tr><tr><td>val_mae</td><td>▁▆▇▇▆▆▆▇▅▇▇▆█▆▆▆▇▅▆▆▅▆▆▅▅▅▆▆▆▆▆▅▅▆▆▆▅▆▆▆</td></tr><tr><td>val_mse</td><td>▁▅▇▅▅▅▄▅▄▆▄▄▅▅▅▅█▄▄▅▄▅▅▄▄▄▅▅▄▄▄▄▄▆▅▅▅▅▆▄</td></tr><tr><td>val_r2score</td><td>▁███████████████████████████████████████</td></tr><tr><td>val_rmse</td><td>▁▆▇▇▆▇▅▆▆▇▆▆▆▆▆▆█▆▆▆▆▆▆▆▆▆▆▆▆▆▆▆▆▇▇▆▆▆▇▅</td></tr></table><br/></div><div class=\"wandb-col\"><h3>Run summary:</h3><br/><table class=\"wandb\"><tr><td>epochs</td><td>50</td></tr><tr><td>model name</td><td>mlp</td></tr><tr><td>test_mae</td><td>0.12284</td></tr><tr><td>test_mse</td><td>0.05298</td></tr><tr><td>test_r2score</td><td>0.94078</td></tr><tr><td>test_rmse</td><td>0.23017</td></tr><tr><td>val_loss</td><td>42.80482</td></tr><tr><td>val_mae</td><td>0.13144</td></tr><tr><td>val_mse</td><td>0.07479</td></tr><tr><td>val_r2score</td><td>0.95246</td></tr><tr><td>val_rmse</td><td>0.27348</td></tr></table><br/></div></div>"
     },
     "metadata": {},
     "output_type": "display_data"
    },
    {
     "data": {
      "text/plain": "<IPython.core.display.HTML object>",
      "text/html": " View run <strong style=\"color:#cdcd00\">crisp-sweep-3</strong> at: <a href='https://wandb.ai/leonardo-berti07/BDproject2/runs/y2rbfy5f' target=\"_blank\">https://wandb.ai/leonardo-berti07/BDproject2/runs/y2rbfy5f</a><br/>Synced 6 W&B file(s), 0 media file(s), 0 artifact file(s) and 0 other file(s)"
     },
     "metadata": {},
     "output_type": "display_data"
    },
    {
     "data": {
      "text/plain": "<IPython.core.display.HTML object>",
      "text/html": "Find logs at: <code>.\\wandb\\run-20230524_000042-y2rbfy5f\\logs</code>"
     },
     "metadata": {},
     "output_type": "display_data"
    },
    {
     "name": "stderr",
     "output_type": "stream",
     "text": [
      "\u001B[34m\u001B[1mwandb\u001B[0m: Agent Starting Run: ftcwf6g5 with config:\n",
      "\u001B[34m\u001B[1mwandb\u001B[0m: \tbatch_size: 128\n",
      "\u001B[34m\u001B[1mwandb\u001B[0m: \tdropout: 0.2\n",
      "\u001B[34m\u001B[1mwandb\u001B[0m: \tepochs: 50\n",
      "\u001B[34m\u001B[1mwandb\u001B[0m: \teps: 1e-08\n",
      "\u001B[34m\u001B[1mwandb\u001B[0m: \tlr: 0.009073382471369063\n",
      "\u001B[34m\u001B[1mwandb\u001B[0m: \toptimizer: sgd\n"
     ]
    },
    {
     "data": {
      "text/plain": "<IPython.core.display.HTML object>",
      "text/html": "Tracking run with wandb version 0.15.3"
     },
     "metadata": {},
     "output_type": "display_data"
    },
    {
     "data": {
      "text/plain": "<IPython.core.display.HTML object>",
      "text/html": "Run data is saved locally in <code>C:\\Users\\leona\\PycharmProjects\\BDC_project\\wandb\\run-20230524_001521-ftcwf6g5</code>"
     },
     "metadata": {},
     "output_type": "display_data"
    },
    {
     "data": {
      "text/plain": "<IPython.core.display.HTML object>",
      "text/html": "Syncing run <strong><a href='https://wandb.ai/leonardo-berti07/BDproject2/runs/ftcwf6g5' target=\"_blank\">stilted-sweep-4</a></strong> to <a href='https://wandb.ai/leonardo-berti07/BDproject2' target=\"_blank\">Weights & Biases</a> (<a href='https://wandb.me/run' target=\"_blank\">docs</a>)<br/>Sweep page: <a href='https://wandb.ai/leonardo-berti07/BDproject2/sweeps/vm5njxtd' target=\"_blank\">https://wandb.ai/leonardo-berti07/BDproject2/sweeps/vm5njxtd</a>"
     },
     "metadata": {},
     "output_type": "display_data"
    },
    {
     "data": {
      "text/plain": "<IPython.core.display.HTML object>",
      "text/html": " View project at <a href='https://wandb.ai/leonardo-berti07/BDproject2' target=\"_blank\">https://wandb.ai/leonardo-berti07/BDproject2</a>"
     },
     "metadata": {},
     "output_type": "display_data"
    },
    {
     "data": {
      "text/plain": "<IPython.core.display.HTML object>",
      "text/html": " View sweep at <a href='https://wandb.ai/leonardo-berti07/BDproject2/sweeps/vm5njxtd' target=\"_blank\">https://wandb.ai/leonardo-berti07/BDproject2/sweeps/vm5njxtd</a>"
     },
     "metadata": {},
     "output_type": "display_data"
    },
    {
     "data": {
      "text/plain": "<IPython.core.display.HTML object>",
      "text/html": " View run at <a href='https://wandb.ai/leonardo-berti07/BDproject2/runs/ftcwf6g5' target=\"_blank\">https://wandb.ai/leonardo-berti07/BDproject2/runs/ftcwf6g5</a>"
     },
     "metadata": {},
     "output_type": "display_data"
    },
    {
     "name": "stderr",
     "output_type": "stream",
     "text": [
      "100%|██████████| 50/50 [03:44<00:00,  4.50s/it]\n"
     ]
    },
    {
     "name": "stdout",
     "output_type": "stream",
     "text": [
      "{'test_r2score': 0.9402220708427589, 'test_mse': 0.053476185, 'test_rmse': 0.23124918, 'test_mae': 0.11329821}\n"
     ]
    },
    {
     "data": {
      "text/plain": "<IPython.core.display.HTML object>",
      "text/html": "Waiting for W&B process to finish... <strong style=\"color:green\">(success).</strong>"
     },
     "metadata": {},
     "output_type": "display_data"
    },
    {
     "data": {
      "text/plain": "VBox(children=(Label(value='0.001 MB of 0.001 MB uploaded (0.000 MB deduped)\\r'), FloatProgress(value=1.0, max…",
      "application/vnd.jupyter.widget-view+json": {
       "version_major": 2,
       "version_minor": 0,
       "model_id": "f6a6f64ec66f4e92986052ab87c71171"
      }
     },
     "metadata": {},
     "output_type": "display_data"
    },
    {
     "data": {
      "text/plain": "<IPython.core.display.HTML object>",
      "text/html": "<style>\n    table.wandb td:nth-child(1) { padding: 0 10px; text-align: left ; width: auto;} td:nth-child(2) {text-align: left ; width: 100%}\n    .wandb-row { display: flex; flex-direction: row; flex-wrap: wrap; justify-content: flex-start; width: 100% }\n    .wandb-col { display: flex; flex-direction: column; flex-basis: 100%; flex: 1; padding: 10px; }\n    </style>\n<div class=\"wandb-row\"><div class=\"wandb-col\"><h3>Run history:</h3><br/><table class=\"wandb\"><tr><td>epochs</td><td>▁▁▁▁▂▂▂▂▂▃▃▃▃▃▃▄▄▄▄▄▅▅▅▅▅▅▆▆▆▆▆▆▇▇▇▇▇███</td></tr><tr><td>test_mae</td><td>▁█</td></tr><tr><td>test_mse</td><td>▁█</td></tr><tr><td>test_r2score</td><td>▁█</td></tr><tr><td>test_rmse</td><td>▁█</td></tr><tr><td>val_loss</td><td>▅█▇▅▅▅▄▃▃▄▃▃▄▂▃▇▄▃▃▂▆▁▂▃▂▃▂▃▇▃▁▂▁▁▂▃▂▃▄▂</td></tr><tr><td>val_mae</td><td>▁▇█▇▇▇▇▇▆▆▇▇▆▆▆▇▆▇▆▆▇▆▆▆▆▆▇▆▇▆▆▆▆▆▆▆▆▇▆▆</td></tr><tr><td>val_mse</td><td>▁▇██▆▇▆▆▅▆▆▆▅▅▅▇▅▆▆▅▇▅▅▅▅▆▆▅█▅▅▅▅▅▆▅▆▆▅▅</td></tr><tr><td>val_r2score</td><td>▁███████████████████████████████████████</td></tr><tr><td>val_rmse</td><td>▁▇██▇▇▇▇▆▇▇▇▆▆▇█▆▇▇▆█▆▆▆▆▇▇▇█▇▆▆▆▆▇▆▇▇▆▆</td></tr></table><br/></div><div class=\"wandb-col\"><h3>Run summary:</h3><br/><table class=\"wandb\"><tr><td>epochs</td><td>50</td></tr><tr><td>model name</td><td>mlp</td></tr><tr><td>test_mae</td><td>0.1133</td></tr><tr><td>test_mse</td><td>0.05348</td></tr><tr><td>test_r2score</td><td>0.94022</td></tr><tr><td>test_rmse</td><td>0.23125</td></tr><tr><td>val_loss</td><td>8.6853</td></tr><tr><td>val_mae</td><td>0.12174</td></tr><tr><td>val_mse</td><td>0.07454</td></tr><tr><td>val_r2score</td><td>0.95262</td></tr><tr><td>val_rmse</td><td>0.27303</td></tr></table><br/></div></div>"
     },
     "metadata": {},
     "output_type": "display_data"
    },
    {
     "data": {
      "text/plain": "<IPython.core.display.HTML object>",
      "text/html": " View run <strong style=\"color:#cdcd00\">stilted-sweep-4</strong> at: <a href='https://wandb.ai/leonardo-berti07/BDproject2/runs/ftcwf6g5' target=\"_blank\">https://wandb.ai/leonardo-berti07/BDproject2/runs/ftcwf6g5</a><br/>Synced 6 W&B file(s), 0 media file(s), 0 artifact file(s) and 0 other file(s)"
     },
     "metadata": {},
     "output_type": "display_data"
    },
    {
     "data": {
      "text/plain": "<IPython.core.display.HTML object>",
      "text/html": "Find logs at: <code>.\\wandb\\run-20230524_001521-ftcwf6g5\\logs</code>"
     },
     "metadata": {},
     "output_type": "display_data"
    },
    {
     "name": "stderr",
     "output_type": "stream",
     "text": [
      "\u001B[34m\u001B[1mwandb\u001B[0m: Sweep Agent: Waiting for job.\n",
      "\u001B[34m\u001B[1mwandb\u001B[0m: Job received.\n",
      "\u001B[34m\u001B[1mwandb\u001B[0m: Agent Starting Run: kujxzn9s with config:\n",
      "\u001B[34m\u001B[1mwandb\u001B[0m: \tbatch_size: 128\n",
      "\u001B[34m\u001B[1mwandb\u001B[0m: \tdropout: 0.2\n",
      "\u001B[34m\u001B[1mwandb\u001B[0m: \tepochs: 50\n",
      "\u001B[34m\u001B[1mwandb\u001B[0m: \teps: 1e-08\n",
      "\u001B[34m\u001B[1mwandb\u001B[0m: \tlr: 0.006159713700396236\n",
      "\u001B[34m\u001B[1mwandb\u001B[0m: \toptimizer: adam\n"
     ]
    },
    {
     "data": {
      "text/plain": "<IPython.core.display.HTML object>",
      "text/html": "Tracking run with wandb version 0.15.3"
     },
     "metadata": {},
     "output_type": "display_data"
    },
    {
     "data": {
      "text/plain": "<IPython.core.display.HTML object>",
      "text/html": "Run data is saved locally in <code>C:\\Users\\leona\\PycharmProjects\\BDC_project\\wandb\\run-20230524_001929-kujxzn9s</code>"
     },
     "metadata": {},
     "output_type": "display_data"
    },
    {
     "data": {
      "text/plain": "<IPython.core.display.HTML object>",
      "text/html": "Syncing run <strong><a href='https://wandb.ai/leonardo-berti07/BDproject2/runs/kujxzn9s' target=\"_blank\">giddy-sweep-5</a></strong> to <a href='https://wandb.ai/leonardo-berti07/BDproject2' target=\"_blank\">Weights & Biases</a> (<a href='https://wandb.me/run' target=\"_blank\">docs</a>)<br/>Sweep page: <a href='https://wandb.ai/leonardo-berti07/BDproject2/sweeps/vm5njxtd' target=\"_blank\">https://wandb.ai/leonardo-berti07/BDproject2/sweeps/vm5njxtd</a>"
     },
     "metadata": {},
     "output_type": "display_data"
    },
    {
     "data": {
      "text/plain": "<IPython.core.display.HTML object>",
      "text/html": " View project at <a href='https://wandb.ai/leonardo-berti07/BDproject2' target=\"_blank\">https://wandb.ai/leonardo-berti07/BDproject2</a>"
     },
     "metadata": {},
     "output_type": "display_data"
    },
    {
     "data": {
      "text/plain": "<IPython.core.display.HTML object>",
      "text/html": " View sweep at <a href='https://wandb.ai/leonardo-berti07/BDproject2/sweeps/vm5njxtd' target=\"_blank\">https://wandb.ai/leonardo-berti07/BDproject2/sweeps/vm5njxtd</a>"
     },
     "metadata": {},
     "output_type": "display_data"
    },
    {
     "data": {
      "text/plain": "<IPython.core.display.HTML object>",
      "text/html": " View run at <a href='https://wandb.ai/leonardo-berti07/BDproject2/runs/kujxzn9s' target=\"_blank\">https://wandb.ai/leonardo-berti07/BDproject2/runs/kujxzn9s</a>"
     },
     "metadata": {},
     "output_type": "display_data"
    },
    {
     "name": "stderr",
     "output_type": "stream",
     "text": [
      "100%|██████████| 50/50 [03:57<00:00,  4.75s/it]\n"
     ]
    },
    {
     "name": "stdout",
     "output_type": "stream",
     "text": [
      "{'test_r2score': 0.9473603921651296, 'test_mse': 0.047090374, 'test_rmse': 0.21700317, 'test_mae': 0.1043217}\n"
     ]
    },
    {
     "data": {
      "text/plain": "<IPython.core.display.HTML object>",
      "text/html": "Waiting for W&B process to finish... <strong style=\"color:green\">(success).</strong>"
     },
     "metadata": {},
     "output_type": "display_data"
    },
    {
     "data": {
      "text/plain": "<IPython.core.display.HTML object>",
      "text/html": "<style>\n    table.wandb td:nth-child(1) { padding: 0 10px; text-align: left ; width: auto;} td:nth-child(2) {text-align: left ; width: 100%}\n    .wandb-row { display: flex; flex-direction: row; flex-wrap: wrap; justify-content: flex-start; width: 100% }\n    .wandb-col { display: flex; flex-direction: column; flex-basis: 100%; flex: 1; padding: 10px; }\n    </style>\n<div class=\"wandb-row\"><div class=\"wandb-col\"><h3>Run history:</h3><br/><table class=\"wandb\"><tr><td>epochs</td><td>▁▁▁▁▂▂▂▂▂▃▃▃▃▃▃▄▄▄▄▄▅▅▅▅▅▅▆▆▆▆▆▆▇▇▇▇▇███</td></tr><tr><td>test_mae</td><td>▁█</td></tr><tr><td>test_mse</td><td>▁█</td></tr><tr><td>test_r2score</td><td>▁█</td></tr><tr><td>test_rmse</td><td>▁█</td></tr><tr><td>val_loss</td><td>▅▆▃▃▄▃▃▂▄█▂▂▇▂▂▄▂▂▄▄▂▂▁▁▃▂▂▂▂▃▂▂▃▂▂▁▂▂▂▂</td></tr><tr><td>val_mae</td><td>▁▇▇▇█▇▆▆▇▆▆▆▇▆▆▇█▆▆▇▆▆▆▆▆▆▆▆▆▆▆▆▆▆▆▆▆▆▆▆</td></tr><tr><td>val_mse</td><td>▁▆▆▅▇▆▅▅▇▆▅▅▅▅▅▆█▅▆▆▅▅▄▅▅▅▅▅▅▅▅▅▅▅▄▅▅▅▅▄</td></tr><tr><td>val_r2score</td><td>▁███████████████████████████████████████</td></tr><tr><td>val_rmse</td><td>▁▇▇▇█▇▆▆▇▇▆▆▆▆▆▇█▆▇▇▆▆▆▆▆▆▆▆▆▆▆▆▆▆▆▆▆▆▆▆</td></tr></table><br/></div><div class=\"wandb-col\"><h3>Run summary:</h3><br/><table class=\"wandb\"><tr><td>epochs</td><td>50</td></tr><tr><td>model name</td><td>mlp</td></tr><tr><td>test_mae</td><td>0.10432</td></tr><tr><td>test_mse</td><td>0.04709</td></tr><tr><td>test_r2score</td><td>0.94736</td></tr><tr><td>test_rmse</td><td>0.217</td></tr><tr><td>val_loss</td><td>7.05776</td></tr><tr><td>val_mae</td><td>0.10847</td></tr><tr><td>val_mse</td><td>0.05893</td></tr><tr><td>val_r2score</td><td>0.96254</td></tr><tr><td>val_rmse</td><td>0.24276</td></tr></table><br/></div></div>"
     },
     "metadata": {},
     "output_type": "display_data"
    },
    {
     "data": {
      "text/plain": "<IPython.core.display.HTML object>",
      "text/html": " View run <strong style=\"color:#cdcd00\">giddy-sweep-5</strong> at: <a href='https://wandb.ai/leonardo-berti07/BDproject2/runs/kujxzn9s' target=\"_blank\">https://wandb.ai/leonardo-berti07/BDproject2/runs/kujxzn9s</a><br/>Synced 6 W&B file(s), 0 media file(s), 0 artifact file(s) and 0 other file(s)"
     },
     "metadata": {},
     "output_type": "display_data"
    },
    {
     "data": {
      "text/plain": "<IPython.core.display.HTML object>",
      "text/html": "Find logs at: <code>.\\wandb\\run-20230524_001929-kujxzn9s\\logs</code>"
     },
     "metadata": {},
     "output_type": "display_data"
    },
    {
     "name": "stderr",
     "output_type": "stream",
     "text": [
      "\u001B[34m\u001B[1mwandb\u001B[0m: Agent Starting Run: c3dan8b1 with config:\n",
      "\u001B[34m\u001B[1mwandb\u001B[0m: \tbatch_size: 32\n",
      "\u001B[34m\u001B[1mwandb\u001B[0m: \tdropout: 0.2\n",
      "\u001B[34m\u001B[1mwandb\u001B[0m: \tepochs: 50\n",
      "\u001B[34m\u001B[1mwandb\u001B[0m: \teps: 1e-08\n",
      "\u001B[34m\u001B[1mwandb\u001B[0m: \tlr: 0.001297178035093911\n",
      "\u001B[34m\u001B[1mwandb\u001B[0m: \toptimizer: sgd\n"
     ]
    },
    {
     "data": {
      "text/plain": "<IPython.core.display.HTML object>",
      "text/html": "Tracking run with wandb version 0.15.3"
     },
     "metadata": {},
     "output_type": "display_data"
    },
    {
     "data": {
      "text/plain": "<IPython.core.display.HTML object>",
      "text/html": "Run data is saved locally in <code>C:\\Users\\leona\\PycharmProjects\\BDC_project\\wandb\\run-20230524_002346-c3dan8b1</code>"
     },
     "metadata": {},
     "output_type": "display_data"
    },
    {
     "data": {
      "text/plain": "<IPython.core.display.HTML object>",
      "text/html": "Syncing run <strong><a href='https://wandb.ai/leonardo-berti07/BDproject2/runs/c3dan8b1' target=\"_blank\">leafy-sweep-6</a></strong> to <a href='https://wandb.ai/leonardo-berti07/BDproject2' target=\"_blank\">Weights & Biases</a> (<a href='https://wandb.me/run' target=\"_blank\">docs</a>)<br/>Sweep page: <a href='https://wandb.ai/leonardo-berti07/BDproject2/sweeps/vm5njxtd' target=\"_blank\">https://wandb.ai/leonardo-berti07/BDproject2/sweeps/vm5njxtd</a>"
     },
     "metadata": {},
     "output_type": "display_data"
    },
    {
     "data": {
      "text/plain": "<IPython.core.display.HTML object>",
      "text/html": " View project at <a href='https://wandb.ai/leonardo-berti07/BDproject2' target=\"_blank\">https://wandb.ai/leonardo-berti07/BDproject2</a>"
     },
     "metadata": {},
     "output_type": "display_data"
    },
    {
     "data": {
      "text/plain": "<IPython.core.display.HTML object>",
      "text/html": " View sweep at <a href='https://wandb.ai/leonardo-berti07/BDproject2/sweeps/vm5njxtd' target=\"_blank\">https://wandb.ai/leonardo-berti07/BDproject2/sweeps/vm5njxtd</a>"
     },
     "metadata": {},
     "output_type": "display_data"
    },
    {
     "data": {
      "text/plain": "<IPython.core.display.HTML object>",
      "text/html": " View run at <a href='https://wandb.ai/leonardo-berti07/BDproject2/runs/c3dan8b1' target=\"_blank\">https://wandb.ai/leonardo-berti07/BDproject2/runs/c3dan8b1</a>"
     },
     "metadata": {},
     "output_type": "display_data"
    },
    {
     "name": "stderr",
     "output_type": "stream",
     "text": [
      "100%|██████████| 50/50 [12:49<00:00, 15.38s/it]\n"
     ]
    },
    {
     "name": "stdout",
     "output_type": "stream",
     "text": [
      "{'test_r2score': 0.9335603919342865, 'test_mse': 0.059435587, 'test_rmse': 0.24379414, 'test_mae': 0.11050989}\n"
     ]
    },
    {
     "data": {
      "text/plain": "<IPython.core.display.HTML object>",
      "text/html": "Waiting for W&B process to finish... <strong style=\"color:green\">(success).</strong>"
     },
     "metadata": {},
     "output_type": "display_data"
    },
    {
     "data": {
      "text/plain": "VBox(children=(Label(value='0.001 MB of 0.001 MB uploaded (0.000 MB deduped)\\r'), FloatProgress(value=1.0, max…",
      "application/vnd.jupyter.widget-view+json": {
       "version_major": 2,
       "version_minor": 0,
       "model_id": "08f710065fcc422eb17374fd6775bff9"
      }
     },
     "metadata": {},
     "output_type": "display_data"
    },
    {
     "data": {
      "text/plain": "<IPython.core.display.HTML object>",
      "text/html": "<style>\n    table.wandb td:nth-child(1) { padding: 0 10px; text-align: left ; width: auto;} td:nth-child(2) {text-align: left ; width: 100%}\n    .wandb-row { display: flex; flex-direction: row; flex-wrap: wrap; justify-content: flex-start; width: 100% }\n    .wandb-col { display: flex; flex-direction: column; flex-basis: 100%; flex: 1; padding: 10px; }\n    </style>\n<div class=\"wandb-row\"><div class=\"wandb-col\"><h3>Run history:</h3><br/><table class=\"wandb\"><tr><td>epochs</td><td>▁▁▁▁▂▂▂▂▂▃▃▃▃▃▃▄▄▄▄▄▅▅▅▅▅▅▆▆▆▆▆▆▇▇▇▇▇███</td></tr><tr><td>test_mae</td><td>▁█</td></tr><tr><td>test_mse</td><td>▁█</td></tr><tr><td>test_r2score</td><td>▁█</td></tr><tr><td>test_rmse</td><td>▁█</td></tr><tr><td>val_loss</td><td>█▃▃▁▅▂▂▆▂▁▃▁▃▁▃▂▁▁▂▁▂▁▂▂▁▂▂▁▁▄▂▂▂▁▃▂▂▁▂▂</td></tr><tr><td>val_mae</td><td>▁█▆▅▅▆▅▆▅▅▅▄▅▄▅▅▅▅▅▅▅▄▅▅▅▅▅▅▄▆▅▅▅▅▅▅▄▅▄▄</td></tr><tr><td>val_mse</td><td>▁█▄▅▄▆▄▇▄▄▄▄▅▃▄▄▄▃▄▃▄▃▄▄▄▄▃▄▃▅▄▄▄▄▄▄▄▄▃▃</td></tr><tr><td>val_r2score</td><td>▁▇█████▇████████████████████████████████</td></tr><tr><td>val_rmse</td><td>▁█▆▆▆▇▆▇▆▅▆▅▆▅▆▆▆▅▆▅▅▅▆▅▅▅▅▅▅▆▆▆▆▆▆▅▅▆▅▅</td></tr></table><br/></div><div class=\"wandb-col\"><h3>Run summary:</h3><br/><table class=\"wandb\"><tr><td>epochs</td><td>50</td></tr><tr><td>model name</td><td>mlp</td></tr><tr><td>test_mae</td><td>0.11051</td></tr><tr><td>test_mse</td><td>0.05944</td></tr><tr><td>test_r2score</td><td>0.93356</td></tr><tr><td>test_rmse</td><td>0.24379</td></tr><tr><td>val_loss</td><td>45.44568</td></tr><tr><td>val_mae</td><td>0.12022</td></tr><tr><td>val_mse</td><td>0.08674</td></tr><tr><td>val_r2score</td><td>0.94486</td></tr><tr><td>val_rmse</td><td>0.29452</td></tr></table><br/></div></div>"
     },
     "metadata": {},
     "output_type": "display_data"
    },
    {
     "data": {
      "text/plain": "<IPython.core.display.HTML object>",
      "text/html": " View run <strong style=\"color:#cdcd00\">leafy-sweep-6</strong> at: <a href='https://wandb.ai/leonardo-berti07/BDproject2/runs/c3dan8b1' target=\"_blank\">https://wandb.ai/leonardo-berti07/BDproject2/runs/c3dan8b1</a><br/>Synced 6 W&B file(s), 0 media file(s), 0 artifact file(s) and 0 other file(s)"
     },
     "metadata": {},
     "output_type": "display_data"
    },
    {
     "data": {
      "text/plain": "<IPython.core.display.HTML object>",
      "text/html": "Find logs at: <code>.\\wandb\\run-20230524_002346-c3dan8b1\\logs</code>"
     },
     "metadata": {},
     "output_type": "display_data"
    },
    {
     "name": "stderr",
     "output_type": "stream",
     "text": [
      "\u001B[34m\u001B[1mwandb\u001B[0m: Agent Starting Run: 0pg8ac18 with config:\n",
      "\u001B[34m\u001B[1mwandb\u001B[0m: \tbatch_size: 32\n",
      "\u001B[34m\u001B[1mwandb\u001B[0m: \tdropout: 0.2\n",
      "\u001B[34m\u001B[1mwandb\u001B[0m: \tepochs: 50\n",
      "\u001B[34m\u001B[1mwandb\u001B[0m: \teps: 1e-08\n",
      "\u001B[34m\u001B[1mwandb\u001B[0m: \tlr: 0.005186895380658306\n",
      "\u001B[34m\u001B[1mwandb\u001B[0m: \toptimizer: adam\n"
     ]
    },
    {
     "data": {
      "text/plain": "<IPython.core.display.HTML object>",
      "text/html": "Tracking run with wandb version 0.15.3"
     },
     "metadata": {},
     "output_type": "display_data"
    },
    {
     "data": {
      "text/plain": "<IPython.core.display.HTML object>",
      "text/html": "Run data is saved locally in <code>C:\\Users\\leona\\PycharmProjects\\BDC_project\\wandb\\run-20230524_003715-0pg8ac18</code>"
     },
     "metadata": {},
     "output_type": "display_data"
    },
    {
     "data": {
      "text/plain": "<IPython.core.display.HTML object>",
      "text/html": "Syncing run <strong><a href='https://wandb.ai/leonardo-berti07/BDproject2/runs/0pg8ac18' target=\"_blank\">scarlet-sweep-7</a></strong> to <a href='https://wandb.ai/leonardo-berti07/BDproject2' target=\"_blank\">Weights & Biases</a> (<a href='https://wandb.me/run' target=\"_blank\">docs</a>)<br/>Sweep page: <a href='https://wandb.ai/leonardo-berti07/BDproject2/sweeps/vm5njxtd' target=\"_blank\">https://wandb.ai/leonardo-berti07/BDproject2/sweeps/vm5njxtd</a>"
     },
     "metadata": {},
     "output_type": "display_data"
    },
    {
     "data": {
      "text/plain": "<IPython.core.display.HTML object>",
      "text/html": " View project at <a href='https://wandb.ai/leonardo-berti07/BDproject2' target=\"_blank\">https://wandb.ai/leonardo-berti07/BDproject2</a>"
     },
     "metadata": {},
     "output_type": "display_data"
    },
    {
     "data": {
      "text/plain": "<IPython.core.display.HTML object>",
      "text/html": " View sweep at <a href='https://wandb.ai/leonardo-berti07/BDproject2/sweeps/vm5njxtd' target=\"_blank\">https://wandb.ai/leonardo-berti07/BDproject2/sweeps/vm5njxtd</a>"
     },
     "metadata": {},
     "output_type": "display_data"
    },
    {
     "data": {
      "text/plain": "<IPython.core.display.HTML object>",
      "text/html": " View run at <a href='https://wandb.ai/leonardo-berti07/BDproject2/runs/0pg8ac18' target=\"_blank\">https://wandb.ai/leonardo-berti07/BDproject2/runs/0pg8ac18</a>"
     },
     "metadata": {},
     "output_type": "display_data"
    },
    {
     "name": "stderr",
     "output_type": "stream",
     "text": [
      "100%|██████████| 50/50 [14:01<00:00, 16.84s/it]\n"
     ]
    },
    {
     "name": "stdout",
     "output_type": "stream",
     "text": [
      "{'test_r2score': 0.9395969871529402, 'test_mse': 0.05403537, 'test_rmse': 0.23245509, 'test_mae': 0.10689368}\n"
     ]
    },
    {
     "data": {
      "text/plain": "<IPython.core.display.HTML object>",
      "text/html": "Waiting for W&B process to finish... <strong style=\"color:green\">(success).</strong>"
     },
     "metadata": {},
     "output_type": "display_data"
    },
    {
     "data": {
      "text/plain": "<IPython.core.display.HTML object>",
      "text/html": "<style>\n    table.wandb td:nth-child(1) { padding: 0 10px; text-align: left ; width: auto;} td:nth-child(2) {text-align: left ; width: 100%}\n    .wandb-row { display: flex; flex-direction: row; flex-wrap: wrap; justify-content: flex-start; width: 100% }\n    .wandb-col { display: flex; flex-direction: column; flex-basis: 100%; flex: 1; padding: 10px; }\n    </style>\n<div class=\"wandb-row\"><div class=\"wandb-col\"><h3>Run history:</h3><br/><table class=\"wandb\"><tr><td>epochs</td><td>▁▁▁▁▂▂▂▂▂▃▃▃▃▃▃▄▄▄▄▄▅▅▅▅▅▅▆▆▆▆▆▆▇▇▇▇▇███</td></tr><tr><td>test_mae</td><td>▁█</td></tr><tr><td>test_mse</td><td>▁█</td></tr><tr><td>test_r2score</td><td>▁█</td></tr><tr><td>test_rmse</td><td>▁█</td></tr><tr><td>val_loss</td><td>▆▃▃▄▇▆▅▇▁▂▂▃▄▃▃▃▂▃▅▅▂▃▄▄█▆▅▄▂▃▄▄▄▅▄▅▄▃▅▄</td></tr><tr><td>val_mae</td><td>▁█▇▆▇▇▇▇▆▆▆▇▆▆▇▆█▆█▇▆▆▆▇█▇▇▆▆▆▇▆▆▆▆▆▆▆▆▆</td></tr><tr><td>val_mse</td><td>▁▇▅▅▇▇▆▇▅▄▅▅▆▅▅▅█▅▆▆▅▅▆▆▇▇▆▆▅▅▆▅▆▆▆▆▅▆▆▄</td></tr><tr><td>val_r2score</td><td>▁███████████████████████████████████████</td></tr><tr><td>val_rmse</td><td>▁▇▇▆▇▇▇▇▆▆▆▇▇▆▇▆█▆▇▇▆▆▇▇█▇▇▇▆▇▇▆▇▇▇▇▇▇▇▆</td></tr></table><br/></div><div class=\"wandb-col\"><h3>Run summary:</h3><br/><table class=\"wandb\"><tr><td>epochs</td><td>50</td></tr><tr><td>model name</td><td>mlp</td></tr><tr><td>test_mae</td><td>0.10689</td></tr><tr><td>test_mse</td><td>0.05404</td></tr><tr><td>test_r2score</td><td>0.9396</td></tr><tr><td>test_rmse</td><td>0.23246</td></tr><tr><td>val_loss</td><td>45.56597</td></tr><tr><td>val_mae</td><td>0.11637</td></tr><tr><td>val_mse</td><td>0.07918</td></tr><tr><td>val_r2score</td><td>0.94967</td></tr><tr><td>val_rmse</td><td>0.28139</td></tr></table><br/></div></div>"
     },
     "metadata": {},
     "output_type": "display_data"
    },
    {
     "data": {
      "text/plain": "<IPython.core.display.HTML object>",
      "text/html": " View run <strong style=\"color:#cdcd00\">scarlet-sweep-7</strong> at: <a href='https://wandb.ai/leonardo-berti07/BDproject2/runs/0pg8ac18' target=\"_blank\">https://wandb.ai/leonardo-berti07/BDproject2/runs/0pg8ac18</a><br/>Synced 6 W&B file(s), 0 media file(s), 0 artifact file(s) and 0 other file(s)"
     },
     "metadata": {},
     "output_type": "display_data"
    },
    {
     "data": {
      "text/plain": "<IPython.core.display.HTML object>",
      "text/html": "Find logs at: <code>.\\wandb\\run-20230524_003715-0pg8ac18\\logs</code>"
     },
     "metadata": {},
     "output_type": "display_data"
    },
    {
     "name": "stderr",
     "output_type": "stream",
     "text": [
      "\u001B[34m\u001B[1mwandb\u001B[0m: Agent Starting Run: h08ih9mz with config:\n",
      "\u001B[34m\u001B[1mwandb\u001B[0m: \tbatch_size: 32\n",
      "\u001B[34m\u001B[1mwandb\u001B[0m: \tdropout: 0.2\n",
      "\u001B[34m\u001B[1mwandb\u001B[0m: \tepochs: 50\n",
      "\u001B[34m\u001B[1mwandb\u001B[0m: \teps: 1e-08\n",
      "\u001B[34m\u001B[1mwandb\u001B[0m: \tlr: 0.003537173198854546\n",
      "\u001B[34m\u001B[1mwandb\u001B[0m: \toptimizer: sgd\n"
     ]
    },
    {
     "data": {
      "text/plain": "<IPython.core.display.HTML object>",
      "text/html": "Tracking run with wandb version 0.15.3"
     },
     "metadata": {},
     "output_type": "display_data"
    },
    {
     "data": {
      "text/plain": "<IPython.core.display.HTML object>",
      "text/html": "Run data is saved locally in <code>C:\\Users\\leona\\PycharmProjects\\BDC_project\\wandb\\run-20230524_005155-h08ih9mz</code>"
     },
     "metadata": {},
     "output_type": "display_data"
    },
    {
     "data": {
      "text/plain": "<IPython.core.display.HTML object>",
      "text/html": "Syncing run <strong><a href='https://wandb.ai/leonardo-berti07/BDproject2/runs/h08ih9mz' target=\"_blank\">fanciful-sweep-8</a></strong> to <a href='https://wandb.ai/leonardo-berti07/BDproject2' target=\"_blank\">Weights & Biases</a> (<a href='https://wandb.me/run' target=\"_blank\">docs</a>)<br/>Sweep page: <a href='https://wandb.ai/leonardo-berti07/BDproject2/sweeps/vm5njxtd' target=\"_blank\">https://wandb.ai/leonardo-berti07/BDproject2/sweeps/vm5njxtd</a>"
     },
     "metadata": {},
     "output_type": "display_data"
    },
    {
     "data": {
      "text/plain": "<IPython.core.display.HTML object>",
      "text/html": " View project at <a href='https://wandb.ai/leonardo-berti07/BDproject2' target=\"_blank\">https://wandb.ai/leonardo-berti07/BDproject2</a>"
     },
     "metadata": {},
     "output_type": "display_data"
    },
    {
     "data": {
      "text/plain": "<IPython.core.display.HTML object>",
      "text/html": " View sweep at <a href='https://wandb.ai/leonardo-berti07/BDproject2/sweeps/vm5njxtd' target=\"_blank\">https://wandb.ai/leonardo-berti07/BDproject2/sweeps/vm5njxtd</a>"
     },
     "metadata": {},
     "output_type": "display_data"
    },
    {
     "data": {
      "text/plain": "<IPython.core.display.HTML object>",
      "text/html": " View run at <a href='https://wandb.ai/leonardo-berti07/BDproject2/runs/h08ih9mz' target=\"_blank\">https://wandb.ai/leonardo-berti07/BDproject2/runs/h08ih9mz</a>"
     },
     "metadata": {},
     "output_type": "display_data"
    },
    {
     "name": "stderr",
     "output_type": "stream",
     "text": [
      "100%|██████████| 50/50 [12:45<00:00, 15.31s/it]\n"
     ]
    },
    {
     "name": "stdout",
     "output_type": "stream",
     "text": [
      "{'test_r2score': 0.9401766906815179, 'test_mse': 0.053516783, 'test_rmse': 0.23133695, 'test_mae': 0.10452997}\n"
     ]
    },
    {
     "data": {
      "text/plain": "<IPython.core.display.HTML object>",
      "text/html": "Waiting for W&B process to finish... <strong style=\"color:green\">(success).</strong>"
     },
     "metadata": {},
     "output_type": "display_data"
    },
    {
     "data": {
      "text/plain": "VBox(children=(Label(value='0.001 MB of 0.001 MB uploaded (0.000 MB deduped)\\r'), FloatProgress(value=1.0, max…",
      "application/vnd.jupyter.widget-view+json": {
       "version_major": 2,
       "version_minor": 0,
       "model_id": "c9aa312769f9429cbf6e7cb33766cc31"
      }
     },
     "metadata": {},
     "output_type": "display_data"
    },
    {
     "data": {
      "text/plain": "<IPython.core.display.HTML object>",
      "text/html": "<style>\n    table.wandb td:nth-child(1) { padding: 0 10px; text-align: left ; width: auto;} td:nth-child(2) {text-align: left ; width: 100%}\n    .wandb-row { display: flex; flex-direction: row; flex-wrap: wrap; justify-content: flex-start; width: 100% }\n    .wandb-col { display: flex; flex-direction: column; flex-basis: 100%; flex: 1; padding: 10px; }\n    </style>\n<div class=\"wandb-row\"><div class=\"wandb-col\"><h3>Run history:</h3><br/><table class=\"wandb\"><tr><td>epochs</td><td>▁▁▁▁▂▂▂▂▂▃▃▃▃▃▃▄▄▄▄▄▅▅▅▅▅▅▆▆▆▆▆▆▇▇▇▇▇███</td></tr><tr><td>test_mae</td><td>▁█</td></tr><tr><td>test_mse</td><td>▁█</td></tr><tr><td>test_r2score</td><td>▁█</td></tr><tr><td>test_rmse</td><td>▁█</td></tr><tr><td>val_loss</td><td>▄▃▄▃▄█▃▅▅▂▄▅▃▄▄▄▃▂▂▃▁▂▂▂▂▆▅▃▃▄▃▄▆▃▄▃▃▄▃▄</td></tr><tr><td>val_mae</td><td>▁▇▇█▆▇█▇▇▇▇▇▇▇▇▇▇▆▆▆▆▇▆▇▇▇▇▆▆▇▆▇█▆▆▇▇▆▆▆</td></tr><tr><td>val_mse</td><td>▁▆▅▆▅▆█▇▅▆▆▆▆▆▆▆▅▅▅▅▄▅▅▆▅▇▅▅▆▆▆▆▇▆▅▆▆▅▅▄</td></tr><tr><td>val_r2score</td><td>▁███████████████████████████████████████</td></tr><tr><td>val_rmse</td><td>▁▇▇▇▆▇█▇▆▇▇▇▇▇▇▇▇▆▆▆▆▆▆▇▆▇▆▆▇▇▇▇█▇▇▇▇▆▆▆</td></tr></table><br/></div><div class=\"wandb-col\"><h3>Run summary:</h3><br/><table class=\"wandb\"><tr><td>epochs</td><td>50</td></tr><tr><td>model name</td><td>mlp</td></tr><tr><td>test_mae</td><td>0.10453</td></tr><tr><td>test_mse</td><td>0.05352</td></tr><tr><td>test_r2score</td><td>0.94018</td></tr><tr><td>test_rmse</td><td>0.23134</td></tr><tr><td>val_loss</td><td>49.05705</td></tr><tr><td>val_mae</td><td>0.11465</td></tr><tr><td>val_mse</td><td>0.08154</td></tr><tr><td>val_r2score</td><td>0.94817</td></tr><tr><td>val_rmse</td><td>0.28555</td></tr></table><br/></div></div>"
     },
     "metadata": {},
     "output_type": "display_data"
    },
    {
     "data": {
      "text/plain": "<IPython.core.display.HTML object>",
      "text/html": " View run <strong style=\"color:#cdcd00\">fanciful-sweep-8</strong> at: <a href='https://wandb.ai/leonardo-berti07/BDproject2/runs/h08ih9mz' target=\"_blank\">https://wandb.ai/leonardo-berti07/BDproject2/runs/h08ih9mz</a><br/>Synced 6 W&B file(s), 0 media file(s), 0 artifact file(s) and 0 other file(s)"
     },
     "metadata": {},
     "output_type": "display_data"
    },
    {
     "data": {
      "text/plain": "<IPython.core.display.HTML object>",
      "text/html": "Find logs at: <code>.\\wandb\\run-20230524_005155-h08ih9mz\\logs</code>"
     },
     "metadata": {},
     "output_type": "display_data"
    },
    {
     "name": "stderr",
     "output_type": "stream",
     "text": [
      "\u001B[34m\u001B[1mwandb\u001B[0m: Agent Starting Run: 04x89bfy with config:\n",
      "\u001B[34m\u001B[1mwandb\u001B[0m: \tbatch_size: 32\n",
      "\u001B[34m\u001B[1mwandb\u001B[0m: \tdropout: 0.2\n",
      "\u001B[34m\u001B[1mwandb\u001B[0m: \tepochs: 50\n",
      "\u001B[34m\u001B[1mwandb\u001B[0m: \teps: 1e-08\n",
      "\u001B[34m\u001B[1mwandb\u001B[0m: \tlr: 0.0018862023770117977\n",
      "\u001B[34m\u001B[1mwandb\u001B[0m: \toptimizer: adam\n"
     ]
    },
    {
     "data": {
      "text/plain": "<IPython.core.display.HTML object>",
      "text/html": "Tracking run with wandb version 0.15.3"
     },
     "metadata": {},
     "output_type": "display_data"
    },
    {
     "data": {
      "text/plain": "<IPython.core.display.HTML object>",
      "text/html": "Run data is saved locally in <code>C:\\Users\\leona\\PycharmProjects\\BDC_project\\wandb\\run-20230524_010522-04x89bfy</code>"
     },
     "metadata": {},
     "output_type": "display_data"
    },
    {
     "data": {
      "text/plain": "<IPython.core.display.HTML object>",
      "text/html": "Syncing run <strong><a href='https://wandb.ai/leonardo-berti07/BDproject2/runs/04x89bfy' target=\"_blank\">resilient-sweep-9</a></strong> to <a href='https://wandb.ai/leonardo-berti07/BDproject2' target=\"_blank\">Weights & Biases</a> (<a href='https://wandb.me/run' target=\"_blank\">docs</a>)<br/>Sweep page: <a href='https://wandb.ai/leonardo-berti07/BDproject2/sweeps/vm5njxtd' target=\"_blank\">https://wandb.ai/leonardo-berti07/BDproject2/sweeps/vm5njxtd</a>"
     },
     "metadata": {},
     "output_type": "display_data"
    },
    {
     "data": {
      "text/plain": "<IPython.core.display.HTML object>",
      "text/html": " View project at <a href='https://wandb.ai/leonardo-berti07/BDproject2' target=\"_blank\">https://wandb.ai/leonardo-berti07/BDproject2</a>"
     },
     "metadata": {},
     "output_type": "display_data"
    },
    {
     "data": {
      "text/plain": "<IPython.core.display.HTML object>",
      "text/html": " View sweep at <a href='https://wandb.ai/leonardo-berti07/BDproject2/sweeps/vm5njxtd' target=\"_blank\">https://wandb.ai/leonardo-berti07/BDproject2/sweeps/vm5njxtd</a>"
     },
     "metadata": {},
     "output_type": "display_data"
    },
    {
     "data": {
      "text/plain": "<IPython.core.display.HTML object>",
      "text/html": " View run at <a href='https://wandb.ai/leonardo-berti07/BDproject2/runs/04x89bfy' target=\"_blank\">https://wandb.ai/leonardo-berti07/BDproject2/runs/04x89bfy</a>"
     },
     "metadata": {},
     "output_type": "display_data"
    },
    {
     "name": "stderr",
     "output_type": "stream",
     "text": [
      "100%|██████████| 50/50 [14:08<00:00, 16.97s/it]\n"
     ]
    },
    {
     "name": "stdout",
     "output_type": "stream",
     "text": [
      "{'test_r2score': 0.9402163119863111, 'test_mse': 0.053481333, 'test_rmse': 0.23126031, 'test_mae': 0.103928424}\n"
     ]
    },
    {
     "data": {
      "text/plain": "<IPython.core.display.HTML object>",
      "text/html": "Waiting for W&B process to finish... <strong style=\"color:green\">(success).</strong>"
     },
     "metadata": {},
     "output_type": "display_data"
    },
    {
     "data": {
      "text/plain": "VBox(children=(Label(value='0.001 MB of 0.001 MB uploaded (0.000 MB deduped)\\r'), FloatProgress(value=1.0, max…",
      "application/vnd.jupyter.widget-view+json": {
       "version_major": 2,
       "version_minor": 0,
       "model_id": "fc052ac4078b4d30b29a305a0e088db4"
      }
     },
     "metadata": {},
     "output_type": "display_data"
    },
    {
     "data": {
      "text/plain": "<IPython.core.display.HTML object>",
      "text/html": "<style>\n    table.wandb td:nth-child(1) { padding: 0 10px; text-align: left ; width: auto;} td:nth-child(2) {text-align: left ; width: 100%}\n    .wandb-row { display: flex; flex-direction: row; flex-wrap: wrap; justify-content: flex-start; width: 100% }\n    .wandb-col { display: flex; flex-direction: column; flex-basis: 100%; flex: 1; padding: 10px; }\n    </style>\n<div class=\"wandb-row\"><div class=\"wandb-col\"><h3>Run history:</h3><br/><table class=\"wandb\"><tr><td>epochs</td><td>▁▁▁▁▂▂▂▂▂▃▃▃▃▃▃▄▄▄▄▄▅▅▅▅▅▅▆▆▆▆▆▆▇▇▇▇▇███</td></tr><tr><td>test_mae</td><td>▁█</td></tr><tr><td>test_mse</td><td>▁█</td></tr><tr><td>test_r2score</td><td>▁█</td></tr><tr><td>test_rmse</td><td>▁█</td></tr><tr><td>val_loss</td><td>▄▅▆▃▄▅▄▅▂▄▁▅▄▃▃█▂▅▄▃▂▄▂▂▆▄▃▃▅▃▄▃▃▅▃▃▄▆▃▃</td></tr><tr><td>val_mae</td><td>▁█▇▇▆▆▇▇▇▆▆▇▇▇▆▇▆▇▇▆▆▇▆▆▇▆▆▇▇▆▆▆▆▆▆▆▇▆▆▆</td></tr><tr><td>val_mse</td><td>▁▆▆▇▅▆▆▆▇▄▄▆▆▅▅█▅▆▆▅▅▆▅▅▇▆▅▆▆▅▅▅▅▅▅▆▇▅▅▄</td></tr><tr><td>val_r2score</td><td>▁███████████████████████████████████████</td></tr><tr><td>val_rmse</td><td>▁▇▇▇▆▇▇▇▇▆▆▇▇▇▇█▆▇▇▇▆▇▆▆▇▇▆▇▇▆▆▆▆▆▆▇█▆▆▆</td></tr></table><br/></div><div class=\"wandb-col\"><h3>Run summary:</h3><br/><table class=\"wandb\"><tr><td>epochs</td><td>50</td></tr><tr><td>model name</td><td>mlp</td></tr><tr><td>test_mae</td><td>0.10393</td></tr><tr><td>test_mse</td><td>0.05348</td></tr><tr><td>test_r2score</td><td>0.94022</td></tr><tr><td>test_rmse</td><td>0.23126</td></tr><tr><td>val_loss</td><td>37.57065</td></tr><tr><td>val_mae</td><td>0.11021</td></tr><tr><td>val_mse</td><td>0.06942</td></tr><tr><td>val_r2score</td><td>0.95587</td></tr><tr><td>val_rmse</td><td>0.26348</td></tr></table><br/></div></div>"
     },
     "metadata": {},
     "output_type": "display_data"
    },
    {
     "data": {
      "text/plain": "<IPython.core.display.HTML object>",
      "text/html": " View run <strong style=\"color:#cdcd00\">resilient-sweep-9</strong> at: <a href='https://wandb.ai/leonardo-berti07/BDproject2/runs/04x89bfy' target=\"_blank\">https://wandb.ai/leonardo-berti07/BDproject2/runs/04x89bfy</a><br/>Synced 6 W&B file(s), 0 media file(s), 0 artifact file(s) and 0 other file(s)"
     },
     "metadata": {},
     "output_type": "display_data"
    },
    {
     "data": {
      "text/plain": "<IPython.core.display.HTML object>",
      "text/html": "Find logs at: <code>.\\wandb\\run-20230524_010522-04x89bfy\\logs</code>"
     },
     "metadata": {},
     "output_type": "display_data"
    },
    {
     "name": "stderr",
     "output_type": "stream",
     "text": [
      "\u001B[34m\u001B[1mwandb\u001B[0m: Agent Starting Run: 6pd9qdvd with config:\n",
      "\u001B[34m\u001B[1mwandb\u001B[0m: \tbatch_size: 32\n",
      "\u001B[34m\u001B[1mwandb\u001B[0m: \tdropout: 0.2\n",
      "\u001B[34m\u001B[1mwandb\u001B[0m: \tepochs: 50\n",
      "\u001B[34m\u001B[1mwandb\u001B[0m: \teps: 1e-08\n",
      "\u001B[34m\u001B[1mwandb\u001B[0m: \tlr: 0.002807885647267572\n",
      "\u001B[34m\u001B[1mwandb\u001B[0m: \toptimizer: sgd\n"
     ]
    },
    {
     "data": {
      "text/plain": "<IPython.core.display.HTML object>",
      "text/html": "Tracking run with wandb version 0.15.3"
     },
     "metadata": {},
     "output_type": "display_data"
    },
    {
     "data": {
      "text/plain": "<IPython.core.display.HTML object>",
      "text/html": "Run data is saved locally in <code>C:\\Users\\leona\\PycharmProjects\\BDC_project\\wandb\\run-20230524_012007-6pd9qdvd</code>"
     },
     "metadata": {},
     "output_type": "display_data"
    },
    {
     "data": {
      "text/plain": "<IPython.core.display.HTML object>",
      "text/html": "Syncing run <strong><a href='https://wandb.ai/leonardo-berti07/BDproject2/runs/6pd9qdvd' target=\"_blank\">resilient-sweep-10</a></strong> to <a href='https://wandb.ai/leonardo-berti07/BDproject2' target=\"_blank\">Weights & Biases</a> (<a href='https://wandb.me/run' target=\"_blank\">docs</a>)<br/>Sweep page: <a href='https://wandb.ai/leonardo-berti07/BDproject2/sweeps/vm5njxtd' target=\"_blank\">https://wandb.ai/leonardo-berti07/BDproject2/sweeps/vm5njxtd</a>"
     },
     "metadata": {},
     "output_type": "display_data"
    },
    {
     "data": {
      "text/plain": "<IPython.core.display.HTML object>",
      "text/html": " View project at <a href='https://wandb.ai/leonardo-berti07/BDproject2' target=\"_blank\">https://wandb.ai/leonardo-berti07/BDproject2</a>"
     },
     "metadata": {},
     "output_type": "display_data"
    },
    {
     "data": {
      "text/plain": "<IPython.core.display.HTML object>",
      "text/html": " View sweep at <a href='https://wandb.ai/leonardo-berti07/BDproject2/sweeps/vm5njxtd' target=\"_blank\">https://wandb.ai/leonardo-berti07/BDproject2/sweeps/vm5njxtd</a>"
     },
     "metadata": {},
     "output_type": "display_data"
    },
    {
     "data": {
      "text/plain": "<IPython.core.display.HTML object>",
      "text/html": " View run at <a href='https://wandb.ai/leonardo-berti07/BDproject2/runs/6pd9qdvd' target=\"_blank\">https://wandb.ai/leonardo-berti07/BDproject2/runs/6pd9qdvd</a>"
     },
     "metadata": {},
     "output_type": "display_data"
    },
    {
     "name": "stderr",
     "output_type": "stream",
     "text": [
      "100%|██████████| 50/50 [12:45<00:00, 15.30s/it]\n"
     ]
    },
    {
     "name": "stdout",
     "output_type": "stream",
     "text": [
      "{'test_r2score': 0.9307523965017371, 'test_mse': 0.06194757, 'test_rmse': 0.24889268, 'test_mae': 0.11662278}\n"
     ]
    },
    {
     "data": {
      "text/plain": "<IPython.core.display.HTML object>",
      "text/html": "Waiting for W&B process to finish... <strong style=\"color:green\">(success).</strong>"
     },
     "metadata": {},
     "output_type": "display_data"
    },
    {
     "data": {
      "text/plain": "<IPython.core.display.HTML object>",
      "text/html": "<style>\n    table.wandb td:nth-child(1) { padding: 0 10px; text-align: left ; width: auto;} td:nth-child(2) {text-align: left ; width: 100%}\n    .wandb-row { display: flex; flex-direction: row; flex-wrap: wrap; justify-content: flex-start; width: 100% }\n    .wandb-col { display: flex; flex-direction: column; flex-basis: 100%; flex: 1; padding: 10px; }\n    </style>\n<div class=\"wandb-row\"><div class=\"wandb-col\"><h3>Run history:</h3><br/><table class=\"wandb\"><tr><td>epochs</td><td>▁▁▁▁▂▂▂▂▂▃▃▃▃▃▃▄▄▄▄▄▅▅▅▅▅▅▆▆▆▆▆▆▇▇▇▇▇███</td></tr><tr><td>test_mae</td><td>▁█</td></tr><tr><td>test_mse</td><td>▁█</td></tr><tr><td>test_r2score</td><td>▁█</td></tr><tr><td>test_rmse</td><td>▁█</td></tr><tr><td>val_loss</td><td>▃▃▂▅▃▂▃▂▄▃▂▁▂▂▂█▁▄▃▂▃▄▂▁▁▂▃▁▄▅▁▂▂▂▄▂▂▃▁▃</td></tr><tr><td>val_mae</td><td>▁▇▆▆█▆▆▆▇▇▆▅▇▆▆█▆▆▆▆▆▆▆▆▆▆▅▅▆▇▆▅▅▆▅▅▆▅▆▅</td></tr><tr><td>val_mse</td><td>▁▅▅▅█▅▅▅▆▆▄▄▆▄▅█▅▅▅▄▅▆▄▅▄▄▄▄▆▆▄▄▄▅▄▄▅▄▄▄</td></tr><tr><td>val_r2score</td><td>▁███▇██████████▇████████████████████████</td></tr><tr><td>val_rmse</td><td>▁▆▆▆█▆▆▆▇▇▆▆▇▆▆█▆▇▆▆▆▇▆▆▆▆▅▆▇▇▆▆▆▇▆▆▆▆▆▅</td></tr></table><br/></div><div class=\"wandb-col\"><h3>Run summary:</h3><br/><table class=\"wandb\"><tr><td>epochs</td><td>50</td></tr><tr><td>model name</td><td>mlp</td></tr><tr><td>test_mae</td><td>0.11662</td></tr><tr><td>test_mse</td><td>0.06195</td></tr><tr><td>test_r2score</td><td>0.93075</td></tr><tr><td>test_rmse</td><td>0.24889</td></tr><tr><td>val_loss</td><td>50.8697</td></tr><tr><td>val_mae</td><td>0.1276</td></tr><tr><td>val_mse</td><td>0.09129</td></tr><tr><td>val_r2score</td><td>0.94197</td></tr><tr><td>val_rmse</td><td>0.30214</td></tr></table><br/></div></div>"
     },
     "metadata": {},
     "output_type": "display_data"
    },
    {
     "data": {
      "text/plain": "<IPython.core.display.HTML object>",
      "text/html": " View run <strong style=\"color:#cdcd00\">resilient-sweep-10</strong> at: <a href='https://wandb.ai/leonardo-berti07/BDproject2/runs/6pd9qdvd' target=\"_blank\">https://wandb.ai/leonardo-berti07/BDproject2/runs/6pd9qdvd</a><br/>Synced 6 W&B file(s), 0 media file(s), 0 artifact file(s) and 0 other file(s)"
     },
     "metadata": {},
     "output_type": "display_data"
    },
    {
     "data": {
      "text/plain": "<IPython.core.display.HTML object>",
      "text/html": "Find logs at: <code>.\\wandb\\run-20230524_012007-6pd9qdvd\\logs</code>"
     },
     "metadata": {},
     "output_type": "display_data"
    },
    {
     "name": "stdout",
     "output_type": "stream",
     "text": [
      "Create sweep with ID: b9s535cb\n",
      "Sweep URL: https://wandb.ai/leonardo-berti07/BDproject2/sweeps/b9s535cb\n"
     ]
    },
    {
     "name": "stderr",
     "output_type": "stream",
     "text": [
      "\u001B[34m\u001B[1mwandb\u001B[0m: Agent Starting Run: 4y5y6l1j with config:\n",
      "\u001B[34m\u001B[1mwandb\u001B[0m: \tbatch_size: 32\n",
      "\u001B[34m\u001B[1mwandb\u001B[0m: \tdropout: 0.2\n",
      "\u001B[34m\u001B[1mwandb\u001B[0m: \tepochs: 50\n",
      "\u001B[34m\u001B[1mwandb\u001B[0m: \teps: 1e-08\n",
      "\u001B[34m\u001B[1mwandb\u001B[0m: \tlr: 0.007791595450450163\n",
      "\u001B[34m\u001B[1mwandb\u001B[0m: \toptimizer: adam\n"
     ]
    },
    {
     "data": {
      "text/plain": "<IPython.core.display.HTML object>",
      "text/html": "Tracking run with wandb version 0.15.3"
     },
     "metadata": {},
     "output_type": "display_data"
    },
    {
     "data": {
      "text/plain": "<IPython.core.display.HTML object>",
      "text/html": "Run data is saved locally in <code>C:\\Users\\leona\\PycharmProjects\\BDC_project\\wandb\\run-20230524_013332-4y5y6l1j</code>"
     },
     "metadata": {},
     "output_type": "display_data"
    },
    {
     "data": {
      "text/plain": "<IPython.core.display.HTML object>",
      "text/html": "Syncing run <strong><a href='https://wandb.ai/leonardo-berti07/BDproject2/runs/4y5y6l1j' target=\"_blank\">glowing-sweep-1</a></strong> to <a href='https://wandb.ai/leonardo-berti07/BDproject2' target=\"_blank\">Weights & Biases</a> (<a href='https://wandb.me/run' target=\"_blank\">docs</a>)<br/>Sweep page: <a href='https://wandb.ai/leonardo-berti07/BDproject2/sweeps/b9s535cb' target=\"_blank\">https://wandb.ai/leonardo-berti07/BDproject2/sweeps/b9s535cb</a>"
     },
     "metadata": {},
     "output_type": "display_data"
    },
    {
     "data": {
      "text/plain": "<IPython.core.display.HTML object>",
      "text/html": " View project at <a href='https://wandb.ai/leonardo-berti07/BDproject2' target=\"_blank\">https://wandb.ai/leonardo-berti07/BDproject2</a>"
     },
     "metadata": {},
     "output_type": "display_data"
    },
    {
     "data": {
      "text/plain": "<IPython.core.display.HTML object>",
      "text/html": " View sweep at <a href='https://wandb.ai/leonardo-berti07/BDproject2/sweeps/b9s535cb' target=\"_blank\">https://wandb.ai/leonardo-berti07/BDproject2/sweeps/b9s535cb</a>"
     },
     "metadata": {},
     "output_type": "display_data"
    },
    {
     "data": {
      "text/plain": "<IPython.core.display.HTML object>",
      "text/html": " View run at <a href='https://wandb.ai/leonardo-berti07/BDproject2/runs/4y5y6l1j' target=\"_blank\">https://wandb.ai/leonardo-berti07/BDproject2/runs/4y5y6l1j</a>"
     },
     "metadata": {},
     "output_type": "display_data"
    },
    {
     "name": "stderr",
     "output_type": "stream",
     "text": [
      "100%|██████████| 50/50 [12:00<00:00, 14.41s/it]\n"
     ]
    },
    {
     "name": "stdout",
     "output_type": "stream",
     "text": [
      "{'test_r2score': 0.938380064011437, 'test_mse': 0.055124007, 'test_rmse': 0.23478502, 'test_mae': 0.1028928}\n"
     ]
    },
    {
     "data": {
      "text/plain": "<IPython.core.display.HTML object>",
      "text/html": "Waiting for W&B process to finish... <strong style=\"color:green\">(success).</strong>"
     },
     "metadata": {},
     "output_type": "display_data"
    },
    {
     "data": {
      "text/plain": "VBox(children=(Label(value='0.001 MB of 0.001 MB uploaded (0.000 MB deduped)\\r'), FloatProgress(value=1.0, max…",
      "application/vnd.jupyter.widget-view+json": {
       "version_major": 2,
       "version_minor": 0,
       "model_id": "b218b592c3614345a3839a9cdc64c338"
      }
     },
     "metadata": {},
     "output_type": "display_data"
    },
    {
     "data": {
      "text/plain": "<IPython.core.display.HTML object>",
      "text/html": "<style>\n    table.wandb td:nth-child(1) { padding: 0 10px; text-align: left ; width: auto;} td:nth-child(2) {text-align: left ; width: 100%}\n    .wandb-row { display: flex; flex-direction: row; flex-wrap: wrap; justify-content: flex-start; width: 100% }\n    .wandb-col { display: flex; flex-direction: column; flex-basis: 100%; flex: 1; padding: 10px; }\n    </style>\n<div class=\"wandb-row\"><div class=\"wandb-col\"><h3>Run history:</h3><br/><table class=\"wandb\"><tr><td>epochs</td><td>▁▁▁▁▂▂▂▂▂▃▃▃▃▃▃▄▄▄▄▄▅▅▅▅▅▅▆▆▆▆▆▆▇▇▇▇▇███</td></tr><tr><td>test_mae</td><td>▁█</td></tr><tr><td>test_mse</td><td>▁█</td></tr><tr><td>test_r2score</td><td>▁█</td></tr><tr><td>test_rmse</td><td>▁█</td></tr><tr><td>val_loss</td><td>▇▆█▃▄▃▃▂▃▄▂▃▂▃▂▃▁▂▂▂▃▃▃▂▁▂▃▂▂▂▃▃▃▃▃▃▃▃▃▃</td></tr><tr><td>val_mae</td><td>▁█▇█▇▇█▇█▇▇▇▇▇▇▇▇▇▇▇▇▇▇▇▇▇▇▇▇▇▇▇▇▇▇▇▇▇▇▇</td></tr><tr><td>val_mse</td><td>▁█▇█▆▆▆▅▇▆▆▆▇▆▅▆▆▅▅▅▆▆▆▆▅▅▆▆▆▅▆▆▆▆▆▆▆▆▆▅</td></tr><tr><td>val_r2score</td><td>▁███████████████████████████████████████</td></tr><tr><td>val_rmse</td><td>▁█▇█▇▇▇▇▇▇▇▇▇▇▇▇▇▆▆▇▇▇▇▇▆▆▇▇▇▇▇▇▇▇▇▇▇▇▇▆</td></tr></table><br/></div><div class=\"wandb-col\"><h3>Run summary:</h3><br/><table class=\"wandb\"><tr><td>epochs</td><td>50</td></tr><tr><td>model name</td><td>lstm</td></tr><tr><td>test_mae</td><td>0.10289</td></tr><tr><td>test_mse</td><td>0.05512</td></tr><tr><td>test_r2score</td><td>0.93838</td></tr><tr><td>test_rmse</td><td>0.23479</td></tr><tr><td>val_loss</td><td>34.53761</td></tr><tr><td>val_mae</td><td>0.10805</td></tr><tr><td>val_mse</td><td>0.06803</td></tr><tr><td>val_r2score</td><td>0.95676</td></tr><tr><td>val_rmse</td><td>0.26082</td></tr></table><br/></div></div>"
     },
     "metadata": {},
     "output_type": "display_data"
    },
    {
     "data": {
      "text/plain": "<IPython.core.display.HTML object>",
      "text/html": " View run <strong style=\"color:#cdcd00\">glowing-sweep-1</strong> at: <a href='https://wandb.ai/leonardo-berti07/BDproject2/runs/4y5y6l1j' target=\"_blank\">https://wandb.ai/leonardo-berti07/BDproject2/runs/4y5y6l1j</a><br/>Synced 6 W&B file(s), 0 media file(s), 0 artifact file(s) and 0 other file(s)"
     },
     "metadata": {},
     "output_type": "display_data"
    },
    {
     "data": {
      "text/plain": "<IPython.core.display.HTML object>",
      "text/html": "Find logs at: <code>.\\wandb\\run-20230524_013332-4y5y6l1j\\logs</code>"
     },
     "metadata": {},
     "output_type": "display_data"
    },
    {
     "name": "stderr",
     "output_type": "stream",
     "text": [
      "\u001B[34m\u001B[1mwandb\u001B[0m: Sweep Agent: Waiting for job.\n",
      "\u001B[34m\u001B[1mwandb\u001B[0m: Job received.\n",
      "\u001B[34m\u001B[1mwandb\u001B[0m: Agent Starting Run: jt0lkmxg with config:\n",
      "\u001B[34m\u001B[1mwandb\u001B[0m: \tbatch_size: 32\n",
      "\u001B[34m\u001B[1mwandb\u001B[0m: \tdropout: 0.2\n",
      "\u001B[34m\u001B[1mwandb\u001B[0m: \tepochs: 50\n",
      "\u001B[34m\u001B[1mwandb\u001B[0m: \teps: 1e-08\n",
      "\u001B[34m\u001B[1mwandb\u001B[0m: \tlr: 0.00596004449027626\n",
      "\u001B[34m\u001B[1mwandb\u001B[0m: \toptimizer: adam\n"
     ]
    },
    {
     "data": {
      "text/plain": "<IPython.core.display.HTML object>",
      "text/html": "Tracking run with wandb version 0.15.3"
     },
     "metadata": {},
     "output_type": "display_data"
    },
    {
     "data": {
      "text/plain": "<IPython.core.display.HTML object>",
      "text/html": "Run data is saved locally in <code>C:\\Users\\leona\\PycharmProjects\\BDC_project\\wandb\\run-20230524_014630-jt0lkmxg</code>"
     },
     "metadata": {},
     "output_type": "display_data"
    },
    {
     "data": {
      "text/plain": "<IPython.core.display.HTML object>",
      "text/html": "Syncing run <strong><a href='https://wandb.ai/leonardo-berti07/BDproject2/runs/jt0lkmxg' target=\"_blank\">stellar-sweep-2</a></strong> to <a href='https://wandb.ai/leonardo-berti07/BDproject2' target=\"_blank\">Weights & Biases</a> (<a href='https://wandb.me/run' target=\"_blank\">docs</a>)<br/>Sweep page: <a href='https://wandb.ai/leonardo-berti07/BDproject2/sweeps/b9s535cb' target=\"_blank\">https://wandb.ai/leonardo-berti07/BDproject2/sweeps/b9s535cb</a>"
     },
     "metadata": {},
     "output_type": "display_data"
    },
    {
     "data": {
      "text/plain": "<IPython.core.display.HTML object>",
      "text/html": " View project at <a href='https://wandb.ai/leonardo-berti07/BDproject2' target=\"_blank\">https://wandb.ai/leonardo-berti07/BDproject2</a>"
     },
     "metadata": {},
     "output_type": "display_data"
    },
    {
     "data": {
      "text/plain": "<IPython.core.display.HTML object>",
      "text/html": " View sweep at <a href='https://wandb.ai/leonardo-berti07/BDproject2/sweeps/b9s535cb' target=\"_blank\">https://wandb.ai/leonardo-berti07/BDproject2/sweeps/b9s535cb</a>"
     },
     "metadata": {},
     "output_type": "display_data"
    },
    {
     "data": {
      "text/plain": "<IPython.core.display.HTML object>",
      "text/html": " View run at <a href='https://wandb.ai/leonardo-berti07/BDproject2/runs/jt0lkmxg' target=\"_blank\">https://wandb.ai/leonardo-berti07/BDproject2/runs/jt0lkmxg</a>"
     },
     "metadata": {},
     "output_type": "display_data"
    },
    {
     "name": "stderr",
     "output_type": "stream",
     "text": [
      "100%|██████████| 50/50 [11:56<00:00, 14.33s/it]\n"
     ]
    },
    {
     "name": "stdout",
     "output_type": "stream",
     "text": [
      "{'test_r2score': 0.9428569227115602, 'test_mse': 0.051119097, 'test_rmse': 0.22609533, 'test_mae': 0.111343935}\n"
     ]
    },
    {
     "data": {
      "text/plain": "<IPython.core.display.HTML object>",
      "text/html": "Waiting for W&B process to finish... <strong style=\"color:green\">(success).</strong>"
     },
     "metadata": {},
     "output_type": "display_data"
    },
    {
     "data": {
      "text/plain": "VBox(children=(Label(value='0.001 MB of 0.001 MB uploaded (0.000 MB deduped)\\r'), FloatProgress(value=1.0, max…",
      "application/vnd.jupyter.widget-view+json": {
       "version_major": 2,
       "version_minor": 0,
       "model_id": "8bc1e0cce0054290aa5620fcb1a878bc"
      }
     },
     "metadata": {},
     "output_type": "display_data"
    },
    {
     "data": {
      "text/plain": "<IPython.core.display.HTML object>",
      "text/html": "<style>\n    table.wandb td:nth-child(1) { padding: 0 10px; text-align: left ; width: auto;} td:nth-child(2) {text-align: left ; width: 100%}\n    .wandb-row { display: flex; flex-direction: row; flex-wrap: wrap; justify-content: flex-start; width: 100% }\n    .wandb-col { display: flex; flex-direction: column; flex-basis: 100%; flex: 1; padding: 10px; }\n    </style>\n<div class=\"wandb-row\"><div class=\"wandb-col\"><h3>Run history:</h3><br/><table class=\"wandb\"><tr><td>epochs</td><td>▁▁▁▁▂▂▂▂▂▃▃▃▃▃▃▄▄▄▄▄▅▅▅▅▅▅▆▆▆▆▆▆▇▇▇▇▇███</td></tr><tr><td>test_mae</td><td>▁█</td></tr><tr><td>test_mse</td><td>▁█</td></tr><tr><td>test_r2score</td><td>▁█</td></tr><tr><td>test_rmse</td><td>▁█</td></tr><tr><td>val_loss</td><td>█▆▁▆▄▂▄▂▃▂▂▁▃▂▂▁▃▂▃▃▂▂▃▂▂▂▂▂▂▂▂▂▂▂▂▃▃▃▃▃</td></tr><tr><td>val_mae</td><td>▁█▇▇███▇█▇▇▇▇▇▇▇▇▇▇▇▇▇▇▇▇▇▇▇▇▇▇▇▇▇▇▇▇▇▇█</td></tr><tr><td>val_mse</td><td>▁█▇▅▅▇▆▆▆▆▆▆▆▆▆▆▆▆▆▆▆▆▆▆▆▆▆▆▆▆▆▆▆▆▆▆▆▆▆▅</td></tr><tr><td>val_r2score</td><td>▁███████████████████████████████████████</td></tr><tr><td>val_rmse</td><td>▁██▇▆▇▇▇▇▇▇▇▇▇▇▇▇▇▇▇▇▇▇▇▇▇▇▇▇▇▇▇▇▇▇▇▇▇▇▆</td></tr></table><br/></div><div class=\"wandb-col\"><h3>Run summary:</h3><br/><table class=\"wandb\"><tr><td>epochs</td><td>50</td></tr><tr><td>model name</td><td>lstm</td></tr><tr><td>test_mae</td><td>0.11134</td></tr><tr><td>test_mse</td><td>0.05112</td></tr><tr><td>test_r2score</td><td>0.94286</td></tr><tr><td>test_rmse</td><td>0.2261</td></tr><tr><td>val_loss</td><td>32.87203</td></tr><tr><td>val_mae</td><td>0.11555</td></tr><tr><td>val_mse</td><td>0.0643</td></tr><tr><td>val_r2score</td><td>0.95912</td></tr><tr><td>val_rmse</td><td>0.25358</td></tr></table><br/></div></div>"
     },
     "metadata": {},
     "output_type": "display_data"
    },
    {
     "data": {
      "text/plain": "<IPython.core.display.HTML object>",
      "text/html": " View run <strong style=\"color:#cdcd00\">stellar-sweep-2</strong> at: <a href='https://wandb.ai/leonardo-berti07/BDproject2/runs/jt0lkmxg' target=\"_blank\">https://wandb.ai/leonardo-berti07/BDproject2/runs/jt0lkmxg</a><br/>Synced 6 W&B file(s), 0 media file(s), 0 artifact file(s) and 0 other file(s)"
     },
     "metadata": {},
     "output_type": "display_data"
    },
    {
     "data": {
      "text/plain": "<IPython.core.display.HTML object>",
      "text/html": "Find logs at: <code>.\\wandb\\run-20230524_014630-jt0lkmxg\\logs</code>"
     },
     "metadata": {},
     "output_type": "display_data"
    },
    {
     "name": "stderr",
     "output_type": "stream",
     "text": [
      "\u001B[34m\u001B[1mwandb\u001B[0m: Agent Starting Run: 9lex61s4 with config:\n",
      "\u001B[34m\u001B[1mwandb\u001B[0m: \tbatch_size: 32\n",
      "\u001B[34m\u001B[1mwandb\u001B[0m: \tdropout: 0.2\n",
      "\u001B[34m\u001B[1mwandb\u001B[0m: \tepochs: 50\n",
      "\u001B[34m\u001B[1mwandb\u001B[0m: \teps: 1e-08\n",
      "\u001B[34m\u001B[1mwandb\u001B[0m: \tlr: 0.0011933631989646985\n",
      "\u001B[34m\u001B[1mwandb\u001B[0m: \toptimizer: sgd\n"
     ]
    },
    {
     "data": {
      "text/plain": "<IPython.core.display.HTML object>",
      "text/html": "Tracking run with wandb version 0.15.3"
     },
     "metadata": {},
     "output_type": "display_data"
    },
    {
     "data": {
      "text/plain": "<IPython.core.display.HTML object>",
      "text/html": "Run data is saved locally in <code>C:\\Users\\leona\\PycharmProjects\\BDC_project\\wandb\\run-20230524_015905-9lex61s4</code>"
     },
     "metadata": {},
     "output_type": "display_data"
    },
    {
     "data": {
      "text/plain": "<IPython.core.display.HTML object>",
      "text/html": "Syncing run <strong><a href='https://wandb.ai/leonardo-berti07/BDproject2/runs/9lex61s4' target=\"_blank\">comfy-sweep-3</a></strong> to <a href='https://wandb.ai/leonardo-berti07/BDproject2' target=\"_blank\">Weights & Biases</a> (<a href='https://wandb.me/run' target=\"_blank\">docs</a>)<br/>Sweep page: <a href='https://wandb.ai/leonardo-berti07/BDproject2/sweeps/b9s535cb' target=\"_blank\">https://wandb.ai/leonardo-berti07/BDproject2/sweeps/b9s535cb</a>"
     },
     "metadata": {},
     "output_type": "display_data"
    },
    {
     "data": {
      "text/plain": "<IPython.core.display.HTML object>",
      "text/html": " View project at <a href='https://wandb.ai/leonardo-berti07/BDproject2' target=\"_blank\">https://wandb.ai/leonardo-berti07/BDproject2</a>"
     },
     "metadata": {},
     "output_type": "display_data"
    },
    {
     "data": {
      "text/plain": "<IPython.core.display.HTML object>",
      "text/html": " View sweep at <a href='https://wandb.ai/leonardo-berti07/BDproject2/sweeps/b9s535cb' target=\"_blank\">https://wandb.ai/leonardo-berti07/BDproject2/sweeps/b9s535cb</a>"
     },
     "metadata": {},
     "output_type": "display_data"
    },
    {
     "data": {
      "text/plain": "<IPython.core.display.HTML object>",
      "text/html": " View run at <a href='https://wandb.ai/leonardo-berti07/BDproject2/runs/9lex61s4' target=\"_blank\">https://wandb.ai/leonardo-berti07/BDproject2/runs/9lex61s4</a>"
     },
     "metadata": {},
     "output_type": "display_data"
    },
    {
     "name": "stderr",
     "output_type": "stream",
     "text": [
      "100%|██████████| 50/50 [10:47<00:00, 12.94s/it]\n"
     ]
    },
    {
     "name": "stdout",
     "output_type": "stream",
     "text": [
      "{'test_r2score': 0.9451261678269829, 'test_mse': 0.04908907, 'test_rmse': 0.22156054, 'test_mae': 0.10533275}\n"
     ]
    },
    {
     "data": {
      "text/plain": "<IPython.core.display.HTML object>",
      "text/html": "Waiting for W&B process to finish... <strong style=\"color:green\">(success).</strong>"
     },
     "metadata": {},
     "output_type": "display_data"
    },
    {
     "data": {
      "text/plain": "VBox(children=(Label(value='0.001 MB of 0.001 MB uploaded (0.000 MB deduped)\\r'), FloatProgress(value=1.0, max…",
      "application/vnd.jupyter.widget-view+json": {
       "version_major": 2,
       "version_minor": 0,
       "model_id": "4f99080b87f54066a95cdfe03e5657b6"
      }
     },
     "metadata": {},
     "output_type": "display_data"
    },
    {
     "data": {
      "text/plain": "<IPython.core.display.HTML object>",
      "text/html": "<style>\n    table.wandb td:nth-child(1) { padding: 0 10px; text-align: left ; width: auto;} td:nth-child(2) {text-align: left ; width: 100%}\n    .wandb-row { display: flex; flex-direction: row; flex-wrap: wrap; justify-content: flex-start; width: 100% }\n    .wandb-col { display: flex; flex-direction: column; flex-basis: 100%; flex: 1; padding: 10px; }\n    </style>\n<div class=\"wandb-row\"><div class=\"wandb-col\"><h3>Run history:</h3><br/><table class=\"wandb\"><tr><td>epochs</td><td>▁▁▁▁▂▂▂▂▂▃▃▃▃▃▃▄▄▄▄▄▅▅▅▅▅▅▆▆▆▆▆▆▇▇▇▇▇███</td></tr><tr><td>test_mae</td><td>▁█</td></tr><tr><td>test_mse</td><td>▁█</td></tr><tr><td>test_r2score</td><td>▁█</td></tr><tr><td>test_rmse</td><td>▁█</td></tr><tr><td>val_loss</td><td>█▆▅▄▃▃▃▃▂▂▂▂▂▂▂▂▁▁▁▁▁▁▁▁▁▁▁▁▁▁▁▁▁▁▁▁▁▁▁▁</td></tr><tr><td>val_mae</td><td>▁█▇▇▇▆▆▆▆▆▆▆▆▆▆▆▆▆▆▆▆▆▆▆▆▆▆▆▆▆▆▆▆▆▆▆▆▆▆▆</td></tr><tr><td>val_mse</td><td>▁█▇▆▅▅▅▅▄▄▄▄▄▄▄▄▄▄▄▄▄▄▄▄▄▄▄▄▄▄▄▄▄▄▄▄▄▄▄▄</td></tr><tr><td>val_r2score</td><td>▁▇██████████████████████████████████████</td></tr><tr><td>val_rmse</td><td>▁█▇▇▆▆▆▆▆▆▆▆▆▆▆▆▅▅▅▅▅▅▅▅▅▅▅▅▅▅▅▅▅▅▅▅▅▅▅▅</td></tr></table><br/></div><div class=\"wandb-col\"><h3>Run summary:</h3><br/><table class=\"wandb\"><tr><td>epochs</td><td>50</td></tr><tr><td>model name</td><td>lstm</td></tr><tr><td>test_mae</td><td>0.10533</td></tr><tr><td>test_mse</td><td>0.04909</td></tr><tr><td>test_r2score</td><td>0.94513</td></tr><tr><td>test_rmse</td><td>0.22156</td></tr><tr><td>val_loss</td><td>32.91501</td></tr><tr><td>val_mae</td><td>0.11483</td></tr><tr><td>val_mse</td><td>0.07698</td></tr><tr><td>val_r2score</td><td>0.95107</td></tr><tr><td>val_rmse</td><td>0.27745</td></tr></table><br/></div></div>"
     },
     "metadata": {},
     "output_type": "display_data"
    },
    {
     "data": {
      "text/plain": "<IPython.core.display.HTML object>",
      "text/html": " View run <strong style=\"color:#cdcd00\">comfy-sweep-3</strong> at: <a href='https://wandb.ai/leonardo-berti07/BDproject2/runs/9lex61s4' target=\"_blank\">https://wandb.ai/leonardo-berti07/BDproject2/runs/9lex61s4</a><br/>Synced 6 W&B file(s), 0 media file(s), 0 artifact file(s) and 0 other file(s)"
     },
     "metadata": {},
     "output_type": "display_data"
    },
    {
     "data": {
      "text/plain": "<IPython.core.display.HTML object>",
      "text/html": "Find logs at: <code>.\\wandb\\run-20230524_015905-9lex61s4\\logs</code>"
     },
     "metadata": {},
     "output_type": "display_data"
    },
    {
     "name": "stderr",
     "output_type": "stream",
     "text": [
      "\u001B[34m\u001B[1mwandb\u001B[0m: Agent Starting Run: gn7qg0f3 with config:\n",
      "\u001B[34m\u001B[1mwandb\u001B[0m: \tbatch_size: 32\n",
      "\u001B[34m\u001B[1mwandb\u001B[0m: \tdropout: 0.2\n",
      "\u001B[34m\u001B[1mwandb\u001B[0m: \tepochs: 50\n",
      "\u001B[34m\u001B[1mwandb\u001B[0m: \teps: 1e-08\n",
      "\u001B[34m\u001B[1mwandb\u001B[0m: \tlr: 0.0011379936103004865\n",
      "\u001B[34m\u001B[1mwandb\u001B[0m: \toptimizer: adam\n"
     ]
    },
    {
     "data": {
      "text/plain": "<IPython.core.display.HTML object>",
      "text/html": "Tracking run with wandb version 0.15.3"
     },
     "metadata": {},
     "output_type": "display_data"
    },
    {
     "data": {
      "text/plain": "<IPython.core.display.HTML object>",
      "text/html": "Run data is saved locally in <code>C:\\Users\\leona\\PycharmProjects\\BDC_project\\wandb\\run-20230524_021029-gn7qg0f3</code>"
     },
     "metadata": {},
     "output_type": "display_data"
    },
    {
     "data": {
      "text/plain": "<IPython.core.display.HTML object>",
      "text/html": "Syncing run <strong><a href='https://wandb.ai/leonardo-berti07/BDproject2/runs/gn7qg0f3' target=\"_blank\">eager-sweep-4</a></strong> to <a href='https://wandb.ai/leonardo-berti07/BDproject2' target=\"_blank\">Weights & Biases</a> (<a href='https://wandb.me/run' target=\"_blank\">docs</a>)<br/>Sweep page: <a href='https://wandb.ai/leonardo-berti07/BDproject2/sweeps/b9s535cb' target=\"_blank\">https://wandb.ai/leonardo-berti07/BDproject2/sweeps/b9s535cb</a>"
     },
     "metadata": {},
     "output_type": "display_data"
    },
    {
     "data": {
      "text/plain": "<IPython.core.display.HTML object>",
      "text/html": " View project at <a href='https://wandb.ai/leonardo-berti07/BDproject2' target=\"_blank\">https://wandb.ai/leonardo-berti07/BDproject2</a>"
     },
     "metadata": {},
     "output_type": "display_data"
    },
    {
     "data": {
      "text/plain": "<IPython.core.display.HTML object>",
      "text/html": " View sweep at <a href='https://wandb.ai/leonardo-berti07/BDproject2/sweeps/b9s535cb' target=\"_blank\">https://wandb.ai/leonardo-berti07/BDproject2/sweeps/b9s535cb</a>"
     },
     "metadata": {},
     "output_type": "display_data"
    },
    {
     "data": {
      "text/plain": "<IPython.core.display.HTML object>",
      "text/html": " View run at <a href='https://wandb.ai/leonardo-berti07/BDproject2/runs/gn7qg0f3' target=\"_blank\">https://wandb.ai/leonardo-berti07/BDproject2/runs/gn7qg0f3</a>"
     },
     "metadata": {},
     "output_type": "display_data"
    },
    {
     "name": "stderr",
     "output_type": "stream",
     "text": [
      "100%|██████████| 50/50 [12:04<00:00, 14.49s/it]\n"
     ]
    },
    {
     "name": "stdout",
     "output_type": "stream",
     "text": [
      "{'test_r2score': 0.9456793972677296, 'test_mse': 0.048594162, 'test_rmse': 0.22044083, 'test_mae': 0.10108453}\n"
     ]
    },
    {
     "data": {
      "text/plain": "<IPython.core.display.HTML object>",
      "text/html": "Waiting for W&B process to finish... <strong style=\"color:green\">(success).</strong>"
     },
     "metadata": {},
     "output_type": "display_data"
    },
    {
     "data": {
      "text/plain": "VBox(children=(Label(value='0.001 MB of 0.001 MB uploaded (0.000 MB deduped)\\r'), FloatProgress(value=1.0, max…",
      "application/vnd.jupyter.widget-view+json": {
       "version_major": 2,
       "version_minor": 0,
       "model_id": "51ad46f2570b46fa8b871e2b13bb5c0b"
      }
     },
     "metadata": {},
     "output_type": "display_data"
    },
    {
     "data": {
      "text/plain": "<IPython.core.display.HTML object>",
      "text/html": "<style>\n    table.wandb td:nth-child(1) { padding: 0 10px; text-align: left ; width: auto;} td:nth-child(2) {text-align: left ; width: 100%}\n    .wandb-row { display: flex; flex-direction: row; flex-wrap: wrap; justify-content: flex-start; width: 100% }\n    .wandb-col { display: flex; flex-direction: column; flex-basis: 100%; flex: 1; padding: 10px; }\n    </style>\n<div class=\"wandb-row\"><div class=\"wandb-col\"><h3>Run history:</h3><br/><table class=\"wandb\"><tr><td>epochs</td><td>▁▁▁▁▂▂▂▂▂▃▃▃▃▃▃▄▄▄▄▄▅▅▅▅▅▅▆▆▆▆▆▆▇▇▇▇▇███</td></tr><tr><td>test_mae</td><td>▁█</td></tr><tr><td>test_mse</td><td>▁█</td></tr><tr><td>test_r2score</td><td>▁█</td></tr><tr><td>test_rmse</td><td>▁█</td></tr><tr><td>val_loss</td><td>█▄▃▃▂▂▂▂▁▁▁▁▁▁▁▁▁▂▁▁▂▂▂▁▂▂▂▂▂▂▂▂▂▂▂▂▂▂▂▂</td></tr><tr><td>val_mae</td><td>▁█▇▇▇▇▇▇▇▇▇▆▇▇▇▇▇▇▇▇▇▇▇▇▇▇▇▇▇▇▇▇▇▇▇▇▇▇▇▇</td></tr><tr><td>val_mse</td><td>▁█▆▅▄▄▄▄▄▄▄▄▄▄▄▄▄▄▄▄▄▄▄▄▄▄▄▄▄▄▄▄▄▄▄▄▄▄▄▄</td></tr><tr><td>val_r2score</td><td>▁███████████████████████████████████████</td></tr><tr><td>val_rmse</td><td>▁█▇▆▆▆▆▆▆▆▆▆▆▆▆▆▆▆▆▆▆▆▆▆▆▆▆▆▆▆▆▆▆▆▆▆▆▆▆▆</td></tr></table><br/></div><div class=\"wandb-col\"><h3>Run summary:</h3><br/><table class=\"wandb\"><tr><td>epochs</td><td>50</td></tr><tr><td>model name</td><td>lstm</td></tr><tr><td>test_mae</td><td>0.10108</td></tr><tr><td>test_mse</td><td>0.04859</td></tr><tr><td>test_r2score</td><td>0.94568</td></tr><tr><td>test_rmse</td><td>0.22044</td></tr><tr><td>val_loss</td><td>30.56535</td></tr><tr><td>val_mae</td><td>0.10863</td></tr><tr><td>val_mse</td><td>0.06251</td></tr><tr><td>val_r2score</td><td>0.96026</td></tr><tr><td>val_rmse</td><td>0.25002</td></tr></table><br/></div></div>"
     },
     "metadata": {},
     "output_type": "display_data"
    },
    {
     "data": {
      "text/plain": "<IPython.core.display.HTML object>",
      "text/html": " View run <strong style=\"color:#cdcd00\">eager-sweep-4</strong> at: <a href='https://wandb.ai/leonardo-berti07/BDproject2/runs/gn7qg0f3' target=\"_blank\">https://wandb.ai/leonardo-berti07/BDproject2/runs/gn7qg0f3</a><br/>Synced 6 W&B file(s), 0 media file(s), 0 artifact file(s) and 0 other file(s)"
     },
     "metadata": {},
     "output_type": "display_data"
    },
    {
     "data": {
      "text/plain": "<IPython.core.display.HTML object>",
      "text/html": "Find logs at: <code>.\\wandb\\run-20230524_021029-gn7qg0f3\\logs</code>"
     },
     "metadata": {},
     "output_type": "display_data"
    },
    {
     "name": "stderr",
     "output_type": "stream",
     "text": [
      "\u001B[34m\u001B[1mwandb\u001B[0m: Agent Starting Run: s618mqsk with config:\n",
      "\u001B[34m\u001B[1mwandb\u001B[0m: \tbatch_size: 128\n",
      "\u001B[34m\u001B[1mwandb\u001B[0m: \tdropout: 0.2\n",
      "\u001B[34m\u001B[1mwandb\u001B[0m: \tepochs: 50\n",
      "\u001B[34m\u001B[1mwandb\u001B[0m: \teps: 1e-08\n",
      "\u001B[34m\u001B[1mwandb\u001B[0m: \tlr: 0.0017972537834856142\n",
      "\u001B[34m\u001B[1mwandb\u001B[0m: \toptimizer: sgd\n"
     ]
    },
    {
     "data": {
      "text/plain": "<IPython.core.display.HTML object>",
      "text/html": "Tracking run with wandb version 0.15.3"
     },
     "metadata": {},
     "output_type": "display_data"
    },
    {
     "data": {
      "text/plain": "<IPython.core.display.HTML object>",
      "text/html": "Run data is saved locally in <code>C:\\Users\\leona\\PycharmProjects\\BDC_project\\wandb\\run-20230524_022311-s618mqsk</code>"
     },
     "metadata": {},
     "output_type": "display_data"
    },
    {
     "data": {
      "text/plain": "<IPython.core.display.HTML object>",
      "text/html": "Syncing run <strong><a href='https://wandb.ai/leonardo-berti07/BDproject2/runs/s618mqsk' target=\"_blank\">still-sweep-5</a></strong> to <a href='https://wandb.ai/leonardo-berti07/BDproject2' target=\"_blank\">Weights & Biases</a> (<a href='https://wandb.me/run' target=\"_blank\">docs</a>)<br/>Sweep page: <a href='https://wandb.ai/leonardo-berti07/BDproject2/sweeps/b9s535cb' target=\"_blank\">https://wandb.ai/leonardo-berti07/BDproject2/sweeps/b9s535cb</a>"
     },
     "metadata": {},
     "output_type": "display_data"
    },
    {
     "data": {
      "text/plain": "<IPython.core.display.HTML object>",
      "text/html": " View project at <a href='https://wandb.ai/leonardo-berti07/BDproject2' target=\"_blank\">https://wandb.ai/leonardo-berti07/BDproject2</a>"
     },
     "metadata": {},
     "output_type": "display_data"
    },
    {
     "data": {
      "text/plain": "<IPython.core.display.HTML object>",
      "text/html": " View sweep at <a href='https://wandb.ai/leonardo-berti07/BDproject2/sweeps/b9s535cb' target=\"_blank\">https://wandb.ai/leonardo-berti07/BDproject2/sweeps/b9s535cb</a>"
     },
     "metadata": {},
     "output_type": "display_data"
    },
    {
     "data": {
      "text/plain": "<IPython.core.display.HTML object>",
      "text/html": " View run at <a href='https://wandb.ai/leonardo-berti07/BDproject2/runs/s618mqsk' target=\"_blank\">https://wandb.ai/leonardo-berti07/BDproject2/runs/s618mqsk</a>"
     },
     "metadata": {},
     "output_type": "display_data"
    },
    {
     "name": "stderr",
     "output_type": "stream",
     "text": [
      "100%|██████████| 50/50 [03:12<00:00,  3.86s/it]\n"
     ]
    },
    {
     "name": "stdout",
     "output_type": "stream",
     "text": [
      "{'test_r2score': 0.9404255327203336, 'test_mse': 0.053294167, 'test_rmse': 0.2308553, 'test_mae': 0.11037496}\n"
     ]
    },
    {
     "data": {
      "text/plain": "<IPython.core.display.HTML object>",
      "text/html": "Waiting for W&B process to finish... <strong style=\"color:green\">(success).</strong>"
     },
     "metadata": {},
     "output_type": "display_data"
    },
    {
     "data": {
      "text/plain": "VBox(children=(Label(value='0.001 MB of 0.001 MB uploaded (0.000 MB deduped)\\r'), FloatProgress(value=1.0, max…",
      "application/vnd.jupyter.widget-view+json": {
       "version_major": 2,
       "version_minor": 0,
       "model_id": "278794cb375847f7b60b7bda30ab8538"
      }
     },
     "metadata": {},
     "output_type": "display_data"
    },
    {
     "data": {
      "text/plain": "<IPython.core.display.HTML object>",
      "text/html": "<style>\n    table.wandb td:nth-child(1) { padding: 0 10px; text-align: left ; width: auto;} td:nth-child(2) {text-align: left ; width: 100%}\n    .wandb-row { display: flex; flex-direction: row; flex-wrap: wrap; justify-content: flex-start; width: 100% }\n    .wandb-col { display: flex; flex-direction: column; flex-basis: 100%; flex: 1; padding: 10px; }\n    </style>\n<div class=\"wandb-row\"><div class=\"wandb-col\"><h3>Run history:</h3><br/><table class=\"wandb\"><tr><td>epochs</td><td>▁▁▁▁▂▂▂▂▂▃▃▃▃▃▃▄▄▄▄▄▅▅▅▅▅▅▆▆▆▆▆▆▇▇▇▇▇███</td></tr><tr><td>test_mae</td><td>▁█</td></tr><tr><td>test_mse</td><td>▁█</td></tr><tr><td>test_r2score</td><td>▁█</td></tr><tr><td>test_rmse</td><td>▁█</td></tr><tr><td>val_loss</td><td>█▆▅▄▃▃▃▂▂▂▂▂▂▂▂▁▁▁▁▁▁▁▁▁▁▁▁▁▁▁▁▁▁▁▁▁▁▁▁▁</td></tr><tr><td>val_mae</td><td>▁█▇▇▇▆▆▆▆▆▆▆▆▆▆▆▆▆▆▆▆▆▆▅▆▅▆▅▆▅▅▅▅▅▅▅▅▅▅▆</td></tr><tr><td>val_mse</td><td>▁█▇▆▅▅▅▄▄▄▄▄▄▄▄▄▄▄▄▄▄▄▄▄▄▄▄▃▃▄▃▃▃▃▃▃▃▃▃▃</td></tr><tr><td>val_r2score</td><td>▁▇▇█████████████████████████████████████</td></tr><tr><td>val_rmse</td><td>▁█▇▇▆▆▆▆▆▆▆▆▆▅▅▅▅▅▅▅▅▅▅▅▅▅▅▅▅▅▅▅▅▅▅▅▅▅▅▅</td></tr></table><br/></div><div class=\"wandb-col\"><h3>Run summary:</h3><br/><table class=\"wandb\"><tr><td>epochs</td><td>50</td></tr><tr><td>model name</td><td>lstm</td></tr><tr><td>test_mae</td><td>0.11037</td></tr><tr><td>test_mse</td><td>0.05329</td></tr><tr><td>test_r2score</td><td>0.94043</td></tr><tr><td>test_rmse</td><td>0.23086</td></tr><tr><td>val_loss</td><td>10.33154</td></tr><tr><td>val_mae</td><td>0.12175</td></tr><tr><td>val_mse</td><td>0.09713</td></tr><tr><td>val_r2score</td><td>0.93826</td></tr><tr><td>val_rmse</td><td>0.31166</td></tr></table><br/></div></div>"
     },
     "metadata": {},
     "output_type": "display_data"
    },
    {
     "data": {
      "text/plain": "<IPython.core.display.HTML object>",
      "text/html": " View run <strong style=\"color:#cdcd00\">still-sweep-5</strong> at: <a href='https://wandb.ai/leonardo-berti07/BDproject2/runs/s618mqsk' target=\"_blank\">https://wandb.ai/leonardo-berti07/BDproject2/runs/s618mqsk</a><br/>Synced 6 W&B file(s), 0 media file(s), 0 artifact file(s) and 0 other file(s)"
     },
     "metadata": {},
     "output_type": "display_data"
    },
    {
     "data": {
      "text/plain": "<IPython.core.display.HTML object>",
      "text/html": "Find logs at: <code>.\\wandb\\run-20230524_022311-s618mqsk\\logs</code>"
     },
     "metadata": {},
     "output_type": "display_data"
    },
    {
     "name": "stderr",
     "output_type": "stream",
     "text": [
      "\u001B[34m\u001B[1mwandb\u001B[0m: Agent Starting Run: 24vgq0l2 with config:\n",
      "\u001B[34m\u001B[1mwandb\u001B[0m: \tbatch_size: 32\n",
      "\u001B[34m\u001B[1mwandb\u001B[0m: \tdropout: 0.2\n",
      "\u001B[34m\u001B[1mwandb\u001B[0m: \tepochs: 50\n",
      "\u001B[34m\u001B[1mwandb\u001B[0m: \teps: 1e-08\n",
      "\u001B[34m\u001B[1mwandb\u001B[0m: \tlr: 0.004798061094229062\n",
      "\u001B[34m\u001B[1mwandb\u001B[0m: \toptimizer: sgd\n"
     ]
    },
    {
     "data": {
      "text/plain": "VBox(children=(Label(value='Waiting for wandb.init()...\\r'), FloatProgress(value=0.016916666666899498, max=1.0…",
      "application/vnd.jupyter.widget-view+json": {
       "version_major": 2,
       "version_minor": 0,
       "model_id": "f5849c68b3924a02856a8b032f0cb942"
      }
     },
     "metadata": {},
     "output_type": "display_data"
    },
    {
     "data": {
      "text/plain": "<IPython.core.display.HTML object>",
      "text/html": "Tracking run with wandb version 0.15.3"
     },
     "metadata": {},
     "output_type": "display_data"
    },
    {
     "data": {
      "text/plain": "<IPython.core.display.HTML object>",
      "text/html": "Run data is saved locally in <code>C:\\Users\\leona\\PycharmProjects\\BDC_project\\wandb\\run-20230524_022640-24vgq0l2</code>"
     },
     "metadata": {},
     "output_type": "display_data"
    },
    {
     "data": {
      "text/plain": "<IPython.core.display.HTML object>",
      "text/html": "Syncing run <strong><a href='https://wandb.ai/leonardo-berti07/BDproject2/runs/24vgq0l2' target=\"_blank\">devoted-sweep-6</a></strong> to <a href='https://wandb.ai/leonardo-berti07/BDproject2' target=\"_blank\">Weights & Biases</a> (<a href='https://wandb.me/run' target=\"_blank\">docs</a>)<br/>Sweep page: <a href='https://wandb.ai/leonardo-berti07/BDproject2/sweeps/b9s535cb' target=\"_blank\">https://wandb.ai/leonardo-berti07/BDproject2/sweeps/b9s535cb</a>"
     },
     "metadata": {},
     "output_type": "display_data"
    },
    {
     "data": {
      "text/plain": "<IPython.core.display.HTML object>",
      "text/html": " View project at <a href='https://wandb.ai/leonardo-berti07/BDproject2' target=\"_blank\">https://wandb.ai/leonardo-berti07/BDproject2</a>"
     },
     "metadata": {},
     "output_type": "display_data"
    },
    {
     "data": {
      "text/plain": "<IPython.core.display.HTML object>",
      "text/html": " View sweep at <a href='https://wandb.ai/leonardo-berti07/BDproject2/sweeps/b9s535cb' target=\"_blank\">https://wandb.ai/leonardo-berti07/BDproject2/sweeps/b9s535cb</a>"
     },
     "metadata": {},
     "output_type": "display_data"
    },
    {
     "data": {
      "text/plain": "<IPython.core.display.HTML object>",
      "text/html": " View run at <a href='https://wandb.ai/leonardo-berti07/BDproject2/runs/24vgq0l2' target=\"_blank\">https://wandb.ai/leonardo-berti07/BDproject2/runs/24vgq0l2</a>"
     },
     "metadata": {},
     "output_type": "display_data"
    },
    {
     "name": "stderr",
     "output_type": "stream",
     "text": [
      "100%|██████████| 50/50 [10:38<00:00, 12.77s/it]\n"
     ]
    },
    {
     "name": "stdout",
     "output_type": "stream",
     "text": [
      "{'test_r2score': 0.9480389601761556, 'test_mse': 0.04648334, 'test_rmse': 0.21559995, 'test_mae': 0.10346731}\n"
     ]
    },
    {
     "data": {
      "text/plain": "<IPython.core.display.HTML object>",
      "text/html": "Waiting for W&B process to finish... <strong style=\"color:green\">(success).</strong>"
     },
     "metadata": {},
     "output_type": "display_data"
    },
    {
     "data": {
      "text/plain": "VBox(children=(Label(value='0.001 MB of 0.001 MB uploaded (0.000 MB deduped)\\r'), FloatProgress(value=1.0, max…",
      "application/vnd.jupyter.widget-view+json": {
       "version_major": 2,
       "version_minor": 0,
       "model_id": "d360f5ceb2624c3493ae10786008ecba"
      }
     },
     "metadata": {},
     "output_type": "display_data"
    },
    {
     "data": {
      "text/plain": "<IPython.core.display.HTML object>",
      "text/html": "<style>\n    table.wandb td:nth-child(1) { padding: 0 10px; text-align: left ; width: auto;} td:nth-child(2) {text-align: left ; width: 100%}\n    .wandb-row { display: flex; flex-direction: row; flex-wrap: wrap; justify-content: flex-start; width: 100% }\n    .wandb-col { display: flex; flex-direction: column; flex-basis: 100%; flex: 1; padding: 10px; }\n    </style>\n<div class=\"wandb-row\"><div class=\"wandb-col\"><h3>Run history:</h3><br/><table class=\"wandb\"><tr><td>epochs</td><td>▁▁▁▁▂▂▂▂▂▃▃▃▃▃▃▄▄▄▄▄▅▅▅▅▅▅▆▆▆▆▆▆▇▇▇▇▇███</td></tr><tr><td>test_mae</td><td>▁█</td></tr><tr><td>test_mse</td><td>▁█</td></tr><tr><td>test_r2score</td><td>▁█</td></tr><tr><td>test_rmse</td><td>▁█</td></tr><tr><td>val_loss</td><td>█▆▅▄▄▃▃▂▃▂▃▃▂▂▂▂▂▂▂▂▂▁▁▁▁▁▁▁▁▁▁▁▁▁▁▁▁▁▁▁</td></tr><tr><td>val_mae</td><td>▁█▇▇▇▇▇▇▇▆▇▆▆▆▆▆▆▆▆▆▆▆▆▆▆▆▆▆▆▆▆▆▆▆▆▆▆▆▆▆</td></tr><tr><td>val_mse</td><td>▁█▇▇▆▆▅▅▅▅▅▅▅▅▅▄▅▅▅▄▄▄▄▄▄▄▄▄▄▄▄▄▄▄▄▄▄▄▄▄</td></tr><tr><td>val_r2score</td><td>▁███████████████████████████████████████</td></tr><tr><td>val_rmse</td><td>▁█▇▇▇▇▆▆▆▇▆▆▆▆▆▆▆▆▆▆▆▆▆▆▆▆▆▆▆▆▆▆▆▆▆▆▆▆▆▆</td></tr></table><br/></div><div class=\"wandb-col\"><h3>Run summary:</h3><br/><table class=\"wandb\"><tr><td>epochs</td><td>50</td></tr><tr><td>model name</td><td>lstm</td></tr><tr><td>test_mae</td><td>0.10347</td></tr><tr><td>test_mse</td><td>0.04648</td></tr><tr><td>test_r2score</td><td>0.94804</td></tr><tr><td>test_rmse</td><td>0.2156</td></tr><tr><td>val_loss</td><td>28.10374</td></tr><tr><td>val_mae</td><td>0.11154</td></tr><tr><td>val_mse</td><td>0.06606</td></tr><tr><td>val_r2score</td><td>0.95801</td></tr><tr><td>val_rmse</td><td>0.25702</td></tr></table><br/></div></div>"
     },
     "metadata": {},
     "output_type": "display_data"
    },
    {
     "data": {
      "text/plain": "<IPython.core.display.HTML object>",
      "text/html": " View run <strong style=\"color:#cdcd00\">devoted-sweep-6</strong> at: <a href='https://wandb.ai/leonardo-berti07/BDproject2/runs/24vgq0l2' target=\"_blank\">https://wandb.ai/leonardo-berti07/BDproject2/runs/24vgq0l2</a><br/>Synced 6 W&B file(s), 0 media file(s), 0 artifact file(s) and 0 other file(s)"
     },
     "metadata": {},
     "output_type": "display_data"
    },
    {
     "data": {
      "text/plain": "<IPython.core.display.HTML object>",
      "text/html": "Find logs at: <code>.\\wandb\\run-20230524_022640-24vgq0l2\\logs</code>"
     },
     "metadata": {},
     "output_type": "display_data"
    },
    {
     "name": "stderr",
     "output_type": "stream",
     "text": [
      "\u001B[34m\u001B[1mwandb\u001B[0m: Agent Starting Run: bc7yc6zf with config:\n",
      "\u001B[34m\u001B[1mwandb\u001B[0m: \tbatch_size: 128\n",
      "\u001B[34m\u001B[1mwandb\u001B[0m: \tdropout: 0.2\n",
      "\u001B[34m\u001B[1mwandb\u001B[0m: \tepochs: 50\n",
      "\u001B[34m\u001B[1mwandb\u001B[0m: \teps: 1e-08\n",
      "\u001B[34m\u001B[1mwandb\u001B[0m: \tlr: 0.0019865916630335723\n",
      "\u001B[34m\u001B[1mwandb\u001B[0m: \toptimizer: adam\n"
     ]
    },
    {
     "data": {
      "text/plain": "<IPython.core.display.HTML object>",
      "text/html": "Tracking run with wandb version 0.15.3"
     },
     "metadata": {},
     "output_type": "display_data"
    },
    {
     "data": {
      "text/plain": "<IPython.core.display.HTML object>",
      "text/html": "Run data is saved locally in <code>C:\\Users\\leona\\PycharmProjects\\BDC_project\\wandb\\run-20230524_023758-bc7yc6zf</code>"
     },
     "metadata": {},
     "output_type": "display_data"
    },
    {
     "data": {
      "text/plain": "<IPython.core.display.HTML object>",
      "text/html": "Syncing run <strong><a href='https://wandb.ai/leonardo-berti07/BDproject2/runs/bc7yc6zf' target=\"_blank\">clear-sweep-7</a></strong> to <a href='https://wandb.ai/leonardo-berti07/BDproject2' target=\"_blank\">Weights & Biases</a> (<a href='https://wandb.me/run' target=\"_blank\">docs</a>)<br/>Sweep page: <a href='https://wandb.ai/leonardo-berti07/BDproject2/sweeps/b9s535cb' target=\"_blank\">https://wandb.ai/leonardo-berti07/BDproject2/sweeps/b9s535cb</a>"
     },
     "metadata": {},
     "output_type": "display_data"
    },
    {
     "data": {
      "text/plain": "<IPython.core.display.HTML object>",
      "text/html": " View project at <a href='https://wandb.ai/leonardo-berti07/BDproject2' target=\"_blank\">https://wandb.ai/leonardo-berti07/BDproject2</a>"
     },
     "metadata": {},
     "output_type": "display_data"
    },
    {
     "data": {
      "text/plain": "<IPython.core.display.HTML object>",
      "text/html": " View sweep at <a href='https://wandb.ai/leonardo-berti07/BDproject2/sweeps/b9s535cb' target=\"_blank\">https://wandb.ai/leonardo-berti07/BDproject2/sweeps/b9s535cb</a>"
     },
     "metadata": {},
     "output_type": "display_data"
    },
    {
     "data": {
      "text/plain": "<IPython.core.display.HTML object>",
      "text/html": " View run at <a href='https://wandb.ai/leonardo-berti07/BDproject2/runs/bc7yc6zf' target=\"_blank\">https://wandb.ai/leonardo-berti07/BDproject2/runs/bc7yc6zf</a>"
     },
     "metadata": {},
     "output_type": "display_data"
    },
    {
     "name": "stderr",
     "output_type": "stream",
     "text": [
      "100%|██████████| 50/50 [03:27<00:00,  4.14s/it]\n"
     ]
    },
    {
     "name": "stdout",
     "output_type": "stream",
     "text": [
      "{'test_r2score': 0.9429055543723636, 'test_mse': 0.051075593, 'test_rmse': 0.2259991, 'test_mae': 0.10142547}\n"
     ]
    },
    {
     "data": {
      "text/plain": "<IPython.core.display.HTML object>",
      "text/html": "Waiting for W&B process to finish... <strong style=\"color:green\">(success).</strong>"
     },
     "metadata": {},
     "output_type": "display_data"
    },
    {
     "data": {
      "text/plain": "VBox(children=(Label(value='0.001 MB of 0.001 MB uploaded (0.000 MB deduped)\\r'), FloatProgress(value=1.0, max…",
      "application/vnd.jupyter.widget-view+json": {
       "version_major": 2,
       "version_minor": 0,
       "model_id": "41d1745fca8f4947a20f51b52b31f178"
      }
     },
     "metadata": {},
     "output_type": "display_data"
    },
    {
     "data": {
      "text/plain": "<IPython.core.display.HTML object>",
      "text/html": "<style>\n    table.wandb td:nth-child(1) { padding: 0 10px; text-align: left ; width: auto;} td:nth-child(2) {text-align: left ; width: 100%}\n    .wandb-row { display: flex; flex-direction: row; flex-wrap: wrap; justify-content: flex-start; width: 100% }\n    .wandb-col { display: flex; flex-direction: column; flex-basis: 100%; flex: 1; padding: 10px; }\n    </style>\n<div class=\"wandb-row\"><div class=\"wandb-col\"><h3>Run history:</h3><br/><table class=\"wandb\"><tr><td>epochs</td><td>▁▁▁▁▂▂▂▂▂▃▃▃▃▃▃▄▄▄▄▄▅▅▅▅▅▅▆▆▆▆▆▆▇▇▇▇▇███</td></tr><tr><td>test_mae</td><td>▁█</td></tr><tr><td>test_mse</td><td>▁█</td></tr><tr><td>test_r2score</td><td>▁█</td></tr><tr><td>test_rmse</td><td>▁█</td></tr><tr><td>val_loss</td><td>█▅▄▃▂▂▂▁▁▁▁▁▁▁▁▁▁▁▁▁▁▁▂▁▁▂▁▂▁▂▂▂▂▂▂▂▂▂▂▂</td></tr><tr><td>val_mae</td><td>▁██▇▇▇▇▇▆▇▆▆▆▆▇▆▆▆▆▆▆▆▆▆▆▆▇▇▆▇▇▆▆▇▇▇▇▇▇▆</td></tr><tr><td>val_mse</td><td>▁█▆▅▅▄▄▄▄▄▄▄▄▄▄▄▄▄▄▄▄▄▄▄▄▄▄▄▄▄▄▄▄▄▄▄▄▄▄▄</td></tr><tr><td>val_r2score</td><td>▁███████████████████████████████████████</td></tr><tr><td>val_rmse</td><td>▁█▇▇▆▆▆▆▅▅▆▅▅▅▅▅▅▅▅▆▆▅▆▆▆▆▆▆▆▆▆▆▆▆▆▆▆▆▆▅</td></tr></table><br/></div><div class=\"wandb-col\"><h3>Run summary:</h3><br/><table class=\"wandb\"><tr><td>epochs</td><td>50</td></tr><tr><td>model name</td><td>lstm</td></tr><tr><td>test_mae</td><td>0.10143</td></tr><tr><td>test_mse</td><td>0.05108</td></tr><tr><td>test_r2score</td><td>0.94291</td></tr><tr><td>test_rmse</td><td>0.226</td></tr><tr><td>val_loss</td><td>7.81702</td></tr><tr><td>val_mae</td><td>0.10822</td></tr><tr><td>val_mse</td><td>0.06506</td></tr><tr><td>val_r2score</td><td>0.95865</td></tr><tr><td>val_rmse</td><td>0.25506</td></tr></table><br/></div></div>"
     },
     "metadata": {},
     "output_type": "display_data"
    },
    {
     "data": {
      "text/plain": "<IPython.core.display.HTML object>",
      "text/html": " View run <strong style=\"color:#cdcd00\">clear-sweep-7</strong> at: <a href='https://wandb.ai/leonardo-berti07/BDproject2/runs/bc7yc6zf' target=\"_blank\">https://wandb.ai/leonardo-berti07/BDproject2/runs/bc7yc6zf</a><br/>Synced 6 W&B file(s), 0 media file(s), 0 artifact file(s) and 0 other file(s)"
     },
     "metadata": {},
     "output_type": "display_data"
    },
    {
     "data": {
      "text/plain": "<IPython.core.display.HTML object>",
      "text/html": "Find logs at: <code>.\\wandb\\run-20230524_023758-bc7yc6zf\\logs</code>"
     },
     "metadata": {},
     "output_type": "display_data"
    },
    {
     "name": "stderr",
     "output_type": "stream",
     "text": [
      "\u001B[34m\u001B[1mwandb\u001B[0m: Agent Starting Run: dy57077m with config:\n",
      "\u001B[34m\u001B[1mwandb\u001B[0m: \tbatch_size: 128\n",
      "\u001B[34m\u001B[1mwandb\u001B[0m: \tdropout: 0.2\n",
      "\u001B[34m\u001B[1mwandb\u001B[0m: \tepochs: 50\n",
      "\u001B[34m\u001B[1mwandb\u001B[0m: \teps: 1e-08\n",
      "\u001B[34m\u001B[1mwandb\u001B[0m: \tlr: 0.000759622157250337\n",
      "\u001B[34m\u001B[1mwandb\u001B[0m: \toptimizer: sgd\n"
     ]
    },
    {
     "data": {
      "text/plain": "<IPython.core.display.HTML object>",
      "text/html": "Tracking run with wandb version 0.15.3"
     },
     "metadata": {},
     "output_type": "display_data"
    },
    {
     "data": {
      "text/plain": "<IPython.core.display.HTML object>",
      "text/html": "Run data is saved locally in <code>C:\\Users\\leona\\PycharmProjects\\BDC_project\\wandb\\run-20230524_024141-dy57077m</code>"
     },
     "metadata": {},
     "output_type": "display_data"
    },
    {
     "data": {
      "text/plain": "<IPython.core.display.HTML object>",
      "text/html": "Syncing run <strong><a href='https://wandb.ai/leonardo-berti07/BDproject2/runs/dy57077m' target=\"_blank\">ethereal-sweep-8</a></strong> to <a href='https://wandb.ai/leonardo-berti07/BDproject2' target=\"_blank\">Weights & Biases</a> (<a href='https://wandb.me/run' target=\"_blank\">docs</a>)<br/>Sweep page: <a href='https://wandb.ai/leonardo-berti07/BDproject2/sweeps/b9s535cb' target=\"_blank\">https://wandb.ai/leonardo-berti07/BDproject2/sweeps/b9s535cb</a>"
     },
     "metadata": {},
     "output_type": "display_data"
    },
    {
     "data": {
      "text/plain": "<IPython.core.display.HTML object>",
      "text/html": " View project at <a href='https://wandb.ai/leonardo-berti07/BDproject2' target=\"_blank\">https://wandb.ai/leonardo-berti07/BDproject2</a>"
     },
     "metadata": {},
     "output_type": "display_data"
    },
    {
     "data": {
      "text/plain": "<IPython.core.display.HTML object>",
      "text/html": " View sweep at <a href='https://wandb.ai/leonardo-berti07/BDproject2/sweeps/b9s535cb' target=\"_blank\">https://wandb.ai/leonardo-berti07/BDproject2/sweeps/b9s535cb</a>"
     },
     "metadata": {},
     "output_type": "display_data"
    },
    {
     "data": {
      "text/plain": "<IPython.core.display.HTML object>",
      "text/html": " View run at <a href='https://wandb.ai/leonardo-berti07/BDproject2/runs/dy57077m' target=\"_blank\">https://wandb.ai/leonardo-berti07/BDproject2/runs/dy57077m</a>"
     },
     "metadata": {},
     "output_type": "display_data"
    },
    {
     "name": "stderr",
     "output_type": "stream",
     "text": [
      "100%|██████████| 50/50 [03:16<00:00,  3.92s/it]\n"
     ]
    },
    {
     "name": "stdout",
     "output_type": "stream",
     "text": [
      "{'test_r2score': 0.9345117855861403, 'test_mse': 0.058584493, 'test_rmse': 0.24204233, 'test_mae': 0.11657571}\n"
     ]
    },
    {
     "data": {
      "text/plain": "<IPython.core.display.HTML object>",
      "text/html": "Waiting for W&B process to finish... <strong style=\"color:green\">(success).</strong>"
     },
     "metadata": {},
     "output_type": "display_data"
    },
    {
     "data": {
      "text/plain": "<IPython.core.display.HTML object>",
      "text/html": "<style>\n    table.wandb td:nth-child(1) { padding: 0 10px; text-align: left ; width: auto;} td:nth-child(2) {text-align: left ; width: 100%}\n    .wandb-row { display: flex; flex-direction: row; flex-wrap: wrap; justify-content: flex-start; width: 100% }\n    .wandb-col { display: flex; flex-direction: column; flex-basis: 100%; flex: 1; padding: 10px; }\n    </style>\n<div class=\"wandb-row\"><div class=\"wandb-col\"><h3>Run history:</h3><br/><table class=\"wandb\"><tr><td>epochs</td><td>▁▁▁▁▂▂▂▂▂▃▃▃▃▃▃▄▄▄▄▄▅▅▅▅▅▅▆▆▆▆▆▆▇▇▇▇▇███</td></tr><tr><td>test_mae</td><td>▁█</td></tr><tr><td>test_mse</td><td>▁█</td></tr><tr><td>test_r2score</td><td>▁█</td></tr><tr><td>test_rmse</td><td>▁█</td></tr><tr><td>val_loss</td><td>█▃▃▂▂▂▂▂▂▂▁▁▁▁▁▁▁▁▁▁▁▁▁▁▁▁▁▁▁▁▁▁▁▁▁▁▁▁▁▁</td></tr><tr><td>val_mae</td><td>▁█▅▅▄▄▄▄▄▄▄▄▄▄▄▄▄▄▄▄▄▄▄▄▄▄▄▄▄▄▄▄▄▄▄▄▄▄▄▄</td></tr><tr><td>val_mse</td><td>▁█▄▄▃▃▃▃▃▃▃▃▃▃▃▂▂▂▂▂▂▂▂▂▂▂▂▂▂▂▂▂▂▂▂▂▂▂▂▂</td></tr><tr><td>val_r2score</td><td>▁▅▇▇████████████████████████████████████</td></tr><tr><td>val_rmse</td><td>▁█▆▅▅▅▅▅▅▅▄▄▄▄▄▄▄▄▄▄▄▄▄▄▄▄▄▄▄▄▄▄▄▄▄▄▄▄▄▄</td></tr></table><br/></div><div class=\"wandb-col\"><h3>Run summary:</h3><br/><table class=\"wandb\"><tr><td>epochs</td><td>50</td></tr><tr><td>model name</td><td>lstm</td></tr><tr><td>test_mae</td><td>0.11658</td></tr><tr><td>test_mse</td><td>0.05858</td></tr><tr><td>test_r2score</td><td>0.93451</td></tr><tr><td>test_rmse</td><td>0.24204</td></tr><tr><td>val_loss</td><td>13.30875</td></tr><tr><td>val_mae</td><td>0.13178</td></tr><tr><td>val_mse</td><td>0.12532</td></tr><tr><td>val_r2score</td><td>0.92034</td></tr><tr><td>val_rmse</td><td>0.354</td></tr></table><br/></div></div>"
     },
     "metadata": {},
     "output_type": "display_data"
    },
    {
     "data": {
      "text/plain": "<IPython.core.display.HTML object>",
      "text/html": " View run <strong style=\"color:#cdcd00\">ethereal-sweep-8</strong> at: <a href='https://wandb.ai/leonardo-berti07/BDproject2/runs/dy57077m' target=\"_blank\">https://wandb.ai/leonardo-berti07/BDproject2/runs/dy57077m</a><br/>Synced 6 W&B file(s), 0 media file(s), 0 artifact file(s) and 0 other file(s)"
     },
     "metadata": {},
     "output_type": "display_data"
    },
    {
     "data": {
      "text/plain": "<IPython.core.display.HTML object>",
      "text/html": "Find logs at: <code>.\\wandb\\run-20230524_024141-dy57077m\\logs</code>"
     },
     "metadata": {},
     "output_type": "display_data"
    },
    {
     "name": "stderr",
     "output_type": "stream",
     "text": [
      "\u001B[34m\u001B[1mwandb\u001B[0m: Agent Starting Run: igwwjf38 with config:\n",
      "\u001B[34m\u001B[1mwandb\u001B[0m: \tbatch_size: 128\n",
      "\u001B[34m\u001B[1mwandb\u001B[0m: \tdropout: 0.2\n",
      "\u001B[34m\u001B[1mwandb\u001B[0m: \tepochs: 50\n",
      "\u001B[34m\u001B[1mwandb\u001B[0m: \teps: 1e-08\n",
      "\u001B[34m\u001B[1mwandb\u001B[0m: \tlr: 0.007382005204919396\n",
      "\u001B[34m\u001B[1mwandb\u001B[0m: \toptimizer: sgd\n"
     ]
    },
    {
     "data": {
      "text/plain": "<IPython.core.display.HTML object>",
      "text/html": "Tracking run with wandb version 0.15.3"
     },
     "metadata": {},
     "output_type": "display_data"
    },
    {
     "data": {
      "text/plain": "<IPython.core.display.HTML object>",
      "text/html": "Run data is saved locally in <code>C:\\Users\\leona\\PycharmProjects\\BDC_project\\wandb\\run-20230524_024513-igwwjf38</code>"
     },
     "metadata": {},
     "output_type": "display_data"
    },
    {
     "data": {
      "text/plain": "<IPython.core.display.HTML object>",
      "text/html": "Syncing run <strong><a href='https://wandb.ai/leonardo-berti07/BDproject2/runs/igwwjf38' target=\"_blank\">lyric-sweep-9</a></strong> to <a href='https://wandb.ai/leonardo-berti07/BDproject2' target=\"_blank\">Weights & Biases</a> (<a href='https://wandb.me/run' target=\"_blank\">docs</a>)<br/>Sweep page: <a href='https://wandb.ai/leonardo-berti07/BDproject2/sweeps/b9s535cb' target=\"_blank\">https://wandb.ai/leonardo-berti07/BDproject2/sweeps/b9s535cb</a>"
     },
     "metadata": {},
     "output_type": "display_data"
    },
    {
     "data": {
      "text/plain": "<IPython.core.display.HTML object>",
      "text/html": " View project at <a href='https://wandb.ai/leonardo-berti07/BDproject2' target=\"_blank\">https://wandb.ai/leonardo-berti07/BDproject2</a>"
     },
     "metadata": {},
     "output_type": "display_data"
    },
    {
     "data": {
      "text/plain": "<IPython.core.display.HTML object>",
      "text/html": " View sweep at <a href='https://wandb.ai/leonardo-berti07/BDproject2/sweeps/b9s535cb' target=\"_blank\">https://wandb.ai/leonardo-berti07/BDproject2/sweeps/b9s535cb</a>"
     },
     "metadata": {},
     "output_type": "display_data"
    },
    {
     "data": {
      "text/plain": "<IPython.core.display.HTML object>",
      "text/html": " View run at <a href='https://wandb.ai/leonardo-berti07/BDproject2/runs/igwwjf38' target=\"_blank\">https://wandb.ai/leonardo-berti07/BDproject2/runs/igwwjf38</a>"
     },
     "metadata": {},
     "output_type": "display_data"
    },
    {
     "name": "stderr",
     "output_type": "stream",
     "text": [
      "100%|██████████| 50/50 [03:08<00:00,  3.76s/it]\n"
     ]
    },
    {
     "name": "stdout",
     "output_type": "stream",
     "text": [
      "{'test_r2score': 0.9452330774744113, 'test_mse': 0.048993435, 'test_rmse': 0.2213446, 'test_mae': 0.1048109}\n"
     ]
    },
    {
     "data": {
      "text/plain": "<IPython.core.display.HTML object>",
      "text/html": "Waiting for W&B process to finish... <strong style=\"color:green\">(success).</strong>"
     },
     "metadata": {},
     "output_type": "display_data"
    },
    {
     "data": {
      "text/plain": "VBox(children=(Label(value='0.001 MB of 0.001 MB uploaded (0.000 MB deduped)\\r'), FloatProgress(value=1.0, max…",
      "application/vnd.jupyter.widget-view+json": {
       "version_major": 2,
       "version_minor": 0,
       "model_id": "67e5de13528e404c9d6febcdb09b4dc3"
      }
     },
     "metadata": {},
     "output_type": "display_data"
    },
    {
     "data": {
      "text/plain": "<IPython.core.display.HTML object>",
      "text/html": "<style>\n    table.wandb td:nth-child(1) { padding: 0 10px; text-align: left ; width: auto;} td:nth-child(2) {text-align: left ; width: 100%}\n    .wandb-row { display: flex; flex-direction: row; flex-wrap: wrap; justify-content: flex-start; width: 100% }\n    .wandb-col { display: flex; flex-direction: column; flex-basis: 100%; flex: 1; padding: 10px; }\n    </style>\n<div class=\"wandb-row\"><div class=\"wandb-col\"><h3>Run history:</h3><br/><table class=\"wandb\"><tr><td>epochs</td><td>▁▁▁▁▂▂▂▂▂▃▃▃▃▃▃▄▄▄▄▄▅▅▅▅▅▅▆▆▆▆▆▆▇▇▇▇▇███</td></tr><tr><td>test_mae</td><td>▁█</td></tr><tr><td>test_mse</td><td>▁█</td></tr><tr><td>test_r2score</td><td>▁█</td></tr><tr><td>test_rmse</td><td>▁█</td></tr><tr><td>val_loss</td><td>█▆▄▄▃▃▃▂▂▂▂▂▂▂▂▂▁▁▁▁▁▁▁▁▁▁▁▁▁▁▁▁▁▁▁▁▁▁▁▁</td></tr><tr><td>val_mae</td><td>▁█▇▇▇▇▆▆▆▆▆▆▆▆▆▆▆▆▆▆▆▆▆▆▆▆▆▆▆▆▆▆▆▆▆▆▆▆▆▆</td></tr><tr><td>val_mse</td><td>▁█▇▆▅▅▅▅▅▄▄▄▄▄▄▄▄▄▄▄▄▄▄▄▄▄▄▄▄▄▄▄▄▄▄▄▄▄▄▄</td></tr><tr><td>val_r2score</td><td>▁▇██████████████████████████████████████</td></tr><tr><td>val_rmse</td><td>▁█▇▇▇▆▆▆▆▆▆▆▆▆▆▆▆▆▆▆▆▆▅▆▅▅▅▅▅▅▅▅▅▅▅▅▅▅▅▅</td></tr></table><br/></div><div class=\"wandb-col\"><h3>Run summary:</h3><br/><table class=\"wandb\"><tr><td>epochs</td><td>50</td></tr><tr><td>model name</td><td>lstm</td></tr><tr><td>test_mae</td><td>0.10481</td></tr><tr><td>test_mse</td><td>0.04899</td></tr><tr><td>test_r2score</td><td>0.94523</td></tr><tr><td>test_rmse</td><td>0.22134</td></tr><tr><td>val_loss</td><td>7.89625</td></tr><tr><td>val_mae</td><td>0.11372</td></tr><tr><td>val_mse</td><td>0.07423</td></tr><tr><td>val_r2score</td><td>0.95282</td></tr><tr><td>val_rmse</td><td>0.27245</td></tr></table><br/></div></div>"
     },
     "metadata": {},
     "output_type": "display_data"
    },
    {
     "data": {
      "text/plain": "<IPython.core.display.HTML object>",
      "text/html": " View run <strong style=\"color:#cdcd00\">lyric-sweep-9</strong> at: <a href='https://wandb.ai/leonardo-berti07/BDproject2/runs/igwwjf38' target=\"_blank\">https://wandb.ai/leonardo-berti07/BDproject2/runs/igwwjf38</a><br/>Synced 6 W&B file(s), 0 media file(s), 0 artifact file(s) and 0 other file(s)"
     },
     "metadata": {},
     "output_type": "display_data"
    },
    {
     "data": {
      "text/plain": "<IPython.core.display.HTML object>",
      "text/html": "Find logs at: <code>.\\wandb\\run-20230524_024513-igwwjf38\\logs</code>"
     },
     "metadata": {},
     "output_type": "display_data"
    },
    {
     "name": "stderr",
     "output_type": "stream",
     "text": [
      "\u001B[34m\u001B[1mwandb\u001B[0m: Agent Starting Run: ruqneynx with config:\n",
      "\u001B[34m\u001B[1mwandb\u001B[0m: \tbatch_size: 128\n",
      "\u001B[34m\u001B[1mwandb\u001B[0m: \tdropout: 0.2\n",
      "\u001B[34m\u001B[1mwandb\u001B[0m: \tepochs: 50\n",
      "\u001B[34m\u001B[1mwandb\u001B[0m: \teps: 1e-08\n",
      "\u001B[34m\u001B[1mwandb\u001B[0m: \tlr: 0.007187153324359335\n",
      "\u001B[34m\u001B[1mwandb\u001B[0m: \toptimizer: sgd\n"
     ]
    },
    {
     "data": {
      "text/plain": "<IPython.core.display.HTML object>",
      "text/html": "Tracking run with wandb version 0.15.3"
     },
     "metadata": {},
     "output_type": "display_data"
    },
    {
     "data": {
      "text/plain": "<IPython.core.display.HTML object>",
      "text/html": "Run data is saved locally in <code>C:\\Users\\leona\\PycharmProjects\\BDC_project\\wandb\\run-20230524_024836-ruqneynx</code>"
     },
     "metadata": {},
     "output_type": "display_data"
    },
    {
     "data": {
      "text/plain": "<IPython.core.display.HTML object>",
      "text/html": "Syncing run <strong><a href='https://wandb.ai/leonardo-berti07/BDproject2/runs/ruqneynx' target=\"_blank\">misty-sweep-10</a></strong> to <a href='https://wandb.ai/leonardo-berti07/BDproject2' target=\"_blank\">Weights & Biases</a> (<a href='https://wandb.me/run' target=\"_blank\">docs</a>)<br/>Sweep page: <a href='https://wandb.ai/leonardo-berti07/BDproject2/sweeps/b9s535cb' target=\"_blank\">https://wandb.ai/leonardo-berti07/BDproject2/sweeps/b9s535cb</a>"
     },
     "metadata": {},
     "output_type": "display_data"
    },
    {
     "data": {
      "text/plain": "<IPython.core.display.HTML object>",
      "text/html": " View project at <a href='https://wandb.ai/leonardo-berti07/BDproject2' target=\"_blank\">https://wandb.ai/leonardo-berti07/BDproject2</a>"
     },
     "metadata": {},
     "output_type": "display_data"
    },
    {
     "data": {
      "text/plain": "<IPython.core.display.HTML object>",
      "text/html": " View sweep at <a href='https://wandb.ai/leonardo-berti07/BDproject2/sweeps/b9s535cb' target=\"_blank\">https://wandb.ai/leonardo-berti07/BDproject2/sweeps/b9s535cb</a>"
     },
     "metadata": {},
     "output_type": "display_data"
    },
    {
     "data": {
      "text/plain": "<IPython.core.display.HTML object>",
      "text/html": " View run at <a href='https://wandb.ai/leonardo-berti07/BDproject2/runs/ruqneynx' target=\"_blank\">https://wandb.ai/leonardo-berti07/BDproject2/runs/ruqneynx</a>"
     },
     "metadata": {},
     "output_type": "display_data"
    },
    {
     "name": "stderr",
     "output_type": "stream",
     "text": [
      "100%|██████████| 50/50 [03:14<00:00,  3.88s/it]\n"
     ]
    },
    {
     "name": "stdout",
     "output_type": "stream",
     "text": [
      "{'test_r2score': 0.9449090233691811, 'test_mse': 0.049283326, 'test_rmse': 0.22199848, 'test_mae': 0.10555346}\n"
     ]
    },
    {
     "data": {
      "text/plain": "<IPython.core.display.HTML object>",
      "text/html": "Waiting for W&B process to finish... <strong style=\"color:green\">(success).</strong>"
     },
     "metadata": {},
     "output_type": "display_data"
    },
    {
     "data": {
      "text/plain": "VBox(children=(Label(value='0.001 MB of 0.001 MB uploaded (0.000 MB deduped)\\r'), FloatProgress(value=1.0, max…",
      "application/vnd.jupyter.widget-view+json": {
       "version_major": 2,
       "version_minor": 0,
       "model_id": "0d46e2f0488946ac9daac1f1adfb2be6"
      }
     },
     "metadata": {},
     "output_type": "display_data"
    },
    {
     "data": {
      "text/plain": "<IPython.core.display.HTML object>",
      "text/html": "<style>\n    table.wandb td:nth-child(1) { padding: 0 10px; text-align: left ; width: auto;} td:nth-child(2) {text-align: left ; width: 100%}\n    .wandb-row { display: flex; flex-direction: row; flex-wrap: wrap; justify-content: flex-start; width: 100% }\n    .wandb-col { display: flex; flex-direction: column; flex-basis: 100%; flex: 1; padding: 10px; }\n    </style>\n<div class=\"wandb-row\"><div class=\"wandb-col\"><h3>Run history:</h3><br/><table class=\"wandb\"><tr><td>epochs</td><td>▁▁▁▁▂▂▂▂▂▃▃▃▃▃▃▄▄▄▄▄▅▅▅▅▅▅▆▆▆▆▆▆▇▇▇▇▇███</td></tr><tr><td>test_mae</td><td>▁█</td></tr><tr><td>test_mse</td><td>▁█</td></tr><tr><td>test_r2score</td><td>▁█</td></tr><tr><td>test_rmse</td><td>▁█</td></tr><tr><td>val_loss</td><td>█▆▅▅▃▃▃▂▂▂▂▂▂▂▂▂▂▁▂▁▁▁▁▁▁▁▁▁▁▁▁▁▁▁▁▁▁▁▁▁</td></tr><tr><td>val_mae</td><td>▁█▇▇▇▇▇▆▇▆▆▆▆▆▆▆▆▆▆▆▆▆▆▆▆▆▆▆▆▆▆▆▆▆▆▆▆▆▆▆</td></tr><tr><td>val_mse</td><td>▁█▇▆▅▅▅▅▅▅▄▄▄▄▄▄▄▄▄▄▄▄▄▄▄▄▄▄▄▄▄▄▄▄▄▄▄▄▄▄</td></tr><tr><td>val_r2score</td><td>▁▇██████████████████████████████████████</td></tr><tr><td>val_rmse</td><td>▁█▇▇▆▆▆▆▆▆▆▆▆▆▆▆▆▆▆▆▆▆▆▆▆▆▆▆▅▆▅▅▅▅▅▅▅▅▅▅</td></tr></table><br/></div><div class=\"wandb-col\"><h3>Run summary:</h3><br/><table class=\"wandb\"><tr><td>epochs</td><td>50</td></tr><tr><td>model name</td><td>lstm</td></tr><tr><td>test_mae</td><td>0.10555</td></tr><tr><td>test_mse</td><td>0.04928</td></tr><tr><td>test_r2score</td><td>0.94491</td></tr><tr><td>test_rmse</td><td>0.222</td></tr><tr><td>val_loss</td><td>7.79017</td></tr><tr><td>val_mae</td><td>0.11401</td></tr><tr><td>val_mse</td><td>0.07289</td></tr><tr><td>val_r2score</td><td>0.95367</td></tr><tr><td>val_rmse</td><td>0.26999</td></tr></table><br/></div></div>"
     },
     "metadata": {},
     "output_type": "display_data"
    },
    {
     "data": {
      "text/plain": "<IPython.core.display.HTML object>",
      "text/html": " View run <strong style=\"color:#cdcd00\">misty-sweep-10</strong> at: <a href='https://wandb.ai/leonardo-berti07/BDproject2/runs/ruqneynx' target=\"_blank\">https://wandb.ai/leonardo-berti07/BDproject2/runs/ruqneynx</a><br/>Synced 6 W&B file(s), 0 media file(s), 0 artifact file(s) and 0 other file(s)"
     },
     "metadata": {},
     "output_type": "display_data"
    },
    {
     "data": {
      "text/plain": "<IPython.core.display.HTML object>",
      "text/html": "Find logs at: <code>.\\wandb\\run-20230524_024836-ruqneynx\\logs</code>"
     },
     "metadata": {},
     "output_type": "display_data"
    }
   ],
   "source": [
    "models = [\"linear\", \"rf\", \"mlp\", \"lstm\"]\n",
    "for model_type in models:\n",
    "    sweep_config = {\n",
    "        'method': 'bayes',\n",
    "        'metric': {\n",
    "            'goal': 'minimize',\n",
    "            'name': 'validation_loss'\n",
    "        },\n",
    "        'early_terminate' : {\n",
    "            'type': 'hyperband',\n",
    "            'min_iter': 3,\n",
    "            'eta': 2\n",
    "        },\n",
    "        'run_cap': 10\n",
    "      }\n",
    "    if (model_type != \"rf\"):\n",
    "        parameters_dict = {\n",
    "            'epochs': {\n",
    "                'value': 50\n",
    "                },\n",
    "            'optimizer': {\n",
    "                'values': ['adam', 'sgd']\n",
    "                },\n",
    "            'dropout': {\n",
    "                  'values': [0.2]\n",
    "                },\n",
    "            'lr': {\n",
    "                'distribution': 'uniform',\n",
    "                'max': 0.01,\n",
    "                'min': 0.0001,\n",
    "                },\n",
    "            'batch_size': {\n",
    "                'values': [32, 128]\n",
    "                },\n",
    "            'eps': {\n",
    "                'value': 1e-08\n",
    "                }\n",
    "            }\n",
    "    else:\n",
    "        parameters_dict = {\n",
    "            'm_depth': {\n",
    "                'distribution': 'int_uniform',\n",
    "                'max': 23,\n",
    "                'min': 10,\n",
    "                },\n",
    "            'n_est':{\n",
    "                'distribution': 'int_uniform',\n",
    "                'max': 500,\n",
    "                'min': 50,\n",
    "                },\n",
    "            }\n",
    "\n",
    "    sweep_config['parameters'] = parameters_dict\n",
    "    sweep_id = wandb.sweep(sweep_config, project=\"BDproject2\")\n",
    "    wandb.agent(sweep_id, run, count=sweep_config[\"run_cap\"])"
   ],
   "metadata": {
    "collapsed": false,
    "ExecuteTime": {
     "end_time": "2023-05-24T00:52:00.971095200Z",
     "start_time": "2023-05-23T20:00:18.880707700Z"
    }
   }
  }
 ],
 "metadata": {
  "kernelspec": {
   "display_name": "Python 3",
   "language": "python",
   "name": "python3"
  },
  "language_info": {
   "codemirror_mode": {
    "name": "ipython",
    "version": 2
   },
   "file_extension": ".py",
   "mimetype": "text/x-python",
   "name": "python",
   "nbconvert_exporter": "python",
   "pygments_lexer": "ipython2",
   "version": "2.7.6"
  }
 },
 "nbformat": 4,
 "nbformat_minor": 0
}
