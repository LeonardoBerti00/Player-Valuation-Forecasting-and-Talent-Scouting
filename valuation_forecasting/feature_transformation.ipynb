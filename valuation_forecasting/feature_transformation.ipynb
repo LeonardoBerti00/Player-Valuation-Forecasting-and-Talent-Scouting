{
 "cells": [
  {
   "attachments": {},
   "cell_type": "markdown",
   "metadata": {
    "collapsed": false
   },
   "source": [
    "# Feature Transformation\n",
    "**In this file, we will do some transformation to rescale the features that have very different scales**"
   ]
  },
  {
   "cell_type": "code",
   "execution_count": 1,
   "metadata": {
    "ExecuteTime": {
     "end_time": "2023-05-19T15:49:35.243217600Z",
     "start_time": "2023-05-19T15:49:35.241001800Z"
    },
    "collapsed": false
   },
   "outputs": [],
   "source": [
    "import numpy as np\n",
    "import pandas as pd\n",
    "from scipy.stats import zscore\n",
    "from sklearn.preprocessing import MinMaxScaler"
   ]
  },
  {
   "cell_type": "code",
   "execution_count": 2,
   "metadata": {
    "ExecuteTime": {
     "end_time": "2023-05-19T15:49:36.829615700Z",
     "start_time": "2023-05-19T15:49:36.565318Z"
    },
    "collapsed": false
   },
   "outputs": [],
   "source": [
    "import os\n",
    "os.chdir(\"..\")\n",
    "# open data.csv as pyspark dataframe\n",
    "df_pandas = pd.read_csv('dataset.csv')"
   ]
  },
  {
   "attachments": {},
   "cell_type": "markdown",
   "metadata": {
    "collapsed": false
   },
   "source": [
    "**Encoding**\n",
    "\n",
    "We have to execute the mapping for:\n",
    "- date_c in timestamp\n",
    "- current_club_id\n",
    "- citizenship\n",
    "- position\n",
    "- sub_position\n",
    "- competitions_id\n",
    "- clubs_id"
   ]
  },
  {
   "cell_type": "code",
   "execution_count": 7,
   "metadata": {
    "ExecuteTime": {
     "end_time": "2023-05-19T15:49:46.853052200Z",
     "start_time": "2023-05-19T15:49:46.847339900Z"
    },
    "collapsed": false
   },
   "outputs": [],
   "source": [
    "#drop useless features\n",
    "df_pandas = df_pandas.drop([\"name\", \"date_birth\", \"games_played_club\", \"games_won_club\", \"games_draw_club\", \"games_lost_club\"], axis=1)\n",
    "#drop the columns in a proper way\n"
   ]
  },
  {
   "cell_type": "code",
   "execution_count": 9,
   "metadata": {
    "ExecuteTime": {
     "end_time": "2023-05-19T15:55:35.685130200Z",
     "start_time": "2023-05-19T15:55:35.579737700Z"
    },
    "collapsed": false
   },
   "outputs": [],
   "source": [
    "df_pandas[\"date_v\"] = pd.to_datetime(df_pandas[\"date_v\"])\n",
    "\n",
    "#we map the categorical values in their indexes values to have numerical values\n",
    "df_pandas['position'] = df_pandas['position'].astype('category')\n",
    "df_pandas['position'] = df_pandas['position'].cat.codes\n",
    "\n",
    "df_pandas['sub_position'] = df_pandas['sub_position'].astype('category')\n",
    "df_pandas['sub_position'] = df_pandas['sub_position'].cat.codes\n",
    "\n",
    "df_pandas['citizenship'] = df_pandas['citizenship'].astype('category')\n",
    "df_pandas['citizenship'] = df_pandas['citizenship'].cat.codes\n",
    "\n",
    "df_pandas['current_club_id'] = df_pandas['current_club_id'].astype('category')\n",
    "df_pandas['current_club_id'] = df_pandas['current_club_id'].cat.codes\n",
    "\n",
    "df_pandas['competitions_id'] = df_pandas['competitions_id'].astype('category')\n",
    "df_pandas['competitions_id'] = df_pandas['competitions_id'].cat.codes\n",
    "\n",
    "df_pandas['clubs_id'] = df_pandas['clubs_id'].astype('category')\n",
    "df_pandas['clubs_id'] = df_pandas['clubs_id'].cat.codes"
   ]
  },
  {
   "cell_type": "code",
   "execution_count": 10,
   "metadata": {
    "ExecuteTime": {
     "end_time": "2023-05-19T10:54:38.000934700Z",
     "start_time": "2023-05-19T10:54:37.989854Z"
    },
    "collapsed": false
   },
   "outputs": [
    {
     "name": "stdout",
     "output_type": "stream",
     "text": [
      "<class 'pandas.core.frame.DataFrame'>\n",
      "RangeIndex: 135878 entries, 0 to 135877\n",
      "Data columns (total 23 columns):\n",
      " #   Column             Non-Null Count   Dtype         \n",
      "---  ------             --------------   -----         \n",
      " 0   player_id          135878 non-null  int64         \n",
      " 1   date_v             135878 non-null  datetime64[ns]\n",
      " 2   market_value       135878 non-null  int64         \n",
      " 3   age                135878 non-null  int64         \n",
      " 4   current_club_id    135878 non-null  int16         \n",
      " 5   height             135878 non-null  int64         \n",
      " 6   citizenship        135878 non-null  int16         \n",
      " 7   position           135878 non-null  int8          \n",
      " 8   sub_position       135878 non-null  int8          \n",
      " 9   competitions_id    135878 non-null  int16         \n",
      " 10  clubs_id           135878 non-null  int16         \n",
      " 11  assists            135878 non-null  int64         \n",
      " 12  goals              135878 non-null  int64         \n",
      " 13  minutes_played     135878 non-null  int64         \n",
      " 14  red_cards          135878 non-null  int64         \n",
      " 15  yellow_cards       135878 non-null  int64         \n",
      " 16  last_valuation     135878 non-null  int64         \n",
      " 17  appearances        135878 non-null  int64         \n",
      " 18  games_won_pl       135878 non-null  int64         \n",
      " 19  games_draw_pl      135878 non-null  int64         \n",
      " 20  games_lost_pl      135878 non-null  int64         \n",
      " 21  winning_rate_pl    135878 non-null  float64       \n",
      " 22  winning_rate_club  135878 non-null  float64       \n",
      "dtypes: datetime64[ns](1), float64(2), int16(4), int64(14), int8(2)\n",
      "memory usage: 18.9 MB\n"
     ]
    }
   ],
   "source": [
    "df_pandas.info()"
   ]
  },
  {
   "attachments": {},
   "cell_type": "markdown",
   "metadata": {
    "collapsed": false
   },
   "source": [
    "## Transformation\n",
    "We apply zscore to every column except for age, last_valuation, market_value and these to be encoded\n",
    "We apply min-max scaling to age because with zscore the values would be all Nan\n",
    "We rescale market_value (labels) and last_valuation through dividing to the maximum/2 (1e+8)"
   ]
  },
  {
   "cell_type": "code",
   "execution_count": 11,
   "metadata": {
    "ExecuteTime": {
     "end_time": "2023-05-19T15:57:10.451139600Z",
     "start_time": "2023-05-19T15:57:10.396988100Z"
    },
    "collapsed": false
   },
   "outputs": [],
   "source": [
    "df_pandas['year_v'] = pd.to_datetime(df_pandas['date_v']).dt.year\n",
    "df_pandas['month_v'] = pd.to_datetime(df_pandas['date_v']).dt.month\n",
    "df_pandas['day_v'] = pd.to_datetime(df_pandas['date_v']).dt.day\n",
    "\n",
    "df_pandas = df_pandas.drop(\"date_v\", axis=1)"
   ]
  },
  {
   "cell_type": "code",
   "execution_count": 12,
   "metadata": {
    "ExecuteTime": {
     "end_time": "2023-05-19T15:58:08.468799500Z",
     "start_time": "2023-05-19T15:58:08.464551200Z"
    },
    "collapsed": false
   },
   "outputs": [],
   "source": [
    "to_encoding = df_pandas[['citizenship', 'current_club_id', 'position', 'sub_position', 'competitions_id', 'clubs_id']]\n",
    "df_pandas = df_pandas.drop(['citizenship', 'current_club_id', 'position', 'sub_position', 'competitions_id', 'clubs_id'], axis=1)"
   ]
  },
  {
   "cell_type": "code",
   "execution_count": 13,
   "metadata": {
    "ExecuteTime": {
     "end_time": "2023-05-19T15:58:12.754795400Z",
     "start_time": "2023-05-19T15:58:12.704077600Z"
    },
    "collapsed": false
   },
   "outputs": [
    {
     "name": "stdout",
     "output_type": "stream",
     "text": [
      "the scaling factor of market_valuea is: 10000000.0\n",
      "the scaling factor of last_valuations is: 10000000.0\n"
     ]
    }
   ],
   "source": [
    "#min-max scaling for age\n",
    "scaler = MinMaxScaler()\n",
    "age_minmax = scaler.fit_transform(df_pandas[['age']])\n",
    "\n",
    "#rescaling market_value\n",
    "scaling_factor_market_value = np.max(df_pandas['market_value'].to_numpy()) / 20\n",
    "print(\"the scaling factor of market_valuea is: {}\".format(scaling_factor_market_value))\n",
    "market_val_scaled = df_pandas['market_value'] / scaling_factor_market_value\n",
    "\n",
    "#rescaling\n",
    "scaling_factor_valuation = np.max(df_pandas['last_valuation'].to_numpy()) / 20\n",
    "print(\"the scaling factor of last_valuations is: {}\".format(scaling_factor_valuation))\n",
    "last_val_scaled = df_pandas['last_valuation'] / scaling_factor_valuation\n",
    "\n",
    "df_zscore = df_pandas.apply(zscore, axis=0)\n",
    "\n",
    "df_zscore['market_value'] = market_val_scaled\n",
    "df_zscore['age'] = age_minmax\n",
    "df_zscore['last_valuation'] = last_val_scaled"
   ]
  },
  {
   "cell_type": "code",
   "execution_count": 14,
   "outputs": [
    {
     "name": "stdout",
     "output_type": "stream",
     "text": [
      "<class 'pandas.core.frame.DataFrame'>\n",
      "RangeIndex: 135878 entries, 0 to 135877\n",
      "Data columns (total 19 columns):\n",
      " #   Column             Non-Null Count   Dtype  \n",
      "---  ------             --------------   -----  \n",
      " 0   player_id          135878 non-null  int64  \n",
      " 1   market_value       135878 non-null  int64  \n",
      " 2   age                135878 non-null  int64  \n",
      " 3   height             135878 non-null  int64  \n",
      " 4   assists            135878 non-null  int64  \n",
      " 5   goals              135878 non-null  int64  \n",
      " 6   minutes_played     135878 non-null  int64  \n",
      " 7   red_cards          135878 non-null  int64  \n",
      " 8   yellow_cards       135878 non-null  int64  \n",
      " 9   last_valuation     135878 non-null  int64  \n",
      " 10  appearances        135878 non-null  int64  \n",
      " 11  games_won_pl       135878 non-null  int64  \n",
      " 12  games_draw_pl      135878 non-null  int64  \n",
      " 13  games_lost_pl      135878 non-null  int64  \n",
      " 14  winning_rate_pl    135878 non-null  float64\n",
      " 15  winning_rate_club  135878 non-null  float64\n",
      " 16  year_v             135878 non-null  int64  \n",
      " 17  month_v            135878 non-null  int64  \n",
      " 18  day_v              135878 non-null  int64  \n",
      "dtypes: float64(2), int64(17)\n",
      "memory usage: 19.7 MB\n"
     ]
    }
   ],
   "source": [
    "df_pandas.info()"
   ],
   "metadata": {
    "collapsed": false
   }
  },
  {
   "cell_type": "code",
   "execution_count": 15,
   "metadata": {
    "ExecuteTime": {
     "end_time": "2023-05-19T15:58:17.354792700Z",
     "start_time": "2023-05-19T15:58:17.349276300Z"
    },
    "collapsed": false
   },
   "outputs": [],
   "source": [
    "df_zscore = pd.concat([df_zscore, to_encoding], axis=1)"
   ]
  },
  {
   "cell_type": "code",
   "execution_count": 17,
   "metadata": {
    "ExecuteTime": {
     "end_time": "2023-05-19T15:58:19.213060900Z",
     "start_time": "2023-05-19T15:58:17.643633400Z"
    },
    "collapsed": false
   },
   "outputs": [],
   "source": [
    "#i wanto to save the dataframe\n",
    "df_zscore.to_csv(\"valuation_forecasting/dataset_normalized.csv\", index=False)"
   ]
  }
 ],
 "metadata": {
  "kernelspec": {
   "display_name": "Python 3",
   "language": "python",
   "name": "python3"
  },
  "language_info": {
   "codemirror_mode": {
    "name": "ipython",
    "version": 2
   },
   "file_extension": ".py",
   "mimetype": "text/x-python",
   "name": "python",
   "nbconvert_exporter": "python",
   "pygments_lexer": "ipython2",
   "version": "2.7.6"
  }
 },
 "nbformat": 4,
 "nbformat_minor": 0
}
