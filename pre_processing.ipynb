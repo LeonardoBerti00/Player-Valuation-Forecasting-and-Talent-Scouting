{
 "cells": [
  {
   "attachments": {},
   "cell_type": "markdown",
   "metadata": {},
   "source": [
    "# Pre Processing\n",
    "**In this file, we will analyze the initial dataset consisting of CSV files in order to create the final dataset. The final dataset, composed of the relevant columns, will be used to train the predictive models**"
   ]
  },
  {
   "attachments": {},
   "cell_type": "markdown",
   "metadata": {},
   "source": [
    "Imported libraries"
   ]
  },
  {
   "cell_type": "code",
   "execution_count": 1,
   "metadata": {
    "ExecuteTime": {
     "end_time": "2023-05-12T14:03:58.232458400Z",
     "start_time": "2023-05-12T14:03:58.126458300Z"
    }
   },
   "outputs": [],
   "source": [
    "import pyspark\n",
    "from pyspark.sql import *\n",
    "from pyspark.sql.types import *\n",
    "from pyspark.sql.functions import *\n",
    "from pyspark import SparkContext, SparkConf\n",
    "import numpy as np\n",
    "from pyspark.sql.functions import udf\n",
    "from pyspark.sql.types import BinaryType\n",
    "from pyspark.sql import SparkSession\n",
    "from pyspark.conf import SparkConf"
   ]
  },
  {
   "attachments": {},
   "cell_type": "markdown",
   "metadata": {},
   "source": [
    "Creating the pyspark session"
   ]
  },
  {
   "cell_type": "code",
   "execution_count": 2,
   "metadata": {
    "ExecuteTime": {
     "end_time": "2023-05-12T14:04:00.917383400Z",
     "start_time": "2023-05-12T14:03:58.232991400Z"
    }
   },
   "outputs": [
    {
     "data": {
      "text/plain": [
       "[('spark.app.id', 'local-1683906678291'),\n",
       " ('spark.driver.extraJavaOptions',\n",
       "  '-XX:+IgnoreUnrecognizedVMOptions --add-opens=java.base/java.lang=ALL-UNNAMED --add-opens=java.base/java.lang.invoke=ALL-UNNAMED --add-opens=java.base/java.lang.reflect=ALL-UNNAMED --add-opens=java.base/java.io=ALL-UNNAMED --add-opens=java.base/java.net=ALL-UNNAMED --add-opens=java.base/java.nio=ALL-UNNAMED --add-opens=java.base/java.util=ALL-UNNAMED --add-opens=java.base/java.util.concurrent=ALL-UNNAMED --add-opens=java.base/java.util.concurrent.atomic=ALL-UNNAMED --add-opens=java.base/sun.nio.ch=ALL-UNNAMED --add-opens=java.base/sun.nio.cs=ALL-UNNAMED --add-opens=java.base/sun.security.action=ALL-UNNAMED --add-opens=java.base/sun.util.calendar=ALL-UNNAMED --add-opens=java.security.jgss/sun.security.krb5=ALL-UNNAMED'),\n",
       " ('spark.executor.memory', '15G'),\n",
       " ('spark.driver.host', 'MarcoPC.homenet.telecomitalia.it'),\n",
       " ('spark.executor.id', 'driver'),\n",
       " ('spark.driver.memory', '50G'),\n",
       " ('spark.app.submitTime', '1683906676598'),\n",
       " ('spark.executor.cores', '10'),\n",
       " ('spark.driver.port', '49984'),\n",
       " ('spark.app.name', 'PySparkProject'),\n",
       " ('spark.app.startTime', '1683906676802'),\n",
       " ('spark.ui.port', '4050'),\n",
       " ('spark.driver.maxResultSize', '40G'),\n",
       " ('spark.rdd.compress', 'True'),\n",
       " ('spark.executor.extraJavaOptions',\n",
       "  '-XX:+IgnoreUnrecognizedVMOptions --add-opens=java.base/java.lang=ALL-UNNAMED --add-opens=java.base/java.lang.invoke=ALL-UNNAMED --add-opens=java.base/java.lang.reflect=ALL-UNNAMED --add-opens=java.base/java.io=ALL-UNNAMED --add-opens=java.base/java.net=ALL-UNNAMED --add-opens=java.base/java.nio=ALL-UNNAMED --add-opens=java.base/java.util=ALL-UNNAMED --add-opens=java.base/java.util.concurrent=ALL-UNNAMED --add-opens=java.base/java.util.concurrent.atomic=ALL-UNNAMED --add-opens=java.base/sun.nio.ch=ALL-UNNAMED --add-opens=java.base/sun.nio.cs=ALL-UNNAMED --add-opens=java.base/sun.security.action=ALL-UNNAMED --add-opens=java.base/sun.util.calendar=ALL-UNNAMED --add-opens=java.security.jgss/sun.security.krb5=ALL-UNNAMED'),\n",
       " ('spark.serializer.objectStreamReset', '100'),\n",
       " ('spark.master', 'local[*]'),\n",
       " ('spark.submit.pyFiles', ''),\n",
       " ('spark.submit.deployMode', 'client'),\n",
       " ('spark.ui.showConsoleProgress', 'true')]"
      ]
     },
     "execution_count": 2,
     "metadata": {},
     "output_type": "execute_result"
    }
   ],
   "source": [
    "# Create the session\n",
    "conf = SparkConf(). \\\n",
    "    set('spark.ui.port', \"4050\"). \\\n",
    "    set('spark.executor.memory', '15G'). \\\n",
    "    set('spark.driver.memory', '50G'). \\\n",
    "    set('spark.driver.maxResultSize', '40G'). \\\n",
    "    setAppName(\"PySparkProject\"). \\\n",
    "    set('spark.executor.cores', \"10\"). \\\n",
    "    setMaster(\"local[*]\")\n",
    "\n",
    "sc = pyspark.SparkContext.getOrCreate(conf=conf)\n",
    "spark = SparkSession.builder.getOrCreate()\n",
    "\n",
    "sc._conf.getAll()"
   ]
  },
  {
   "attachments": {},
   "cell_type": "markdown",
   "metadata": {},
   "source": [
    "**Work on dataset begins**"
   ]
  },
  {
   "attachments": {},
   "cell_type": "markdown",
   "metadata": {},
   "source": [
    "Loading dataframes"
   ]
  },
  {
   "cell_type": "code",
   "execution_count": 3,
   "metadata": {
    "ExecuteTime": {
     "end_time": "2023-05-12T14:04:05.433821200Z",
     "start_time": "2023-05-12T14:04:00.913382200Z"
    }
   },
   "outputs": [],
   "source": [
    "# load the cvs files into dataframes\n",
    "path = \"C:/Users/marco/Desktop\"\n",
    "\n",
    "try:\n",
    "    df_appearances = spark.read.csv(\"archive/appearances.csv\", header=True, inferSchema=True)\n",
    "    df_club_games = spark.read.csv(\"archive/club_games.csv\", header=True, inferSchema=True)\n",
    "    df_clubs = spark.read.csv(\"archive/clubs.csv\", header=True, inferSchema=True)\n",
    "    df_competitions = spark.read.csv(\"archive/competitions.csv\", header=True, inferSchema=True)\n",
    "    df_game_events = spark.read.csv(\"archive/game_events.csv\", header=True, inferSchema=True)\n",
    "    df_games = spark.read.csv(\"archive/games.csv\", header=True, inferSchema=True)\n",
    "    df_player_valuations = spark.read.csv(\"archive/player_valuations.csv\", header=True, inferSchema=True)\n",
    "    df_players = spark.read.csv(\"archive/players.csv\", header=True, inferSchema=True)\n",
    "except Exception:\n",
    "    df_appearances = spark.read.csv(path+\"/archive/appearances.csv\", header=True, inferSchema=True)\n",
    "    df_club_games = spark.read.csv(path+\"/archive/club_games.csv\", header=True, inferSchema=True)\n",
    "    df_clubs = spark.read.csv(path+\"/archive/clubs.csv\", header=True, inferSchema=True)\n",
    "    df_competitions = spark.read.csv(path+\"/archive/competitions.csv\", header=True, inferSchema=True)\n",
    "    df_game_events = spark.read.csv(path+\"/archive/game_events.csv\", header=True, inferSchema=True)\n",
    "    df_games = spark.read.csv(path+\"/archive/games.csv\", header=True, inferSchema=True)\n",
    "    df_player_valuations = spark.read.csv(path+\"/archive/player_valuations.csv\", header=True, inferSchema=True)\n",
    "    df_players = spark.read.csv(path+\"/archive/players.csv\", header=True, inferSchema=True)"
   ]
  },
  {
   "cell_type": "code",
   "execution_count": 4,
   "metadata": {
    "ExecuteTime": {
     "end_time": "2023-05-12T14:04:05.449330400Z",
     "start_time": "2023-05-12T14:04:05.434817400Z"
    }
   },
   "outputs": [],
   "source": [
    "# drop duplicates df_club_games\n",
    "df_club_games = df_club_games.dropDuplicates(['club_id', 'own_goals', 'own_position', 'own_manager_name', 'opponent_id', 'opponent_goals', 'opponent_position', 'opponent_manager_name', 'hosting', 'is_win'])"
   ]
  },
  {
   "cell_type": "code",
   "execution_count": 5,
   "metadata": {
    "ExecuteTime": {
     "end_time": "2023-05-12T14:04:05.476041400Z",
     "start_time": "2023-05-12T14:04:05.450832800Z"
    }
   },
   "outputs": [],
   "source": [
    "# drop duplicates df_games\n",
    "df_games = df_games.dropDuplicates(['home_club_id', 'away_club_id', 'date'])"
   ]
  },
  {
   "cell_type": "code",
   "execution_count": 6,
   "metadata": {
    "ExecuteTime": {
     "end_time": "2023-05-12T14:04:05.523640600Z",
     "start_time": "2023-05-12T14:04:05.465162400Z"
    }
   },
   "outputs": [],
   "source": [
    "# delete from df_appareances the instances where player_club_id is not in the df_clubs dataframe (club ids)\n",
    "# beacuse in df_appereances there are some player_club_id that do not exist\n",
    "df_appearances = df_appearances.join(df_clubs, df_appearances.player_club_id == df_clubs.club_id, 'inner').select(df_appearances.columns)"
   ]
  },
  {
   "cell_type": "code",
   "execution_count": 7,
   "metadata": {
    "ExecuteTime": {
     "end_time": "2023-05-12T14:04:05.542402600Z",
     "start_time": "2023-05-12T14:04:05.511209500Z"
    }
   },
   "outputs": [],
   "source": [
    "# join players and appearances\n",
    "df_players_appearances = df_players.join(df_appearances, [\"player_id\"], how='inner')"
   ]
  },
  {
   "cell_type": "code",
   "execution_count": 8,
   "metadata": {
    "ExecuteTime": {
     "end_time": "2023-05-12T14:04:05.574437200Z",
     "start_time": "2023-05-12T14:04:05.544395800Z"
    }
   },
   "outputs": [],
   "source": [
    " # join players_appearances and club_games to extract information about the games played by the player\n",
    "#rinomina player_club_id in club_id\n",
    "df_players_appearances = df_players_appearances.withColumnRenamed(\"player_club_id\", \"club_id\")\n",
    "df_players_appearances = df_players_appearances.join(df_club_games, [\"game_id\", \"club_id\"], how='inner')"
   ]
  },
  {
   "cell_type": "code",
   "execution_count": 9,
   "metadata": {
    "ExecuteTime": {
     "end_time": "2023-05-12T14:04:05.588824500Z",
     "start_time": "2023-05-12T14:04:05.574973Z"
    }
   },
   "outputs": [],
   "source": [
    "# drop useless and duplicated features from df_players_appearances\n",
    "df_players_appearances = df_players_appearances.drop(\"current_club_id\", \"appearance_id\",\n",
    "                                                        \"highest_market_value_in_eur\", \"current_club_name\",\n",
    "                                                        \"city_of_birth\", \"market_value_in_eur\",\n",
    "                                                        \"contract_expiration_date\", \"agent_name\",\n",
    "                                                        \"current_club_domestic_competition_id\", \"image_url\",\n",
    "                                                        \"last_season\", \"url\", \"player_current_club_id\",\n",
    "                                                        \"first_name\", \"last_name\", \"player_name\", \"player_code\")"
   ]
  },
  {
   "cell_type": "code",
   "execution_count": 10,
   "metadata": {
    "ExecuteTime": {
     "end_time": "2023-05-12T14:04:05.608908600Z",
     "start_time": "2023-05-12T14:04:05.589335100Z"
    }
   },
   "outputs": [],
   "source": [
    "# drop useless and duplicated features from df_players_valuations\n",
    "df_player_valuations = df_player_valuations.drop(\"datetime\", \"dateweek\")"
   ]
  },
  {
   "cell_type": "code",
   "execution_count": 11,
   "metadata": {
    "ExecuteTime": {
     "end_time": "2023-05-12T14:04:05.620456100Z",
     "start_time": "2023-05-12T14:04:05.606410600Z"
    }
   },
   "outputs": [],
   "source": [
    "# rename the column date of df_players_valuations in date_v to avoid confusion with the date of df_players_appearances\n",
    "df_player_valuations = df_player_valuations.withColumnRenamed(\"date\", \"date_v\")"
   ]
  },
  {
   "cell_type": "code",
   "execution_count": 12,
   "metadata": {
    "ExecuteTime": {
     "end_time": "2023-05-12T14:04:05.646008200Z",
     "start_time": "2023-05-12T14:04:05.621452800Z"
    }
   },
   "outputs": [],
   "source": [
    "# Join the two dataframes on player_id\n",
    "df = df_player_valuations.join(df_players_appearances, \"player_id\")"
   ]
  },
  {
   "cell_type": "code",
   "execution_count": 13,
   "metadata": {
    "ExecuteTime": {
     "end_time": "2023-05-12T14:04:05.651494600Z",
     "start_time": "2023-05-12T14:04:05.636992Z"
    }
   },
   "outputs": [],
   "source": [
    "# TODO decide if we want to keep the players with no appearances, in case we have to do a union with valuations\n",
    "# adding before the zeroed column of df_players_appearances"
   ]
  },
  {
   "cell_type": "code",
   "execution_count": 14,
   "metadata": {
    "ExecuteTime": {
     "end_time": "2023-05-12T14:04:05.698044100Z",
     "start_time": "2023-05-12T14:04:05.654691500Z"
    }
   },
   "outputs": [],
   "source": [
    "# we want to keep only the rows where the appearence date is within 1 year from the valuation date\n",
    "df = df.filter(\n",
    "    (year(df.date_v) == year(df.date) + 1) & (month(df.date_v) < month(df.date)) |\n",
    "    (year(df.date_v) == year(df.date)) & (month(df.date_v) > month(df.date)) |\n",
    "    (year(df.date_v) == year(df.date)) & (month(df.date_v) == month(df.date)) & (dayofmonth(df.date_v) > dayofmonth(df.date)) |\n",
    "    (year(df.date_v) == year(df.date) + 1) & (month(df.date_v) == month(df.date)) & (dayofmonth(df.date_v) < dayofmonth(df.date))\n",
    ").dropDuplicates([\"player_id\", \"date\", \"date_v\"])"
   ]
  },
  {
   "attachments": {},
   "cell_type": "markdown",
   "metadata": {},
   "source": [
    "We add the statistics of the teams in which the player played during the year and in which the player took the field (appearance)"
   ]
  },
  {
   "cell_type": "code",
   "execution_count": 15,
   "metadata": {
    "ExecuteTime": {
     "end_time": "2023-05-12T14:04:05.808954100Z",
     "start_time": "2023-05-12T14:04:05.699126700Z"
    }
   },
   "outputs": [],
   "source": [
    "# add the is_draw to count the draws\n",
    "df = df.withColumn(\"is_draw\", when(df.own_goals == df.opponent_goals, 1).otherwise(0))\n",
    "\n",
    "# add column games_played that counts the instances with key (player_id, date_v)\n",
    "df = df.withColumn(\"appearances\", count(df.date_v).over(Window.partitionBy(\"date_v\", \"player_id\")))\n",
    "\n",
    "# add column games_won that counts the instances with key (player_id, date_v) and is_win = 1\n",
    "df = df.withColumn(\"games_won_pl\",\n",
    "                                count(when(df.own_goals > df.opponent_goals, 1)).over(Window.partitionBy(\"date_v\", \"player_id\")))\n",
    "\n",
    "# add column games_draw_pl that counts the instances with key (player_id, date_v) and is_draw = 1\n",
    "df = df.withColumn(\"games_draw_pl\",\n",
    "                                count(when(df.is_draw == 1, 1)).over(Window.partitionBy(\"date_v\", \"player_id\")))\n",
    "\n",
    "df = df.withColumn(\"games_lost_pl\", count(when(df.own_goals < df.opponent_goals, 1)).over(Window.partitionBy(\"date_v\", \"player_id\")))"
   ]
  },
  {
   "cell_type": "code",
   "execution_count": 16,
   "metadata": {
    "ExecuteTime": {
     "end_time": "2023-05-12T14:04:05.856685800Z",
     "start_time": "2023-05-12T14:04:05.806427300Z"
    }
   },
   "outputs": [],
   "source": [
    "# delete some columns\n",
    "df = df.drop(\"game_id\", \"own_goals\", \"own_position\", \"own_manager_name\", \"opponent_id\",\n",
    "                        \"opponent_goals\", \"opponent_position\", \"opponent_manager_name\", \"hosting\", \"is_win\",\n",
    "                        \"is_draw\")\n",
    "\n",
    "# for each (player_id, date_v) add a column with the result of (games_won_pl*3 + games_draw_pl)/games_played\n",
    "df = df.withColumn(\"winning_rate_pl\",\n",
    "                                    (df.games_won_pl * 3 + df.games_draw_pl) / df.appearances)"
   ]
  },
  {
   "cell_type": "code",
   "execution_count": 17,
   "metadata": {
    "ExecuteTime": {
     "end_time": "2023-05-12T14:04:05.900844100Z",
     "start_time": "2023-05-12T14:04:05.838368900Z"
    }
   },
   "outputs": [],
   "source": [
    "# Group by the player_id and the valuation date and extract all the important features\n",
    "df = df.groupBy(\n",
    "    \"player_id\", \"name\", col(\"market_value_in_eur\").alias(\"market_value\"), \"date_v\",\n",
    "    col(\"current_club_id\").alias(\"current_club_id\"), col(\"height_in_cm\").alias(\"height\"),\n",
    "    col(\"country_of_citizenship\").alias(\"citizenship\"), col(\"date_of_birth\").alias(\"date_birth\"), \"position\",\n",
    "    \"sub_position\", \"appearances\", \"games_won_pl\", \"games_draw_pl\", \"games_lost_pl\", \"winning_rate_pl\") \\\n",
    "    .agg(collect_set(\"competition_id\").alias(\"competition_id\"),\n",
    "            collect_set(\"club_id\").alias(\"club_id\"),\n",
    "            sum(\"assists\").alias(\"assists\"),\n",
    "            count(\"date_v\").alias(\"appearances2\"),\n",
    "            sum(\"goals\").alias(\"goals\"),\n",
    "            sum(\"minutes_played\").alias(\"minutes_played\"),\n",
    "            sum(\"red_cards\").alias(\"red_cards\"),\n",
    "            sum(\"yellow_cards\").alias(\"yellow_cards\"))\n",
    "\n",
    "#df.filter(df.player_id == 148455).show()"
   ]
  },
  {
   "cell_type": "code",
   "execution_count": 18,
   "metadata": {
    "ExecuteTime": {
     "end_time": "2023-05-12T14:04:05.933808200Z",
     "start_time": "2023-05-12T14:04:05.900844100Z"
    }
   },
   "outputs": [],
   "source": [
    "#add last valuation in temporal terms\n",
    "df = df.withColumn(\"last_valuation\", lag(df.market_value).over(Window.partitionBy(\"player_id\").orderBy(\"date_v\")))"
   ]
  },
  {
   "attachments": {},
   "cell_type": "markdown",
   "metadata": {},
   "source": [
    "We add the statistics of the teams in which the player played during the year"
   ]
  },
  {
   "cell_type": "code",
   "execution_count": 19,
   "metadata": {
    "ExecuteTime": {
     "end_time": "2023-05-12T14:04:05.949306Z",
     "start_time": "2023-05-12T14:04:05.931812900Z"
    }
   },
   "outputs": [],
   "source": [
    "# join club_games and games to extract the date from games\n",
    "df_club_games_join = df_club_games.join(df_games.select(\"game_id\", \"date\"), \"game_id\", how='inner')"
   ]
  },
  {
   "cell_type": "code",
   "execution_count": 20,
   "metadata": {
    "ExecuteTime": {
     "end_time": "2023-05-12T14:04:05.977953500Z",
     "start_time": "2023-05-12T14:04:05.948299500Z"
    }
   },
   "outputs": [],
   "source": [
    "# Expands the player_club_id list into separate columns\n",
    "df_result_expanded = df.withColumn(\"club_id\", explode(col(\"club_id\")))"
   ]
  },
  {
   "cell_type": "code",
   "execution_count": 21,
   "metadata": {
    "ExecuteTime": {
     "end_time": "2023-05-12T14:04:06.040310600Z",
     "start_time": "2023-05-12T14:04:05.978985600Z"
    }
   },
   "outputs": [],
   "source": [
    "# Peform join based on club_id and apply condition on date\n",
    "df = df_result_expanded.join(df_club_games_join, [\"club_id\"]) \\\n",
    "    .where(expr(\"date <= date_v AND date >= date_v - INTERVAL 1 YEAR\"))"
   ]
  },
  {
   "cell_type": "code",
   "execution_count": 22,
   "metadata": {
    "ExecuteTime": {
     "end_time": "2023-05-12T14:04:06.087020900Z",
     "start_time": "2023-05-12T14:04:06.041306900Z"
    }
   },
   "outputs": [],
   "source": [
    "# Select columns\n",
    "df = df.select(df.columns + df_club_games_join.columns)"
   ]
  },
  {
   "cell_type": "code",
   "execution_count": 23,
   "metadata": {
    "ExecuteTime": {
     "end_time": "2023-05-12T14:04:06.164927200Z",
     "start_time": "2023-05-12T14:04:06.088017500Z"
    }
   },
   "outputs": [],
   "source": [
    "# add column draw that is equal to 1 if own_goals = opponent_goals\n",
    "df = df.withColumn(\"is_draw\", when(df.own_goals == df.opponent_goals, 1).otherwise(0))\n",
    "\n",
    "#add column games_played_club that counts the instances with key (player_id, date_v)\n",
    "df = df.withColumn(\"games_played_club\", count(df.date_v).over(Window.partitionBy(\"date_v\", \"player_id\")))\n",
    "\n",
    "# add column games_won_club that counts the instances with key (player_id, date_v) and is_win = 1\n",
    "df = df.withColumn(\"games_won_club\", count(when(df.own_goals > df.opponent_goals, 1)).over(Window.partitionBy(\"date_v\", \"player_id\")))\n",
    "\n",
    "# add column games_draw_club that counts the instances with key (player_id, date_v) and is_draw = 1\n",
    "df = df.withColumn(\"games_draw_club\", count(when(df.is_draw == 1, 1)).over(Window.partitionBy(\"date_v\", \"player_id\")))\n",
    "\n",
    "# add column games_lost_club that counts the instances with key (player_id, date_v) and is_win = 0 and is_draw = 0\n",
    "df = df.withColumn(\"games_lost_club\", count(when(df.own_goals < df.opponent_goals, 1)).over(Window.partitionBy(\"date_v\", \"player_id\")))"
   ]
  },
  {
   "cell_type": "code",
   "execution_count": 24,
   "metadata": {
    "ExecuteTime": {
     "end_time": "2023-05-12T14:04:06.195364700Z",
     "start_time": "2023-05-12T14:04:06.166919600Z"
    }
   },
   "outputs": [],
   "source": [
    "#delete some columns\n",
    "df = df.drop(\"game_id\", \"own_goals\",  \"own_position\", \"own_manager_name\", \"opponent_id\", \"opponent_goals\", \"opponent_position\", \"opponent_manager_name\", \"hosting\", \"is_win\", \"date\", \"is_draw\")"
   ]
  },
  {
   "cell_type": "code",
   "execution_count": 25,
   "metadata": {
    "ExecuteTime": {
     "end_time": "2023-05-12T14:04:06.202397900Z",
     "start_time": "2023-05-12T14:04:06.180343700Z"
    }
   },
   "outputs": [],
   "source": [
    "#df = df.dropDuplicates([\"player_id\", \"date_v\"])\n",
    "df = df.dropDuplicates()"
   ]
  },
  {
   "cell_type": "code",
   "execution_count": 26,
   "metadata": {
    "ExecuteTime": {
     "end_time": "2023-05-12T14:04:06.212549800Z",
     "start_time": "2023-05-12T14:04:06.197358700Z"
    }
   },
   "outputs": [],
   "source": [
    "# for each (player_id, date_v) add a column with the result of (games_won_club*3 + games_draw_club)/games_played_club\n",
    "df = df.withColumn(\"winning_rate_club\", (df.games_won_club*3 + df.games_draw_club)/df.games_played_club)"
   ]
  },
  {
   "cell_type": "code",
   "execution_count": 27,
   "metadata": {
    "ExecuteTime": {
     "end_time": "2023-05-12T14:04:06.242283700Z",
     "start_time": "2023-05-12T14:04:06.212549800Z"
    }
   },
   "outputs": [],
   "source": [
    "#arrange columns, delete and rename some columns, aggregate club_id\n",
    "df = df.groupBy(\n",
    "    \"player_id\", \"date_v\", \"market_value\", \"name\", \"date_birth\", \"current_club_id\", \"height\", \"citizenship\", \"position\", \"sub_position\", col(\"competition_id\").alias(\"competitions_id\"),\n",
    "    \"assists\", \"goals\", \"minutes_played\", \"red_cards\", \"yellow_cards\", \"last_valuation\", \"appearances\", \"games_won_pl\", \"games_draw_pl\", \"games_lost_pl\", \"winning_rate_pl\",\n",
    "    \"games_played_club\", \"games_won_club\", \"games_draw_club\", \"games_lost_club\", \"winning_rate_club\") \\\n",
    "    .agg(collect_set(\"club_id\").alias(\"clubs_id\"))"
   ]
  },
  {
   "cell_type": "code",
   "execution_count": 28,
   "metadata": {
    "ExecuteTime": {
     "end_time": "2023-05-12T14:04:06.277043900Z",
     "start_time": "2023-05-12T14:04:06.244276400Z"
    }
   },
   "outputs": [],
   "source": [
    "# add column age that is equal to date_v - date_birth cifra intera\n",
    "df = df.withColumn(\"age\", floor(datediff(df.date_v, df.date_birth)/365))"
   ]
  },
  {
   "cell_type": "code",
   "execution_count": 29,
   "metadata": {
    "ExecuteTime": {
     "end_time": "2023-05-12T14:04:06.309240700Z",
     "start_time": "2023-05-12T14:04:06.273533200Z"
    }
   },
   "outputs": [],
   "source": [
    "# take only the first digit after the comma of winning_rate_pl and winning_rate_club\n",
    "df = df.withColumn(\"winning_rate_pl\", round(df.winning_rate_pl, 1))\n",
    "df = df.withColumn(\"winning_rate_club\", round(df.winning_rate_club, 1))"
   ]
  },
  {
   "cell_type": "code",
   "execution_count": 30,
   "metadata": {
    "ExecuteTime": {
     "end_time": "2023-05-12T14:04:06.340220900Z",
     "start_time": "2023-05-12T14:04:06.306730100Z"
    }
   },
   "outputs": [],
   "source": [
    "df = df.select(\"player_id\", \"date_v\", \"market_value\", \"name\", \"date_birth\", \"age\", \"current_club_id\", \"height\", \"citizenship\", \"position\", \"sub_position\", \"competitions_id\", \"clubs_id\",\n",
    "    \"assists\", \"goals\", \"minutes_played\", \"red_cards\", \"yellow_cards\", \"last_valuation\", \"appearances\", \"games_won_pl\", \"games_draw_pl\", \"games_lost_pl\", \"winning_rate_pl\",\n",
    "    \"games_played_club\", \"games_won_club\", \"games_draw_club\", \"games_lost_club\", \"winning_rate_club\")"
   ]
  },
  {
   "cell_type": "code",
   "execution_count": 31,
   "metadata": {
    "ExecuteTime": {
     "end_time": "2023-05-12T14:04:09.541384100Z",
     "start_time": "2023-05-12T14:04:06.337212Z"
    }
   },
   "outputs": [
    {
     "name": "stdout",
     "output_type": "stream",
     "text": [
      "+---------+-------------------+------------+-------------+-------------------+---+---------------+------+-----------+--------+------------+--------------------+--------------+-------+-----+--------------+---------+------------+--------------+-----------+------------+-------------+-------------+---------------+-----------------+--------------+---------------+---------------+-----------------+\n",
      "|player_id|             date_v|market_value|         name|         date_birth|age|current_club_id|height|citizenship|position|sub_position|     competitions_id|      clubs_id|assists|goals|minutes_played|red_cards|yellow_cards|last_valuation|appearances|games_won_pl|games_draw_pl|games_lost_pl|winning_rate_pl|games_played_club|games_won_club|games_draw_club|games_lost_club|winning_rate_club|\n",
      "+---------+-------------------+------------+-------------+-------------------+---+---------------+------+-----------+--------+------------+--------------------+--------------+-------+-----+--------------+---------+------------+--------------+-----------+------------+-------------+-------------+---------------+-----------------+--------------+---------------+---------------+-----------------+\n",
      "|   148455|2015-02-12 00:00:00|    10000000|Mohamed Salah|1992-06-15 00:00:00| 22|             31|   175|      Egypt|  Attack|Right Winger| [CL, FAC, IT1, GB1]|    [430, 631]|      1|    0|           202|        0|           0|          null|          7|           5|            0|            2|            2.1|              102|            55|             24|             23|              1.9|\n",
      "|   148455|2015-03-20 00:00:00|    12000000|Mohamed Salah|1992-06-15 00:00:00| 22|             31|   175|      Egypt|  Attack|Right Winger|[CL, FAC, CIT, EL...|    [430, 631]|      3|    6|           879|        0|           1|      10000000|         16|          10|            3|            3|            2.1|              102|            56|             27|             19|              1.9|\n",
      "|   148455|2015-07-01 00:00:00|    18000000|Mohamed Salah|1992-06-15 00:00:00| 23|             31|   175|      Egypt|  Attack|Right Winger|[CL, FAC, CIT, EL...|    [430, 631]|      5|    9|          1970|        0|           1|      12000000|         32|          17|            5|           10|            1.8|              104|            59|             27|             18|              2.0|\n",
      "|   148455|2015-11-05 00:00:00|    20000000|Mohamed Salah|1992-06-15 00:00:00| 23|             31|   175|      Egypt|  Attack|Right Winger|[CL, FAC, CIT, EL...|[12, 430, 631]|      5|   15|          3055|        0|           3|      18000000|         43|          21|            9|           13|            1.7|              161|            80|             42|             39|              1.8|\n",
      "|   148455|2016-01-04 00:00:00|    20000000|Mohamed Salah|1992-06-15 00:00:00| 23|             31|   175|      Egypt|  Attack|Right Winger|[CL, FAC, CIT, EL...|[12, 430, 631]|      5|   15|          3333|        0|           3|      20000000|         46|          22|           11|           13|            1.7|              159|            75|             43|             41|              1.7|\n",
      "|   148455|2016-04-01 00:00:00|    23000000|Mohamed Salah|1992-06-15 00:00:00| 23|             31|   175|      Egypt|  Attack|Right Winger|  [CL, CIT, EL, IT1]|     [12, 430]|      6|   15|          3799|        0|           3|      20000000|         49|          24|           11|           14|            1.7|              103|            49|             24|             30|              1.7|\n",
      "|   148455|2016-07-15 00:00:00|    27000000|Mohamed Salah|1992-06-15 00:00:00| 24|             31|   175|      Egypt|  Attack|Right Winger|      [CL, CIT, IT1]|          [12]|      6|   15|          3402|        0|           3|      23000000|         42|          23|           12|            7|            1.9|               47|            24|             14|              9|              1.8|\n",
      "|   148455|2017-01-02 00:00:00|    30000000|Mohamed Salah|1992-06-15 00:00:00| 24|             31|   175|      Egypt|  Attack|Right Winger|  [CL, EL, IT1, CLQ]|          [12]|     10|   18|          3549|        0|           3|      27000000|         44|          26|           10|            8|            2.0|               49|            29|             12|              8|              2.0|\n",
      "|   148455|2017-06-08 00:00:00|    35000000|Mohamed Salah|1992-06-15 00:00:00| 24|             31|   175|      Egypt|  Attack|Right Winger| [CIT, EL, IT1, CLQ]|          [12]|     12|   19|          3186|        0|           2|      30000000|         41|          27|            5|            9|            2.1|               54|            36|              7|             11|              2.1|\n",
      "|   148455|2017-10-23 00:00:00|    40000000|Mohamed Salah|1992-06-15 00:00:00| 25|             31|   175|      Egypt|  Attack|Right Winger|[CL, CIT, EL, IT1...|      [12, 31]|     11|   22|          3290|        0|           1|      35000000|         42|          26|            8|            8|            2.0|               98|            60|             20|             18|              2.0|\n",
      "|   148455|2018-01-02 00:00:00|    80000000|Mohamed Salah|1992-06-15 00:00:00| 25|             31|   175|      Egypt|  Attack|Right Winger|[CL, CIT, EL, IT1...|      [12, 31]|     14|   33|          3831|        0|           0|      40000000|         49|          31|           12|            6|            2.1|              105|            63|             24|             18|              2.0|\n",
      "|   148455|2018-05-28 00:00:00|   150000000|Mohamed Salah|1992-06-15 00:00:00| 25|             31|   175|      Egypt|  Attack|Right Winger| [CL, FAC, CLQ, GB1]|          [31]|     14|   44|          4119|        0|           1|      80000000|         52|          29|           15|            8|            2.0|               55|            31|             16|              8|              2.0|\n",
      "|   148455|2018-12-19 00:00:00|   150000000|Mohamed Salah|1992-06-15 00:00:00| 26|             31|   175|      Egypt|  Attack|Right Winger|      [CL, FAC, GB1]|          [31]|     15|   37|          4015|        0|           2|     150000000|         49|          32|            8|            9|            2.1|               52|            34|              9|              9|              2.1|\n",
      "|   148455|2019-06-13 00:00:00|   150000000|Mohamed Salah|1992-06-15 00:00:00| 27|             31|   175|      Egypt|  Attack|Right Winger|      [CL, FAC, GB1]|          [31]|     12|   27|          4339|        0|           2|     150000000|         51|          37|            8|            6|            2.3|               52|            38|              8|              6|              2.3|\n",
      "|   148455|2019-12-10 00:00:00|   150000000|Mohamed Salah|1992-06-15 00:00:00| 27|             31|   175|      Egypt|  Attack|Right Winger|[CL, GBCS, FAC, G...|          [31]|     13|   27|          4367|        0|           2|     150000000|         50|          39|            6|            5|            2.5|               55|            43|              7|              5|              2.5|\n",
      "|   148455|2020-04-08 00:00:00|   120000000|Mohamed Salah|1992-06-15 00:00:00| 27|             31|   175|      Egypt|  Attack|Right Winger|[CL, GBCS, FAC, G...|          [31]|     12|   28|          4216|        0|           2|     150000000|         49|          40|            2|            7|            2.5|               55|            45|              3|              7|              2.5|\n",
      "|   148455|2020-10-13 00:00:00|   120000000|Mohamed Salah|1992-06-15 00:00:00| 28|             31|   175|      Egypt|  Attack|Right Winger|[CL, GBCS, FAC, G...|          [31]|     10|   22|          3412|        0|           2|     120000000|         41|          30|            3|            8|            2.3|               47|            34|              5|              8|              2.3|\n",
      "|   148455|2021-03-18 00:00:00|   110000000|Mohamed Salah|1992-06-15 00:00:00| 28|             31|   175|      Egypt|  Attack|Right Winger|[CL, GBCS, FAC, GB1]|          [31]|      8|   28|          3839|        0|           0|     120000000|         47|          24|            9|           14|            1.7|               49|            25|             10|             14|              1.7|\n",
      "|   148455|2021-06-08 00:00:00|   100000000|Mohamed Salah|1992-06-15 00:00:00| 29|             31|   175|      Egypt|  Attack|Right Winger|[CL, GBCS, FAC, GB1]|          [31]|     10|   33|          4665|        0|           0|     110000000|         57|          31|           12|           14|            1.8|               59|            32|             13|             14|              1.8|\n",
      "|   148455|2021-12-23 00:00:00|   100000000|Mohamed Salah|1992-06-15 00:00:00| 29|             31|   175|      Egypt|  Attack|Right Winger|      [CL, FAC, GB1]|          [31]|     12|   35|          4433|        0|           1|     100000000|         52|          31|           11|           10|            2.0|               52|            31|             11|             10|              2.0|\n",
      "|   148455|2022-06-15 00:00:00|    90000000|Mohamed Salah|1992-06-15 00:00:00| 30|             31|   175|      Egypt|  Attack|Right Winger|      [CL, FAC, GB1]|          [31]|     16|   30|          3823|        0|           1|     100000000|         49|          36|            9|            4|            2.4|               56|            43|              9|              4|              2.5|\n",
      "|   148455|2022-11-03 00:00:00|    80000000|Mohamed Salah|1992-06-15 00:00:00| 30|             31|   175|      Egypt|  Attack|Right Winger|[CL, GBCS, FAC, GB1]|          [31]|     14|   27|          4187|        0|           0|      90000000|         54|          36|            9|            9|            2.2|               62|            44|              9|              9|              2.3|\n",
      "|   148455|2023-03-16 00:00:00|    70000000|Mohamed Salah|1992-06-15 00:00:00| 30|             31|   175|      Egypt|  Attack|Right Winger|[CL, CGB, GBCS, F...|          [31]|     16|   25|          4310|        0|           1|      80000000|         54|          30|           10|           14|            1.9|               58|            34|             10|             14|              1.9|\n",
      "+---------+-------------------+------------+-------------+-------------------+---+---------------+------+-----------+--------+------------+--------------------+--------------+-------+-----+--------------+---------+------------+--------------+-----------+------------+-------------+-------------+---------------+-----------------+--------------+---------------+---------------+-----------------+\n",
      "\n"
     ]
    }
   ],
   "source": [
    "df.filter(df.player_id == 148455).show(50)"
   ]
  },
  {
   "cell_type": "code",
   "execution_count": 32,
   "metadata": {
    "ExecuteTime": {
     "end_time": "2023-05-12T14:05:36.027554Z",
     "start_time": "2023-05-12T14:05:21.296746700Z"
    }
   },
   "outputs": [
    {
     "name": "stderr",
     "output_type": "stream",
     "text": [
      "c:\\Users\\marco\\AppData\\Local\\Programs\\Python\\Python310\\lib\\site-packages\\pyspark\\sql\\pandas\\conversion.py:248: FutureWarning: Passing unit-less datetime64 dtype to .astype is deprecated and will raise in a future version. Pass 'datetime64[ns]' instead\n",
      "  series = series.astype(t, copy=False)\n",
      "c:\\Users\\marco\\AppData\\Local\\Programs\\Python\\Python310\\lib\\site-packages\\pyspark\\sql\\pandas\\conversion.py:248: FutureWarning: Passing unit-less datetime64 dtype to .astype is deprecated and will raise in a future version. Pass 'datetime64[ns]' instead\n",
      "  series = series.astype(t, copy=False)\n"
     ]
    }
   ],
   "source": [
    "import pandas as pd\n",
    "df_pandas = df.toPandas()\n",
    "df_pandas.to_csv('data.csv', sep=',', encoding='utf-8', index=False)"
   ]
  },
  {
   "cell_type": "code",
   "execution_count": 33,
   "metadata": {},
   "outputs": [
    {
     "data": {
      "text/html": [
       "<div>\n",
       "<style scoped>\n",
       "    .dataframe tbody tr th:only-of-type {\n",
       "        vertical-align: middle;\n",
       "    }\n",
       "\n",
       "    .dataframe tbody tr th {\n",
       "        vertical-align: top;\n",
       "    }\n",
       "\n",
       "    .dataframe thead th {\n",
       "        text-align: right;\n",
       "    }\n",
       "</style>\n",
       "<table border=\"1\" class=\"dataframe\">\n",
       "  <thead>\n",
       "    <tr style=\"text-align: right;\">\n",
       "      <th></th>\n",
       "      <th>player_id</th>\n",
       "      <th>date_v</th>\n",
       "      <th>market_value</th>\n",
       "      <th>name</th>\n",
       "      <th>date_birth</th>\n",
       "      <th>age</th>\n",
       "      <th>current_club_id</th>\n",
       "      <th>height</th>\n",
       "      <th>citizenship</th>\n",
       "      <th>position</th>\n",
       "      <th>...</th>\n",
       "      <th>appearances</th>\n",
       "      <th>games_won_pl</th>\n",
       "      <th>games_draw_pl</th>\n",
       "      <th>games_lost_pl</th>\n",
       "      <th>winning_rate_pl</th>\n",
       "      <th>games_played_club</th>\n",
       "      <th>games_won_club</th>\n",
       "      <th>games_draw_club</th>\n",
       "      <th>games_lost_club</th>\n",
       "      <th>winning_rate_club</th>\n",
       "    </tr>\n",
       "  </thead>\n",
       "  <tbody>\n",
       "    <tr>\n",
       "      <th>0</th>\n",
       "      <td>26</td>\n",
       "      <td>2015-02-04</td>\n",
       "      <td>3000000</td>\n",
       "      <td>Roman Weidenfeller</td>\n",
       "      <td>1980-08-06</td>\n",
       "      <td>34.0</td>\n",
       "      <td>16</td>\n",
       "      <td>190</td>\n",
       "      <td>Germany</td>\n",
       "      <td>Goalkeeper</td>\n",
       "      <td>...</td>\n",
       "      <td>18</td>\n",
       "      <td>7</td>\n",
       "      <td>3</td>\n",
       "      <td>8</td>\n",
       "      <td>1.3</td>\n",
       "      <td>50</td>\n",
       "      <td>26</td>\n",
       "      <td>7</td>\n",
       "      <td>17</td>\n",
       "      <td>1.7</td>\n",
       "    </tr>\n",
       "    <tr>\n",
       "      <th>1</th>\n",
       "      <td>26</td>\n",
       "      <td>2015-07-01</td>\n",
       "      <td>2000000</td>\n",
       "      <td>Roman Weidenfeller</td>\n",
       "      <td>1980-08-06</td>\n",
       "      <td>34.0</td>\n",
       "      <td>16</td>\n",
       "      <td>190</td>\n",
       "      <td>Germany</td>\n",
       "      <td>Goalkeeper</td>\n",
       "      <td>...</td>\n",
       "      <td>32</td>\n",
       "      <td>14</td>\n",
       "      <td>5</td>\n",
       "      <td>13</td>\n",
       "      <td>1.5</td>\n",
       "      <td>49</td>\n",
       "      <td>23</td>\n",
       "      <td>8</td>\n",
       "      <td>18</td>\n",
       "      <td>1.6</td>\n",
       "    </tr>\n",
       "    <tr>\n",
       "      <th>2</th>\n",
       "      <td>26</td>\n",
       "      <td>2015-10-16</td>\n",
       "      <td>1000000</td>\n",
       "      <td>Roman Weidenfeller</td>\n",
       "      <td>1980-08-06</td>\n",
       "      <td>35.0</td>\n",
       "      <td>16</td>\n",
       "      <td>190</td>\n",
       "      <td>Germany</td>\n",
       "      <td>Goalkeeper</td>\n",
       "      <td>...</td>\n",
       "      <td>29</td>\n",
       "      <td>14</td>\n",
       "      <td>5</td>\n",
       "      <td>10</td>\n",
       "      <td>1.6</td>\n",
       "      <td>54</td>\n",
       "      <td>29</td>\n",
       "      <td>10</td>\n",
       "      <td>15</td>\n",
       "      <td>1.8</td>\n",
       "    </tr>\n",
       "    <tr>\n",
       "      <th>3</th>\n",
       "      <td>26</td>\n",
       "      <td>2016-02-15</td>\n",
       "      <td>1000000</td>\n",
       "      <td>Roman Weidenfeller</td>\n",
       "      <td>1980-08-06</td>\n",
       "      <td>35.0</td>\n",
       "      <td>16</td>\n",
       "      <td>190</td>\n",
       "      <td>Germany</td>\n",
       "      <td>Goalkeeper</td>\n",
       "      <td>...</td>\n",
       "      <td>20</td>\n",
       "      <td>11</td>\n",
       "      <td>3</td>\n",
       "      <td>6</td>\n",
       "      <td>1.8</td>\n",
       "      <td>54</td>\n",
       "      <td>36</td>\n",
       "      <td>7</td>\n",
       "      <td>11</td>\n",
       "      <td>2.1</td>\n",
       "    </tr>\n",
       "    <tr>\n",
       "      <th>4</th>\n",
       "      <td>26</td>\n",
       "      <td>2016-07-22</td>\n",
       "      <td>1000000</td>\n",
       "      <td>Roman Weidenfeller</td>\n",
       "      <td>1980-08-06</td>\n",
       "      <td>35.0</td>\n",
       "      <td>16</td>\n",
       "      <td>190</td>\n",
       "      <td>Germany</td>\n",
       "      <td>Goalkeeper</td>\n",
       "      <td>...</td>\n",
       "      <td>14</td>\n",
       "      <td>9</td>\n",
       "      <td>2</td>\n",
       "      <td>3</td>\n",
       "      <td>2.1</td>\n",
       "      <td>56</td>\n",
       "      <td>40</td>\n",
       "      <td>8</td>\n",
       "      <td>8</td>\n",
       "      <td>2.3</td>\n",
       "    </tr>\n",
       "    <tr>\n",
       "      <th>...</th>\n",
       "      <td>...</td>\n",
       "      <td>...</td>\n",
       "      <td>...</td>\n",
       "      <td>...</td>\n",
       "      <td>...</td>\n",
       "      <td>...</td>\n",
       "      <td>...</td>\n",
       "      <td>...</td>\n",
       "      <td>...</td>\n",
       "      <td>...</td>\n",
       "      <td>...</td>\n",
       "      <td>...</td>\n",
       "      <td>...</td>\n",
       "      <td>...</td>\n",
       "      <td>...</td>\n",
       "      <td>...</td>\n",
       "      <td>...</td>\n",
       "      <td>...</td>\n",
       "      <td>...</td>\n",
       "      <td>...</td>\n",
       "      <td>...</td>\n",
       "    </tr>\n",
       "    <tr>\n",
       "      <th>135912</th>\n",
       "      <td>987700</td>\n",
       "      <td>2022-11-21</td>\n",
       "      <td>300000</td>\n",
       "      <td>Jonathan Okoronkwo</td>\n",
       "      <td>2003-09-13</td>\n",
       "      <td>19.0</td>\n",
       "      <td>16704</td>\n",
       "      <td>175</td>\n",
       "      <td>Nigeria</td>\n",
       "      <td>Attack</td>\n",
       "      <td>...</td>\n",
       "      <td>5</td>\n",
       "      <td>3</td>\n",
       "      <td>1</td>\n",
       "      <td>1</td>\n",
       "      <td>2.0</td>\n",
       "      <td>36</td>\n",
       "      <td>16</td>\n",
       "      <td>9</td>\n",
       "      <td>11</td>\n",
       "      <td>1.6</td>\n",
       "    </tr>\n",
       "    <tr>\n",
       "      <th>135913</th>\n",
       "      <td>1014243</td>\n",
       "      <td>2023-02-01</td>\n",
       "      <td>400000</td>\n",
       "      <td>Vivaldo</td>\n",
       "      <td>2005-01-28</td>\n",
       "      <td>18.0</td>\n",
       "      <td>410</td>\n",
       "      <td>192</td>\n",
       "      <td>Portugal</td>\n",
       "      <td>Attack</td>\n",
       "      <td>...</td>\n",
       "      <td>1</td>\n",
       "      <td>0</td>\n",
       "      <td>1</td>\n",
       "      <td>0</td>\n",
       "      <td>1.0</td>\n",
       "      <td>39</td>\n",
       "      <td>15</td>\n",
       "      <td>13</td>\n",
       "      <td>11</td>\n",
       "      <td>1.5</td>\n",
       "    </tr>\n",
       "    <tr>\n",
       "      <th>135914</th>\n",
       "      <td>1028566</td>\n",
       "      <td>2022-10-27</td>\n",
       "      <td>50000</td>\n",
       "      <td>Mert Kurt</td>\n",
       "      <td>2002-10-25</td>\n",
       "      <td>20.0</td>\n",
       "      <td>11688</td>\n",
       "      <td>180</td>\n",
       "      <td>Turkey</td>\n",
       "      <td>Attack</td>\n",
       "      <td>...</td>\n",
       "      <td>3</td>\n",
       "      <td>0</td>\n",
       "      <td>0</td>\n",
       "      <td>3</td>\n",
       "      <td>0.0</td>\n",
       "      <td>38</td>\n",
       "      <td>12</td>\n",
       "      <td>9</td>\n",
       "      <td>17</td>\n",
       "      <td>1.2</td>\n",
       "    </tr>\n",
       "    <tr>\n",
       "      <th>135915</th>\n",
       "      <td>1028566</td>\n",
       "      <td>2023-03-14</td>\n",
       "      <td>75000</td>\n",
       "      <td>Mert Kurt</td>\n",
       "      <td>2002-10-25</td>\n",
       "      <td>20.0</td>\n",
       "      <td>11688</td>\n",
       "      <td>180</td>\n",
       "      <td>Turkey</td>\n",
       "      <td>Attack</td>\n",
       "      <td>...</td>\n",
       "      <td>4</td>\n",
       "      <td>0</td>\n",
       "      <td>0</td>\n",
       "      <td>4</td>\n",
       "      <td>0.0</td>\n",
       "      <td>34</td>\n",
       "      <td>8</td>\n",
       "      <td>12</td>\n",
       "      <td>14</td>\n",
       "      <td>1.1</td>\n",
       "    </tr>\n",
       "    <tr>\n",
       "      <th>135916</th>\n",
       "      <td>1059630</td>\n",
       "      <td>2022-12-06</td>\n",
       "      <td>100000</td>\n",
       "      <td>Vitaliy Mykhayliv</td>\n",
       "      <td>2005-10-11</td>\n",
       "      <td>17.0</td>\n",
       "      <td>18105</td>\n",
       "      <td>165</td>\n",
       "      <td>Ukraine</td>\n",
       "      <td>Attack</td>\n",
       "      <td>...</td>\n",
       "      <td>7</td>\n",
       "      <td>0</td>\n",
       "      <td>1</td>\n",
       "      <td>6</td>\n",
       "      <td>0.1</td>\n",
       "      <td>15</td>\n",
       "      <td>2</td>\n",
       "      <td>4</td>\n",
       "      <td>9</td>\n",
       "      <td>0.7</td>\n",
       "    </tr>\n",
       "  </tbody>\n",
       "</table>\n",
       "<p>135917 rows × 29 columns</p>\n",
       "</div>"
      ],
      "text/plain": [
       "        player_id     date_v  market_value                name date_birth  \\\n",
       "0              26 2015-02-04       3000000  Roman Weidenfeller 1980-08-06   \n",
       "1              26 2015-07-01       2000000  Roman Weidenfeller 1980-08-06   \n",
       "2              26 2015-10-16       1000000  Roman Weidenfeller 1980-08-06   \n",
       "3              26 2016-02-15       1000000  Roman Weidenfeller 1980-08-06   \n",
       "4              26 2016-07-22       1000000  Roman Weidenfeller 1980-08-06   \n",
       "...           ...        ...           ...                 ...        ...   \n",
       "135912     987700 2022-11-21        300000  Jonathan Okoronkwo 2003-09-13   \n",
       "135913    1014243 2023-02-01        400000             Vivaldo 2005-01-28   \n",
       "135914    1028566 2022-10-27         50000           Mert Kurt 2002-10-25   \n",
       "135915    1028566 2023-03-14         75000           Mert Kurt 2002-10-25   \n",
       "135916    1059630 2022-12-06        100000   Vitaliy Mykhayliv 2005-10-11   \n",
       "\n",
       "         age  current_club_id  height citizenship    position  ...  \\\n",
       "0       34.0               16     190     Germany  Goalkeeper  ...   \n",
       "1       34.0               16     190     Germany  Goalkeeper  ...   \n",
       "2       35.0               16     190     Germany  Goalkeeper  ...   \n",
       "3       35.0               16     190     Germany  Goalkeeper  ...   \n",
       "4       35.0               16     190     Germany  Goalkeeper  ...   \n",
       "...      ...              ...     ...         ...         ...  ...   \n",
       "135912  19.0            16704     175     Nigeria      Attack  ...   \n",
       "135913  18.0              410     192    Portugal      Attack  ...   \n",
       "135914  20.0            11688     180      Turkey      Attack  ...   \n",
       "135915  20.0            11688     180      Turkey      Attack  ...   \n",
       "135916  17.0            18105     165     Ukraine      Attack  ...   \n",
       "\n",
       "       appearances games_won_pl games_draw_pl  games_lost_pl  winning_rate_pl  \\\n",
       "0               18            7             3              8              1.3   \n",
       "1               32           14             5             13              1.5   \n",
       "2               29           14             5             10              1.6   \n",
       "3               20           11             3              6              1.8   \n",
       "4               14            9             2              3              2.1   \n",
       "...            ...          ...           ...            ...              ...   \n",
       "135912           5            3             1              1              2.0   \n",
       "135913           1            0             1              0              1.0   \n",
       "135914           3            0             0              3              0.0   \n",
       "135915           4            0             0              4              0.0   \n",
       "135916           7            0             1              6              0.1   \n",
       "\n",
       "        games_played_club  games_won_club  games_draw_club  games_lost_club  \\\n",
       "0                      50              26                7               17   \n",
       "1                      49              23                8               18   \n",
       "2                      54              29               10               15   \n",
       "3                      54              36                7               11   \n",
       "4                      56              40                8                8   \n",
       "...                   ...             ...              ...              ...   \n",
       "135912                 36              16                9               11   \n",
       "135913                 39              15               13               11   \n",
       "135914                 38              12                9               17   \n",
       "135915                 34               8               12               14   \n",
       "135916                 15               2                4                9   \n",
       "\n",
       "        winning_rate_club  \n",
       "0                     1.7  \n",
       "1                     1.6  \n",
       "2                     1.8  \n",
       "3                     2.1  \n",
       "4                     2.3  \n",
       "...                   ...  \n",
       "135912                1.6  \n",
       "135913                1.5  \n",
       "135914                1.2  \n",
       "135915                1.1  \n",
       "135916                0.7  \n",
       "\n",
       "[135917 rows x 29 columns]"
      ]
     },
     "execution_count": 33,
     "metadata": {},
     "output_type": "execute_result"
    }
   ],
   "source": [
    "df_pandas"
   ]
  },
  {
   "cell_type": "code",
   "execution_count": 60,
   "metadata": {
    "ExecuteTime": {
     "end_time": "2023-05-12T14:55:14.593143Z",
     "start_time": "2023-05-12T14:53:56.347177300Z"
    }
   },
   "outputs": [
    {
     "name": "stdout",
     "output_type": "stream",
     "text": [
      "Since AutoViz cannot visualize multi-label targets, choosing first item in targets: market_value\n",
      "Shape of your Data Set loaded: (135917, 27)\n",
      "#######################################################################################\n",
      "######################## C L A S S I F Y I N G  V A R I A B L E S  ####################\n",
      "#######################################################################################\n",
      "Classifying variables in data set...\n",
      "Data cleaning improvement suggestions. Complete them before proceeding to ML modeling.\n"
     ]
    },
    {
     "data": {
      "text/html": [
       "<style type=\"text/css\">\n",
       "#T_5fafd_row0_col0, #T_5fafd_row0_col4, #T_5fafd_row3_col1, #T_5fafd_row3_col3, #T_5fafd_row21_col5 {\n",
       "  background-color: #67000d;\n",
       "  color: #f1f1f1;\n",
       "  font-family: Segoe UI;\n",
       "}\n",
       "#T_5fafd_row0_col1, #T_5fafd_row0_col3, #T_5fafd_row8_col1, #T_5fafd_row8_col3 {\n",
       "  background-color: #fff0e8;\n",
       "  color: #000000;\n",
       "  font-family: Segoe UI;\n",
       "}\n",
       "#T_5fafd_row0_col2, #T_5fafd_row0_col6, #T_5fafd_row1_col2, #T_5fafd_row1_col6, #T_5fafd_row2_col2, #T_5fafd_row2_col6, #T_5fafd_row3_col2, #T_5fafd_row3_col6, #T_5fafd_row4_col2, #T_5fafd_row4_col6, #T_5fafd_row5_col2, #T_5fafd_row5_col6, #T_5fafd_row6_col2, #T_5fafd_row6_col6, #T_5fafd_row7_col2, #T_5fafd_row7_col6, #T_5fafd_row8_col2, #T_5fafd_row8_col6, #T_5fafd_row9_col2, #T_5fafd_row9_col6, #T_5fafd_row10_col2, #T_5fafd_row10_col6, #T_5fafd_row11_col2, #T_5fafd_row11_col6, #T_5fafd_row12_col2, #T_5fafd_row12_col6, #T_5fafd_row13_col2, #T_5fafd_row13_col6, #T_5fafd_row14_col2, #T_5fafd_row14_col6, #T_5fafd_row15_col2, #T_5fafd_row15_col6, #T_5fafd_row16_col2, #T_5fafd_row16_col6, #T_5fafd_row17_col2, #T_5fafd_row17_col6, #T_5fafd_row18_col2, #T_5fafd_row18_col6, #T_5fafd_row19_col2, #T_5fafd_row19_col6, #T_5fafd_row20_col2, #T_5fafd_row20_col6, #T_5fafd_row21_col2, #T_5fafd_row21_col6, #T_5fafd_row22_col2, #T_5fafd_row22_col6, #T_5fafd_row23_col2, #T_5fafd_row23_col6, #T_5fafd_row24_col2, #T_5fafd_row24_col6, #T_5fafd_row25_col2, #T_5fafd_row25_col6 {\n",
       "  font-family: Segoe UI;\n",
       "}\n",
       "#T_5fafd_row0_col5, #T_5fafd_row1_col1, #T_5fafd_row1_col3, #T_5fafd_row2_col0, #T_5fafd_row2_col4, #T_5fafd_row2_col5, #T_5fafd_row3_col0, #T_5fafd_row3_col4, #T_5fafd_row3_col5, #T_5fafd_row4_col0, #T_5fafd_row4_col4, #T_5fafd_row4_col5, #T_5fafd_row5_col0, #T_5fafd_row5_col4, #T_5fafd_row5_col5, #T_5fafd_row6_col0, #T_5fafd_row6_col4, #T_5fafd_row6_col5, #T_5fafd_row7_col0, #T_5fafd_row7_col4, #T_5fafd_row7_col5, #T_5fafd_row8_col0, #T_5fafd_row8_col4, #T_5fafd_row8_col5, #T_5fafd_row9_col0, #T_5fafd_row9_col4, #T_5fafd_row9_col5, #T_5fafd_row10_col0, #T_5fafd_row10_col4, #T_5fafd_row10_col5, #T_5fafd_row11_col0, #T_5fafd_row11_col1, #T_5fafd_row11_col3, #T_5fafd_row11_col4, #T_5fafd_row11_col5, #T_5fafd_row12_col0, #T_5fafd_row12_col4, #T_5fafd_row12_col5, #T_5fafd_row13_col0, #T_5fafd_row13_col4, #T_5fafd_row13_col5, #T_5fafd_row14_col0, #T_5fafd_row14_col1, #T_5fafd_row14_col3, #T_5fafd_row14_col4, #T_5fafd_row14_col5, #T_5fafd_row15_col0, #T_5fafd_row15_col4, #T_5fafd_row15_col5, #T_5fafd_row16_col0, #T_5fafd_row16_col4, #T_5fafd_row16_col5, #T_5fafd_row17_col0, #T_5fafd_row17_col4, #T_5fafd_row17_col5, #T_5fafd_row18_col0, #T_5fafd_row18_col4, #T_5fafd_row18_col5, #T_5fafd_row19_col0, #T_5fafd_row19_col4, #T_5fafd_row19_col5, #T_5fafd_row20_col0, #T_5fafd_row20_col4, #T_5fafd_row20_col5, #T_5fafd_row21_col0, #T_5fafd_row21_col1, #T_5fafd_row21_col3, #T_5fafd_row21_col4, #T_5fafd_row22_col0, #T_5fafd_row22_col4, #T_5fafd_row22_col5, #T_5fafd_row23_col0, #T_5fafd_row23_col4, #T_5fafd_row23_col5, #T_5fafd_row24_col0, #T_5fafd_row24_col4, #T_5fafd_row24_col5, #T_5fafd_row25_col0, #T_5fafd_row25_col4, #T_5fafd_row25_col5 {\n",
       "  background-color: #fff5f0;\n",
       "  color: #000000;\n",
       "  font-family: Segoe UI;\n",
       "}\n",
       "#T_5fafd_row1_col0, #T_5fafd_row1_col4 {\n",
       "  background-color: #f14130;\n",
       "  color: #f1f1f1;\n",
       "  font-family: Segoe UI;\n",
       "}\n",
       "#T_5fafd_row1_col5 {\n",
       "  background-color: #fee5d9;\n",
       "  color: #000000;\n",
       "  font-family: Segoe UI;\n",
       "}\n",
       "#T_5fafd_row2_col1, #T_5fafd_row2_col3, #T_5fafd_row9_col1, #T_5fafd_row9_col3, #T_5fafd_row10_col1, #T_5fafd_row10_col3, #T_5fafd_row15_col1, #T_5fafd_row15_col3, #T_5fafd_row18_col1, #T_5fafd_row18_col3, #T_5fafd_row25_col1, #T_5fafd_row25_col3 {\n",
       "  background-color: #fff4ef;\n",
       "  color: #000000;\n",
       "  font-family: Segoe UI;\n",
       "}\n",
       "#T_5fafd_row4_col1, #T_5fafd_row4_col3, #T_5fafd_row20_col1, #T_5fafd_row20_col3 {\n",
       "  background-color: #fdd0bc;\n",
       "  color: #000000;\n",
       "  font-family: Segoe UI;\n",
       "}\n",
       "#T_5fafd_row5_col1, #T_5fafd_row5_col3, #T_5fafd_row13_col1, #T_5fafd_row13_col3 {\n",
       "  background-color: #fff3ed;\n",
       "  color: #000000;\n",
       "  font-family: Segoe UI;\n",
       "}\n",
       "#T_5fafd_row6_col1, #T_5fafd_row6_col3, #T_5fafd_row12_col1, #T_5fafd_row12_col3, #T_5fafd_row17_col1, #T_5fafd_row17_col3, #T_5fafd_row23_col1, #T_5fafd_row23_col3 {\n",
       "  background-color: #fff4ee;\n",
       "  color: #000000;\n",
       "  font-family: Segoe UI;\n",
       "}\n",
       "#T_5fafd_row7_col1, #T_5fafd_row7_col3 {\n",
       "  background-color: #fff2eb;\n",
       "  color: #000000;\n",
       "  font-family: Segoe UI;\n",
       "}\n",
       "#T_5fafd_row16_col1, #T_5fafd_row16_col3 {\n",
       "  background-color: #d11e1f;\n",
       "  color: #f1f1f1;\n",
       "  font-family: Segoe UI;\n",
       "}\n",
       "#T_5fafd_row19_col1, #T_5fafd_row19_col3 {\n",
       "  background-color: #fc9070;\n",
       "  color: #000000;\n",
       "  font-family: Segoe UI;\n",
       "}\n",
       "#T_5fafd_row22_col1, #T_5fafd_row22_col3 {\n",
       "  background-color: #fff0e9;\n",
       "  color: #000000;\n",
       "  font-family: Segoe UI;\n",
       "}\n",
       "#T_5fafd_row24_col1, #T_5fafd_row24_col3 {\n",
       "  background-color: #fee7db;\n",
       "  color: #000000;\n",
       "  font-family: Segoe UI;\n",
       "}\n",
       "</style>\n",
       "<table id=\"T_5fafd\">\n",
       "  <thead>\n",
       "    <tr>\n",
       "      <th class=\"blank level0\" >&nbsp;</th>\n",
       "      <th id=\"T_5fafd_level0_col0\" class=\"col_heading level0 col0\" >Nullpercent</th>\n",
       "      <th id=\"T_5fafd_level0_col1\" class=\"col_heading level0 col1\" >NuniquePercent</th>\n",
       "      <th id=\"T_5fafd_level0_col2\" class=\"col_heading level0 col2\" >dtype</th>\n",
       "      <th id=\"T_5fafd_level0_col3\" class=\"col_heading level0 col3\" >Nuniques</th>\n",
       "      <th id=\"T_5fafd_level0_col4\" class=\"col_heading level0 col4\" >Nulls</th>\n",
       "      <th id=\"T_5fafd_level0_col5\" class=\"col_heading level0 col5\" >Least num. of categories</th>\n",
       "      <th id=\"T_5fafd_level0_col6\" class=\"col_heading level0 col6\" >Data cleaning improvement suggestions</th>\n",
       "    </tr>\n",
       "  </thead>\n",
       "  <tbody>\n",
       "    <tr>\n",
       "      <th id=\"T_5fafd_level0_row0\" class=\"row_heading level0 row0\" >last_valuation</th>\n",
       "      <td id=\"T_5fafd_row0_col0\" class=\"data row0 col0\" >13.450000</td>\n",
       "      <td id=\"T_5fafd_row0_col1\" class=\"data row0 col1\" >1.500000</td>\n",
       "      <td id=\"T_5fafd_row0_col2\" class=\"data row0 col2\" >float64</td>\n",
       "      <td id=\"T_5fafd_row0_col3\" class=\"data row0 col3\" >150</td>\n",
       "      <td id=\"T_5fafd_row0_col4\" class=\"data row0 col4\" >1345</td>\n",
       "      <td id=\"T_5fafd_row0_col5\" class=\"data row0 col5\" >0</td>\n",
       "      <td id=\"T_5fafd_row0_col6\" class=\"data row0 col6\" >fill missing values, highly right skewed distribution: drop outliers or do box-cox transform</td>\n",
       "    </tr>\n",
       "    <tr>\n",
       "      <th id=\"T_5fafd_level0_row1\" class=\"row_heading level0 row1\" >sub_position</th>\n",
       "      <td id=\"T_5fafd_row1_col0\" class=\"data row1 col0\" >8.190000</td>\n",
       "      <td id=\"T_5fafd_row1_col1\" class=\"data row1 col1\" >0.120000</td>\n",
       "      <td id=\"T_5fafd_row1_col2\" class=\"data row1 col2\" >object</td>\n",
       "      <td id=\"T_5fafd_row1_col3\" class=\"data row1 col3\" >12</td>\n",
       "      <td id=\"T_5fafd_row1_col4\" class=\"data row1 col4\" >819</td>\n",
       "      <td id=\"T_5fafd_row1_col5\" class=\"data row1 col5\" >76</td>\n",
       "      <td id=\"T_5fafd_row1_col6\" class=\"data row1 col6\" >fill missing values, fix mixed data types</td>\n",
       "    </tr>\n",
       "    <tr>\n",
       "      <th id=\"T_5fafd_level0_row2\" class=\"row_heading level0 row2\" >age</th>\n",
       "      <td id=\"T_5fafd_row2_col0\" class=\"data row2 col0\" >0.040000</td>\n",
       "      <td id=\"T_5fafd_row2_col1\" class=\"data row2 col1\" >0.270000</td>\n",
       "      <td id=\"T_5fafd_row2_col2\" class=\"data row2 col2\" >float64</td>\n",
       "      <td id=\"T_5fafd_row2_col3\" class=\"data row2 col3\" >27</td>\n",
       "      <td id=\"T_5fafd_row2_col4\" class=\"data row2 col4\" >4</td>\n",
       "      <td id=\"T_5fafd_row2_col5\" class=\"data row2 col5\" >0</td>\n",
       "      <td id=\"T_5fafd_row2_col6\" class=\"data row2 col6\" >fill missing values</td>\n",
       "    </tr>\n",
       "    <tr>\n",
       "      <th id=\"T_5fafd_level0_row3\" class=\"row_heading level0 row3\" >date_birth</th>\n",
       "      <td id=\"T_5fafd_row3_col0\" class=\"data row3 col0\" >0.040000</td>\n",
       "      <td id=\"T_5fafd_row3_col1\" class=\"data row3 col1\" >43.870000</td>\n",
       "      <td id=\"T_5fafd_row3_col2\" class=\"data row3 col2\" >object</td>\n",
       "      <td id=\"T_5fafd_row3_col3\" class=\"data row3 col3\" >4387</td>\n",
       "      <td id=\"T_5fafd_row3_col4\" class=\"data row3 col4\" >4</td>\n",
       "      <td id=\"T_5fafd_row3_col5\" class=\"data row3 col5\" >1</td>\n",
       "      <td id=\"T_5fafd_row3_col6\" class=\"data row3 col6\" >combine rare categories, fill missing values, fix mixed data types</td>\n",
       "    </tr>\n",
       "    <tr>\n",
       "      <th id=\"T_5fafd_level0_row4\" class=\"row_heading level0 row4\" >date_v</th>\n",
       "      <td id=\"T_5fafd_row4_col0\" class=\"data row4 col0\" >0.000000</td>\n",
       "      <td id=\"T_5fafd_row4_col1\" class=\"data row4 col1\" >8.080000</td>\n",
       "      <td id=\"T_5fafd_row4_col2\" class=\"data row4 col2\" >object</td>\n",
       "      <td id=\"T_5fafd_row4_col3\" class=\"data row4 col3\" >808</td>\n",
       "      <td id=\"T_5fafd_row4_col4\" class=\"data row4 col4\" >0</td>\n",
       "      <td id=\"T_5fafd_row4_col5\" class=\"data row4 col5\" >1</td>\n",
       "      <td id=\"T_5fafd_row4_col6\" class=\"data row4 col6\" >combine rare categories</td>\n",
       "    </tr>\n",
       "    <tr>\n",
       "      <th id=\"T_5fafd_level0_row5\" class=\"row_heading level0 row5\" >games_lost_club</th>\n",
       "      <td id=\"T_5fafd_row5_col0\" class=\"data row5 col0\" >0.000000</td>\n",
       "      <td id=\"T_5fafd_row5_col1\" class=\"data row5 col1\" >0.650000</td>\n",
       "      <td id=\"T_5fafd_row5_col2\" class=\"data row5 col2\" >int64</td>\n",
       "      <td id=\"T_5fafd_row5_col3\" class=\"data row5 col3\" >65</td>\n",
       "      <td id=\"T_5fafd_row5_col4\" class=\"data row5 col4\" >0</td>\n",
       "      <td id=\"T_5fafd_row5_col5\" class=\"data row5 col5\" >0</td>\n",
       "      <td id=\"T_5fafd_row5_col6\" class=\"data row5 col6\" ></td>\n",
       "    </tr>\n",
       "    <tr>\n",
       "      <th id=\"T_5fafd_level0_row6\" class=\"row_heading level0 row6\" >games_draw_club</th>\n",
       "      <td id=\"T_5fafd_row6_col0\" class=\"data row6 col0\" >0.000000</td>\n",
       "      <td id=\"T_5fafd_row6_col1\" class=\"data row6 col1\" >0.490000</td>\n",
       "      <td id=\"T_5fafd_row6_col2\" class=\"data row6 col2\" >int64</td>\n",
       "      <td id=\"T_5fafd_row6_col3\" class=\"data row6 col3\" >49</td>\n",
       "      <td id=\"T_5fafd_row6_col4\" class=\"data row6 col4\" >0</td>\n",
       "      <td id=\"T_5fafd_row6_col5\" class=\"data row6 col5\" >0</td>\n",
       "      <td id=\"T_5fafd_row6_col6\" class=\"data row6 col6\" ></td>\n",
       "    </tr>\n",
       "    <tr>\n",
       "      <th id=\"T_5fafd_level0_row7\" class=\"row_heading level0 row7\" >games_won_club</th>\n",
       "      <td id=\"T_5fafd_row7_col0\" class=\"data row7 col0\" >0.000000</td>\n",
       "      <td id=\"T_5fafd_row7_col1\" class=\"data row7 col1\" >0.910000</td>\n",
       "      <td id=\"T_5fafd_row7_col2\" class=\"data row7 col2\" >int64</td>\n",
       "      <td id=\"T_5fafd_row7_col3\" class=\"data row7 col3\" >91</td>\n",
       "      <td id=\"T_5fafd_row7_col4\" class=\"data row7 col4\" >0</td>\n",
       "      <td id=\"T_5fafd_row7_col5\" class=\"data row7 col5\" >0</td>\n",
       "      <td id=\"T_5fafd_row7_col6\" class=\"data row7 col6\" ></td>\n",
       "    </tr>\n",
       "    <tr>\n",
       "      <th id=\"T_5fafd_level0_row8\" class=\"row_heading level0 row8\" >games_played_club</th>\n",
       "      <td id=\"T_5fafd_row8_col0\" class=\"data row8 col0\" >0.000000</td>\n",
       "      <td id=\"T_5fafd_row8_col1\" class=\"data row8 col1\" >1.560000</td>\n",
       "      <td id=\"T_5fafd_row8_col2\" class=\"data row8 col2\" >int64</td>\n",
       "      <td id=\"T_5fafd_row8_col3\" class=\"data row8 col3\" >156</td>\n",
       "      <td id=\"T_5fafd_row8_col4\" class=\"data row8 col4\" >0</td>\n",
       "      <td id=\"T_5fafd_row8_col5\" class=\"data row8 col5\" >0</td>\n",
       "      <td id=\"T_5fafd_row8_col6\" class=\"data row8 col6\" ></td>\n",
       "    </tr>\n",
       "    <tr>\n",
       "      <th id=\"T_5fafd_level0_row9\" class=\"row_heading level0 row9\" >winning_rate_pl</th>\n",
       "      <td id=\"T_5fafd_row9_col0\" class=\"data row9 col0\" >0.000000</td>\n",
       "      <td id=\"T_5fafd_row9_col1\" class=\"data row9 col1\" >0.310000</td>\n",
       "      <td id=\"T_5fafd_row9_col2\" class=\"data row9 col2\" >float64</td>\n",
       "      <td id=\"T_5fafd_row9_col3\" class=\"data row9 col3\" >31</td>\n",
       "      <td id=\"T_5fafd_row9_col4\" class=\"data row9 col4\" >0</td>\n",
       "      <td id=\"T_5fafd_row9_col5\" class=\"data row9 col5\" >0</td>\n",
       "      <td id=\"T_5fafd_row9_col6\" class=\"data row9 col6\" ></td>\n",
       "    </tr>\n",
       "    <tr>\n",
       "      <th id=\"T_5fafd_level0_row10\" class=\"row_heading level0 row10\" >games_lost_pl</th>\n",
       "      <td id=\"T_5fafd_row10_col0\" class=\"data row10 col0\" >0.000000</td>\n",
       "      <td id=\"T_5fafd_row10_col1\" class=\"data row10 col1\" >0.280000</td>\n",
       "      <td id=\"T_5fafd_row10_col2\" class=\"data row10 col2\" >int64</td>\n",
       "      <td id=\"T_5fafd_row10_col3\" class=\"data row10 col3\" >28</td>\n",
       "      <td id=\"T_5fafd_row10_col4\" class=\"data row10 col4\" >0</td>\n",
       "      <td id=\"T_5fafd_row10_col5\" class=\"data row10 col5\" >0</td>\n",
       "      <td id=\"T_5fafd_row10_col6\" class=\"data row10 col6\" ></td>\n",
       "    </tr>\n",
       "    <tr>\n",
       "      <th id=\"T_5fafd_level0_row11\" class=\"row_heading level0 row11\" >games_draw_pl</th>\n",
       "      <td id=\"T_5fafd_row11_col0\" class=\"data row11 col0\" >0.000000</td>\n",
       "      <td id=\"T_5fafd_row11_col1\" class=\"data row11 col1\" >0.210000</td>\n",
       "      <td id=\"T_5fafd_row11_col2\" class=\"data row11 col2\" >int64</td>\n",
       "      <td id=\"T_5fafd_row11_col3\" class=\"data row11 col3\" >21</td>\n",
       "      <td id=\"T_5fafd_row11_col4\" class=\"data row11 col4\" >0</td>\n",
       "      <td id=\"T_5fafd_row11_col5\" class=\"data row11 col5\" >0</td>\n",
       "      <td id=\"T_5fafd_row11_col6\" class=\"data row11 col6\" ></td>\n",
       "    </tr>\n",
       "    <tr>\n",
       "      <th id=\"T_5fafd_level0_row12\" class=\"row_heading level0 row12\" >games_won_pl</th>\n",
       "      <td id=\"T_5fafd_row12_col0\" class=\"data row12 col0\" >0.000000</td>\n",
       "      <td id=\"T_5fafd_row12_col1\" class=\"data row12 col1\" >0.440000</td>\n",
       "      <td id=\"T_5fafd_row12_col2\" class=\"data row12 col2\" >int64</td>\n",
       "      <td id=\"T_5fafd_row12_col3\" class=\"data row12 col3\" >44</td>\n",
       "      <td id=\"T_5fafd_row12_col4\" class=\"data row12 col4\" >0</td>\n",
       "      <td id=\"T_5fafd_row12_col5\" class=\"data row12 col5\" >0</td>\n",
       "      <td id=\"T_5fafd_row12_col6\" class=\"data row12 col6\" ></td>\n",
       "    </tr>\n",
       "    <tr>\n",
       "      <th id=\"T_5fafd_level0_row13\" class=\"row_heading level0 row13\" >appearances</th>\n",
       "      <td id=\"T_5fafd_row13_col0\" class=\"data row13 col0\" >0.000000</td>\n",
       "      <td id=\"T_5fafd_row13_col1\" class=\"data row13 col1\" >0.620000</td>\n",
       "      <td id=\"T_5fafd_row13_col2\" class=\"data row13 col2\" >int64</td>\n",
       "      <td id=\"T_5fafd_row13_col3\" class=\"data row13 col3\" >62</td>\n",
       "      <td id=\"T_5fafd_row13_col4\" class=\"data row13 col4\" >0</td>\n",
       "      <td id=\"T_5fafd_row13_col5\" class=\"data row13 col5\" >0</td>\n",
       "      <td id=\"T_5fafd_row13_col6\" class=\"data row13 col6\" ></td>\n",
       "    </tr>\n",
       "    <tr>\n",
       "      <th id=\"T_5fafd_level0_row14\" class=\"row_heading level0 row14\" >red_cards</th>\n",
       "      <td id=\"T_5fafd_row14_col0\" class=\"data row14 col0\" >0.000000</td>\n",
       "      <td id=\"T_5fafd_row14_col1\" class=\"data row14 col1\" >0.040000</td>\n",
       "      <td id=\"T_5fafd_row14_col2\" class=\"data row14 col2\" >int64</td>\n",
       "      <td id=\"T_5fafd_row14_col3\" class=\"data row14 col3\" >4</td>\n",
       "      <td id=\"T_5fafd_row14_col4\" class=\"data row14 col4\" >0</td>\n",
       "      <td id=\"T_5fafd_row14_col5\" class=\"data row14 col5\" >0</td>\n",
       "      <td id=\"T_5fafd_row14_col6\" class=\"data row14 col6\" ></td>\n",
       "    </tr>\n",
       "    <tr>\n",
       "      <th id=\"T_5fafd_level0_row15\" class=\"row_heading level0 row15\" >yellow_cards</th>\n",
       "      <td id=\"T_5fafd_row15_col0\" class=\"data row15 col0\" >0.000000</td>\n",
       "      <td id=\"T_5fafd_row15_col1\" class=\"data row15 col1\" >0.220000</td>\n",
       "      <td id=\"T_5fafd_row15_col2\" class=\"data row15 col2\" >int64</td>\n",
       "      <td id=\"T_5fafd_row15_col3\" class=\"data row15 col3\" >22</td>\n",
       "      <td id=\"T_5fafd_row15_col4\" class=\"data row15 col4\" >0</td>\n",
       "      <td id=\"T_5fafd_row15_col5\" class=\"data row15 col5\" >0</td>\n",
       "      <td id=\"T_5fafd_row15_col6\" class=\"data row15 col6\" ></td>\n",
       "    </tr>\n",
       "    <tr>\n",
       "      <th id=\"T_5fafd_level0_row16\" class=\"row_heading level0 row16\" >minutes_played</th>\n",
       "      <td id=\"T_5fafd_row16_col0\" class=\"data row16 col0\" >0.000000</td>\n",
       "      <td id=\"T_5fafd_row16_col1\" class=\"data row16 col1\" >32.050000</td>\n",
       "      <td id=\"T_5fafd_row16_col2\" class=\"data row16 col2\" >int64</td>\n",
       "      <td id=\"T_5fafd_row16_col3\" class=\"data row16 col3\" >3205</td>\n",
       "      <td id=\"T_5fafd_row16_col4\" class=\"data row16 col4\" >0</td>\n",
       "      <td id=\"T_5fafd_row16_col5\" class=\"data row16 col5\" >0</td>\n",
       "      <td id=\"T_5fafd_row16_col6\" class=\"data row16 col6\" ></td>\n",
       "    </tr>\n",
       "    <tr>\n",
       "      <th id=\"T_5fafd_level0_row17\" class=\"row_heading level0 row17\" >goals</th>\n",
       "      <td id=\"T_5fafd_row17_col0\" class=\"data row17 col0\" >0.000000</td>\n",
       "      <td id=\"T_5fafd_row17_col1\" class=\"data row17 col1\" >0.400000</td>\n",
       "      <td id=\"T_5fafd_row17_col2\" class=\"data row17 col2\" >int64</td>\n",
       "      <td id=\"T_5fafd_row17_col3\" class=\"data row17 col3\" >40</td>\n",
       "      <td id=\"T_5fafd_row17_col4\" class=\"data row17 col4\" >0</td>\n",
       "      <td id=\"T_5fafd_row17_col5\" class=\"data row17 col5\" >0</td>\n",
       "      <td id=\"T_5fafd_row17_col6\" class=\"data row17 col6\" ></td>\n",
       "    </tr>\n",
       "    <tr>\n",
       "      <th id=\"T_5fafd_level0_row18\" class=\"row_heading level0 row18\" >assists</th>\n",
       "      <td id=\"T_5fafd_row18_col0\" class=\"data row18 col0\" >0.000000</td>\n",
       "      <td id=\"T_5fafd_row18_col1\" class=\"data row18 col1\" >0.250000</td>\n",
       "      <td id=\"T_5fafd_row18_col2\" class=\"data row18 col2\" >int64</td>\n",
       "      <td id=\"T_5fafd_row18_col3\" class=\"data row18 col3\" >25</td>\n",
       "      <td id=\"T_5fafd_row18_col4\" class=\"data row18 col4\" >0</td>\n",
       "      <td id=\"T_5fafd_row18_col5\" class=\"data row18 col5\" >0</td>\n",
       "      <td id=\"T_5fafd_row18_col6\" class=\"data row18 col6\" ></td>\n",
       "    </tr>\n",
       "    <tr>\n",
       "      <th id=\"T_5fafd_level0_row19\" class=\"row_heading level0 row19\" >clubs_id</th>\n",
       "      <td id=\"T_5fafd_row19_col0\" class=\"data row19 col0\" >0.000000</td>\n",
       "      <td id=\"T_5fafd_row19_col1\" class=\"data row19 col1\" >16.750000</td>\n",
       "      <td id=\"T_5fafd_row19_col2\" class=\"data row19 col2\" >object</td>\n",
       "      <td id=\"T_5fafd_row19_col3\" class=\"data row19 col3\" >1675</td>\n",
       "      <td id=\"T_5fafd_row19_col4\" class=\"data row19 col4\" >0</td>\n",
       "      <td id=\"T_5fafd_row19_col5\" class=\"data row19 col5\" >1</td>\n",
       "      <td id=\"T_5fafd_row19_col6\" class=\"data row19 col6\" >combine rare categories</td>\n",
       "    </tr>\n",
       "    <tr>\n",
       "      <th id=\"T_5fafd_level0_row20\" class=\"row_heading level0 row20\" >competitions_id</th>\n",
       "      <td id=\"T_5fafd_row20_col0\" class=\"data row20 col0\" >0.000000</td>\n",
       "      <td id=\"T_5fafd_row20_col1\" class=\"data row20 col1\" >7.970000</td>\n",
       "      <td id=\"T_5fafd_row20_col2\" class=\"data row20 col2\" >object</td>\n",
       "      <td id=\"T_5fafd_row20_col3\" class=\"data row20 col3\" >797</td>\n",
       "      <td id=\"T_5fafd_row20_col4\" class=\"data row20 col4\" >0</td>\n",
       "      <td id=\"T_5fafd_row20_col5\" class=\"data row20 col5\" >1</td>\n",
       "      <td id=\"T_5fafd_row20_col6\" class=\"data row20 col6\" >combine rare categories</td>\n",
       "    </tr>\n",
       "    <tr>\n",
       "      <th id=\"T_5fafd_level0_row21\" class=\"row_heading level0 row21\" >position</th>\n",
       "      <td id=\"T_5fafd_row21_col0\" class=\"data row21 col0\" >0.000000</td>\n",
       "      <td id=\"T_5fafd_row21_col1\" class=\"data row21 col1\" >0.040000</td>\n",
       "      <td id=\"T_5fafd_row21_col2\" class=\"data row21 col2\" >object</td>\n",
       "      <td id=\"T_5fafd_row21_col3\" class=\"data row21 col3\" >4</td>\n",
       "      <td id=\"T_5fafd_row21_col4\" class=\"data row21 col4\" >0</td>\n",
       "      <td id=\"T_5fafd_row21_col5\" class=\"data row21 col5\" >805</td>\n",
       "      <td id=\"T_5fafd_row21_col6\" class=\"data row21 col6\" ></td>\n",
       "    </tr>\n",
       "    <tr>\n",
       "      <th id=\"T_5fafd_level0_row22\" class=\"row_heading level0 row22\" >citizenship</th>\n",
       "      <td id=\"T_5fafd_row22_col0\" class=\"data row22 col0\" >0.000000</td>\n",
       "      <td id=\"T_5fafd_row22_col1\" class=\"data row22 col1\" >1.400000</td>\n",
       "      <td id=\"T_5fafd_row22_col2\" class=\"data row22 col2\" >object</td>\n",
       "      <td id=\"T_5fafd_row22_col3\" class=\"data row22 col3\" >140</td>\n",
       "      <td id=\"T_5fafd_row22_col4\" class=\"data row22 col4\" >0</td>\n",
       "      <td id=\"T_5fafd_row22_col5\" class=\"data row22 col5\" >1</td>\n",
       "      <td id=\"T_5fafd_row22_col6\" class=\"data row22 col6\" >combine rare categories</td>\n",
       "    </tr>\n",
       "    <tr>\n",
       "      <th id=\"T_5fafd_level0_row23\" class=\"row_heading level0 row23\" >height</th>\n",
       "      <td id=\"T_5fafd_row23_col0\" class=\"data row23 col0\" >0.000000</td>\n",
       "      <td id=\"T_5fafd_row23_col1\" class=\"data row23 col1\" >0.430000</td>\n",
       "      <td id=\"T_5fafd_row23_col2\" class=\"data row23 col2\" >int64</td>\n",
       "      <td id=\"T_5fafd_row23_col3\" class=\"data row23 col3\" >43</td>\n",
       "      <td id=\"T_5fafd_row23_col4\" class=\"data row23 col4\" >0</td>\n",
       "      <td id=\"T_5fafd_row23_col5\" class=\"data row23 col5\" >0</td>\n",
       "      <td id=\"T_5fafd_row23_col6\" class=\"data row23 col6\" ></td>\n",
       "    </tr>\n",
       "    <tr>\n",
       "      <th id=\"T_5fafd_level0_row24\" class=\"row_heading level0 row24\" >current_club_id</th>\n",
       "      <td id=\"T_5fafd_row24_col0\" class=\"data row24 col0\" >0.000000</td>\n",
       "      <td id=\"T_5fafd_row24_col1\" class=\"data row24 col1\" >3.890000</td>\n",
       "      <td id=\"T_5fafd_row24_col2\" class=\"data row24 col2\" >int64</td>\n",
       "      <td id=\"T_5fafd_row24_col3\" class=\"data row24 col3\" >389</td>\n",
       "      <td id=\"T_5fafd_row24_col4\" class=\"data row24 col4\" >0</td>\n",
       "      <td id=\"T_5fafd_row24_col5\" class=\"data row24 col5\" >0</td>\n",
       "      <td id=\"T_5fafd_row24_col6\" class=\"data row24 col6\" ></td>\n",
       "    </tr>\n",
       "    <tr>\n",
       "      <th id=\"T_5fafd_level0_row25\" class=\"row_heading level0 row25\" >winning_rate_club</th>\n",
       "      <td id=\"T_5fafd_row25_col0\" class=\"data row25 col0\" >0.000000</td>\n",
       "      <td id=\"T_5fafd_row25_col1\" class=\"data row25 col1\" >0.280000</td>\n",
       "      <td id=\"T_5fafd_row25_col2\" class=\"data row25 col2\" >float64</td>\n",
       "      <td id=\"T_5fafd_row25_col3\" class=\"data row25 col3\" >28</td>\n",
       "      <td id=\"T_5fafd_row25_col4\" class=\"data row25 col4\" >0</td>\n",
       "      <td id=\"T_5fafd_row25_col5\" class=\"data row25 col5\" >0</td>\n",
       "      <td id=\"T_5fafd_row25_col6\" class=\"data row25 col6\" ></td>\n",
       "    </tr>\n",
       "  </tbody>\n",
       "</table>\n"
      ],
      "text/plain": [
       "<pandas.io.formats.style.Styler at 0x1ba38249960>"
      ]
     },
     "metadata": {},
     "output_type": "display_data"
    },
    {
     "name": "stdout",
     "output_type": "stream",
     "text": [
      "  Printing upto 30 columns max in each category:\n",
      "    Numeric Columns : ['age', 'last_valuation', 'winning_rate_pl', 'winning_rate_club']\n",
      "    Integer-Categorical Columns: ['current_club_id', 'height', 'assists', 'goals', 'minutes_played', 'red_cards', 'yellow_cards', 'appearances', 'games_won_pl', 'games_draw_pl', 'games_lost_pl', 'games_played_club', 'games_won_club', 'games_draw_club', 'games_lost_club']\n",
      "    String-Categorical Columns: ['position', 'sub_position']\n",
      "    Factor-Categorical Columns: []\n",
      "    String-Boolean Columns: []\n",
      "    Numeric-Boolean Columns: []\n",
      "    Discrete String Columns: ['date_v', 'citizenship', 'competitions_id']\n",
      "    NLP text Columns: ['date_birth', 'clubs_id']\n",
      "    Date Time Columns: []\n",
      "    ID Columns: []\n",
      "    Columns that will not be considered in modeling: []\n",
      "    26 Predictors classified...\n",
      "        No variables removed since no ID or low-information variables found in data set\n",
      "\n",
      "################ Regression problem #####################\n",
      "   Columns to delete:\n",
      "'   []'\n",
      "   Boolean variables %s \n",
      "'   []'\n",
      "   Categorical variables %s \n",
      "(\"   ['position', 'sub_position', 'current_club_id', 'height', 'assists', \"\n",
      " \"'goals', 'minutes_played', 'red_cards', 'yellow_cards', 'appearances', \"\n",
      " \"'games_won_pl', 'games_draw_pl', 'games_lost_pl', 'games_played_club', \"\n",
      " \"'games_won_club', 'games_draw_club', 'games_lost_club']\")\n",
      "   Continuous variables %s \n",
      "\"   ['age', 'last_valuation', 'winning_rate_pl', 'winning_rate_club']\"\n",
      "   Discrete string variables %s \n",
      "\"   ['date_birth', 'clubs_id', 'date_v', 'citizenship', 'competitions_id']\"\n",
      "   Date and time variables %s \n",
      "'   []'\n",
      "   ID variables %s \n",
      "'   []'\n",
      "   Target variable %s \n",
      "'   market_value'\n",
      "Number of All Scatter Plots = 10\n"
     ]
    },
    {
     "name": "stderr",
     "output_type": "stream",
     "text": [
      "[nltk_data] Downloading collection 'popular'\n",
      "[nltk_data]    | \n",
      "[nltk_data]    | Downloading package cmudict to\n",
      "[nltk_data]    |     C:\\Users\\leona\\AppData\\Roaming\\nltk_data...\n",
      "[nltk_data]    |   Package cmudict is already up-to-date!\n",
      "[nltk_data]    | Downloading package gazetteers to\n",
      "[nltk_data]    |     C:\\Users\\leona\\AppData\\Roaming\\nltk_data...\n",
      "[nltk_data]    |   Package gazetteers is already up-to-date!\n",
      "[nltk_data]    | Downloading package genesis to\n",
      "[nltk_data]    |     C:\\Users\\leona\\AppData\\Roaming\\nltk_data...\n",
      "[nltk_data]    |   Package genesis is already up-to-date!\n",
      "[nltk_data]    | Downloading package gutenberg to\n",
      "[nltk_data]    |     C:\\Users\\leona\\AppData\\Roaming\\nltk_data...\n",
      "[nltk_data]    |   Package gutenberg is already up-to-date!\n",
      "[nltk_data]    | Downloading package inaugural to\n",
      "[nltk_data]    |     C:\\Users\\leona\\AppData\\Roaming\\nltk_data...\n",
      "[nltk_data]    |   Package inaugural is already up-to-date!\n",
      "[nltk_data]    | Downloading package movie_reviews to\n",
      "[nltk_data]    |     C:\\Users\\leona\\AppData\\Roaming\\nltk_data...\n",
      "[nltk_data]    |   Package movie_reviews is already up-to-date!\n",
      "[nltk_data]    | Downloading package names to\n",
      "[nltk_data]    |     C:\\Users\\leona\\AppData\\Roaming\\nltk_data...\n",
      "[nltk_data]    |   Package names is already up-to-date!\n",
      "[nltk_data]    | Downloading package shakespeare to\n",
      "[nltk_data]    |     C:\\Users\\leona\\AppData\\Roaming\\nltk_data...\n",
      "[nltk_data]    |   Package shakespeare is already up-to-date!\n",
      "[nltk_data]    | Downloading package stopwords to\n",
      "[nltk_data]    |     C:\\Users\\leona\\AppData\\Roaming\\nltk_data...\n",
      "[nltk_data]    |   Package stopwords is already up-to-date!\n",
      "[nltk_data]    | Downloading package treebank to\n",
      "[nltk_data]    |     C:\\Users\\leona\\AppData\\Roaming\\nltk_data...\n",
      "[nltk_data]    |   Package treebank is already up-to-date!\n",
      "[nltk_data]    | Downloading package twitter_samples to\n",
      "[nltk_data]    |     C:\\Users\\leona\\AppData\\Roaming\\nltk_data...\n",
      "[nltk_data]    |   Package twitter_samples is already up-to-date!\n",
      "[nltk_data]    | Downloading package omw to\n",
      "[nltk_data]    |     C:\\Users\\leona\\AppData\\Roaming\\nltk_data...\n",
      "[nltk_data]    |   Package omw is already up-to-date!\n",
      "[nltk_data]    | Downloading package omw-1.4 to\n",
      "[nltk_data]    |     C:\\Users\\leona\\AppData\\Roaming\\nltk_data...\n",
      "[nltk_data]    |   Package omw-1.4 is already up-to-date!\n",
      "[nltk_data]    | Downloading package wordnet to\n",
      "[nltk_data]    |     C:\\Users\\leona\\AppData\\Roaming\\nltk_data...\n",
      "[nltk_data]    |   Package wordnet is already up-to-date!\n",
      "[nltk_data]    | Downloading package wordnet2021 to\n",
      "[nltk_data]    |     C:\\Users\\leona\\AppData\\Roaming\\nltk_data...\n",
      "[nltk_data]    |   Package wordnet2021 is already up-to-date!\n",
      "[nltk_data]    | Downloading package wordnet31 to\n",
      "[nltk_data]    |     C:\\Users\\leona\\AppData\\Roaming\\nltk_data...\n",
      "[nltk_data]    |   Package wordnet31 is already up-to-date!\n",
      "[nltk_data]    | Downloading package wordnet_ic to\n",
      "[nltk_data]    |     C:\\Users\\leona\\AppData\\Roaming\\nltk_data...\n",
      "[nltk_data]    |   Package wordnet_ic is already up-to-date!\n",
      "[nltk_data]    | Downloading package words to\n",
      "[nltk_data]    |     C:\\Users\\leona\\AppData\\Roaming\\nltk_data...\n",
      "[nltk_data]    |   Package words is already up-to-date!\n",
      "[nltk_data]    | Downloading package maxent_ne_chunker to\n",
      "[nltk_data]    |     C:\\Users\\leona\\AppData\\Roaming\\nltk_data...\n",
      "[nltk_data]    |   Package maxent_ne_chunker is already up-to-date!\n",
      "[nltk_data]    | Downloading package punkt to\n",
      "[nltk_data]    |     C:\\Users\\leona\\AppData\\Roaming\\nltk_data...\n",
      "[nltk_data]    |   Package punkt is already up-to-date!\n",
      "[nltk_data]    | Downloading package snowball_data to\n",
      "[nltk_data]    |     C:\\Users\\leona\\AppData\\Roaming\\nltk_data...\n",
      "[nltk_data]    |   Package snowball_data is already up-to-date!\n",
      "[nltk_data]    | Downloading package averaged_perceptron_tagger to\n",
      "[nltk_data]    |     C:\\Users\\leona\\AppData\\Roaming\\nltk_data...\n",
      "[nltk_data]    |   Package averaged_perceptron_tagger is already up-\n",
      "[nltk_data]    |       to-date!\n",
      "[nltk_data]    | \n",
      "[nltk_data]  Done downloading collection popular\n"
     ]
    },
    {
     "name": "stdout",
     "output_type": "stream",
     "text": [
      "Could not draw wordcloud plot for clubs_id\n",
      "Could not draw wordcloud plot for date_v\n",
      "All Plots are saved in .\\market_value\n",
      "Time to run AutoViz = 78 seconds \n"
     ]
    }
   ],
   "source": [
    "from autoviz.AutoViz_Class import AutoViz_Class\n",
    "AV = AutoViz_Class()\n",
    "df_pandas = pd.read_csv('data.csv')\n",
    "df_pandas = df_pandas.drop([\"comp_string\", \"club_str\", \"player_id\", \"name\"], axis=1)\n",
    "df = AV.AutoViz(\"\", dfte=df_pandas, depVar=['market_value'], verbose=2, chart_format='jpg', lowess=True, save_plot_dir=\".\")"
   ]
  }
 ],
 "metadata": {
  "kernelspec": {
   "display_name": "Python 3",
   "language": "python",
   "name": "python3"
  },
  "language_info": {
   "codemirror_mode": {
    "name": "ipython",
    "version": 3
   },
   "file_extension": ".py",
   "mimetype": "text/x-python",
   "name": "python",
   "nbconvert_exporter": "python",
   "pygments_lexer": "ipython3",
   "version": "3.10.9"
  },
  "orig_nbformat": 4
 },
 "nbformat": 4,
 "nbformat_minor": 2
}
