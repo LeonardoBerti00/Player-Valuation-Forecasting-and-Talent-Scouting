{
 "cells": [
  {
   "cell_type": "code",
   "execution_count": 17,
   "metadata": {
    "ExecuteTime": {
     "end_time": "2023-05-06T15:30:51.382606Z",
     "start_time": "2023-05-06T15:30:51.372600Z"
    }
   },
   "outputs": [],
   "source": [
    "import pyspark\n",
    "from pyspark.sql import *\n",
    "from pyspark.sql.types import *\n",
    "from pyspark.sql.functions import *\n",
    "from pyspark import SparkContext, SparkConf\n",
    "import numpy as np\n",
    "from PIL import Image\n",
    "from pyspark.sql.functions import udf\n",
    "from pyspark.sql.types import BinaryType\n",
    "from pyspark.sql import SparkSession\n",
    "import io"
   ]
  },
  {
   "cell_type": "code",
   "execution_count": 18,
   "metadata": {
    "ExecuteTime": {
     "end_time": "2023-05-06T15:31:02.200126300Z",
     "start_time": "2023-05-06T15:31:02.112795800Z"
    }
   },
   "outputs": [
    {
     "ename": "ValueError",
     "evalue": "Cannot run multiple SparkContexts at once; existing SparkContext(app=PySparkTutorial, master=local[*]) created by __init__ at C:\\Users\\leona\\AppData\\Local\\Temp\\ipykernel_9916\\145051169.py:11 ",
     "output_type": "error",
     "traceback": [
      "\u001B[1;31m---------------------------------------------------------------------------\u001B[0m",
      "\u001B[1;31mValueError\u001B[0m                                Traceback (most recent call last)",
      "Cell \u001B[1;32mIn[18], line 11\u001B[0m\n\u001B[0;32m      2\u001B[0m conf \u001B[38;5;241m=\u001B[39m SparkConf()\u001B[38;5;241m.\u001B[39m\\\n\u001B[0;32m      3\u001B[0m                 \u001B[38;5;28mset\u001B[39m(\u001B[38;5;124m'\u001B[39m\u001B[38;5;124mspark.ui.port\u001B[39m\u001B[38;5;124m'\u001B[39m, \u001B[38;5;124m\"\u001B[39m\u001B[38;5;124m4050\u001B[39m\u001B[38;5;124m\"\u001B[39m)\u001B[38;5;241m.\u001B[39m\\\n\u001B[0;32m      4\u001B[0m                 \u001B[38;5;28mset\u001B[39m(\u001B[38;5;124m'\u001B[39m\u001B[38;5;124mspark.executor.memory\u001B[39m\u001B[38;5;124m'\u001B[39m, \u001B[38;5;124m'\u001B[39m\u001B[38;5;124m4G\u001B[39m\u001B[38;5;124m'\u001B[39m)\u001B[38;5;241m.\u001B[39m\\\n\u001B[1;32m   (...)\u001B[0m\n\u001B[0;32m      7\u001B[0m                 setAppName(\u001B[38;5;124m\"\u001B[39m\u001B[38;5;124mPySparkTutorial\u001B[39m\u001B[38;5;124m\"\u001B[39m)\u001B[38;5;241m.\u001B[39m\\\n\u001B[0;32m      8\u001B[0m                 setMaster(\u001B[38;5;124m\"\u001B[39m\u001B[38;5;124mlocal[*]\u001B[39m\u001B[38;5;124m\"\u001B[39m)\n\u001B[0;32m     10\u001B[0m \u001B[38;5;66;03m# Create the context\u001B[39;00m\n\u001B[1;32m---> 11\u001B[0m sc \u001B[38;5;241m=\u001B[39m \u001B[43mpyspark\u001B[49m\u001B[38;5;241;43m.\u001B[39;49m\u001B[43mSparkContext\u001B[49m\u001B[43m(\u001B[49m\u001B[43mconf\u001B[49m\u001B[38;5;241;43m=\u001B[39;49m\u001B[43mconf\u001B[49m\u001B[43m)\u001B[49m\n\u001B[0;32m     12\u001B[0m spark \u001B[38;5;241m=\u001B[39m SparkSession\u001B[38;5;241m.\u001B[39mbuilder\u001B[38;5;241m.\u001B[39mgetOrCreate()\n",
      "File \u001B[1;32m~\\anaconda3\\lib\\site-packages\\pyspark\\context.py:144\u001B[0m, in \u001B[0;36mSparkContext.__init__\u001B[1;34m(self, master, appName, sparkHome, pyFiles, environment, batchSize, serializer, conf, gateway, jsc, profiler_cls)\u001B[0m\n\u001B[0;32m    139\u001B[0m \u001B[38;5;28;01mif\u001B[39;00m gateway \u001B[38;5;129;01mis\u001B[39;00m \u001B[38;5;129;01mnot\u001B[39;00m \u001B[38;5;28;01mNone\u001B[39;00m \u001B[38;5;129;01mand\u001B[39;00m gateway\u001B[38;5;241m.\u001B[39mgateway_parameters\u001B[38;5;241m.\u001B[39mauth_token \u001B[38;5;129;01mis\u001B[39;00m \u001B[38;5;28;01mNone\u001B[39;00m:\n\u001B[0;32m    140\u001B[0m     \u001B[38;5;28;01mraise\u001B[39;00m \u001B[38;5;167;01mValueError\u001B[39;00m(\n\u001B[0;32m    141\u001B[0m         \u001B[38;5;124m\"\u001B[39m\u001B[38;5;124mYou are trying to pass an insecure Py4j gateway to Spark. This\u001B[39m\u001B[38;5;124m\"\u001B[39m\n\u001B[0;32m    142\u001B[0m         \u001B[38;5;124m\"\u001B[39m\u001B[38;5;124m is not allowed as it is a security risk.\u001B[39m\u001B[38;5;124m\"\u001B[39m)\n\u001B[1;32m--> 144\u001B[0m \u001B[43mSparkContext\u001B[49m\u001B[38;5;241;43m.\u001B[39;49m\u001B[43m_ensure_initialized\u001B[49m\u001B[43m(\u001B[49m\u001B[38;5;28;43mself\u001B[39;49m\u001B[43m,\u001B[49m\u001B[43m \u001B[49m\u001B[43mgateway\u001B[49m\u001B[38;5;241;43m=\u001B[39;49m\u001B[43mgateway\u001B[49m\u001B[43m,\u001B[49m\u001B[43m \u001B[49m\u001B[43mconf\u001B[49m\u001B[38;5;241;43m=\u001B[39;49m\u001B[43mconf\u001B[49m\u001B[43m)\u001B[49m\n\u001B[0;32m    145\u001B[0m \u001B[38;5;28;01mtry\u001B[39;00m:\n\u001B[0;32m    146\u001B[0m     \u001B[38;5;28mself\u001B[39m\u001B[38;5;241m.\u001B[39m_do_init(master, appName, sparkHome, pyFiles, environment, batchSize, serializer,\n\u001B[0;32m    147\u001B[0m                   conf, jsc, profiler_cls)\n",
      "File \u001B[1;32m~\\anaconda3\\lib\\site-packages\\pyspark\\context.py:350\u001B[0m, in \u001B[0;36mSparkContext._ensure_initialized\u001B[1;34m(cls, instance, gateway, conf)\u001B[0m\n\u001B[0;32m    347\u001B[0m     callsite \u001B[38;5;241m=\u001B[39m SparkContext\u001B[38;5;241m.\u001B[39m_active_spark_context\u001B[38;5;241m.\u001B[39m_callsite\n\u001B[0;32m    349\u001B[0m     \u001B[38;5;66;03m# Raise error if there is already a running Spark context\u001B[39;00m\n\u001B[1;32m--> 350\u001B[0m     \u001B[38;5;28;01mraise\u001B[39;00m \u001B[38;5;167;01mValueError\u001B[39;00m(\n\u001B[0;32m    351\u001B[0m         \u001B[38;5;124m\"\u001B[39m\u001B[38;5;124mCannot run multiple SparkContexts at once; \u001B[39m\u001B[38;5;124m\"\u001B[39m\n\u001B[0;32m    352\u001B[0m         \u001B[38;5;124m\"\u001B[39m\u001B[38;5;124mexisting SparkContext(app=\u001B[39m\u001B[38;5;132;01m%s\u001B[39;00m\u001B[38;5;124m, master=\u001B[39m\u001B[38;5;132;01m%s\u001B[39;00m\u001B[38;5;124m)\u001B[39m\u001B[38;5;124m\"\u001B[39m\n\u001B[0;32m    353\u001B[0m         \u001B[38;5;124m\"\u001B[39m\u001B[38;5;124m created by \u001B[39m\u001B[38;5;132;01m%s\u001B[39;00m\u001B[38;5;124m at \u001B[39m\u001B[38;5;132;01m%s\u001B[39;00m\u001B[38;5;124m:\u001B[39m\u001B[38;5;132;01m%s\u001B[39;00m\u001B[38;5;124m \u001B[39m\u001B[38;5;124m\"\u001B[39m\n\u001B[0;32m    354\u001B[0m         \u001B[38;5;241m%\u001B[39m (currentAppName, currentMaster,\n\u001B[0;32m    355\u001B[0m             callsite\u001B[38;5;241m.\u001B[39mfunction, callsite\u001B[38;5;241m.\u001B[39mfile, callsite\u001B[38;5;241m.\u001B[39mlinenum))\n\u001B[0;32m    356\u001B[0m \u001B[38;5;28;01melse\u001B[39;00m:\n\u001B[0;32m    357\u001B[0m     SparkContext\u001B[38;5;241m.\u001B[39m_active_spark_context \u001B[38;5;241m=\u001B[39m instance\n",
      "\u001B[1;31mValueError\u001B[0m: Cannot run multiple SparkContexts at once; existing SparkContext(app=PySparkTutorial, master=local[*]) created by __init__ at C:\\Users\\leona\\AppData\\Local\\Temp\\ipykernel_9916\\145051169.py:11 "
     ]
    }
   ],
   "source": [
    "# Create the session\n",
    "conf = SparkConf().\\\n",
    "                set('spark.ui.port', \"4050\").\\\n",
    "                set('spark.executor.memory', '4G').\\\n",
    "                set('spark.driver.memory', '45G').\\\n",
    "                set('spark.driver.maxResultSize', '10G').\\\n",
    "                setAppName(\"PySparkTutorial\").\\\n",
    "                setMaster(\"local[*]\")\n",
    "\n",
    "# Create the context\n",
    "sc = pyspark.SparkContext(conf=conf)\n",
    "spark = SparkSession.builder.getOrCreate()"
   ]
  },
  {
   "cell_type": "code",
   "execution_count": 19,
   "metadata": {
    "ExecuteTime": {
     "end_time": "2023-05-06T15:31:16.231283200Z",
     "start_time": "2023-05-06T15:31:16.217283Z"
    }
   },
   "outputs": [
    {
     "data": {
      "text/plain": "<pyspark.sql.session.SparkSession at 0x28f6b401660>",
      "text/html": "\n            <div>\n                <p><b>SparkSession - in-memory</b></p>\n                \n        <div>\n            <p><b>SparkContext</b></p>\n\n            <p><a href=\"http://rig.lan:4050\">Spark UI</a></p>\n\n            <dl>\n              <dt>Version</dt>\n                <dd><code>v3.2.1</code></dd>\n              <dt>Master</dt>\n                <dd><code>local[*]</code></dd>\n              <dt>AppName</dt>\n                <dd><code>PySparkTutorial</code></dd>\n            </dl>\n        </div>\n        \n            </div>\n        "
     },
     "execution_count": 19,
     "metadata": {},
     "output_type": "execute_result"
    }
   ],
   "source": [
    "spark"
   ]
  },
  {
   "cell_type": "code",
   "execution_count": 20,
   "metadata": {
    "ExecuteTime": {
     "end_time": "2023-05-06T15:31:24.126376300Z",
     "start_time": "2023-05-06T15:31:24.104376200Z"
    }
   },
   "outputs": [
    {
     "data": {
      "text/plain": "[('spark.app.startTime', '1683375645046'),\n ('spark.app.name', 'PySparkTutorial'),\n ('spark.driver.memory', '45G'),\n ('spark.driver.host', 'rig.lan'),\n ('spark.sql.warehouse.dir',\n  'file:/C:/Users/leona/PycharmProjects/BDC_project/spark-warehouse'),\n ('spark.executor.id', 'driver'),\n ('spark.driver.maxResultSize', '10G'),\n ('spark.app.id', 'local-1683375646662'),\n ('spark.ui.port', '4050'),\n ('spark.rdd.compress', 'True'),\n ('spark.driver.port', '54840'),\n ('spark.serializer.objectStreamReset', '100'),\n ('spark.master', 'local[*]'),\n ('spark.submit.pyFiles', ''),\n ('spark.submit.deployMode', 'client'),\n ('spark.executor.memory', '4G'),\n ('spark.ui.showConsoleProgress', 'true')]"
     },
     "execution_count": 20,
     "metadata": {},
     "output_type": "execute_result"
    }
   ],
   "source": [
    "sc._conf.getAll()"
   ]
  },
  {
   "cell_type": "code",
   "execution_count": 49,
   "metadata": {
    "ExecuteTime": {
     "end_time": "2023-05-06T16:36:46.012238600Z",
     "start_time": "2023-05-06T16:36:44.387999700Z"
    }
   },
   "outputs": [],
   "source": [
    "\n",
    "df_appearances = spark.read.csv(\"archive/appearances.csv\", header=True, inferSchema=True)\n",
    "df_club_games = spark.read.csv(\"archive/club_games.csv\", header=True, inferSchema=True)\n",
    "df_clubs = spark.read.csv(\"archive/clubs.csv\", header=True, inferSchema=True)\n",
    "df_competitions = spark.read.csv(\"archive/competitions.csv\", header=True, inferSchema=True)\n",
    "df_game_events = spark.read.csv(\"archive/game_events.csv\", header=True, inferSchema=True)\n",
    "df_games = spark.read.csv(\"archive/games.csv\", header=True, inferSchema=True)\n",
    "df_player_valuations = spark.read.csv(\"archive/player_valuations.csv\", header=True, inferSchema=True)\n",
    "df_players = spark.read.csv(\"archive/players.csv\", header=True, inferSchema=True)\n"
   ]
  },
  {
   "cell_type": "code",
   "execution_count": 23,
   "metadata": {
    "ExecuteTime": {
     "end_time": "2023-05-06T15:42:43.463854900Z",
     "start_time": "2023-05-06T15:42:42.955831200Z"
    }
   },
   "outputs": [
    {
     "name": "stdout",
     "output_type": "stream",
     "text": [
      "Number of rows:  1166215\n",
      "Number of rows:  123096\n",
      "Number of rows:  411\n",
      "Number of rows:  43\n",
      "Number of rows:  559853\n",
      "Number of rows:  61548\n",
      "Number of rows:  421564\n",
      "Number of rows:  28503\n",
      "root\n",
      " |-- appearance_id: string (nullable = true)\n",
      " |-- game_id: integer (nullable = true)\n",
      " |-- player_id: integer (nullable = true)\n",
      " |-- player_club_id: integer (nullable = true)\n",
      " |-- player_current_club_id: integer (nullable = true)\n",
      " |-- date: string (nullable = true)\n",
      " |-- player_name: string (nullable = true)\n",
      " |-- competition_id: string (nullable = true)\n",
      " |-- yellow_cards: integer (nullable = true)\n",
      " |-- red_cards: integer (nullable = true)\n",
      " |-- goals: integer (nullable = true)\n",
      " |-- assists: integer (nullable = true)\n",
      " |-- minutes_played: integer (nullable = true)\n",
      "\n",
      "root\n",
      " |-- game_id: integer (nullable = true)\n",
      " |-- minute: integer (nullable = true)\n",
      " |-- type: string (nullable = true)\n",
      " |-- club_id: integer (nullable = true)\n",
      " |-- player_id: integer (nullable = true)\n",
      " |-- description: string (nullable = true)\n",
      " |-- player_in_id: integer (nullable = true)\n",
      "\n",
      "root\n",
      " |-- game_id: integer (nullable = true)\n",
      " |-- competition_id: string (nullable = true)\n",
      " |-- competition_type: string (nullable = true)\n",
      " |-- season: integer (nullable = true)\n",
      " |-- round: string (nullable = true)\n",
      " |-- date: string (nullable = true)\n",
      " |-- home_club_id: integer (nullable = true)\n",
      " |-- away_club_id: integer (nullable = true)\n",
      " |-- home_club_goals: integer (nullable = true)\n",
      " |-- away_club_goals: integer (nullable = true)\n",
      " |-- aggregate: string (nullable = true)\n",
      " |-- home_club_position: integer (nullable = true)\n",
      " |-- away_club_position: integer (nullable = true)\n",
      " |-- club_home_name: string (nullable = true)\n",
      " |-- club_away_name: string (nullable = true)\n",
      " |-- home_club_manager_name: string (nullable = true)\n",
      " |-- away_club_manager_name: string (nullable = true)\n",
      " |-- stadium: string (nullable = true)\n",
      " |-- attendance: integer (nullable = true)\n",
      " |-- referee: string (nullable = true)\n",
      " |-- url: string (nullable = true)\n",
      "\n",
      "+-------------+-------+---------+--------------+----------------------+----------+--------------------+--------------+------------+---------+-----+-------+--------------+\n",
      "|appearance_id|game_id|player_id|player_club_id|player_current_club_id|      date|         player_name|competition_id|yellow_cards|red_cards|goals|assists|minutes_played|\n",
      "+-------------+-------+---------+--------------+----------------------+----------+--------------------+--------------+------------+---------+-----+-------+--------------+\n",
      "|2483937_52453|2483937|    52453|         28095|                 28095|2014-08-08|       Haris Handzic|           RU1|           0|        0|    0|      0|            90|\n",
      "|2479929_67064|2479929|    67064|         28095|                  4128|2014-08-03|Felicio Brown Forbes|           RU1|           0|        0|    0|      0|            90|\n",
      "|2483937_67064|2483937|    67064|         28095|                  4128|2014-08-08|Felicio Brown Forbes|           RU1|           0|        0|    0|      0|            90|\n",
      "|2484582_67064|2484582|    67064|         28095|                  4128|2014-08-13|Felicio Brown Forbes|           RU1|           0|        0|    0|      0|            55|\n",
      "|2485965_67064|2485965|    67064|         28095|                  4128|2014-08-16|Felicio Brown Forbes|           RU1|           0|        0|    0|      0|            90|\n",
      "|2487345_67064|2487345|    67064|         28095|                  4128|2014-08-23|Felicio Brown Forbes|           RU1|           1|        0|    0|      0|            90|\n",
      "|2498464_67064|2498464|    67064|         28095|                  4128|2014-09-20|Felicio Brown Forbes|           RU1|           0|        0|    0|      0|            90|\n",
      "|2500260_67064|2500260|    67064|         28095|                  4128|2014-09-27|Felicio Brown Forbes|           RU1|           0|        0|    0|      1|            19|\n",
      "|2506733_67064|2506733|    67064|         28095|                  4128|2014-10-26|Felicio Brown Forbes|           RU1|           1|        0|    1|      0|            90|\n",
      "|2508366_67064|2508366|    67064|         28095|                  4128|2014-11-03|Felicio Brown Forbes|           RU1|           0|        0|    0|      0|             2|\n",
      "|2493717_67064|2493717|    67064|         28095|                  4128|2014-09-24|Felicio Brown Forbes|           RUP|           0|        0|    0|      0|            65|\n",
      "|2498464_98558|2498464|    98558|         28095|                 41201|2014-09-20|         Anton Kilin|           RU1|           0|        0|    0|      0|            90|\n",
      "|2479927_36227|2479927|    36227|          1186|                  3729|2014-08-02|     Igor Shevchenko|           RU1|           1|        0|    0|      0|            45|\n",
      "|2484582_52453|2484582|    52453|         28095|                 28095|2014-08-13|       Haris Handzic|           RU1|           0|        0|    0|      0|            90|\n",
      "|2485965_52453|2485965|    52453|         28095|                 28095|2014-08-16|       Haris Handzic|           RU1|           0|        0|    0|      0|            45|\n",
      "|2487345_52453|2487345|    52453|         28095|                 28095|2014-08-23|       Haris Handzic|           RU1|           0|        0|    0|      0|            53|\n",
      "|2489341_52453|2489341|    52453|         28095|                 28095|2014-08-31|       Haris Handzic|           RU1|           0|        0|    0|      0|            35|\n",
      "|2493788_52453|2493788|    52453|         28095|                 28095|2014-09-14|       Haris Handzic|           RU1|           0|        0|    0|      1|            65|\n",
      "|2498464_52453|2498464|    52453|         28095|                 28095|2014-09-20|       Haris Handzic|           RU1|           0|        0|    0|      0|            19|\n",
      "|2500260_52453|2500260|    52453|         28095|                 28095|2014-09-27|       Haris Handzic|           RU1|           0|        0|    1|      0|            86|\n",
      "+-------------+-------+---------+--------------+----------------------+----------+--------------------+--------------+------------+---------+-----+-------+--------------+\n",
      "only showing top 20 rows\n",
      "\n",
      "+-------+------+-------------+-------+---------+--------------------+------------+\n",
      "|game_id|minute|         type|club_id|player_id|         description|player_in_id|\n",
      "+-------+------+-------------+-------+---------+--------------------+------------+\n",
      "|2229332|     6|        Goals|     27|    34572|, Right-footed sh...|          -1|\n",
      "|2229332|    11|        Goals|     27|    58358|, Tap-in, 1. Tour...|          -1|\n",
      "|2229332|    75|        Goals|     16|    38253|, Right-footed sh...|          -1|\n",
      "|2229332|    64|Substitutions|     16|    82243|                null|       74842|\n",
      "|2229332|    64|Substitutions|     16|    44521|                null|       42460|\n",
      "|2229332|    70|Substitutions|     27|   119296|                null|       54659|\n",
      "|2229332|    71|Substitutions|     16|    29835|                null|       58124|\n",
      "|2229332|    80|Substitutions|     27|    22068|                null|       14944|\n",
      "|2229332|    85|Substitutions|     27|     4360|                null|       86792|\n",
      "|2244388|    55|        Goals|    418|     8198|, Header, 1. Tour...|          -1|\n",
      "|2244388|    56|        Goals|    131|    65278|, Right-footed sh...|          -1|\n",
      "|2244388|    60|        Goals|    131|    28003|, Penalty, 1. Tou...|          -1|\n",
      "|2244388|    78|        Goals|    131|     7607|, Right-footed sh...|          -1|\n",
      "|2244388|    85|        Goals|    418|    45320|, Left-footed sho...|          -1|\n",
      "|2244388|    60|Substitutions|    418|    18922|                null|       39153|\n",
      "|2244388|    65|Substitutions|    418|    61253|                null|       45320|\n",
      "|2244388|    71|Substitutions|    131|    40433|                null|      141834|\n",
      "|2244388|    81|Substitutions|    418|    35664|                null|       44501|\n",
      "|2244388|    82|Substitutions|    131|     7607|                null|        8806|\n",
      "|2244388|    86|Substitutions|    131|    65278|                null|       69751|\n",
      "+-------+------+-------------+-------+---------+--------------------+------------+\n",
      "only showing top 20 rows\n",
      "\n",
      "+-------+--------------+----------------+------+------------------+----------+------------+------------+---------------+---------------+---------+------------------+------------------+-----------------+--------------------+----------------------+----------------------+--------------------+----------+--------------------+--------------------+\n",
      "|game_id|competition_id|competition_type|season|             round|      date|home_club_id|away_club_id|home_club_goals|away_club_goals|aggregate|home_club_position|away_club_position|   club_home_name|      club_away_name|home_club_manager_name|away_club_manager_name|             stadium|attendance|             referee|                 url|\n",
      "+-------+--------------+----------------+------+------------------+----------+------------+------------+---------------+---------------+---------+------------------+------------------+-----------------+--------------------+----------------------+----------------------+--------------------+----------+--------------------+--------------------+\n",
      "|2229332|           DFL|           other|  2012|             Final|2012-08-12|          27|          16|              2|              1|      2:1|                -1|                -1|Fc Bayern Munchen|   Borussia Dortmund|         Jupp Heynckes|          Jürgen Klopp|       Allianz Arena|     69000|      Michael Weiner|https://www.trans...|\n",
      "|2244388|           SUC|           other|  2012|     final 1st leg|2012-08-22|         131|         418|              3|              2|      3:2|                -1|                -1|     Fc Barcelona|         Real Madrid|         Tito Vilanova|         José Mourinho|    Spotify Camp Nou|     91728|   Carlos Clos Gómez|https://www.trans...|\n",
      "|2269557|           CDR|    domestic_cup|  2012| 4th round 2nd leg|2012-11-28|        3709|        4032|              0|              0|      0:0|                -1|                -1|        Fc Getafe|                null|           Luis García|      Claudio Barragán|Coliseum Alfonso ...|      2000|Pedro Jesús Pérez...|https://www.trans...|\n",
      "|2254432|           CDR|    domestic_cup|  2012|First Round Replay|2012-08-30|       21322|        7077|              1|              0|      1:0|                -1|                -1|             null|                null|    Pedro Buenaventura|                  Pato|           El Palmar|         0|Andrés Manuel Ceb...|https://www.trans...|\n",
      "|2221759|           DFB|    domestic_cup|  2012|       First Round|2012-08-20|         109|          27|              0|              4|      0:4|                -1|                -1|             null|   Fc Bayern Munchen|      Oscar Corrochano|         Jupp Heynckes|         Jahnstadion|     12500|      Guido Winkmann|https://www.trans...|\n",
      "|2211607|          NLSC|           other|  2012|             Final|2012-08-05|         383|         610|              4|              2|      4:2|                -1|                -1|    Psv Eindhoven|      Ajax Amsterdam|         Dick Advocaat|         Frank de Boer| Johan Cruijff ArenA|     50000|       Björn Kuipers|https://www.trans...|\n",
      "|2244655|          FRCH|           other|  2011|             Final|2012-07-28|         969|        1041|              4|              6|      4:6|                -1|                -1|  Montpellier Hsc|      Olympique Lyon|           René Girard|            Rémi Garde|                null|     15166|      Jorge Gonzalez|https://www.trans...|\n",
      "|2224956|           BE1| domestic_league|  2012|      30. Matchday|2013-03-16|        1411|        1184|              1|              5|      1:5|                 7|                 3|        Raec Mons|            Krc Genk|            Enzo Scifo|            Mario Been|Charles Tondreau ...|      3800|    Christof Dierick|https://www.trans...|\n",
      "|2250472|           NL1| domestic_league|  2012|      34. Matchday|2013-05-12|         200|        1304|              3|              0|      3:0|                 5|                12|       Fc Utrecht|     Heracles Almelo|           Jan Wouters|            Peter Bosz|\"Stadion \"\"Galgen...|     17125|     Jochem Kamphuis|https://www.trans...|\n",
      "|2250473|           NL1| domestic_league|  2012|      34. Matchday|2013-05-12|         467|         235|              1|              2|      1:2|                15|                14|     Nec Nijmegen|        Rkc Waalwijk|          Alex Pastoor|          Erwin Koeman|      Goffertstadion|     11600|      Eric Braamhaar|https://www.trans...|\n",
      "|2219794|          BESC|           other|  2011|             Final|2012-07-22|          58|         498|              3|              2|      3:2|                -1|                -1|   Rsc Anderlecht|         Ksc Lokeren|     John van den Brom|            Peter Maes|Constant Vanden S...|     14485|   Laurent Colemonts|https://www.trans...|\n",
      "|2231667|            L1| domestic_league|  2012|      34. Matchday|2013-05-18|          16|         533|              1|              2|      1:2|                 2|                16|Borussia Dortmund| Tsg 1899 Hoffenheim|          Jürgen Klopp|         Markus Gisdol|   SIGNAL IDUNA PARK|     80645|    Dr. Jochen Drees|https://www.trans...|\n",
      "|2231661|            L1| domestic_league|  2012|      34. Matchday|2013-05-18|          42|          38|              3|              0|      3:0|                 9|                17|      Hannover 96|  Fortuna Dusseldorf|          Mirko Slomka|         Norbert Meier|Heinz-von-Heiden-...|     49000|     Peter Gagelmann|https://www.trans...|\n",
      "|2504433|           NLP|    domestic_cup|  2012|       First Round|2012-08-22|        7474|       34455|              4|              1|      4:1|                -1|                -1|             null|                null|                  null|                  null|Sportpark Duinwet...|       400|    Jeroen Spinhoven|https://www.trans...|\n",
      "|2240524|           NLP|    domestic_cup|  2012|       First Round|2012-08-22|        2821|        2848|              4|              2|      4:2|                -1|                -1|             null|                null|          Misha Salden|          Frans Koenen|Sportpark Ter Specke|         0|          Rob Souwen|https://www.trans...|\n",
      "|2231660|            L1| domestic_league|  2012|      34. Matchday|2013-05-18|          41|          15|              0|              1|      0:1|                 7|                 3|     Hamburger Sv| Bayer 04 Leverkusen|         Thorsten Fink|    Sascha Lewandowski|    Volksparkstadion|     57000|      Wolfgang Stark|https://www.trans...|\n",
      "|2258403|          POCP|    domestic_cup|  2012|           Group D|2012-08-05|        3348|        7179|              0|              1|      0:1|                -1|                -1|             null|          Cd Tondela|        Professor Neca|         Vítor Paneira| Estádio CD Trofense|       790|       Bruno Esteves|https://www.trans...|\n",
      "|2231658|            L1| domestic_league|  2012|      34. Matchday|2013-05-18|          60|          33|              1|              2|      1:2|                 5|                 4|      Sc Freiburg|       Fc Schalke 04|     Christian Streich|           Jens Keller|      Dreisamstadion|     24000|     Dr. Felix Brych|https://www.trans...|\n",
      "|2231662|            L1| domestic_league|  2012|      34. Matchday|2013-05-18|          79|          39|              2|              2|      2:2|                12|                13|    Vfb Stuttgart|      1 Fsv Mainz 05|        Bruno Labbadia|         Thomas Tuchel| Mercedes-Benz Arena|     51020|      Michael Weiner|https://www.trans...|\n",
      "|2231654|            L1| domestic_league|  2012|      34. Matchday|2013-05-18|         167|          65|              3|              1|      3:1|                15|                18|      Fc Augsburg|Spvgg Greuther Furth|      Markus Weinzierl|          Frank Kramer|           WWK ARENA|     30112|         Tobias Welz|https://www.trans...|\n",
      "+-------+--------------+----------------+------+------------------+----------+------------+------------+---------------+---------------+---------+------------------+------------------+-----------------+--------------------+----------------------+----------------------+--------------------+----------+--------------------+--------------------+\n",
      "only showing top 20 rows\n",
      "\n"
     ]
    }
   ],
   "source": [
    "#print number of rows for each dataset\n",
    "print(\"Number of rows: \", df_appearances.count())\n",
    "print(\"Number of rows: \", df_club_games.count())\n",
    "print(\"Number of rows: \", df_clubs.count())\n",
    "print(\"Number of rows: \", df_competitions.count())\n",
    "print(\"Number of rows: \", df_game_events.count())\n",
    "print(\"Number of rows: \", df_games.count())\n",
    "print(\"Number of rows: \", df_player_valuations.count())\n",
    "print(\"Number of rows: \", df_players.count())\n",
    "\n",
    "df_appearances.printSchema()\n",
    "df_game_events.printSchema()\n",
    "df_games.printSchema()\n",
    "\n",
    "df_appearances.show()\n",
    "df_game_events.show()\n",
    "df_games.show()\n"
   ]
  },
  {
   "attachments": {},
   "cell_type": "markdown",
   "metadata": {},
   "source": [
    "1 - unire players e appearances\n",
    "2 - aggiungere la media punti per partita dei club per cui ha giocato in quell'anno\n",
    "3 - aggiungere l'ultimo valore di mercato ottenuto in anno (player_valuations)\n",
    "\n",
    "PRENDERE IN CONSIDERAZIONE LA POSSIBILITà DI ELIMINARE TOTALMENTE QUELLO CHE è SUCCESSO NEL 2023."
   ]
  },
  {
   "cell_type": "code",
   "execution_count": 50,
   "metadata": {
    "ExecuteTime": {
     "end_time": "2023-05-06T16:36:49.653300100Z",
     "start_time": "2023-05-06T16:36:49.636251900Z"
    }
   },
   "outputs": [],
   "source": [
    "# join players and appearances\n",
    "df_players_appearances = df_players.join(df_appearances, [\"player_id\"], how='inner')"
   ]
  },
  {
   "cell_type": "code",
   "execution_count": 51,
   "metadata": {
    "ExecuteTime": {
     "end_time": "2023-05-06T16:36:51.677169300Z",
     "start_time": "2023-05-06T16:36:51.331503100Z"
    }
   },
   "outputs": [
    {
     "name": "stdout",
     "output_type": "stream",
     "text": [
      "+---------+--------------------+---------------+-----------------+----------------------+-----------------+-------------+-------------+--------+--------------+-----+------------+-------------------+---------------------------+----------+------------------------+------------------------------------+----------+------------+--------------------+--------------------+-----------+--------------------+-------------+-------+--------------+----------------------+----------+--------------------+--------------+------------+---------+-----+-------+--------------+\n",
      "|player_id|                name|current_club_id|current_club_name|country_of_citizenship| country_of_birth|city_of_birth|date_of_birth|position|  sub_position| foot|height_in_cm|market_value_in_eur|highest_market_value_in_eur|agent_name|contract_expiration_date|current_club_domestic_competition_id|first_name|   last_name|         player_code|           image_url|last_season|                 url|appearance_id|game_id|player_club_id|player_current_club_id|      date|         player_name|competition_id|yellow_cards|red_cards|goals|assists|minutes_played|\n",
      "+---------+--------------------+---------------+-----------------+----------------------+-----------------+-------------+-------------+--------+--------------+-----+------------+-------------------+---------------------------+----------+------------------------+------------------------------------+----------+------------+--------------------+--------------------+-----------+--------------------+-------------+-------+--------------+----------------------+----------+--------------------+--------------+------------+---------+-----+-------+--------------+\n",
      "|    52453|       Haris Handzic|          28095|           Fk Ufa|    Bosnia-Herzegovina|Jugoslawien (SFR)|   Sarajevo  |   1990-06-20|  Attack|Centre-Forward| Left|         191|            75000.0|                   700000.0|      null|              2023-06-30|                                 RU1|     Haris|     Handzic|       haris-handzic|https://img.a.tra...|       2015|https://www.trans...|2483937_52453|2483937|         28095|                 28095|2014-08-08|       Haris Handzic|           RU1|           0|        0|    0|      0|            90|\n",
      "|    67064|Felicio Brown Forbes|           4128|       Amkar Perm|            Costa Rica|          Germany|     Berlin  |   1991-08-28|  Attack|Centre-Forward|Right|         189|           300000.0|                   700000.0|      null|                    null|                                 RU1|   Felicio|Brown Forbes|felicio-brown-forbes|https://img.a.tra...|       2017|https://www.trans...|2479929_67064|2479929|         28095|                  4128|2014-08-03|Felicio Brown Forbes|           RU1|           0|        0|    0|      0|            90|\n",
      "|    67064|Felicio Brown Forbes|           4128|       Amkar Perm|            Costa Rica|          Germany|     Berlin  |   1991-08-28|  Attack|Centre-Forward|Right|         189|           300000.0|                   700000.0|      null|                    null|                                 RU1|   Felicio|Brown Forbes|felicio-brown-forbes|https://img.a.tra...|       2017|https://www.trans...|2483937_67064|2483937|         28095|                  4128|2014-08-08|Felicio Brown Forbes|           RU1|           0|        0|    0|      0|            90|\n",
      "|    67064|Felicio Brown Forbes|           4128|       Amkar Perm|            Costa Rica|          Germany|     Berlin  |   1991-08-28|  Attack|Centre-Forward|Right|         189|           300000.0|                   700000.0|      null|                    null|                                 RU1|   Felicio|Brown Forbes|felicio-brown-forbes|https://img.a.tra...|       2017|https://www.trans...|2484582_67064|2484582|         28095|                  4128|2014-08-13|Felicio Brown Forbes|           RU1|           0|        0|    0|      0|            55|\n",
      "|    67064|Felicio Brown Forbes|           4128|       Amkar Perm|            Costa Rica|          Germany|     Berlin  |   1991-08-28|  Attack|Centre-Forward|Right|         189|           300000.0|                   700000.0|      null|                    null|                                 RU1|   Felicio|Brown Forbes|felicio-brown-forbes|https://img.a.tra...|       2017|https://www.trans...|2485965_67064|2485965|         28095|                  4128|2014-08-16|Felicio Brown Forbes|           RU1|           0|        0|    0|      0|            90|\n",
      "|    67064|Felicio Brown Forbes|           4128|       Amkar Perm|            Costa Rica|          Germany|     Berlin  |   1991-08-28|  Attack|Centre-Forward|Right|         189|           300000.0|                   700000.0|      null|                    null|                                 RU1|   Felicio|Brown Forbes|felicio-brown-forbes|https://img.a.tra...|       2017|https://www.trans...|2487345_67064|2487345|         28095|                  4128|2014-08-23|Felicio Brown Forbes|           RU1|           1|        0|    0|      0|            90|\n",
      "|    67064|Felicio Brown Forbes|           4128|       Amkar Perm|            Costa Rica|          Germany|     Berlin  |   1991-08-28|  Attack|Centre-Forward|Right|         189|           300000.0|                   700000.0|      null|                    null|                                 RU1|   Felicio|Brown Forbes|felicio-brown-forbes|https://img.a.tra...|       2017|https://www.trans...|2498464_67064|2498464|         28095|                  4128|2014-09-20|Felicio Brown Forbes|           RU1|           0|        0|    0|      0|            90|\n",
      "|    67064|Felicio Brown Forbes|           4128|       Amkar Perm|            Costa Rica|          Germany|     Berlin  |   1991-08-28|  Attack|Centre-Forward|Right|         189|           300000.0|                   700000.0|      null|                    null|                                 RU1|   Felicio|Brown Forbes|felicio-brown-forbes|https://img.a.tra...|       2017|https://www.trans...|2500260_67064|2500260|         28095|                  4128|2014-09-27|Felicio Brown Forbes|           RU1|           0|        0|    0|      1|            19|\n",
      "|    67064|Felicio Brown Forbes|           4128|       Amkar Perm|            Costa Rica|          Germany|     Berlin  |   1991-08-28|  Attack|Centre-Forward|Right|         189|           300000.0|                   700000.0|      null|                    null|                                 RU1|   Felicio|Brown Forbes|felicio-brown-forbes|https://img.a.tra...|       2017|https://www.trans...|2506733_67064|2506733|         28095|                  4128|2014-10-26|Felicio Brown Forbes|           RU1|           1|        0|    1|      0|            90|\n",
      "|    67064|Felicio Brown Forbes|           4128|       Amkar Perm|            Costa Rica|          Germany|     Berlin  |   1991-08-28|  Attack|Centre-Forward|Right|         189|           300000.0|                   700000.0|      null|                    null|                                 RU1|   Felicio|Brown Forbes|felicio-brown-forbes|https://img.a.tra...|       2017|https://www.trans...|2508366_67064|2508366|         28095|                  4128|2014-11-03|Felicio Brown Forbes|           RU1|           0|        0|    0|      0|             2|\n",
      "|    67064|Felicio Brown Forbes|           4128|       Amkar Perm|            Costa Rica|          Germany|     Berlin  |   1991-08-28|  Attack|Centre-Forward|Right|         189|           300000.0|                   700000.0|      null|                    null|                                 RU1|   Felicio|Brown Forbes|felicio-brown-forbes|https://img.a.tra...|       2017|https://www.trans...|2493717_67064|2493717|         28095|                  4128|2014-09-24|Felicio Brown Forbes|           RUP|           0|        0|    0|      0|            65|\n",
      "|    98558|         Anton Kilin|          41201|       Pfk Tambov|                Russia|            UdSSR|    Izhevsk  |   1990-11-14|  Attack|  Right Winger|Right|         169|           300000.0|                   700000.0|       APS|              2023-06-30|                                 RU1|     Anton|       Kilin|         anton-kilin|https://img.a.tra...|       2020|https://www.trans...|2498464_98558|2498464|         28095|                 41201|2014-09-20|         Anton Kilin|           RU1|           0|        0|    0|      0|            90|\n",
      "|    36227|     Igor Shevchenko|           3729|     Arsenal Tula|                Russia|            UdSSR|     Samara  |   1985-02-02|  Attack|  Right Winger|Right|         180|               null|                   725000.0|       ASA|                    null|                                 RU1|      Igor|  Shevchenko|     igor-shevchenko|https://img.a.tra...|       2017|https://www.trans...|2479927_36227|2479927|          1186|                  3729|2014-08-02|     Igor Shevchenko|           RU1|           1|        0|    0|      0|            45|\n",
      "|    52453|       Haris Handzic|          28095|           Fk Ufa|    Bosnia-Herzegovina|Jugoslawien (SFR)|   Sarajevo  |   1990-06-20|  Attack|Centre-Forward| Left|         191|            75000.0|                   700000.0|      null|              2023-06-30|                                 RU1|     Haris|     Handzic|       haris-handzic|https://img.a.tra...|       2015|https://www.trans...|2484582_52453|2484582|         28095|                 28095|2014-08-13|       Haris Handzic|           RU1|           0|        0|    0|      0|            90|\n",
      "|    52453|       Haris Handzic|          28095|           Fk Ufa|    Bosnia-Herzegovina|Jugoslawien (SFR)|   Sarajevo  |   1990-06-20|  Attack|Centre-Forward| Left|         191|            75000.0|                   700000.0|      null|              2023-06-30|                                 RU1|     Haris|     Handzic|       haris-handzic|https://img.a.tra...|       2015|https://www.trans...|2485965_52453|2485965|         28095|                 28095|2014-08-16|       Haris Handzic|           RU1|           0|        0|    0|      0|            45|\n",
      "|    52453|       Haris Handzic|          28095|           Fk Ufa|    Bosnia-Herzegovina|Jugoslawien (SFR)|   Sarajevo  |   1990-06-20|  Attack|Centre-Forward| Left|         191|            75000.0|                   700000.0|      null|              2023-06-30|                                 RU1|     Haris|     Handzic|       haris-handzic|https://img.a.tra...|       2015|https://www.trans...|2487345_52453|2487345|         28095|                 28095|2014-08-23|       Haris Handzic|           RU1|           0|        0|    0|      0|            53|\n",
      "|    52453|       Haris Handzic|          28095|           Fk Ufa|    Bosnia-Herzegovina|Jugoslawien (SFR)|   Sarajevo  |   1990-06-20|  Attack|Centre-Forward| Left|         191|            75000.0|                   700000.0|      null|              2023-06-30|                                 RU1|     Haris|     Handzic|       haris-handzic|https://img.a.tra...|       2015|https://www.trans...|2489341_52453|2489341|         28095|                 28095|2014-08-31|       Haris Handzic|           RU1|           0|        0|    0|      0|            35|\n",
      "|    52453|       Haris Handzic|          28095|           Fk Ufa|    Bosnia-Herzegovina|Jugoslawien (SFR)|   Sarajevo  |   1990-06-20|  Attack|Centre-Forward| Left|         191|            75000.0|                   700000.0|      null|              2023-06-30|                                 RU1|     Haris|     Handzic|       haris-handzic|https://img.a.tra...|       2015|https://www.trans...|2493788_52453|2493788|         28095|                 28095|2014-09-14|       Haris Handzic|           RU1|           0|        0|    0|      1|            65|\n",
      "|    52453|       Haris Handzic|          28095|           Fk Ufa|    Bosnia-Herzegovina|Jugoslawien (SFR)|   Sarajevo  |   1990-06-20|  Attack|Centre-Forward| Left|         191|            75000.0|                   700000.0|      null|              2023-06-30|                                 RU1|     Haris|     Handzic|       haris-handzic|https://img.a.tra...|       2015|https://www.trans...|2498464_52453|2498464|         28095|                 28095|2014-09-20|       Haris Handzic|           RU1|           0|        0|    0|      0|            19|\n",
      "|    52453|       Haris Handzic|          28095|           Fk Ufa|    Bosnia-Herzegovina|Jugoslawien (SFR)|   Sarajevo  |   1990-06-20|  Attack|Centre-Forward| Left|         191|            75000.0|                   700000.0|      null|              2023-06-30|                                 RU1|     Haris|     Handzic|       haris-handzic|https://img.a.tra...|       2015|https://www.trans...|2500260_52453|2500260|         28095|                 28095|2014-09-27|       Haris Handzic|           RU1|           0|        0|    1|      0|            86|\n",
      "+---------+--------------------+---------------+-----------------+----------------------+-----------------+-------------+-------------+--------+--------------+-----+------------+-------------------+---------------------------+----------+------------------------+------------------------------------+----------+------------+--------------------+--------------------+-----------+--------------------+-------------+-------+--------------+----------------------+----------+--------------------+--------------+------------+---------+-----+-------+--------------+\n",
      "only showing top 20 rows\n",
      "\n"
     ]
    }
   ],
   "source": [
    "df_players_appearances.show()"
   ]
  },
  {
   "cell_type": "code",
   "execution_count": 52,
   "outputs": [],
   "source": [
    "#aggiungere a df_players_appearances la colonna year che contiene solo l'anno della feature date\n",
    "df_players_appearances = df_players_appearances.withColumn(\"year\", year(df_players_appearances.date))\n",
    "#aggiungere a df_players_appearances la colonna month che contiene solo il mese della feature date\n",
    "df_players_appearances = df_players_appearances.withColumn(\"month\", month(df_players_appearances.date))\n",
    "# we need also the day\n",
    "df_players_appearances = df_players_appearances.withColumn(\"day\", dayofmonth(df_players_appearances.date))"
   ],
   "metadata": {
    "collapsed": false,
    "ExecuteTime": {
     "end_time": "2023-05-06T16:36:55.489804900Z",
     "start_time": "2023-05-06T16:36:55.461784700Z"
    }
   }
  },
  {
   "cell_type": "code",
   "execution_count": 53,
   "metadata": {
    "ExecuteTime": {
     "end_time": "2023-05-06T16:37:23.629980100Z",
     "start_time": "2023-05-06T16:37:23.624979900Z"
    }
   },
   "outputs": [],
   "source": [
    "# drop da df_players_appearances le colonne current_club_id, current_club_name, city_of_birth, market_value_in_eur, contract_expiration_date, agent_name, current_club_domestic_competition_id, image_url, last_season, url, game_id, player_current_club_id\n",
    "df_players_appearances = df_players_appearances.drop(\"current_club_id\",  \"appearance_id\", \"highest_market_value_in_eur\", \"current_club_name\", \"city_of_birth\", \"market_value_in_eur\", \"contract_expiration_date\", \"agent_name\", \"current_club_domestic_competition_id\", \"image_url\", \"last_season\", \"url\", \"game_id\", \"player_current_club_id\", \"first_name\", \"last_name\", \"player_name\", \"player_code\")"
   ]
  },
  {
   "cell_type": "code",
   "execution_count": 96,
   "metadata": {
    "ExecuteTime": {
     "end_time": "2023-05-06T18:19:45.203701900Z",
     "start_time": "2023-05-06T18:19:44.968050500Z"
    }
   },
   "outputs": [
    {
     "name": "stdout",
     "output_type": "stream",
     "text": [
      "+---------+-------------+----------------------+----------------+-------------+--------+------------+----+------------+--------------+----------+--------------+------------+---------+-----+-------+--------------+----+-----+----+\n",
      "|player_id|         name|country_of_citizenship|country_of_birth|date_of_birth|position|sub_position|foot|height_in_cm|player_club_id|      date|competition_id|yellow_cards|red_cards|goals|assists|minutes_played|year|month| day|\n",
      "+---------+-------------+----------------------+----------------+-------------+--------+------------+----+------------+--------------+----------+--------------+------------+---------+-----+-------+--------------+----+-----+----+\n",
      "|   148455|Mohamed Salah|                 Egypt|           Egypt|   1992-06-15|  Attack|Right Winger|Left|         175|           631|      null|           CGB|           0|        0|    0|      0|            80|null| null|null|\n",
      "|   148455|Mohamed Salah|                 Egypt|           Egypt|   1992-06-15|  Attack|Right Winger|Left|         175|            31|      null|           CGB|           0|        0|    0|      0|           120|null| null|null|\n",
      "|   148455|Mohamed Salah|                 Egypt|           Egypt|   1992-06-15|  Attack|Right Winger|Left|         175|           631|      null|           CGB|           0|        0|    0|      1|            80|null| null|null|\n",
      "|   148455|Mohamed Salah|                 Egypt|           Egypt|   1992-06-15|  Attack|Right Winger|Left|         175|            31|      null|           CGB|           0|        0|    0|      0|             3|null| null|null|\n",
      "|   148455|Mohamed Salah|                 Egypt|           Egypt|   1992-06-15|  Attack|Right Winger|Left|         175|            31|      null|           CGB|           0|        0|    0|      0|            61|null| null|null|\n",
      "|   148455|Mohamed Salah|                 Egypt|           Egypt|   1992-06-15|  Attack|Right Winger|Left|         175|           631|2014-09-30|            CL|           0|        0|    0|      0|             6|2014|    9|  30|\n",
      "|   148455|Mohamed Salah|                 Egypt|           Egypt|   1992-06-15|  Attack|Right Winger|Left|         175|           631|2014-09-13|           GB1|           0|        0|    0|      0|             8|2014|    9|  13|\n",
      "|   148455|Mohamed Salah|                 Egypt|           Egypt|   1992-06-15|  Attack|Right Winger|Left|         175|           631|2014-10-18|           GB1|           0|        0|    0|      0|             4|2014|   10|  18|\n",
      "|   148455|Mohamed Salah|                 Egypt|           Egypt|   1992-06-15|  Attack|Right Winger|Left|         175|           631|2014-12-10|            CL|           0|        0|    0|      0|            71|2014|   12|  10|\n",
      "|   148455|Mohamed Salah|                 Egypt|           Egypt|   1992-06-15|  Attack|Right Winger|Left|         175|           631|2015-01-24|           FAC|           0|        0|    0|      1|            70|2015|    1|  24|\n",
      "|   148455|Mohamed Salah|                 Egypt|           Egypt|   1992-06-15|  Attack|Right Winger|Left|         175|           631|2015-01-01|           GB1|           0|        0|    0|      0|            18|2015|    1|   1|\n",
      "|   148455|Mohamed Salah|                 Egypt|           Egypt|   1992-06-15|  Attack|Right Winger|Left|         175|           430|2015-02-26|            EL|           1|        0|    1|      0|            90|2015|    2|  26|\n",
      "|   148455|Mohamed Salah|                 Egypt|           Egypt|   1992-06-15|  Attack|Right Winger|Left|         175|           430|2015-02-22|           IT1|           0|        0|    1|      0|            24|2015|    2|  22|\n",
      "|   148455|Mohamed Salah|                 Egypt|           Egypt|   1992-06-15|  Attack|Right Winger|Left|         175|           430|2015-02-14|           IT1|           0|        0|    1|      1|            82|2015|    2|  14|\n",
      "|   148455|Mohamed Salah|                 Egypt|           Egypt|   1992-06-15|  Attack|Right Winger|Left|         175|           430|2015-02-08|           IT1|           0|        0|    0|      0|            25|2015|    2|   8|\n",
      "|   148455|Mohamed Salah|                 Egypt|           Egypt|   1992-06-15|  Attack|Right Winger|Left|         175|           430|2015-02-19|            EL|           0|        0|    0|      0|            90|2015|    2|  19|\n",
      "|   148455|Mohamed Salah|                 Egypt|           Egypt|   1992-06-15|  Attack|Right Winger|Left|         175|           430|2015-03-12|            EL|           0|        0|    0|      1|            90|2015|    3|  12|\n",
      "|   148455|Mohamed Salah|                 Egypt|           Egypt|   1992-06-15|  Attack|Right Winger|Left|         175|           430|2015-03-01|           IT1|           0|        0|    1|      0|            47|2015|    3|   1|\n",
      "|   148455|Mohamed Salah|                 Egypt|           Egypt|   1992-06-15|  Attack|Right Winger|Left|         175|           430|2015-03-09|           IT1|           0|        0|    0|      0|            90|2015|    3|   9|\n",
      "|   148455|Mohamed Salah|                 Egypt|           Egypt|   1992-06-15|  Attack|Right Winger|Left|         175|           430|2015-03-22|           IT1|           0|        0|    0|      0|            21|2015|    3|  22|\n",
      "|   148455|Mohamed Salah|                 Egypt|           Egypt|   1992-06-15|  Attack|Right Winger|Left|         175|           430|2015-03-19|            EL|           0|        0|    0|      0|            90|2015|    3|  19|\n",
      "|   148455|Mohamed Salah|                 Egypt|           Egypt|   1992-06-15|  Attack|Right Winger|Left|         175|           430|2015-03-05|           CIT|           0|        0|    2|      0|            74|2015|    3|   5|\n",
      "|   148455|Mohamed Salah|                 Egypt|           Egypt|   1992-06-15|  Attack|Right Winger|Left|         175|           430|2015-04-12|           IT1|           0|        0|    0|      0|            90|2015|    4|  12|\n",
      "|   148455|Mohamed Salah|                 Egypt|           Egypt|   1992-06-15|  Attack|Right Winger|Left|         175|           430|2015-04-29|           IT1|           0|        0|    0|      0|            81|2015|    4|  29|\n",
      "|   148455|Mohamed Salah|                 Egypt|           Egypt|   1992-06-15|  Attack|Right Winger|Left|         175|           430|2015-04-26|           IT1|           0|        0|    0|      0|            90|2015|    4|  26|\n",
      "|   148455|Mohamed Salah|                 Egypt|           Egypt|   1992-06-15|  Attack|Right Winger|Left|         175|           430|2015-04-04|           IT1|           0|        0|    1|      0|            89|2015|    4|   4|\n",
      "|   148455|Mohamed Salah|                 Egypt|           Egypt|   1992-06-15|  Attack|Right Winger|Left|         175|           430|2015-04-20|           IT1|           0|        0|    0|      0|            28|2015|    4|  20|\n",
      "|   148455|Mohamed Salah|                 Egypt|           Egypt|   1992-06-15|  Attack|Right Winger|Left|         175|           430|2015-04-16|            EL|           0|        0|    0|      0|            90|2015|    4|  16|\n",
      "|   148455|Mohamed Salah|                 Egypt|           Egypt|   1992-06-15|  Attack|Right Winger|Left|         175|           430|2015-04-23|            EL|           0|        0|    0|      0|            88|2015|    4|  23|\n",
      "|   148455|Mohamed Salah|                 Egypt|           Egypt|   1992-06-15|  Attack|Right Winger|Left|         175|           430|2015-04-07|           CIT|           0|        0|    0|      0|            90|2015|    4|   7|\n",
      "|   148455|Mohamed Salah|                 Egypt|           Egypt|   1992-06-15|  Attack|Right Winger|Left|         175|           430|2015-05-14|            EL|           0|        0|    0|      0|            90|2015|    5|  14|\n",
      "|   148455|Mohamed Salah|                 Egypt|           Egypt|   1992-06-15|  Attack|Right Winger|Left|         175|           430|2015-05-10|           IT1|           0|        0|    1|      0|            45|2015|    5|  10|\n",
      "|   148455|Mohamed Salah|                 Egypt|           Egypt|   1992-06-15|  Attack|Right Winger|Left|         175|           430|2015-05-07|            EL|           0|        0|    0|      0|            90|2015|    5|   7|\n",
      "|   148455|Mohamed Salah|                 Egypt|           Egypt|   1992-06-15|  Attack|Right Winger|Left|         175|           430|2015-05-31|           IT1|           0|        0|    0|      1|            27|2015|    5|  31|\n",
      "|   148455|Mohamed Salah|                 Egypt|           Egypt|   1992-06-15|  Attack|Right Winger|Left|         175|           430|2015-05-18|           IT1|           0|        0|    1|      0|            79|2015|    5|  18|\n",
      "|   148455|Mohamed Salah|                 Egypt|           Egypt|   1992-06-15|  Attack|Right Winger|Left|         175|           430|2015-05-24|           IT1|           0|        0|    0|      1|            30|2015|    5|  24|\n",
      "|   148455|Mohamed Salah|                 Egypt|           Egypt|   1992-06-15|  Attack|Right Winger|Left|         175|           430|2015-05-03|           IT1|           0|        0|    0|      0|            63|2015|    5|   3|\n",
      "|   148455|Mohamed Salah|                 Egypt|           Egypt|   1992-06-15|  Attack|Right Winger|Left|         175|            12|2015-08-22|           IT1|           0|        0|    0|      0|            65|2015|    8|  22|\n",
      "|   148455|Mohamed Salah|                 Egypt|           Egypt|   1992-06-15|  Attack|Right Winger|Left|         175|            12|2015-08-30|           IT1|           0|        0|    0|      0|            77|2015|    8|  30|\n",
      "|   148455|Mohamed Salah|                 Egypt|           Egypt|   1992-06-15|  Attack|Right Winger|Left|         175|            12|2015-09-29|            CL|           0|        0|    0|      0|            90|2015|    9|  29|\n",
      "|   148455|Mohamed Salah|                 Egypt|           Egypt|   1992-06-15|  Attack|Right Winger|Left|         175|            12|2015-09-23|           IT1|           0|        0|    1|      0|            86|2015|    9|  23|\n",
      "|   148455|Mohamed Salah|                 Egypt|           Egypt|   1992-06-15|  Attack|Right Winger|Left|         175|            12|2015-09-16|            CL|           0|        0|    0|      0|            90|2015|    9|  16|\n",
      "|   148455|Mohamed Salah|                 Egypt|           Egypt|   1992-06-15|  Attack|Right Winger|Left|         175|            12|2015-09-26|           IT1|           0|        0|    1|      0|            90|2015|    9|  26|\n",
      "|   148455|Mohamed Salah|                 Egypt|           Egypt|   1992-06-15|  Attack|Right Winger|Left|         175|            12|2015-09-12|           IT1|           0|        0|    0|      0|            21|2015|    9|  12|\n",
      "|   148455|Mohamed Salah|                 Egypt|           Egypt|   1992-06-15|  Attack|Right Winger|Left|         175|            12|2015-09-20|           IT1|           0|        0|    1|      0|            90|2015|    9|  20|\n",
      "|   148455|Mohamed Salah|                 Egypt|           Egypt|   1992-06-15|  Attack|Right Winger|Left|         175|            12|2015-10-04|           IT1|           0|        0|    0|      0|            75|2015|   10|   4|\n",
      "|   148455|Mohamed Salah|                 Egypt|           Egypt|   1992-06-15|  Attack|Right Winger|Left|         175|            12|2015-10-31|           IT1|           0|        0|    0|      0|            90|2015|   10|  31|\n",
      "|   148455|Mohamed Salah|                 Egypt|           Egypt|   1992-06-15|  Attack|Right Winger|Left|         175|            12|2015-10-25|           IT1|           2|        0|    1|      0|            87|2015|   10|  25|\n",
      "|   148455|Mohamed Salah|                 Egypt|           Egypt|   1992-06-15|  Attack|Right Winger|Left|         175|            12|2015-10-17|           IT1|           0|        0|    1|      0|            90|2015|   10|  17|\n",
      "|   148455|Mohamed Salah|                 Egypt|           Egypt|   1992-06-15|  Attack|Right Winger|Left|         175|            12|2015-10-20|            CL|           0|        0|    0|      0|            62|2015|   10|  20|\n",
      "+---------+-------------+----------------------+----------------+-------------+--------+------------+----+------------+--------------+----------+--------------+------------+---------+-----+-------+--------------+----+-----+----+\n",
      "only showing top 50 rows\n",
      "\n"
     ]
    }
   ],
   "source": [
    "df_players_appearances.filter(df_players_appearances.player_id == 148455).orderBy(\"year\", \"month\").show(50)"
   ]
  },
  {
   "cell_type": "code",
   "execution_count": 54,
   "metadata": {
    "ExecuteTime": {
     "end_time": "2023-05-06T16:37:40.896920300Z",
     "start_time": "2023-05-06T16:37:40.871920100Z"
    }
   },
   "outputs": [],
   "source": [
    "#aggiungere a df_players_appearances la colonna year che contiene solo l'anno della feature date\n",
    "df_player_valuations = df_player_valuations.withColumn(\"year_v\", year(df_player_valuations.date))\n",
    "#aggiungere a df_players_appearances la colonna month che contiene solo il mese della feature date\n",
    "df_player_valuations = df_player_valuations.withColumn(\"month_v\", month(df_player_valuations.date))\n",
    "#aggiungere a df_players_appearances la colonna day che contiene solo il giorno della feature date\n",
    "df_player_valuations = df_player_valuations.withColumn(\"day_v\", dayofmonth(df_player_valuations.date))"
   ]
  },
  {
   "cell_type": "code",
   "execution_count": 55,
   "outputs": [],
   "source": [
    "#dropping useless columns\n",
    "df_player_valuations = df_player_valuations.drop(\"date\", \"datetime\", \"dateweek\")"
   ],
   "metadata": {
    "collapsed": false,
    "ExecuteTime": {
     "end_time": "2023-05-06T16:37:53.101571700Z",
     "start_time": "2023-05-06T16:37:53.075557Z"
    }
   }
  },
  {
   "cell_type": "code",
   "execution_count": 45,
   "metadata": {
    "ExecuteTime": {
     "end_time": "2023-05-06T16:13:17.742206300Z",
     "start_time": "2023-05-06T16:13:17.681912900Z"
    }
   },
   "outputs": [
    {
     "name": "stdout",
     "output_type": "stream",
     "text": [
      "+---------+---------------+-------------------+-----------------------------------+------+-------+-----+\n",
      "|player_id|current_club_id|market_value_in_eur|player_club_domestic_competition_id|year_v|month_v|day_v|\n",
      "+---------+---------------+-------------------+-----------------------------------+------+-------+-----+\n",
      "|    99946|           1095|             150000|                                FR1|  2013|      8|    7|\n",
      "|    99946|           1095|             100000|                                FR1|  2014|      1|   13|\n",
      "|    76948|            979|             125000|                                PO1|  2010|      1|   29|\n",
      "|    76948|            979|             250000|                                PO1|  2010|      8|   20|\n",
      "|    76948|            979|             350000|                                PO1|  2011|      1|   17|\n",
      "|    76948|            979|             375000|                                PO1|  2011|      8|   22|\n",
      "|    76948|            979|             475000|                                PO1|  2012|      2|   16|\n",
      "|    76948|            979|             600000|                                PO1|  2014|      8|   15|\n",
      "|    76948|            979|             600000|                                PO1|  2014|     10|   16|\n",
      "|    76948|            979|             550000|                                PO1|  2016|     12|   21|\n",
      "|    76948|            979|             450000|                                PO1|  2017|      2|   22|\n",
      "|    76948|            979|             400000|                                PO1|  2018|      5|   24|\n",
      "|    76948|            979|             250000|                                PO1|  2019|      3|    3|\n",
      "|    76948|            979|             150000|                                PO1|  2020|     11|    1|\n",
      "|    76948|            979|              75000|                                PO1|  2021|      4|   10|\n",
      "|    76948|            979|              75000|                                PO1|  2021|      9|   10|\n",
      "|    76948|            979|              75000|                                PO1|  2022|      1|    1|\n",
      "|    76948|            979|              75000|                                PO1|  2022|      6|   10|\n",
      "|    76948|            979|              25000|                                PO1|  2022|     11|   12|\n",
      "|   108372|             38|              25000|                                 L1|  2011|      7|   21|\n",
      "+---------+---------------+-------------------+-----------------------------------+------+-------+-----+\n",
      "only showing top 20 rows\n",
      "\n"
     ]
    }
   ],
   "source": [
    "df_player_valuations.show()"
   ]
  },
  {
   "cell_type": "code",
   "execution_count": 99,
   "outputs": [],
   "source": [
    "# Join the two dataframes on player_id\n",
    "df_joined = df_player_valuations.join(df_players_appearances, \"player_id\")\n",
    "\n",
    "# Filter the rows based on the date conditions\n",
    "df_filtered = df_joined.filter(\n",
    "    (df_joined.year_v == df_joined.year+1) & (df_joined.month_v <= df_joined.month) |\n",
    "    (df_joined.year_v == df_joined.year) & (df_joined.month_v > df_joined.month) |\n",
    "    (df_joined.year_v == df_joined.year) & (df_joined.month_v == df_joined.month) & (df_joined.day_v > df_joined.day) |\n",
    "    (df_joined.year_v == df_joined.year+1) & (df_joined.month_v == df_joined.month) & (df_joined.day_v <= df_joined.day)\n",
    ")\n",
    "\n",
    "# Group by the player_id and the valuation date and count the number of appearances\n",
    "df_result2 = df_filtered.groupBy(\n",
    "    \"player_id\", col(\"market_value_in_eur\").alias(\"market_value\"), \"year_v\", \"month_v\", \"day_v\", col(\"current_club_id\").alias(\"club_id\"), col(\"height_in_cm\").alias(\"height\"),  col(\"country_of_citizenship\").alias(\"citizenship\"), year(\"date_of_birth\").alias(\"year_b\"), \"position\", \"sub_position\")\\\n",
    "    .agg(collect_set(\"competition_id\").alias(\"competition_id\"),\n",
    "        collect_set(\"player_club_id\").alias(\"player_club_id\"),\n",
    "         count(\"date\").alias(\"app\"),\n",
    "         sum(\"assists\").alias(\"assists\"),\n",
    "         sum(\"goals\").alias(\"goals\"),\n",
    "         sum(\"minutes_played\").alias(\"minutes_played\"),\n",
    "         sum(\"red_cards\").alias(\"red_cards\"),\n",
    "         sum(\"yellow_cards\").alias(\"yellow_cards\"))\n",
    "\n"
   ],
   "metadata": {
    "collapsed": false,
    "ExecuteTime": {
     "end_time": "2023-05-06T18:44:54.289106200Z",
     "start_time": "2023-05-06T18:44:54.242269700Z"
    }
   }
  },
  {
   "cell_type": "code",
   "execution_count": 107,
   "outputs": [
    {
     "data": {
      "text/plain": "27660316"
     },
     "execution_count": 107,
     "metadata": {},
     "output_type": "execute_result"
    }
   ],
   "source": [
    "df_joined.count()"
   ],
   "metadata": {
    "collapsed": false,
    "ExecuteTime": {
     "end_time": "2023-05-06T20:31:42.474653200Z",
     "start_time": "2023-05-06T20:31:42.147974400Z"
    }
   }
  },
  {
   "cell_type": "code",
   "execution_count": 105,
   "outputs": [
    {
     "data": {
      "text/plain": "2671252"
     },
     "execution_count": 105,
     "metadata": {},
     "output_type": "execute_result"
    }
   ],
   "source": [
    "\n",
    "df_filtered.count()"
   ],
   "metadata": {
    "collapsed": false,
    "ExecuteTime": {
     "end_time": "2023-05-06T20:30:15.821360500Z",
     "start_time": "2023-05-06T20:30:14.710395600Z"
    }
   }
  },
  {
   "cell_type": "code",
   "execution_count": 108,
   "outputs": [],
   "source": [
    "df_result2 = df_result2.withColumn(\"last_valuation\", lag(df_result2.market_value).over(Window.partitionBy(\"player_id\").orderBy(\"year_v\", \"month_v\", \"day_v\")))"
   ],
   "metadata": {
    "collapsed": false,
    "ExecuteTime": {
     "end_time": "2023-05-06T20:56:14.093972100Z",
     "start_time": "2023-05-06T20:56:14.067959500Z"
    }
   }
  },
  {
   "cell_type": "code",
   "execution_count": 110,
   "outputs": [
    {
     "name": "stdout",
     "output_type": "stream",
     "text": [
      "+---------+------------+------+-------+-----+-------+------+---------------+------+--------+------------------+--------------------+----------------+---+-------+-----+--------------+---------+------------+--------------+\n",
      "|player_id|market_value|year_v|month_v|day_v|club_id|height|    citizenship|year_b|position|      sub_position|      competition_id|  player_club_id|app|assists|goals|minutes_played|red_cards|yellow_cards|last_valuation|\n",
      "+---------+------------+------+-------+-----+-------+------+---------------+------+--------+------------------+--------------------+----------------+---+-------+-----+--------------+---------+------------+--------------+\n",
      "|       65|     2500000|  2015|      1|   14|   1091|     0|       Bulgaria|  1981|  Attack|    Centre-Forward|           [CL, FR1]|           [162]| 18|      2|    5|          1336|        0|           4|          null|\n",
      "|       65|     1000000|  2015|      6|    6|   1091|     0|       Bulgaria|  1981|  Attack|    Centre-Forward|           [CL, FR1]|           [162]| 35|      2|    8|          2274|        0|           4|       2500000|\n",
      "|       65|     1000000|  2015|      9|   27|   1091|     0|       Bulgaria|  1981|  Attack|    Centre-Forward|  [CL, FR1, EL, GR1]|     [1091, 162]| 34|      1|    6|          2077|        0|           2|       1000000|\n",
      "|       65|     1000000|  2016|      6|   21|   1091|     0|       Bulgaria|  1981|  Attack|    Centre-Forward|      [GRP, EL, GR1]|          [1091]| 22|      0|    5|          1150|        1|           2|       1000000|\n",
      "|      597|      900000|  2015|      1|   26|   2696|   185|        Belarus|  1981|  Attack|Attacking Midfield|               [TR1]|          [2293]| 14|      2|    0|          1157|        0|           1|          null|\n",
      "|      597|      750000|  2015|      6|   25|   2696|   185|        Belarus|  1981|  Attack|Attacking Midfield|               [TR1]|     [2293, 820]| 29|      4|    2|          2021|        0|           1|        900000|\n",
      "|      597|      750000|  2015|      9|   15|   2696|   185|        Belarus|  1981|  Attack|Attacking Midfield|          [TR1, CLQ]|[713, 2293, 820]| 30|      4|    2|          2092|        0|           1|        750000|\n",
      "|      597|      500000|  2015|     11|   20|   2696|   185|        Belarus|  1981|  Attack|Attacking Midfield|      [CL, TR1, CLQ]|[713, 2293, 820]| 27|      4|    2|          1704|        0|           0|        750000|\n",
      "|      597|      500000|  2016|      4|    7|   2696|   185|        Belarus|  1981|  Attack|Attacking Midfield|      [CL, TR1, CLQ]|      [713, 820]| 24|      2|    1|          1566|        0|           1|        500000|\n",
      "|      597|      400000|  2016|      7|   15|   2696|   185|        Belarus|  1981|  Attack|Attacking Midfield|      [CL, TR1, CLQ]|      [713, 820]| 19|      0|    0|          1069|        0|           1|        500000|\n",
      "|      597|      300000|  2016|     11|   30|   2696|   185|        Belarus|  1981|  Attack|Attacking Midfield| [CL, TR1, ELQ, CLQ]|      [713, 820]| 18|      1|    0|           974|        0|           1|        400000|\n",
      "|      597|      200000|  2017|      6|    1|   2696|   185|        Belarus|  1981|  Attack|Attacking Midfield|     [ELQ, RU1, CLQ]|     [713, 2696]| 10|      1|    0|           461|        0|           0|        300000|\n",
      "|     1139|      500000|  2015|      2|    4|     39|     0|North Macedonia|  1979|Defender|       Centre-Back|           [ELQ, L1]|            [39]|  6|      0|    0|           416|        0|           2|          null|\n",
      "|     1331|     3000000|  2015|      2|   23|    533|     0|        Germany|  1982|  Attack|    Centre-Forward| [ELQ, RU1, EL, RUP]|           [121]| 25|      5|   10|          1585|        0|           1|          null|\n",
      "|     1331|     2500000|  2015|      6|   18|    533|     0|        Germany|  1982|  Attack|    Centre-Forward| [ELQ, RU1, EL, RUP]|           [121]| 39|      6|   15|          2444|        0|           3|       3000000|\n",
      "|     1331|     1250000|  2016|      2|   15|    533|     0|        Germany|  1982|  Attack|    Centre-Forward|  [DFB, RU1, L1, EL]|      [121, 533]| 28|      1|    5|          1387|        0|           2|       2500000|\n",
      "|     1896|      450000|  2015|      1|   26|  19771|   181|         Turkey|  1983|Defender|        Right-Back|               [TR1]|         [19771]| 14|      0|    0|          1084|        1|           2|          null|\n",
      "|     1896|      250000|  2015|      6|   25|  19771|   181|         Turkey|  1983|Defender|        Right-Back|               [TR1]|         [19771]| 20|      0|    0|          1345|        1|           3|        450000|\n",
      "|     1896|      350000|  2016|      1|   18|  19771|   181|         Turkey|  1983|Defender|        Right-Back|               [TR1]|         [19771]| 23|      1|    0|          1783|        0|           9|        250000|\n",
      "|     1896|      200000|  2016|      7|   14|  19771|   181|         Turkey|  1983|Defender|        Right-Back|               [TR1]|         [19771]| 23|      1|    0|          2053|        0|          10|        350000|\n",
      "|     1896|      100000|  2017|      1|    9|  19771|   181|         Turkey|  1983|Defender|        Right-Back|               [TR1]|         [19771]|  8|      0|    0|           711|        0|           3|        200000|\n",
      "|     2874|     1250000|  2014|     11|   11|    265|     0|        Croatia|  1981|  Attack|    Centre-Forward| [GRP, EL, CLQ, GR1]|           [265]| 17|      2|    2|           914|        0|           2|          null|\n",
      "|     2874|     1250000|  2015|      5|   10|    265|     0|        Croatia|  1981|  Attack|    Centre-Forward| [GRP, EL, CLQ, GR1]|           [265]| 41|      6|    8|          2696|        0|           8|       1250000|\n",
      "|     2874|     1000000|  2015|      9|   27|    265|     0|        Croatia|  1981|  Attack|    Centre-Forward|[GRP, ELQ, EL, CL...|           [265]| 43|      6|    8|          2749|        0|           8|       1250000|\n",
      "|     2874|      800000|  2016|      2|   21|    265|     0|        Croatia|  1981|  Attack|    Centre-Forward|[GRP, ELQ, CLQ, GR1]|           [265]| 33|      3|    8|          2006|        0|           2|       1000000|\n",
      "|     2874|      600000|  2016|      6|   21|    265|     0|        Croatia|  1981|  Attack|    Centre-Forward|[GRP, ELQ, CLQ, GR1]|           [265]| 25|      3|    5|          1277|        0|           0|        800000|\n",
      "|     2923|     3000000|  2015|      1|   23|   3368|   183|        Austria|  1983|  Attack|Attacking Midfield|               [ES1]|          [3368]| 15|      1|    1|          1040|        0|           3|          null|\n",
      "|     2923|     2500000|  2015|      7|    1|   3368|   183|        Austria|  1983|  Attack|Attacking Midfield|               [ES1]|          [3368]| 20|      3|    1|          1333|        0|           3|       3000000|\n",
      "|     2923|     2000000|  2016|      3|    1|   3368|   183|        Austria|  1983|  Attack|Attacking Midfield|               [ES1]|          [3368]|  3|      2|    0|           165|        0|           0|       2500000|\n",
      "|     2923|     2000000|  2016|      5|   30|   3368|   183|        Austria|  1983|  Attack|Attacking Midfield|               [ES1]|          [3368]|  1|      0|    0|             1|        0|           0|       2000000|\n",
      "|     3179|     1500000|  2015|      2|   12|    371|   191|        England|  1983|  Attack|    Centre-Forward|          [FAC, GB1]|           [379]| 15|      0|    3|           560|        0|           2|          null|\n",
      "|     3179|     1250000|  2015|     11|   30|    371|   191|        England|  1983|  Attack|    Centre-Forward|     [FAC, SC1, GB1]|      [371, 379]| 21|      0|    1|           695|        0|           3|       1500000|\n",
      "|     3235|     1000000|  2015|      2|   12|   1039|   189|        England|  1978|Defender|       Centre-Back|          [FAC, GB1]|          [1039]| 10|      0|    0|           900|        0|           2|          null|\n",
      "|     3306|     3500000|  2015|      2|   12|   1132|   183|        Ireland|  1983|  Attack|      Right Winger|          [FAC, GB1]|           [512]| 21|      3|    8|          1552|        0|           3|          null|\n",
      "|     3306|     3500000|  2015|      7|    1|   1132|   183|        Ireland|  1983|  Attack|      Right Winger|          [FAC, GB1]|           [512]| 34|      4|    9|          2542|        0|           5|       3500000|\n",
      "|     3306|     3500000|  2016|      2|    9|   1132|   183|        Ireland|  1983|  Attack|      Right Winger|          [FAC, GB1]|           [512]| 34|      2|    6|          2424|        0|           3|       3500000|\n",
      "|     3306|     3500000|  2016|      6|    1|   1132|   183|        Ireland|  1983|  Attack|      Right Winger|          [FAC, GB1]|           [512]| 28|      3|    6|          1815|        0|           2|       3500000|\n",
      "|     3306|     3500000|  2016|      8|    1|   1132|   183|        Ireland|  1983|  Attack|      Right Winger|          [FAC, GB1]|           [512]| 28|      3|    6|          1815|        0|           2|       3500000|\n",
      "|     3306|     3000000|  2017|      2|   20|   1132|   183|        Ireland|  1983|  Attack|      Right Winger|               [GB1]|           [512]| 25|      3|    3|          1490|        0|           1|       3500000|\n",
      "|     3306|     2500000|  2017|      6|   28|   1132|   183|        Ireland|  1983|  Attack|      Right Winger|               [GB1]|           [512]| 23|      2|    4|          1296|        0|           1|       3000000|\n",
      "|     3306|     2000000|  2018|      1|    2|   1132|   183|        Ireland|  1983|  Attack|      Right Winger|               [GB1]|     [512, 1132]| 11|      1|    2|           493|        0|           1|       2500000|\n",
      "|     3306|     2000000|  2018|      5|   28|   1132|   183|        Ireland|  1983|  Attack|      Right Winger|          [FAC, GB1]|     [512, 1132]|  6|      0|    0|            84|        0|           0|       2000000|\n",
      "|     3306|     1500000|  2018|      9|   24|   1132|   183|        Ireland|  1983|  Attack|      Right Winger|     [FAC, ELQ, GB1]|          [1132]|  3|      0|    0|           114|        0|           0|       2000000|\n",
      "|     3441|     1000000|  2015|      1|    7|   2282|   186|        Belgium|  1976|Midfield|Defensive Midfield|      [BE1, ELQ, EL]|          [2282]| 31|      1|    6|          2652|        0|           0|          null|\n",
      "|     3441|      500000|  2016|      2|    7|   2282|   186|        Belgium|  1976|Midfield|Defensive Midfield|[BESC, BE1, EL, CLQ]|          [2282]| 40|      3|    1|          3449|        0|           5|       1000000|\n",
      "|     3441|      100000|  2016|      7|   15|   2282|   186|        Belgium|  1976|Midfield|Defensive Midfield|[BESC, BE1, EL, CLQ]|          [2282]| 33|      2|    1|          2819|        0|           5|        500000|\n",
      "|     3441|      100000|  2017|      1|   21|   2282|   186|        Belgium|  1976|Midfield|Defensive Midfield|     [CL, BESC, BE1]|          [2282]| 30|      1|    1|          2614|        0|           5|        100000|\n",
      "|     3441|      100000|  2017|      6|    6|   2282|   186|        Belgium|  1976|Midfield|Defensive Midfield|     [CL, BESC, BE1]|          [2282]| 32|      2|    0|          2859|        0|           4|        100000|\n",
      "|     3441|      100000|  2018|      1|    9|   2282|   186|        Belgium|  1976|Midfield|Defensive Midfield|          [BE1, ELQ]|          [2282]| 14|      1|    0|          1100|        0|           0|        100000|\n",
      "|     3441|      100000|  2018|      6|    3|   2282|   186|        Belgium|  1976|Midfield|Defensive Midfield|          [BE1, ELQ]|          [2282]|  6|      0|    0|           306|        0|           0|        100000|\n",
      "+---------+------------+------+-------+-----+-------+------+---------------+------+--------+------------------+--------------------+----------------+---+-------+-----+--------------+---------+------------+--------------+\n",
      "only showing top 50 rows\n",
      "\n"
     ]
    }
   ],
   "source": [
    "# Display the result\n",
    "df_result2.show(50)"
   ],
   "metadata": {
    "collapsed": false,
    "ExecuteTime": {
     "end_time": "2023-05-06T20:57:01.975178100Z",
     "start_time": "2023-05-06T20:56:51.654969800Z"
    }
   }
  },
  {
   "cell_type": "code",
   "execution_count": 73,
   "outputs": [
    {
     "name": "stdout",
     "output_type": "stream",
     "text": [
      "+---------+-------------+----------------------+----------------+-------------+--------+------------+----+------------+--------------+----------+--------------+------------+---------+-----+-------+--------------+----+-----+---+\n",
      "|player_id|         name|country_of_citizenship|country_of_birth|date_of_birth|position|sub_position|foot|height_in_cm|player_club_id|      date|competition_id|yellow_cards|red_cards|goals|assists|minutes_played|year|month|day|\n",
      "+---------+-------------+----------------------+----------------+-------------+--------+------------+----+------------+--------------+----------+--------------+------------+---------+-----+-------+--------------+----+-----+---+\n",
      "|   148455|Mohamed Salah|                 Egypt|           Egypt|   1992-06-15|  Attack|Right Winger|Left|         175|           631|2014-09-30|            CL|           0|        0|    0|      0|             6|2014|    9| 30|\n",
      "|   148455|Mohamed Salah|                 Egypt|           Egypt|   1992-06-15|  Attack|Right Winger|Left|         175|           631|2014-12-10|            CL|           0|        0|    0|      0|            71|2014|   12| 10|\n",
      "|   148455|Mohamed Salah|                 Egypt|           Egypt|   1992-06-15|  Attack|Right Winger|Left|         175|           631|2014-09-13|           GB1|           0|        0|    0|      0|             8|2014|    9| 13|\n",
      "|   148455|Mohamed Salah|                 Egypt|           Egypt|   1992-06-15|  Attack|Right Winger|Left|         175|           631|2014-10-18|           GB1|           0|        0|    0|      0|             4|2014|   10| 18|\n",
      "+---------+-------------+----------------------+----------------+-------------+--------+------------+----+------------+--------------+----------+--------------+------------+---------+-----+-------+--------------+----+-----+---+\n",
      "\n"
     ]
    }
   ],
   "source": [
    "df_players_appearances.filter((df_players_appearances.player_id == 148455) & (df_players_appearances.year == 2014)).show()"
   ],
   "metadata": {
    "collapsed": false,
    "ExecuteTime": {
     "end_time": "2023-05-06T17:09:13.721377700Z",
     "start_time": "2023-05-06T17:09:13.441817500Z"
    }
   }
  },
  {
   "cell_type": "code",
   "execution_count": 47,
   "metadata": {
    "ExecuteTime": {
     "end_time": "2023-05-06T16:15:40.208988400Z",
     "start_time": "2023-05-06T16:15:39.830336Z"
    }
   },
   "outputs": [
    {
     "name": "stdout",
     "output_type": "stream",
     "text": [
      "+---------+-------------+----------------------+----------------+-------------+--------+------------+----+------------+--------------+--------------+------------+---------+-----+-------+--------------+----+-----+---+---------------+-------------------+-----------------------------------+------+-------+-----+\n",
      "|player_id|         name|country_of_citizenship|country_of_birth|date_of_birth|position|sub_position|foot|height_in_cm|player_club_id|competition_id|yellow_cards|red_cards|goals|assists|minutes_played|year|month|day|current_club_id|market_value_in_eur|player_club_domestic_competition_id|year_v|month_v|day_v|\n",
      "+---------+-------------+----------------------+----------------+-------------+--------+------------+----+------------+--------------+--------------+------------+---------+-----+-------+--------------+----+-----+---+---------------+-------------------+-----------------------------------+------+-------+-----+\n",
      "|   148455|Mohamed Salah|                 Egypt|           Egypt|   1992-06-15|  Attack|Right Winger|Left|         175|           631|            CL|           0|        0|    0|      0|             6|2014|    9| 30|             31|              25000|                                GB1|  2010|      6|    6|\n",
      "|   148455|Mohamed Salah|                 Egypt|           Egypt|   1992-06-15|  Attack|Right Winger|Left|         175|           631|            CL|           0|        0|    0|      0|             6|2014|    9| 30|             31|              25000|                                GB1|  2011|      1|    1|\n",
      "|   148455|Mohamed Salah|                 Egypt|           Egypt|   1992-06-15|  Attack|Right Winger|Left|         175|           631|            CL|           0|        0|    0|      0|             6|2014|    9| 30|             31|              50000|                                GB1|  2011|      5|    9|\n",
      "|   148455|Mohamed Salah|                 Egypt|           Egypt|   1992-06-15|  Attack|Right Winger|Left|         175|           631|            CL|           0|        0|    0|      0|             6|2014|    9| 30|             31|             150000|                                GB1|  2011|      7|   14|\n",
      "|   148455|Mohamed Salah|                 Egypt|           Egypt|   1992-06-15|  Attack|Right Winger|Left|         175|           631|            CL|           0|        0|    0|      0|             6|2014|    9| 30|             31|             300000|                                GB1|  2011|     12|   25|\n",
      "|   148455|Mohamed Salah|                 Egypt|           Egypt|   1992-06-15|  Attack|Right Winger|Left|         175|           631|            CL|           0|        0|    0|      0|             6|2014|    9| 30|             31|            1500000|                                GB1|  2012|      5|   27|\n",
      "|   148455|Mohamed Salah|                 Egypt|           Egypt|   1992-06-15|  Attack|Right Winger|Left|         175|           631|            CL|           0|        0|    0|      0|             6|2014|    9| 30|             31|            2500000|                                GB1|  2012|      7|   12|\n",
      "|   148455|Mohamed Salah|                 Egypt|           Egypt|   1992-06-15|  Attack|Right Winger|Left|         175|           631|            CL|           0|        0|    0|      0|             6|2014|    9| 30|             31|            4000000|                                GB1|  2012|      9|    5|\n",
      "|   148455|Mohamed Salah|                 Egypt|           Egypt|   1992-06-15|  Attack|Right Winger|Left|         175|           631|            CL|           0|        0|    0|      0|             6|2014|    9| 30|             31|            5000000|                                GB1|  2013|      4|   14|\n",
      "|   148455|Mohamed Salah|                 Egypt|           Egypt|   1992-06-15|  Attack|Right Winger|Left|         175|           631|            CL|           0|        0|    0|      0|             6|2014|    9| 30|             31|            6500000|                                GB1|  2013|      6|   17|\n",
      "|   148455|Mohamed Salah|                 Egypt|           Egypt|   1992-06-15|  Attack|Right Winger|Left|         175|           631|            CL|           0|        0|    0|      0|             6|2014|    9| 30|             31|            8500000|                                GB1|  2013|     11|   26|\n",
      "|   148455|Mohamed Salah|                 Egypt|           Egypt|   1992-06-15|  Attack|Right Winger|Left|         175|           631|            CL|           0|        0|    0|      0|             6|2014|    9| 30|             31|           13000000|                                GB1|  2014|      2|    5|\n",
      "|   148455|Mohamed Salah|                 Egypt|           Egypt|   1992-06-15|  Attack|Right Winger|Left|         175|           631|            CL|           0|        0|    0|      0|             6|2014|    9| 30|             31|           13000000|                                GB1|  2014|      8|   12|\n",
      "|   148455|Mohamed Salah|                 Egypt|           Egypt|   1992-06-15|  Attack|Right Winger|Left|         175|           631|            CL|           0|        0|    0|      0|             6|2014|    9| 30|             31|           10000000|                                GB1|  2015|      2|   12|\n",
      "|   148455|Mohamed Salah|                 Egypt|           Egypt|   1992-06-15|  Attack|Right Winger|Left|         175|           631|            CL|           0|        0|    0|      0|             6|2014|    9| 30|             31|           12000000|                                GB1|  2015|      3|   20|\n",
      "|   148455|Mohamed Salah|                 Egypt|           Egypt|   1992-06-15|  Attack|Right Winger|Left|         175|           631|            CL|           0|        0|    0|      0|             6|2014|    9| 30|             31|           18000000|                                GB1|  2015|      7|    1|\n",
      "|   148455|Mohamed Salah|                 Egypt|           Egypt|   1992-06-15|  Attack|Right Winger|Left|         175|           631|            CL|           0|        0|    0|      0|             6|2014|    9| 30|             31|           20000000|                                GB1|  2015|     11|    5|\n",
      "|   148455|Mohamed Salah|                 Egypt|           Egypt|   1992-06-15|  Attack|Right Winger|Left|         175|           631|            CL|           0|        0|    0|      0|             6|2014|    9| 30|             31|           20000000|                                GB1|  2016|      1|    4|\n",
      "|   148455|Mohamed Salah|                 Egypt|           Egypt|   1992-06-15|  Attack|Right Winger|Left|         175|           631|            CL|           0|        0|    0|      0|             6|2014|    9| 30|             31|           23000000|                                GB1|  2016|      4|    1|\n",
      "|   148455|Mohamed Salah|                 Egypt|           Egypt|   1992-06-15|  Attack|Right Winger|Left|         175|           631|            CL|           0|        0|    0|      0|             6|2014|    9| 30|             31|           27000000|                                GB1|  2016|      7|   15|\n",
      "+---------+-------------+----------------------+----------------+-------------+--------+------------+----+------------+--------------+--------------+------------+---------+-----+-------+--------------+----+-----+---+---------------+-------------------+-----------------------------------+------+-------+-----+\n",
      "only showing top 20 rows\n",
      "\n"
     ]
    }
   ],
   "source": [
    "#TABLE valutation: per ogni valutazione abbiamo la coppia (mese, anno) e vogliamo estrarre dalla TABLE presenze la somma delle presenze comprese tra (mese, anno-1 e mese,anno)\n",
    "# month, year di appearances\n",
    "# month_v, year_v di valutations\n",
    "from pyspark.sql.functions import year, month\n",
    "\n",
    "#inserire una colonna \"prev_year\" nella tabella player_appearances che contiene l'anno precedente a quello della colonna year\n",
    "#df_players_appearances = df_players_appearances.withColumn(\"prev_year\", df_players_appearances.year - 1)\n",
    "\n",
    "# Unisci A con B utilizzando la chiave (player_id, mese_anno)\n",
    "AB = df_players_appearances.join(df_player_valuations, [\"player_id\"], \"inner\")\n",
    "\n",
    "AB.filter(AB.player_id == 148455).show()"
   ]
  },
  {
   "cell_type": "code",
   "execution_count": 31,
   "metadata": {
    "ExecuteTime": {
     "end_time": "2023-05-06T15:59:08.444910700Z",
     "start_time": "2023-05-06T15:59:07.951520700Z"
    }
   },
   "outputs": [
    {
     "name": "stdout",
     "output_type": "stream",
     "text": [
      "+---------+-------------+----------------------+----------------+-------------+--------+------------+----+------------+----------+-------------+-------------+--------------+-------------+--------------+------------+---------+-----+-------+--------------+----+-----+---+----------+----------+----------+---------------+-------------------+-----------------------------------+------+-------+\n",
      "|player_id|         name|country_of_citizenship|country_of_birth|date_of_birth|position|sub_position|foot|height_in_cm|first_name|    last_name|  player_code|player_club_id|  player_name|competition_id|yellow_cards|red_cards|goals|assists|minutes_played|year|month|day|      date|  datetime|  dateweek|current_club_id|market_value_in_eur|player_club_domestic_competition_id|year_v|month_v|\n",
      "+---------+-------------+----------------------+----------------+-------------+--------+------------+----+------------+----------+-------------+-------------+--------------+-------------+--------------+------------+---------+-----+-------+--------------+----+-----+---+----------+----------+----------+---------------+-------------------+-----------------------------------+------+-------+\n",
      "|   148455|Mohamed Salah|                 Egypt|           Egypt|   1992-06-15|  Attack|Right Winger|Left|         175|      null|Mohamed Salah|mohamed-salah|           631|Mohamed Salah|            CL|           0|        0|    0|      0|             6|2014|    9| 30|2015-02-12|2015-02-12|2015-02-09|             31|           10000000|                                GB1|  2015|      2|\n",
      "|   148455|Mohamed Salah|                 Egypt|           Egypt|   1992-06-15|  Attack|Right Winger|Left|         175|      null|Mohamed Salah|mohamed-salah|           631|Mohamed Salah|            CL|           0|        0|    0|      0|             6|2014|    9| 30|2015-03-20|2015-03-20|2015-03-16|             31|           12000000|                                GB1|  2015|      3|\n",
      "|   148455|Mohamed Salah|                 Egypt|           Egypt|   1992-06-15|  Attack|Right Winger|Left|         175|      null|Mohamed Salah|mohamed-salah|           631|Mohamed Salah|            CL|           0|        0|    0|      0|             6|2014|    9| 30|2015-07-01|2015-07-01|2015-06-29|             31|           18000000|                                GB1|  2015|      7|\n",
      "|   148455|Mohamed Salah|                 Egypt|           Egypt|   1992-06-15|  Attack|Right Winger|Left|         175|      null|Mohamed Salah|mohamed-salah|           631|Mohamed Salah|            CL|           0|        0|    0|      0|            71|2014|   12| 10|2015-02-12|2015-02-12|2015-02-09|             31|           10000000|                                GB1|  2015|      2|\n",
      "|   148455|Mohamed Salah|                 Egypt|           Egypt|   1992-06-15|  Attack|Right Winger|Left|         175|      null|Mohamed Salah|mohamed-salah|           631|Mohamed Salah|            CL|           0|        0|    0|      0|            71|2014|   12| 10|2015-03-20|2015-03-20|2015-03-16|             31|           12000000|                                GB1|  2015|      3|\n",
      "|   148455|Mohamed Salah|                 Egypt|           Egypt|   1992-06-15|  Attack|Right Winger|Left|         175|      null|Mohamed Salah|mohamed-salah|           631|Mohamed Salah|            CL|           0|        0|    0|      0|            71|2014|   12| 10|2015-07-01|2015-07-01|2015-06-29|             31|           18000000|                                GB1|  2015|      7|\n",
      "|   148455|Mohamed Salah|                 Egypt|           Egypt|   1992-06-15|  Attack|Right Winger|Left|         175|      null|Mohamed Salah|mohamed-salah|           631|Mohamed Salah|            CL|           0|        0|    0|      0|            71|2014|   12| 10|2015-11-05|2015-11-05|2015-11-02|             31|           20000000|                                GB1|  2015|     11|\n",
      "|   148455|Mohamed Salah|                 Egypt|           Egypt|   1992-06-15|  Attack|Right Winger|Left|         175|      null|Mohamed Salah|mohamed-salah|           430|Mohamed Salah|            EL|           0|        0|    0|      0|            90|2015|    2| 19|2015-02-12|2015-02-12|2015-02-09|             31|           10000000|                                GB1|  2015|      2|\n",
      "|   148455|Mohamed Salah|                 Egypt|           Egypt|   1992-06-15|  Attack|Right Winger|Left|         175|      null|Mohamed Salah|mohamed-salah|           430|Mohamed Salah|            EL|           0|        0|    0|      0|            90|2015|    2| 19|2015-03-20|2015-03-20|2015-03-16|             31|           12000000|                                GB1|  2015|      3|\n",
      "|   148455|Mohamed Salah|                 Egypt|           Egypt|   1992-06-15|  Attack|Right Winger|Left|         175|      null|Mohamed Salah|mohamed-salah|           430|Mohamed Salah|            EL|           0|        0|    0|      0|            90|2015|    2| 19|2015-07-01|2015-07-01|2015-06-29|             31|           18000000|                                GB1|  2015|      7|\n",
      "|   148455|Mohamed Salah|                 Egypt|           Egypt|   1992-06-15|  Attack|Right Winger|Left|         175|      null|Mohamed Salah|mohamed-salah|           430|Mohamed Salah|            EL|           0|        0|    0|      0|            90|2015|    2| 19|2015-11-05|2015-11-05|2015-11-02|             31|           20000000|                                GB1|  2015|     11|\n",
      "|   148455|Mohamed Salah|                 Egypt|           Egypt|   1992-06-15|  Attack|Right Winger|Left|         175|      null|Mohamed Salah|mohamed-salah|           430|Mohamed Salah|            EL|           0|        0|    0|      0|            90|2015|    2| 19|2016-01-04|2016-01-04|2016-01-04|             31|           20000000|                                GB1|  2016|      1|\n",
      "|   148455|Mohamed Salah|                 Egypt|           Egypt|   1992-06-15|  Attack|Right Winger|Left|         175|      null|Mohamed Salah|mohamed-salah|           430|Mohamed Salah|            EL|           1|        0|    1|      0|            90|2015|    2| 26|2015-02-12|2015-02-12|2015-02-09|             31|           10000000|                                GB1|  2015|      2|\n",
      "|   148455|Mohamed Salah|                 Egypt|           Egypt|   1992-06-15|  Attack|Right Winger|Left|         175|      null|Mohamed Salah|mohamed-salah|           430|Mohamed Salah|            EL|           1|        0|    1|      0|            90|2015|    2| 26|2015-03-20|2015-03-20|2015-03-16|             31|           12000000|                                GB1|  2015|      3|\n",
      "|   148455|Mohamed Salah|                 Egypt|           Egypt|   1992-06-15|  Attack|Right Winger|Left|         175|      null|Mohamed Salah|mohamed-salah|           430|Mohamed Salah|            EL|           1|        0|    1|      0|            90|2015|    2| 26|2015-07-01|2015-07-01|2015-06-29|             31|           18000000|                                GB1|  2015|      7|\n",
      "|   148455|Mohamed Salah|                 Egypt|           Egypt|   1992-06-15|  Attack|Right Winger|Left|         175|      null|Mohamed Salah|mohamed-salah|           430|Mohamed Salah|            EL|           1|        0|    1|      0|            90|2015|    2| 26|2015-11-05|2015-11-05|2015-11-02|             31|           20000000|                                GB1|  2015|     11|\n",
      "|   148455|Mohamed Salah|                 Egypt|           Egypt|   1992-06-15|  Attack|Right Winger|Left|         175|      null|Mohamed Salah|mohamed-salah|           430|Mohamed Salah|            EL|           1|        0|    1|      0|            90|2015|    2| 26|2016-01-04|2016-01-04|2016-01-04|             31|           20000000|                                GB1|  2016|      1|\n",
      "|   148455|Mohamed Salah|                 Egypt|           Egypt|   1992-06-15|  Attack|Right Winger|Left|         175|      null|Mohamed Salah|mohamed-salah|           430|Mohamed Salah|            EL|           0|        0|    0|      1|            90|2015|    3| 12|2015-03-20|2015-03-20|2015-03-16|             31|           12000000|                                GB1|  2015|      3|\n",
      "|   148455|Mohamed Salah|                 Egypt|           Egypt|   1992-06-15|  Attack|Right Winger|Left|         175|      null|Mohamed Salah|mohamed-salah|           430|Mohamed Salah|            EL|           0|        0|    0|      1|            90|2015|    3| 12|2015-07-01|2015-07-01|2015-06-29|             31|           18000000|                                GB1|  2015|      7|\n",
      "|   148455|Mohamed Salah|                 Egypt|           Egypt|   1992-06-15|  Attack|Right Winger|Left|         175|      null|Mohamed Salah|mohamed-salah|           430|Mohamed Salah|            EL|           0|        0|    0|      1|            90|2015|    3| 12|2015-11-05|2015-11-05|2015-11-02|             31|           20000000|                                GB1|  2015|     11|\n",
      "+---------+-------------+----------------------+----------------+-------------+--------+------------+----+------------+----------+-------------+-------------+--------------+-------------+--------------+------------+---------+-----+-------+--------------+----+-----+---+----------+----------+----------+---------------+-------------------+-----------------------------------+------+-------+\n",
      "only showing top 20 rows\n",
      "\n"
     ]
    }
   ],
   "source": [
    "#Filtriamo le istanze tenendo solo quelle che rispettano i vincoli sulle date\n",
    "df_player_valutations_filtered = AB.filter(((AB[\"year\"] == AB[\"year_v\"]-1) & (AB[\"month\"] >= AB[\"month_v\"])) | ((AB[\"year\"] == AB[\"year_v\"]) & (AB[\"month\"] <= AB[\"month_v\"])))\n",
    "#mostra\n",
    "df_player_valutations_filtered.filter(df_player_valutations_filtered.player_id == 148455).show()"
   ]
  },
  {
   "cell_type": "code",
   "execution_count": null,
   "metadata": {},
   "outputs": [],
   "source": [
    "################# RIPRENDERE DA QUI #######################"
   ]
  },
  {
   "cell_type": "code",
   "execution_count": 32,
   "metadata": {
    "ExecuteTime": {
     "end_time": "2023-05-06T16:00:35.251423800Z",
     "start_time": "2023-05-06T16:00:35.220173200Z"
    }
   },
   "outputs": [],
   "source": [
    "# drop da df_player_valutations_filtered le colonne date, datetime, current_club_id, player_club_domestic_competition_id, current_club_id, player_club_domestic_competition_id\n",
    "df_player_valuations_filtered = df_player_valutations_filtered.drop(\"current_club_id\", \"player_club_domestic_competition_id\")"
   ]
  },
  {
   "cell_type": "code",
   "execution_count": 33,
   "metadata": {
    "ExecuteTime": {
     "end_time": "2023-05-06T16:00:38.976792400Z",
     "start_time": "2023-05-06T16:00:38.758066500Z"
    }
   },
   "outputs": [
    {
     "name": "stdout",
     "output_type": "stream",
     "text": [
      "+---------+-------------+----------------------+----------------+-------------+--------+------------+----+------------+-------------+--------------+-------------+--------------+------------+---------+-----+-------+--------------+----+-----+---+----------+-------------------+------+-------+\n",
      "|player_id|         name|country_of_citizenship|country_of_birth|date_of_birth|position|sub_position|foot|height_in_cm|  player_code|player_club_id|  player_name|competition_id|yellow_cards|red_cards|goals|assists|minutes_played|year|month|day|  dateweek|market_value_in_eur|year_v|month_v|\n",
      "+---------+-------------+----------------------+----------------+-------------+--------+------------+----+------------+-------------+--------------+-------------+--------------+------------+---------+-----+-------+--------------+----+-----+---+----------+-------------------+------+-------+\n",
      "|   148455|Mohamed Salah|                 Egypt|           Egypt|   1992-06-15|  Attack|Right Winger|Left|         175|mohamed-salah|           631|Mohamed Salah|            CL|           0|        0|    0|      0|             6|2014|    9| 30|2015-06-29|           18000000|  2015|      7|\n",
      "|   148455|Mohamed Salah|                 Egypt|           Egypt|   1992-06-15|  Attack|Right Winger|Left|         175|mohamed-salah|           631|Mohamed Salah|            CL|           0|        0|    0|      0|             6|2014|    9| 30|2015-03-16|           12000000|  2015|      3|\n",
      "|   148455|Mohamed Salah|                 Egypt|           Egypt|   1992-06-15|  Attack|Right Winger|Left|         175|mohamed-salah|           631|Mohamed Salah|            CL|           0|        0|    0|      0|             6|2014|    9| 30|2015-02-09|           10000000|  2015|      2|\n",
      "|   148455|Mohamed Salah|                 Egypt|           Egypt|   1992-06-15|  Attack|Right Winger|Left|         175|mohamed-salah|           631|Mohamed Salah|            CL|           0|        0|    0|      0|            71|2014|   12| 10|2015-11-02|           20000000|  2015|     11|\n",
      "|   148455|Mohamed Salah|                 Egypt|           Egypt|   1992-06-15|  Attack|Right Winger|Left|         175|mohamed-salah|           631|Mohamed Salah|            CL|           0|        0|    0|      0|            71|2014|   12| 10|2015-06-29|           18000000|  2015|      7|\n",
      "|   148455|Mohamed Salah|                 Egypt|           Egypt|   1992-06-15|  Attack|Right Winger|Left|         175|mohamed-salah|           631|Mohamed Salah|            CL|           0|        0|    0|      0|            71|2014|   12| 10|2015-03-16|           12000000|  2015|      3|\n",
      "|   148455|Mohamed Salah|                 Egypt|           Egypt|   1992-06-15|  Attack|Right Winger|Left|         175|mohamed-salah|           631|Mohamed Salah|            CL|           0|        0|    0|      0|            71|2014|   12| 10|2015-02-09|           10000000|  2015|      2|\n",
      "|   148455|Mohamed Salah|                 Egypt|           Egypt|   1992-06-15|  Attack|Right Winger|Left|         175|mohamed-salah|           430|Mohamed Salah|            EL|           0|        0|    0|      0|            90|2015|    2| 19|2016-01-04|           20000000|  2016|      1|\n",
      "|   148455|Mohamed Salah|                 Egypt|           Egypt|   1992-06-15|  Attack|Right Winger|Left|         175|mohamed-salah|           430|Mohamed Salah|            EL|           0|        0|    0|      0|            90|2015|    2| 19|2015-11-02|           20000000|  2015|     11|\n",
      "|   148455|Mohamed Salah|                 Egypt|           Egypt|   1992-06-15|  Attack|Right Winger|Left|         175|mohamed-salah|           430|Mohamed Salah|            EL|           0|        0|    0|      0|            90|2015|    2| 19|2015-06-29|           18000000|  2015|      7|\n",
      "|   148455|Mohamed Salah|                 Egypt|           Egypt|   1992-06-15|  Attack|Right Winger|Left|         175|mohamed-salah|           430|Mohamed Salah|            EL|           0|        0|    0|      0|            90|2015|    2| 19|2015-03-16|           12000000|  2015|      3|\n",
      "|   148455|Mohamed Salah|                 Egypt|           Egypt|   1992-06-15|  Attack|Right Winger|Left|         175|mohamed-salah|           430|Mohamed Salah|            EL|           0|        0|    0|      0|            90|2015|    2| 19|2015-02-09|           10000000|  2015|      2|\n",
      "|   148455|Mohamed Salah|                 Egypt|           Egypt|   1992-06-15|  Attack|Right Winger|Left|         175|mohamed-salah|           430|Mohamed Salah|            EL|           1|        0|    1|      0|            90|2015|    2| 26|2016-01-04|           20000000|  2016|      1|\n",
      "|   148455|Mohamed Salah|                 Egypt|           Egypt|   1992-06-15|  Attack|Right Winger|Left|         175|mohamed-salah|           430|Mohamed Salah|            EL|           1|        0|    1|      0|            90|2015|    2| 26|2015-11-02|           20000000|  2015|     11|\n",
      "|   148455|Mohamed Salah|                 Egypt|           Egypt|   1992-06-15|  Attack|Right Winger|Left|         175|mohamed-salah|           430|Mohamed Salah|            EL|           1|        0|    1|      0|            90|2015|    2| 26|2015-06-29|           18000000|  2015|      7|\n",
      "|   148455|Mohamed Salah|                 Egypt|           Egypt|   1992-06-15|  Attack|Right Winger|Left|         175|mohamed-salah|           430|Mohamed Salah|            EL|           1|        0|    1|      0|            90|2015|    2| 26|2015-03-16|           12000000|  2015|      3|\n",
      "|   148455|Mohamed Salah|                 Egypt|           Egypt|   1992-06-15|  Attack|Right Winger|Left|         175|mohamed-salah|           430|Mohamed Salah|            EL|           1|        0|    1|      0|            90|2015|    2| 26|2015-02-09|           10000000|  2015|      2|\n",
      "|   148455|Mohamed Salah|                 Egypt|           Egypt|   1992-06-15|  Attack|Right Winger|Left|         175|mohamed-salah|           430|Mohamed Salah|            EL|           0|        0|    0|      1|            90|2015|    3| 12|2016-01-04|           20000000|  2016|      1|\n",
      "|   148455|Mohamed Salah|                 Egypt|           Egypt|   1992-06-15|  Attack|Right Winger|Left|         175|mohamed-salah|           430|Mohamed Salah|            EL|           0|        0|    0|      1|            90|2015|    3| 12|2015-11-02|           20000000|  2015|     11|\n",
      "|   148455|Mohamed Salah|                 Egypt|           Egypt|   1992-06-15|  Attack|Right Winger|Left|         175|mohamed-salah|           430|Mohamed Salah|            EL|           0|        0|    0|      1|            90|2015|    3| 12|2015-06-29|           18000000|  2015|      7|\n",
      "+---------+-------------+----------------------+----------------+-------------+--------+------------+----+------------+-------------+--------------+-------------+--------------+------------+---------+-----+-------+--------------+----+-----+---+----------+-------------------+------+-------+\n",
      "only showing top 20 rows\n",
      "\n"
     ]
    }
   ],
   "source": [
    "df_player_valuations_filtered.filter(df_player_valutations_filtered.player_id == 148455).show()"
   ]
  },
  {
   "cell_type": "code",
   "execution_count": 25,
   "metadata": {},
   "outputs": [
    {
     "name": "stdout",
     "output_type": "stream",
     "text": [
      "root\n",
      " |-- player_id: integer (nullable = true)\n",
      " |-- name: string (nullable = true)\n",
      " |-- country_of_citizenship: string (nullable = true)\n",
      " |-- country_of_birth: string (nullable = true)\n",
      " |-- date_of_birth: date (nullable = true)\n",
      " |-- position: string (nullable = true)\n",
      " |-- sub_position: string (nullable = true)\n",
      " |-- foot: string (nullable = true)\n",
      " |-- height_in_cm: integer (nullable = true)\n",
      " |-- first_name: string (nullable = true)\n",
      " |-- last_name: string (nullable = true)\n",
      " |-- player_code: string (nullable = true)\n",
      " |-- player_club_id: integer (nullable = true)\n",
      " |-- player_name: string (nullable = true)\n",
      " |-- competition_id: string (nullable = true)\n",
      " |-- yellow_cards: integer (nullable = true)\n",
      " |-- red_cards: integer (nullable = true)\n",
      " |-- goals: integer (nullable = true)\n",
      " |-- assists: integer (nullable = true)\n",
      " |-- minutes_played: integer (nullable = true)\n",
      " |-- year: integer (nullable = true)\n",
      " |-- month: integer (nullable = true)\n",
      " |-- dateweek: date (nullable = true)\n",
      " |-- market_value_in_eur: integer (nullable = true)\n",
      " |-- year_v: integer (nullable = true)\n",
      " |-- month_v: integer (nullable = true)\n",
      "\n"
     ]
    }
   ],
   "source": [
    "df_player_valutations_filtered.printSchema()"
   ]
  },
  {
   "cell_type": "code",
   "execution_count": 89,
   "metadata": {
    "ExecuteTime": {
     "end_time": "2023-05-06T18:06:46.728892400Z",
     "start_time": "2023-05-06T18:06:46.690903400Z"
    }
   },
   "outputs": [],
   "source": [
    "from pyspark.sql.functions import sum, col\n",
    "\n",
    "df_new = df_player_valutations_filtered.groupBy(\"player_id\", \"competition_id\", \"player_club_id\", \"year_v\", \"month_v\", \"market_value_in_eur\").agg(\n",
    "    sum(col(\"yellow_cards\")).alias(\"yellow_cards\"),\n",
    "    sum(col(\"red_cards\")).alias(\"red_cards\"),\n",
    "    sum(col(\"goals\")).alias(\"goals\"),\n",
    "    sum(col(\"assists\")).alias(\"assists\"),\n",
    "    sum(col(\"minutes_played\")).alias(\"minutes_played\")\n",
    ").select(\"player_id\", \"competition_id\", \"player_club_id\", \"month_v\", \"year_v\", \"yellow_cards\", \"red_cards\", \"goals\", \"assists\", \"minutes_played\", \"market_value_in_eur\").distinct()"
   ]
  },
  {
   "cell_type": "code",
   "execution_count": 91,
   "metadata": {
    "ExecuteTime": {
     "end_time": "2023-05-06T18:07:41.739971400Z",
     "start_time": "2023-05-06T18:07:41.309452100Z"
    }
   },
   "outputs": [
    {
     "name": "stdout",
     "output_type": "stream",
     "text": [
      "+---------+--------------+--------------+-------+------+------------+---------+-----+-------+--------------+-------------------+\n",
      "|player_id|competition_id|player_club_id|month_v|year_v|yellow_cards|red_cards|goals|assists|minutes_played|market_value_in_eur|\n",
      "+---------+--------------+--------------+-------+------+------------+---------+-----+-------+--------------+-------------------+\n",
      "|   148455|           IT1|           430|      2|  2015|           0|        0|    2|      1|           131|           10000000|\n",
      "|   148455|           GB1|           631|      2|  2015|           0|        0|    0|      0|            30|           10000000|\n",
      "|   148455|           FAC|           631|      2|  2015|           0|        0|    0|      1|            70|           10000000|\n",
      "|   148455|            CL|           631|      2|  2015|           0|        0|    0|      0|            77|           10000000|\n",
      "|   148455|            EL|           430|      2|  2015|           1|        0|    1|      0|           180|           10000000|\n",
      "|   148455|           CIT|           430|      3|  2015|           0|        0|    2|      0|            74|           12000000|\n",
      "|   148455|           FAC|           631|      3|  2015|           0|        0|    0|      1|            70|           12000000|\n",
      "|   148455|           IT1|           430|      3|  2015|           0|        0|    3|      1|           289|           12000000|\n",
      "|   148455|           GB1|           631|      3|  2015|           0|        0|    0|      0|            30|           12000000|\n",
      "|   148455|            EL|           430|      3|  2015|           1|        0|    1|      1|           360|           12000000|\n",
      "+---------+--------------+--------------+-------+------+------------+---------+-----+-------+--------------+-------------------+\n",
      "only showing top 10 rows\n",
      "\n"
     ]
    }
   ],
   "source": [
    "#df_player_valutations_filtered.filter(df_player_valutations_filtered.player_id == 148455).show()\n",
    "df_new.filter(df_new.player_id == 148455).orderBy(df_new.year_v, df_new.month_v).show(10)"
   ]
  },
  {
   "cell_type": "code",
   "execution_count": 35,
   "metadata": {},
   "outputs": [
    {
     "name": "stdout",
     "output_type": "stream",
     "text": [
      "114\n",
      "+----------+\n",
      "|sum(goals)|\n",
      "+----------+\n",
      "|       574|\n",
      "+----------+\n",
      "\n"
     ]
    }
   ],
   "source": [
    "#TEST\n",
    "print(df_new.filter(df_new.player_id == 148455).count())\n",
    "df_new.filter(df_new.player_id == 148455).agg(sum(col(\"goals\"))).show()"
   ]
  },
  {
   "cell_type": "code",
   "execution_count": 92,
   "metadata": {
    "ExecuteTime": {
     "end_time": "2023-05-06T18:08:44.765886500Z",
     "start_time": "2023-05-06T18:08:41.434579800Z"
    }
   },
   "outputs": [
    {
     "name": "stdout",
     "output_type": "stream",
     "text": [
      "+---------+------+-------+-------------------+--------------------+--------------+------------+---------+-----+-------+--------------+\n",
      "|player_id|year_v|month_v|market_value_in_eur|      competition_id|player_club_id|yellow_cards|red_cards|goals|assists|minutes_played|\n",
      "+---------+------+-------+-------------------+--------------------+--------------+------------+---------+-----+-------+--------------+\n",
      "|       10|  2015|      1|            1000000|          [CIT, IT1]|         [398]|           2|        0|    6|      5|           819|\n",
      "|       65|  2015|      1|            2500000|           [CL, FR1]|         [162]|           4|        0|    6|      2|          1508|\n",
      "|       65|  2015|      6|            1000000|           [CL, FR1]|         [162]|           4|        0|    8|      2|          2274|\n",
      "|       65|  2015|      9|            1000000|  [CL, FR1, EL, GR1]|   [1091, 162]|           2|        0|    7|      1|          2108|\n",
      "|      532|  2018|      6|             500000|                [L1]|           [3]|           0|        0|    1|      1|           573|\n",
      "|     1126|  2017|     12|             750000|       [DFB, L1, EL]|           [3]|           8|        0|    0|      2|          2811|\n",
      "|     1331|  2014|      7|            4000000|               [ELQ]|         [121]|           0|        0|    1|      0|            90|\n",
      "|     1565|  2017|      6|            1000000|           [DFB, L1]|          [24]|           1|        0|    5|      2|          1714|\n",
      "|     1726|  2015|      2|            1750000|           [DFB, L1]|          [41]|           1|        0|    1|      0|          1555|\n",
      "|     1784|  2015|      7|            3000000|           [DFB, L1]|          [41]|           2|        0|    0|      0|          1178|\n",
      "|     2050|  2015|      7|            1500000|           [DFB, L1]|          [24]|           2|        0|    1|      0|           586|\n",
      "|     2138|  2016|      1|             300000|          [RU1, RUP]|        [3729]|           7|        0|    0|      0|          1110|\n",
      "|     2150|  2015|      2|             750000|  [DFL, CL, DFB, L1]|          [16]|           0|        0|    0|      1|           439|\n",
      "|     2201|  2016|      2|             700000|                [L1]|         [127]|           0|        0|    0|      0|          1440|\n",
      "|     2219|  2016|      7|           13000000|  [DFL, CL, DFB, L1]|          [27]|           3|        0|    1|      1|          3917|\n",
      "|     2219|  2017|      2|           11000000|  [DFL, CL, DFB, L1]|          [27]|           5|        0|    2|      2|          3854|\n",
      "|     2514|  2016|      2|           15000000|[CL, DFB, FAC, L1...|     [27, 985]|           9|        0|    5|      6|          3302|\n",
      "|     2587|  2016|      7|             350000|               [TR1]|         [524]|           7|        1|    1|      2|          2731|\n",
      "|     2857|  2018|      5|            1000000|          [FAC, GB1]|  [1003, 3008]|           0|        0|    0|      0|           540|\n",
      "|     2904|  2015|      1|             500000|          [CIT, IT1]|         [276]|           6|        1|    0|      1|          1602|\n",
      "+---------+------+-------+-------------------+--------------------+--------------+------------+---------+-----+-------+--------------+\n",
      "only showing top 20 rows\n",
      "\n"
     ]
    }
   ],
   "source": [
    "from pyspark.sql.functions import collect_set, sum\n",
    "\n",
    "# Raggruppare per (player_id, year) e raccogliere i valori unici di competition_id e player_club_id in liste\n",
    "df_grouped = df_new.groupBy(\"player_id\", \"year_v\", \"month_v\", \"market_value_in_eur\") \\\n",
    "              .agg(collect_set(\"competition_id\").alias(\"competition_id_list\"),\n",
    "                   collect_set(\"player_club_id\").alias(\"player_club_id_list\"))\n",
    "\n",
    "# Unire il dataframe originale con quello ottenuto al passaggio precedente sulla chiave (player_id, year)\n",
    "# e calcolare la somma delle colonne yellow_cards, red_cards, goals, assists e minutes_played raggruppando sulla nuova chiave (player_id, competition_id, year, player_club_id)\n",
    "df_result = df_new.join(df_grouped, [\"player_id\", \"year_v\", \"month_v\", \"market_value_in_eur\"]) \\\n",
    "              .groupBy(\"player_id\", \"competition_id\", \"month_v\", \"year_v\", \"player_club_id\", \"market_value_in_eur\") \\\n",
    "              .agg(sum(\"yellow_cards\").alias(\"yellow_cards\"),\n",
    "                   sum(\"red_cards\").alias(\"red_cards\"),\n",
    "                   sum(\"goals\").alias(\"goals\"),\n",
    "                   sum(\"assists\").alias(\"assists\"),\n",
    "                   sum(\"minutes_played\").alias(\"minutes_played\")) \\\n",
    "              .groupBy(\"player_id\", \"year_v\", \"month_v\", \"market_value_in_eur\") \\\n",
    "              .agg(collect_set(\"competition_id\").alias(\"competition_id\"),\n",
    "                   collect_set(\"player_club_id\").alias(\"player_club_id\"),\n",
    "                   sum(\"yellow_cards\").alias(\"yellow_cards\"),\n",
    "                   sum(\"red_cards\").alias(\"red_cards\"),\n",
    "                   sum(\"goals\").alias(\"goals\"),\n",
    "                   sum(\"assists\").alias(\"assists\"),\n",
    "                   sum(\"minutes_played\").alias(\"minutes_played\"))\n",
    "\n",
    "# Visualizza il risultato\n",
    "df_result.show()"
   ]
  },
  {
   "cell_type": "code",
   "execution_count": 93,
   "outputs": [
    {
     "name": "stdout",
     "output_type": "stream",
     "text": [
      "+---------+------+-------+-------------------+--------------------+--------------+------------+---------+-----+-------+--------------+\n",
      "|player_id|year_v|month_v|market_value_in_eur|      competition_id|player_club_id|yellow_cards|red_cards|goals|assists|minutes_played|\n",
      "+---------+------+-------+-------------------+--------------------+--------------+------------+---------+-----+-------+--------------+\n",
      "|   148455|  2015|      2|           10000000|[CL, FAC, EL, IT1...|    [430, 631]|           1|        0|    3|      2|           488|\n",
      "|   148455|  2015|      3|           12000000|[CL, FAC, CIT, EL...|    [430, 631]|           1|        0|    6|      3|           900|\n",
      "|   148455|  2015|      7|           18000000|[CL, FAC, CIT, EL...|    [430, 631]|           1|        0|    9|      5|          1970|\n",
      "|   148455|  2015|     11|           20000000|[CL, FAC, CIT, EL...|[12, 430, 631]|           3|        0|   15|      5|          3113|\n",
      "|   148455|  2016|      1|           20000000|[CL, FAC, CIT, EL...|[12, 430, 631]|           3|        0|   15|      5|          3718|\n",
      "|   148455|  2016|      4|           23000000|  [CL, CIT, EL, IT1]|     [12, 430]|           3|        0|   16|      8|          4240|\n",
      "|   148455|  2016|      7|           27000000|      [CL, CIT, IT1]|          [12]|           3|        0|   15|      6|          3402|\n",
      "|   148455|  2017|      1|           30000000|  [CL, EL, IT1, CLQ]|          [12]|           3|        0|   18|     10|          3549|\n",
      "|   148455|  2017|      6|           35000000| [CIT, EL, IT1, CLQ]|          [12]|           2|        0|   19|     12|          3186|\n",
      "|   148455|  2017|     10|           40000000|[CL, CIT, EL, IT1...|      [12, 31]|           2|        0|   24|     14|          3646|\n",
      "|   148455|  2018|      1|           80000000|[CL, FAC, CIT, EL...|      [12, 31]|           0|        0|   36|     15|          4182|\n",
      "|   148455|  2018|      5|          150000000|[CL, FAC, IT1, CL...|      [12, 31]|           1|        0|   46|     16|          4435|\n",
      "|   148455|  2018|     12|          150000000|      [CL, FAC, GB1]|          [31]|           2|        0|   43|     19|          4683|\n",
      "|   148455|  2019|      6|          150000000|      [CL, FAC, GB1]|          [31]|           2|        0|   27|     12|          4339|\n",
      "|   148455|  2019|     12|          150000000|[CL, GBCS, FAC, G...|          [31]|           3|        0|   33|     15|          5106|\n",
      "|   148455|  2020|      4|          120000000|[CL, GBCS, FAC, G...|          [31]|           3|        0|   29|     12|          4306|\n",
      "|   148455|  2020|     10|          120000000|[CL, GBCS, FAC, G...|          [31]|           2|        0|   27|     10|          3952|\n",
      "|   148455|  2021|      3|          110000000|[CL, GBCS, FAC, GB1]|          [31]|           0|        0|   29|      8|          4059|\n",
      "|   148455|  2021|      6|          100000000|[CL, GBCS, FAC, GB1]|          [31]|           0|        0|   34|     10|          4755|\n",
      "|   148455|  2021|     12|          100000000|      [CL, FAC, GB1]|          [31]|           1|        0|   43|     14|          5161|\n",
      "+---------+------+-------+-------------------+--------------------+--------------+------------+---------+-----+-------+--------------+\n",
      "only showing top 20 rows\n",
      "\n"
     ]
    }
   ],
   "source": [
    "df_result.filter(df_result.player_id == 148455).orderBy(df_result.year_v, df_result.month_v).show()"
   ],
   "metadata": {
    "collapsed": false,
    "ExecuteTime": {
     "end_time": "2023-05-06T18:11:30.217486200Z",
     "start_time": "2023-05-06T18:11:25.890506Z"
    }
   }
  },
  {
   "cell_type": "code",
   "execution_count": 39,
   "metadata": {},
   "outputs": [
    {
     "name": "stdout",
     "output_type": "stream",
     "text": [
      "+---------+------+-------+-------------------+--------------------+--------------+------------+---------+-----+-------+--------------+\n",
      "|player_id|year_v|month_v|market_value_in_eur|      competition_id|player_club_id|yellow_cards|red_cards|goals|assists|minutes_played|\n",
      "+---------+------+-------+-------------------+--------------------+--------------+------------+---------+-----+-------+--------------+\n",
      "|   148455|  2015|      2|           10000000|[CL, FAC, EL, IT1...|    [430, 631]|           1|        0|    3|      2|           488|\n",
      "|   148455|  2015|      3|           12000000|[CL, FAC, CIT, EL...|    [430, 631]|           1|        0|    6|      3|           900|\n",
      "|   148455|  2015|      7|           18000000|[CL, FAC, CIT, EL...|    [430, 631]|           1|        0|    9|      5|          1970|\n",
      "|   148455|  2015|     11|           20000000|[CL, FAC, CIT, EL...|[12, 430, 631]|           3|        0|   15|      5|          3113|\n",
      "|   148455|  2016|      1|           20000000|[CL, FAC, CIT, EL...|[12, 430, 631]|           3|        0|   15|      5|          3718|\n",
      "|   148455|  2016|      4|           23000000|  [CL, CIT, EL, IT1]|     [12, 430]|           3|        0|   16|      8|          4240|\n",
      "|   148455|  2016|      7|           27000000|      [CL, CIT, IT1]|          [12]|           3|        0|   15|      6|          3402|\n",
      "|   148455|  2017|      1|           30000000|  [CL, EL, IT1, CLQ]|          [12]|           3|        0|   18|     10|          3549|\n",
      "|   148455|  2017|      6|           35000000| [CIT, EL, IT1, CLQ]|          [12]|           2|        0|   19|     12|          3186|\n",
      "|   148455|  2017|     10|           40000000|[CL, CIT, EL, IT1...|      [12, 31]|           2|        0|   24|     14|          3646|\n",
      "|   148455|  2018|      1|           80000000|[CL, FAC, CIT, EL...|      [12, 31]|           0|        0|   36|     15|          4182|\n",
      "|   148455|  2018|      5|          150000000|[CL, FAC, IT1, CL...|      [12, 31]|           1|        0|   46|     16|          4435|\n",
      "|   148455|  2018|     12|          150000000|      [CL, FAC, GB1]|          [31]|           2|        0|   43|     19|          4683|\n",
      "|   148455|  2019|      6|          150000000|      [CL, FAC, GB1]|          [31]|           2|        0|   27|     12|          4339|\n",
      "|   148455|  2019|     12|          150000000|[CL, GBCS, FAC, G...|          [31]|           3|        0|   33|     15|          5106|\n",
      "|   148455|  2020|      4|          120000000|[CL, GBCS, FAC, G...|          [31]|           3|        0|   29|     12|          4306|\n",
      "|   148455|  2020|     10|          120000000|[CL, GBCS, FAC, G...|          [31]|           2|        0|   27|     10|          3952|\n",
      "|   148455|  2021|      3|          110000000|[CL, GBCS, FAC, GB1]|          [31]|           0|        0|   29|      8|          4059|\n",
      "|   148455|  2021|      6|          100000000|[CL, GBCS, FAC, GB1]|          [31]|           0|        0|   34|     10|          4755|\n",
      "|   148455|  2021|     12|          100000000|      [CL, FAC, GB1]|          [31]|           1|        0|   43|     14|          5161|\n",
      "|   148455|  2022|      6|           90000000|      [CL, FAC, GB1]|          [31]|           1|        0|   31|     16|          3894|\n",
      "|   148455|  2022|     11|           80000000|[CL, GBCS, FAC, GB1]|          [31]|           0|        0|   30|     14|          4528|\n",
      "|   148455|  2023|      3|           70000000|[CL, CGB, GBCS, F...|          [31]|           1|        0|   26|     16|          4578|\n",
      "+---------+------+-------+-------------------+--------------------+--------------+------------+---------+-----+-------+--------------+\n",
      "\n"
     ]
    }
   ],
   "source": [
    "#df_new.filter(df_new.player_id == 148455).show(100)\n",
    "df_result.filter(df_result.player_id == 148455).show(100)"
   ]
  },
  {
   "cell_type": "code",
   "execution_count": 104,
   "outputs": [
    {
     "data": {
      "text/plain": "141441"
     },
     "execution_count": 104,
     "metadata": {},
     "output_type": "execute_result"
    }
   ],
   "source": [
    "df_result.count()"
   ],
   "metadata": {
    "collapsed": false,
    "ExecuteTime": {
     "end_time": "2023-05-06T20:11:05.657884600Z",
     "start_time": "2023-05-06T20:11:02.764214300Z"
    }
   }
  },
  {
   "cell_type": "code",
   "execution_count": 40,
   "metadata": {},
   "outputs": [
    {
     "name": "stdout",
     "output_type": "stream",
     "text": [
      "23\n",
      "+----------+\n",
      "|sum(goals)|\n",
      "+----------+\n",
      "|       574|\n",
      "+----------+\n",
      "\n"
     ]
    }
   ],
   "source": [
    "#TEST (a questo punto il test non ha piu valore dal momento che si tiene conto per ogni valutazione quello che si è fatto l'anno precedente a year_v--month_v)\n",
    "print(df_result.filter(df_result.player_id == 148455).count())\n",
    "df_result.filter(df_result.player_id == 148455).agg(sum(col(\"goals\"))).show()"
   ]
  },
  {
   "cell_type": "code",
   "execution_count": 43,
   "metadata": {},
   "outputs": [
    {
     "name": "stdout",
     "output_type": "stream",
     "text": [
      "+---------+------+-------+-------------------+--------------------+--------------+------------+---------+-----+-------+--------------+-------------+---------------+-----------------+----------------------+----------------+-----------------+-------------+--------+------------+----+------------+---------------------------+----------+------------------------+------------------------------------+----------+-------------+-------------+--------------------+-----------+--------------------+\n",
      "|player_id|year_v|month_v|market_value_in_eur|      competition_id|player_club_id|yellow_cards|red_cards|goals|assists|minutes_played|         name|current_club_id|current_club_name|country_of_citizenship|country_of_birth|    city_of_birth|date_of_birth|position|sub_position|foot|height_in_cm|highest_market_value_in_eur|agent_name|contract_expiration_date|current_club_domestic_competition_id|first_name|    last_name|  player_code|           image_url|last_season|                 url|\n",
      "+---------+------+-------+-------------------+--------------------+--------------+------------+---------+-----+-------+--------------+-------------+---------------+-----------------+----------------------+----------------+-----------------+-------------+--------+------------+----+------------+---------------------------+----------+------------------------+------------------------------------+----------+-------------+-------------+--------------------+-----------+--------------------+\n",
      "|   148455|  2015|      2|           10000000|[CL, FAC, EL, IT1...|    [430, 631]|           1|        0|    3|      2|           488|Mohamed Salah|             31|     Fc Liverpool|                 Egypt|           Egypt|Nagrig, Basyoun  |   1992-06-15|  Attack|Right Winger|Left|         175|                      1.5E8|      null|              2025-06-30|                                 GB1|      null|Mohamed Salah|mohamed-salah|https://img.a.tra...|       2022|https://www.trans...|\n",
      "|   148455|  2015|      3|           12000000|[CL, FAC, CIT, EL...|    [430, 631]|           1|        0|    6|      3|           900|Mohamed Salah|             31|     Fc Liverpool|                 Egypt|           Egypt|Nagrig, Basyoun  |   1992-06-15|  Attack|Right Winger|Left|         175|                      1.5E8|      null|              2025-06-30|                                 GB1|      null|Mohamed Salah|mohamed-salah|https://img.a.tra...|       2022|https://www.trans...|\n",
      "|   148455|  2015|      7|           18000000|[CL, FAC, CIT, EL...|    [430, 631]|           1|        0|    9|      5|          1970|Mohamed Salah|             31|     Fc Liverpool|                 Egypt|           Egypt|Nagrig, Basyoun  |   1992-06-15|  Attack|Right Winger|Left|         175|                      1.5E8|      null|              2025-06-30|                                 GB1|      null|Mohamed Salah|mohamed-salah|https://img.a.tra...|       2022|https://www.trans...|\n",
      "|   148455|  2015|     11|           20000000|[CL, FAC, CIT, EL...|[12, 430, 631]|           3|        0|   15|      5|          3113|Mohamed Salah|             31|     Fc Liverpool|                 Egypt|           Egypt|Nagrig, Basyoun  |   1992-06-15|  Attack|Right Winger|Left|         175|                      1.5E8|      null|              2025-06-30|                                 GB1|      null|Mohamed Salah|mohamed-salah|https://img.a.tra...|       2022|https://www.trans...|\n",
      "|   148455|  2016|      1|           20000000|[CL, FAC, CIT, EL...|[12, 430, 631]|           3|        0|   15|      5|          3718|Mohamed Salah|             31|     Fc Liverpool|                 Egypt|           Egypt|Nagrig, Basyoun  |   1992-06-15|  Attack|Right Winger|Left|         175|                      1.5E8|      null|              2025-06-30|                                 GB1|      null|Mohamed Salah|mohamed-salah|https://img.a.tra...|       2022|https://www.trans...|\n",
      "|   148455|  2016|      4|           23000000|  [CL, CIT, EL, IT1]|     [12, 430]|           3|        0|   16|      8|          4240|Mohamed Salah|             31|     Fc Liverpool|                 Egypt|           Egypt|Nagrig, Basyoun  |   1992-06-15|  Attack|Right Winger|Left|         175|                      1.5E8|      null|              2025-06-30|                                 GB1|      null|Mohamed Salah|mohamed-salah|https://img.a.tra...|       2022|https://www.trans...|\n",
      "|   148455|  2016|      7|           27000000|      [CL, CIT, IT1]|          [12]|           3|        0|   15|      6|          3402|Mohamed Salah|             31|     Fc Liverpool|                 Egypt|           Egypt|Nagrig, Basyoun  |   1992-06-15|  Attack|Right Winger|Left|         175|                      1.5E8|      null|              2025-06-30|                                 GB1|      null|Mohamed Salah|mohamed-salah|https://img.a.tra...|       2022|https://www.trans...|\n",
      "|   148455|  2017|      1|           30000000|  [CL, EL, IT1, CLQ]|          [12]|           3|        0|   18|     10|          3549|Mohamed Salah|             31|     Fc Liverpool|                 Egypt|           Egypt|Nagrig, Basyoun  |   1992-06-15|  Attack|Right Winger|Left|         175|                      1.5E8|      null|              2025-06-30|                                 GB1|      null|Mohamed Salah|mohamed-salah|https://img.a.tra...|       2022|https://www.trans...|\n",
      "|   148455|  2017|      6|           35000000| [CIT, EL, IT1, CLQ]|          [12]|           2|        0|   19|     12|          3186|Mohamed Salah|             31|     Fc Liverpool|                 Egypt|           Egypt|Nagrig, Basyoun  |   1992-06-15|  Attack|Right Winger|Left|         175|                      1.5E8|      null|              2025-06-30|                                 GB1|      null|Mohamed Salah|mohamed-salah|https://img.a.tra...|       2022|https://www.trans...|\n",
      "|   148455|  2017|     10|           40000000|[CL, CIT, EL, IT1...|      [12, 31]|           2|        0|   24|     14|          3646|Mohamed Salah|             31|     Fc Liverpool|                 Egypt|           Egypt|Nagrig, Basyoun  |   1992-06-15|  Attack|Right Winger|Left|         175|                      1.5E8|      null|              2025-06-30|                                 GB1|      null|Mohamed Salah|mohamed-salah|https://img.a.tra...|       2022|https://www.trans...|\n",
      "|   148455|  2018|      1|           80000000|[CL, FAC, CIT, EL...|      [12, 31]|           0|        0|   36|     15|          4182|Mohamed Salah|             31|     Fc Liverpool|                 Egypt|           Egypt|Nagrig, Basyoun  |   1992-06-15|  Attack|Right Winger|Left|         175|                      1.5E8|      null|              2025-06-30|                                 GB1|      null|Mohamed Salah|mohamed-salah|https://img.a.tra...|       2022|https://www.trans...|\n",
      "|   148455|  2018|      5|          150000000|[CL, FAC, IT1, CL...|      [12, 31]|           1|        0|   46|     16|          4435|Mohamed Salah|             31|     Fc Liverpool|                 Egypt|           Egypt|Nagrig, Basyoun  |   1992-06-15|  Attack|Right Winger|Left|         175|                      1.5E8|      null|              2025-06-30|                                 GB1|      null|Mohamed Salah|mohamed-salah|https://img.a.tra...|       2022|https://www.trans...|\n",
      "|   148455|  2018|     12|          150000000|      [CL, FAC, GB1]|          [31]|           2|        0|   43|     19|          4683|Mohamed Salah|             31|     Fc Liverpool|                 Egypt|           Egypt|Nagrig, Basyoun  |   1992-06-15|  Attack|Right Winger|Left|         175|                      1.5E8|      null|              2025-06-30|                                 GB1|      null|Mohamed Salah|mohamed-salah|https://img.a.tra...|       2022|https://www.trans...|\n",
      "|   148455|  2019|      6|          150000000|      [CL, FAC, GB1]|          [31]|           2|        0|   27|     12|          4339|Mohamed Salah|             31|     Fc Liverpool|                 Egypt|           Egypt|Nagrig, Basyoun  |   1992-06-15|  Attack|Right Winger|Left|         175|                      1.5E8|      null|              2025-06-30|                                 GB1|      null|Mohamed Salah|mohamed-salah|https://img.a.tra...|       2022|https://www.trans...|\n",
      "|   148455|  2019|     12|          150000000|[CL, GBCS, FAC, G...|          [31]|           3|        0|   33|     15|          5106|Mohamed Salah|             31|     Fc Liverpool|                 Egypt|           Egypt|Nagrig, Basyoun  |   1992-06-15|  Attack|Right Winger|Left|         175|                      1.5E8|      null|              2025-06-30|                                 GB1|      null|Mohamed Salah|mohamed-salah|https://img.a.tra...|       2022|https://www.trans...|\n",
      "|   148455|  2020|      4|          120000000|[CL, GBCS, FAC, G...|          [31]|           3|        0|   29|     12|          4306|Mohamed Salah|             31|     Fc Liverpool|                 Egypt|           Egypt|Nagrig, Basyoun  |   1992-06-15|  Attack|Right Winger|Left|         175|                      1.5E8|      null|              2025-06-30|                                 GB1|      null|Mohamed Salah|mohamed-salah|https://img.a.tra...|       2022|https://www.trans...|\n",
      "|   148455|  2020|     10|          120000000|[CL, GBCS, FAC, G...|          [31]|           2|        0|   27|     10|          3952|Mohamed Salah|             31|     Fc Liverpool|                 Egypt|           Egypt|Nagrig, Basyoun  |   1992-06-15|  Attack|Right Winger|Left|         175|                      1.5E8|      null|              2025-06-30|                                 GB1|      null|Mohamed Salah|mohamed-salah|https://img.a.tra...|       2022|https://www.trans...|\n",
      "|   148455|  2021|      3|          110000000|[CL, GBCS, FAC, GB1]|          [31]|           0|        0|   29|      8|          4059|Mohamed Salah|             31|     Fc Liverpool|                 Egypt|           Egypt|Nagrig, Basyoun  |   1992-06-15|  Attack|Right Winger|Left|         175|                      1.5E8|      null|              2025-06-30|                                 GB1|      null|Mohamed Salah|mohamed-salah|https://img.a.tra...|       2022|https://www.trans...|\n",
      "|   148455|  2021|      6|          100000000|[CL, GBCS, FAC, GB1]|          [31]|           0|        0|   34|     10|          4755|Mohamed Salah|             31|     Fc Liverpool|                 Egypt|           Egypt|Nagrig, Basyoun  |   1992-06-15|  Attack|Right Winger|Left|         175|                      1.5E8|      null|              2025-06-30|                                 GB1|      null|Mohamed Salah|mohamed-salah|https://img.a.tra...|       2022|https://www.trans...|\n",
      "|   148455|  2021|     12|          100000000|      [CL, FAC, GB1]|          [31]|           1|        0|   43|     14|          5161|Mohamed Salah|             31|     Fc Liverpool|                 Egypt|           Egypt|Nagrig, Basyoun  |   1992-06-15|  Attack|Right Winger|Left|         175|                      1.5E8|      null|              2025-06-30|                                 GB1|      null|Mohamed Salah|mohamed-salah|https://img.a.tra...|       2022|https://www.trans...|\n",
      "|   148455|  2022|      6|           90000000|      [CL, FAC, GB1]|          [31]|           1|        0|   31|     16|          3894|Mohamed Salah|             31|     Fc Liverpool|                 Egypt|           Egypt|Nagrig, Basyoun  |   1992-06-15|  Attack|Right Winger|Left|         175|                      1.5E8|      null|              2025-06-30|                                 GB1|      null|Mohamed Salah|mohamed-salah|https://img.a.tra...|       2022|https://www.trans...|\n",
      "|   148455|  2022|     11|           80000000|[CL, GBCS, FAC, GB1]|          [31]|           0|        0|   30|     14|          4528|Mohamed Salah|             31|     Fc Liverpool|                 Egypt|           Egypt|Nagrig, Basyoun  |   1992-06-15|  Attack|Right Winger|Left|         175|                      1.5E8|      null|              2025-06-30|                                 GB1|      null|Mohamed Salah|mohamed-salah|https://img.a.tra...|       2022|https://www.trans...|\n",
      "|   148455|  2023|      3|           70000000|[CL, CGB, GBCS, F...|          [31]|           1|        0|   26|     16|          4578|Mohamed Salah|             31|     Fc Liverpool|                 Egypt|           Egypt|Nagrig, Basyoun  |   1992-06-15|  Attack|Right Winger|Left|         175|                      1.5E8|      null|              2025-06-30|                                 GB1|      null|Mohamed Salah|mohamed-salah|https://img.a.tra...|       2022|https://www.trans...|\n",
      "+---------+------+-------+-------------------+--------------------+--------------+------------+---------+-----+-------+--------------+-------------+---------------+-----------------+----------------------+----------------+-----------------+-------------+--------+------------+----+------------+---------------------------+----------+------------------------+------------------------------------+----------+-------------+-------------+--------------------+-----------+--------------------+\n",
      "\n"
     ]
    }
   ],
   "source": [
    "#unire df_result con df_players ma di df_players non voglio la colonna \"market_value_in_eur\"\n",
    "df_players = df_players.drop(\"market_value_in_eur\")\n",
    "df_stats = df_result.join(df_players, [\"player_id\"], \"inner\")\n",
    "df_stats.filter(df_stats.player_id == 148455).show(100)"
   ]
  },
  {
   "cell_type": "code",
   "execution_count": 44,
   "metadata": {},
   "outputs": [],
   "source": [
    "df_stats = df_stats.drop(\"current_club_id\", \"current_club_name\", \"city_of_birth\", \"contract_expiration_date\", \"agent_name\", \"current_club_domestic_competition_id\", \"image_url\", \"last_season\", \"url\", \"player_current_club_id\")"
   ]
  },
  {
   "cell_type": "code",
   "execution_count": 47,
   "metadata": {},
   "outputs": [],
   "source": [
    "df_stats = df_stats.drop(\"highest_market_value\", \"player_code\")"
   ]
  },
  {
   "cell_type": "code",
   "execution_count": 48,
   "metadata": {},
   "outputs": [
    {
     "name": "stdout",
     "output_type": "stream",
     "text": [
      "+---------+------+-------+-------------------+--------------------+--------------+------------+---------+-----+-------+--------------+-------------+----------------------+----------------+-------------+--------+------------+----+------------+---------------------------+----------+-------------+\n",
      "|player_id|year_v|month_v|market_value_in_eur|      competition_id|player_club_id|yellow_cards|red_cards|goals|assists|minutes_played|         name|country_of_citizenship|country_of_birth|date_of_birth|position|sub_position|foot|height_in_cm|highest_market_value_in_eur|first_name|    last_name|\n",
      "+---------+------+-------+-------------------+--------------------+--------------+------------+---------+-----+-------+--------------+-------------+----------------------+----------------+-------------+--------+------------+----+------------+---------------------------+----------+-------------+\n",
      "|   148455|  2015|      2|           10000000|[CL, FAC, EL, IT1...|    [430, 631]|           1|        0|    3|      2|           488|Mohamed Salah|                 Egypt|           Egypt|   1992-06-15|  Attack|Right Winger|Left|         175|                      1.5E8|      null|Mohamed Salah|\n",
      "|   148455|  2015|      3|           12000000|[CL, FAC, CIT, EL...|    [430, 631]|           1|        0|    6|      3|           900|Mohamed Salah|                 Egypt|           Egypt|   1992-06-15|  Attack|Right Winger|Left|         175|                      1.5E8|      null|Mohamed Salah|\n",
      "|   148455|  2015|      7|           18000000|[CL, FAC, CIT, EL...|    [430, 631]|           1|        0|    9|      5|          1970|Mohamed Salah|                 Egypt|           Egypt|   1992-06-15|  Attack|Right Winger|Left|         175|                      1.5E8|      null|Mohamed Salah|\n",
      "|   148455|  2015|     11|           20000000|[CL, FAC, CIT, EL...|[12, 430, 631]|           3|        0|   15|      5|          3113|Mohamed Salah|                 Egypt|           Egypt|   1992-06-15|  Attack|Right Winger|Left|         175|                      1.5E8|      null|Mohamed Salah|\n",
      "|   148455|  2016|      1|           20000000|[CL, FAC, CIT, EL...|[12, 430, 631]|           3|        0|   15|      5|          3718|Mohamed Salah|                 Egypt|           Egypt|   1992-06-15|  Attack|Right Winger|Left|         175|                      1.5E8|      null|Mohamed Salah|\n",
      "|   148455|  2016|      4|           23000000|  [CL, CIT, EL, IT1]|     [12, 430]|           3|        0|   16|      8|          4240|Mohamed Salah|                 Egypt|           Egypt|   1992-06-15|  Attack|Right Winger|Left|         175|                      1.5E8|      null|Mohamed Salah|\n",
      "|   148455|  2016|      7|           27000000|      [CL, CIT, IT1]|          [12]|           3|        0|   15|      6|          3402|Mohamed Salah|                 Egypt|           Egypt|   1992-06-15|  Attack|Right Winger|Left|         175|                      1.5E8|      null|Mohamed Salah|\n",
      "|   148455|  2017|      1|           30000000|  [CL, EL, IT1, CLQ]|          [12]|           3|        0|   18|     10|          3549|Mohamed Salah|                 Egypt|           Egypt|   1992-06-15|  Attack|Right Winger|Left|         175|                      1.5E8|      null|Mohamed Salah|\n",
      "|   148455|  2017|      6|           35000000| [CIT, EL, IT1, CLQ]|          [12]|           2|        0|   19|     12|          3186|Mohamed Salah|                 Egypt|           Egypt|   1992-06-15|  Attack|Right Winger|Left|         175|                      1.5E8|      null|Mohamed Salah|\n",
      "|   148455|  2017|     10|           40000000|[CL, CIT, EL, IT1...|      [12, 31]|           2|        0|   24|     14|          3646|Mohamed Salah|                 Egypt|           Egypt|   1992-06-15|  Attack|Right Winger|Left|         175|                      1.5E8|      null|Mohamed Salah|\n",
      "|   148455|  2018|      1|           80000000|[CL, FAC, CIT, EL...|      [12, 31]|           0|        0|   36|     15|          4182|Mohamed Salah|                 Egypt|           Egypt|   1992-06-15|  Attack|Right Winger|Left|         175|                      1.5E8|      null|Mohamed Salah|\n",
      "|   148455|  2018|      5|          150000000|[CL, FAC, IT1, CL...|      [12, 31]|           1|        0|   46|     16|          4435|Mohamed Salah|                 Egypt|           Egypt|   1992-06-15|  Attack|Right Winger|Left|         175|                      1.5E8|      null|Mohamed Salah|\n",
      "|   148455|  2018|     12|          150000000|      [CL, FAC, GB1]|          [31]|           2|        0|   43|     19|          4683|Mohamed Salah|                 Egypt|           Egypt|   1992-06-15|  Attack|Right Winger|Left|         175|                      1.5E8|      null|Mohamed Salah|\n",
      "|   148455|  2019|      6|          150000000|      [CL, FAC, GB1]|          [31]|           2|        0|   27|     12|          4339|Mohamed Salah|                 Egypt|           Egypt|   1992-06-15|  Attack|Right Winger|Left|         175|                      1.5E8|      null|Mohamed Salah|\n",
      "|   148455|  2019|     12|          150000000|[CL, GBCS, FAC, G...|          [31]|           3|        0|   33|     15|          5106|Mohamed Salah|                 Egypt|           Egypt|   1992-06-15|  Attack|Right Winger|Left|         175|                      1.5E8|      null|Mohamed Salah|\n",
      "|   148455|  2020|      4|          120000000|[CL, GBCS, FAC, G...|          [31]|           3|        0|   29|     12|          4306|Mohamed Salah|                 Egypt|           Egypt|   1992-06-15|  Attack|Right Winger|Left|         175|                      1.5E8|      null|Mohamed Salah|\n",
      "|   148455|  2020|     10|          120000000|[CL, GBCS, FAC, G...|          [31]|           2|        0|   27|     10|          3952|Mohamed Salah|                 Egypt|           Egypt|   1992-06-15|  Attack|Right Winger|Left|         175|                      1.5E8|      null|Mohamed Salah|\n",
      "|   148455|  2021|      3|          110000000|[CL, GBCS, FAC, GB1]|          [31]|           0|        0|   29|      8|          4059|Mohamed Salah|                 Egypt|           Egypt|   1992-06-15|  Attack|Right Winger|Left|         175|                      1.5E8|      null|Mohamed Salah|\n",
      "|   148455|  2021|      6|          100000000|[CL, GBCS, FAC, GB1]|          [31]|           0|        0|   34|     10|          4755|Mohamed Salah|                 Egypt|           Egypt|   1992-06-15|  Attack|Right Winger|Left|         175|                      1.5E8|      null|Mohamed Salah|\n",
      "|   148455|  2021|     12|          100000000|      [CL, FAC, GB1]|          [31]|           1|        0|   43|     14|          5161|Mohamed Salah|                 Egypt|           Egypt|   1992-06-15|  Attack|Right Winger|Left|         175|                      1.5E8|      null|Mohamed Salah|\n",
      "|   148455|  2022|      6|           90000000|      [CL, FAC, GB1]|          [31]|           1|        0|   31|     16|          3894|Mohamed Salah|                 Egypt|           Egypt|   1992-06-15|  Attack|Right Winger|Left|         175|                      1.5E8|      null|Mohamed Salah|\n",
      "|   148455|  2022|     11|           80000000|[CL, GBCS, FAC, GB1]|          [31]|           0|        0|   30|     14|          4528|Mohamed Salah|                 Egypt|           Egypt|   1992-06-15|  Attack|Right Winger|Left|         175|                      1.5E8|      null|Mohamed Salah|\n",
      "|   148455|  2023|      3|           70000000|[CL, CGB, GBCS, F...|          [31]|           1|        0|   26|     16|          4578|Mohamed Salah|                 Egypt|           Egypt|   1992-06-15|  Attack|Right Winger|Left|         175|                      1.5E8|      null|Mohamed Salah|\n",
      "+---------+------+-------+-------------------+--------------------+--------------+------------+---------+-----+-------+--------------+-------------+----------------------+----------------+-------------+--------+------------+----+------------+---------------------------+----------+-------------+\n",
      "\n"
     ]
    }
   ],
   "source": [
    "df_stats.filter(df_stats.player_id == 148455).show(100)"
   ]
  },
  {
   "cell_type": "code",
   "execution_count": 49,
   "metadata": {},
   "outputs": [
    {
     "name": "stdout",
     "output_type": "stream",
     "text": [
      "Number of rows:  141441\n"
     ]
    }
   ],
   "source": [
    "print(\"Number of rows: \", df_stats.count())"
   ]
  },
  {
   "cell_type": "code",
   "execution_count": 1,
   "metadata": {},
   "outputs": [],
   "source": [
    "# a df_stats aggiungere la colonna età (semplicemnte data di nascita - (year_v-month_v) ---> putroppo abbiamo perso il giorno della data della valutazione, per recuperarla si deve evitare di\n",
    "# perdere o scartare la colonna dateweek che è ancora presente nella tabella data in output nella cella 21 of 34 df_player_valutations_filtered)\n",
    "\n",
    "# a df_stats aggiungere la colonna partite_giocate che contiene il numero di partite giocate dalle sue squadre (player_club_id) in year;\n",
    "\n",
    "# a df_stats aggiungere la colonna punti_ottenuti che contiene il numero di punti ottenuti dalle sue squadre (player_club_id) in year; (3 punti per vittoria, 1 per pareggio, 0 per sconfitta)\n",
    "\n",
    "# a df_stats aggiungere la colonna media_punti che contiene la media dei punti ottenuti dalle sue squadre (player_club_id) in year; (ottenerla dalle colonne partite_giocate e punti_ottenuti)"
   ]
  }
 ],
 "metadata": {
  "kernelspec": {
   "display_name": "Python 3",
   "language": "python",
   "name": "python3"
  },
  "language_info": {
   "codemirror_mode": {
    "name": "ipython",
    "version": 3
   },
   "file_extension": ".py",
   "mimetype": "text/x-python",
   "name": "python",
   "nbconvert_exporter": "python",
   "pygments_lexer": "ipython3",
   "version": "3.10.9"
  },
  "orig_nbformat": 4
 },
 "nbformat": 4,
 "nbformat_minor": 2
}
