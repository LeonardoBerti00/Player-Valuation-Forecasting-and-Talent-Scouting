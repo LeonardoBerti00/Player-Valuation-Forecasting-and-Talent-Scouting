{
 "cells": [
  {
   "attachments": {},
   "cell_type": "markdown",
   "metadata": {},
   "source": [
    "# Binary Encoding"
   ]
  },
  {
   "cell_type": "code",
   "execution_count": 1,
   "metadata": {
    "ExecuteTime": {
     "end_time": "2023-05-16T11:40:03.449092100Z",
     "start_time": "2023-05-16T11:40:02.810620700Z"
    }
   },
   "outputs": [],
   "source": [
    "import pyspark\n",
    "from pyspark.sql import *\n",
    "from pyspark.sql.types import *\n",
    "from pyspark.sql.functions import *\n",
    "from pyspark import SparkContext, SparkConf\n",
    "import numpy as np\n",
    "from pyspark.sql.functions import udf\n",
    "from pyspark.sql.types import BinaryType\n",
    "from pyspark.sql import SparkSession\n",
    "from pyspark.conf import SparkConf\n",
    "import pandas as pd\n",
    "from sklearn.preprocessing import LabelBinarizer\n",
    "from pyspark.ml.feature import StringIndexer"
   ]
  },
  {
   "cell_type": "code",
   "execution_count": null,
   "metadata": {},
   "outputs": [],
   "source": [
    "# Create the session\n",
    "conf = SparkConf(). \\\n",
    "    set('spark.ui.port', \"4050\"). \\\n",
    "    set('spark.executor.memory', '15G'). \\\n",
    "    set('spark.driver.memory', '50G'). \\\n",
    "    set('spark.driver.maxResultSize', '40G'). \\\n",
    "    setAppName(\"PySparkProject\"). \\\n",
    "    set('spark.executor.cores', \"10\"). \\\n",
    "    setMaster(\"local[*]\")\n",
    "\n",
    "sc = pyspark.SparkContext.getOrCreate(conf=conf)\n",
    "spark = SparkSession.builder.getOrCreate()\n",
    "\n",
    "sc._conf.getAll()"
   ]
  },
  {
   "cell_type": "code",
   "execution_count": null,
   "outputs": [],
   "source": [
    "# open data.csv as pyspark dataframe\n",
    "df = spark.read.csv('dataset.csv', header=True, inferSchema=True)"
   ],
   "metadata": {
    "collapsed": false
   }
  },
  {
   "attachments": {},
   "cell_type": "markdown",
   "metadata": {},
   "source": [
    "**Encoding**\n",
    "\n",
    "We have to execute the mapping for:\n",
    "- player_id (it will be divider for 100k)\n",
    "- date_c in timestamp\n",
    "- current_club_id\n",
    "- citizenship\n",
    "- position\n",
    "- sub_position\n",
    "- competitions_id\n",
    "- clubs_id"
   ]
  },
  {
   "cell_type": "code",
   "execution_count": 12,
   "metadata": {},
   "outputs": [],
   "source": [
    "#### CURRENT_CLUB_ID, CITIZENSHIP, POSITION, SUBPOSITION ####\n",
    "\n",
    "def binary_encoding(df, column):\n",
    "\n",
    "    # count the number of distinct values in the column\n",
    "    distinct_values = int(np.log2(df.select(column).distinct().count())) + 1\n",
    "\n",
    "    outputCol = column + \"_encoded\"\n",
    "    # Create the StringIndexer instance by specifying the input and output columns\n",
    "    indexer = StringIndexer(inputCol=column, outputCol=outputCol)\n",
    "    # Train the StringIndexer on the DataFrame\n",
    "    indexer_model = indexer.fit(df)\n",
    "    # Apply the transformation to the DataFrame\n",
    "    df = indexer_model.transform(df)\n",
    "    #df = df.withColumn(outputCol, df[outputCol])\n",
    "    # convert the column outputCol in integer\n",
    "    df = df.withColumn(outputCol, df[outputCol].cast(IntegerType()))\n",
    "    # convert the column outputCol in binary\n",
    "    df = df.withColumn(outputCol, expr(\"LPAD(CONV(\" + outputCol + \", 10, 2), \" + str(distinct_values) + \", '0')\"))\n",
    "\n",
    "    return df\n",
    "\n",
    "df = binary_encoding(df, \"current_club_id\")\n",
    "df = binary_encoding(df, \"citizenship\")\n",
    "df = binary_encoding(df, \"position\")\n",
    "df = binary_encoding(df, \"sub_position\")\n"
   ]
  },
  {
   "attachments": {},
   "cell_type": "markdown",
   "metadata": {},
   "source": [
    "We transform the column competitions id and clubs id, that are array of strings in a single binary value using label binarization."
   ]
  },
  {
   "cell_type": "code",
   "execution_count": 14,
   "metadata": {
    "ExecuteTime": {
     "end_time": "2023-05-13T12:06:55.750175700Z",
     "start_time": "2023-05-13T12:06:53.852516Z"
    }
   },
   "outputs": [
    {
     "name": "stderr",
     "output_type": "stream",
     "text": [
      "c:\\Users\\marco\\AppData\\Local\\Programs\\Python\\Python310\\lib\\site-packages\\pyspark\\sql\\pandas\\conversion.py:248: FutureWarning: Passing unit-less datetime64 dtype to .astype is deprecated and will raise in a future version. Pass 'datetime64[ns]' instead\n",
      "  series = series.astype(t, copy=False)\n",
      "c:\\Users\\marco\\AppData\\Local\\Programs\\Python\\Python310\\lib\\site-packages\\pyspark\\sql\\pandas\\conversion.py:248: FutureWarning: Passing unit-less datetime64 dtype to .astype is deprecated and will raise in a future version. Pass 'datetime64[ns]' instead\n",
      "  series = series.astype(t, copy=False)\n"
     ]
    }
   ],
   "source": [
    "# convert df in pandas dataframe\n",
    "df_pandas = df.toPandas()"
   ]
  },
  {
   "cell_type": "code",
   "execution_count": 15,
   "metadata": {
    "ExecuteTime": {
     "end_time": "2023-05-13T12:07:50.863643700Z",
     "start_time": "2023-05-13T12:07:39.918186800Z"
    },
    "collapsed": false
   },
   "outputs": [
    {
     "name": "stderr",
     "output_type": "stream",
     "text": [
      "C:\\Users\\marco\\AppData\\Local\\Temp\\ipykernel_5184\\1573311546.py:2: FutureWarning: Using the level keyword in DataFrame and Series aggregations is deprecated and will be removed in a future version. Use groupby instead. df.sum(level=1) should use df.groupby(level=1).sum().\n",
      "  dummies = pd.get_dummies(df_pandas[\"competitions_id\"].apply(pd.Series).stack()).sum(level=0)\n"
     ]
    }
   ],
   "source": [
    "# apply pd.get_dummies to the column of arrays\n",
    "\n",
    "dummies = pd.get_dummies(df_pandas[\"competitions_id\"].apply(pd.Series).stack()).sum(level=0)\n",
    "# concatenate the dummy variables into a single string\n",
    "dummies[\"comp_string\"] = dummies.apply(lambda x: \"\".join(x.astype(str)), axis=1)\n",
    "# join the dummies dataframe with the original dataframe\n",
    "df_pandas = df_pandas.join(dummies[\"comp_string\"])\n",
    "#df_pandas = df_pandas.drop(\"competitions_id\")\n"
   ]
  },
  {
   "cell_type": "code",
   "execution_count": 16,
   "metadata": {
    "ExecuteTime": {
     "end_time": "2023-05-13T12:08:10.993249900Z",
     "start_time": "2023-05-13T12:07:50.864639200Z"
    },
    "collapsed": false
   },
   "outputs": [
    {
     "name": "stderr",
     "output_type": "stream",
     "text": [
      "C:\\Users\\marco\\AppData\\Local\\Temp\\ipykernel_5184\\1659577897.py:2: FutureWarning: Using the level keyword in DataFrame and Series aggregations is deprecated and will be removed in a future version. Use groupby instead. df.sum(level=1) should use df.groupby(level=1).sum().\n",
      "  dummies = pd.get_dummies(df_pandas[\"clubs_id\"].apply(pd.Series).stack()).sum(level=0)\n"
     ]
    }
   ],
   "source": [
    "\n",
    "# apply pd.get_dummies to the column of arrays\n",
    "dummies = pd.get_dummies(df_pandas[\"clubs_id\"].apply(pd.Series).stack()).sum(level=0)\n",
    "# concatenate the dummy variables into a single string\n",
    "dummies[\"club_string\"] = dummies.apply(lambda x: \"\".join(x.astype(str)), axis=1)\n",
    "# join the dummies dataframe with the original dataframe\n",
    "df_pandas = df_pandas.join(dummies[\"club_string\"])\n",
    "#df_pandas = df_pandas.drop(\"club_str\")\n"
   ]
  },
  {
   "cell_type": "code",
   "execution_count": 12,
   "metadata": {
    "ExecuteTime": {
     "end_time": "2023-05-16T11:52:22.187947200Z",
     "start_time": "2023-05-16T11:52:22.172320200Z"
    }
   },
   "outputs": [
    {
     "name": "stdout",
     "output_type": "stream",
     "text": [
      "<class 'pandas.core.frame.DataFrame'>\n",
      "RangeIndex: 135917 entries, 0 to 135916\n",
      "Data columns (total 21 columns):\n",
      " #   Column             Non-Null Count   Dtype         \n",
      "---  ------             --------------   -----         \n",
      " 0   player_id          135917 non-null  int64         \n",
      " 1   date_v             135917 non-null  datetime64[ns]\n",
      " 2   market_value       135917 non-null  int64         \n",
      " 3   age                135878 non-null  float64       \n",
      " 4   current_club_id    135917 non-null  int16         \n",
      " 5   height             135917 non-null  int64         \n",
      " 6   citizenship        135917 non-null  int16         \n",
      " 7   position           135917 non-null  int8          \n",
      " 8   sub_position       135917 non-null  int8          \n",
      " 9   assists            135917 non-null  int64         \n",
      " 10  goals              135917 non-null  int64         \n",
      " 11  minutes_played     135917 non-null  int64         \n",
      " 12  red_cards          135917 non-null  int64         \n",
      " 13  yellow_cards       135917 non-null  int64         \n",
      " 14  last_valuation     117799 non-null  float64       \n",
      " 15  appearances        135917 non-null  int64         \n",
      " 16  games_won_pl       135917 non-null  int64         \n",
      " 17  games_draw_pl      135917 non-null  int64         \n",
      " 18  games_lost_pl      135917 non-null  int64         \n",
      " 19  winning_rate_pl    135917 non-null  float64       \n",
      " 20  winning_rate_club  135917 non-null  float64       \n",
      "dtypes: datetime64[ns](1), float64(4), int16(2), int64(12), int8(2)\n",
      "memory usage: 18.4 MB\n"
     ]
    }
   ],
   "source": [
    "df_pandas.info()"
   ]
  },
  {
   "cell_type": "code",
   "execution_count": 19,
   "metadata": {},
   "outputs": [
    {
     "data": {
      "text/html": [
       "<div>\n",
       "<style scoped>\n",
       "    .dataframe tbody tr th:only-of-type {\n",
       "        vertical-align: middle;\n",
       "    }\n",
       "\n",
       "    .dataframe tbody tr th {\n",
       "        vertical-align: top;\n",
       "    }\n",
       "\n",
       "    .dataframe thead th {\n",
       "        text-align: right;\n",
       "    }\n",
       "</style>\n",
       "<table border=\"1\" class=\"dataframe\">\n",
       "  <thead>\n",
       "    <tr style=\"text-align: right;\">\n",
       "      <th></th>\n",
       "      <th>player_id</th>\n",
       "      <th>date_v</th>\n",
       "      <th>market_value</th>\n",
       "      <th>age</th>\n",
       "      <th>current_club_id</th>\n",
       "      <th>height</th>\n",
       "      <th>citizenship</th>\n",
       "      <th>position</th>\n",
       "      <th>sub_position</th>\n",
       "      <th>assists</th>\n",
       "      <th>...</th>\n",
       "      <th>games_draw_pl</th>\n",
       "      <th>games_lost_pl</th>\n",
       "      <th>winning_rate_pl</th>\n",
       "      <th>winning_rate_club</th>\n",
       "      <th>current_club_id_encoded</th>\n",
       "      <th>citizenship_encoded</th>\n",
       "      <th>position_encoded</th>\n",
       "      <th>sub_position_encoded</th>\n",
       "      <th>comp_string</th>\n",
       "      <th>club_string</th>\n",
       "    </tr>\n",
       "  </thead>\n",
       "  <tbody>\n",
       "    <tr>\n",
       "      <th>0</th>\n",
       "      <td>0.00026</td>\n",
       "      <td>2015-02-04</td>\n",
       "      <td>3000000</td>\n",
       "      <td>34</td>\n",
       "      <td>16</td>\n",
       "      <td>190</td>\n",
       "      <td>Germany</td>\n",
       "      <td>Goalkeeper</td>\n",
       "      <td>Goalkeeper</td>\n",
       "      <td>0</td>\n",
       "      <td>...</td>\n",
       "      <td>3</td>\n",
       "      <td>8</td>\n",
       "      <td>1.3</td>\n",
       "      <td>1.7</td>\n",
       "      <td>001000111</td>\n",
       "      <td>00000101</td>\n",
       "      <td>011</td>\n",
       "      <td>00100</td>\n",
       "      <td>0000010000000000000000001000000000000000000</td>\n",
       "      <td>0000000000000000000000000000000000000000000000...</td>\n",
       "    </tr>\n",
       "    <tr>\n",
       "      <th>1</th>\n",
       "      <td>0.00026</td>\n",
       "      <td>2015-07-01</td>\n",
       "      <td>2000000</td>\n",
       "      <td>34</td>\n",
       "      <td>16</td>\n",
       "      <td>190</td>\n",
       "      <td>Germany</td>\n",
       "      <td>Goalkeeper</td>\n",
       "      <td>Goalkeeper</td>\n",
       "      <td>0</td>\n",
       "      <td>...</td>\n",
       "      <td>5</td>\n",
       "      <td>13</td>\n",
       "      <td>1.5</td>\n",
       "      <td>1.6</td>\n",
       "      <td>001000111</td>\n",
       "      <td>00000101</td>\n",
       "      <td>011</td>\n",
       "      <td>00100</td>\n",
       "      <td>0000010000000000000000001000000000000000000</td>\n",
       "      <td>0000000000000000000000000000000000000000000000...</td>\n",
       "    </tr>\n",
       "    <tr>\n",
       "      <th>2</th>\n",
       "      <td>0.00026</td>\n",
       "      <td>2015-10-16</td>\n",
       "      <td>1000000</td>\n",
       "      <td>35</td>\n",
       "      <td>16</td>\n",
       "      <td>190</td>\n",
       "      <td>Germany</td>\n",
       "      <td>Goalkeeper</td>\n",
       "      <td>Goalkeeper</td>\n",
       "      <td>0</td>\n",
       "      <td>...</td>\n",
       "      <td>5</td>\n",
       "      <td>10</td>\n",
       "      <td>1.6</td>\n",
       "      <td>1.8</td>\n",
       "      <td>001000111</td>\n",
       "      <td>00000101</td>\n",
       "      <td>011</td>\n",
       "      <td>00100</td>\n",
       "      <td>0000010000001100000000001000000000000000000</td>\n",
       "      <td>0000000000000000000000000000000000000000000000...</td>\n",
       "    </tr>\n",
       "    <tr>\n",
       "      <th>3</th>\n",
       "      <td>0.00026</td>\n",
       "      <td>2016-02-15</td>\n",
       "      <td>1000000</td>\n",
       "      <td>35</td>\n",
       "      <td>16</td>\n",
       "      <td>190</td>\n",
       "      <td>Germany</td>\n",
       "      <td>Goalkeeper</td>\n",
       "      <td>Goalkeeper</td>\n",
       "      <td>0</td>\n",
       "      <td>...</td>\n",
       "      <td>3</td>\n",
       "      <td>6</td>\n",
       "      <td>1.8</td>\n",
       "      <td>2.1</td>\n",
       "      <td>001000111</td>\n",
       "      <td>00000101</td>\n",
       "      <td>011</td>\n",
       "      <td>00100</td>\n",
       "      <td>0000010000001100000000001000000000000000000</td>\n",
       "      <td>0000000000000000000000000000000000000000000000...</td>\n",
       "    </tr>\n",
       "    <tr>\n",
       "      <th>4</th>\n",
       "      <td>0.00026</td>\n",
       "      <td>2016-07-22</td>\n",
       "      <td>1000000</td>\n",
       "      <td>35</td>\n",
       "      <td>16</td>\n",
       "      <td>190</td>\n",
       "      <td>Germany</td>\n",
       "      <td>Goalkeeper</td>\n",
       "      <td>Goalkeeper</td>\n",
       "      <td>0</td>\n",
       "      <td>...</td>\n",
       "      <td>2</td>\n",
       "      <td>3</td>\n",
       "      <td>2.1</td>\n",
       "      <td>2.3</td>\n",
       "      <td>001000111</td>\n",
       "      <td>00000101</td>\n",
       "      <td>011</td>\n",
       "      <td>00100</td>\n",
       "      <td>0000000000001100000000001000000000000000000</td>\n",
       "      <td>0000000000000000000000000000000000000000000000...</td>\n",
       "    </tr>\n",
       "  </tbody>\n",
       "</table>\n",
       "<p>5 rows × 27 columns</p>\n",
       "</div>"
      ],
      "text/plain": [
       "   player_id     date_v  market_value  age  current_club_id  height  \\\n",
       "0    0.00026 2015-02-04       3000000   34               16     190   \n",
       "1    0.00026 2015-07-01       2000000   34               16     190   \n",
       "2    0.00026 2015-10-16       1000000   35               16     190   \n",
       "3    0.00026 2016-02-15       1000000   35               16     190   \n",
       "4    0.00026 2016-07-22       1000000   35               16     190   \n",
       "\n",
       "  citizenship    position sub_position  assists  ...  games_draw_pl  \\\n",
       "0     Germany  Goalkeeper   Goalkeeper        0  ...              3   \n",
       "1     Germany  Goalkeeper   Goalkeeper        0  ...              5   \n",
       "2     Germany  Goalkeeper   Goalkeeper        0  ...              5   \n",
       "3     Germany  Goalkeeper   Goalkeeper        0  ...              3   \n",
       "4     Germany  Goalkeeper   Goalkeeper        0  ...              2   \n",
       "\n",
       "   games_lost_pl  winning_rate_pl  winning_rate_club  current_club_id_encoded  \\\n",
       "0              8              1.3                1.7                001000111   \n",
       "1             13              1.5                1.6                001000111   \n",
       "2             10              1.6                1.8                001000111   \n",
       "3              6              1.8                2.1                001000111   \n",
       "4              3              2.1                2.3                001000111   \n",
       "\n",
       "   citizenship_encoded  position_encoded  sub_position_encoded  \\\n",
       "0             00000101               011                 00100   \n",
       "1             00000101               011                 00100   \n",
       "2             00000101               011                 00100   \n",
       "3             00000101               011                 00100   \n",
       "4             00000101               011                 00100   \n",
       "\n",
       "                                   comp_string  \\\n",
       "0  0000010000000000000000001000000000000000000   \n",
       "1  0000010000000000000000001000000000000000000   \n",
       "2  0000010000001100000000001000000000000000000   \n",
       "3  0000010000001100000000001000000000000000000   \n",
       "4  0000000000001100000000001000000000000000000   \n",
       "\n",
       "                                         club_string  \n",
       "0  0000000000000000000000000000000000000000000000...  \n",
       "1  0000000000000000000000000000000000000000000000...  \n",
       "2  0000000000000000000000000000000000000000000000...  \n",
       "3  0000000000000000000000000000000000000000000000...  \n",
       "4  0000000000000000000000000000000000000000000000...  \n",
       "\n",
       "[5 rows x 27 columns]"
      ]
     },
     "execution_count": 19,
     "metadata": {},
     "output_type": "execute_result"
    }
   ],
   "source": [
    "df_pandas.head()"
   ]
  },
  {
   "cell_type": "code",
   "execution_count": 23,
   "metadata": {},
   "outputs": [],
   "source": [
    "\n",
    "column_rename = {'current_club_id_encoded': 'current_club_id_binary', 'citizenship_encoded': 'citizenship_encoded_binary', 'position_encoded': 'position_binary',\n",
    "                  'sub_position_encoded': 'sub_position_binary', 'comp_string': 'competitions_id_binary', 'club_string': 'clubs_id_binary'}\n",
    "\n",
    "df_pandas = df_pandas.rename(columns=column_rename)\n"
   ]
  },
  {
   "cell_type": "code",
   "execution_count": 13,
   "metadata": {
    "ExecuteTime": {
     "end_time": "2023-05-16T11:53:07.315843700Z",
     "start_time": "2023-05-16T11:53:06.790917100Z"
    }
   },
   "outputs": [],
   "source": [
    "#df_pandas.to_csv('dataset.csv', sep=',', encoding='utf-8', index=False)"
   ]
  }
 ],
 "metadata": {
  "kernelspec": {
   "display_name": "Python 3",
   "language": "python",
   "name": "python3"
  },
  "language_info": {
   "codemirror_mode": {
    "name": "ipython",
    "version": 3
   },
   "file_extension": ".py",
   "mimetype": "text/x-python",
   "name": "python",
   "nbconvert_exporter": "python",
   "pygments_lexer": "ipython3",
   "version": "3.10.9"
  }
 },
 "nbformat": 4,
 "nbformat_minor": 0
}
