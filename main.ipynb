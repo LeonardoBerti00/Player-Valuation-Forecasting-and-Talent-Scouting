{
 "cells": [
  {
   "cell_type": "code",
   "execution_count": 1,
   "metadata": {},
   "outputs": [
    {
     "name": "stderr",
     "output_type": "stream",
     "text": [
      "c:\\Users\\marco\\AppData\\Local\\Programs\\Python\\Python310\\lib\\site-packages\\tqdm\\auto.py:21: TqdmWarning: IProgress not found. Please update jupyter and ipywidgets. See https://ipywidgets.readthedocs.io/en/stable/user_install.html\n",
      "  from .autonotebook import tqdm as notebook_tqdm\n"
     ]
    }
   ],
   "source": [
    "import pyspark\n",
    "from pyspark.sql import *\n",
    "from pyspark.sql.types import *\n",
    "from pyspark.sql.functions import *\n",
    "from pyspark import SparkContext, SparkConf\n",
    "import numpy as np\n",
    "from PIL import Image\n",
    "from datasets import load_dataset\n",
    "from pyspark.sql.functions import udf\n",
    "from pyspark.sql.types import BinaryType\n",
    "from pyspark.sql import SparkSession\n",
    "import io"
   ]
  },
  {
   "cell_type": "code",
   "execution_count": 2,
   "metadata": {},
   "outputs": [],
   "source": [
    "# Create the session\n",
    "conf = SparkConf().\\\n",
    "                set('spark.ui.port', \"4050\").\\\n",
    "                set('spark.executor.memory', '4G').\\\n",
    "                set('spark.driver.memory', '45G').\\\n",
    "                set('spark.driver.maxResultSize', '10G').\\\n",
    "                setAppName(\"PySparkTutorial\").\\\n",
    "                setMaster(\"local[*]\")\n",
    "\n",
    "# Create the context\n",
    "sc = pyspark.SparkContext(conf=conf)\n",
    "spark = SparkSession.builder.getOrCreate()"
   ]
  },
  {
   "cell_type": "code",
   "execution_count": 3,
   "metadata": {},
   "outputs": [
    {
     "data": {
      "text/html": [
       "\n",
       "            <div>\n",
       "                <p><b>SparkSession - in-memory</b></p>\n",
       "                \n",
       "        <div>\n",
       "            <p><b>SparkContext</b></p>\n",
       "\n",
       "            <p><a href=\"http://LAPTOP-JLLVBEPM:4050\">Spark UI</a></p>\n",
       "\n",
       "            <dl>\n",
       "              <dt>Version</dt>\n",
       "                <dd><code>v3.4.0</code></dd>\n",
       "              <dt>Master</dt>\n",
       "                <dd><code>local[*]</code></dd>\n",
       "              <dt>AppName</dt>\n",
       "                <dd><code>PySparkTutorial</code></dd>\n",
       "            </dl>\n",
       "        </div>\n",
       "        \n",
       "            </div>\n",
       "        "
      ],
      "text/plain": [
       "<pyspark.sql.session.SparkSession at 0x1ca819da4a0>"
      ]
     },
     "execution_count": 3,
     "metadata": {},
     "output_type": "execute_result"
    }
   ],
   "source": [
    "spark"
   ]
  },
  {
   "cell_type": "code",
   "execution_count": 4,
   "metadata": {},
   "outputs": [
    {
     "data": {
      "text/plain": [
       "[('spark.sql.warehouse.dir',\n",
       "  'file:/C:/Users/marco/Desktop/BDC_project/BDC_project/spark-warehouse'),\n",
       " ('spark.app.name', 'PySparkTutorial'),\n",
       " ('spark.driver.host', 'LAPTOP-JLLVBEPM'),\n",
       " ('spark.driver.memory', '45G'),\n",
       " ('spark.app.submitTime', '1683376544846'),\n",
       " ('spark.executor.id', 'driver'),\n",
       " ('spark.driver.maxResultSize', '10G'),\n",
       " ('spark.app.startTime', '1683376545165'),\n",
       " ('spark.driver.extraJavaOptions',\n",
       "  '-Djava.net.preferIPv6Addresses=false -XX:+IgnoreUnrecognizedVMOptions --add-opens=java.base/java.lang=ALL-UNNAMED --add-opens=java.base/java.lang.invoke=ALL-UNNAMED --add-opens=java.base/java.lang.reflect=ALL-UNNAMED --add-opens=java.base/java.io=ALL-UNNAMED --add-opens=java.base/java.net=ALL-UNNAMED --add-opens=java.base/java.nio=ALL-UNNAMED --add-opens=java.base/java.util=ALL-UNNAMED --add-opens=java.base/java.util.concurrent=ALL-UNNAMED --add-opens=java.base/java.util.concurrent.atomic=ALL-UNNAMED --add-opens=java.base/sun.nio.ch=ALL-UNNAMED --add-opens=java.base/sun.nio.cs=ALL-UNNAMED --add-opens=java.base/sun.security.action=ALL-UNNAMED --add-opens=java.base/sun.util.calendar=ALL-UNNAMED --add-opens=java.security.jgss/sun.security.krb5=ALL-UNNAMED -Djdk.reflect.useDirectMethodHandle=false'),\n",
       " ('spark.ui.port', '4050'),\n",
       " ('spark.app.id', 'local-1683376547112'),\n",
       " ('spark.rdd.compress', 'True'),\n",
       " ('spark.serializer.objectStreamReset', '100'),\n",
       " ('spark.master', 'local[*]'),\n",
       " ('spark.submit.pyFiles', ''),\n",
       " ('spark.submit.deployMode', 'client'),\n",
       " ('spark.driver.port', '63926'),\n",
       " ('spark.executor.memory', '4G'),\n",
       " ('spark.ui.showConsoleProgress', 'true'),\n",
       " ('spark.executor.extraJavaOptions',\n",
       "  '-Djava.net.preferIPv6Addresses=false -XX:+IgnoreUnrecognizedVMOptions --add-opens=java.base/java.lang=ALL-UNNAMED --add-opens=java.base/java.lang.invoke=ALL-UNNAMED --add-opens=java.base/java.lang.reflect=ALL-UNNAMED --add-opens=java.base/java.io=ALL-UNNAMED --add-opens=java.base/java.net=ALL-UNNAMED --add-opens=java.base/java.nio=ALL-UNNAMED --add-opens=java.base/java.util=ALL-UNNAMED --add-opens=java.base/java.util.concurrent=ALL-UNNAMED --add-opens=java.base/java.util.concurrent.atomic=ALL-UNNAMED --add-opens=java.base/sun.nio.ch=ALL-UNNAMED --add-opens=java.base/sun.nio.cs=ALL-UNNAMED --add-opens=java.base/sun.security.action=ALL-UNNAMED --add-opens=java.base/sun.util.calendar=ALL-UNNAMED --add-opens=java.security.jgss/sun.security.krb5=ALL-UNNAMED -Djdk.reflect.useDirectMethodHandle=false')]"
      ]
     },
     "execution_count": 4,
     "metadata": {},
     "output_type": "execute_result"
    }
   ],
   "source": [
    "sc._conf.getAll()"
   ]
  },
  {
   "cell_type": "code",
   "execution_count": 8,
   "metadata": {},
   "outputs": [],
   "source": [
    "#open csv file\n",
    "path = \"C:/Users/marco/Desktop\"\n",
    "df_appearances = spark.read.csv(path+\"/archive/appearances.csv\", header=True, inferSchema=True)\n",
    "df_club_games = spark.read.csv(path+\"/archive/club_games.csv\", header=True, inferSchema=True)\n",
    "df_clubs = spark.read.csv(path+\"/archive/clubs.csv\", header=True, inferSchema=True)\n",
    "df_competitions = spark.read.csv(path+\"/archive/competitions.csv\", header=True, inferSchema=True)\n",
    "df_game_events = spark.read.csv(path+\"/archive/game_events.csv\", header=True, inferSchema=True)\n",
    "df_games = spark.read.csv(path+\"/archive/games.csv\", header=True, inferSchema=True)\n",
    "df_player_valutations = spark.read.csv(path+\"/archive/player_valuations.csv\", header=True, inferSchema=True)\n",
    "df_players = spark.read.csv(path+\"/archive/players.csv\", header=True, inferSchema=True)\n"
   ]
  },
  {
   "cell_type": "code",
   "execution_count": 9,
   "metadata": {},
   "outputs": [
    {
     "name": "stdout",
     "output_type": "stream",
     "text": [
      "Number of rows:  1166215\n",
      "Number of rows:  123096\n",
      "Number of rows:  411\n",
      "Number of rows:  43\n",
      "Number of rows:  559853\n",
      "Number of rows:  61548\n",
      "Number of rows:  421564\n",
      "Number of rows:  28503\n",
      "root\n",
      " |-- appearance_id: string (nullable = true)\n",
      " |-- game_id: integer (nullable = true)\n",
      " |-- player_id: integer (nullable = true)\n",
      " |-- player_club_id: integer (nullable = true)\n",
      " |-- player_current_club_id: integer (nullable = true)\n",
      " |-- date: date (nullable = true)\n",
      " |-- player_name: string (nullable = true)\n",
      " |-- competition_id: string (nullable = true)\n",
      " |-- yellow_cards: integer (nullable = true)\n",
      " |-- red_cards: integer (nullable = true)\n",
      " |-- goals: integer (nullable = true)\n",
      " |-- assists: integer (nullable = true)\n",
      " |-- minutes_played: integer (nullable = true)\n",
      "\n",
      "root\n",
      " |-- game_id: integer (nullable = true)\n",
      " |-- minute: integer (nullable = true)\n",
      " |-- type: string (nullable = true)\n",
      " |-- club_id: integer (nullable = true)\n",
      " |-- player_id: integer (nullable = true)\n",
      " |-- description: string (nullable = true)\n",
      " |-- player_in_id: integer (nullable = true)\n",
      "\n",
      "root\n",
      " |-- game_id: integer (nullable = true)\n",
      " |-- competition_id: string (nullable = true)\n",
      " |-- competition_type: string (nullable = true)\n",
      " |-- season: integer (nullable = true)\n",
      " |-- round: string (nullable = true)\n",
      " |-- date: date (nullable = true)\n",
      " |-- home_club_id: integer (nullable = true)\n",
      " |-- away_club_id: integer (nullable = true)\n",
      " |-- home_club_goals: integer (nullable = true)\n",
      " |-- away_club_goals: integer (nullable = true)\n",
      " |-- aggregate: timestamp (nullable = true)\n",
      " |-- home_club_position: integer (nullable = true)\n",
      " |-- away_club_position: integer (nullable = true)\n",
      " |-- club_home_name: string (nullable = true)\n",
      " |-- club_away_name: string (nullable = true)\n",
      " |-- home_club_manager_name: string (nullable = true)\n",
      " |-- away_club_manager_name: string (nullable = true)\n",
      " |-- stadium: string (nullable = true)\n",
      " |-- attendance: integer (nullable = true)\n",
      " |-- referee: string (nullable = true)\n",
      " |-- url: string (nullable = true)\n",
      "\n",
      "+-------------+-------+---------+--------------+----------------------+----------+--------------------+--------------+------------+---------+-----+-------+--------------+\n",
      "|appearance_id|game_id|player_id|player_club_id|player_current_club_id|      date|         player_name|competition_id|yellow_cards|red_cards|goals|assists|minutes_played|\n",
      "+-------------+-------+---------+--------------+----------------------+----------+--------------------+--------------+------------+---------+-----+-------+--------------+\n",
      "|2483937_52453|2483937|    52453|         28095|                 28095|2014-08-08|       Haris Handzic|           RU1|           0|        0|    0|      0|            90|\n",
      "|2479929_67064|2479929|    67064|         28095|                  4128|2014-08-03|Felicio Brown Forbes|           RU1|           0|        0|    0|      0|            90|\n",
      "|2483937_67064|2483937|    67064|         28095|                  4128|2014-08-08|Felicio Brown Forbes|           RU1|           0|        0|    0|      0|            90|\n",
      "|2484582_67064|2484582|    67064|         28095|                  4128|2014-08-13|Felicio Brown Forbes|           RU1|           0|        0|    0|      0|            55|\n",
      "|2485965_67064|2485965|    67064|         28095|                  4128|2014-08-16|Felicio Brown Forbes|           RU1|           0|        0|    0|      0|            90|\n",
      "|2487345_67064|2487345|    67064|         28095|                  4128|2014-08-23|Felicio Brown Forbes|           RU1|           1|        0|    0|      0|            90|\n",
      "|2498464_67064|2498464|    67064|         28095|                  4128|2014-09-20|Felicio Brown Forbes|           RU1|           0|        0|    0|      0|            90|\n",
      "|2500260_67064|2500260|    67064|         28095|                  4128|2014-09-27|Felicio Brown Forbes|           RU1|           0|        0|    0|      1|            19|\n",
      "|2506733_67064|2506733|    67064|         28095|                  4128|2014-10-26|Felicio Brown Forbes|           RU1|           1|        0|    1|      0|            90|\n",
      "|2508366_67064|2508366|    67064|         28095|                  4128|2014-11-03|Felicio Brown Forbes|           RU1|           0|        0|    0|      0|             2|\n",
      "|2493717_67064|2493717|    67064|         28095|                  4128|2014-09-24|Felicio Brown Forbes|           RUP|           0|        0|    0|      0|            65|\n",
      "|2498464_98558|2498464|    98558|         28095|                 41201|2014-09-20|         Anton Kilin|           RU1|           0|        0|    0|      0|            90|\n",
      "|2479927_36227|2479927|    36227|          1186|                  3729|2014-08-02|     Igor Shevchenko|           RU1|           1|        0|    0|      0|            45|\n",
      "|2484582_52453|2484582|    52453|         28095|                 28095|2014-08-13|       Haris Handzic|           RU1|           0|        0|    0|      0|            90|\n",
      "|2485965_52453|2485965|    52453|         28095|                 28095|2014-08-16|       Haris Handzic|           RU1|           0|        0|    0|      0|            45|\n",
      "|2487345_52453|2487345|    52453|         28095|                 28095|2014-08-23|       Haris Handzic|           RU1|           0|        0|    0|      0|            53|\n",
      "|2489341_52453|2489341|    52453|         28095|                 28095|2014-08-31|       Haris Handzic|           RU1|           0|        0|    0|      0|            35|\n",
      "|2493788_52453|2493788|    52453|         28095|                 28095|2014-09-14|       Haris Handzic|           RU1|           0|        0|    0|      1|            65|\n",
      "|2498464_52453|2498464|    52453|         28095|                 28095|2014-09-20|       Haris Handzic|           RU1|           0|        0|    0|      0|            19|\n",
      "|2500260_52453|2500260|    52453|         28095|                 28095|2014-09-27|       Haris Handzic|           RU1|           0|        0|    1|      0|            86|\n",
      "+-------------+-------+---------+--------------+----------------------+----------+--------------------+--------------+------------+---------+-----+-------+--------------+\n",
      "only showing top 20 rows\n",
      "\n",
      "+-------+------+-------------+-------+---------+--------------------+------------+\n",
      "|game_id|minute|         type|club_id|player_id|         description|player_in_id|\n",
      "+-------+------+-------------+-------+---------+--------------------+------------+\n",
      "|2229332|     6|        Goals|     27|    34572|, Right-footed sh...|          -1|\n",
      "|2229332|    11|        Goals|     27|    58358|, Tap-in, 1. Tour...|          -1|\n",
      "|2229332|    75|        Goals|     16|    38253|, Right-footed sh...|          -1|\n",
      "|2229332|    64|Substitutions|     16|    82243|                null|       74842|\n",
      "|2229332|    64|Substitutions|     16|    44521|                null|       42460|\n",
      "|2229332|    70|Substitutions|     27|   119296|                null|       54659|\n",
      "|2229332|    71|Substitutions|     16|    29835|                null|       58124|\n",
      "|2229332|    80|Substitutions|     27|    22068|                null|       14944|\n",
      "|2229332|    85|Substitutions|     27|     4360|                null|       86792|\n",
      "|2244388|    55|        Goals|    418|     8198|, Header, 1. Tour...|          -1|\n",
      "|2244388|    56|        Goals|    131|    65278|, Right-footed sh...|          -1|\n",
      "|2244388|    60|        Goals|    131|    28003|, Penalty, 1. Tou...|          -1|\n",
      "|2244388|    78|        Goals|    131|     7607|, Right-footed sh...|          -1|\n",
      "|2244388|    85|        Goals|    418|    45320|, Left-footed sho...|          -1|\n",
      "|2244388|    60|Substitutions|    418|    18922|                null|       39153|\n",
      "|2244388|    65|Substitutions|    418|    61253|                null|       45320|\n",
      "|2244388|    71|Substitutions|    131|    40433|                null|      141834|\n",
      "|2244388|    81|Substitutions|    418|    35664|                null|       44501|\n",
      "|2244388|    82|Substitutions|    131|     7607|                null|        8806|\n",
      "|2244388|    86|Substitutions|    131|    65278|                null|       69751|\n",
      "+-------+------+-------------+-------+---------+--------------------+------------+\n",
      "only showing top 20 rows\n",
      "\n",
      "+-------+--------------+----------------+------+------------------+----------+------------+------------+---------------+---------------+-------------------+------------------+------------------+-----------------+--------------------+----------------------+----------------------+--------------------+----------+--------------------+--------------------+\n",
      "|game_id|competition_id|competition_type|season|             round|      date|home_club_id|away_club_id|home_club_goals|away_club_goals|          aggregate|home_club_position|away_club_position|   club_home_name|      club_away_name|home_club_manager_name|away_club_manager_name|             stadium|attendance|             referee|                 url|\n",
      "+-------+--------------+----------------+------+------------------+----------+------------+------------+---------------+---------------+-------------------+------------------+------------------+-----------------+--------------------+----------------------+----------------------+--------------------+----------+--------------------+--------------------+\n",
      "|2229332|           DFL|           other|  2012|             Final|2012-08-12|          27|          16|              2|              1|2023-05-06 02:01:00|                -1|                -1|Fc Bayern Munchen|   Borussia Dortmund|         Jupp Heynckes|          Jürgen Klopp|       Allianz Arena|     69000|      Michael Weiner|https://www.trans...|\n",
      "|2244388|           SUC|           other|  2012|     final 1st leg|2012-08-22|         131|         418|              3|              2|2023-05-06 03:02:00|                -1|                -1|     Fc Barcelona|         Real Madrid|         Tito Vilanova|         José Mourinho|    Spotify Camp Nou|     91728|   Carlos Clos Gómez|https://www.trans...|\n",
      "|2269557|           CDR|    domestic_cup|  2012| 4th round 2nd leg|2012-11-28|        3709|        4032|              0|              0|2023-05-06 00:00:00|                -1|                -1|        Fc Getafe|                null|           Luis García|      Claudio Barragán|Coliseum Alfonso ...|      2000|Pedro Jesús Pérez...|https://www.trans...|\n",
      "|2254432|           CDR|    domestic_cup|  2012|First Round Replay|2012-08-30|       21322|        7077|              1|              0|2023-05-06 01:00:00|                -1|                -1|             null|                null|    Pedro Buenaventura|                  Pato|           El Palmar|         0|Andrés Manuel Ceb...|https://www.trans...|\n",
      "|2221759|           DFB|    domestic_cup|  2012|       First Round|2012-08-20|         109|          27|              0|              4|2023-05-06 00:04:00|                -1|                -1|             null|   Fc Bayern Munchen|      Oscar Corrochano|         Jupp Heynckes|         Jahnstadion|     12500|      Guido Winkmann|https://www.trans...|\n",
      "|2211607|          NLSC|           other|  2012|             Final|2012-08-05|         383|         610|              4|              2|2023-05-06 04:02:00|                -1|                -1|    Psv Eindhoven|      Ajax Amsterdam|         Dick Advocaat|         Frank de Boer| Johan Cruijff ArenA|     50000|       Björn Kuipers|https://www.trans...|\n",
      "|2244655|          FRCH|           other|  2011|             Final|2012-07-28|         969|        1041|              4|              6|2023-05-06 04:06:00|                -1|                -1|  Montpellier Hsc|      Olympique Lyon|           René Girard|            Rémi Garde|                null|     15166|      Jorge Gonzalez|https://www.trans...|\n",
      "|2224956|           BE1| domestic_league|  2012|      30. Matchday|2013-03-16|        1411|        1184|              1|              5|2023-05-06 01:05:00|                 7|                 3|        Raec Mons|            Krc Genk|            Enzo Scifo|            Mario Been|Charles Tondreau ...|      3800|    Christof Dierick|https://www.trans...|\n",
      "|2250472|           NL1| domestic_league|  2012|      34. Matchday|2013-05-12|         200|        1304|              3|              0|2023-05-06 03:00:00|                 5|                12|       Fc Utrecht|     Heracles Almelo|           Jan Wouters|            Peter Bosz|\"Stadion \"\"Galgen...|     17125|     Jochem Kamphuis|https://www.trans...|\n",
      "|2250473|           NL1| domestic_league|  2012|      34. Matchday|2013-05-12|         467|         235|              1|              2|2023-05-06 01:02:00|                15|                14|     Nec Nijmegen|        Rkc Waalwijk|          Alex Pastoor|          Erwin Koeman|      Goffertstadion|     11600|      Eric Braamhaar|https://www.trans...|\n",
      "|2219794|          BESC|           other|  2011|             Final|2012-07-22|          58|         498|              3|              2|2023-05-06 03:02:00|                -1|                -1|   Rsc Anderlecht|         Ksc Lokeren|     John van den Brom|            Peter Maes|Constant Vanden S...|     14485|   Laurent Colemonts|https://www.trans...|\n",
      "|2231667|            L1| domestic_league|  2012|      34. Matchday|2013-05-18|          16|         533|              1|              2|2023-05-06 01:02:00|                 2|                16|Borussia Dortmund| Tsg 1899 Hoffenheim|          Jürgen Klopp|         Markus Gisdol|   SIGNAL IDUNA PARK|     80645|    Dr. Jochen Drees|https://www.trans...|\n",
      "|2231661|            L1| domestic_league|  2012|      34. Matchday|2013-05-18|          42|          38|              3|              0|2023-05-06 03:00:00|                 9|                17|      Hannover 96|  Fortuna Dusseldorf|          Mirko Slomka|         Norbert Meier|Heinz-von-Heiden-...|     49000|     Peter Gagelmann|https://www.trans...|\n",
      "|2504433|           NLP|    domestic_cup|  2012|       First Round|2012-08-22|        7474|       34455|              4|              1|2023-05-06 04:01:00|                -1|                -1|             null|                null|                  null|                  null|Sportpark Duinwet...|       400|    Jeroen Spinhoven|https://www.trans...|\n",
      "|2240524|           NLP|    domestic_cup|  2012|       First Round|2012-08-22|        2821|        2848|              4|              2|2023-05-06 04:02:00|                -1|                -1|             null|                null|          Misha Salden|          Frans Koenen|Sportpark Ter Specke|         0|          Rob Souwen|https://www.trans...|\n",
      "|2231660|            L1| domestic_league|  2012|      34. Matchday|2013-05-18|          41|          15|              0|              1|2023-05-06 00:01:00|                 7|                 3|     Hamburger Sv| Bayer 04 Leverkusen|         Thorsten Fink|    Sascha Lewandowski|    Volksparkstadion|     57000|      Wolfgang Stark|https://www.trans...|\n",
      "|2258403|          POCP|    domestic_cup|  2012|           Group D|2012-08-05|        3348|        7179|              0|              1|2023-05-06 00:01:00|                -1|                -1|             null|          Cd Tondela|        Professor Neca|         Vítor Paneira| Estádio CD Trofense|       790|       Bruno Esteves|https://www.trans...|\n",
      "|2231658|            L1| domestic_league|  2012|      34. Matchday|2013-05-18|          60|          33|              1|              2|2023-05-06 01:02:00|                 5|                 4|      Sc Freiburg|       Fc Schalke 04|     Christian Streich|           Jens Keller|      Dreisamstadion|     24000|     Dr. Felix Brych|https://www.trans...|\n",
      "|2231662|            L1| domestic_league|  2012|      34. Matchday|2013-05-18|          79|          39|              2|              2|2023-05-06 02:02:00|                12|                13|    Vfb Stuttgart|      1 Fsv Mainz 05|        Bruno Labbadia|         Thomas Tuchel| Mercedes-Benz Arena|     51020|      Michael Weiner|https://www.trans...|\n",
      "|2231654|            L1| domestic_league|  2012|      34. Matchday|2013-05-18|         167|          65|              3|              1|2023-05-06 03:01:00|                15|                18|      Fc Augsburg|Spvgg Greuther Furth|      Markus Weinzierl|          Frank Kramer|           WWK ARENA|     30112|         Tobias Welz|https://www.trans...|\n",
      "+-------+--------------+----------------+------+------------------+----------+------------+------------+---------------+---------------+-------------------+------------------+------------------+-----------------+--------------------+----------------------+----------------------+--------------------+----------+--------------------+--------------------+\n",
      "only showing top 20 rows\n",
      "\n"
     ]
    }
   ],
   "source": [
    "#print number of rows for each dataset\n",
    "print(\"Number of rows: \", df_appearances.count())\n",
    "print(\"Number of rows: \", df_club_games.count())\n",
    "print(\"Number of rows: \", df_clubs.count())\n",
    "print(\"Number of rows: \", df_competitions.count())\n",
    "print(\"Number of rows: \", df_game_events.count())\n",
    "print(\"Number of rows: \", df_games.count())\n",
    "print(\"Number of rows: \", df_player_valutations.count())\n",
    "print(\"Number of rows: \", df_players.count())\n",
    "\n",
    "df_appearances.printSchema()\n",
    "df_game_events.printSchema()\n",
    "df_games.printSchema()\n",
    "\n",
    "df_appearances.show()\n",
    "df_game_events.show()\n",
    "df_games.show()\n"
   ]
  },
  {
   "attachments": {},
   "cell_type": "markdown",
   "metadata": {},
   "source": [
    "1 - unire players e appearances\n",
    "2 - aggiungere la media punti per partita dei club per cui ha giocato in quell'anno\n",
    "3 - aggiungere l'ultimo valore di mercato ottenuto in anno (player_valuations)\n",
    "\n",
    "PRENDERE IN CONSIDERAZIONE LA POSSIBILITà DI ELIMINARE TOTALMENTE QUELLO CHE è SUCCESSO NEL 2023."
   ]
  },
  {
   "cell_type": "code",
   "execution_count": 10,
   "metadata": {},
   "outputs": [],
   "source": [
    "# join players and appearances\n",
    "df_players_appearances = df_players.join(df_appearances, [\"player_id\"], how='inner')"
   ]
  },
  {
   "cell_type": "code",
   "execution_count": 11,
   "metadata": {},
   "outputs": [
    {
     "name": "stdout",
     "output_type": "stream",
     "text": [
      "+---------+--------------------+---------------+-----------------+----------------------+-----------------+-------------+-------------+--------+--------------+-----+------------+-------------------+---------------------------+----------+------------------------+------------------------------------+----------+------------+--------------------+--------------------+-----------+--------------------+-------------+-------+--------------+----------------------+----------+--------------------+--------------+------------+---------+-----+-------+--------------+\n",
      "|player_id|                name|current_club_id|current_club_name|country_of_citizenship| country_of_birth|city_of_birth|date_of_birth|position|  sub_position| foot|height_in_cm|market_value_in_eur|highest_market_value_in_eur|agent_name|contract_expiration_date|current_club_domestic_competition_id|first_name|   last_name|         player_code|           image_url|last_season|                 url|appearance_id|game_id|player_club_id|player_current_club_id|      date|         player_name|competition_id|yellow_cards|red_cards|goals|assists|minutes_played|\n",
      "+---------+--------------------+---------------+-----------------+----------------------+-----------------+-------------+-------------+--------+--------------+-----+------------+-------------------+---------------------------+----------+------------------------+------------------------------------+----------+------------+--------------------+--------------------+-----------+--------------------+-------------+-------+--------------+----------------------+----------+--------------------+--------------+------------+---------+-----+-------+--------------+\n",
      "|    52453|       Haris Handzic|          28095|           Fk Ufa|    Bosnia-Herzegovina|Jugoslawien (SFR)|   Sarajevo  |   1990-06-20|  Attack|Centre-Forward| Left|         191|            75000.0|                   700000.0|      null|              2023-06-30|                                 RU1|     Haris|     Handzic|       haris-handzic|https://img.a.tra...|       2015|https://www.trans...|2483937_52453|2483937|         28095|                 28095|2014-08-08|       Haris Handzic|           RU1|           0|        0|    0|      0|            90|\n",
      "|    67064|Felicio Brown Forbes|           4128|       Amkar Perm|            Costa Rica|          Germany|     Berlin  |   1991-08-28|  Attack|Centre-Forward|Right|         189|           300000.0|                   700000.0|      null|                    null|                                 RU1|   Felicio|Brown Forbes|felicio-brown-forbes|https://img.a.tra...|       2017|https://www.trans...|2479929_67064|2479929|         28095|                  4128|2014-08-03|Felicio Brown Forbes|           RU1|           0|        0|    0|      0|            90|\n",
      "|    67064|Felicio Brown Forbes|           4128|       Amkar Perm|            Costa Rica|          Germany|     Berlin  |   1991-08-28|  Attack|Centre-Forward|Right|         189|           300000.0|                   700000.0|      null|                    null|                                 RU1|   Felicio|Brown Forbes|felicio-brown-forbes|https://img.a.tra...|       2017|https://www.trans...|2483937_67064|2483937|         28095|                  4128|2014-08-08|Felicio Brown Forbes|           RU1|           0|        0|    0|      0|            90|\n",
      "|    67064|Felicio Brown Forbes|           4128|       Amkar Perm|            Costa Rica|          Germany|     Berlin  |   1991-08-28|  Attack|Centre-Forward|Right|         189|           300000.0|                   700000.0|      null|                    null|                                 RU1|   Felicio|Brown Forbes|felicio-brown-forbes|https://img.a.tra...|       2017|https://www.trans...|2484582_67064|2484582|         28095|                  4128|2014-08-13|Felicio Brown Forbes|           RU1|           0|        0|    0|      0|            55|\n",
      "|    67064|Felicio Brown Forbes|           4128|       Amkar Perm|            Costa Rica|          Germany|     Berlin  |   1991-08-28|  Attack|Centre-Forward|Right|         189|           300000.0|                   700000.0|      null|                    null|                                 RU1|   Felicio|Brown Forbes|felicio-brown-forbes|https://img.a.tra...|       2017|https://www.trans...|2485965_67064|2485965|         28095|                  4128|2014-08-16|Felicio Brown Forbes|           RU1|           0|        0|    0|      0|            90|\n",
      "|    67064|Felicio Brown Forbes|           4128|       Amkar Perm|            Costa Rica|          Germany|     Berlin  |   1991-08-28|  Attack|Centre-Forward|Right|         189|           300000.0|                   700000.0|      null|                    null|                                 RU1|   Felicio|Brown Forbes|felicio-brown-forbes|https://img.a.tra...|       2017|https://www.trans...|2487345_67064|2487345|         28095|                  4128|2014-08-23|Felicio Brown Forbes|           RU1|           1|        0|    0|      0|            90|\n",
      "|    67064|Felicio Brown Forbes|           4128|       Amkar Perm|            Costa Rica|          Germany|     Berlin  |   1991-08-28|  Attack|Centre-Forward|Right|         189|           300000.0|                   700000.0|      null|                    null|                                 RU1|   Felicio|Brown Forbes|felicio-brown-forbes|https://img.a.tra...|       2017|https://www.trans...|2498464_67064|2498464|         28095|                  4128|2014-09-20|Felicio Brown Forbes|           RU1|           0|        0|    0|      0|            90|\n",
      "|    67064|Felicio Brown Forbes|           4128|       Amkar Perm|            Costa Rica|          Germany|     Berlin  |   1991-08-28|  Attack|Centre-Forward|Right|         189|           300000.0|                   700000.0|      null|                    null|                                 RU1|   Felicio|Brown Forbes|felicio-brown-forbes|https://img.a.tra...|       2017|https://www.trans...|2500260_67064|2500260|         28095|                  4128|2014-09-27|Felicio Brown Forbes|           RU1|           0|        0|    0|      1|            19|\n",
      "|    67064|Felicio Brown Forbes|           4128|       Amkar Perm|            Costa Rica|          Germany|     Berlin  |   1991-08-28|  Attack|Centre-Forward|Right|         189|           300000.0|                   700000.0|      null|                    null|                                 RU1|   Felicio|Brown Forbes|felicio-brown-forbes|https://img.a.tra...|       2017|https://www.trans...|2506733_67064|2506733|         28095|                  4128|2014-10-26|Felicio Brown Forbes|           RU1|           1|        0|    1|      0|            90|\n",
      "|    67064|Felicio Brown Forbes|           4128|       Amkar Perm|            Costa Rica|          Germany|     Berlin  |   1991-08-28|  Attack|Centre-Forward|Right|         189|           300000.0|                   700000.0|      null|                    null|                                 RU1|   Felicio|Brown Forbes|felicio-brown-forbes|https://img.a.tra...|       2017|https://www.trans...|2508366_67064|2508366|         28095|                  4128|2014-11-03|Felicio Brown Forbes|           RU1|           0|        0|    0|      0|             2|\n",
      "|    67064|Felicio Brown Forbes|           4128|       Amkar Perm|            Costa Rica|          Germany|     Berlin  |   1991-08-28|  Attack|Centre-Forward|Right|         189|           300000.0|                   700000.0|      null|                    null|                                 RU1|   Felicio|Brown Forbes|felicio-brown-forbes|https://img.a.tra...|       2017|https://www.trans...|2493717_67064|2493717|         28095|                  4128|2014-09-24|Felicio Brown Forbes|           RUP|           0|        0|    0|      0|            65|\n",
      "|    98558|         Anton Kilin|          41201|       Pfk Tambov|                Russia|            UdSSR|    Izhevsk  |   1990-11-14|  Attack|  Right Winger|Right|         169|           300000.0|                   700000.0|       APS|              2023-06-30|                                 RU1|     Anton|       Kilin|         anton-kilin|https://img.a.tra...|       2020|https://www.trans...|2498464_98558|2498464|         28095|                 41201|2014-09-20|         Anton Kilin|           RU1|           0|        0|    0|      0|            90|\n",
      "|    36227|     Igor Shevchenko|           3729|     Arsenal Tula|                Russia|            UdSSR|     Samara  |   1985-02-02|  Attack|  Right Winger|Right|         180|               null|                   725000.0|       ASA|                    null|                                 RU1|      Igor|  Shevchenko|     igor-shevchenko|https://img.a.tra...|       2017|https://www.trans...|2479927_36227|2479927|          1186|                  3729|2014-08-02|     Igor Shevchenko|           RU1|           1|        0|    0|      0|            45|\n",
      "|    52453|       Haris Handzic|          28095|           Fk Ufa|    Bosnia-Herzegovina|Jugoslawien (SFR)|   Sarajevo  |   1990-06-20|  Attack|Centre-Forward| Left|         191|            75000.0|                   700000.0|      null|              2023-06-30|                                 RU1|     Haris|     Handzic|       haris-handzic|https://img.a.tra...|       2015|https://www.trans...|2484582_52453|2484582|         28095|                 28095|2014-08-13|       Haris Handzic|           RU1|           0|        0|    0|      0|            90|\n",
      "|    52453|       Haris Handzic|          28095|           Fk Ufa|    Bosnia-Herzegovina|Jugoslawien (SFR)|   Sarajevo  |   1990-06-20|  Attack|Centre-Forward| Left|         191|            75000.0|                   700000.0|      null|              2023-06-30|                                 RU1|     Haris|     Handzic|       haris-handzic|https://img.a.tra...|       2015|https://www.trans...|2485965_52453|2485965|         28095|                 28095|2014-08-16|       Haris Handzic|           RU1|           0|        0|    0|      0|            45|\n",
      "|    52453|       Haris Handzic|          28095|           Fk Ufa|    Bosnia-Herzegovina|Jugoslawien (SFR)|   Sarajevo  |   1990-06-20|  Attack|Centre-Forward| Left|         191|            75000.0|                   700000.0|      null|              2023-06-30|                                 RU1|     Haris|     Handzic|       haris-handzic|https://img.a.tra...|       2015|https://www.trans...|2487345_52453|2487345|         28095|                 28095|2014-08-23|       Haris Handzic|           RU1|           0|        0|    0|      0|            53|\n",
      "|    52453|       Haris Handzic|          28095|           Fk Ufa|    Bosnia-Herzegovina|Jugoslawien (SFR)|   Sarajevo  |   1990-06-20|  Attack|Centre-Forward| Left|         191|            75000.0|                   700000.0|      null|              2023-06-30|                                 RU1|     Haris|     Handzic|       haris-handzic|https://img.a.tra...|       2015|https://www.trans...|2489341_52453|2489341|         28095|                 28095|2014-08-31|       Haris Handzic|           RU1|           0|        0|    0|      0|            35|\n",
      "|    52453|       Haris Handzic|          28095|           Fk Ufa|    Bosnia-Herzegovina|Jugoslawien (SFR)|   Sarajevo  |   1990-06-20|  Attack|Centre-Forward| Left|         191|            75000.0|                   700000.0|      null|              2023-06-30|                                 RU1|     Haris|     Handzic|       haris-handzic|https://img.a.tra...|       2015|https://www.trans...|2493788_52453|2493788|         28095|                 28095|2014-09-14|       Haris Handzic|           RU1|           0|        0|    0|      1|            65|\n",
      "|    52453|       Haris Handzic|          28095|           Fk Ufa|    Bosnia-Herzegovina|Jugoslawien (SFR)|   Sarajevo  |   1990-06-20|  Attack|Centre-Forward| Left|         191|            75000.0|                   700000.0|      null|              2023-06-30|                                 RU1|     Haris|     Handzic|       haris-handzic|https://img.a.tra...|       2015|https://www.trans...|2498464_52453|2498464|         28095|                 28095|2014-09-20|       Haris Handzic|           RU1|           0|        0|    0|      0|            19|\n",
      "|    52453|       Haris Handzic|          28095|           Fk Ufa|    Bosnia-Herzegovina|Jugoslawien (SFR)|   Sarajevo  |   1990-06-20|  Attack|Centre-Forward| Left|         191|            75000.0|                   700000.0|      null|              2023-06-30|                                 RU1|     Haris|     Handzic|       haris-handzic|https://img.a.tra...|       2015|https://www.trans...|2500260_52453|2500260|         28095|                 28095|2014-09-27|       Haris Handzic|           RU1|           0|        0|    1|      0|            86|\n",
      "+---------+--------------------+---------------+-----------------+----------------------+-----------------+-------------+-------------+--------+--------------+-----+------------+-------------------+---------------------------+----------+------------------------+------------------------------------+----------+------------+--------------------+--------------------+-----------+--------------------+-------------+-------+--------------+----------------------+----------+--------------------+--------------+------------+---------+-----+-------+--------------+\n",
      "only showing top 20 rows\n",
      "\n"
     ]
    }
   ],
   "source": [
    "df_players_appearances.show()"
   ]
  },
  {
   "cell_type": "code",
   "execution_count": 12,
   "metadata": {},
   "outputs": [],
   "source": [
    "#aggiungere a df_players_appearances la colonna year che contiene solo l'anno della feature date\n",
    "df_players_appearances = df_players_appearances.withColumn(\"year\", year(df_players_appearances.date))\n",
    "#aggiungere a df_players_appearances la colonna month che contiene solo il mese della feature date\n",
    "df_players_appearances = df_players_appearances.withColumn(\"month\", month(df_players_appearances.date))\n"
   ]
  },
  {
   "cell_type": "code",
   "execution_count": 13,
   "metadata": {},
   "outputs": [
    {
     "name": "stdout",
     "output_type": "stream",
     "text": [
      "+---------+-------------+---------------+-----------------+----------------------+----------------+-----------------+-------------+--------+------------+----+------------+-------------------+---------------------------+----------+------------------------+------------------------------------+----------+-------------+-------------+--------------------+-----------+--------------------+--------------+-------+--------------+----------------------+----------+-------------+--------------+------------+---------+-----+-------+--------------+----+-----+\n",
      "|player_id|         name|current_club_id|current_club_name|country_of_citizenship|country_of_birth|    city_of_birth|date_of_birth|position|sub_position|foot|height_in_cm|market_value_in_eur|highest_market_value_in_eur|agent_name|contract_expiration_date|current_club_domestic_competition_id|first_name|    last_name|  player_code|           image_url|last_season|                 url| appearance_id|game_id|player_club_id|player_current_club_id|      date|  player_name|competition_id|yellow_cards|red_cards|goals|assists|minutes_played|year|month|\n",
      "+---------+-------------+---------------+-----------------+----------------------+----------------+-----------------+-------------+--------+------------+----+------------+-------------------+---------------------------+----------+------------------------+------------------------------------+----------+-------------+-------------+--------------------+-----------+--------------------+--------------+-------+--------------+----------------------+----------+-------------+--------------+------------+---------+-----+-------+--------------+----+-----+\n",
      "|   148455|Mohamed Salah|             31|     Fc Liverpool|                 Egypt|           Egypt|Nagrig, Basyoun  |   1992-06-15|  Attack|Right Winger|Left|         175|              7.0E7|                      1.5E8|      null|              2025-06-30|                                 GB1|      null|Mohamed Salah|mohamed-salah|https://img.a.tra...|       2022|https://www.trans...|2495298_148455|2495298|           631|                    31|2014-09-30|Mohamed Salah|            CL|           0|        0|    0|      0|             6|2014|    9|\n",
      "|   148455|Mohamed Salah|             31|     Fc Liverpool|                 Egypt|           Egypt|Nagrig, Basyoun  |   1992-06-15|  Attack|Right Winger|Left|         175|              7.0E7|                      1.5E8|      null|              2025-06-30|                                 GB1|      null|Mohamed Salah|mohamed-salah|https://img.a.tra...|       2022|https://www.trans...|2495371_148455|2495371|           631|                    31|2014-12-10|Mohamed Salah|            CL|           0|        0|    0|      0|            71|2014|   12|\n",
      "|   148455|Mohamed Salah|             31|     Fc Liverpool|                 Egypt|           Egypt|Nagrig, Basyoun  |   1992-06-15|  Attack|Right Winger|Left|         175|              7.0E7|                      1.5E8|      null|              2025-06-30|                                 GB1|      null|Mohamed Salah|mohamed-salah|https://img.a.tra...|       2022|https://www.trans...|2517542_148455|2517542|           430|                    31|2015-02-19|Mohamed Salah|            EL|           0|        0|    0|      0|            90|2015|    2|\n",
      "|   148455|Mohamed Salah|             31|     Fc Liverpool|                 Egypt|           Egypt|Nagrig, Basyoun  |   1992-06-15|  Attack|Right Winger|Left|         175|              7.0E7|                      1.5E8|      null|              2025-06-30|                                 GB1|      null|Mohamed Salah|mohamed-salah|https://img.a.tra...|       2022|https://www.trans...|2531141_148455|2531141|           430|                    31|2015-02-26|Mohamed Salah|            EL|           1|        0|    1|      0|            90|2015|    2|\n",
      "|   148455|Mohamed Salah|             31|     Fc Liverpool|                 Egypt|           Egypt|Nagrig, Basyoun  |   1992-06-15|  Attack|Right Winger|Left|         175|              7.0E7|                      1.5E8|      null|              2025-06-30|                                 GB1|      null|Mohamed Salah|mohamed-salah|https://img.a.tra...|       2022|https://www.trans...|2538962_148455|2538962|           430|                    31|2015-03-12|Mohamed Salah|            EL|           0|        0|    0|      1|            90|2015|    3|\n",
      "|   148455|Mohamed Salah|             31|     Fc Liverpool|                 Egypt|           Egypt|Nagrig, Basyoun  |   1992-06-15|  Attack|Right Winger|Left|         175|              7.0E7|                      1.5E8|      null|              2025-06-30|                                 GB1|      null|Mohamed Salah|mohamed-salah|https://img.a.tra...|       2022|https://www.trans...|2538970_148455|2538970|           430|                    31|2015-03-19|Mohamed Salah|            EL|           0|        0|    0|      0|            90|2015|    3|\n",
      "|   148455|Mohamed Salah|             31|     Fc Liverpool|                 Egypt|           Egypt|Nagrig, Basyoun  |   1992-06-15|  Attack|Right Winger|Left|         175|              7.0E7|                      1.5E8|      null|              2025-06-30|                                 GB1|      null|Mohamed Salah|mohamed-salah|https://img.a.tra...|       2022|https://www.trans...|2547355_148455|2547355|           430|                    31|2015-04-16|Mohamed Salah|            EL|           0|        0|    0|      0|            90|2015|    4|\n",
      "|   148455|Mohamed Salah|             31|     Fc Liverpool|                 Egypt|           Egypt|Nagrig, Basyoun  |   1992-06-15|  Attack|Right Winger|Left|         175|              7.0E7|                      1.5E8|      null|              2025-06-30|                                 GB1|      null|Mohamed Salah|mohamed-salah|https://img.a.tra...|       2022|https://www.trans...|2547387_148455|2547387|           430|                    31|2015-04-23|Mohamed Salah|            EL|           0|        0|    0|      0|            88|2015|    4|\n",
      "|   148455|Mohamed Salah|             31|     Fc Liverpool|                 Egypt|           Egypt|Nagrig, Basyoun  |   1992-06-15|  Attack|Right Winger|Left|         175|              7.0E7|                      1.5E8|      null|              2025-06-30|                                 GB1|      null|Mohamed Salah|mohamed-salah|https://img.a.tra...|       2022|https://www.trans...|2560696_148455|2560696|           430|                    31|2015-05-07|Mohamed Salah|            EL|           0|        0|    0|      0|            90|2015|    5|\n",
      "|   148455|Mohamed Salah|             31|     Fc Liverpool|                 Egypt|           Egypt|Nagrig, Basyoun  |   1992-06-15|  Attack|Right Winger|Left|         175|              7.0E7|                      1.5E8|      null|              2025-06-30|                                 GB1|      null|Mohamed Salah|mohamed-salah|https://img.a.tra...|       2022|https://www.trans...|2560698_148455|2560698|           430|                    31|2015-05-14|Mohamed Salah|            EL|           0|        0|    0|      0|            90|2015|    5|\n",
      "|   148455|Mohamed Salah|             31|     Fc Liverpool|                 Egypt|           Egypt|Nagrig, Basyoun  |   1992-06-15|  Attack|Right Winger|Left|         175|              7.0E7|                      1.5E8|      null|              2025-06-30|                                 GB1|      null|Mohamed Salah|mohamed-salah|https://img.a.tra...|       2022|https://www.trans...|2486500_148455|2486500|           631|                    31|2014-09-13|Mohamed Salah|           GB1|           0|        0|    0|      0|             8|2014|    9|\n",
      "|   148455|Mohamed Salah|             31|     Fc Liverpool|                 Egypt|           Egypt|Nagrig, Basyoun  |   1992-06-15|  Attack|Right Winger|Left|         175|              7.0E7|                      1.5E8|      null|              2025-06-30|                                 GB1|      null|Mohamed Salah|mohamed-salah|https://img.a.tra...|       2022|https://www.trans...|2486542_148455|2486542|           631|                    31|2014-10-18|Mohamed Salah|           GB1|           0|        0|    0|      0|             4|2014|   10|\n",
      "|   148455|Mohamed Salah|             31|     Fc Liverpool|                 Egypt|           Egypt|Nagrig, Basyoun  |   1992-06-15|  Attack|Right Winger|Left|         175|              7.0E7|                      1.5E8|      null|              2025-06-30|                                 GB1|      null|Mohamed Salah|mohamed-salah|https://img.a.tra...|       2022|https://www.trans...|2486667_148455|2486667|           631|                    31|2015-01-01|Mohamed Salah|           GB1|           0|        0|    0|      0|            18|2015|    1|\n",
      "|   148455|Mohamed Salah|             31|     Fc Liverpool|                 Egypt|           Egypt|Nagrig, Basyoun  |   1992-06-15|  Attack|Right Winger|Left|         175|              7.0E7|                      1.5E8|      null|              2025-06-30|                                 GB1|      null|Mohamed Salah|mohamed-salah|https://img.a.tra...|       2022|https://www.trans...|2478798_148455|2478798|           430|                    31|2015-02-08|Mohamed Salah|           IT1|           0|        0|    0|      0|            25|2015|    2|\n",
      "|   148455|Mohamed Salah|             31|     Fc Liverpool|                 Egypt|           Egypt|Nagrig, Basyoun  |   1992-06-15|  Attack|Right Winger|Left|         175|              7.0E7|                      1.5E8|      null|              2025-06-30|                                 GB1|      null|Mohamed Salah|mohamed-salah|https://img.a.tra...|       2022|https://www.trans...|2478810_148455|2478810|           430|                    31|2015-02-14|Mohamed Salah|           IT1|           0|        0|    1|      1|            82|2015|    2|\n",
      "|   148455|Mohamed Salah|             31|     Fc Liverpool|                 Egypt|           Egypt|Nagrig, Basyoun  |   1992-06-15|  Attack|Right Winger|Left|         175|              7.0E7|                      1.5E8|      null|              2025-06-30|                                 GB1|      null|Mohamed Salah|mohamed-salah|https://img.a.tra...|       2022|https://www.trans...|2478826_148455|2478826|           430|                    31|2015-02-22|Mohamed Salah|           IT1|           0|        0|    1|      0|            24|2015|    2|\n",
      "|   148455|Mohamed Salah|             31|     Fc Liverpool|                 Egypt|           Egypt|Nagrig, Basyoun  |   1992-06-15|  Attack|Right Winger|Left|         175|              7.0E7|                      1.5E8|      null|              2025-06-30|                                 GB1|      null|Mohamed Salah|mohamed-salah|https://img.a.tra...|       2022|https://www.trans...|2478829_148455|2478829|           430|                    31|2015-03-01|Mohamed Salah|           IT1|           0|        0|    1|      0|            47|2015|    3|\n",
      "|   148455|Mohamed Salah|             31|     Fc Liverpool|                 Egypt|           Egypt|Nagrig, Basyoun  |   1992-06-15|  Attack|Right Winger|Left|         175|              7.0E7|                      1.5E8|      null|              2025-06-30|                                 GB1|      null|Mohamed Salah|mohamed-salah|https://img.a.tra...|       2022|https://www.trans...|2478840_148455|2478840|           430|                    31|2015-03-09|Mohamed Salah|           IT1|           0|        0|    0|      0|            90|2015|    3|\n",
      "|   148455|Mohamed Salah|             31|     Fc Liverpool|                 Egypt|           Egypt|Nagrig, Basyoun  |   1992-06-15|  Attack|Right Winger|Left|         175|              7.0E7|                      1.5E8|      null|              2025-06-30|                                 GB1|      null|Mohamed Salah|mohamed-salah|https://img.a.tra...|       2022|https://www.trans...|2478860_148455|2478860|           430|                    31|2015-03-22|Mohamed Salah|           IT1|           0|        0|    0|      0|            21|2015|    3|\n",
      "|   148455|Mohamed Salah|             31|     Fc Liverpool|                 Egypt|           Egypt|Nagrig, Basyoun  |   1992-06-15|  Attack|Right Winger|Left|         175|              7.0E7|                      1.5E8|      null|              2025-06-30|                                 GB1|      null|Mohamed Salah|mohamed-salah|https://img.a.tra...|       2022|https://www.trans...|2478875_148455|2478875|           430|                    31|2015-04-04|Mohamed Salah|           IT1|           0|        0|    1|      0|            89|2015|    4|\n",
      "+---------+-------------+---------------+-----------------+----------------------+----------------+-----------------+-------------+--------+------------+----+------------+-------------------+---------------------------+----------+------------------------+------------------------------------+----------+-------------+-------------+--------------------+-----------+--------------------+--------------+-------+--------------+----------------------+----------+-------------+--------------+------------+---------+-----+-------+--------------+----+-----+\n",
      "only showing top 20 rows\n",
      "\n"
     ]
    }
   ],
   "source": [
    "df_players_appearances.filter(df_players_appearances.player_id == 148455).show()"
   ]
  },
  {
   "cell_type": "code",
   "execution_count": 14,
   "metadata": {},
   "outputs": [],
   "source": [
    "# drop da df_players_appearances le colonne current_club_id, current_club_name, city_of_birth, market_value_in_eur, contract_expiration_date, agent_name, current_club_domestic_competition_id, image_url, last_season, url, game_id, player_current_club_id\n",
    "df_players_appearances = df_players_appearances.drop(\"current_club_id\", \"date\", \"appearance_id\", \"highest_market_value_in_eur\", \"current_club_name\", \"city_of_birth\", \"market_value_in_eur\", \"contract_expiration_date\", \"agent_name\", \"current_club_domestic_competition_id\", \"image_url\", \"last_season\", \"url\", \"game_id\", \"player_current_club_id\")"
   ]
  },
  {
   "cell_type": "code",
   "execution_count": 15,
   "metadata": {},
   "outputs": [
    {
     "name": "stdout",
     "output_type": "stream",
     "text": [
      "+---------+-------------+----------------------+----------------+-------------+--------+------------+----+------------+----------+-------------+-------------+--------------+-------------+--------------+------------+---------+-----+-------+--------------+----+-----+\n",
      "|player_id|         name|country_of_citizenship|country_of_birth|date_of_birth|position|sub_position|foot|height_in_cm|first_name|    last_name|  player_code|player_club_id|  player_name|competition_id|yellow_cards|red_cards|goals|assists|minutes_played|year|month|\n",
      "+---------+-------------+----------------------+----------------+-------------+--------+------------+----+------------+----------+-------------+-------------+--------------+-------------+--------------+------------+---------+-----+-------+--------------+----+-----+\n",
      "|   148455|Mohamed Salah|                 Egypt|           Egypt|   1992-06-15|  Attack|Right Winger|Left|         175|      null|Mohamed Salah|mohamed-salah|           631|Mohamed Salah|            CL|           0|        0|    0|      0|             6|2014|    9|\n",
      "|   148455|Mohamed Salah|                 Egypt|           Egypt|   1992-06-15|  Attack|Right Winger|Left|         175|      null|Mohamed Salah|mohamed-salah|           631|Mohamed Salah|            CL|           0|        0|    0|      0|            71|2014|   12|\n",
      "|   148455|Mohamed Salah|                 Egypt|           Egypt|   1992-06-15|  Attack|Right Winger|Left|         175|      null|Mohamed Salah|mohamed-salah|           430|Mohamed Salah|            EL|           0|        0|    0|      0|            90|2015|    2|\n",
      "|   148455|Mohamed Salah|                 Egypt|           Egypt|   1992-06-15|  Attack|Right Winger|Left|         175|      null|Mohamed Salah|mohamed-salah|           430|Mohamed Salah|            EL|           1|        0|    1|      0|            90|2015|    2|\n",
      "|   148455|Mohamed Salah|                 Egypt|           Egypt|   1992-06-15|  Attack|Right Winger|Left|         175|      null|Mohamed Salah|mohamed-salah|           430|Mohamed Salah|            EL|           0|        0|    0|      1|            90|2015|    3|\n",
      "|   148455|Mohamed Salah|                 Egypt|           Egypt|   1992-06-15|  Attack|Right Winger|Left|         175|      null|Mohamed Salah|mohamed-salah|           430|Mohamed Salah|            EL|           0|        0|    0|      0|            90|2015|    3|\n",
      "|   148455|Mohamed Salah|                 Egypt|           Egypt|   1992-06-15|  Attack|Right Winger|Left|         175|      null|Mohamed Salah|mohamed-salah|           430|Mohamed Salah|            EL|           0|        0|    0|      0|            90|2015|    4|\n",
      "|   148455|Mohamed Salah|                 Egypt|           Egypt|   1992-06-15|  Attack|Right Winger|Left|         175|      null|Mohamed Salah|mohamed-salah|           430|Mohamed Salah|            EL|           0|        0|    0|      0|            88|2015|    4|\n",
      "|   148455|Mohamed Salah|                 Egypt|           Egypt|   1992-06-15|  Attack|Right Winger|Left|         175|      null|Mohamed Salah|mohamed-salah|           430|Mohamed Salah|            EL|           0|        0|    0|      0|            90|2015|    5|\n",
      "|   148455|Mohamed Salah|                 Egypt|           Egypt|   1992-06-15|  Attack|Right Winger|Left|         175|      null|Mohamed Salah|mohamed-salah|           430|Mohamed Salah|            EL|           0|        0|    0|      0|            90|2015|    5|\n",
      "|   148455|Mohamed Salah|                 Egypt|           Egypt|   1992-06-15|  Attack|Right Winger|Left|         175|      null|Mohamed Salah|mohamed-salah|           631|Mohamed Salah|           GB1|           0|        0|    0|      0|             8|2014|    9|\n",
      "|   148455|Mohamed Salah|                 Egypt|           Egypt|   1992-06-15|  Attack|Right Winger|Left|         175|      null|Mohamed Salah|mohamed-salah|           631|Mohamed Salah|           GB1|           0|        0|    0|      0|             4|2014|   10|\n",
      "|   148455|Mohamed Salah|                 Egypt|           Egypt|   1992-06-15|  Attack|Right Winger|Left|         175|      null|Mohamed Salah|mohamed-salah|           631|Mohamed Salah|           GB1|           0|        0|    0|      0|            18|2015|    1|\n",
      "|   148455|Mohamed Salah|                 Egypt|           Egypt|   1992-06-15|  Attack|Right Winger|Left|         175|      null|Mohamed Salah|mohamed-salah|           430|Mohamed Salah|           IT1|           0|        0|    0|      0|            25|2015|    2|\n",
      "|   148455|Mohamed Salah|                 Egypt|           Egypt|   1992-06-15|  Attack|Right Winger|Left|         175|      null|Mohamed Salah|mohamed-salah|           430|Mohamed Salah|           IT1|           0|        0|    1|      1|            82|2015|    2|\n",
      "|   148455|Mohamed Salah|                 Egypt|           Egypt|   1992-06-15|  Attack|Right Winger|Left|         175|      null|Mohamed Salah|mohamed-salah|           430|Mohamed Salah|           IT1|           0|        0|    1|      0|            24|2015|    2|\n",
      "|   148455|Mohamed Salah|                 Egypt|           Egypt|   1992-06-15|  Attack|Right Winger|Left|         175|      null|Mohamed Salah|mohamed-salah|           430|Mohamed Salah|           IT1|           0|        0|    1|      0|            47|2015|    3|\n",
      "|   148455|Mohamed Salah|                 Egypt|           Egypt|   1992-06-15|  Attack|Right Winger|Left|         175|      null|Mohamed Salah|mohamed-salah|           430|Mohamed Salah|           IT1|           0|        0|    0|      0|            90|2015|    3|\n",
      "|   148455|Mohamed Salah|                 Egypt|           Egypt|   1992-06-15|  Attack|Right Winger|Left|         175|      null|Mohamed Salah|mohamed-salah|           430|Mohamed Salah|           IT1|           0|        0|    0|      0|            21|2015|    3|\n",
      "|   148455|Mohamed Salah|                 Egypt|           Egypt|   1992-06-15|  Attack|Right Winger|Left|         175|      null|Mohamed Salah|mohamed-salah|           430|Mohamed Salah|           IT1|           0|        0|    1|      0|            89|2015|    4|\n",
      "+---------+-------------+----------------------+----------------+-------------+--------+------------+----+------------+----------+-------------+-------------+--------------+-------------+--------------+------------+---------+-----+-------+--------------+----+-----+\n",
      "only showing top 20 rows\n",
      "\n"
     ]
    }
   ],
   "source": [
    "df_players_appearances.filter(df_players_appearances.player_id == 148455).show()"
   ]
  },
  {
   "cell_type": "code",
   "execution_count": 50,
   "metadata": {},
   "outputs": [
    {
     "name": "stdout",
     "output_type": "stream",
     "text": [
      "414\n",
      "+--------------+\n",
      "|sum(red_cards)|\n",
      "+--------------+\n",
      "|             0|\n",
      "+--------------+\n",
      "\n"
     ]
    }
   ],
   "source": [
    "#TEST\n",
    "print(df_players_appearances.filter(df_players_appearances.player_id == 148455).count())\n",
    "df_players_appearances.filter(df_players_appearances.player_id == 148455).agg(sum(col(\"goals\"))).show()"
   ]
  },
  {
   "cell_type": "code",
   "execution_count": 17,
   "metadata": {},
   "outputs": [],
   "source": [
    "#aggiungere a df_players_appearances la colonna year che contiene solo l'anno della feature date\n",
    "df_player_valutations = df_player_valutations.withColumn(\"year_v\", year(df_player_valutations.date))\n",
    "#aggiungere a df_players_appearances la colonna month che contiene solo il mese della feature date\n",
    "df_player_valutations = df_player_valutations.withColumn(\"month_v\", month(df_player_valutations.date))\n"
   ]
  },
  {
   "cell_type": "code",
   "execution_count": 18,
   "metadata": {},
   "outputs": [
    {
     "name": "stdout",
     "output_type": "stream",
     "text": [
      "+----------+----------+----------+---------+---------------+-------------------+-----------------------------------+------+-------+\n",
      "|      date|  datetime|  dateweek|player_id|current_club_id|market_value_in_eur|player_club_domestic_competition_id|year_v|month_v|\n",
      "+----------+----------+----------+---------+---------------+-------------------+-----------------------------------+------+-------+\n",
      "|2013-08-07|2013-08-07|2013-08-05|    99946|           1095|             150000|                                FR1|  2013|      8|\n",
      "|2014-01-13|2014-01-13|2014-01-13|    99946|           1095|             100000|                                FR1|  2014|      1|\n",
      "|2010-01-29|2010-01-29|2010-01-25|    76948|            979|             125000|                                PO1|  2010|      1|\n",
      "|2010-08-20|2010-08-20|2010-08-16|    76948|            979|             250000|                                PO1|  2010|      8|\n",
      "|2011-01-17|2011-01-17|2011-01-17|    76948|            979|             350000|                                PO1|  2011|      1|\n",
      "|2011-08-22|2011-08-22|2011-08-22|    76948|            979|             375000|                                PO1|  2011|      8|\n",
      "|2012-02-16|2012-02-16|2012-02-13|    76948|            979|             475000|                                PO1|  2012|      2|\n",
      "|2014-08-15|2014-08-15|2014-08-11|    76948|            979|             600000|                                PO1|  2014|      8|\n",
      "|2014-10-16|2014-10-16|2014-10-13|    76948|            979|             600000|                                PO1|  2014|     10|\n",
      "|2016-12-21|2016-12-21|2016-12-19|    76948|            979|             550000|                                PO1|  2016|     12|\n",
      "|2017-02-22|2017-02-22|2017-02-20|    76948|            979|             450000|                                PO1|  2017|      2|\n",
      "|2018-05-24|2018-05-24|2018-05-21|    76948|            979|             400000|                                PO1|  2018|      5|\n",
      "|2019-03-03|2019-03-03|2019-02-25|    76948|            979|             250000|                                PO1|  2019|      3|\n",
      "|2020-11-01|2020-11-01|2020-10-26|    76948|            979|             150000|                                PO1|  2020|     11|\n",
      "|2021-04-10|2021-04-10|2021-04-05|    76948|            979|              75000|                                PO1|  2021|      4|\n",
      "|2021-09-10|2021-09-10|2021-09-06|    76948|            979|              75000|                                PO1|  2021|      9|\n",
      "|2022-01-01|2022-01-01|2021-12-27|    76948|            979|              75000|                                PO1|  2022|      1|\n",
      "|2022-06-10|2022-06-10|2022-06-06|    76948|            979|              75000|                                PO1|  2022|      6|\n",
      "|2022-11-12|2022-11-12|2022-11-07|    76948|            979|              25000|                                PO1|  2022|     11|\n",
      "|2011-07-21|2011-07-21|2011-07-18|   108372|             38|              25000|                                 L1|  2011|      7|\n",
      "+----------+----------+----------+---------+---------------+-------------------+-----------------------------------+------+-------+\n",
      "only showing top 20 rows\n",
      "\n"
     ]
    }
   ],
   "source": [
    "df_player_valutations.show()"
   ]
  },
  {
   "cell_type": "code",
   "execution_count": 19,
   "metadata": {},
   "outputs": [
    {
     "name": "stdout",
     "output_type": "stream",
     "text": [
      "+---------+-------------+----------------------+----------------+-------------+--------+------------+----+------------+----------+-------------+-------------+--------------+-------------+--------------+------------+---------+-----+-------+--------------+----+-----+----------+----------+----------+---------------+-------------------+-----------------------------------+------+-------+\n",
      "|player_id|         name|country_of_citizenship|country_of_birth|date_of_birth|position|sub_position|foot|height_in_cm|first_name|    last_name|  player_code|player_club_id|  player_name|competition_id|yellow_cards|red_cards|goals|assists|minutes_played|year|month|      date|  datetime|  dateweek|current_club_id|market_value_in_eur|player_club_domestic_competition_id|year_v|month_v|\n",
      "+---------+-------------+----------------------+----------------+-------------+--------+------------+----+------------+----------+-------------+-------------+--------------+-------------+--------------+------------+---------+-----+-------+--------------+----+-----+----------+----------+----------+---------------+-------------------+-----------------------------------+------+-------+\n",
      "|   148455|Mohamed Salah|                 Egypt|           Egypt|   1992-06-15|  Attack|Right Winger|Left|         175|      null|Mohamed Salah|mohamed-salah|           631|Mohamed Salah|            CL|           0|        0|    0|      0|             6|2014|    9|2010-06-06|2010-06-06|2010-05-31|             31|              25000|                                GB1|  2010|      6|\n",
      "|   148455|Mohamed Salah|                 Egypt|           Egypt|   1992-06-15|  Attack|Right Winger|Left|         175|      null|Mohamed Salah|mohamed-salah|           631|Mohamed Salah|            CL|           0|        0|    0|      0|             6|2014|    9|2011-01-01|2011-01-01|2010-12-27|             31|              25000|                                GB1|  2011|      1|\n",
      "|   148455|Mohamed Salah|                 Egypt|           Egypt|   1992-06-15|  Attack|Right Winger|Left|         175|      null|Mohamed Salah|mohamed-salah|           631|Mohamed Salah|            CL|           0|        0|    0|      0|             6|2014|    9|2011-05-09|2011-05-09|2011-05-09|             31|              50000|                                GB1|  2011|      5|\n",
      "|   148455|Mohamed Salah|                 Egypt|           Egypt|   1992-06-15|  Attack|Right Winger|Left|         175|      null|Mohamed Salah|mohamed-salah|           631|Mohamed Salah|            CL|           0|        0|    0|      0|             6|2014|    9|2011-07-14|2011-07-14|2011-07-11|             31|             150000|                                GB1|  2011|      7|\n",
      "|   148455|Mohamed Salah|                 Egypt|           Egypt|   1992-06-15|  Attack|Right Winger|Left|         175|      null|Mohamed Salah|mohamed-salah|           631|Mohamed Salah|            CL|           0|        0|    0|      0|             6|2014|    9|2011-12-25|2011-12-25|2011-12-19|             31|             300000|                                GB1|  2011|     12|\n",
      "|   148455|Mohamed Salah|                 Egypt|           Egypt|   1992-06-15|  Attack|Right Winger|Left|         175|      null|Mohamed Salah|mohamed-salah|           631|Mohamed Salah|            CL|           0|        0|    0|      0|             6|2014|    9|2012-05-27|2012-05-27|2012-05-21|             31|            1500000|                                GB1|  2012|      5|\n",
      "|   148455|Mohamed Salah|                 Egypt|           Egypt|   1992-06-15|  Attack|Right Winger|Left|         175|      null|Mohamed Salah|mohamed-salah|           631|Mohamed Salah|            CL|           0|        0|    0|      0|             6|2014|    9|2012-07-12|2012-07-12|2012-07-09|             31|            2500000|                                GB1|  2012|      7|\n",
      "|   148455|Mohamed Salah|                 Egypt|           Egypt|   1992-06-15|  Attack|Right Winger|Left|         175|      null|Mohamed Salah|mohamed-salah|           631|Mohamed Salah|            CL|           0|        0|    0|      0|             6|2014|    9|2012-09-05|2012-09-05|2012-09-03|             31|            4000000|                                GB1|  2012|      9|\n",
      "|   148455|Mohamed Salah|                 Egypt|           Egypt|   1992-06-15|  Attack|Right Winger|Left|         175|      null|Mohamed Salah|mohamed-salah|           631|Mohamed Salah|            CL|           0|        0|    0|      0|             6|2014|    9|2013-04-14|2013-04-14|2013-04-08|             31|            5000000|                                GB1|  2013|      4|\n",
      "|   148455|Mohamed Salah|                 Egypt|           Egypt|   1992-06-15|  Attack|Right Winger|Left|         175|      null|Mohamed Salah|mohamed-salah|           631|Mohamed Salah|            CL|           0|        0|    0|      0|             6|2014|    9|2013-06-17|2013-06-17|2013-06-17|             31|            6500000|                                GB1|  2013|      6|\n",
      "|   148455|Mohamed Salah|                 Egypt|           Egypt|   1992-06-15|  Attack|Right Winger|Left|         175|      null|Mohamed Salah|mohamed-salah|           631|Mohamed Salah|            CL|           0|        0|    0|      0|             6|2014|    9|2013-11-26|2013-11-26|2013-11-25|             31|            8500000|                                GB1|  2013|     11|\n",
      "|   148455|Mohamed Salah|                 Egypt|           Egypt|   1992-06-15|  Attack|Right Winger|Left|         175|      null|Mohamed Salah|mohamed-salah|           631|Mohamed Salah|            CL|           0|        0|    0|      0|             6|2014|    9|2014-02-05|2014-02-05|2014-02-03|             31|           13000000|                                GB1|  2014|      2|\n",
      "|   148455|Mohamed Salah|                 Egypt|           Egypt|   1992-06-15|  Attack|Right Winger|Left|         175|      null|Mohamed Salah|mohamed-salah|           631|Mohamed Salah|            CL|           0|        0|    0|      0|             6|2014|    9|2014-08-12|2014-08-12|2014-08-11|             31|           13000000|                                GB1|  2014|      8|\n",
      "|   148455|Mohamed Salah|                 Egypt|           Egypt|   1992-06-15|  Attack|Right Winger|Left|         175|      null|Mohamed Salah|mohamed-salah|           631|Mohamed Salah|            CL|           0|        0|    0|      0|             6|2014|    9|2015-02-12|2015-02-12|2015-02-09|             31|           10000000|                                GB1|  2015|      2|\n",
      "|   148455|Mohamed Salah|                 Egypt|           Egypt|   1992-06-15|  Attack|Right Winger|Left|         175|      null|Mohamed Salah|mohamed-salah|           631|Mohamed Salah|            CL|           0|        0|    0|      0|             6|2014|    9|2015-03-20|2015-03-20|2015-03-16|             31|           12000000|                                GB1|  2015|      3|\n",
      "|   148455|Mohamed Salah|                 Egypt|           Egypt|   1992-06-15|  Attack|Right Winger|Left|         175|      null|Mohamed Salah|mohamed-salah|           631|Mohamed Salah|            CL|           0|        0|    0|      0|             6|2014|    9|2015-07-01|2015-07-01|2015-06-29|             31|           18000000|                                GB1|  2015|      7|\n",
      "|   148455|Mohamed Salah|                 Egypt|           Egypt|   1992-06-15|  Attack|Right Winger|Left|         175|      null|Mohamed Salah|mohamed-salah|           631|Mohamed Salah|            CL|           0|        0|    0|      0|             6|2014|    9|2015-11-05|2015-11-05|2015-11-02|             31|           20000000|                                GB1|  2015|     11|\n",
      "|   148455|Mohamed Salah|                 Egypt|           Egypt|   1992-06-15|  Attack|Right Winger|Left|         175|      null|Mohamed Salah|mohamed-salah|           631|Mohamed Salah|            CL|           0|        0|    0|      0|             6|2014|    9|2016-01-04|2016-01-04|2016-01-04|             31|           20000000|                                GB1|  2016|      1|\n",
      "|   148455|Mohamed Salah|                 Egypt|           Egypt|   1992-06-15|  Attack|Right Winger|Left|         175|      null|Mohamed Salah|mohamed-salah|           631|Mohamed Salah|            CL|           0|        0|    0|      0|             6|2014|    9|2016-04-01|2016-04-01|2016-03-28|             31|           23000000|                                GB1|  2016|      4|\n",
      "|   148455|Mohamed Salah|                 Egypt|           Egypt|   1992-06-15|  Attack|Right Winger|Left|         175|      null|Mohamed Salah|mohamed-salah|           631|Mohamed Salah|            CL|           0|        0|    0|      0|             6|2014|    9|2016-07-15|2016-07-15|2016-07-11|             31|           27000000|                                GB1|  2016|      7|\n",
      "+---------+-------------+----------------------+----------------+-------------+--------+------------+----+------------+----------+-------------+-------------+--------------+-------------+--------------+------------+---------+-----+-------+--------------+----+-----+----------+----------+----------+---------------+-------------------+-----------------------------------+------+-------+\n",
      "only showing top 20 rows\n",
      "\n"
     ]
    }
   ],
   "source": [
    "#TABLE valutation: per ogni valutazione abbiamo la coppia (mese, anno) e vogliamo estrarre dalla TABLE presenze la somma delle presenze comprese tra (mese, anno-1 e mese,anno)\n",
    "# month, year di appearances\n",
    "# month_v, year_v di valutations\n",
    "from pyspark.sql.functions import year, month\n",
    "\n",
    "#inserire una colonna \"prev_year\" nella tabella player_appearances che contiene l'anno precedente a quello della colonna year\n",
    "#df_players_appearances = df_players_appearances.withColumn(\"prev_year\", df_players_appearances.year - 1)\n",
    "\n",
    "# Unisci A con B utilizzando la chiave (player_id, mese_anno)\n",
    "AB = df_players_appearances.join(df_player_valutations, [\"player_id\"], \"inner\")\n",
    "\n",
    "AB.filter(AB.player_id == 148455).show()"
   ]
  },
  {
   "cell_type": "code",
   "execution_count": 20,
   "metadata": {},
   "outputs": [
    {
     "name": "stdout",
     "output_type": "stream",
     "text": [
      "+---------+-------------+----------------------+----------------+-------------+--------+------------+----+------------+----------+-------------+-------------+--------------+-------------+--------------+------------+---------+-----+-------+--------------+----+-----+----------+----------+----------+---------------+-------------------+-----------------------------------+------+-------+\n",
      "|player_id|         name|country_of_citizenship|country_of_birth|date_of_birth|position|sub_position|foot|height_in_cm|first_name|    last_name|  player_code|player_club_id|  player_name|competition_id|yellow_cards|red_cards|goals|assists|minutes_played|year|month|      date|  datetime|  dateweek|current_club_id|market_value_in_eur|player_club_domestic_competition_id|year_v|month_v|\n",
      "+---------+-------------+----------------------+----------------+-------------+--------+------------+----+------------+----------+-------------+-------------+--------------+-------------+--------------+------------+---------+-----+-------+--------------+----+-----+----------+----------+----------+---------------+-------------------+-----------------------------------+------+-------+\n",
      "|   148455|Mohamed Salah|                 Egypt|           Egypt|   1992-06-15|  Attack|Right Winger|Left|         175|      null|Mohamed Salah|mohamed-salah|           631|Mohamed Salah|            CL|           0|        0|    0|      0|             6|2014|    9|2015-02-12|2015-02-12|2015-02-09|             31|           10000000|                                GB1|  2015|      2|\n",
      "|   148455|Mohamed Salah|                 Egypt|           Egypt|   1992-06-15|  Attack|Right Winger|Left|         175|      null|Mohamed Salah|mohamed-salah|           631|Mohamed Salah|            CL|           0|        0|    0|      0|             6|2014|    9|2015-03-20|2015-03-20|2015-03-16|             31|           12000000|                                GB1|  2015|      3|\n",
      "|   148455|Mohamed Salah|                 Egypt|           Egypt|   1992-06-15|  Attack|Right Winger|Left|         175|      null|Mohamed Salah|mohamed-salah|           631|Mohamed Salah|            CL|           0|        0|    0|      0|             6|2014|    9|2015-07-01|2015-07-01|2015-06-29|             31|           18000000|                                GB1|  2015|      7|\n",
      "|   148455|Mohamed Salah|                 Egypt|           Egypt|   1992-06-15|  Attack|Right Winger|Left|         175|      null|Mohamed Salah|mohamed-salah|           631|Mohamed Salah|            CL|           0|        0|    0|      0|            71|2014|   12|2015-02-12|2015-02-12|2015-02-09|             31|           10000000|                                GB1|  2015|      2|\n",
      "|   148455|Mohamed Salah|                 Egypt|           Egypt|   1992-06-15|  Attack|Right Winger|Left|         175|      null|Mohamed Salah|mohamed-salah|           631|Mohamed Salah|            CL|           0|        0|    0|      0|            71|2014|   12|2015-03-20|2015-03-20|2015-03-16|             31|           12000000|                                GB1|  2015|      3|\n",
      "|   148455|Mohamed Salah|                 Egypt|           Egypt|   1992-06-15|  Attack|Right Winger|Left|         175|      null|Mohamed Salah|mohamed-salah|           631|Mohamed Salah|            CL|           0|        0|    0|      0|            71|2014|   12|2015-07-01|2015-07-01|2015-06-29|             31|           18000000|                                GB1|  2015|      7|\n",
      "|   148455|Mohamed Salah|                 Egypt|           Egypt|   1992-06-15|  Attack|Right Winger|Left|         175|      null|Mohamed Salah|mohamed-salah|           631|Mohamed Salah|            CL|           0|        0|    0|      0|            71|2014|   12|2015-11-05|2015-11-05|2015-11-02|             31|           20000000|                                GB1|  2015|     11|\n",
      "|   148455|Mohamed Salah|                 Egypt|           Egypt|   1992-06-15|  Attack|Right Winger|Left|         175|      null|Mohamed Salah|mohamed-salah|           430|Mohamed Salah|            EL|           0|        0|    0|      0|            90|2015|    2|2015-02-12|2015-02-12|2015-02-09|             31|           10000000|                                GB1|  2015|      2|\n",
      "|   148455|Mohamed Salah|                 Egypt|           Egypt|   1992-06-15|  Attack|Right Winger|Left|         175|      null|Mohamed Salah|mohamed-salah|           430|Mohamed Salah|            EL|           0|        0|    0|      0|            90|2015|    2|2015-03-20|2015-03-20|2015-03-16|             31|           12000000|                                GB1|  2015|      3|\n",
      "|   148455|Mohamed Salah|                 Egypt|           Egypt|   1992-06-15|  Attack|Right Winger|Left|         175|      null|Mohamed Salah|mohamed-salah|           430|Mohamed Salah|            EL|           0|        0|    0|      0|            90|2015|    2|2015-07-01|2015-07-01|2015-06-29|             31|           18000000|                                GB1|  2015|      7|\n",
      "|   148455|Mohamed Salah|                 Egypt|           Egypt|   1992-06-15|  Attack|Right Winger|Left|         175|      null|Mohamed Salah|mohamed-salah|           430|Mohamed Salah|            EL|           0|        0|    0|      0|            90|2015|    2|2015-11-05|2015-11-05|2015-11-02|             31|           20000000|                                GB1|  2015|     11|\n",
      "|   148455|Mohamed Salah|                 Egypt|           Egypt|   1992-06-15|  Attack|Right Winger|Left|         175|      null|Mohamed Salah|mohamed-salah|           430|Mohamed Salah|            EL|           0|        0|    0|      0|            90|2015|    2|2016-01-04|2016-01-04|2016-01-04|             31|           20000000|                                GB1|  2016|      1|\n",
      "|   148455|Mohamed Salah|                 Egypt|           Egypt|   1992-06-15|  Attack|Right Winger|Left|         175|      null|Mohamed Salah|mohamed-salah|           430|Mohamed Salah|            EL|           1|        0|    1|      0|            90|2015|    2|2015-02-12|2015-02-12|2015-02-09|             31|           10000000|                                GB1|  2015|      2|\n",
      "|   148455|Mohamed Salah|                 Egypt|           Egypt|   1992-06-15|  Attack|Right Winger|Left|         175|      null|Mohamed Salah|mohamed-salah|           430|Mohamed Salah|            EL|           1|        0|    1|      0|            90|2015|    2|2015-03-20|2015-03-20|2015-03-16|             31|           12000000|                                GB1|  2015|      3|\n",
      "|   148455|Mohamed Salah|                 Egypt|           Egypt|   1992-06-15|  Attack|Right Winger|Left|         175|      null|Mohamed Salah|mohamed-salah|           430|Mohamed Salah|            EL|           1|        0|    1|      0|            90|2015|    2|2015-07-01|2015-07-01|2015-06-29|             31|           18000000|                                GB1|  2015|      7|\n",
      "|   148455|Mohamed Salah|                 Egypt|           Egypt|   1992-06-15|  Attack|Right Winger|Left|         175|      null|Mohamed Salah|mohamed-salah|           430|Mohamed Salah|            EL|           1|        0|    1|      0|            90|2015|    2|2015-11-05|2015-11-05|2015-11-02|             31|           20000000|                                GB1|  2015|     11|\n",
      "|   148455|Mohamed Salah|                 Egypt|           Egypt|   1992-06-15|  Attack|Right Winger|Left|         175|      null|Mohamed Salah|mohamed-salah|           430|Mohamed Salah|            EL|           1|        0|    1|      0|            90|2015|    2|2016-01-04|2016-01-04|2016-01-04|             31|           20000000|                                GB1|  2016|      1|\n",
      "|   148455|Mohamed Salah|                 Egypt|           Egypt|   1992-06-15|  Attack|Right Winger|Left|         175|      null|Mohamed Salah|mohamed-salah|           430|Mohamed Salah|            EL|           0|        0|    0|      1|            90|2015|    3|2015-03-20|2015-03-20|2015-03-16|             31|           12000000|                                GB1|  2015|      3|\n",
      "|   148455|Mohamed Salah|                 Egypt|           Egypt|   1992-06-15|  Attack|Right Winger|Left|         175|      null|Mohamed Salah|mohamed-salah|           430|Mohamed Salah|            EL|           0|        0|    0|      1|            90|2015|    3|2015-07-01|2015-07-01|2015-06-29|             31|           18000000|                                GB1|  2015|      7|\n",
      "|   148455|Mohamed Salah|                 Egypt|           Egypt|   1992-06-15|  Attack|Right Winger|Left|         175|      null|Mohamed Salah|mohamed-salah|           430|Mohamed Salah|            EL|           0|        0|    0|      1|            90|2015|    3|2015-11-05|2015-11-05|2015-11-02|             31|           20000000|                                GB1|  2015|     11|\n",
      "+---------+-------------+----------------------+----------------+-------------+--------+------------+----+------------+----------+-------------+-------------+--------------+-------------+--------------+------------+---------+-----+-------+--------------+----+-----+----------+----------+----------+---------------+-------------------+-----------------------------------+------+-------+\n",
      "only showing top 20 rows\n",
      "\n"
     ]
    },
    {
     "data": {
      "text/plain": [
       "'\\n# Aggrega B raggruppando per la chiave (player_id, mese_anno) e calcolando la somma delle colonne a, b e c\\nB_sum = B_filtered.groupBy(\"player_id\", \"mese_anno\").agg({\"a\": \"sum\", \"b\": \"sum\", \"c\": \"sum\"})\\n\\n# Unisci il risultato dell\\'aggregazione con A utilizzando la chiave (player_id, mese_anno)\\nA_with_sum = A.join(B_sum, [\"player_id\", \"mese_anno\"], \"left_outer\")\\n\\n# Crea una nuova colonna \"somma_abc\" in A utilizzando la somma delle colonne a, b e c di B\\nA_with_sum = A_with_sum.withColumn(\"somma_abc\", A_with_sum[\"sum(a)\"] + A_with_sum[\"sum(b)\"] + A_with_sum[\"sum(c)\"])\\n'"
      ]
     },
     "execution_count": 20,
     "metadata": {},
     "output_type": "execute_result"
    }
   ],
   "source": [
    "#Filtriamo le istanze tenendo solo quelle che rispettano i vincoli sulle date\n",
    "df_player_valutations_filtered = AB.filter(((AB[\"year\"] == AB[\"year_v\"]-1) & (AB[\"month\"] >= AB[\"month_v\"])) | ((AB[\"year\"] == AB[\"year_v\"]) & (AB[\"month\"] <= AB[\"month_v\"])))\n",
    "#mostra\n",
    "df_player_valutations_filtered.filter(df_player_valutations_filtered.player_id == 148455).show()"
   ]
  },
  {
   "cell_type": "code",
   "execution_count": null,
   "metadata": {},
   "outputs": [],
   "source": [
    "################# RIPRENDERE DA QUI #######################"
   ]
  },
  {
   "cell_type": "code",
   "execution_count": 22,
   "metadata": {},
   "outputs": [],
   "source": [
    "# drop da df_player_valutations_filtered le colonne date, datetime, current_club_id, player_club_domestic_competition_id, current_club_id, player_club_domestic_competition_id\n",
    "df_player_valutations_filtered = df_player_valutations_filtered.drop(\"date\", \"datetime\", \"current_club_id\", \"player_club_domestic_competition_id\", \"current_club_id\", \"player_club_domestic_competition_id\")"
   ]
  },
  {
   "cell_type": "code",
   "execution_count": 23,
   "metadata": {},
   "outputs": [
    {
     "name": "stdout",
     "output_type": "stream",
     "text": [
      "+---------+-------------+----------------------+----------------+-------------+--------+------------+----+------------+----------+-------------+-------------+--------------+-------------+--------------+------------+---------+-----+-------+--------------+----+-----+----------+-------------------+------+-------+\n",
      "|player_id|         name|country_of_citizenship|country_of_birth|date_of_birth|position|sub_position|foot|height_in_cm|first_name|    last_name|  player_code|player_club_id|  player_name|competition_id|yellow_cards|red_cards|goals|assists|minutes_played|year|month|  dateweek|market_value_in_eur|year_v|month_v|\n",
      "+---------+-------------+----------------------+----------------+-------------+--------+------------+----+------------+----------+-------------+-------------+--------------+-------------+--------------+------------+---------+-----+-------+--------------+----+-----+----------+-------------------+------+-------+\n",
      "|   148455|Mohamed Salah|                 Egypt|           Egypt|   1992-06-15|  Attack|Right Winger|Left|         175|      null|Mohamed Salah|mohamed-salah|           631|Mohamed Salah|            CL|           0|        0|    0|      0|             6|2014|    9|2015-02-09|           10000000|  2015|      2|\n",
      "|   148455|Mohamed Salah|                 Egypt|           Egypt|   1992-06-15|  Attack|Right Winger|Left|         175|      null|Mohamed Salah|mohamed-salah|           631|Mohamed Salah|            CL|           0|        0|    0|      0|             6|2014|    9|2015-03-16|           12000000|  2015|      3|\n",
      "|   148455|Mohamed Salah|                 Egypt|           Egypt|   1992-06-15|  Attack|Right Winger|Left|         175|      null|Mohamed Salah|mohamed-salah|           631|Mohamed Salah|            CL|           0|        0|    0|      0|             6|2014|    9|2015-06-29|           18000000|  2015|      7|\n",
      "|   148455|Mohamed Salah|                 Egypt|           Egypt|   1992-06-15|  Attack|Right Winger|Left|         175|      null|Mohamed Salah|mohamed-salah|           631|Mohamed Salah|            CL|           0|        0|    0|      0|            71|2014|   12|2015-02-09|           10000000|  2015|      2|\n",
      "|   148455|Mohamed Salah|                 Egypt|           Egypt|   1992-06-15|  Attack|Right Winger|Left|         175|      null|Mohamed Salah|mohamed-salah|           631|Mohamed Salah|            CL|           0|        0|    0|      0|            71|2014|   12|2015-03-16|           12000000|  2015|      3|\n",
      "|   148455|Mohamed Salah|                 Egypt|           Egypt|   1992-06-15|  Attack|Right Winger|Left|         175|      null|Mohamed Salah|mohamed-salah|           631|Mohamed Salah|            CL|           0|        0|    0|      0|            71|2014|   12|2015-06-29|           18000000|  2015|      7|\n",
      "|   148455|Mohamed Salah|                 Egypt|           Egypt|   1992-06-15|  Attack|Right Winger|Left|         175|      null|Mohamed Salah|mohamed-salah|           631|Mohamed Salah|            CL|           0|        0|    0|      0|            71|2014|   12|2015-11-02|           20000000|  2015|     11|\n",
      "|   148455|Mohamed Salah|                 Egypt|           Egypt|   1992-06-15|  Attack|Right Winger|Left|         175|      null|Mohamed Salah|mohamed-salah|           430|Mohamed Salah|            EL|           0|        0|    0|      0|            90|2015|    2|2015-02-09|           10000000|  2015|      2|\n",
      "|   148455|Mohamed Salah|                 Egypt|           Egypt|   1992-06-15|  Attack|Right Winger|Left|         175|      null|Mohamed Salah|mohamed-salah|           430|Mohamed Salah|            EL|           0|        0|    0|      0|            90|2015|    2|2015-03-16|           12000000|  2015|      3|\n",
      "|   148455|Mohamed Salah|                 Egypt|           Egypt|   1992-06-15|  Attack|Right Winger|Left|         175|      null|Mohamed Salah|mohamed-salah|           430|Mohamed Salah|            EL|           0|        0|    0|      0|            90|2015|    2|2015-06-29|           18000000|  2015|      7|\n",
      "|   148455|Mohamed Salah|                 Egypt|           Egypt|   1992-06-15|  Attack|Right Winger|Left|         175|      null|Mohamed Salah|mohamed-salah|           430|Mohamed Salah|            EL|           0|        0|    0|      0|            90|2015|    2|2015-11-02|           20000000|  2015|     11|\n",
      "|   148455|Mohamed Salah|                 Egypt|           Egypt|   1992-06-15|  Attack|Right Winger|Left|         175|      null|Mohamed Salah|mohamed-salah|           430|Mohamed Salah|            EL|           0|        0|    0|      0|            90|2015|    2|2016-01-04|           20000000|  2016|      1|\n",
      "|   148455|Mohamed Salah|                 Egypt|           Egypt|   1992-06-15|  Attack|Right Winger|Left|         175|      null|Mohamed Salah|mohamed-salah|           430|Mohamed Salah|            EL|           1|        0|    1|      0|            90|2015|    2|2015-02-09|           10000000|  2015|      2|\n",
      "|   148455|Mohamed Salah|                 Egypt|           Egypt|   1992-06-15|  Attack|Right Winger|Left|         175|      null|Mohamed Salah|mohamed-salah|           430|Mohamed Salah|            EL|           1|        0|    1|      0|            90|2015|    2|2015-03-16|           12000000|  2015|      3|\n",
      "|   148455|Mohamed Salah|                 Egypt|           Egypt|   1992-06-15|  Attack|Right Winger|Left|         175|      null|Mohamed Salah|mohamed-salah|           430|Mohamed Salah|            EL|           1|        0|    1|      0|            90|2015|    2|2015-06-29|           18000000|  2015|      7|\n",
      "|   148455|Mohamed Salah|                 Egypt|           Egypt|   1992-06-15|  Attack|Right Winger|Left|         175|      null|Mohamed Salah|mohamed-salah|           430|Mohamed Salah|            EL|           1|        0|    1|      0|            90|2015|    2|2015-11-02|           20000000|  2015|     11|\n",
      "|   148455|Mohamed Salah|                 Egypt|           Egypt|   1992-06-15|  Attack|Right Winger|Left|         175|      null|Mohamed Salah|mohamed-salah|           430|Mohamed Salah|            EL|           1|        0|    1|      0|            90|2015|    2|2016-01-04|           20000000|  2016|      1|\n",
      "|   148455|Mohamed Salah|                 Egypt|           Egypt|   1992-06-15|  Attack|Right Winger|Left|         175|      null|Mohamed Salah|mohamed-salah|           430|Mohamed Salah|            EL|           0|        0|    0|      1|            90|2015|    3|2015-03-16|           12000000|  2015|      3|\n",
      "|   148455|Mohamed Salah|                 Egypt|           Egypt|   1992-06-15|  Attack|Right Winger|Left|         175|      null|Mohamed Salah|mohamed-salah|           430|Mohamed Salah|            EL|           0|        0|    0|      1|            90|2015|    3|2015-06-29|           18000000|  2015|      7|\n",
      "|   148455|Mohamed Salah|                 Egypt|           Egypt|   1992-06-15|  Attack|Right Winger|Left|         175|      null|Mohamed Salah|mohamed-salah|           430|Mohamed Salah|            EL|           0|        0|    0|      1|            90|2015|    3|2015-11-02|           20000000|  2015|     11|\n",
      "+---------+-------------+----------------------+----------------+-------------+--------+------------+----+------------+----------+-------------+-------------+--------------+-------------+--------------+------------+---------+-----+-------+--------------+----+-----+----------+-------------------+------+-------+\n",
      "only showing top 20 rows\n",
      "\n"
     ]
    }
   ],
   "source": [
    "df_player_valutations_filtered.filter(df_player_valutations_filtered.player_id == 148455).show()"
   ]
  },
  {
   "cell_type": "code",
   "execution_count": 25,
   "metadata": {},
   "outputs": [
    {
     "name": "stdout",
     "output_type": "stream",
     "text": [
      "root\n",
      " |-- player_id: integer (nullable = true)\n",
      " |-- name: string (nullable = true)\n",
      " |-- country_of_citizenship: string (nullable = true)\n",
      " |-- country_of_birth: string (nullable = true)\n",
      " |-- date_of_birth: date (nullable = true)\n",
      " |-- position: string (nullable = true)\n",
      " |-- sub_position: string (nullable = true)\n",
      " |-- foot: string (nullable = true)\n",
      " |-- height_in_cm: integer (nullable = true)\n",
      " |-- first_name: string (nullable = true)\n",
      " |-- last_name: string (nullable = true)\n",
      " |-- player_code: string (nullable = true)\n",
      " |-- player_club_id: integer (nullable = true)\n",
      " |-- player_name: string (nullable = true)\n",
      " |-- competition_id: string (nullable = true)\n",
      " |-- yellow_cards: integer (nullable = true)\n",
      " |-- red_cards: integer (nullable = true)\n",
      " |-- goals: integer (nullable = true)\n",
      " |-- assists: integer (nullable = true)\n",
      " |-- minutes_played: integer (nullable = true)\n",
      " |-- year: integer (nullable = true)\n",
      " |-- month: integer (nullable = true)\n",
      " |-- dateweek: date (nullable = true)\n",
      " |-- market_value_in_eur: integer (nullable = true)\n",
      " |-- year_v: integer (nullable = true)\n",
      " |-- month_v: integer (nullable = true)\n",
      "\n"
     ]
    }
   ],
   "source": [
    "df_player_valutations_filtered.printSchema()"
   ]
  },
  {
   "cell_type": "code",
   "execution_count": 37,
   "metadata": {},
   "outputs": [],
   "source": [
    "from pyspark.sql.functions import sum, col\n",
    "\n",
    "df_new = df_player_valutations_filtered.groupBy(\"player_id\", \"competition_id\", \"player_club_id\", \"year_v\", \"month_v\", \"market_value_in_eur\").agg(\n",
    "    sum(col(\"yellow_cards\")).alias(\"yellow_cards\"),\n",
    "    sum(col(\"red_cards\")).alias(\"red_cards\"),\n",
    "    sum(col(\"goals\")).alias(\"goals\"),\n",
    "    sum(col(\"assists\")).alias(\"assists\"),\n",
    "    sum(col(\"minutes_played\")).alias(\"minutes_played\")\n",
    ").select(\"player_id\", \"competition_id\", \"player_club_id\", \"month_v\", \"year_v\", \"yellow_cards\", \"red_cards\", \"goals\", \"assists\", \"minutes_played\", \"market_value_in_eur\").distinct()"
   ]
  },
  {
   "cell_type": "code",
   "execution_count": 34,
   "metadata": {},
   "outputs": [
    {
     "name": "stdout",
     "output_type": "stream",
     "text": [
      "+---------+--------------+--------------+-------+------+------------+---------+-----+-------+--------------+-------------------+\n",
      "|player_id|competition_id|player_club_id|month_v|year_v|yellow_cards|red_cards|goals|assists|minutes_played|market_value_in_eur|\n",
      "+---------+--------------+--------------+-------+------+------------+---------+-----+-------+--------------+-------------------+\n",
      "|   148455|            CL|           631|      2|  2015|           0|        0|    0|      0|            77|           10000000|\n",
      "|   148455|            CL|           631|      3|  2015|           0|        0|    0|      0|            77|           12000000|\n",
      "|   148455|            CL|           631|      7|  2015|           0|        0|    0|      0|            77|           18000000|\n",
      "|   148455|            CL|           631|     11|  2015|           0|        0|    0|      0|            71|           20000000|\n",
      "|   148455|            EL|           430|      2|  2015|           1|        0|    1|      0|           180|           10000000|\n",
      "|   148455|            EL|           430|      3|  2015|           1|        0|    1|      1|           360|           12000000|\n",
      "|   148455|            EL|           430|      7|  2015|           1|        0|    1|      1|           718|           18000000|\n",
      "|   148455|            EL|           430|     11|  2015|           1|        0|    1|      1|           718|           20000000|\n",
      "|   148455|            EL|           430|      1|  2016|           1|        0|    1|      1|           718|           20000000|\n",
      "|   148455|            EL|           430|      4|  2016|           0|        0|    0|      0|           358|           23000000|\n",
      "|   148455|           GB1|           631|      2|  2015|           0|        0|    0|      0|            30|           10000000|\n",
      "|   148455|           GB1|           631|      3|  2015|           0|        0|    0|      0|            30|           12000000|\n",
      "|   148455|           GB1|           631|      7|  2015|           0|        0|    0|      0|            30|           18000000|\n",
      "|   148455|           GB1|           631|     11|  2015|           0|        0|    0|      0|            18|           20000000|\n",
      "|   148455|           GB1|           631|      1|  2016|           0|        0|    0|      0|            18|           20000000|\n",
      "|   148455|           IT1|           430|      2|  2015|           0|        0|    2|      1|           131|           10000000|\n",
      "|   148455|           IT1|           430|      3|  2015|           0|        0|    3|      1|           289|           12000000|\n",
      "|   148455|           IT1|           430|      7|  2015|           0|        0|    6|      3|           911|           18000000|\n",
      "|   148455|           IT1|           430|     11|  2015|           0|        0|    6|      3|           911|           20000000|\n",
      "|   148455|           IT1|           430|      1|  2016|           0|        0|    6|      3|           911|           20000000|\n",
      "|   148455|           IT1|           430|      4|  2016|           0|        0|    3|      2|           622|           23000000|\n",
      "|   148455|           CIT|           430|      3|  2015|           0|        0|    2|      0|            74|           12000000|\n",
      "|   148455|           CIT|           430|      7|  2015|           0|        0|    2|      0|           164|           18000000|\n",
      "|   148455|           CIT|           430|     11|  2015|           0|        0|    2|      0|           164|           20000000|\n",
      "|   148455|           CIT|           430|      1|  2016|           0|        0|    2|      0|           164|           20000000|\n",
      "|   148455|           CIT|           430|      4|  2016|           0|        0|    0|      0|            90|           23000000|\n",
      "|   148455|           FAC|           631|      2|  2015|           0|        0|    0|      1|            70|           10000000|\n",
      "|   148455|           FAC|           631|      3|  2015|           0|        0|    0|      1|            70|           12000000|\n",
      "|   148455|           FAC|           631|      7|  2015|           0|        0|    0|      1|            70|           18000000|\n",
      "|   148455|           FAC|           631|     11|  2015|           0|        0|    0|      1|            70|           20000000|\n",
      "|   148455|           FAC|           631|      1|  2016|           0|        0|    0|      1|            70|           20000000|\n",
      "|   148455|            CL|            12|     11|  2015|           0|        0|    1|      0|           332|           20000000|\n",
      "|   148455|            CL|            12|      1|  2016|           0|        0|    1|      0|           363|           20000000|\n",
      "|   148455|            CL|            12|      4|  2016|           0|        0|    1|      0|           543|           23000000|\n",
      "|   148455|            CL|            12|      7|  2016|           0|        0|    1|      0|           543|           27000000|\n",
      "|   148455|            CL|            12|      1|  2017|           0|        0|    0|      0|           180|           30000000|\n",
      "|   148455|           IT1|            12|     11|  2015|           2|        0|    5|      0|           829|           20000000|\n",
      "|   148455|           IT1|            12|      1|  2016|           2|        0|    5|      0|          1354|           20000000|\n",
      "|   148455|           IT1|            12|      4|  2016|           3|        0|   12|      6|          2507|           23000000|\n",
      "|   148455|           IT1|            12|      7|  2016|           3|        0|   14|      6|          2739|           27000000|\n",
      "|   148455|           IT1|            12|      1|  2017|           3|        0|   17|     10|          3037|           30000000|\n",
      "|   148455|           CIT|            12|      1|  2016|           0|        0|    0|      0|           120|           20000000|\n",
      "|   148455|           CIT|            12|      4|  2016|           0|        0|    0|      0|           120|           23000000|\n",
      "|   148455|           CIT|            12|      7|  2016|           0|        0|    0|      0|           120|           27000000|\n",
      "|   148455|           CLQ|            12|      1|  2017|           0|        0|    0|      0|           167|           30000000|\n",
      "|   148455|           CLQ|            12|      6|  2017|           0|        0|    0|      0|           167|           35000000|\n",
      "|   148455|            EL|            12|      1|  2017|           0|        0|    1|      0|           165|           30000000|\n",
      "|   148455|            EL|            12|      6|  2017|           0|        0|    2|      1|           373|           35000000|\n",
      "|   148455|            EL|            12|     10|  2017|           0|        0|    1|      1|           316|           40000000|\n",
      "|   148455|            EL|            12|      1|  2018|           0|        0|    1|      1|           208|           80000000|\n",
      "|   148455|           IT1|            12|      6|  2017|           2|        0|   15|     11|          2487|           35000000|\n",
      "|   148455|           IT1|            12|     10|  2017|           2|        0|   12|     10|          1992|           40000000|\n",
      "|   148455|           IT1|            12|      1|  2018|           0|        0|    7|      7|          1202|           80000000|\n",
      "|   148455|           IT1|            12|      5|  2018|           0|        0|    2|      2|           316|          150000000|\n",
      "|   148455|           CIT|            12|      6|  2017|           0|        0|    2|      0|           159|           35000000|\n",
      "|   148455|           CIT|            12|     10|  2017|           0|        0|    2|      0|           159|           40000000|\n",
      "|   148455|           CIT|            12|      1|  2018|           0|        0|    2|      0|           159|           80000000|\n",
      "|   148455|            CL|            31|     10|  2017|           0|        0|    3|      1|           236|           40000000|\n",
      "|   148455|            CL|            31|      1|  2018|           0|        0|    5|      1|           487|           80000000|\n",
      "|   148455|            CL|            31|      5|  2018|           0|        0|   10|      4|           929|          150000000|\n",
      "|   148455|            CL|            31|     12|  2018|           1|        0|    9|      3|          1050|          150000000|\n",
      "|   148455|           CLQ|            31|     10|  2017|           0|        0|    1|      0|           180|           40000000|\n",
      "|   148455|           CLQ|            31|      1|  2018|           0|        0|    1|      0|           180|           80000000|\n",
      "|   148455|           CLQ|            31|      5|  2018|           0|        0|    1|      0|           180|          150000000|\n",
      "|   148455|           GB1|            31|     10|  2017|           0|        0|    5|      2|           763|           40000000|\n",
      "|   148455|           GB1|            31|      1|  2018|           0|        0|   19|      6|          1856|           80000000|\n",
      "|   148455|           GB1|            31|      5|  2018|           1|        0|   32|     10|          2920|          150000000|\n",
      "|   148455|           GB1|            31|     12|  2018|           1|        0|   33|     16|          3543|          150000000|\n",
      "|   148455|           FAC|            31|      1|  2018|           0|        0|    1|      0|            90|           80000000|\n",
      "|   148455|           FAC|            31|      5|  2018|           0|        0|    1|      0|            90|          150000000|\n",
      "|   148455|           FAC|            31|     12|  2018|           0|        0|    1|      0|            90|          150000000|\n",
      "|   148455|            CL|            31|      6|  2019|           1|        0|    5|      2|          1058|          150000000|\n",
      "|   148455|            CL|            31|     12|  2019|           1|        0|    7|      4|          1170|          150000000|\n",
      "|   148455|            CL|            31|      4|  2020|           0|        0|    6|      3|          1092|          120000000|\n",
      "|   148455|           GB1|            31|      6|  2019|           1|        0|   22|     10|          3261|          150000000|\n",
      "|   148455|           GB1|            31|     12|  2019|           1|        0|   24|     10|          3496|          150000000|\n",
      "|   148455|           GB1|            31|      4|  2020|           2|        0|   21|      8|          2773|          120000000|\n",
      "|   148455|           FAC|            31|      6|  2019|           0|        0|    0|      0|            20|          150000000|\n",
      "|   148455|           FAC|            31|     12|  2019|           0|        0|    0|      0|            20|          150000000|\n",
      "|   148455|            CL|            31|     10|  2020|           0|        0|    5|      2|           732|          120000000|\n",
      "|   148455|            CL|            31|      3|  2021|           0|        0|    5|      1|           721|          110000000|\n",
      "|   148455|           USC|            31|     12|  2019|           0|        0|    1|      0|           120|          150000000|\n",
      "|   148455|           USC|            31|      4|  2020|           0|        0|    1|      0|           120|          120000000|\n",
      "|   148455|          KLUB|            31|     12|  2019|           1|        0|    0|      1|           210|          150000000|\n",
      "|   148455|          KLUB|            31|      4|  2020|           1|        0|    0|      1|           210|          120000000|\n",
      "|   148455|          KLUB|            31|     10|  2020|           1|        0|    0|      1|           210|          120000000|\n",
      "|   148455|           GB1|            31|     10|  2020|           1|        0|   22|      7|          2899|          120000000|\n",
      "|   148455|           GB1|            31|      3|  2021|           0|        0|   21|      7|          3074|          110000000|\n",
      "|   148455|           GB1|            31|      6|  2021|           0|        0|   25|      9|          3720|          100000000|\n",
      "|   148455|          GBCS|            31|     12|  2019|           0|        0|    1|      0|            90|          150000000|\n",
      "|   148455|          GBCS|            31|      4|  2020|           0|        0|    1|      0|            90|          120000000|\n",
      "|   148455|           FAC|            31|      4|  2020|           0|        0|    0|      0|            21|          120000000|\n",
      "|   148455|           FAC|            31|     10|  2020|           0|        0|    0|      0|            21|          120000000|\n",
      "|   148455|           FAC|            31|      3|  2021|           0|        0|    3|      0|           174|          110000000|\n",
      "|   148455|            CL|            31|      6|  2021|           0|        0|    6|      1|           781|          100000000|\n",
      "|   148455|            CL|            31|     12|  2021|           0|        0|   11|      0|          1005|          100000000|\n",
      "|   148455|           GB1|            31|     12|  2021|           1|        0|   29|     14|          3992|          100000000|\n",
      "|   148455|          GBCS|            31|     10|  2020|           0|        0|    0|      0|            90|          120000000|\n",
      "|   148455|          GBCS|            31|      3|  2021|           0|        0|    0|      0|            90|          110000000|\n",
      "|   148455|          GBCS|            31|      6|  2021|           0|        0|    0|      0|            90|          100000000|\n",
      "+---------+--------------+--------------+-------+------+------------+---------+-----+-------+--------------+-------------------+\n",
      "only showing top 100 rows\n",
      "\n"
     ]
    }
   ],
   "source": [
    "#df_player_valutations_filtered.filter(df_player_valutations_filtered.player_id == 148455).show()\n",
    "df_new.filter(df_new.player_id == 148455).show(100)"
   ]
  },
  {
   "cell_type": "code",
   "execution_count": 35,
   "metadata": {},
   "outputs": [
    {
     "name": "stdout",
     "output_type": "stream",
     "text": [
      "114\n",
      "+----------+\n",
      "|sum(goals)|\n",
      "+----------+\n",
      "|       574|\n",
      "+----------+\n",
      "\n"
     ]
    }
   ],
   "source": [
    "#TEST\n",
    "print(df_new.filter(df_new.player_id == 148455).count())\n",
    "df_new.filter(df_new.player_id == 148455).agg(sum(col(\"goals\"))).show()"
   ]
  },
  {
   "cell_type": "code",
   "execution_count": 38,
   "metadata": {},
   "outputs": [
    {
     "name": "stdout",
     "output_type": "stream",
     "text": [
      "+---------+------+-------+-------------------+------------------+----------------+------------+---------+-----+-------+--------------+\n",
      "|player_id|year_v|month_v|market_value_in_eur|    competition_id|  player_club_id|yellow_cards|red_cards|goals|assists|minutes_played|\n",
      "+---------+------+-------+-------------------+------------------+----------------+------------+---------+-----+-------+--------------+\n",
      "|       26|  2015|      2|            3000000|          [CL, L1]|            [16]|           0|        0|    0|      0|          2160|\n",
      "|       26|  2015|      7|            2000000|          [CL, L1]|            [16]|           0|        0|    0|      0|          2880|\n",
      "|       26|  2015|     10|            1000000| [CL, ELQ, L1, EL]|            [16]|           0|        0|    0|      0|          2880|\n",
      "|       26|  2016|      2|            1000000| [CL, ELQ, L1, EL]|            [16]|           0|        0|    0|      0|          2070|\n",
      "|       26|  2016|      7|            1000000|     [ELQ, L1, EL]|            [16]|           1|        0|    0|      0|          1260|\n",
      "|       26|  2017|      2|            1000000| [CL, DFB, L1, EL]|            [16]|           1|        0|    0|      0|          1470|\n",
      "|       26|  2017|      6|            1000000|     [CL, DFB, L1]|            [16]|           0|        0|    0|      0|          1020|\n",
      "|       26|  2017|     12|             750000|          [CL, L1]|            [16]|           0|        0|    0|      0|           631|\n",
      "|       65|  2014|      8|            3000000|             [FR1]|           [162]|           2|        0|    2|      1|           291|\n",
      "|       65|  2015|      1|            2500000|         [CL, FR1]|           [162]|           4|        0|    6|      2|          1508|\n",
      "|       65|  2015|      6|            1000000|         [CL, FR1]|           [162]|           4|        0|    8|      2|          2274|\n",
      "|       65|  2015|      9|            1000000|[CL, FR1, EL, GR1]|     [1091, 162]|           2|        0|    7|      1|          2108|\n",
      "|       65|  2016|      6|            1000000|    [GRP, EL, GR1]|          [1091]|           2|        1|    5|      0|          1150|\n",
      "|      597|  2014|      8|            1200000|             [TR1]|          [2293]|           0|        0|    0|      0|            90|\n",
      "|      597|  2015|      1|             900000|             [TR1]|          [2293]|           1|        0|    0|      2|          1157|\n",
      "|      597|  2015|      6|             750000|             [TR1]|     [2293, 820]|           1|        0|    2|      4|          2021|\n",
      "|      597|  2015|      9|             750000|    [CL, TR1, CLQ]|[713, 2293, 820]|           1|        0|    2|      4|          2140|\n",
      "|      597|  2015|     11|             500000|    [CL, TR1, CLQ]|[713, 2293, 820]|           1|        0|    2|      4|          1777|\n",
      "|      597|  2016|      4|             500000|    [CL, TR1, CLQ]|      [713, 820]|           1|        0|    1|      2|          1595|\n",
      "|      597|  2016|      7|             400000|    [CL, TR1, CLQ]|      [713, 820]|           1|        0|    0|      1|          1099|\n",
      "+---------+------+-------+-------------------+------------------+----------------+------------+---------+-----+-------+--------------+\n",
      "only showing top 20 rows\n",
      "\n"
     ]
    }
   ],
   "source": [
    "from pyspark.sql.functions import collect_set, sum\n",
    "\n",
    "# Raggruppare per (player_id, year) e raccogliere i valori unici di competition_id e player_club_id in liste\n",
    "df_grouped = df_new.groupBy(\"player_id\", \"year_v\", \"month_v\", \"market_value_in_eur\") \\\n",
    "              .agg(collect_set(\"competition_id\").alias(\"competition_id_list\"),\n",
    "                   collect_set(\"player_club_id\").alias(\"player_club_id_list\"))\n",
    "\n",
    "# Unire il dataframe originale con quello ottenuto al passaggio precedente sulla chiave (player_id, year)\n",
    "# e calcolare la somma delle colonne yellow_cards, red_cards, goals, assists e minutes_played raggruppando sulla nuova chiave (player_id, competition_id, year, player_club_id)\n",
    "df_result = df_new.join(df_grouped, [\"player_id\", \"year_v\", \"month_v\", \"market_value_in_eur\"]) \\\n",
    "              .groupBy(\"player_id\", \"competition_id\", \"month_v\", \"year_v\", \"player_club_id\", \"market_value_in_eur\") \\\n",
    "              .agg(sum(\"yellow_cards\").alias(\"yellow_cards\"),\n",
    "                   sum(\"red_cards\").alias(\"red_cards\"),\n",
    "                   sum(\"goals\").alias(\"goals\"),\n",
    "                   sum(\"assists\").alias(\"assists\"),\n",
    "                   sum(\"minutes_played\").alias(\"minutes_played\")) \\\n",
    "              .groupBy(\"player_id\", \"year_v\", \"month_v\", \"market_value_in_eur\") \\\n",
    "              .agg(collect_set(\"competition_id\").alias(\"competition_id\"),\n",
    "                   collect_set(\"player_club_id\").alias(\"player_club_id\"),\n",
    "                   sum(\"yellow_cards\").alias(\"yellow_cards\"),\n",
    "                   sum(\"red_cards\").alias(\"red_cards\"),\n",
    "                   sum(\"goals\").alias(\"goals\"),\n",
    "                   sum(\"assists\").alias(\"assists\"),\n",
    "                   sum(\"minutes_played\").alias(\"minutes_played\"))\n",
    "\n",
    "# Visualizza il risultato\n",
    "df_result.show()"
   ]
  },
  {
   "cell_type": "code",
   "execution_count": 39,
   "metadata": {},
   "outputs": [
    {
     "name": "stdout",
     "output_type": "stream",
     "text": [
      "+---------+------+-------+-------------------+--------------------+--------------+------------+---------+-----+-------+--------------+\n",
      "|player_id|year_v|month_v|market_value_in_eur|      competition_id|player_club_id|yellow_cards|red_cards|goals|assists|minutes_played|\n",
      "+---------+------+-------+-------------------+--------------------+--------------+------------+---------+-----+-------+--------------+\n",
      "|   148455|  2015|      2|           10000000|[CL, FAC, EL, IT1...|    [430, 631]|           1|        0|    3|      2|           488|\n",
      "|   148455|  2015|      3|           12000000|[CL, FAC, CIT, EL...|    [430, 631]|           1|        0|    6|      3|           900|\n",
      "|   148455|  2015|      7|           18000000|[CL, FAC, CIT, EL...|    [430, 631]|           1|        0|    9|      5|          1970|\n",
      "|   148455|  2015|     11|           20000000|[CL, FAC, CIT, EL...|[12, 430, 631]|           3|        0|   15|      5|          3113|\n",
      "|   148455|  2016|      1|           20000000|[CL, FAC, CIT, EL...|[12, 430, 631]|           3|        0|   15|      5|          3718|\n",
      "|   148455|  2016|      4|           23000000|  [CL, CIT, EL, IT1]|     [12, 430]|           3|        0|   16|      8|          4240|\n",
      "|   148455|  2016|      7|           27000000|      [CL, CIT, IT1]|          [12]|           3|        0|   15|      6|          3402|\n",
      "|   148455|  2017|      1|           30000000|  [CL, EL, IT1, CLQ]|          [12]|           3|        0|   18|     10|          3549|\n",
      "|   148455|  2017|      6|           35000000| [CIT, EL, IT1, CLQ]|          [12]|           2|        0|   19|     12|          3186|\n",
      "|   148455|  2017|     10|           40000000|[CL, CIT, EL, IT1...|      [12, 31]|           2|        0|   24|     14|          3646|\n",
      "|   148455|  2018|      1|           80000000|[CL, FAC, CIT, EL...|      [12, 31]|           0|        0|   36|     15|          4182|\n",
      "|   148455|  2018|      5|          150000000|[CL, FAC, IT1, CL...|      [12, 31]|           1|        0|   46|     16|          4435|\n",
      "|   148455|  2018|     12|          150000000|      [CL, FAC, GB1]|          [31]|           2|        0|   43|     19|          4683|\n",
      "|   148455|  2019|      6|          150000000|      [CL, FAC, GB1]|          [31]|           2|        0|   27|     12|          4339|\n",
      "|   148455|  2019|     12|          150000000|[CL, GBCS, FAC, G...|          [31]|           3|        0|   33|     15|          5106|\n",
      "|   148455|  2020|      4|          120000000|[CL, GBCS, FAC, G...|          [31]|           3|        0|   29|     12|          4306|\n",
      "|   148455|  2020|     10|          120000000|[CL, GBCS, FAC, G...|          [31]|           2|        0|   27|     10|          3952|\n",
      "|   148455|  2021|      3|          110000000|[CL, GBCS, FAC, GB1]|          [31]|           0|        0|   29|      8|          4059|\n",
      "|   148455|  2021|      6|          100000000|[CL, GBCS, FAC, GB1]|          [31]|           0|        0|   34|     10|          4755|\n",
      "|   148455|  2021|     12|          100000000|      [CL, FAC, GB1]|          [31]|           1|        0|   43|     14|          5161|\n",
      "|   148455|  2022|      6|           90000000|      [CL, FAC, GB1]|          [31]|           1|        0|   31|     16|          3894|\n",
      "|   148455|  2022|     11|           80000000|[CL, GBCS, FAC, GB1]|          [31]|           0|        0|   30|     14|          4528|\n",
      "|   148455|  2023|      3|           70000000|[CL, CGB, GBCS, F...|          [31]|           1|        0|   26|     16|          4578|\n",
      "+---------+------+-------+-------------------+--------------------+--------------+------------+---------+-----+-------+--------------+\n",
      "\n"
     ]
    }
   ],
   "source": [
    "#df_new.filter(df_new.player_id == 148455).show(100)\n",
    "df_result.filter(df_result.player_id == 148455).show(100)"
   ]
  },
  {
   "cell_type": "code",
   "execution_count": 40,
   "metadata": {},
   "outputs": [
    {
     "name": "stdout",
     "output_type": "stream",
     "text": [
      "23\n",
      "+----------+\n",
      "|sum(goals)|\n",
      "+----------+\n",
      "|       574|\n",
      "+----------+\n",
      "\n"
     ]
    }
   ],
   "source": [
    "#TEST (a questo punto il test non ha piu valore dal momento che si tiene conto per ogni valutazione quello che si è fatto l'anno precedente a year_v--month_v)\n",
    "print(df_result.filter(df_result.player_id == 148455).count())\n",
    "df_result.filter(df_result.player_id == 148455).agg(sum(col(\"goals\"))).show()"
   ]
  },
  {
   "cell_type": "code",
   "execution_count": 43,
   "metadata": {},
   "outputs": [
    {
     "name": "stdout",
     "output_type": "stream",
     "text": [
      "+---------+------+-------+-------------------+--------------------+--------------+------------+---------+-----+-------+--------------+-------------+---------------+-----------------+----------------------+----------------+-----------------+-------------+--------+------------+----+------------+---------------------------+----------+------------------------+------------------------------------+----------+-------------+-------------+--------------------+-----------+--------------------+\n",
      "|player_id|year_v|month_v|market_value_in_eur|      competition_id|player_club_id|yellow_cards|red_cards|goals|assists|minutes_played|         name|current_club_id|current_club_name|country_of_citizenship|country_of_birth|    city_of_birth|date_of_birth|position|sub_position|foot|height_in_cm|highest_market_value_in_eur|agent_name|contract_expiration_date|current_club_domestic_competition_id|first_name|    last_name|  player_code|           image_url|last_season|                 url|\n",
      "+---------+------+-------+-------------------+--------------------+--------------+------------+---------+-----+-------+--------------+-------------+---------------+-----------------+----------------------+----------------+-----------------+-------------+--------+------------+----+------------+---------------------------+----------+------------------------+------------------------------------+----------+-------------+-------------+--------------------+-----------+--------------------+\n",
      "|   148455|  2015|      2|           10000000|[CL, FAC, EL, IT1...|    [430, 631]|           1|        0|    3|      2|           488|Mohamed Salah|             31|     Fc Liverpool|                 Egypt|           Egypt|Nagrig, Basyoun  |   1992-06-15|  Attack|Right Winger|Left|         175|                      1.5E8|      null|              2025-06-30|                                 GB1|      null|Mohamed Salah|mohamed-salah|https://img.a.tra...|       2022|https://www.trans...|\n",
      "|   148455|  2015|      3|           12000000|[CL, FAC, CIT, EL...|    [430, 631]|           1|        0|    6|      3|           900|Mohamed Salah|             31|     Fc Liverpool|                 Egypt|           Egypt|Nagrig, Basyoun  |   1992-06-15|  Attack|Right Winger|Left|         175|                      1.5E8|      null|              2025-06-30|                                 GB1|      null|Mohamed Salah|mohamed-salah|https://img.a.tra...|       2022|https://www.trans...|\n",
      "|   148455|  2015|      7|           18000000|[CL, FAC, CIT, EL...|    [430, 631]|           1|        0|    9|      5|          1970|Mohamed Salah|             31|     Fc Liverpool|                 Egypt|           Egypt|Nagrig, Basyoun  |   1992-06-15|  Attack|Right Winger|Left|         175|                      1.5E8|      null|              2025-06-30|                                 GB1|      null|Mohamed Salah|mohamed-salah|https://img.a.tra...|       2022|https://www.trans...|\n",
      "|   148455|  2015|     11|           20000000|[CL, FAC, CIT, EL...|[12, 430, 631]|           3|        0|   15|      5|          3113|Mohamed Salah|             31|     Fc Liverpool|                 Egypt|           Egypt|Nagrig, Basyoun  |   1992-06-15|  Attack|Right Winger|Left|         175|                      1.5E8|      null|              2025-06-30|                                 GB1|      null|Mohamed Salah|mohamed-salah|https://img.a.tra...|       2022|https://www.trans...|\n",
      "|   148455|  2016|      1|           20000000|[CL, FAC, CIT, EL...|[12, 430, 631]|           3|        0|   15|      5|          3718|Mohamed Salah|             31|     Fc Liverpool|                 Egypt|           Egypt|Nagrig, Basyoun  |   1992-06-15|  Attack|Right Winger|Left|         175|                      1.5E8|      null|              2025-06-30|                                 GB1|      null|Mohamed Salah|mohamed-salah|https://img.a.tra...|       2022|https://www.trans...|\n",
      "|   148455|  2016|      4|           23000000|  [CL, CIT, EL, IT1]|     [12, 430]|           3|        0|   16|      8|          4240|Mohamed Salah|             31|     Fc Liverpool|                 Egypt|           Egypt|Nagrig, Basyoun  |   1992-06-15|  Attack|Right Winger|Left|         175|                      1.5E8|      null|              2025-06-30|                                 GB1|      null|Mohamed Salah|mohamed-salah|https://img.a.tra...|       2022|https://www.trans...|\n",
      "|   148455|  2016|      7|           27000000|      [CL, CIT, IT1]|          [12]|           3|        0|   15|      6|          3402|Mohamed Salah|             31|     Fc Liverpool|                 Egypt|           Egypt|Nagrig, Basyoun  |   1992-06-15|  Attack|Right Winger|Left|         175|                      1.5E8|      null|              2025-06-30|                                 GB1|      null|Mohamed Salah|mohamed-salah|https://img.a.tra...|       2022|https://www.trans...|\n",
      "|   148455|  2017|      1|           30000000|  [CL, EL, IT1, CLQ]|          [12]|           3|        0|   18|     10|          3549|Mohamed Salah|             31|     Fc Liverpool|                 Egypt|           Egypt|Nagrig, Basyoun  |   1992-06-15|  Attack|Right Winger|Left|         175|                      1.5E8|      null|              2025-06-30|                                 GB1|      null|Mohamed Salah|mohamed-salah|https://img.a.tra...|       2022|https://www.trans...|\n",
      "|   148455|  2017|      6|           35000000| [CIT, EL, IT1, CLQ]|          [12]|           2|        0|   19|     12|          3186|Mohamed Salah|             31|     Fc Liverpool|                 Egypt|           Egypt|Nagrig, Basyoun  |   1992-06-15|  Attack|Right Winger|Left|         175|                      1.5E8|      null|              2025-06-30|                                 GB1|      null|Mohamed Salah|mohamed-salah|https://img.a.tra...|       2022|https://www.trans...|\n",
      "|   148455|  2017|     10|           40000000|[CL, CIT, EL, IT1...|      [12, 31]|           2|        0|   24|     14|          3646|Mohamed Salah|             31|     Fc Liverpool|                 Egypt|           Egypt|Nagrig, Basyoun  |   1992-06-15|  Attack|Right Winger|Left|         175|                      1.5E8|      null|              2025-06-30|                                 GB1|      null|Mohamed Salah|mohamed-salah|https://img.a.tra...|       2022|https://www.trans...|\n",
      "|   148455|  2018|      1|           80000000|[CL, FAC, CIT, EL...|      [12, 31]|           0|        0|   36|     15|          4182|Mohamed Salah|             31|     Fc Liverpool|                 Egypt|           Egypt|Nagrig, Basyoun  |   1992-06-15|  Attack|Right Winger|Left|         175|                      1.5E8|      null|              2025-06-30|                                 GB1|      null|Mohamed Salah|mohamed-salah|https://img.a.tra...|       2022|https://www.trans...|\n",
      "|   148455|  2018|      5|          150000000|[CL, FAC, IT1, CL...|      [12, 31]|           1|        0|   46|     16|          4435|Mohamed Salah|             31|     Fc Liverpool|                 Egypt|           Egypt|Nagrig, Basyoun  |   1992-06-15|  Attack|Right Winger|Left|         175|                      1.5E8|      null|              2025-06-30|                                 GB1|      null|Mohamed Salah|mohamed-salah|https://img.a.tra...|       2022|https://www.trans...|\n",
      "|   148455|  2018|     12|          150000000|      [CL, FAC, GB1]|          [31]|           2|        0|   43|     19|          4683|Mohamed Salah|             31|     Fc Liverpool|                 Egypt|           Egypt|Nagrig, Basyoun  |   1992-06-15|  Attack|Right Winger|Left|         175|                      1.5E8|      null|              2025-06-30|                                 GB1|      null|Mohamed Salah|mohamed-salah|https://img.a.tra...|       2022|https://www.trans...|\n",
      "|   148455|  2019|      6|          150000000|      [CL, FAC, GB1]|          [31]|           2|        0|   27|     12|          4339|Mohamed Salah|             31|     Fc Liverpool|                 Egypt|           Egypt|Nagrig, Basyoun  |   1992-06-15|  Attack|Right Winger|Left|         175|                      1.5E8|      null|              2025-06-30|                                 GB1|      null|Mohamed Salah|mohamed-salah|https://img.a.tra...|       2022|https://www.trans...|\n",
      "|   148455|  2019|     12|          150000000|[CL, GBCS, FAC, G...|          [31]|           3|        0|   33|     15|          5106|Mohamed Salah|             31|     Fc Liverpool|                 Egypt|           Egypt|Nagrig, Basyoun  |   1992-06-15|  Attack|Right Winger|Left|         175|                      1.5E8|      null|              2025-06-30|                                 GB1|      null|Mohamed Salah|mohamed-salah|https://img.a.tra...|       2022|https://www.trans...|\n",
      "|   148455|  2020|      4|          120000000|[CL, GBCS, FAC, G...|          [31]|           3|        0|   29|     12|          4306|Mohamed Salah|             31|     Fc Liverpool|                 Egypt|           Egypt|Nagrig, Basyoun  |   1992-06-15|  Attack|Right Winger|Left|         175|                      1.5E8|      null|              2025-06-30|                                 GB1|      null|Mohamed Salah|mohamed-salah|https://img.a.tra...|       2022|https://www.trans...|\n",
      "|   148455|  2020|     10|          120000000|[CL, GBCS, FAC, G...|          [31]|           2|        0|   27|     10|          3952|Mohamed Salah|             31|     Fc Liverpool|                 Egypt|           Egypt|Nagrig, Basyoun  |   1992-06-15|  Attack|Right Winger|Left|         175|                      1.5E8|      null|              2025-06-30|                                 GB1|      null|Mohamed Salah|mohamed-salah|https://img.a.tra...|       2022|https://www.trans...|\n",
      "|   148455|  2021|      3|          110000000|[CL, GBCS, FAC, GB1]|          [31]|           0|        0|   29|      8|          4059|Mohamed Salah|             31|     Fc Liverpool|                 Egypt|           Egypt|Nagrig, Basyoun  |   1992-06-15|  Attack|Right Winger|Left|         175|                      1.5E8|      null|              2025-06-30|                                 GB1|      null|Mohamed Salah|mohamed-salah|https://img.a.tra...|       2022|https://www.trans...|\n",
      "|   148455|  2021|      6|          100000000|[CL, GBCS, FAC, GB1]|          [31]|           0|        0|   34|     10|          4755|Mohamed Salah|             31|     Fc Liverpool|                 Egypt|           Egypt|Nagrig, Basyoun  |   1992-06-15|  Attack|Right Winger|Left|         175|                      1.5E8|      null|              2025-06-30|                                 GB1|      null|Mohamed Salah|mohamed-salah|https://img.a.tra...|       2022|https://www.trans...|\n",
      "|   148455|  2021|     12|          100000000|      [CL, FAC, GB1]|          [31]|           1|        0|   43|     14|          5161|Mohamed Salah|             31|     Fc Liverpool|                 Egypt|           Egypt|Nagrig, Basyoun  |   1992-06-15|  Attack|Right Winger|Left|         175|                      1.5E8|      null|              2025-06-30|                                 GB1|      null|Mohamed Salah|mohamed-salah|https://img.a.tra...|       2022|https://www.trans...|\n",
      "|   148455|  2022|      6|           90000000|      [CL, FAC, GB1]|          [31]|           1|        0|   31|     16|          3894|Mohamed Salah|             31|     Fc Liverpool|                 Egypt|           Egypt|Nagrig, Basyoun  |   1992-06-15|  Attack|Right Winger|Left|         175|                      1.5E8|      null|              2025-06-30|                                 GB1|      null|Mohamed Salah|mohamed-salah|https://img.a.tra...|       2022|https://www.trans...|\n",
      "|   148455|  2022|     11|           80000000|[CL, GBCS, FAC, GB1]|          [31]|           0|        0|   30|     14|          4528|Mohamed Salah|             31|     Fc Liverpool|                 Egypt|           Egypt|Nagrig, Basyoun  |   1992-06-15|  Attack|Right Winger|Left|         175|                      1.5E8|      null|              2025-06-30|                                 GB1|      null|Mohamed Salah|mohamed-salah|https://img.a.tra...|       2022|https://www.trans...|\n",
      "|   148455|  2023|      3|           70000000|[CL, CGB, GBCS, F...|          [31]|           1|        0|   26|     16|          4578|Mohamed Salah|             31|     Fc Liverpool|                 Egypt|           Egypt|Nagrig, Basyoun  |   1992-06-15|  Attack|Right Winger|Left|         175|                      1.5E8|      null|              2025-06-30|                                 GB1|      null|Mohamed Salah|mohamed-salah|https://img.a.tra...|       2022|https://www.trans...|\n",
      "+---------+------+-------+-------------------+--------------------+--------------+------------+---------+-----+-------+--------------+-------------+---------------+-----------------+----------------------+----------------+-----------------+-------------+--------+------------+----+------------+---------------------------+----------+------------------------+------------------------------------+----------+-------------+-------------+--------------------+-----------+--------------------+\n",
      "\n"
     ]
    }
   ],
   "source": [
    "#unire df_result con df_players ma di df_players non voglio la colonna \"market_value_in_eur\"\n",
    "df_players = df_players.drop(\"market_value_in_eur\")\n",
    "df_stats = df_result.join(df_players, [\"player_id\"], \"inner\")\n",
    "df_stats.filter(df_stats.player_id == 148455).show(100)"
   ]
  },
  {
   "cell_type": "code",
   "execution_count": 44,
   "metadata": {},
   "outputs": [],
   "source": [
    "df_stats = df_stats.drop(\"current_club_id\", \"current_club_name\", \"city_of_birth\", \"contract_expiration_date\", \"agent_name\", \"current_club_domestic_competition_id\", \"image_url\", \"last_season\", \"url\", \"player_current_club_id\")"
   ]
  },
  {
   "cell_type": "code",
   "execution_count": 47,
   "metadata": {},
   "outputs": [],
   "source": [
    "df_stats = df_stats.drop(\"highest_market_value\", \"player_code\")"
   ]
  },
  {
   "cell_type": "code",
   "execution_count": 48,
   "metadata": {},
   "outputs": [
    {
     "name": "stdout",
     "output_type": "stream",
     "text": [
      "+---------+------+-------+-------------------+--------------------+--------------+------------+---------+-----+-------+--------------+-------------+----------------------+----------------+-------------+--------+------------+----+------------+---------------------------+----------+-------------+\n",
      "|player_id|year_v|month_v|market_value_in_eur|      competition_id|player_club_id|yellow_cards|red_cards|goals|assists|minutes_played|         name|country_of_citizenship|country_of_birth|date_of_birth|position|sub_position|foot|height_in_cm|highest_market_value_in_eur|first_name|    last_name|\n",
      "+---------+------+-------+-------------------+--------------------+--------------+------------+---------+-----+-------+--------------+-------------+----------------------+----------------+-------------+--------+------------+----+------------+---------------------------+----------+-------------+\n",
      "|   148455|  2015|      2|           10000000|[CL, FAC, EL, IT1...|    [430, 631]|           1|        0|    3|      2|           488|Mohamed Salah|                 Egypt|           Egypt|   1992-06-15|  Attack|Right Winger|Left|         175|                      1.5E8|      null|Mohamed Salah|\n",
      "|   148455|  2015|      3|           12000000|[CL, FAC, CIT, EL...|    [430, 631]|           1|        0|    6|      3|           900|Mohamed Salah|                 Egypt|           Egypt|   1992-06-15|  Attack|Right Winger|Left|         175|                      1.5E8|      null|Mohamed Salah|\n",
      "|   148455|  2015|      7|           18000000|[CL, FAC, CIT, EL...|    [430, 631]|           1|        0|    9|      5|          1970|Mohamed Salah|                 Egypt|           Egypt|   1992-06-15|  Attack|Right Winger|Left|         175|                      1.5E8|      null|Mohamed Salah|\n",
      "|   148455|  2015|     11|           20000000|[CL, FAC, CIT, EL...|[12, 430, 631]|           3|        0|   15|      5|          3113|Mohamed Salah|                 Egypt|           Egypt|   1992-06-15|  Attack|Right Winger|Left|         175|                      1.5E8|      null|Mohamed Salah|\n",
      "|   148455|  2016|      1|           20000000|[CL, FAC, CIT, EL...|[12, 430, 631]|           3|        0|   15|      5|          3718|Mohamed Salah|                 Egypt|           Egypt|   1992-06-15|  Attack|Right Winger|Left|         175|                      1.5E8|      null|Mohamed Salah|\n",
      "|   148455|  2016|      4|           23000000|  [CL, CIT, EL, IT1]|     [12, 430]|           3|        0|   16|      8|          4240|Mohamed Salah|                 Egypt|           Egypt|   1992-06-15|  Attack|Right Winger|Left|         175|                      1.5E8|      null|Mohamed Salah|\n",
      "|   148455|  2016|      7|           27000000|      [CL, CIT, IT1]|          [12]|           3|        0|   15|      6|          3402|Mohamed Salah|                 Egypt|           Egypt|   1992-06-15|  Attack|Right Winger|Left|         175|                      1.5E8|      null|Mohamed Salah|\n",
      "|   148455|  2017|      1|           30000000|  [CL, EL, IT1, CLQ]|          [12]|           3|        0|   18|     10|          3549|Mohamed Salah|                 Egypt|           Egypt|   1992-06-15|  Attack|Right Winger|Left|         175|                      1.5E8|      null|Mohamed Salah|\n",
      "|   148455|  2017|      6|           35000000| [CIT, EL, IT1, CLQ]|          [12]|           2|        0|   19|     12|          3186|Mohamed Salah|                 Egypt|           Egypt|   1992-06-15|  Attack|Right Winger|Left|         175|                      1.5E8|      null|Mohamed Salah|\n",
      "|   148455|  2017|     10|           40000000|[CL, CIT, EL, IT1...|      [12, 31]|           2|        0|   24|     14|          3646|Mohamed Salah|                 Egypt|           Egypt|   1992-06-15|  Attack|Right Winger|Left|         175|                      1.5E8|      null|Mohamed Salah|\n",
      "|   148455|  2018|      1|           80000000|[CL, FAC, CIT, EL...|      [12, 31]|           0|        0|   36|     15|          4182|Mohamed Salah|                 Egypt|           Egypt|   1992-06-15|  Attack|Right Winger|Left|         175|                      1.5E8|      null|Mohamed Salah|\n",
      "|   148455|  2018|      5|          150000000|[CL, FAC, IT1, CL...|      [12, 31]|           1|        0|   46|     16|          4435|Mohamed Salah|                 Egypt|           Egypt|   1992-06-15|  Attack|Right Winger|Left|         175|                      1.5E8|      null|Mohamed Salah|\n",
      "|   148455|  2018|     12|          150000000|      [CL, FAC, GB1]|          [31]|           2|        0|   43|     19|          4683|Mohamed Salah|                 Egypt|           Egypt|   1992-06-15|  Attack|Right Winger|Left|         175|                      1.5E8|      null|Mohamed Salah|\n",
      "|   148455|  2019|      6|          150000000|      [CL, FAC, GB1]|          [31]|           2|        0|   27|     12|          4339|Mohamed Salah|                 Egypt|           Egypt|   1992-06-15|  Attack|Right Winger|Left|         175|                      1.5E8|      null|Mohamed Salah|\n",
      "|   148455|  2019|     12|          150000000|[CL, GBCS, FAC, G...|          [31]|           3|        0|   33|     15|          5106|Mohamed Salah|                 Egypt|           Egypt|   1992-06-15|  Attack|Right Winger|Left|         175|                      1.5E8|      null|Mohamed Salah|\n",
      "|   148455|  2020|      4|          120000000|[CL, GBCS, FAC, G...|          [31]|           3|        0|   29|     12|          4306|Mohamed Salah|                 Egypt|           Egypt|   1992-06-15|  Attack|Right Winger|Left|         175|                      1.5E8|      null|Mohamed Salah|\n",
      "|   148455|  2020|     10|          120000000|[CL, GBCS, FAC, G...|          [31]|           2|        0|   27|     10|          3952|Mohamed Salah|                 Egypt|           Egypt|   1992-06-15|  Attack|Right Winger|Left|         175|                      1.5E8|      null|Mohamed Salah|\n",
      "|   148455|  2021|      3|          110000000|[CL, GBCS, FAC, GB1]|          [31]|           0|        0|   29|      8|          4059|Mohamed Salah|                 Egypt|           Egypt|   1992-06-15|  Attack|Right Winger|Left|         175|                      1.5E8|      null|Mohamed Salah|\n",
      "|   148455|  2021|      6|          100000000|[CL, GBCS, FAC, GB1]|          [31]|           0|        0|   34|     10|          4755|Mohamed Salah|                 Egypt|           Egypt|   1992-06-15|  Attack|Right Winger|Left|         175|                      1.5E8|      null|Mohamed Salah|\n",
      "|   148455|  2021|     12|          100000000|      [CL, FAC, GB1]|          [31]|           1|        0|   43|     14|          5161|Mohamed Salah|                 Egypt|           Egypt|   1992-06-15|  Attack|Right Winger|Left|         175|                      1.5E8|      null|Mohamed Salah|\n",
      "|   148455|  2022|      6|           90000000|      [CL, FAC, GB1]|          [31]|           1|        0|   31|     16|          3894|Mohamed Salah|                 Egypt|           Egypt|   1992-06-15|  Attack|Right Winger|Left|         175|                      1.5E8|      null|Mohamed Salah|\n",
      "|   148455|  2022|     11|           80000000|[CL, GBCS, FAC, GB1]|          [31]|           0|        0|   30|     14|          4528|Mohamed Salah|                 Egypt|           Egypt|   1992-06-15|  Attack|Right Winger|Left|         175|                      1.5E8|      null|Mohamed Salah|\n",
      "|   148455|  2023|      3|           70000000|[CL, CGB, GBCS, F...|          [31]|           1|        0|   26|     16|          4578|Mohamed Salah|                 Egypt|           Egypt|   1992-06-15|  Attack|Right Winger|Left|         175|                      1.5E8|      null|Mohamed Salah|\n",
      "+---------+------+-------+-------------------+--------------------+--------------+------------+---------+-----+-------+--------------+-------------+----------------------+----------------+-------------+--------+------------+----+------------+---------------------------+----------+-------------+\n",
      "\n"
     ]
    }
   ],
   "source": [
    "df_stats.filter(df_stats.player_id == 148455).show(100)"
   ]
  },
  {
   "cell_type": "code",
   "execution_count": 49,
   "metadata": {},
   "outputs": [
    {
     "name": "stdout",
     "output_type": "stream",
     "text": [
      "Number of rows:  141441\n"
     ]
    }
   ],
   "source": [
    "print(\"Number of rows: \", df_stats.count())"
   ]
  },
  {
   "cell_type": "code",
   "execution_count": 1,
   "metadata": {},
   "outputs": [],
   "source": [
    "# a df_stats aggiungere la colonna età (semplicemnte data di nascita - (year_v-month_v) ---> putroppo abbiamo perso il giorno della data della valutazione, per recuperarla si deve evitare di\n",
    "# perdere o scartare la colonna dateweek che è ancora presente nella tabella data in output nella cella 21 of 34 df_player_valutations_filtered)\n",
    "\n",
    "# a df_stats aggiungere la colonna partite_giocate che contiene il numero di partite giocate dalle sue squadre (player_club_id) in year;\n",
    "\n",
    "# a df_stats aggiungere la colonna punti_ottenuti che contiene il numero di punti ottenuti dalle sue squadre (player_club_id) in year; (3 punti per vittoria, 1 per pareggio, 0 per sconfitta)\n",
    "\n",
    "# a df_stats aggiungere la colonna media_punti che contiene la media dei punti ottenuti dalle sue squadre (player_club_id) in year; (ottenerla dalle colonne partite_giocate e punti_ottenuti)"
   ]
  }
 ],
 "metadata": {
  "kernelspec": {
   "display_name": "Python 3",
   "language": "python",
   "name": "python3"
  },
  "language_info": {
   "codemirror_mode": {
    "name": "ipython",
    "version": 3
   },
   "file_extension": ".py",
   "mimetype": "text/x-python",
   "name": "python",
   "nbconvert_exporter": "python",
   "pygments_lexer": "ipython3",
   "version": "3.10.9"
  },
  "orig_nbformat": 4
 },
 "nbformat": 4,
 "nbformat_minor": 2
}
