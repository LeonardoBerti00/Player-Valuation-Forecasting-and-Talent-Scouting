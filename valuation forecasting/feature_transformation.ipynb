{
 "cells": [
  {
   "cell_type": "markdown",
   "source": [
    "# Feature Transformation\n",
    "**In this file, we will do some transformation to rescale the features that have very different scales**"
   ],
   "metadata": {
    "collapsed": false
   }
  },
  {
   "cell_type": "code",
   "execution_count": 29,
   "outputs": [],
   "source": [
    "import numpy as np\n",
    "import pandas as pd\n",
    "from scipy.stats import zscore\n",
    "from sklearn.preprocessing import MinMaxScaler"
   ],
   "metadata": {
    "collapsed": false,
    "ExecuteTime": {
     "end_time": "2023-05-19T15:49:35.243217600Z",
     "start_time": "2023-05-19T15:49:35.241001800Z"
    }
   }
  },
  {
   "cell_type": "code",
   "execution_count": 1,
   "outputs": [
    {
     "data": {
      "text/plain": "'C:\\\\Users\\\\leona\\\\PycharmProjects\\\\BDC_project\\\\valuation forecasting'"
     },
     "execution_count": 1,
     "metadata": {},
     "output_type": "execute_result"
    }
   ],
   "source": [],
   "metadata": {
    "collapsed": false,
    "ExecuteTime": {
     "end_time": "2023-05-26T18:21:53.278507500Z",
     "start_time": "2023-05-26T18:21:53.274601100Z"
    }
   }
  },
  {
   "cell_type": "code",
   "execution_count": 31,
   "outputs": [],
   "source": [
    "import os\n",
    "os.chdir(\"..\")\n",
    "# open data.csv as pyspark dataframe\n",
    "df_pandas = pd.read_csv('dataset.csv')"
   ],
   "metadata": {
    "collapsed": false,
    "ExecuteTime": {
     "end_time": "2023-05-19T15:49:36.829615700Z",
     "start_time": "2023-05-19T15:49:36.565318Z"
    }
   }
  },
  {
   "cell_type": "markdown",
   "source": [
    "**Encoding**\n",
    "\n",
    "We have to execute the mapping for:\n",
    "- player_id (it will be divider for 100k)\n",
    "- date_c in timestamp\n",
    "- current_club_id\n",
    "- citizenship\n",
    "- position\n",
    "- sub_position\n",
    "- competitions_id\n",
    "- clubs_id"
   ],
   "metadata": {
    "collapsed": false
   }
  },
  {
   "cell_type": "code",
   "execution_count": 38,
   "outputs": [],
   "source": [
    "#drop useless features\n",
    "df_pandas = df_pandas.drop(\"name\", \"date_birth\", \"games_played_club\", \"games_won_club\", \"games_draw_club\", \"games_lost_club\")"
   ],
   "metadata": {
    "collapsed": false,
    "ExecuteTime": {
     "end_time": "2023-05-19T15:49:46.853052200Z",
     "start_time": "2023-05-19T15:49:46.847339900Z"
    }
   }
  },
  {
   "cell_type": "code",
   "execution_count": 48,
   "outputs": [],
   "source": [
    "df_pandas[\"date_v\"] = pd.to_datetime(df_pandas[\"date_v\"])\n",
    "\n",
    "#we map the categorical values in their indexes values to have numerical values\n",
    "df_pandas['position'] = df_pandas['position'].astype('category')\n",
    "df_pandas['position'] = df_pandas['position'].cat.codes\n",
    "\n",
    "df_pandas['sub_position'] = df_pandas['sub_position'].astype('category')\n",
    "df_pandas['sub_position'] = df_pandas['sub_position'].cat.codes\n",
    "\n",
    "df_pandas['citizenship'] = df_pandas['citizenship'].astype('category')\n",
    "df_pandas['citizenship'] = df_pandas['citizenship'].cat.codes\n",
    "\n",
    "df_pandas['current_club_id'] = df_pandas['current_club_id'].astype('category')\n",
    "df_pandas['current_club_id'] = df_pandas['current_club_id'].cat.codes\n",
    "\n",
    "df_pandas['competitions_id'] = df_pandas['competitions_id'].astype('category')\n",
    "df_pandas['competitions_id'] = df_pandas['competitions_id'].cat.codes\n",
    "\n",
    "df_pandas['clubs_id'] = df_pandas['clubs_id'].astype('category')\n",
    "df_pandas['clubs_id'] = df_pandas['clubs_id'].cat.codes"
   ],
   "metadata": {
    "collapsed": false,
    "ExecuteTime": {
     "end_time": "2023-05-19T15:55:35.685130200Z",
     "start_time": "2023-05-19T15:55:35.579737700Z"
    }
   }
  },
  {
   "cell_type": "code",
   "execution_count": 13,
   "outputs": [
    {
     "name": "stdout",
     "output_type": "stream",
     "text": [
      "<class 'pandas.core.frame.DataFrame'>\n",
      "RangeIndex: 135878 entries, 0 to 135877\n",
      "Data columns (total 21 columns):\n",
      " #   Column             Non-Null Count   Dtype         \n",
      "---  ------             --------------   -----         \n",
      " 0   player_id          135878 non-null  int32         \n",
      " 1   date_v             135878 non-null  datetime64[ns]\n",
      " 2   market_value       135878 non-null  int32         \n",
      " 3   age                135878 non-null  int32         \n",
      " 4   current_club_id    135878 non-null  int16         \n",
      " 5   height             135878 non-null  int32         \n",
      " 6   citizenship        135878 non-null  int16         \n",
      " 7   position           135878 non-null  int8          \n",
      " 8   sub_position       135878 non-null  int8          \n",
      " 9   assists            135878 non-null  int32         \n",
      " 10  goals              135878 non-null  int32         \n",
      " 11  minutes_played     135878 non-null  int32         \n",
      " 12  red_cards          135878 non-null  int32         \n",
      " 13  yellow_cards       135878 non-null  int32         \n",
      " 14  last_valuation     135878 non-null  int32         \n",
      " 15  appearances        135878 non-null  int32         \n",
      " 16  games_won_pl       135878 non-null  int32         \n",
      " 17  games_draw_pl      135878 non-null  int32         \n",
      " 18  games_lost_pl      135878 non-null  int32         \n",
      " 19  winning_rate_pl    135878 non-null  float64       \n",
      " 20  winning_rate_club  135878 non-null  float64       \n",
      "dtypes: datetime64[ns](1), float64(2), int16(2), int32(14), int8(2)\n",
      "memory usage: 11.1 MB\n"
     ]
    }
   ],
   "source": [
    "df_pandas.info()"
   ],
   "metadata": {
    "collapsed": false,
    "ExecuteTime": {
     "end_time": "2023-05-19T10:54:38.000934700Z",
     "start_time": "2023-05-19T10:54:37.989854Z"
    }
   }
  },
  {
   "cell_type": "markdown",
   "source": [
    "## Transformation\n",
    "We apply zscore to every column except for age, last_valuation, market_value and these to be encoded\n",
    "We apply min-max scaling to age because with zscore the values would be all Nan\n",
    "We rescale market_value (labels) and last_valuation through dividing to the maximum/2 (1e+8)"
   ],
   "metadata": {
    "collapsed": false
   }
  },
  {
   "cell_type": "code",
   "execution_count": 53,
   "outputs": [],
   "source": [
    "df_pandas['year_v'] = pd.to_datetime(df_pandas['date_v']).dt.year\n",
    "df_pandas['month_v'] = pd.to_datetime(df_pandas['date_v']).dt.month\n",
    "df_pandas['day_v'] = pd.to_datetime(df_pandas['date_v']).dt.day\n",
    "\n",
    "df_pandas = df_pandas.drop(\"date_v\", axis=1)"
   ],
   "metadata": {
    "collapsed": false,
    "ExecuteTime": {
     "end_time": "2023-05-19T15:57:10.451139600Z",
     "start_time": "2023-05-19T15:57:10.396988100Z"
    }
   }
  },
  {
   "cell_type": "code",
   "execution_count": 54,
   "outputs": [],
   "source": [
    "to_encoding = df_pandas[['citizenship', 'current_club_id', 'position', 'sub_position', 'competitions_id', 'clubs_id']]\n",
    "df_pandas = df_pandas.drop(['citizenship', 'current_club_id', 'position', 'sub_position', 'competitions_id', 'clubs_id'], axis=1)"
   ],
   "metadata": {
    "collapsed": false,
    "ExecuteTime": {
     "end_time": "2023-05-19T15:58:08.468799500Z",
     "start_time": "2023-05-19T15:58:08.464551200Z"
    }
   }
  },
  {
   "cell_type": "code",
   "execution_count": 55,
   "outputs": [
    {
     "name": "stdout",
     "output_type": "stream",
     "text": [
      "the scaling factor of market_valuea is: 10000000.0\n",
      "the scaling factor of last_valuations is: 10000000.0\n"
     ]
    }
   ],
   "source": [
    "#min-max scaling for age\n",
    "scaler = MinMaxScaler()\n",
    "age_minmax = scaler.fit_transform(df_pandas[['age']])\n",
    "\n",
    "#rescaling market_value\n",
    "scaling_factor_market_value = np.max(df_pandas['market_value'].to_numpy()) / 20\n",
    "print(\"the scaling factor of market_valuea is: {}\".format(scaling_factor_market_value))\n",
    "market_val_scaled = df_pandas['market_value'] / scaling_factor_market_value\n",
    "\n",
    "#rescaling\n",
    "scaling_factor_valuation = np.max(df_pandas['last_valuation'].to_numpy()) / 20\n",
    "print(\"the scaling factor of last_valuations is: {}\".format(scaling_factor_valuation))\n",
    "last_val_scaled = df_pandas['last_valuation'] / scaling_factor_valuation\n",
    "\n",
    "df_zscore = df_pandas.apply(zscore, axis=0)\n",
    "\n",
    "df_zscore['market_value'] = market_val_scaled\n",
    "df_zscore['age'] = age_minmax\n",
    "df_zscore['last_valuation'] = last_val_scaled"
   ],
   "metadata": {
    "collapsed": false,
    "ExecuteTime": {
     "end_time": "2023-05-19T15:58:12.754795400Z",
     "start_time": "2023-05-19T15:58:12.704077600Z"
    }
   }
  },
  {
   "cell_type": "code",
   "execution_count": 56,
   "outputs": [
    {
     "name": "stdout",
     "output_type": "stream",
     "text": [
      "<class 'pandas.core.frame.DataFrame'>\n",
      "RangeIndex: 135878 entries, 0 to 135877\n",
      "Data columns (total 19 columns):\n",
      " #   Column             Non-Null Count   Dtype  \n",
      "---  ------             --------------   -----  \n",
      " 0   player_id          135878 non-null  float64\n",
      " 1   market_value       135878 non-null  float64\n",
      " 2   age                135878 non-null  float64\n",
      " 3   height             135878 non-null  float64\n",
      " 4   assists            135878 non-null  float64\n",
      " 5   goals              135878 non-null  float64\n",
      " 6   minutes_played     135878 non-null  float64\n",
      " 7   red_cards          135878 non-null  float64\n",
      " 8   yellow_cards       135878 non-null  float64\n",
      " 9   last_valuation     135878 non-null  float64\n",
      " 10  appearances        135878 non-null  float64\n",
      " 11  games_won_pl       135878 non-null  float64\n",
      " 12  games_draw_pl      135878 non-null  float64\n",
      " 13  games_lost_pl      135878 non-null  float64\n",
      " 14  winning_rate_pl    135878 non-null  float64\n",
      " 15  winning_rate_club  135878 non-null  float64\n",
      " 16  year_v             135878 non-null  float64\n",
      " 17  month_v            135878 non-null  float64\n",
      " 18  day_v              135878 non-null  float64\n",
      "dtypes: float64(19)\n",
      "memory usage: 19.7 MB\n"
     ]
    }
   ],
   "source": [
    "df_zscore.info()"
   ],
   "metadata": {
    "collapsed": false,
    "ExecuteTime": {
     "end_time": "2023-05-19T15:58:15.099955Z",
     "start_time": "2023-05-19T15:58:15.091962100Z"
    }
   }
  },
  {
   "cell_type": "code",
   "execution_count": 57,
   "outputs": [],
   "source": [
    "df_zscore = pd.concat([df_zscore, to_encoding], axis=1)"
   ],
   "metadata": {
    "collapsed": false,
    "ExecuteTime": {
     "end_time": "2023-05-19T15:58:17.354792700Z",
     "start_time": "2023-05-19T15:58:17.349276300Z"
    }
   }
  },
  {
   "cell_type": "code",
   "execution_count": 58,
   "outputs": [],
   "source": [
    "#i wanto to save the dataframe\n",
    "df_zscore.to_csv(\"dataset_normalized.csv\", index=False)"
   ],
   "metadata": {
    "collapsed": false,
    "ExecuteTime": {
     "end_time": "2023-05-19T15:58:19.213060900Z",
     "start_time": "2023-05-19T15:58:17.643633400Z"
    }
   }
  }
 ],
 "metadata": {
  "kernelspec": {
   "display_name": "Python 3",
   "language": "python",
   "name": "python3"
  },
  "language_info": {
   "codemirror_mode": {
    "name": "ipython",
    "version": 2
   },
   "file_extension": ".py",
   "mimetype": "text/x-python",
   "name": "python",
   "nbconvert_exporter": "python",
   "pygments_lexer": "ipython2",
   "version": "2.7.6"
  }
 },
 "nbformat": 4,
 "nbformat_minor": 0
}
